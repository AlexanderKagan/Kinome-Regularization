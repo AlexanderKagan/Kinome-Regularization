{
 "cells": [
  {
   "cell_type": "code",
   "execution_count": 1,
   "id": "8d389a7d",
   "metadata": {},
   "outputs": [],
   "source": [
    "%load_ext autoreload\n",
    "%autoreload 2"
   ]
  },
  {
   "cell_type": "code",
   "execution_count": 2,
   "id": "ac0c5fc9",
   "metadata": {},
   "outputs": [],
   "source": [
    "import os\n",
    "os.chdir('/Users/zhenyamordan/PyCharmProjects/Kinome-Regularization/')"
   ]
  },
  {
   "cell_type": "code",
   "execution_count": 3,
   "id": "99f2ad4e",
   "metadata": {},
   "outputs": [],
   "source": [
    "import pandas as pd\n",
    "import numpy as np\n",
    "import plotly.express as px\n",
    "from scipy.optimize import curve_fit\n",
    "import plotly.graph_objects as go\n",
    "import subprocess"
   ]
  },
  {
   "cell_type": "markdown",
   "id": "34584f47",
   "metadata": {},
   "source": [
    "## Load data"
   ]
  },
  {
   "cell_type": "code",
   "execution_count": 4,
   "id": "97abe40d",
   "metadata": {},
   "outputs": [
    {
     "name": "stdout",
     "output_type": "stream",
     "text": [
      "KIR3KinaseCategories.xlsx         good_doses_mask.csv\r\n",
      "drug_phenotype_data.csv           kinase_data.csv\r\n",
      "final_mask_1_point_on_plateau.csv y_plateau_preprocessed.csv\r\n"
     ]
    }
   ],
   "source": [
    "!ls ./fof/data/data_06_10_23"
   ]
  },
  {
   "cell_type": "code",
   "execution_count": 5,
   "id": "5165c0a1",
   "metadata": {},
   "outputs": [],
   "source": [
    "y = pd.read_csv('./fof/data/data_06_10_23/drug_phenotype_data.csv')"
   ]
  },
  {
   "cell_type": "code",
   "execution_count": 6,
   "id": "77ea48e3",
   "metadata": {},
   "outputs": [],
   "source": [
    "X = pd.read_csv('./fof/data/data_06_10_23/kinase_data.csv')"
   ]
  },
  {
   "cell_type": "code",
   "execution_count": 7,
   "id": "1bd25c91",
   "metadata": {},
   "outputs": [],
   "source": [
    "data = pd.merge(y, X, left_index=True, right_index=True)"
   ]
  },
  {
   "cell_type": "code",
   "execution_count": 8,
   "id": "8829e4ca",
   "metadata": {
    "scrolled": true
   },
   "outputs": [
    {
     "data": {
      "text/html": [
       "<div>\n",
       "<style scoped>\n",
       "    .dataframe tbody tr th:only-of-type {\n",
       "        vertical-align: middle;\n",
       "    }\n",
       "\n",
       "    .dataframe tbody tr th {\n",
       "        vertical-align: top;\n",
       "    }\n",
       "\n",
       "    .dataframe thead th {\n",
       "        text-align: right;\n",
       "    }\n",
       "</style>\n",
       "<table border=\"1\" class=\"dataframe\">\n",
       "  <thead>\n",
       "    <tr style=\"text-align: right;\">\n",
       "      <th></th>\n",
       "      <th>drugNames</th>\n",
       "      <th>Raw Y (closest to 70)</th>\n",
       "      <th>Raw Y (interpolation to 70)</th>\n",
       "      <th>dose (label)</th>\n",
       "      <th>dose (uM)</th>\n",
       "      <th>drugShortNames</th>\n",
       "      <th>realNames</th>\n",
       "      <th>AKT1</th>\n",
       "      <th>AKT2</th>\n",
       "      <th>AKT3</th>\n",
       "      <th>...</th>\n",
       "      <th>TESK2</th>\n",
       "      <th>TNIK</th>\n",
       "      <th>TNK1</th>\n",
       "      <th>TRKB</th>\n",
       "      <th>TRKC</th>\n",
       "      <th>TXK</th>\n",
       "      <th>TYK1_LTK</th>\n",
       "      <th>TYRO3_SKY</th>\n",
       "      <th>ULK1</th>\n",
       "      <th>YES_YES1</th>\n",
       "    </tr>\n",
       "  </thead>\n",
       "  <tbody>\n",
       "    <tr>\n",
       "      <th>0</th>\n",
       "      <td>NCGC00344999_A1</td>\n",
       "      <td>27.000000</td>\n",
       "      <td>27.654545</td>\n",
       "      <td>3</td>\n",
       "      <td>1.11</td>\n",
       "      <td>A1</td>\n",
       "      <td>NCGC00344999</td>\n",
       "      <td>0.825562</td>\n",
       "      <td>0.958012</td>\n",
       "      <td>0.929195</td>\n",
       "      <td>...</td>\n",
       "      <td>0.854304</td>\n",
       "      <td>0.027721</td>\n",
       "      <td>0.302221</td>\n",
       "      <td>0.000411</td>\n",
       "      <td>0.000200</td>\n",
       "      <td>0.025107</td>\n",
       "      <td>0.343913</td>\n",
       "      <td>0.228633</td>\n",
       "      <td>0.273383</td>\n",
       "      <td>0.001528</td>\n",
       "    </tr>\n",
       "    <tr>\n",
       "      <th>1</th>\n",
       "      <td>NCGC00344999_A1</td>\n",
       "      <td>50.433333</td>\n",
       "      <td>52.624242</td>\n",
       "      <td>4</td>\n",
       "      <td>0.37</td>\n",
       "      <td>A1</td>\n",
       "      <td>NCGC00344999</td>\n",
       "      <td>0.877345</td>\n",
       "      <td>0.984761</td>\n",
       "      <td>0.979264</td>\n",
       "      <td>...</td>\n",
       "      <td>0.952670</td>\n",
       "      <td>0.068760</td>\n",
       "      <td>0.577477</td>\n",
       "      <td>0.000973</td>\n",
       "      <td>0.000201</td>\n",
       "      <td>0.064854</td>\n",
       "      <td>0.566269</td>\n",
       "      <td>0.428022</td>\n",
       "      <td>0.534281</td>\n",
       "      <td>0.004563</td>\n",
       "    </tr>\n",
       "    <tr>\n",
       "      <th>2</th>\n",
       "      <td>NCGC00344999_A1</td>\n",
       "      <td>76.533333</td>\n",
       "      <td>78.551515</td>\n",
       "      <td>5</td>\n",
       "      <td>0.12</td>\n",
       "      <td>A1</td>\n",
       "      <td>NCGC00344999</td>\n",
       "      <td>0.915214</td>\n",
       "      <td>0.994564</td>\n",
       "      <td>0.994147</td>\n",
       "      <td>...</td>\n",
       "      <td>0.985187</td>\n",
       "      <td>0.160831</td>\n",
       "      <td>0.811382</td>\n",
       "      <td>0.003018</td>\n",
       "      <td>0.000210</td>\n",
       "      <td>0.157508</td>\n",
       "      <td>0.764517</td>\n",
       "      <td>0.653849</td>\n",
       "      <td>0.777644</td>\n",
       "      <td>0.014427</td>\n",
       "    </tr>\n",
       "    <tr>\n",
       "      <th>3</th>\n",
       "      <td>NCGC00344999_A1</td>\n",
       "      <td>73.566667</td>\n",
       "      <td>75.393939</td>\n",
       "      <td>6</td>\n",
       "      <td>0.04</td>\n",
       "      <td>A1</td>\n",
       "      <td>NCGC00344999</td>\n",
       "      <td>0.942042</td>\n",
       "      <td>0.998072</td>\n",
       "      <td>0.998365</td>\n",
       "      <td>...</td>\n",
       "      <td>0.994927</td>\n",
       "      <td>0.332354</td>\n",
       "      <td>0.930753</td>\n",
       "      <td>0.010412</td>\n",
       "      <td>0.000296</td>\n",
       "      <td>0.335096</td>\n",
       "      <td>0.889445</td>\n",
       "      <td>0.826574</td>\n",
       "      <td>0.914221</td>\n",
       "      <td>0.045557</td>\n",
       "    </tr>\n",
       "    <tr>\n",
       "      <th>4</th>\n",
       "      <td>NCGC00344999_A1</td>\n",
       "      <td>75.866667</td>\n",
       "      <td>77.103030</td>\n",
       "      <td>7</td>\n",
       "      <td>0.01</td>\n",
       "      <td>A1</td>\n",
       "      <td>NCGC00344999</td>\n",
       "      <td>0.960575</td>\n",
       "      <td>0.999315</td>\n",
       "      <td>0.999543</td>\n",
       "      <td>...</td>\n",
       "      <td>0.997752</td>\n",
       "      <td>0.563155</td>\n",
       "      <td>0.976166</td>\n",
       "      <td>0.036337</td>\n",
       "      <td>0.001109</td>\n",
       "      <td>0.575069</td>\n",
       "      <td>0.951738</td>\n",
       "      <td>0.922977</td>\n",
       "      <td>0.970018</td>\n",
       "      <td>0.134958</td>\n",
       "    </tr>\n",
       "    <tr>\n",
       "      <th>...</th>\n",
       "      <td>...</td>\n",
       "      <td>...</td>\n",
       "      <td>...</td>\n",
       "      <td>...</td>\n",
       "      <td>...</td>\n",
       "      <td>...</td>\n",
       "      <td>...</td>\n",
       "      <td>...</td>\n",
       "      <td>...</td>\n",
       "      <td>...</td>\n",
       "      <td>...</td>\n",
       "      <td>...</td>\n",
       "      <td>...</td>\n",
       "      <td>...</td>\n",
       "      <td>...</td>\n",
       "      <td>...</td>\n",
       "      <td>...</td>\n",
       "      <td>...</td>\n",
       "      <td>...</td>\n",
       "      <td>...</td>\n",
       "      <td>...</td>\n",
       "    </tr>\n",
       "    <tr>\n",
       "      <th>402</th>\n",
       "      <td>NCGC00346549_H7</td>\n",
       "      <td>20.460000</td>\n",
       "      <td>19.076551</td>\n",
       "      <td>1</td>\n",
       "      <td>10.00</td>\n",
       "      <td>H7</td>\n",
       "      <td>AT-7867</td>\n",
       "      <td>0.004845</td>\n",
       "      <td>0.043636</td>\n",
       "      <td>0.005906</td>\n",
       "      <td>...</td>\n",
       "      <td>0.919266</td>\n",
       "      <td>0.568308</td>\n",
       "      <td>0.144326</td>\n",
       "      <td>0.481946</td>\n",
       "      <td>0.159750</td>\n",
       "      <td>0.978787</td>\n",
       "      <td>0.627206</td>\n",
       "      <td>0.565679</td>\n",
       "      <td>1.000000</td>\n",
       "      <td>0.749658</td>\n",
       "    </tr>\n",
       "    <tr>\n",
       "      <th>403</th>\n",
       "      <td>NCGC00346549_H7</td>\n",
       "      <td>40.060000</td>\n",
       "      <td>38.445977</td>\n",
       "      <td>2</td>\n",
       "      <td>3.30</td>\n",
       "      <td>H7</td>\n",
       "      <td>AT-7867</td>\n",
       "      <td>0.013398</td>\n",
       "      <td>0.107004</td>\n",
       "      <td>0.016757</td>\n",
       "      <td>...</td>\n",
       "      <td>0.952849</td>\n",
       "      <td>0.789877</td>\n",
       "      <td>0.344824</td>\n",
       "      <td>0.688925</td>\n",
       "      <td>0.386833</td>\n",
       "      <td>0.999763</td>\n",
       "      <td>0.734279</td>\n",
       "      <td>0.813559</td>\n",
       "      <td>1.000000</td>\n",
       "      <td>0.909249</td>\n",
       "    </tr>\n",
       "    <tr>\n",
       "      <th>404</th>\n",
       "      <td>NCGC00346549_H7</td>\n",
       "      <td>96.820000</td>\n",
       "      <td>93.884014</td>\n",
       "      <td>5</td>\n",
       "      <td>0.12</td>\n",
       "      <td>H7</td>\n",
       "      <td>AT-7867</td>\n",
       "      <td>0.239343</td>\n",
       "      <td>0.684571</td>\n",
       "      <td>0.298176</td>\n",
       "      <td>...</td>\n",
       "      <td>0.990581</td>\n",
       "      <td>0.987751</td>\n",
       "      <td>0.941170</td>\n",
       "      <td>0.966763</td>\n",
       "      <td>0.958432</td>\n",
       "      <td>1.000000</td>\n",
       "      <td>0.923971</td>\n",
       "      <td>0.992938</td>\n",
       "      <td>1.000000</td>\n",
       "      <td>0.996335</td>\n",
       "    </tr>\n",
       "    <tr>\n",
       "      <th>405</th>\n",
       "      <td>NCGC00346549_H7</td>\n",
       "      <td>90.820000</td>\n",
       "      <td>89.774728</td>\n",
       "      <td>6</td>\n",
       "      <td>0.04</td>\n",
       "      <td>H7</td>\n",
       "      <td>AT-7867</td>\n",
       "      <td>0.473748</td>\n",
       "      <td>0.850279</td>\n",
       "      <td>0.554458</td>\n",
       "      <td>...</td>\n",
       "      <td>0.994239</td>\n",
       "      <td>0.994974</td>\n",
       "      <td>0.980351</td>\n",
       "      <td>0.985151</td>\n",
       "      <td>0.987090</td>\n",
       "      <td>1.000000</td>\n",
       "      <td>0.951929</td>\n",
       "      <td>0.997117</td>\n",
       "      <td>1.000000</td>\n",
       "      <td>0.998138</td>\n",
       "    </tr>\n",
       "    <tr>\n",
       "      <th>406</th>\n",
       "      <td>NCGC00346549_H7</td>\n",
       "      <td>74.256667</td>\n",
       "      <td>70.000000</td>\n",
       "      <td>11</td>\n",
       "      <td>0.00</td>\n",
       "      <td>H7</td>\n",
       "      <td>AT-7867</td>\n",
       "      <td>1.000000</td>\n",
       "      <td>1.000000</td>\n",
       "      <td>1.000000</td>\n",
       "      <td>...</td>\n",
       "      <td>1.000000</td>\n",
       "      <td>1.000000</td>\n",
       "      <td>1.000000</td>\n",
       "      <td>1.000000</td>\n",
       "      <td>1.000000</td>\n",
       "      <td>1.000000</td>\n",
       "      <td>1.000000</td>\n",
       "      <td>1.000000</td>\n",
       "      <td>1.000000</td>\n",
       "      <td>1.000000</td>\n",
       "    </tr>\n",
       "  </tbody>\n",
       "</table>\n",
       "<p>407 rows × 376 columns</p>\n",
       "</div>"
      ],
      "text/plain": [
       "           drugNames  Raw Y (closest to 70)  Raw Y (interpolation to 70)  \\\n",
       "0    NCGC00344999_A1              27.000000                    27.654545   \n",
       "1    NCGC00344999_A1              50.433333                    52.624242   \n",
       "2    NCGC00344999_A1              76.533333                    78.551515   \n",
       "3    NCGC00344999_A1              73.566667                    75.393939   \n",
       "4    NCGC00344999_A1              75.866667                    77.103030   \n",
       "..               ...                    ...                          ...   \n",
       "402  NCGC00346549_H7              20.460000                    19.076551   \n",
       "403  NCGC00346549_H7              40.060000                    38.445977   \n",
       "404  NCGC00346549_H7              96.820000                    93.884014   \n",
       "405  NCGC00346549_H7              90.820000                    89.774728   \n",
       "406  NCGC00346549_H7              74.256667                    70.000000   \n",
       "\n",
       "     dose (label)  dose (uM) drugShortNames     realNames      AKT1      AKT2  \\\n",
       "0               3       1.11             A1  NCGC00344999  0.825562  0.958012   \n",
       "1               4       0.37             A1  NCGC00344999  0.877345  0.984761   \n",
       "2               5       0.12             A1  NCGC00344999  0.915214  0.994564   \n",
       "3               6       0.04             A1  NCGC00344999  0.942042  0.998072   \n",
       "4               7       0.01             A1  NCGC00344999  0.960575  0.999315   \n",
       "..            ...        ...            ...           ...       ...       ...   \n",
       "402             1      10.00             H7       AT-7867  0.004845  0.043636   \n",
       "403             2       3.30             H7       AT-7867  0.013398  0.107004   \n",
       "404             5       0.12             H7       AT-7867  0.239343  0.684571   \n",
       "405             6       0.04             H7       AT-7867  0.473748  0.850279   \n",
       "406            11       0.00             H7       AT-7867  1.000000  1.000000   \n",
       "\n",
       "         AKT3  ...     TESK2      TNIK      TNK1      TRKB      TRKC  \\\n",
       "0    0.929195  ...  0.854304  0.027721  0.302221  0.000411  0.000200   \n",
       "1    0.979264  ...  0.952670  0.068760  0.577477  0.000973  0.000201   \n",
       "2    0.994147  ...  0.985187  0.160831  0.811382  0.003018  0.000210   \n",
       "3    0.998365  ...  0.994927  0.332354  0.930753  0.010412  0.000296   \n",
       "4    0.999543  ...  0.997752  0.563155  0.976166  0.036337  0.001109   \n",
       "..        ...  ...       ...       ...       ...       ...       ...   \n",
       "402  0.005906  ...  0.919266  0.568308  0.144326  0.481946  0.159750   \n",
       "403  0.016757  ...  0.952849  0.789877  0.344824  0.688925  0.386833   \n",
       "404  0.298176  ...  0.990581  0.987751  0.941170  0.966763  0.958432   \n",
       "405  0.554458  ...  0.994239  0.994974  0.980351  0.985151  0.987090   \n",
       "406  1.000000  ...  1.000000  1.000000  1.000000  1.000000  1.000000   \n",
       "\n",
       "          TXK  TYK1_LTK  TYRO3_SKY      ULK1  YES_YES1  \n",
       "0    0.025107  0.343913   0.228633  0.273383  0.001528  \n",
       "1    0.064854  0.566269   0.428022  0.534281  0.004563  \n",
       "2    0.157508  0.764517   0.653849  0.777644  0.014427  \n",
       "3    0.335096  0.889445   0.826574  0.914221  0.045557  \n",
       "4    0.575069  0.951738   0.922977  0.970018  0.134958  \n",
       "..        ...       ...        ...       ...       ...  \n",
       "402  0.978787  0.627206   0.565679  1.000000  0.749658  \n",
       "403  0.999763  0.734279   0.813559  1.000000  0.909249  \n",
       "404  1.000000  0.923971   0.992938  1.000000  0.996335  \n",
       "405  1.000000  0.951929   0.997117  1.000000  0.998138  \n",
       "406  1.000000  1.000000   1.000000  1.000000  1.000000  \n",
       "\n",
       "[407 rows x 376 columns]"
      ]
     },
     "execution_count": 8,
     "metadata": {},
     "output_type": "execute_result"
    }
   ],
   "source": [
    "data"
   ]
  },
  {
   "cell_type": "code",
   "execution_count": 9,
   "id": "d7560943",
   "metadata": {},
   "outputs": [],
   "source": [
    "mask = pd.read_csv('./fof/data/good_doses_mask.csv')"
   ]
  },
  {
   "cell_type": "code",
   "execution_count": 10,
   "id": "b0665c0d",
   "metadata": {},
   "outputs": [],
   "source": [
    "data = data[mask['if_used_in_final']].reset_index(drop=True)"
   ]
  },
  {
   "cell_type": "code",
   "execution_count": 11,
   "id": "92ecc337",
   "metadata": {},
   "outputs": [
    {
     "data": {
      "text/plain": [
       "(347, 376)"
      ]
     },
     "execution_count": 11,
     "metadata": {},
     "output_type": "execute_result"
    }
   ],
   "source": [
    "data.shape"
   ]
  },
  {
   "cell_type": "markdown",
   "id": "5351ddcd",
   "metadata": {},
   "source": [
    "## Fit sigmoid"
   ]
  },
  {
   "cell_type": "code",
   "execution_count": 12,
   "id": "91e36386",
   "metadata": {},
   "outputs": [],
   "source": [
    "def sigmoid(x, L ,x0, k, b):\n",
    "    y = L / (1 + np.exp(-k*(x-x0))) + b\n",
    "    return (y)"
   ]
  },
  {
   "cell_type": "code",
   "execution_count": 13,
   "id": "b9c9fb4a",
   "metadata": {},
   "outputs": [],
   "source": [
    "def plot_sigmoid(x, y, resolution, x_column, y_column, drug):\n",
    "    fig = go.Figure()\n",
    "    \n",
    "    fig.add_trace(go.Scatter(\n",
    "        x=x, \n",
    "        y=y,\n",
    "        name='Real data',\n",
    "        mode='markers',\n",
    "        marker_color='rgba(152, 0, 0, .8)'\n",
    "    ))\n",
    "    \n",
    "    p0 = [max(y), np.median(x),1,min(y)]\n",
    "    \n",
    "    fig.update_layout(\n",
    "        title=f\"{x_column} vs {y_column} for {drug}\",\n",
    "        xaxis_title=x_column,\n",
    "        yaxis_title=y_column\n",
    "    )\n",
    "    \n",
    "    try:\n",
    "        params, covariance = curve_fit(sigmoid, x, y, p0=p0, method='dogbox')\n",
    "        delta = (x.max()-x.min())/resolution\n",
    "        x_new = np.arange(x.min(), x.max() + delta / 2, delta)  # New x values for extrapolation\n",
    "        y_new = sigmoid(x_new, *params)\n",
    "        line = px.line(x=x_new, y=y_new)\n",
    "        \n",
    "        fig.add_trace(go.Scatter(\n",
    "            x=x_new, \n",
    "            y=y_new,\n",
    "            name='Fitted Sigmoid',\n",
    "            mode='lines',\n",
    "            marker_color='blue'\n",
    "        ))\n",
    "    except RuntimeError as e:\n",
    "        print(f'Can not fit sigmoid')\n",
    "\n",
    "    fig.show()\n",
    "    \n",
    "def plot_kinase_sigmoid(data, drug, x_column, y_columns, z_column, resolution = 100):\n",
    "    x = data[data['drugNames'] == drug][x_column].to_numpy()\n",
    "    z = data[data['drugNames'] == drug][z_column].to_numpy()\n",
    "    for y_column in y_columns:\n",
    "        y = data[data['drugNames'] == drug][y_column].to_numpy()\n",
    "        plot_sigmoid(x, y, resolution, x_column, y_column, drug)\n",
    "    plot_sigmoid(x, z, resolution, x_column, z_column, drug)\n",
    "    \n",
    "    "
   ]
  },
  {
   "cell_type": "code",
   "execution_count": 14,
   "id": "7013733c",
   "metadata": {},
   "outputs": [
    {
     "name": "stdout",
     "output_type": "stream",
     "text": [
      "['AKT1' 'AKT2' 'AKT3' 'ALK1_ACVRL1' 'ALK2_ACVR1']\n",
      "['NCGC00344999_A1' 'NCGC00241102_E1' 'NCGC00249389_H1' 'NCGC00345784_C2'\n",
      " 'NCGC00346673_G2']\n"
     ]
    }
   ],
   "source": [
    "kinases = data.columns[7:].to_numpy()\n",
    "print(kinases[:5])\n",
    "drugs = data['drugNames'].unique()\n",
    "print(drugs[:5])"
   ]
  },
  {
   "cell_type": "code",
   "execution_count": 18,
   "id": "d3aca5c9",
   "metadata": {
    "scrolled": false
   },
   "outputs": [
    {
     "name": "stdout",
     "output_type": "stream",
     "text": [
      "Can not fit sigmoid\n"
     ]
    },
    {
     "data": {
      "application/vnd.plotly.v1+json": {
       "config": {
        "plotlyServerURL": "https://plot.ly"
       },
       "data": [
        {
         "marker": {
          "color": "rgba(152, 0, 0, .8)"
         },
         "mode": "markers",
         "name": "Real data",
         "type": "scatter",
         "x": [
          10,
          3.3,
          1.11,
          0.37,
          0.12,
          0.04,
          0.01,
          0
         ],
         "y": [
          0.998725353635501,
          0.99889204263514,
          0.998900829349515,
          0.998901292611113,
          0.998901317054507,
          0.998901318345792,
          0.998901318414046,
          1
         ]
        }
       ],
       "layout": {
        "template": {
         "data": {
          "bar": [
           {
            "error_x": {
             "color": "#2a3f5f"
            },
            "error_y": {
             "color": "#2a3f5f"
            },
            "marker": {
             "line": {
              "color": "#E5ECF6",
              "width": 0.5
             },
             "pattern": {
              "fillmode": "overlay",
              "size": 10,
              "solidity": 0.2
             }
            },
            "type": "bar"
           }
          ],
          "barpolar": [
           {
            "marker": {
             "line": {
              "color": "#E5ECF6",
              "width": 0.5
             },
             "pattern": {
              "fillmode": "overlay",
              "size": 10,
              "solidity": 0.2
             }
            },
            "type": "barpolar"
           }
          ],
          "carpet": [
           {
            "aaxis": {
             "endlinecolor": "#2a3f5f",
             "gridcolor": "white",
             "linecolor": "white",
             "minorgridcolor": "white",
             "startlinecolor": "#2a3f5f"
            },
            "baxis": {
             "endlinecolor": "#2a3f5f",
             "gridcolor": "white",
             "linecolor": "white",
             "minorgridcolor": "white",
             "startlinecolor": "#2a3f5f"
            },
            "type": "carpet"
           }
          ],
          "choropleth": [
           {
            "colorbar": {
             "outlinewidth": 0,
             "ticks": ""
            },
            "type": "choropleth"
           }
          ],
          "contour": [
           {
            "colorbar": {
             "outlinewidth": 0,
             "ticks": ""
            },
            "colorscale": [
             [
              0,
              "#0d0887"
             ],
             [
              0.1111111111111111,
              "#46039f"
             ],
             [
              0.2222222222222222,
              "#7201a8"
             ],
             [
              0.3333333333333333,
              "#9c179e"
             ],
             [
              0.4444444444444444,
              "#bd3786"
             ],
             [
              0.5555555555555556,
              "#d8576b"
             ],
             [
              0.6666666666666666,
              "#ed7953"
             ],
             [
              0.7777777777777778,
              "#fb9f3a"
             ],
             [
              0.8888888888888888,
              "#fdca26"
             ],
             [
              1,
              "#f0f921"
             ]
            ],
            "type": "contour"
           }
          ],
          "contourcarpet": [
           {
            "colorbar": {
             "outlinewidth": 0,
             "ticks": ""
            },
            "type": "contourcarpet"
           }
          ],
          "heatmap": [
           {
            "colorbar": {
             "outlinewidth": 0,
             "ticks": ""
            },
            "colorscale": [
             [
              0,
              "#0d0887"
             ],
             [
              0.1111111111111111,
              "#46039f"
             ],
             [
              0.2222222222222222,
              "#7201a8"
             ],
             [
              0.3333333333333333,
              "#9c179e"
             ],
             [
              0.4444444444444444,
              "#bd3786"
             ],
             [
              0.5555555555555556,
              "#d8576b"
             ],
             [
              0.6666666666666666,
              "#ed7953"
             ],
             [
              0.7777777777777778,
              "#fb9f3a"
             ],
             [
              0.8888888888888888,
              "#fdca26"
             ],
             [
              1,
              "#f0f921"
             ]
            ],
            "type": "heatmap"
           }
          ],
          "heatmapgl": [
           {
            "colorbar": {
             "outlinewidth": 0,
             "ticks": ""
            },
            "colorscale": [
             [
              0,
              "#0d0887"
             ],
             [
              0.1111111111111111,
              "#46039f"
             ],
             [
              0.2222222222222222,
              "#7201a8"
             ],
             [
              0.3333333333333333,
              "#9c179e"
             ],
             [
              0.4444444444444444,
              "#bd3786"
             ],
             [
              0.5555555555555556,
              "#d8576b"
             ],
             [
              0.6666666666666666,
              "#ed7953"
             ],
             [
              0.7777777777777778,
              "#fb9f3a"
             ],
             [
              0.8888888888888888,
              "#fdca26"
             ],
             [
              1,
              "#f0f921"
             ]
            ],
            "type": "heatmapgl"
           }
          ],
          "histogram": [
           {
            "marker": {
             "pattern": {
              "fillmode": "overlay",
              "size": 10,
              "solidity": 0.2
             }
            },
            "type": "histogram"
           }
          ],
          "histogram2d": [
           {
            "colorbar": {
             "outlinewidth": 0,
             "ticks": ""
            },
            "colorscale": [
             [
              0,
              "#0d0887"
             ],
             [
              0.1111111111111111,
              "#46039f"
             ],
             [
              0.2222222222222222,
              "#7201a8"
             ],
             [
              0.3333333333333333,
              "#9c179e"
             ],
             [
              0.4444444444444444,
              "#bd3786"
             ],
             [
              0.5555555555555556,
              "#d8576b"
             ],
             [
              0.6666666666666666,
              "#ed7953"
             ],
             [
              0.7777777777777778,
              "#fb9f3a"
             ],
             [
              0.8888888888888888,
              "#fdca26"
             ],
             [
              1,
              "#f0f921"
             ]
            ],
            "type": "histogram2d"
           }
          ],
          "histogram2dcontour": [
           {
            "colorbar": {
             "outlinewidth": 0,
             "ticks": ""
            },
            "colorscale": [
             [
              0,
              "#0d0887"
             ],
             [
              0.1111111111111111,
              "#46039f"
             ],
             [
              0.2222222222222222,
              "#7201a8"
             ],
             [
              0.3333333333333333,
              "#9c179e"
             ],
             [
              0.4444444444444444,
              "#bd3786"
             ],
             [
              0.5555555555555556,
              "#d8576b"
             ],
             [
              0.6666666666666666,
              "#ed7953"
             ],
             [
              0.7777777777777778,
              "#fb9f3a"
             ],
             [
              0.8888888888888888,
              "#fdca26"
             ],
             [
              1,
              "#f0f921"
             ]
            ],
            "type": "histogram2dcontour"
           }
          ],
          "mesh3d": [
           {
            "colorbar": {
             "outlinewidth": 0,
             "ticks": ""
            },
            "type": "mesh3d"
           }
          ],
          "parcoords": [
           {
            "line": {
             "colorbar": {
              "outlinewidth": 0,
              "ticks": ""
             }
            },
            "type": "parcoords"
           }
          ],
          "pie": [
           {
            "automargin": true,
            "type": "pie"
           }
          ],
          "scatter": [
           {
            "fillpattern": {
             "fillmode": "overlay",
             "size": 10,
             "solidity": 0.2
            },
            "type": "scatter"
           }
          ],
          "scatter3d": [
           {
            "line": {
             "colorbar": {
              "outlinewidth": 0,
              "ticks": ""
             }
            },
            "marker": {
             "colorbar": {
              "outlinewidth": 0,
              "ticks": ""
             }
            },
            "type": "scatter3d"
           }
          ],
          "scattercarpet": [
           {
            "marker": {
             "colorbar": {
              "outlinewidth": 0,
              "ticks": ""
             }
            },
            "type": "scattercarpet"
           }
          ],
          "scattergeo": [
           {
            "marker": {
             "colorbar": {
              "outlinewidth": 0,
              "ticks": ""
             }
            },
            "type": "scattergeo"
           }
          ],
          "scattergl": [
           {
            "marker": {
             "colorbar": {
              "outlinewidth": 0,
              "ticks": ""
             }
            },
            "type": "scattergl"
           }
          ],
          "scattermapbox": [
           {
            "marker": {
             "colorbar": {
              "outlinewidth": 0,
              "ticks": ""
             }
            },
            "type": "scattermapbox"
           }
          ],
          "scatterpolar": [
           {
            "marker": {
             "colorbar": {
              "outlinewidth": 0,
              "ticks": ""
             }
            },
            "type": "scatterpolar"
           }
          ],
          "scatterpolargl": [
           {
            "marker": {
             "colorbar": {
              "outlinewidth": 0,
              "ticks": ""
             }
            },
            "type": "scatterpolargl"
           }
          ],
          "scatterternary": [
           {
            "marker": {
             "colorbar": {
              "outlinewidth": 0,
              "ticks": ""
             }
            },
            "type": "scatterternary"
           }
          ],
          "surface": [
           {
            "colorbar": {
             "outlinewidth": 0,
             "ticks": ""
            },
            "colorscale": [
             [
              0,
              "#0d0887"
             ],
             [
              0.1111111111111111,
              "#46039f"
             ],
             [
              0.2222222222222222,
              "#7201a8"
             ],
             [
              0.3333333333333333,
              "#9c179e"
             ],
             [
              0.4444444444444444,
              "#bd3786"
             ],
             [
              0.5555555555555556,
              "#d8576b"
             ],
             [
              0.6666666666666666,
              "#ed7953"
             ],
             [
              0.7777777777777778,
              "#fb9f3a"
             ],
             [
              0.8888888888888888,
              "#fdca26"
             ],
             [
              1,
              "#f0f921"
             ]
            ],
            "type": "surface"
           }
          ],
          "table": [
           {
            "cells": {
             "fill": {
              "color": "#EBF0F8"
             },
             "line": {
              "color": "white"
             }
            },
            "header": {
             "fill": {
              "color": "#C8D4E3"
             },
             "line": {
              "color": "white"
             }
            },
            "type": "table"
           }
          ]
         },
         "layout": {
          "annotationdefaults": {
           "arrowcolor": "#2a3f5f",
           "arrowhead": 0,
           "arrowwidth": 1
          },
          "autotypenumbers": "strict",
          "coloraxis": {
           "colorbar": {
            "outlinewidth": 0,
            "ticks": ""
           }
          },
          "colorscale": {
           "diverging": [
            [
             0,
             "#8e0152"
            ],
            [
             0.1,
             "#c51b7d"
            ],
            [
             0.2,
             "#de77ae"
            ],
            [
             0.3,
             "#f1b6da"
            ],
            [
             0.4,
             "#fde0ef"
            ],
            [
             0.5,
             "#f7f7f7"
            ],
            [
             0.6,
             "#e6f5d0"
            ],
            [
             0.7,
             "#b8e186"
            ],
            [
             0.8,
             "#7fbc41"
            ],
            [
             0.9,
             "#4d9221"
            ],
            [
             1,
             "#276419"
            ]
           ],
           "sequential": [
            [
             0,
             "#0d0887"
            ],
            [
             0.1111111111111111,
             "#46039f"
            ],
            [
             0.2222222222222222,
             "#7201a8"
            ],
            [
             0.3333333333333333,
             "#9c179e"
            ],
            [
             0.4444444444444444,
             "#bd3786"
            ],
            [
             0.5555555555555556,
             "#d8576b"
            ],
            [
             0.6666666666666666,
             "#ed7953"
            ],
            [
             0.7777777777777778,
             "#fb9f3a"
            ],
            [
             0.8888888888888888,
             "#fdca26"
            ],
            [
             1,
             "#f0f921"
            ]
           ],
           "sequentialminus": [
            [
             0,
             "#0d0887"
            ],
            [
             0.1111111111111111,
             "#46039f"
            ],
            [
             0.2222222222222222,
             "#7201a8"
            ],
            [
             0.3333333333333333,
             "#9c179e"
            ],
            [
             0.4444444444444444,
             "#bd3786"
            ],
            [
             0.5555555555555556,
             "#d8576b"
            ],
            [
             0.6666666666666666,
             "#ed7953"
            ],
            [
             0.7777777777777778,
             "#fb9f3a"
            ],
            [
             0.8888888888888888,
             "#fdca26"
            ],
            [
             1,
             "#f0f921"
            ]
           ]
          },
          "colorway": [
           "#636efa",
           "#EF553B",
           "#00cc96",
           "#ab63fa",
           "#FFA15A",
           "#19d3f3",
           "#FF6692",
           "#B6E880",
           "#FF97FF",
           "#FECB52"
          ],
          "font": {
           "color": "#2a3f5f"
          },
          "geo": {
           "bgcolor": "white",
           "lakecolor": "white",
           "landcolor": "#E5ECF6",
           "showlakes": true,
           "showland": true,
           "subunitcolor": "white"
          },
          "hoverlabel": {
           "align": "left"
          },
          "hovermode": "closest",
          "mapbox": {
           "style": "light"
          },
          "paper_bgcolor": "white",
          "plot_bgcolor": "#E5ECF6",
          "polar": {
           "angularaxis": {
            "gridcolor": "white",
            "linecolor": "white",
            "ticks": ""
           },
           "bgcolor": "#E5ECF6",
           "radialaxis": {
            "gridcolor": "white",
            "linecolor": "white",
            "ticks": ""
           }
          },
          "scene": {
           "xaxis": {
            "backgroundcolor": "#E5ECF6",
            "gridcolor": "white",
            "gridwidth": 2,
            "linecolor": "white",
            "showbackground": true,
            "ticks": "",
            "zerolinecolor": "white"
           },
           "yaxis": {
            "backgroundcolor": "#E5ECF6",
            "gridcolor": "white",
            "gridwidth": 2,
            "linecolor": "white",
            "showbackground": true,
            "ticks": "",
            "zerolinecolor": "white"
           },
           "zaxis": {
            "backgroundcolor": "#E5ECF6",
            "gridcolor": "white",
            "gridwidth": 2,
            "linecolor": "white",
            "showbackground": true,
            "ticks": "",
            "zerolinecolor": "white"
           }
          },
          "shapedefaults": {
           "line": {
            "color": "#2a3f5f"
           }
          },
          "ternary": {
           "aaxis": {
            "gridcolor": "white",
            "linecolor": "white",
            "ticks": ""
           },
           "baxis": {
            "gridcolor": "white",
            "linecolor": "white",
            "ticks": ""
           },
           "bgcolor": "#E5ECF6",
           "caxis": {
            "gridcolor": "white",
            "linecolor": "white",
            "ticks": ""
           }
          },
          "title": {
           "x": 0.05
          },
          "xaxis": {
           "automargin": true,
           "gridcolor": "white",
           "linecolor": "white",
           "ticks": "",
           "title": {
            "standoff": 15
           },
           "zerolinecolor": "white",
           "zerolinewidth": 2
          },
          "yaxis": {
           "automargin": true,
           "gridcolor": "white",
           "linecolor": "white",
           "ticks": "",
           "title": {
            "standoff": 15
           },
           "zerolinecolor": "white",
           "zerolinewidth": 2
          }
         }
        },
        "title": {
         "text": "dose (uM) vs AKT2 for NCGC00345830_G4"
        },
        "xaxis": {
         "title": {
          "text": "dose (uM)"
         }
        },
        "yaxis": {
         "title": {
          "text": "AKT2"
         }
        }
       }
      },
      "text/html": [
       "<div>                            <div id=\"d72aa86f-a8d9-467a-bcc9-b994ebb7cbb9\" class=\"plotly-graph-div\" style=\"height:525px; width:100%;\"></div>            <script type=\"text/javascript\">                require([\"plotly\"], function(Plotly) {                    window.PLOTLYENV=window.PLOTLYENV || {};                                    if (document.getElementById(\"d72aa86f-a8d9-467a-bcc9-b994ebb7cbb9\")) {                    Plotly.newPlot(                        \"d72aa86f-a8d9-467a-bcc9-b994ebb7cbb9\",                        [{\"marker\":{\"color\":\"rgba(152, 0, 0, .8)\"},\"mode\":\"markers\",\"name\":\"Real data\",\"x\":[10.0,3.3,1.11,0.37,0.12,0.04,0.01,0.0],\"y\":[0.998725353635501,0.99889204263514,0.998900829349515,0.998901292611113,0.998901317054507,0.998901318345792,0.998901318414046,1.0],\"type\":\"scatter\"}],                        {\"template\":{\"data\":{\"histogram2dcontour\":[{\"type\":\"histogram2dcontour\",\"colorbar\":{\"outlinewidth\":0,\"ticks\":\"\"},\"colorscale\":[[0.0,\"#0d0887\"],[0.1111111111111111,\"#46039f\"],[0.2222222222222222,\"#7201a8\"],[0.3333333333333333,\"#9c179e\"],[0.4444444444444444,\"#bd3786\"],[0.5555555555555556,\"#d8576b\"],[0.6666666666666666,\"#ed7953\"],[0.7777777777777778,\"#fb9f3a\"],[0.8888888888888888,\"#fdca26\"],[1.0,\"#f0f921\"]]}],\"choropleth\":[{\"type\":\"choropleth\",\"colorbar\":{\"outlinewidth\":0,\"ticks\":\"\"}}],\"histogram2d\":[{\"type\":\"histogram2d\",\"colorbar\":{\"outlinewidth\":0,\"ticks\":\"\"},\"colorscale\":[[0.0,\"#0d0887\"],[0.1111111111111111,\"#46039f\"],[0.2222222222222222,\"#7201a8\"],[0.3333333333333333,\"#9c179e\"],[0.4444444444444444,\"#bd3786\"],[0.5555555555555556,\"#d8576b\"],[0.6666666666666666,\"#ed7953\"],[0.7777777777777778,\"#fb9f3a\"],[0.8888888888888888,\"#fdca26\"],[1.0,\"#f0f921\"]]}],\"heatmap\":[{\"type\":\"heatmap\",\"colorbar\":{\"outlinewidth\":0,\"ticks\":\"\"},\"colorscale\":[[0.0,\"#0d0887\"],[0.1111111111111111,\"#46039f\"],[0.2222222222222222,\"#7201a8\"],[0.3333333333333333,\"#9c179e\"],[0.4444444444444444,\"#bd3786\"],[0.5555555555555556,\"#d8576b\"],[0.6666666666666666,\"#ed7953\"],[0.7777777777777778,\"#fb9f3a\"],[0.8888888888888888,\"#fdca26\"],[1.0,\"#f0f921\"]]}],\"heatmapgl\":[{\"type\":\"heatmapgl\",\"colorbar\":{\"outlinewidth\":0,\"ticks\":\"\"},\"colorscale\":[[0.0,\"#0d0887\"],[0.1111111111111111,\"#46039f\"],[0.2222222222222222,\"#7201a8\"],[0.3333333333333333,\"#9c179e\"],[0.4444444444444444,\"#bd3786\"],[0.5555555555555556,\"#d8576b\"],[0.6666666666666666,\"#ed7953\"],[0.7777777777777778,\"#fb9f3a\"],[0.8888888888888888,\"#fdca26\"],[1.0,\"#f0f921\"]]}],\"contourcarpet\":[{\"type\":\"contourcarpet\",\"colorbar\":{\"outlinewidth\":0,\"ticks\":\"\"}}],\"contour\":[{\"type\":\"contour\",\"colorbar\":{\"outlinewidth\":0,\"ticks\":\"\"},\"colorscale\":[[0.0,\"#0d0887\"],[0.1111111111111111,\"#46039f\"],[0.2222222222222222,\"#7201a8\"],[0.3333333333333333,\"#9c179e\"],[0.4444444444444444,\"#bd3786\"],[0.5555555555555556,\"#d8576b\"],[0.6666666666666666,\"#ed7953\"],[0.7777777777777778,\"#fb9f3a\"],[0.8888888888888888,\"#fdca26\"],[1.0,\"#f0f921\"]]}],\"surface\":[{\"type\":\"surface\",\"colorbar\":{\"outlinewidth\":0,\"ticks\":\"\"},\"colorscale\":[[0.0,\"#0d0887\"],[0.1111111111111111,\"#46039f\"],[0.2222222222222222,\"#7201a8\"],[0.3333333333333333,\"#9c179e\"],[0.4444444444444444,\"#bd3786\"],[0.5555555555555556,\"#d8576b\"],[0.6666666666666666,\"#ed7953\"],[0.7777777777777778,\"#fb9f3a\"],[0.8888888888888888,\"#fdca26\"],[1.0,\"#f0f921\"]]}],\"mesh3d\":[{\"type\":\"mesh3d\",\"colorbar\":{\"outlinewidth\":0,\"ticks\":\"\"}}],\"scatter\":[{\"fillpattern\":{\"fillmode\":\"overlay\",\"size\":10,\"solidity\":0.2},\"type\":\"scatter\"}],\"parcoords\":[{\"type\":\"parcoords\",\"line\":{\"colorbar\":{\"outlinewidth\":0,\"ticks\":\"\"}}}],\"scatterpolargl\":[{\"type\":\"scatterpolargl\",\"marker\":{\"colorbar\":{\"outlinewidth\":0,\"ticks\":\"\"}}}],\"bar\":[{\"error_x\":{\"color\":\"#2a3f5f\"},\"error_y\":{\"color\":\"#2a3f5f\"},\"marker\":{\"line\":{\"color\":\"#E5ECF6\",\"width\":0.5},\"pattern\":{\"fillmode\":\"overlay\",\"size\":10,\"solidity\":0.2}},\"type\":\"bar\"}],\"scattergeo\":[{\"type\":\"scattergeo\",\"marker\":{\"colorbar\":{\"outlinewidth\":0,\"ticks\":\"\"}}}],\"scatterpolar\":[{\"type\":\"scatterpolar\",\"marker\":{\"colorbar\":{\"outlinewidth\":0,\"ticks\":\"\"}}}],\"histogram\":[{\"marker\":{\"pattern\":{\"fillmode\":\"overlay\",\"size\":10,\"solidity\":0.2}},\"type\":\"histogram\"}],\"scattergl\":[{\"type\":\"scattergl\",\"marker\":{\"colorbar\":{\"outlinewidth\":0,\"ticks\":\"\"}}}],\"scatter3d\":[{\"type\":\"scatter3d\",\"line\":{\"colorbar\":{\"outlinewidth\":0,\"ticks\":\"\"}},\"marker\":{\"colorbar\":{\"outlinewidth\":0,\"ticks\":\"\"}}}],\"scattermapbox\":[{\"type\":\"scattermapbox\",\"marker\":{\"colorbar\":{\"outlinewidth\":0,\"ticks\":\"\"}}}],\"scatterternary\":[{\"type\":\"scatterternary\",\"marker\":{\"colorbar\":{\"outlinewidth\":0,\"ticks\":\"\"}}}],\"scattercarpet\":[{\"type\":\"scattercarpet\",\"marker\":{\"colorbar\":{\"outlinewidth\":0,\"ticks\":\"\"}}}],\"carpet\":[{\"aaxis\":{\"endlinecolor\":\"#2a3f5f\",\"gridcolor\":\"white\",\"linecolor\":\"white\",\"minorgridcolor\":\"white\",\"startlinecolor\":\"#2a3f5f\"},\"baxis\":{\"endlinecolor\":\"#2a3f5f\",\"gridcolor\":\"white\",\"linecolor\":\"white\",\"minorgridcolor\":\"white\",\"startlinecolor\":\"#2a3f5f\"},\"type\":\"carpet\"}],\"table\":[{\"cells\":{\"fill\":{\"color\":\"#EBF0F8\"},\"line\":{\"color\":\"white\"}},\"header\":{\"fill\":{\"color\":\"#C8D4E3\"},\"line\":{\"color\":\"white\"}},\"type\":\"table\"}],\"barpolar\":[{\"marker\":{\"line\":{\"color\":\"#E5ECF6\",\"width\":0.5},\"pattern\":{\"fillmode\":\"overlay\",\"size\":10,\"solidity\":0.2}},\"type\":\"barpolar\"}],\"pie\":[{\"automargin\":true,\"type\":\"pie\"}]},\"layout\":{\"autotypenumbers\":\"strict\",\"colorway\":[\"#636efa\",\"#EF553B\",\"#00cc96\",\"#ab63fa\",\"#FFA15A\",\"#19d3f3\",\"#FF6692\",\"#B6E880\",\"#FF97FF\",\"#FECB52\"],\"font\":{\"color\":\"#2a3f5f\"},\"hovermode\":\"closest\",\"hoverlabel\":{\"align\":\"left\"},\"paper_bgcolor\":\"white\",\"plot_bgcolor\":\"#E5ECF6\",\"polar\":{\"bgcolor\":\"#E5ECF6\",\"angularaxis\":{\"gridcolor\":\"white\",\"linecolor\":\"white\",\"ticks\":\"\"},\"radialaxis\":{\"gridcolor\":\"white\",\"linecolor\":\"white\",\"ticks\":\"\"}},\"ternary\":{\"bgcolor\":\"#E5ECF6\",\"aaxis\":{\"gridcolor\":\"white\",\"linecolor\":\"white\",\"ticks\":\"\"},\"baxis\":{\"gridcolor\":\"white\",\"linecolor\":\"white\",\"ticks\":\"\"},\"caxis\":{\"gridcolor\":\"white\",\"linecolor\":\"white\",\"ticks\":\"\"}},\"coloraxis\":{\"colorbar\":{\"outlinewidth\":0,\"ticks\":\"\"}},\"colorscale\":{\"sequential\":[[0.0,\"#0d0887\"],[0.1111111111111111,\"#46039f\"],[0.2222222222222222,\"#7201a8\"],[0.3333333333333333,\"#9c179e\"],[0.4444444444444444,\"#bd3786\"],[0.5555555555555556,\"#d8576b\"],[0.6666666666666666,\"#ed7953\"],[0.7777777777777778,\"#fb9f3a\"],[0.8888888888888888,\"#fdca26\"],[1.0,\"#f0f921\"]],\"sequentialminus\":[[0.0,\"#0d0887\"],[0.1111111111111111,\"#46039f\"],[0.2222222222222222,\"#7201a8\"],[0.3333333333333333,\"#9c179e\"],[0.4444444444444444,\"#bd3786\"],[0.5555555555555556,\"#d8576b\"],[0.6666666666666666,\"#ed7953\"],[0.7777777777777778,\"#fb9f3a\"],[0.8888888888888888,\"#fdca26\"],[1.0,\"#f0f921\"]],\"diverging\":[[0,\"#8e0152\"],[0.1,\"#c51b7d\"],[0.2,\"#de77ae\"],[0.3,\"#f1b6da\"],[0.4,\"#fde0ef\"],[0.5,\"#f7f7f7\"],[0.6,\"#e6f5d0\"],[0.7,\"#b8e186\"],[0.8,\"#7fbc41\"],[0.9,\"#4d9221\"],[1,\"#276419\"]]},\"xaxis\":{\"gridcolor\":\"white\",\"linecolor\":\"white\",\"ticks\":\"\",\"title\":{\"standoff\":15},\"zerolinecolor\":\"white\",\"automargin\":true,\"zerolinewidth\":2},\"yaxis\":{\"gridcolor\":\"white\",\"linecolor\":\"white\",\"ticks\":\"\",\"title\":{\"standoff\":15},\"zerolinecolor\":\"white\",\"automargin\":true,\"zerolinewidth\":2},\"scene\":{\"xaxis\":{\"backgroundcolor\":\"#E5ECF6\",\"gridcolor\":\"white\",\"linecolor\":\"white\",\"showbackground\":true,\"ticks\":\"\",\"zerolinecolor\":\"white\",\"gridwidth\":2},\"yaxis\":{\"backgroundcolor\":\"#E5ECF6\",\"gridcolor\":\"white\",\"linecolor\":\"white\",\"showbackground\":true,\"ticks\":\"\",\"zerolinecolor\":\"white\",\"gridwidth\":2},\"zaxis\":{\"backgroundcolor\":\"#E5ECF6\",\"gridcolor\":\"white\",\"linecolor\":\"white\",\"showbackground\":true,\"ticks\":\"\",\"zerolinecolor\":\"white\",\"gridwidth\":2}},\"shapedefaults\":{\"line\":{\"color\":\"#2a3f5f\"}},\"annotationdefaults\":{\"arrowcolor\":\"#2a3f5f\",\"arrowhead\":0,\"arrowwidth\":1},\"geo\":{\"bgcolor\":\"white\",\"landcolor\":\"#E5ECF6\",\"subunitcolor\":\"white\",\"showland\":true,\"showlakes\":true,\"lakecolor\":\"white\"},\"title\":{\"x\":0.05},\"mapbox\":{\"style\":\"light\"}}},\"title\":{\"text\":\"dose (uM) vs AKT2 for NCGC00345830_G4\"},\"xaxis\":{\"title\":{\"text\":\"dose (uM)\"}},\"yaxis\":{\"title\":{\"text\":\"AKT2\"}}},                        {\"responsive\": true}                    ).then(function(){\n",
       "                            \n",
       "var gd = document.getElementById('d72aa86f-a8d9-467a-bcc9-b994ebb7cbb9');\n",
       "var x = new MutationObserver(function (mutations, observer) {{\n",
       "        var display = window.getComputedStyle(gd).display;\n",
       "        if (!display || display === 'none') {{\n",
       "            console.log([gd, 'removed!']);\n",
       "            Plotly.purge(gd);\n",
       "            observer.disconnect();\n",
       "        }}\n",
       "}});\n",
       "\n",
       "// Listen for the removal of the full notebook cells\n",
       "var notebookContainer = gd.closest('#notebook-container');\n",
       "if (notebookContainer) {{\n",
       "    x.observe(notebookContainer, {childList: true});\n",
       "}}\n",
       "\n",
       "// Listen for the clearing of the current output cell\n",
       "var outputEl = gd.closest('.output');\n",
       "if (outputEl) {{\n",
       "    x.observe(outputEl, {childList: true});\n",
       "}}\n",
       "\n",
       "                        })                };                });            </script>        </div>"
      ]
     },
     "metadata": {},
     "output_type": "display_data"
    },
    {
     "name": "stdout",
     "output_type": "stream",
     "text": [
      "Can not fit sigmoid\n"
     ]
    },
    {
     "data": {
      "application/vnd.plotly.v1+json": {
       "config": {
        "plotlyServerURL": "https://plot.ly"
       },
       "data": [
        {
         "marker": {
          "color": "rgba(152, 0, 0, .8)"
         },
         "mode": "markers",
         "name": "Real data",
         "type": "scatter",
         "x": [
          10,
          3.3,
          1.11,
          0.37,
          0.12,
          0.04,
          0.01,
          0
         ],
         "y": [
          0.975273073442208,
          0.98903718317011,
          0.994816438688664,
          0.997215075429782,
          0.998205967384219,
          0.998614652525651,
          0.998782796327397,
          1
         ]
        }
       ],
       "layout": {
        "template": {
         "data": {
          "bar": [
           {
            "error_x": {
             "color": "#2a3f5f"
            },
            "error_y": {
             "color": "#2a3f5f"
            },
            "marker": {
             "line": {
              "color": "#E5ECF6",
              "width": 0.5
             },
             "pattern": {
              "fillmode": "overlay",
              "size": 10,
              "solidity": 0.2
             }
            },
            "type": "bar"
           }
          ],
          "barpolar": [
           {
            "marker": {
             "line": {
              "color": "#E5ECF6",
              "width": 0.5
             },
             "pattern": {
              "fillmode": "overlay",
              "size": 10,
              "solidity": 0.2
             }
            },
            "type": "barpolar"
           }
          ],
          "carpet": [
           {
            "aaxis": {
             "endlinecolor": "#2a3f5f",
             "gridcolor": "white",
             "linecolor": "white",
             "minorgridcolor": "white",
             "startlinecolor": "#2a3f5f"
            },
            "baxis": {
             "endlinecolor": "#2a3f5f",
             "gridcolor": "white",
             "linecolor": "white",
             "minorgridcolor": "white",
             "startlinecolor": "#2a3f5f"
            },
            "type": "carpet"
           }
          ],
          "choropleth": [
           {
            "colorbar": {
             "outlinewidth": 0,
             "ticks": ""
            },
            "type": "choropleth"
           }
          ],
          "contour": [
           {
            "colorbar": {
             "outlinewidth": 0,
             "ticks": ""
            },
            "colorscale": [
             [
              0,
              "#0d0887"
             ],
             [
              0.1111111111111111,
              "#46039f"
             ],
             [
              0.2222222222222222,
              "#7201a8"
             ],
             [
              0.3333333333333333,
              "#9c179e"
             ],
             [
              0.4444444444444444,
              "#bd3786"
             ],
             [
              0.5555555555555556,
              "#d8576b"
             ],
             [
              0.6666666666666666,
              "#ed7953"
             ],
             [
              0.7777777777777778,
              "#fb9f3a"
             ],
             [
              0.8888888888888888,
              "#fdca26"
             ],
             [
              1,
              "#f0f921"
             ]
            ],
            "type": "contour"
           }
          ],
          "contourcarpet": [
           {
            "colorbar": {
             "outlinewidth": 0,
             "ticks": ""
            },
            "type": "contourcarpet"
           }
          ],
          "heatmap": [
           {
            "colorbar": {
             "outlinewidth": 0,
             "ticks": ""
            },
            "colorscale": [
             [
              0,
              "#0d0887"
             ],
             [
              0.1111111111111111,
              "#46039f"
             ],
             [
              0.2222222222222222,
              "#7201a8"
             ],
             [
              0.3333333333333333,
              "#9c179e"
             ],
             [
              0.4444444444444444,
              "#bd3786"
             ],
             [
              0.5555555555555556,
              "#d8576b"
             ],
             [
              0.6666666666666666,
              "#ed7953"
             ],
             [
              0.7777777777777778,
              "#fb9f3a"
             ],
             [
              0.8888888888888888,
              "#fdca26"
             ],
             [
              1,
              "#f0f921"
             ]
            ],
            "type": "heatmap"
           }
          ],
          "heatmapgl": [
           {
            "colorbar": {
             "outlinewidth": 0,
             "ticks": ""
            },
            "colorscale": [
             [
              0,
              "#0d0887"
             ],
             [
              0.1111111111111111,
              "#46039f"
             ],
             [
              0.2222222222222222,
              "#7201a8"
             ],
             [
              0.3333333333333333,
              "#9c179e"
             ],
             [
              0.4444444444444444,
              "#bd3786"
             ],
             [
              0.5555555555555556,
              "#d8576b"
             ],
             [
              0.6666666666666666,
              "#ed7953"
             ],
             [
              0.7777777777777778,
              "#fb9f3a"
             ],
             [
              0.8888888888888888,
              "#fdca26"
             ],
             [
              1,
              "#f0f921"
             ]
            ],
            "type": "heatmapgl"
           }
          ],
          "histogram": [
           {
            "marker": {
             "pattern": {
              "fillmode": "overlay",
              "size": 10,
              "solidity": 0.2
             }
            },
            "type": "histogram"
           }
          ],
          "histogram2d": [
           {
            "colorbar": {
             "outlinewidth": 0,
             "ticks": ""
            },
            "colorscale": [
             [
              0,
              "#0d0887"
             ],
             [
              0.1111111111111111,
              "#46039f"
             ],
             [
              0.2222222222222222,
              "#7201a8"
             ],
             [
              0.3333333333333333,
              "#9c179e"
             ],
             [
              0.4444444444444444,
              "#bd3786"
             ],
             [
              0.5555555555555556,
              "#d8576b"
             ],
             [
              0.6666666666666666,
              "#ed7953"
             ],
             [
              0.7777777777777778,
              "#fb9f3a"
             ],
             [
              0.8888888888888888,
              "#fdca26"
             ],
             [
              1,
              "#f0f921"
             ]
            ],
            "type": "histogram2d"
           }
          ],
          "histogram2dcontour": [
           {
            "colorbar": {
             "outlinewidth": 0,
             "ticks": ""
            },
            "colorscale": [
             [
              0,
              "#0d0887"
             ],
             [
              0.1111111111111111,
              "#46039f"
             ],
             [
              0.2222222222222222,
              "#7201a8"
             ],
             [
              0.3333333333333333,
              "#9c179e"
             ],
             [
              0.4444444444444444,
              "#bd3786"
             ],
             [
              0.5555555555555556,
              "#d8576b"
             ],
             [
              0.6666666666666666,
              "#ed7953"
             ],
             [
              0.7777777777777778,
              "#fb9f3a"
             ],
             [
              0.8888888888888888,
              "#fdca26"
             ],
             [
              1,
              "#f0f921"
             ]
            ],
            "type": "histogram2dcontour"
           }
          ],
          "mesh3d": [
           {
            "colorbar": {
             "outlinewidth": 0,
             "ticks": ""
            },
            "type": "mesh3d"
           }
          ],
          "parcoords": [
           {
            "line": {
             "colorbar": {
              "outlinewidth": 0,
              "ticks": ""
             }
            },
            "type": "parcoords"
           }
          ],
          "pie": [
           {
            "automargin": true,
            "type": "pie"
           }
          ],
          "scatter": [
           {
            "fillpattern": {
             "fillmode": "overlay",
             "size": 10,
             "solidity": 0.2
            },
            "type": "scatter"
           }
          ],
          "scatter3d": [
           {
            "line": {
             "colorbar": {
              "outlinewidth": 0,
              "ticks": ""
             }
            },
            "marker": {
             "colorbar": {
              "outlinewidth": 0,
              "ticks": ""
             }
            },
            "type": "scatter3d"
           }
          ],
          "scattercarpet": [
           {
            "marker": {
             "colorbar": {
              "outlinewidth": 0,
              "ticks": ""
             }
            },
            "type": "scattercarpet"
           }
          ],
          "scattergeo": [
           {
            "marker": {
             "colorbar": {
              "outlinewidth": 0,
              "ticks": ""
             }
            },
            "type": "scattergeo"
           }
          ],
          "scattergl": [
           {
            "marker": {
             "colorbar": {
              "outlinewidth": 0,
              "ticks": ""
             }
            },
            "type": "scattergl"
           }
          ],
          "scattermapbox": [
           {
            "marker": {
             "colorbar": {
              "outlinewidth": 0,
              "ticks": ""
             }
            },
            "type": "scattermapbox"
           }
          ],
          "scatterpolar": [
           {
            "marker": {
             "colorbar": {
              "outlinewidth": 0,
              "ticks": ""
             }
            },
            "type": "scatterpolar"
           }
          ],
          "scatterpolargl": [
           {
            "marker": {
             "colorbar": {
              "outlinewidth": 0,
              "ticks": ""
             }
            },
            "type": "scatterpolargl"
           }
          ],
          "scatterternary": [
           {
            "marker": {
             "colorbar": {
              "outlinewidth": 0,
              "ticks": ""
             }
            },
            "type": "scatterternary"
           }
          ],
          "surface": [
           {
            "colorbar": {
             "outlinewidth": 0,
             "ticks": ""
            },
            "colorscale": [
             [
              0,
              "#0d0887"
             ],
             [
              0.1111111111111111,
              "#46039f"
             ],
             [
              0.2222222222222222,
              "#7201a8"
             ],
             [
              0.3333333333333333,
              "#9c179e"
             ],
             [
              0.4444444444444444,
              "#bd3786"
             ],
             [
              0.5555555555555556,
              "#d8576b"
             ],
             [
              0.6666666666666666,
              "#ed7953"
             ],
             [
              0.7777777777777778,
              "#fb9f3a"
             ],
             [
              0.8888888888888888,
              "#fdca26"
             ],
             [
              1,
              "#f0f921"
             ]
            ],
            "type": "surface"
           }
          ],
          "table": [
           {
            "cells": {
             "fill": {
              "color": "#EBF0F8"
             },
             "line": {
              "color": "white"
             }
            },
            "header": {
             "fill": {
              "color": "#C8D4E3"
             },
             "line": {
              "color": "white"
             }
            },
            "type": "table"
           }
          ]
         },
         "layout": {
          "annotationdefaults": {
           "arrowcolor": "#2a3f5f",
           "arrowhead": 0,
           "arrowwidth": 1
          },
          "autotypenumbers": "strict",
          "coloraxis": {
           "colorbar": {
            "outlinewidth": 0,
            "ticks": ""
           }
          },
          "colorscale": {
           "diverging": [
            [
             0,
             "#8e0152"
            ],
            [
             0.1,
             "#c51b7d"
            ],
            [
             0.2,
             "#de77ae"
            ],
            [
             0.3,
             "#f1b6da"
            ],
            [
             0.4,
             "#fde0ef"
            ],
            [
             0.5,
             "#f7f7f7"
            ],
            [
             0.6,
             "#e6f5d0"
            ],
            [
             0.7,
             "#b8e186"
            ],
            [
             0.8,
             "#7fbc41"
            ],
            [
             0.9,
             "#4d9221"
            ],
            [
             1,
             "#276419"
            ]
           ],
           "sequential": [
            [
             0,
             "#0d0887"
            ],
            [
             0.1111111111111111,
             "#46039f"
            ],
            [
             0.2222222222222222,
             "#7201a8"
            ],
            [
             0.3333333333333333,
             "#9c179e"
            ],
            [
             0.4444444444444444,
             "#bd3786"
            ],
            [
             0.5555555555555556,
             "#d8576b"
            ],
            [
             0.6666666666666666,
             "#ed7953"
            ],
            [
             0.7777777777777778,
             "#fb9f3a"
            ],
            [
             0.8888888888888888,
             "#fdca26"
            ],
            [
             1,
             "#f0f921"
            ]
           ],
           "sequentialminus": [
            [
             0,
             "#0d0887"
            ],
            [
             0.1111111111111111,
             "#46039f"
            ],
            [
             0.2222222222222222,
             "#7201a8"
            ],
            [
             0.3333333333333333,
             "#9c179e"
            ],
            [
             0.4444444444444444,
             "#bd3786"
            ],
            [
             0.5555555555555556,
             "#d8576b"
            ],
            [
             0.6666666666666666,
             "#ed7953"
            ],
            [
             0.7777777777777778,
             "#fb9f3a"
            ],
            [
             0.8888888888888888,
             "#fdca26"
            ],
            [
             1,
             "#f0f921"
            ]
           ]
          },
          "colorway": [
           "#636efa",
           "#EF553B",
           "#00cc96",
           "#ab63fa",
           "#FFA15A",
           "#19d3f3",
           "#FF6692",
           "#B6E880",
           "#FF97FF",
           "#FECB52"
          ],
          "font": {
           "color": "#2a3f5f"
          },
          "geo": {
           "bgcolor": "white",
           "lakecolor": "white",
           "landcolor": "#E5ECF6",
           "showlakes": true,
           "showland": true,
           "subunitcolor": "white"
          },
          "hoverlabel": {
           "align": "left"
          },
          "hovermode": "closest",
          "mapbox": {
           "style": "light"
          },
          "paper_bgcolor": "white",
          "plot_bgcolor": "#E5ECF6",
          "polar": {
           "angularaxis": {
            "gridcolor": "white",
            "linecolor": "white",
            "ticks": ""
           },
           "bgcolor": "#E5ECF6",
           "radialaxis": {
            "gridcolor": "white",
            "linecolor": "white",
            "ticks": ""
           }
          },
          "scene": {
           "xaxis": {
            "backgroundcolor": "#E5ECF6",
            "gridcolor": "white",
            "gridwidth": 2,
            "linecolor": "white",
            "showbackground": true,
            "ticks": "",
            "zerolinecolor": "white"
           },
           "yaxis": {
            "backgroundcolor": "#E5ECF6",
            "gridcolor": "white",
            "gridwidth": 2,
            "linecolor": "white",
            "showbackground": true,
            "ticks": "",
            "zerolinecolor": "white"
           },
           "zaxis": {
            "backgroundcolor": "#E5ECF6",
            "gridcolor": "white",
            "gridwidth": 2,
            "linecolor": "white",
            "showbackground": true,
            "ticks": "",
            "zerolinecolor": "white"
           }
          },
          "shapedefaults": {
           "line": {
            "color": "#2a3f5f"
           }
          },
          "ternary": {
           "aaxis": {
            "gridcolor": "white",
            "linecolor": "white",
            "ticks": ""
           },
           "baxis": {
            "gridcolor": "white",
            "linecolor": "white",
            "ticks": ""
           },
           "bgcolor": "#E5ECF6",
           "caxis": {
            "gridcolor": "white",
            "linecolor": "white",
            "ticks": ""
           }
          },
          "title": {
           "x": 0.05
          },
          "xaxis": {
           "automargin": true,
           "gridcolor": "white",
           "linecolor": "white",
           "ticks": "",
           "title": {
            "standoff": 15
           },
           "zerolinecolor": "white",
           "zerolinewidth": 2
          },
          "yaxis": {
           "automargin": true,
           "gridcolor": "white",
           "linecolor": "white",
           "ticks": "",
           "title": {
            "standoff": 15
           },
           "zerolinecolor": "white",
           "zerolinewidth": 2
          }
         }
        },
        "title": {
         "text": "dose (uM) vs AKT3 for NCGC00345830_G4"
        },
        "xaxis": {
         "title": {
          "text": "dose (uM)"
         }
        },
        "yaxis": {
         "title": {
          "text": "AKT3"
         }
        }
       }
      },
      "text/html": [
       "<div>                            <div id=\"da15b167-5422-4b1b-8557-30471c388695\" class=\"plotly-graph-div\" style=\"height:525px; width:100%;\"></div>            <script type=\"text/javascript\">                require([\"plotly\"], function(Plotly) {                    window.PLOTLYENV=window.PLOTLYENV || {};                                    if (document.getElementById(\"da15b167-5422-4b1b-8557-30471c388695\")) {                    Plotly.newPlot(                        \"da15b167-5422-4b1b-8557-30471c388695\",                        [{\"marker\":{\"color\":\"rgba(152, 0, 0, .8)\"},\"mode\":\"markers\",\"name\":\"Real data\",\"x\":[10.0,3.3,1.11,0.37,0.12,0.04,0.01,0.0],\"y\":[0.975273073442208,0.98903718317011,0.994816438688664,0.997215075429782,0.998205967384219,0.998614652525651,0.998782796327397,1.0],\"type\":\"scatter\"}],                        {\"template\":{\"data\":{\"histogram2dcontour\":[{\"type\":\"histogram2dcontour\",\"colorbar\":{\"outlinewidth\":0,\"ticks\":\"\"},\"colorscale\":[[0.0,\"#0d0887\"],[0.1111111111111111,\"#46039f\"],[0.2222222222222222,\"#7201a8\"],[0.3333333333333333,\"#9c179e\"],[0.4444444444444444,\"#bd3786\"],[0.5555555555555556,\"#d8576b\"],[0.6666666666666666,\"#ed7953\"],[0.7777777777777778,\"#fb9f3a\"],[0.8888888888888888,\"#fdca26\"],[1.0,\"#f0f921\"]]}],\"choropleth\":[{\"type\":\"choropleth\",\"colorbar\":{\"outlinewidth\":0,\"ticks\":\"\"}}],\"histogram2d\":[{\"type\":\"histogram2d\",\"colorbar\":{\"outlinewidth\":0,\"ticks\":\"\"},\"colorscale\":[[0.0,\"#0d0887\"],[0.1111111111111111,\"#46039f\"],[0.2222222222222222,\"#7201a8\"],[0.3333333333333333,\"#9c179e\"],[0.4444444444444444,\"#bd3786\"],[0.5555555555555556,\"#d8576b\"],[0.6666666666666666,\"#ed7953\"],[0.7777777777777778,\"#fb9f3a\"],[0.8888888888888888,\"#fdca26\"],[1.0,\"#f0f921\"]]}],\"heatmap\":[{\"type\":\"heatmap\",\"colorbar\":{\"outlinewidth\":0,\"ticks\":\"\"},\"colorscale\":[[0.0,\"#0d0887\"],[0.1111111111111111,\"#46039f\"],[0.2222222222222222,\"#7201a8\"],[0.3333333333333333,\"#9c179e\"],[0.4444444444444444,\"#bd3786\"],[0.5555555555555556,\"#d8576b\"],[0.6666666666666666,\"#ed7953\"],[0.7777777777777778,\"#fb9f3a\"],[0.8888888888888888,\"#fdca26\"],[1.0,\"#f0f921\"]]}],\"heatmapgl\":[{\"type\":\"heatmapgl\",\"colorbar\":{\"outlinewidth\":0,\"ticks\":\"\"},\"colorscale\":[[0.0,\"#0d0887\"],[0.1111111111111111,\"#46039f\"],[0.2222222222222222,\"#7201a8\"],[0.3333333333333333,\"#9c179e\"],[0.4444444444444444,\"#bd3786\"],[0.5555555555555556,\"#d8576b\"],[0.6666666666666666,\"#ed7953\"],[0.7777777777777778,\"#fb9f3a\"],[0.8888888888888888,\"#fdca26\"],[1.0,\"#f0f921\"]]}],\"contourcarpet\":[{\"type\":\"contourcarpet\",\"colorbar\":{\"outlinewidth\":0,\"ticks\":\"\"}}],\"contour\":[{\"type\":\"contour\",\"colorbar\":{\"outlinewidth\":0,\"ticks\":\"\"},\"colorscale\":[[0.0,\"#0d0887\"],[0.1111111111111111,\"#46039f\"],[0.2222222222222222,\"#7201a8\"],[0.3333333333333333,\"#9c179e\"],[0.4444444444444444,\"#bd3786\"],[0.5555555555555556,\"#d8576b\"],[0.6666666666666666,\"#ed7953\"],[0.7777777777777778,\"#fb9f3a\"],[0.8888888888888888,\"#fdca26\"],[1.0,\"#f0f921\"]]}],\"surface\":[{\"type\":\"surface\",\"colorbar\":{\"outlinewidth\":0,\"ticks\":\"\"},\"colorscale\":[[0.0,\"#0d0887\"],[0.1111111111111111,\"#46039f\"],[0.2222222222222222,\"#7201a8\"],[0.3333333333333333,\"#9c179e\"],[0.4444444444444444,\"#bd3786\"],[0.5555555555555556,\"#d8576b\"],[0.6666666666666666,\"#ed7953\"],[0.7777777777777778,\"#fb9f3a\"],[0.8888888888888888,\"#fdca26\"],[1.0,\"#f0f921\"]]}],\"mesh3d\":[{\"type\":\"mesh3d\",\"colorbar\":{\"outlinewidth\":0,\"ticks\":\"\"}}],\"scatter\":[{\"fillpattern\":{\"fillmode\":\"overlay\",\"size\":10,\"solidity\":0.2},\"type\":\"scatter\"}],\"parcoords\":[{\"type\":\"parcoords\",\"line\":{\"colorbar\":{\"outlinewidth\":0,\"ticks\":\"\"}}}],\"scatterpolargl\":[{\"type\":\"scatterpolargl\",\"marker\":{\"colorbar\":{\"outlinewidth\":0,\"ticks\":\"\"}}}],\"bar\":[{\"error_x\":{\"color\":\"#2a3f5f\"},\"error_y\":{\"color\":\"#2a3f5f\"},\"marker\":{\"line\":{\"color\":\"#E5ECF6\",\"width\":0.5},\"pattern\":{\"fillmode\":\"overlay\",\"size\":10,\"solidity\":0.2}},\"type\":\"bar\"}],\"scattergeo\":[{\"type\":\"scattergeo\",\"marker\":{\"colorbar\":{\"outlinewidth\":0,\"ticks\":\"\"}}}],\"scatterpolar\":[{\"type\":\"scatterpolar\",\"marker\":{\"colorbar\":{\"outlinewidth\":0,\"ticks\":\"\"}}}],\"histogram\":[{\"marker\":{\"pattern\":{\"fillmode\":\"overlay\",\"size\":10,\"solidity\":0.2}},\"type\":\"histogram\"}],\"scattergl\":[{\"type\":\"scattergl\",\"marker\":{\"colorbar\":{\"outlinewidth\":0,\"ticks\":\"\"}}}],\"scatter3d\":[{\"type\":\"scatter3d\",\"line\":{\"colorbar\":{\"outlinewidth\":0,\"ticks\":\"\"}},\"marker\":{\"colorbar\":{\"outlinewidth\":0,\"ticks\":\"\"}}}],\"scattermapbox\":[{\"type\":\"scattermapbox\",\"marker\":{\"colorbar\":{\"outlinewidth\":0,\"ticks\":\"\"}}}],\"scatterternary\":[{\"type\":\"scatterternary\",\"marker\":{\"colorbar\":{\"outlinewidth\":0,\"ticks\":\"\"}}}],\"scattercarpet\":[{\"type\":\"scattercarpet\",\"marker\":{\"colorbar\":{\"outlinewidth\":0,\"ticks\":\"\"}}}],\"carpet\":[{\"aaxis\":{\"endlinecolor\":\"#2a3f5f\",\"gridcolor\":\"white\",\"linecolor\":\"white\",\"minorgridcolor\":\"white\",\"startlinecolor\":\"#2a3f5f\"},\"baxis\":{\"endlinecolor\":\"#2a3f5f\",\"gridcolor\":\"white\",\"linecolor\":\"white\",\"minorgridcolor\":\"white\",\"startlinecolor\":\"#2a3f5f\"},\"type\":\"carpet\"}],\"table\":[{\"cells\":{\"fill\":{\"color\":\"#EBF0F8\"},\"line\":{\"color\":\"white\"}},\"header\":{\"fill\":{\"color\":\"#C8D4E3\"},\"line\":{\"color\":\"white\"}},\"type\":\"table\"}],\"barpolar\":[{\"marker\":{\"line\":{\"color\":\"#E5ECF6\",\"width\":0.5},\"pattern\":{\"fillmode\":\"overlay\",\"size\":10,\"solidity\":0.2}},\"type\":\"barpolar\"}],\"pie\":[{\"automargin\":true,\"type\":\"pie\"}]},\"layout\":{\"autotypenumbers\":\"strict\",\"colorway\":[\"#636efa\",\"#EF553B\",\"#00cc96\",\"#ab63fa\",\"#FFA15A\",\"#19d3f3\",\"#FF6692\",\"#B6E880\",\"#FF97FF\",\"#FECB52\"],\"font\":{\"color\":\"#2a3f5f\"},\"hovermode\":\"closest\",\"hoverlabel\":{\"align\":\"left\"},\"paper_bgcolor\":\"white\",\"plot_bgcolor\":\"#E5ECF6\",\"polar\":{\"bgcolor\":\"#E5ECF6\",\"angularaxis\":{\"gridcolor\":\"white\",\"linecolor\":\"white\",\"ticks\":\"\"},\"radialaxis\":{\"gridcolor\":\"white\",\"linecolor\":\"white\",\"ticks\":\"\"}},\"ternary\":{\"bgcolor\":\"#E5ECF6\",\"aaxis\":{\"gridcolor\":\"white\",\"linecolor\":\"white\",\"ticks\":\"\"},\"baxis\":{\"gridcolor\":\"white\",\"linecolor\":\"white\",\"ticks\":\"\"},\"caxis\":{\"gridcolor\":\"white\",\"linecolor\":\"white\",\"ticks\":\"\"}},\"coloraxis\":{\"colorbar\":{\"outlinewidth\":0,\"ticks\":\"\"}},\"colorscale\":{\"sequential\":[[0.0,\"#0d0887\"],[0.1111111111111111,\"#46039f\"],[0.2222222222222222,\"#7201a8\"],[0.3333333333333333,\"#9c179e\"],[0.4444444444444444,\"#bd3786\"],[0.5555555555555556,\"#d8576b\"],[0.6666666666666666,\"#ed7953\"],[0.7777777777777778,\"#fb9f3a\"],[0.8888888888888888,\"#fdca26\"],[1.0,\"#f0f921\"]],\"sequentialminus\":[[0.0,\"#0d0887\"],[0.1111111111111111,\"#46039f\"],[0.2222222222222222,\"#7201a8\"],[0.3333333333333333,\"#9c179e\"],[0.4444444444444444,\"#bd3786\"],[0.5555555555555556,\"#d8576b\"],[0.6666666666666666,\"#ed7953\"],[0.7777777777777778,\"#fb9f3a\"],[0.8888888888888888,\"#fdca26\"],[1.0,\"#f0f921\"]],\"diverging\":[[0,\"#8e0152\"],[0.1,\"#c51b7d\"],[0.2,\"#de77ae\"],[0.3,\"#f1b6da\"],[0.4,\"#fde0ef\"],[0.5,\"#f7f7f7\"],[0.6,\"#e6f5d0\"],[0.7,\"#b8e186\"],[0.8,\"#7fbc41\"],[0.9,\"#4d9221\"],[1,\"#276419\"]]},\"xaxis\":{\"gridcolor\":\"white\",\"linecolor\":\"white\",\"ticks\":\"\",\"title\":{\"standoff\":15},\"zerolinecolor\":\"white\",\"automargin\":true,\"zerolinewidth\":2},\"yaxis\":{\"gridcolor\":\"white\",\"linecolor\":\"white\",\"ticks\":\"\",\"title\":{\"standoff\":15},\"zerolinecolor\":\"white\",\"automargin\":true,\"zerolinewidth\":2},\"scene\":{\"xaxis\":{\"backgroundcolor\":\"#E5ECF6\",\"gridcolor\":\"white\",\"linecolor\":\"white\",\"showbackground\":true,\"ticks\":\"\",\"zerolinecolor\":\"white\",\"gridwidth\":2},\"yaxis\":{\"backgroundcolor\":\"#E5ECF6\",\"gridcolor\":\"white\",\"linecolor\":\"white\",\"showbackground\":true,\"ticks\":\"\",\"zerolinecolor\":\"white\",\"gridwidth\":2},\"zaxis\":{\"backgroundcolor\":\"#E5ECF6\",\"gridcolor\":\"white\",\"linecolor\":\"white\",\"showbackground\":true,\"ticks\":\"\",\"zerolinecolor\":\"white\",\"gridwidth\":2}},\"shapedefaults\":{\"line\":{\"color\":\"#2a3f5f\"}},\"annotationdefaults\":{\"arrowcolor\":\"#2a3f5f\",\"arrowhead\":0,\"arrowwidth\":1},\"geo\":{\"bgcolor\":\"white\",\"landcolor\":\"#E5ECF6\",\"subunitcolor\":\"white\",\"showland\":true,\"showlakes\":true,\"lakecolor\":\"white\"},\"title\":{\"x\":0.05},\"mapbox\":{\"style\":\"light\"}}},\"title\":{\"text\":\"dose (uM) vs AKT3 for NCGC00345830_G4\"},\"xaxis\":{\"title\":{\"text\":\"dose (uM)\"}},\"yaxis\":{\"title\":{\"text\":\"AKT3\"}}},                        {\"responsive\": true}                    ).then(function(){\n",
       "                            \n",
       "var gd = document.getElementById('da15b167-5422-4b1b-8557-30471c388695');\n",
       "var x = new MutationObserver(function (mutations, observer) {{\n",
       "        var display = window.getComputedStyle(gd).display;\n",
       "        if (!display || display === 'none') {{\n",
       "            console.log([gd, 'removed!']);\n",
       "            Plotly.purge(gd);\n",
       "            observer.disconnect();\n",
       "        }}\n",
       "}});\n",
       "\n",
       "// Listen for the removal of the full notebook cells\n",
       "var notebookContainer = gd.closest('#notebook-container');\n",
       "if (notebookContainer) {{\n",
       "    x.observe(notebookContainer, {childList: true});\n",
       "}}\n",
       "\n",
       "// Listen for the clearing of the current output cell\n",
       "var outputEl = gd.closest('.output');\n",
       "if (outputEl) {{\n",
       "    x.observe(outputEl, {childList: true});\n",
       "}}\n",
       "\n",
       "                        })                };                });            </script>        </div>"
      ]
     },
     "metadata": {},
     "output_type": "display_data"
    },
    {
     "name": "stdout",
     "output_type": "stream",
     "text": [
      "Can not fit sigmoid\n"
     ]
    },
    {
     "data": {
      "application/vnd.plotly.v1+json": {
       "config": {
        "plotlyServerURL": "https://plot.ly"
       },
       "data": [
        {
         "marker": {
          "color": "rgba(152, 0, 0, .8)"
         },
         "mode": "markers",
         "name": "Real data",
         "type": "scatter",
         "x": [
          10,
          3.3,
          1.11,
          0.37,
          0.12,
          0.04,
          0.01,
          0
         ],
         "y": [
          0.621281603725783,
          0.691379354166517,
          0.753641522812234,
          0.806839562542839,
          0.850808388636446,
          0.886169343520487,
          0.913910336145231,
          1
         ]
        }
       ],
       "layout": {
        "template": {
         "data": {
          "bar": [
           {
            "error_x": {
             "color": "#2a3f5f"
            },
            "error_y": {
             "color": "#2a3f5f"
            },
            "marker": {
             "line": {
              "color": "#E5ECF6",
              "width": 0.5
             },
             "pattern": {
              "fillmode": "overlay",
              "size": 10,
              "solidity": 0.2
             }
            },
            "type": "bar"
           }
          ],
          "barpolar": [
           {
            "marker": {
             "line": {
              "color": "#E5ECF6",
              "width": 0.5
             },
             "pattern": {
              "fillmode": "overlay",
              "size": 10,
              "solidity": 0.2
             }
            },
            "type": "barpolar"
           }
          ],
          "carpet": [
           {
            "aaxis": {
             "endlinecolor": "#2a3f5f",
             "gridcolor": "white",
             "linecolor": "white",
             "minorgridcolor": "white",
             "startlinecolor": "#2a3f5f"
            },
            "baxis": {
             "endlinecolor": "#2a3f5f",
             "gridcolor": "white",
             "linecolor": "white",
             "minorgridcolor": "white",
             "startlinecolor": "#2a3f5f"
            },
            "type": "carpet"
           }
          ],
          "choropleth": [
           {
            "colorbar": {
             "outlinewidth": 0,
             "ticks": ""
            },
            "type": "choropleth"
           }
          ],
          "contour": [
           {
            "colorbar": {
             "outlinewidth": 0,
             "ticks": ""
            },
            "colorscale": [
             [
              0,
              "#0d0887"
             ],
             [
              0.1111111111111111,
              "#46039f"
             ],
             [
              0.2222222222222222,
              "#7201a8"
             ],
             [
              0.3333333333333333,
              "#9c179e"
             ],
             [
              0.4444444444444444,
              "#bd3786"
             ],
             [
              0.5555555555555556,
              "#d8576b"
             ],
             [
              0.6666666666666666,
              "#ed7953"
             ],
             [
              0.7777777777777778,
              "#fb9f3a"
             ],
             [
              0.8888888888888888,
              "#fdca26"
             ],
             [
              1,
              "#f0f921"
             ]
            ],
            "type": "contour"
           }
          ],
          "contourcarpet": [
           {
            "colorbar": {
             "outlinewidth": 0,
             "ticks": ""
            },
            "type": "contourcarpet"
           }
          ],
          "heatmap": [
           {
            "colorbar": {
             "outlinewidth": 0,
             "ticks": ""
            },
            "colorscale": [
             [
              0,
              "#0d0887"
             ],
             [
              0.1111111111111111,
              "#46039f"
             ],
             [
              0.2222222222222222,
              "#7201a8"
             ],
             [
              0.3333333333333333,
              "#9c179e"
             ],
             [
              0.4444444444444444,
              "#bd3786"
             ],
             [
              0.5555555555555556,
              "#d8576b"
             ],
             [
              0.6666666666666666,
              "#ed7953"
             ],
             [
              0.7777777777777778,
              "#fb9f3a"
             ],
             [
              0.8888888888888888,
              "#fdca26"
             ],
             [
              1,
              "#f0f921"
             ]
            ],
            "type": "heatmap"
           }
          ],
          "heatmapgl": [
           {
            "colorbar": {
             "outlinewidth": 0,
             "ticks": ""
            },
            "colorscale": [
             [
              0,
              "#0d0887"
             ],
             [
              0.1111111111111111,
              "#46039f"
             ],
             [
              0.2222222222222222,
              "#7201a8"
             ],
             [
              0.3333333333333333,
              "#9c179e"
             ],
             [
              0.4444444444444444,
              "#bd3786"
             ],
             [
              0.5555555555555556,
              "#d8576b"
             ],
             [
              0.6666666666666666,
              "#ed7953"
             ],
             [
              0.7777777777777778,
              "#fb9f3a"
             ],
             [
              0.8888888888888888,
              "#fdca26"
             ],
             [
              1,
              "#f0f921"
             ]
            ],
            "type": "heatmapgl"
           }
          ],
          "histogram": [
           {
            "marker": {
             "pattern": {
              "fillmode": "overlay",
              "size": 10,
              "solidity": 0.2
             }
            },
            "type": "histogram"
           }
          ],
          "histogram2d": [
           {
            "colorbar": {
             "outlinewidth": 0,
             "ticks": ""
            },
            "colorscale": [
             [
              0,
              "#0d0887"
             ],
             [
              0.1111111111111111,
              "#46039f"
             ],
             [
              0.2222222222222222,
              "#7201a8"
             ],
             [
              0.3333333333333333,
              "#9c179e"
             ],
             [
              0.4444444444444444,
              "#bd3786"
             ],
             [
              0.5555555555555556,
              "#d8576b"
             ],
             [
              0.6666666666666666,
              "#ed7953"
             ],
             [
              0.7777777777777778,
              "#fb9f3a"
             ],
             [
              0.8888888888888888,
              "#fdca26"
             ],
             [
              1,
              "#f0f921"
             ]
            ],
            "type": "histogram2d"
           }
          ],
          "histogram2dcontour": [
           {
            "colorbar": {
             "outlinewidth": 0,
             "ticks": ""
            },
            "colorscale": [
             [
              0,
              "#0d0887"
             ],
             [
              0.1111111111111111,
              "#46039f"
             ],
             [
              0.2222222222222222,
              "#7201a8"
             ],
             [
              0.3333333333333333,
              "#9c179e"
             ],
             [
              0.4444444444444444,
              "#bd3786"
             ],
             [
              0.5555555555555556,
              "#d8576b"
             ],
             [
              0.6666666666666666,
              "#ed7953"
             ],
             [
              0.7777777777777778,
              "#fb9f3a"
             ],
             [
              0.8888888888888888,
              "#fdca26"
             ],
             [
              1,
              "#f0f921"
             ]
            ],
            "type": "histogram2dcontour"
           }
          ],
          "mesh3d": [
           {
            "colorbar": {
             "outlinewidth": 0,
             "ticks": ""
            },
            "type": "mesh3d"
           }
          ],
          "parcoords": [
           {
            "line": {
             "colorbar": {
              "outlinewidth": 0,
              "ticks": ""
             }
            },
            "type": "parcoords"
           }
          ],
          "pie": [
           {
            "automargin": true,
            "type": "pie"
           }
          ],
          "scatter": [
           {
            "fillpattern": {
             "fillmode": "overlay",
             "size": 10,
             "solidity": 0.2
            },
            "type": "scatter"
           }
          ],
          "scatter3d": [
           {
            "line": {
             "colorbar": {
              "outlinewidth": 0,
              "ticks": ""
             }
            },
            "marker": {
             "colorbar": {
              "outlinewidth": 0,
              "ticks": ""
             }
            },
            "type": "scatter3d"
           }
          ],
          "scattercarpet": [
           {
            "marker": {
             "colorbar": {
              "outlinewidth": 0,
              "ticks": ""
             }
            },
            "type": "scattercarpet"
           }
          ],
          "scattergeo": [
           {
            "marker": {
             "colorbar": {
              "outlinewidth": 0,
              "ticks": ""
             }
            },
            "type": "scattergeo"
           }
          ],
          "scattergl": [
           {
            "marker": {
             "colorbar": {
              "outlinewidth": 0,
              "ticks": ""
             }
            },
            "type": "scattergl"
           }
          ],
          "scattermapbox": [
           {
            "marker": {
             "colorbar": {
              "outlinewidth": 0,
              "ticks": ""
             }
            },
            "type": "scattermapbox"
           }
          ],
          "scatterpolar": [
           {
            "marker": {
             "colorbar": {
              "outlinewidth": 0,
              "ticks": ""
             }
            },
            "type": "scatterpolar"
           }
          ],
          "scatterpolargl": [
           {
            "marker": {
             "colorbar": {
              "outlinewidth": 0,
              "ticks": ""
             }
            },
            "type": "scatterpolargl"
           }
          ],
          "scatterternary": [
           {
            "marker": {
             "colorbar": {
              "outlinewidth": 0,
              "ticks": ""
             }
            },
            "type": "scatterternary"
           }
          ],
          "surface": [
           {
            "colorbar": {
             "outlinewidth": 0,
             "ticks": ""
            },
            "colorscale": [
             [
              0,
              "#0d0887"
             ],
             [
              0.1111111111111111,
              "#46039f"
             ],
             [
              0.2222222222222222,
              "#7201a8"
             ],
             [
              0.3333333333333333,
              "#9c179e"
             ],
             [
              0.4444444444444444,
              "#bd3786"
             ],
             [
              0.5555555555555556,
              "#d8576b"
             ],
             [
              0.6666666666666666,
              "#ed7953"
             ],
             [
              0.7777777777777778,
              "#fb9f3a"
             ],
             [
              0.8888888888888888,
              "#fdca26"
             ],
             [
              1,
              "#f0f921"
             ]
            ],
            "type": "surface"
           }
          ],
          "table": [
           {
            "cells": {
             "fill": {
              "color": "#EBF0F8"
             },
             "line": {
              "color": "white"
             }
            },
            "header": {
             "fill": {
              "color": "#C8D4E3"
             },
             "line": {
              "color": "white"
             }
            },
            "type": "table"
           }
          ]
         },
         "layout": {
          "annotationdefaults": {
           "arrowcolor": "#2a3f5f",
           "arrowhead": 0,
           "arrowwidth": 1
          },
          "autotypenumbers": "strict",
          "coloraxis": {
           "colorbar": {
            "outlinewidth": 0,
            "ticks": ""
           }
          },
          "colorscale": {
           "diverging": [
            [
             0,
             "#8e0152"
            ],
            [
             0.1,
             "#c51b7d"
            ],
            [
             0.2,
             "#de77ae"
            ],
            [
             0.3,
             "#f1b6da"
            ],
            [
             0.4,
             "#fde0ef"
            ],
            [
             0.5,
             "#f7f7f7"
            ],
            [
             0.6,
             "#e6f5d0"
            ],
            [
             0.7,
             "#b8e186"
            ],
            [
             0.8,
             "#7fbc41"
            ],
            [
             0.9,
             "#4d9221"
            ],
            [
             1,
             "#276419"
            ]
           ],
           "sequential": [
            [
             0,
             "#0d0887"
            ],
            [
             0.1111111111111111,
             "#46039f"
            ],
            [
             0.2222222222222222,
             "#7201a8"
            ],
            [
             0.3333333333333333,
             "#9c179e"
            ],
            [
             0.4444444444444444,
             "#bd3786"
            ],
            [
             0.5555555555555556,
             "#d8576b"
            ],
            [
             0.6666666666666666,
             "#ed7953"
            ],
            [
             0.7777777777777778,
             "#fb9f3a"
            ],
            [
             0.8888888888888888,
             "#fdca26"
            ],
            [
             1,
             "#f0f921"
            ]
           ],
           "sequentialminus": [
            [
             0,
             "#0d0887"
            ],
            [
             0.1111111111111111,
             "#46039f"
            ],
            [
             0.2222222222222222,
             "#7201a8"
            ],
            [
             0.3333333333333333,
             "#9c179e"
            ],
            [
             0.4444444444444444,
             "#bd3786"
            ],
            [
             0.5555555555555556,
             "#d8576b"
            ],
            [
             0.6666666666666666,
             "#ed7953"
            ],
            [
             0.7777777777777778,
             "#fb9f3a"
            ],
            [
             0.8888888888888888,
             "#fdca26"
            ],
            [
             1,
             "#f0f921"
            ]
           ]
          },
          "colorway": [
           "#636efa",
           "#EF553B",
           "#00cc96",
           "#ab63fa",
           "#FFA15A",
           "#19d3f3",
           "#FF6692",
           "#B6E880",
           "#FF97FF",
           "#FECB52"
          ],
          "font": {
           "color": "#2a3f5f"
          },
          "geo": {
           "bgcolor": "white",
           "lakecolor": "white",
           "landcolor": "#E5ECF6",
           "showlakes": true,
           "showland": true,
           "subunitcolor": "white"
          },
          "hoverlabel": {
           "align": "left"
          },
          "hovermode": "closest",
          "mapbox": {
           "style": "light"
          },
          "paper_bgcolor": "white",
          "plot_bgcolor": "#E5ECF6",
          "polar": {
           "angularaxis": {
            "gridcolor": "white",
            "linecolor": "white",
            "ticks": ""
           },
           "bgcolor": "#E5ECF6",
           "radialaxis": {
            "gridcolor": "white",
            "linecolor": "white",
            "ticks": ""
           }
          },
          "scene": {
           "xaxis": {
            "backgroundcolor": "#E5ECF6",
            "gridcolor": "white",
            "gridwidth": 2,
            "linecolor": "white",
            "showbackground": true,
            "ticks": "",
            "zerolinecolor": "white"
           },
           "yaxis": {
            "backgroundcolor": "#E5ECF6",
            "gridcolor": "white",
            "gridwidth": 2,
            "linecolor": "white",
            "showbackground": true,
            "ticks": "",
            "zerolinecolor": "white"
           },
           "zaxis": {
            "backgroundcolor": "#E5ECF6",
            "gridcolor": "white",
            "gridwidth": 2,
            "linecolor": "white",
            "showbackground": true,
            "ticks": "",
            "zerolinecolor": "white"
           }
          },
          "shapedefaults": {
           "line": {
            "color": "#2a3f5f"
           }
          },
          "ternary": {
           "aaxis": {
            "gridcolor": "white",
            "linecolor": "white",
            "ticks": ""
           },
           "baxis": {
            "gridcolor": "white",
            "linecolor": "white",
            "ticks": ""
           },
           "bgcolor": "#E5ECF6",
           "caxis": {
            "gridcolor": "white",
            "linecolor": "white",
            "ticks": ""
           }
          },
          "title": {
           "x": 0.05
          },
          "xaxis": {
           "automargin": true,
           "gridcolor": "white",
           "linecolor": "white",
           "ticks": "",
           "title": {
            "standoff": 15
           },
           "zerolinecolor": "white",
           "zerolinewidth": 2
          },
          "yaxis": {
           "automargin": true,
           "gridcolor": "white",
           "linecolor": "white",
           "ticks": "",
           "title": {
            "standoff": 15
           },
           "zerolinecolor": "white",
           "zerolinewidth": 2
          }
         }
        },
        "title": {
         "text": "dose (uM) vs ALK1_ACVRL1 for NCGC00345830_G4"
        },
        "xaxis": {
         "title": {
          "text": "dose (uM)"
         }
        },
        "yaxis": {
         "title": {
          "text": "ALK1_ACVRL1"
         }
        }
       }
      },
      "text/html": [
       "<div>                            <div id=\"a1ff42f1-f156-4462-80a1-434518a231af\" class=\"plotly-graph-div\" style=\"height:525px; width:100%;\"></div>            <script type=\"text/javascript\">                require([\"plotly\"], function(Plotly) {                    window.PLOTLYENV=window.PLOTLYENV || {};                                    if (document.getElementById(\"a1ff42f1-f156-4462-80a1-434518a231af\")) {                    Plotly.newPlot(                        \"a1ff42f1-f156-4462-80a1-434518a231af\",                        [{\"marker\":{\"color\":\"rgba(152, 0, 0, .8)\"},\"mode\":\"markers\",\"name\":\"Real data\",\"x\":[10.0,3.3,1.11,0.37,0.12,0.04,0.01,0.0],\"y\":[0.621281603725783,0.691379354166517,0.753641522812234,0.806839562542839,0.850808388636446,0.886169343520487,0.913910336145231,1.0],\"type\":\"scatter\"}],                        {\"template\":{\"data\":{\"histogram2dcontour\":[{\"type\":\"histogram2dcontour\",\"colorbar\":{\"outlinewidth\":0,\"ticks\":\"\"},\"colorscale\":[[0.0,\"#0d0887\"],[0.1111111111111111,\"#46039f\"],[0.2222222222222222,\"#7201a8\"],[0.3333333333333333,\"#9c179e\"],[0.4444444444444444,\"#bd3786\"],[0.5555555555555556,\"#d8576b\"],[0.6666666666666666,\"#ed7953\"],[0.7777777777777778,\"#fb9f3a\"],[0.8888888888888888,\"#fdca26\"],[1.0,\"#f0f921\"]]}],\"choropleth\":[{\"type\":\"choropleth\",\"colorbar\":{\"outlinewidth\":0,\"ticks\":\"\"}}],\"histogram2d\":[{\"type\":\"histogram2d\",\"colorbar\":{\"outlinewidth\":0,\"ticks\":\"\"},\"colorscale\":[[0.0,\"#0d0887\"],[0.1111111111111111,\"#46039f\"],[0.2222222222222222,\"#7201a8\"],[0.3333333333333333,\"#9c179e\"],[0.4444444444444444,\"#bd3786\"],[0.5555555555555556,\"#d8576b\"],[0.6666666666666666,\"#ed7953\"],[0.7777777777777778,\"#fb9f3a\"],[0.8888888888888888,\"#fdca26\"],[1.0,\"#f0f921\"]]}],\"heatmap\":[{\"type\":\"heatmap\",\"colorbar\":{\"outlinewidth\":0,\"ticks\":\"\"},\"colorscale\":[[0.0,\"#0d0887\"],[0.1111111111111111,\"#46039f\"],[0.2222222222222222,\"#7201a8\"],[0.3333333333333333,\"#9c179e\"],[0.4444444444444444,\"#bd3786\"],[0.5555555555555556,\"#d8576b\"],[0.6666666666666666,\"#ed7953\"],[0.7777777777777778,\"#fb9f3a\"],[0.8888888888888888,\"#fdca26\"],[1.0,\"#f0f921\"]]}],\"heatmapgl\":[{\"type\":\"heatmapgl\",\"colorbar\":{\"outlinewidth\":0,\"ticks\":\"\"},\"colorscale\":[[0.0,\"#0d0887\"],[0.1111111111111111,\"#46039f\"],[0.2222222222222222,\"#7201a8\"],[0.3333333333333333,\"#9c179e\"],[0.4444444444444444,\"#bd3786\"],[0.5555555555555556,\"#d8576b\"],[0.6666666666666666,\"#ed7953\"],[0.7777777777777778,\"#fb9f3a\"],[0.8888888888888888,\"#fdca26\"],[1.0,\"#f0f921\"]]}],\"contourcarpet\":[{\"type\":\"contourcarpet\",\"colorbar\":{\"outlinewidth\":0,\"ticks\":\"\"}}],\"contour\":[{\"type\":\"contour\",\"colorbar\":{\"outlinewidth\":0,\"ticks\":\"\"},\"colorscale\":[[0.0,\"#0d0887\"],[0.1111111111111111,\"#46039f\"],[0.2222222222222222,\"#7201a8\"],[0.3333333333333333,\"#9c179e\"],[0.4444444444444444,\"#bd3786\"],[0.5555555555555556,\"#d8576b\"],[0.6666666666666666,\"#ed7953\"],[0.7777777777777778,\"#fb9f3a\"],[0.8888888888888888,\"#fdca26\"],[1.0,\"#f0f921\"]]}],\"surface\":[{\"type\":\"surface\",\"colorbar\":{\"outlinewidth\":0,\"ticks\":\"\"},\"colorscale\":[[0.0,\"#0d0887\"],[0.1111111111111111,\"#46039f\"],[0.2222222222222222,\"#7201a8\"],[0.3333333333333333,\"#9c179e\"],[0.4444444444444444,\"#bd3786\"],[0.5555555555555556,\"#d8576b\"],[0.6666666666666666,\"#ed7953\"],[0.7777777777777778,\"#fb9f3a\"],[0.8888888888888888,\"#fdca26\"],[1.0,\"#f0f921\"]]}],\"mesh3d\":[{\"type\":\"mesh3d\",\"colorbar\":{\"outlinewidth\":0,\"ticks\":\"\"}}],\"scatter\":[{\"fillpattern\":{\"fillmode\":\"overlay\",\"size\":10,\"solidity\":0.2},\"type\":\"scatter\"}],\"parcoords\":[{\"type\":\"parcoords\",\"line\":{\"colorbar\":{\"outlinewidth\":0,\"ticks\":\"\"}}}],\"scatterpolargl\":[{\"type\":\"scatterpolargl\",\"marker\":{\"colorbar\":{\"outlinewidth\":0,\"ticks\":\"\"}}}],\"bar\":[{\"error_x\":{\"color\":\"#2a3f5f\"},\"error_y\":{\"color\":\"#2a3f5f\"},\"marker\":{\"line\":{\"color\":\"#E5ECF6\",\"width\":0.5},\"pattern\":{\"fillmode\":\"overlay\",\"size\":10,\"solidity\":0.2}},\"type\":\"bar\"}],\"scattergeo\":[{\"type\":\"scattergeo\",\"marker\":{\"colorbar\":{\"outlinewidth\":0,\"ticks\":\"\"}}}],\"scatterpolar\":[{\"type\":\"scatterpolar\",\"marker\":{\"colorbar\":{\"outlinewidth\":0,\"ticks\":\"\"}}}],\"histogram\":[{\"marker\":{\"pattern\":{\"fillmode\":\"overlay\",\"size\":10,\"solidity\":0.2}},\"type\":\"histogram\"}],\"scattergl\":[{\"type\":\"scattergl\",\"marker\":{\"colorbar\":{\"outlinewidth\":0,\"ticks\":\"\"}}}],\"scatter3d\":[{\"type\":\"scatter3d\",\"line\":{\"colorbar\":{\"outlinewidth\":0,\"ticks\":\"\"}},\"marker\":{\"colorbar\":{\"outlinewidth\":0,\"ticks\":\"\"}}}],\"scattermapbox\":[{\"type\":\"scattermapbox\",\"marker\":{\"colorbar\":{\"outlinewidth\":0,\"ticks\":\"\"}}}],\"scatterternary\":[{\"type\":\"scatterternary\",\"marker\":{\"colorbar\":{\"outlinewidth\":0,\"ticks\":\"\"}}}],\"scattercarpet\":[{\"type\":\"scattercarpet\",\"marker\":{\"colorbar\":{\"outlinewidth\":0,\"ticks\":\"\"}}}],\"carpet\":[{\"aaxis\":{\"endlinecolor\":\"#2a3f5f\",\"gridcolor\":\"white\",\"linecolor\":\"white\",\"minorgridcolor\":\"white\",\"startlinecolor\":\"#2a3f5f\"},\"baxis\":{\"endlinecolor\":\"#2a3f5f\",\"gridcolor\":\"white\",\"linecolor\":\"white\",\"minorgridcolor\":\"white\",\"startlinecolor\":\"#2a3f5f\"},\"type\":\"carpet\"}],\"table\":[{\"cells\":{\"fill\":{\"color\":\"#EBF0F8\"},\"line\":{\"color\":\"white\"}},\"header\":{\"fill\":{\"color\":\"#C8D4E3\"},\"line\":{\"color\":\"white\"}},\"type\":\"table\"}],\"barpolar\":[{\"marker\":{\"line\":{\"color\":\"#E5ECF6\",\"width\":0.5},\"pattern\":{\"fillmode\":\"overlay\",\"size\":10,\"solidity\":0.2}},\"type\":\"barpolar\"}],\"pie\":[{\"automargin\":true,\"type\":\"pie\"}]},\"layout\":{\"autotypenumbers\":\"strict\",\"colorway\":[\"#636efa\",\"#EF553B\",\"#00cc96\",\"#ab63fa\",\"#FFA15A\",\"#19d3f3\",\"#FF6692\",\"#B6E880\",\"#FF97FF\",\"#FECB52\"],\"font\":{\"color\":\"#2a3f5f\"},\"hovermode\":\"closest\",\"hoverlabel\":{\"align\":\"left\"},\"paper_bgcolor\":\"white\",\"plot_bgcolor\":\"#E5ECF6\",\"polar\":{\"bgcolor\":\"#E5ECF6\",\"angularaxis\":{\"gridcolor\":\"white\",\"linecolor\":\"white\",\"ticks\":\"\"},\"radialaxis\":{\"gridcolor\":\"white\",\"linecolor\":\"white\",\"ticks\":\"\"}},\"ternary\":{\"bgcolor\":\"#E5ECF6\",\"aaxis\":{\"gridcolor\":\"white\",\"linecolor\":\"white\",\"ticks\":\"\"},\"baxis\":{\"gridcolor\":\"white\",\"linecolor\":\"white\",\"ticks\":\"\"},\"caxis\":{\"gridcolor\":\"white\",\"linecolor\":\"white\",\"ticks\":\"\"}},\"coloraxis\":{\"colorbar\":{\"outlinewidth\":0,\"ticks\":\"\"}},\"colorscale\":{\"sequential\":[[0.0,\"#0d0887\"],[0.1111111111111111,\"#46039f\"],[0.2222222222222222,\"#7201a8\"],[0.3333333333333333,\"#9c179e\"],[0.4444444444444444,\"#bd3786\"],[0.5555555555555556,\"#d8576b\"],[0.6666666666666666,\"#ed7953\"],[0.7777777777777778,\"#fb9f3a\"],[0.8888888888888888,\"#fdca26\"],[1.0,\"#f0f921\"]],\"sequentialminus\":[[0.0,\"#0d0887\"],[0.1111111111111111,\"#46039f\"],[0.2222222222222222,\"#7201a8\"],[0.3333333333333333,\"#9c179e\"],[0.4444444444444444,\"#bd3786\"],[0.5555555555555556,\"#d8576b\"],[0.6666666666666666,\"#ed7953\"],[0.7777777777777778,\"#fb9f3a\"],[0.8888888888888888,\"#fdca26\"],[1.0,\"#f0f921\"]],\"diverging\":[[0,\"#8e0152\"],[0.1,\"#c51b7d\"],[0.2,\"#de77ae\"],[0.3,\"#f1b6da\"],[0.4,\"#fde0ef\"],[0.5,\"#f7f7f7\"],[0.6,\"#e6f5d0\"],[0.7,\"#b8e186\"],[0.8,\"#7fbc41\"],[0.9,\"#4d9221\"],[1,\"#276419\"]]},\"xaxis\":{\"gridcolor\":\"white\",\"linecolor\":\"white\",\"ticks\":\"\",\"title\":{\"standoff\":15},\"zerolinecolor\":\"white\",\"automargin\":true,\"zerolinewidth\":2},\"yaxis\":{\"gridcolor\":\"white\",\"linecolor\":\"white\",\"ticks\":\"\",\"title\":{\"standoff\":15},\"zerolinecolor\":\"white\",\"automargin\":true,\"zerolinewidth\":2},\"scene\":{\"xaxis\":{\"backgroundcolor\":\"#E5ECF6\",\"gridcolor\":\"white\",\"linecolor\":\"white\",\"showbackground\":true,\"ticks\":\"\",\"zerolinecolor\":\"white\",\"gridwidth\":2},\"yaxis\":{\"backgroundcolor\":\"#E5ECF6\",\"gridcolor\":\"white\",\"linecolor\":\"white\",\"showbackground\":true,\"ticks\":\"\",\"zerolinecolor\":\"white\",\"gridwidth\":2},\"zaxis\":{\"backgroundcolor\":\"#E5ECF6\",\"gridcolor\":\"white\",\"linecolor\":\"white\",\"showbackground\":true,\"ticks\":\"\",\"zerolinecolor\":\"white\",\"gridwidth\":2}},\"shapedefaults\":{\"line\":{\"color\":\"#2a3f5f\"}},\"annotationdefaults\":{\"arrowcolor\":\"#2a3f5f\",\"arrowhead\":0,\"arrowwidth\":1},\"geo\":{\"bgcolor\":\"white\",\"landcolor\":\"#E5ECF6\",\"subunitcolor\":\"white\",\"showland\":true,\"showlakes\":true,\"lakecolor\":\"white\"},\"title\":{\"x\":0.05},\"mapbox\":{\"style\":\"light\"}}},\"title\":{\"text\":\"dose (uM) vs ALK1_ACVRL1 for NCGC00345830_G4\"},\"xaxis\":{\"title\":{\"text\":\"dose (uM)\"}},\"yaxis\":{\"title\":{\"text\":\"ALK1_ACVRL1\"}}},                        {\"responsive\": true}                    ).then(function(){\n",
       "                            \n",
       "var gd = document.getElementById('a1ff42f1-f156-4462-80a1-434518a231af');\n",
       "var x = new MutationObserver(function (mutations, observer) {{\n",
       "        var display = window.getComputedStyle(gd).display;\n",
       "        if (!display || display === 'none') {{\n",
       "            console.log([gd, 'removed!']);\n",
       "            Plotly.purge(gd);\n",
       "            observer.disconnect();\n",
       "        }}\n",
       "}});\n",
       "\n",
       "// Listen for the removal of the full notebook cells\n",
       "var notebookContainer = gd.closest('#notebook-container');\n",
       "if (notebookContainer) {{\n",
       "    x.observe(notebookContainer, {childList: true});\n",
       "}}\n",
       "\n",
       "// Listen for the clearing of the current output cell\n",
       "var outputEl = gd.closest('.output');\n",
       "if (outputEl) {{\n",
       "    x.observe(outputEl, {childList: true});\n",
       "}}\n",
       "\n",
       "                        })                };                });            </script>        </div>"
      ]
     },
     "metadata": {},
     "output_type": "display_data"
    },
    {
     "data": {
      "application/vnd.plotly.v1+json": {
       "config": {
        "plotlyServerURL": "https://plot.ly"
       },
       "data": [
        {
         "marker": {
          "color": "rgba(152, 0, 0, .8)"
         },
         "mode": "markers",
         "name": "Real data",
         "type": "scatter",
         "x": [
          10,
          3.3,
          1.11,
          0.37,
          0.12,
          0.04,
          0.01,
          0
         ],
         "y": [
          44.8153385708941,
          69.3734567901234,
          86.3475308641975,
          85.5302095024317,
          78.5968761690984,
          77.4702768424991,
          78.7268237934905,
          70
         ]
        },
        {
         "marker": {
          "color": "blue"
         },
         "mode": "lines",
         "name": "Fitted Sigmoid",
         "type": "scatter",
         "x": [
          0,
          0.1,
          0.2,
          0.30000000000000004,
          0.4,
          0.5,
          0.6000000000000001,
          0.7000000000000001,
          0.8,
          0.9,
          1,
          1.1,
          1.2000000000000002,
          1.3,
          1.4000000000000001,
          1.5,
          1.6,
          1.7000000000000002,
          1.8,
          1.9000000000000001,
          2,
          2.1,
          2.2,
          2.3000000000000003,
          2.4000000000000004,
          2.5,
          2.6,
          2.7,
          2.8000000000000003,
          2.9000000000000004,
          3,
          3.1,
          3.2,
          3.3000000000000003,
          3.4000000000000004,
          3.5,
          3.6,
          3.7,
          3.8000000000000003,
          3.9000000000000004,
          4,
          4.1000000000000005,
          4.2,
          4.3,
          4.4,
          4.5,
          4.6000000000000005,
          4.7,
          4.800000000000001,
          4.9,
          5,
          5.1000000000000005,
          5.2,
          5.300000000000001,
          5.4,
          5.5,
          5.6000000000000005,
          5.7,
          5.800000000000001,
          5.9,
          6,
          6.1000000000000005,
          6.2,
          6.300000000000001,
          6.4,
          6.5,
          6.6000000000000005,
          6.7,
          6.800000000000001,
          6.9,
          7,
          7.1000000000000005,
          7.2,
          7.300000000000001,
          7.4,
          7.5,
          7.6000000000000005,
          7.7,
          7.800000000000001,
          7.9,
          8,
          8.1,
          8.200000000000001,
          8.3,
          8.4,
          8.5,
          8.6,
          8.700000000000001,
          8.8,
          8.9,
          9,
          9.1,
          9.200000000000001,
          9.3,
          9.4,
          9.5,
          9.600000000000001,
          9.700000000000001,
          9.8,
          9.9,
          10
         ],
         "y": [
          79.44528619553283,
          79.4452861955328,
          79.44528619553274,
          79.44528619553255,
          79.44528619553199,
          79.44528619553039,
          79.44528619552584,
          79.44528619551284,
          79.4452861954757,
          79.4452861953696,
          79.44528619506659,
          79.44528619420103,
          79.4452861917287,
          79.44528618466677,
          79.44528616449531,
          79.44528610687814,
          79.44528594230212,
          79.44528547221192,
          79.44528412945996,
          79.44528029406263,
          79.44526933874924,
          79.44523804634689,
          79.44514866394475,
          79.44489335717599,
          79.44416412703387,
          79.44208134427474,
          79.43613352345213,
          79.41915558820777,
          79.37075188841442,
          79.2332357985523,
          78.8463992160235,
          77.7878528177049,
          75.09734822791279,
          69.37345679012252,
          60.763101201813186,
          52.78333871884264,
          48.09537830212162,
          46.03898676852549,
          45.253800158663815,
          44.9701151967647,
          44.86968288139425,
          44.834383642544175,
          44.82200853098135,
          44.81767398001529,
          44.816156220774154,
          44.81562483006684,
          44.81543878921341,
          44.81537365684911,
          44.815350854304384,
          44.81534287125028,
          44.81534007642555,
          44.81533909797249,
          44.81533875542138,
          44.81533863549609,
          44.8153385935109,
          44.81533857881211,
          44.815338573666146,
          44.81533857186457,
          44.81533857123385,
          44.81533857101304,
          44.81533857093574,
          44.81533857090867,
          44.8153385708992,
          44.815338570895875,
          44.81533857089472,
          44.815338570894305,
          44.81533857089417,
          44.81533857089411,
          44.8153385708941,
          44.81533857089409,
          44.81533857089409,
          44.81533857089409,
          44.81533857089409,
          44.81533857089409,
          44.81533857089409,
          44.81533857089409,
          44.81533857089409,
          44.81533857089409,
          44.81533857089409,
          44.81533857089409,
          44.81533857089409,
          44.81533857089409,
          44.81533857089409,
          44.81533857089409,
          44.81533857089409,
          44.81533857089409,
          44.81533857089409,
          44.81533857089409,
          44.81533857089409,
          44.81533857089409,
          44.81533857089409,
          44.81533857089409,
          44.81533857089409,
          44.81533857089409,
          44.81533857089409,
          44.81533857089409,
          44.81533857089409,
          44.81533857089409,
          44.81533857089409,
          44.81533857089409,
          44.81533857089409
         ]
        }
       ],
       "layout": {
        "template": {
         "data": {
          "bar": [
           {
            "error_x": {
             "color": "#2a3f5f"
            },
            "error_y": {
             "color": "#2a3f5f"
            },
            "marker": {
             "line": {
              "color": "#E5ECF6",
              "width": 0.5
             },
             "pattern": {
              "fillmode": "overlay",
              "size": 10,
              "solidity": 0.2
             }
            },
            "type": "bar"
           }
          ],
          "barpolar": [
           {
            "marker": {
             "line": {
              "color": "#E5ECF6",
              "width": 0.5
             },
             "pattern": {
              "fillmode": "overlay",
              "size": 10,
              "solidity": 0.2
             }
            },
            "type": "barpolar"
           }
          ],
          "carpet": [
           {
            "aaxis": {
             "endlinecolor": "#2a3f5f",
             "gridcolor": "white",
             "linecolor": "white",
             "minorgridcolor": "white",
             "startlinecolor": "#2a3f5f"
            },
            "baxis": {
             "endlinecolor": "#2a3f5f",
             "gridcolor": "white",
             "linecolor": "white",
             "minorgridcolor": "white",
             "startlinecolor": "#2a3f5f"
            },
            "type": "carpet"
           }
          ],
          "choropleth": [
           {
            "colorbar": {
             "outlinewidth": 0,
             "ticks": ""
            },
            "type": "choropleth"
           }
          ],
          "contour": [
           {
            "colorbar": {
             "outlinewidth": 0,
             "ticks": ""
            },
            "colorscale": [
             [
              0,
              "#0d0887"
             ],
             [
              0.1111111111111111,
              "#46039f"
             ],
             [
              0.2222222222222222,
              "#7201a8"
             ],
             [
              0.3333333333333333,
              "#9c179e"
             ],
             [
              0.4444444444444444,
              "#bd3786"
             ],
             [
              0.5555555555555556,
              "#d8576b"
             ],
             [
              0.6666666666666666,
              "#ed7953"
             ],
             [
              0.7777777777777778,
              "#fb9f3a"
             ],
             [
              0.8888888888888888,
              "#fdca26"
             ],
             [
              1,
              "#f0f921"
             ]
            ],
            "type": "contour"
           }
          ],
          "contourcarpet": [
           {
            "colorbar": {
             "outlinewidth": 0,
             "ticks": ""
            },
            "type": "contourcarpet"
           }
          ],
          "heatmap": [
           {
            "colorbar": {
             "outlinewidth": 0,
             "ticks": ""
            },
            "colorscale": [
             [
              0,
              "#0d0887"
             ],
             [
              0.1111111111111111,
              "#46039f"
             ],
             [
              0.2222222222222222,
              "#7201a8"
             ],
             [
              0.3333333333333333,
              "#9c179e"
             ],
             [
              0.4444444444444444,
              "#bd3786"
             ],
             [
              0.5555555555555556,
              "#d8576b"
             ],
             [
              0.6666666666666666,
              "#ed7953"
             ],
             [
              0.7777777777777778,
              "#fb9f3a"
             ],
             [
              0.8888888888888888,
              "#fdca26"
             ],
             [
              1,
              "#f0f921"
             ]
            ],
            "type": "heatmap"
           }
          ],
          "heatmapgl": [
           {
            "colorbar": {
             "outlinewidth": 0,
             "ticks": ""
            },
            "colorscale": [
             [
              0,
              "#0d0887"
             ],
             [
              0.1111111111111111,
              "#46039f"
             ],
             [
              0.2222222222222222,
              "#7201a8"
             ],
             [
              0.3333333333333333,
              "#9c179e"
             ],
             [
              0.4444444444444444,
              "#bd3786"
             ],
             [
              0.5555555555555556,
              "#d8576b"
             ],
             [
              0.6666666666666666,
              "#ed7953"
             ],
             [
              0.7777777777777778,
              "#fb9f3a"
             ],
             [
              0.8888888888888888,
              "#fdca26"
             ],
             [
              1,
              "#f0f921"
             ]
            ],
            "type": "heatmapgl"
           }
          ],
          "histogram": [
           {
            "marker": {
             "pattern": {
              "fillmode": "overlay",
              "size": 10,
              "solidity": 0.2
             }
            },
            "type": "histogram"
           }
          ],
          "histogram2d": [
           {
            "colorbar": {
             "outlinewidth": 0,
             "ticks": ""
            },
            "colorscale": [
             [
              0,
              "#0d0887"
             ],
             [
              0.1111111111111111,
              "#46039f"
             ],
             [
              0.2222222222222222,
              "#7201a8"
             ],
             [
              0.3333333333333333,
              "#9c179e"
             ],
             [
              0.4444444444444444,
              "#bd3786"
             ],
             [
              0.5555555555555556,
              "#d8576b"
             ],
             [
              0.6666666666666666,
              "#ed7953"
             ],
             [
              0.7777777777777778,
              "#fb9f3a"
             ],
             [
              0.8888888888888888,
              "#fdca26"
             ],
             [
              1,
              "#f0f921"
             ]
            ],
            "type": "histogram2d"
           }
          ],
          "histogram2dcontour": [
           {
            "colorbar": {
             "outlinewidth": 0,
             "ticks": ""
            },
            "colorscale": [
             [
              0,
              "#0d0887"
             ],
             [
              0.1111111111111111,
              "#46039f"
             ],
             [
              0.2222222222222222,
              "#7201a8"
             ],
             [
              0.3333333333333333,
              "#9c179e"
             ],
             [
              0.4444444444444444,
              "#bd3786"
             ],
             [
              0.5555555555555556,
              "#d8576b"
             ],
             [
              0.6666666666666666,
              "#ed7953"
             ],
             [
              0.7777777777777778,
              "#fb9f3a"
             ],
             [
              0.8888888888888888,
              "#fdca26"
             ],
             [
              1,
              "#f0f921"
             ]
            ],
            "type": "histogram2dcontour"
           }
          ],
          "mesh3d": [
           {
            "colorbar": {
             "outlinewidth": 0,
             "ticks": ""
            },
            "type": "mesh3d"
           }
          ],
          "parcoords": [
           {
            "line": {
             "colorbar": {
              "outlinewidth": 0,
              "ticks": ""
             }
            },
            "type": "parcoords"
           }
          ],
          "pie": [
           {
            "automargin": true,
            "type": "pie"
           }
          ],
          "scatter": [
           {
            "fillpattern": {
             "fillmode": "overlay",
             "size": 10,
             "solidity": 0.2
            },
            "type": "scatter"
           }
          ],
          "scatter3d": [
           {
            "line": {
             "colorbar": {
              "outlinewidth": 0,
              "ticks": ""
             }
            },
            "marker": {
             "colorbar": {
              "outlinewidth": 0,
              "ticks": ""
             }
            },
            "type": "scatter3d"
           }
          ],
          "scattercarpet": [
           {
            "marker": {
             "colorbar": {
              "outlinewidth": 0,
              "ticks": ""
             }
            },
            "type": "scattercarpet"
           }
          ],
          "scattergeo": [
           {
            "marker": {
             "colorbar": {
              "outlinewidth": 0,
              "ticks": ""
             }
            },
            "type": "scattergeo"
           }
          ],
          "scattergl": [
           {
            "marker": {
             "colorbar": {
              "outlinewidth": 0,
              "ticks": ""
             }
            },
            "type": "scattergl"
           }
          ],
          "scattermapbox": [
           {
            "marker": {
             "colorbar": {
              "outlinewidth": 0,
              "ticks": ""
             }
            },
            "type": "scattermapbox"
           }
          ],
          "scatterpolar": [
           {
            "marker": {
             "colorbar": {
              "outlinewidth": 0,
              "ticks": ""
             }
            },
            "type": "scatterpolar"
           }
          ],
          "scatterpolargl": [
           {
            "marker": {
             "colorbar": {
              "outlinewidth": 0,
              "ticks": ""
             }
            },
            "type": "scatterpolargl"
           }
          ],
          "scatterternary": [
           {
            "marker": {
             "colorbar": {
              "outlinewidth": 0,
              "ticks": ""
             }
            },
            "type": "scatterternary"
           }
          ],
          "surface": [
           {
            "colorbar": {
             "outlinewidth": 0,
             "ticks": ""
            },
            "colorscale": [
             [
              0,
              "#0d0887"
             ],
             [
              0.1111111111111111,
              "#46039f"
             ],
             [
              0.2222222222222222,
              "#7201a8"
             ],
             [
              0.3333333333333333,
              "#9c179e"
             ],
             [
              0.4444444444444444,
              "#bd3786"
             ],
             [
              0.5555555555555556,
              "#d8576b"
             ],
             [
              0.6666666666666666,
              "#ed7953"
             ],
             [
              0.7777777777777778,
              "#fb9f3a"
             ],
             [
              0.8888888888888888,
              "#fdca26"
             ],
             [
              1,
              "#f0f921"
             ]
            ],
            "type": "surface"
           }
          ],
          "table": [
           {
            "cells": {
             "fill": {
              "color": "#EBF0F8"
             },
             "line": {
              "color": "white"
             }
            },
            "header": {
             "fill": {
              "color": "#C8D4E3"
             },
             "line": {
              "color": "white"
             }
            },
            "type": "table"
           }
          ]
         },
         "layout": {
          "annotationdefaults": {
           "arrowcolor": "#2a3f5f",
           "arrowhead": 0,
           "arrowwidth": 1
          },
          "autotypenumbers": "strict",
          "coloraxis": {
           "colorbar": {
            "outlinewidth": 0,
            "ticks": ""
           }
          },
          "colorscale": {
           "diverging": [
            [
             0,
             "#8e0152"
            ],
            [
             0.1,
             "#c51b7d"
            ],
            [
             0.2,
             "#de77ae"
            ],
            [
             0.3,
             "#f1b6da"
            ],
            [
             0.4,
             "#fde0ef"
            ],
            [
             0.5,
             "#f7f7f7"
            ],
            [
             0.6,
             "#e6f5d0"
            ],
            [
             0.7,
             "#b8e186"
            ],
            [
             0.8,
             "#7fbc41"
            ],
            [
             0.9,
             "#4d9221"
            ],
            [
             1,
             "#276419"
            ]
           ],
           "sequential": [
            [
             0,
             "#0d0887"
            ],
            [
             0.1111111111111111,
             "#46039f"
            ],
            [
             0.2222222222222222,
             "#7201a8"
            ],
            [
             0.3333333333333333,
             "#9c179e"
            ],
            [
             0.4444444444444444,
             "#bd3786"
            ],
            [
             0.5555555555555556,
             "#d8576b"
            ],
            [
             0.6666666666666666,
             "#ed7953"
            ],
            [
             0.7777777777777778,
             "#fb9f3a"
            ],
            [
             0.8888888888888888,
             "#fdca26"
            ],
            [
             1,
             "#f0f921"
            ]
           ],
           "sequentialminus": [
            [
             0,
             "#0d0887"
            ],
            [
             0.1111111111111111,
             "#46039f"
            ],
            [
             0.2222222222222222,
             "#7201a8"
            ],
            [
             0.3333333333333333,
             "#9c179e"
            ],
            [
             0.4444444444444444,
             "#bd3786"
            ],
            [
             0.5555555555555556,
             "#d8576b"
            ],
            [
             0.6666666666666666,
             "#ed7953"
            ],
            [
             0.7777777777777778,
             "#fb9f3a"
            ],
            [
             0.8888888888888888,
             "#fdca26"
            ],
            [
             1,
             "#f0f921"
            ]
           ]
          },
          "colorway": [
           "#636efa",
           "#EF553B",
           "#00cc96",
           "#ab63fa",
           "#FFA15A",
           "#19d3f3",
           "#FF6692",
           "#B6E880",
           "#FF97FF",
           "#FECB52"
          ],
          "font": {
           "color": "#2a3f5f"
          },
          "geo": {
           "bgcolor": "white",
           "lakecolor": "white",
           "landcolor": "#E5ECF6",
           "showlakes": true,
           "showland": true,
           "subunitcolor": "white"
          },
          "hoverlabel": {
           "align": "left"
          },
          "hovermode": "closest",
          "mapbox": {
           "style": "light"
          },
          "paper_bgcolor": "white",
          "plot_bgcolor": "#E5ECF6",
          "polar": {
           "angularaxis": {
            "gridcolor": "white",
            "linecolor": "white",
            "ticks": ""
           },
           "bgcolor": "#E5ECF6",
           "radialaxis": {
            "gridcolor": "white",
            "linecolor": "white",
            "ticks": ""
           }
          },
          "scene": {
           "xaxis": {
            "backgroundcolor": "#E5ECF6",
            "gridcolor": "white",
            "gridwidth": 2,
            "linecolor": "white",
            "showbackground": true,
            "ticks": "",
            "zerolinecolor": "white"
           },
           "yaxis": {
            "backgroundcolor": "#E5ECF6",
            "gridcolor": "white",
            "gridwidth": 2,
            "linecolor": "white",
            "showbackground": true,
            "ticks": "",
            "zerolinecolor": "white"
           },
           "zaxis": {
            "backgroundcolor": "#E5ECF6",
            "gridcolor": "white",
            "gridwidth": 2,
            "linecolor": "white",
            "showbackground": true,
            "ticks": "",
            "zerolinecolor": "white"
           }
          },
          "shapedefaults": {
           "line": {
            "color": "#2a3f5f"
           }
          },
          "ternary": {
           "aaxis": {
            "gridcolor": "white",
            "linecolor": "white",
            "ticks": ""
           },
           "baxis": {
            "gridcolor": "white",
            "linecolor": "white",
            "ticks": ""
           },
           "bgcolor": "#E5ECF6",
           "caxis": {
            "gridcolor": "white",
            "linecolor": "white",
            "ticks": ""
           }
          },
          "title": {
           "x": 0.05
          },
          "xaxis": {
           "automargin": true,
           "gridcolor": "white",
           "linecolor": "white",
           "ticks": "",
           "title": {
            "standoff": 15
           },
           "zerolinecolor": "white",
           "zerolinewidth": 2
          },
          "yaxis": {
           "automargin": true,
           "gridcolor": "white",
           "linecolor": "white",
           "ticks": "",
           "title": {
            "standoff": 15
           },
           "zerolinecolor": "white",
           "zerolinewidth": 2
          }
         }
        },
        "title": {
         "text": "dose (uM) vs Raw Y (interpolation to 70) for NCGC00345830_G4"
        },
        "xaxis": {
         "title": {
          "text": "dose (uM)"
         }
        },
        "yaxis": {
         "title": {
          "text": "Raw Y (interpolation to 70)"
         }
        }
       }
      },
      "text/html": [
       "<div>                            <div id=\"f7fe28e5-3d35-433e-a74e-571529508e1d\" class=\"plotly-graph-div\" style=\"height:525px; width:100%;\"></div>            <script type=\"text/javascript\">                require([\"plotly\"], function(Plotly) {                    window.PLOTLYENV=window.PLOTLYENV || {};                                    if (document.getElementById(\"f7fe28e5-3d35-433e-a74e-571529508e1d\")) {                    Plotly.newPlot(                        \"f7fe28e5-3d35-433e-a74e-571529508e1d\",                        [{\"marker\":{\"color\":\"rgba(152, 0, 0, .8)\"},\"mode\":\"markers\",\"name\":\"Real data\",\"x\":[10.0,3.3,1.11,0.37,0.12,0.04,0.01,0.0],\"y\":[44.8153385708941,69.3734567901234,86.3475308641975,85.5302095024317,78.5968761690984,77.4702768424991,78.7268237934905,70.0],\"type\":\"scatter\"},{\"marker\":{\"color\":\"blue\"},\"mode\":\"lines\",\"name\":\"Fitted Sigmoid\",\"x\":[0.0,0.1,0.2,0.30000000000000004,0.4,0.5,0.6000000000000001,0.7000000000000001,0.8,0.9,1.0,1.1,1.2000000000000002,1.3,1.4000000000000001,1.5,1.6,1.7000000000000002,1.8,1.9000000000000001,2.0,2.1,2.2,2.3000000000000003,2.4000000000000004,2.5,2.6,2.7,2.8000000000000003,2.9000000000000004,3.0,3.1,3.2,3.3000000000000003,3.4000000000000004,3.5,3.6,3.7,3.8000000000000003,3.9000000000000004,4.0,4.1000000000000005,4.2,4.3,4.4,4.5,4.6000000000000005,4.7,4.800000000000001,4.9,5.0,5.1000000000000005,5.2,5.300000000000001,5.4,5.5,5.6000000000000005,5.7,5.800000000000001,5.9,6.0,6.1000000000000005,6.2,6.300000000000001,6.4,6.5,6.6000000000000005,6.7,6.800000000000001,6.9,7.0,7.1000000000000005,7.2,7.300000000000001,7.4,7.5,7.6000000000000005,7.7,7.800000000000001,7.9,8.0,8.1,8.200000000000001,8.3,8.4,8.5,8.6,8.700000000000001,8.8,8.9,9.0,9.1,9.200000000000001,9.3,9.4,9.5,9.600000000000001,9.700000000000001,9.8,9.9,10.0],\"y\":[79.44528619553283,79.4452861955328,79.44528619553274,79.44528619553255,79.44528619553199,79.44528619553039,79.44528619552584,79.44528619551284,79.4452861954757,79.4452861953696,79.44528619506659,79.44528619420103,79.4452861917287,79.44528618466677,79.44528616449531,79.44528610687814,79.44528594230212,79.44528547221192,79.44528412945996,79.44528029406263,79.44526933874924,79.44523804634689,79.44514866394475,79.44489335717599,79.44416412703387,79.44208134427474,79.43613352345213,79.41915558820777,79.37075188841442,79.2332357985523,78.8463992160235,77.7878528177049,75.09734822791279,69.37345679012252,60.763101201813186,52.78333871884264,48.09537830212162,46.03898676852549,45.253800158663815,44.9701151967647,44.86968288139425,44.834383642544175,44.82200853098135,44.81767398001529,44.816156220774154,44.81562483006684,44.81543878921341,44.81537365684911,44.815350854304384,44.81534287125028,44.81534007642555,44.81533909797249,44.81533875542138,44.81533863549609,44.8153385935109,44.81533857881211,44.815338573666146,44.81533857186457,44.81533857123385,44.81533857101304,44.81533857093574,44.81533857090867,44.8153385708992,44.815338570895875,44.81533857089472,44.815338570894305,44.81533857089417,44.81533857089411,44.8153385708941,44.81533857089409,44.81533857089409,44.81533857089409,44.81533857089409,44.81533857089409,44.81533857089409,44.81533857089409,44.81533857089409,44.81533857089409,44.81533857089409,44.81533857089409,44.81533857089409,44.81533857089409,44.81533857089409,44.81533857089409,44.81533857089409,44.81533857089409,44.81533857089409,44.81533857089409,44.81533857089409,44.81533857089409,44.81533857089409,44.81533857089409,44.81533857089409,44.81533857089409,44.81533857089409,44.81533857089409,44.81533857089409,44.81533857089409,44.81533857089409,44.81533857089409,44.81533857089409],\"type\":\"scatter\"}],                        {\"template\":{\"data\":{\"histogram2dcontour\":[{\"type\":\"histogram2dcontour\",\"colorbar\":{\"outlinewidth\":0,\"ticks\":\"\"},\"colorscale\":[[0.0,\"#0d0887\"],[0.1111111111111111,\"#46039f\"],[0.2222222222222222,\"#7201a8\"],[0.3333333333333333,\"#9c179e\"],[0.4444444444444444,\"#bd3786\"],[0.5555555555555556,\"#d8576b\"],[0.6666666666666666,\"#ed7953\"],[0.7777777777777778,\"#fb9f3a\"],[0.8888888888888888,\"#fdca26\"],[1.0,\"#f0f921\"]]}],\"choropleth\":[{\"type\":\"choropleth\",\"colorbar\":{\"outlinewidth\":0,\"ticks\":\"\"}}],\"histogram2d\":[{\"type\":\"histogram2d\",\"colorbar\":{\"outlinewidth\":0,\"ticks\":\"\"},\"colorscale\":[[0.0,\"#0d0887\"],[0.1111111111111111,\"#46039f\"],[0.2222222222222222,\"#7201a8\"],[0.3333333333333333,\"#9c179e\"],[0.4444444444444444,\"#bd3786\"],[0.5555555555555556,\"#d8576b\"],[0.6666666666666666,\"#ed7953\"],[0.7777777777777778,\"#fb9f3a\"],[0.8888888888888888,\"#fdca26\"],[1.0,\"#f0f921\"]]}],\"heatmap\":[{\"type\":\"heatmap\",\"colorbar\":{\"outlinewidth\":0,\"ticks\":\"\"},\"colorscale\":[[0.0,\"#0d0887\"],[0.1111111111111111,\"#46039f\"],[0.2222222222222222,\"#7201a8\"],[0.3333333333333333,\"#9c179e\"],[0.4444444444444444,\"#bd3786\"],[0.5555555555555556,\"#d8576b\"],[0.6666666666666666,\"#ed7953\"],[0.7777777777777778,\"#fb9f3a\"],[0.8888888888888888,\"#fdca26\"],[1.0,\"#f0f921\"]]}],\"heatmapgl\":[{\"type\":\"heatmapgl\",\"colorbar\":{\"outlinewidth\":0,\"ticks\":\"\"},\"colorscale\":[[0.0,\"#0d0887\"],[0.1111111111111111,\"#46039f\"],[0.2222222222222222,\"#7201a8\"],[0.3333333333333333,\"#9c179e\"],[0.4444444444444444,\"#bd3786\"],[0.5555555555555556,\"#d8576b\"],[0.6666666666666666,\"#ed7953\"],[0.7777777777777778,\"#fb9f3a\"],[0.8888888888888888,\"#fdca26\"],[1.0,\"#f0f921\"]]}],\"contourcarpet\":[{\"type\":\"contourcarpet\",\"colorbar\":{\"outlinewidth\":0,\"ticks\":\"\"}}],\"contour\":[{\"type\":\"contour\",\"colorbar\":{\"outlinewidth\":0,\"ticks\":\"\"},\"colorscale\":[[0.0,\"#0d0887\"],[0.1111111111111111,\"#46039f\"],[0.2222222222222222,\"#7201a8\"],[0.3333333333333333,\"#9c179e\"],[0.4444444444444444,\"#bd3786\"],[0.5555555555555556,\"#d8576b\"],[0.6666666666666666,\"#ed7953\"],[0.7777777777777778,\"#fb9f3a\"],[0.8888888888888888,\"#fdca26\"],[1.0,\"#f0f921\"]]}],\"surface\":[{\"type\":\"surface\",\"colorbar\":{\"outlinewidth\":0,\"ticks\":\"\"},\"colorscale\":[[0.0,\"#0d0887\"],[0.1111111111111111,\"#46039f\"],[0.2222222222222222,\"#7201a8\"],[0.3333333333333333,\"#9c179e\"],[0.4444444444444444,\"#bd3786\"],[0.5555555555555556,\"#d8576b\"],[0.6666666666666666,\"#ed7953\"],[0.7777777777777778,\"#fb9f3a\"],[0.8888888888888888,\"#fdca26\"],[1.0,\"#f0f921\"]]}],\"mesh3d\":[{\"type\":\"mesh3d\",\"colorbar\":{\"outlinewidth\":0,\"ticks\":\"\"}}],\"scatter\":[{\"fillpattern\":{\"fillmode\":\"overlay\",\"size\":10,\"solidity\":0.2},\"type\":\"scatter\"}],\"parcoords\":[{\"type\":\"parcoords\",\"line\":{\"colorbar\":{\"outlinewidth\":0,\"ticks\":\"\"}}}],\"scatterpolargl\":[{\"type\":\"scatterpolargl\",\"marker\":{\"colorbar\":{\"outlinewidth\":0,\"ticks\":\"\"}}}],\"bar\":[{\"error_x\":{\"color\":\"#2a3f5f\"},\"error_y\":{\"color\":\"#2a3f5f\"},\"marker\":{\"line\":{\"color\":\"#E5ECF6\",\"width\":0.5},\"pattern\":{\"fillmode\":\"overlay\",\"size\":10,\"solidity\":0.2}},\"type\":\"bar\"}],\"scattergeo\":[{\"type\":\"scattergeo\",\"marker\":{\"colorbar\":{\"outlinewidth\":0,\"ticks\":\"\"}}}],\"scatterpolar\":[{\"type\":\"scatterpolar\",\"marker\":{\"colorbar\":{\"outlinewidth\":0,\"ticks\":\"\"}}}],\"histogram\":[{\"marker\":{\"pattern\":{\"fillmode\":\"overlay\",\"size\":10,\"solidity\":0.2}},\"type\":\"histogram\"}],\"scattergl\":[{\"type\":\"scattergl\",\"marker\":{\"colorbar\":{\"outlinewidth\":0,\"ticks\":\"\"}}}],\"scatter3d\":[{\"type\":\"scatter3d\",\"line\":{\"colorbar\":{\"outlinewidth\":0,\"ticks\":\"\"}},\"marker\":{\"colorbar\":{\"outlinewidth\":0,\"ticks\":\"\"}}}],\"scattermapbox\":[{\"type\":\"scattermapbox\",\"marker\":{\"colorbar\":{\"outlinewidth\":0,\"ticks\":\"\"}}}],\"scatterternary\":[{\"type\":\"scatterternary\",\"marker\":{\"colorbar\":{\"outlinewidth\":0,\"ticks\":\"\"}}}],\"scattercarpet\":[{\"type\":\"scattercarpet\",\"marker\":{\"colorbar\":{\"outlinewidth\":0,\"ticks\":\"\"}}}],\"carpet\":[{\"aaxis\":{\"endlinecolor\":\"#2a3f5f\",\"gridcolor\":\"white\",\"linecolor\":\"white\",\"minorgridcolor\":\"white\",\"startlinecolor\":\"#2a3f5f\"},\"baxis\":{\"endlinecolor\":\"#2a3f5f\",\"gridcolor\":\"white\",\"linecolor\":\"white\",\"minorgridcolor\":\"white\",\"startlinecolor\":\"#2a3f5f\"},\"type\":\"carpet\"}],\"table\":[{\"cells\":{\"fill\":{\"color\":\"#EBF0F8\"},\"line\":{\"color\":\"white\"}},\"header\":{\"fill\":{\"color\":\"#C8D4E3\"},\"line\":{\"color\":\"white\"}},\"type\":\"table\"}],\"barpolar\":[{\"marker\":{\"line\":{\"color\":\"#E5ECF6\",\"width\":0.5},\"pattern\":{\"fillmode\":\"overlay\",\"size\":10,\"solidity\":0.2}},\"type\":\"barpolar\"}],\"pie\":[{\"automargin\":true,\"type\":\"pie\"}]},\"layout\":{\"autotypenumbers\":\"strict\",\"colorway\":[\"#636efa\",\"#EF553B\",\"#00cc96\",\"#ab63fa\",\"#FFA15A\",\"#19d3f3\",\"#FF6692\",\"#B6E880\",\"#FF97FF\",\"#FECB52\"],\"font\":{\"color\":\"#2a3f5f\"},\"hovermode\":\"closest\",\"hoverlabel\":{\"align\":\"left\"},\"paper_bgcolor\":\"white\",\"plot_bgcolor\":\"#E5ECF6\",\"polar\":{\"bgcolor\":\"#E5ECF6\",\"angularaxis\":{\"gridcolor\":\"white\",\"linecolor\":\"white\",\"ticks\":\"\"},\"radialaxis\":{\"gridcolor\":\"white\",\"linecolor\":\"white\",\"ticks\":\"\"}},\"ternary\":{\"bgcolor\":\"#E5ECF6\",\"aaxis\":{\"gridcolor\":\"white\",\"linecolor\":\"white\",\"ticks\":\"\"},\"baxis\":{\"gridcolor\":\"white\",\"linecolor\":\"white\",\"ticks\":\"\"},\"caxis\":{\"gridcolor\":\"white\",\"linecolor\":\"white\",\"ticks\":\"\"}},\"coloraxis\":{\"colorbar\":{\"outlinewidth\":0,\"ticks\":\"\"}},\"colorscale\":{\"sequential\":[[0.0,\"#0d0887\"],[0.1111111111111111,\"#46039f\"],[0.2222222222222222,\"#7201a8\"],[0.3333333333333333,\"#9c179e\"],[0.4444444444444444,\"#bd3786\"],[0.5555555555555556,\"#d8576b\"],[0.6666666666666666,\"#ed7953\"],[0.7777777777777778,\"#fb9f3a\"],[0.8888888888888888,\"#fdca26\"],[1.0,\"#f0f921\"]],\"sequentialminus\":[[0.0,\"#0d0887\"],[0.1111111111111111,\"#46039f\"],[0.2222222222222222,\"#7201a8\"],[0.3333333333333333,\"#9c179e\"],[0.4444444444444444,\"#bd3786\"],[0.5555555555555556,\"#d8576b\"],[0.6666666666666666,\"#ed7953\"],[0.7777777777777778,\"#fb9f3a\"],[0.8888888888888888,\"#fdca26\"],[1.0,\"#f0f921\"]],\"diverging\":[[0,\"#8e0152\"],[0.1,\"#c51b7d\"],[0.2,\"#de77ae\"],[0.3,\"#f1b6da\"],[0.4,\"#fde0ef\"],[0.5,\"#f7f7f7\"],[0.6,\"#e6f5d0\"],[0.7,\"#b8e186\"],[0.8,\"#7fbc41\"],[0.9,\"#4d9221\"],[1,\"#276419\"]]},\"xaxis\":{\"gridcolor\":\"white\",\"linecolor\":\"white\",\"ticks\":\"\",\"title\":{\"standoff\":15},\"zerolinecolor\":\"white\",\"automargin\":true,\"zerolinewidth\":2},\"yaxis\":{\"gridcolor\":\"white\",\"linecolor\":\"white\",\"ticks\":\"\",\"title\":{\"standoff\":15},\"zerolinecolor\":\"white\",\"automargin\":true,\"zerolinewidth\":2},\"scene\":{\"xaxis\":{\"backgroundcolor\":\"#E5ECF6\",\"gridcolor\":\"white\",\"linecolor\":\"white\",\"showbackground\":true,\"ticks\":\"\",\"zerolinecolor\":\"white\",\"gridwidth\":2},\"yaxis\":{\"backgroundcolor\":\"#E5ECF6\",\"gridcolor\":\"white\",\"linecolor\":\"white\",\"showbackground\":true,\"ticks\":\"\",\"zerolinecolor\":\"white\",\"gridwidth\":2},\"zaxis\":{\"backgroundcolor\":\"#E5ECF6\",\"gridcolor\":\"white\",\"linecolor\":\"white\",\"showbackground\":true,\"ticks\":\"\",\"zerolinecolor\":\"white\",\"gridwidth\":2}},\"shapedefaults\":{\"line\":{\"color\":\"#2a3f5f\"}},\"annotationdefaults\":{\"arrowcolor\":\"#2a3f5f\",\"arrowhead\":0,\"arrowwidth\":1},\"geo\":{\"bgcolor\":\"white\",\"landcolor\":\"#E5ECF6\",\"subunitcolor\":\"white\",\"showland\":true,\"showlakes\":true,\"lakecolor\":\"white\"},\"title\":{\"x\":0.05},\"mapbox\":{\"style\":\"light\"}}},\"title\":{\"text\":\"dose (uM) vs Raw Y (interpolation to 70) for NCGC00345830_G4\"},\"xaxis\":{\"title\":{\"text\":\"dose (uM)\"}},\"yaxis\":{\"title\":{\"text\":\"Raw Y (interpolation to 70)\"}}},                        {\"responsive\": true}                    ).then(function(){\n",
       "                            \n",
       "var gd = document.getElementById('f7fe28e5-3d35-433e-a74e-571529508e1d');\n",
       "var x = new MutationObserver(function (mutations, observer) {{\n",
       "        var display = window.getComputedStyle(gd).display;\n",
       "        if (!display || display === 'none') {{\n",
       "            console.log([gd, 'removed!']);\n",
       "            Plotly.purge(gd);\n",
       "            observer.disconnect();\n",
       "        }}\n",
       "}});\n",
       "\n",
       "// Listen for the removal of the full notebook cells\n",
       "var notebookContainer = gd.closest('#notebook-container');\n",
       "if (notebookContainer) {{\n",
       "    x.observe(notebookContainer, {childList: true});\n",
       "}}\n",
       "\n",
       "// Listen for the clearing of the current output cell\n",
       "var outputEl = gd.closest('.output');\n",
       "if (outputEl) {{\n",
       "    x.observe(outputEl, {childList: true});\n",
       "}}\n",
       "\n",
       "                        })                };                });            </script>        </div>"
      ]
     },
     "metadata": {},
     "output_type": "display_data"
    }
   ],
   "source": [
    "i = 11\n",
    "j = 12\n",
    "drug = drugs[i] \n",
    "kinase_columns = kinases[[1,2,3]]\n",
    "dose_column = 'dose (uM)'\n",
    "response_column = 'Raw Y (interpolation to 70)'\n",
    "plot_kinase_sigmoid(data, drug, dose_column, kinase_columns, response_column)"
   ]
  },
  {
   "cell_type": "markdown",
   "id": "c74b3070",
   "metadata": {},
   "source": [
    "## Run R"
   ]
  },
  {
   "cell_type": "markdown",
   "id": "919b46a2",
   "metadata": {},
   "source": [
    "### Transform data"
   ]
  },
  {
   "cell_type": "code",
   "execution_count": 22,
   "id": "e8c139dc",
   "metadata": {},
   "outputs": [],
   "source": [
    "data = data[data['dose (uM)'] != 0.]"
   ]
  },
  {
   "cell_type": "code",
   "execution_count": 23,
   "id": "6dbfdd5e",
   "metadata": {},
   "outputs": [],
   "source": [
    "number_drug_dict = dict(zip(range(len(data)), data['drugNames'].unique()))\n",
    "drug_number_dict = {v: k for k, v in number_drug_dict.items()}"
   ]
  },
  {
   "cell_type": "code",
   "execution_count": 24,
   "id": "0325e037",
   "metadata": {},
   "outputs": [],
   "source": [
    "number_kinase_dict = dict(zip(range(1, len(kinases)+1), kinases))\n",
    "kinase_number_dict = {v: k for k, v in number_kinase_dict.items()}"
   ]
  },
  {
   "cell_type": "code",
   "execution_count": 25,
   "id": "fd43f9c7",
   "metadata": {},
   "outputs": [],
   "source": [
    "y = data[response_column].to_numpy().reshape(-1,1)\n",
    "X = data[kinases].values\n",
    "t = data[dose_column].to_numpy().reshape(-1,1)\n",
    "drug = data['drugNames'].apply(lambda x: drug_number_dict[x]).to_numpy().reshape(-1,1)"
   ]
  },
  {
   "cell_type": "code",
   "execution_count": 26,
   "id": "2a2cb423",
   "metadata": {},
   "outputs": [],
   "source": [
    "# X = (X - X.mean(axis=0)) / X.var(axis=0)"
   ]
  },
  {
   "cell_type": "markdown",
   "id": "ea166fe7",
   "metadata": {},
   "source": [
    "### Save"
   ]
  },
  {
   "cell_type": "code",
   "execution_count": 27,
   "id": "59e8ba04",
   "metadata": {},
   "outputs": [],
   "source": [
    "r_data = np.concatenate([drug, y, t, X], axis=1)\n",
    "r_columns = ['subj', 'Y', 'time'] + [f'Cov_{i+1}' for i in range(X.shape[1])]"
   ]
  },
  {
   "cell_type": "code",
   "execution_count": 28,
   "id": "afd100be",
   "metadata": {},
   "outputs": [
    {
     "data": {
      "text/html": [
       "<div>\n",
       "<style scoped>\n",
       "    .dataframe tbody tr th:only-of-type {\n",
       "        vertical-align: middle;\n",
       "    }\n",
       "\n",
       "    .dataframe tbody tr th {\n",
       "        vertical-align: top;\n",
       "    }\n",
       "\n",
       "    .dataframe thead th {\n",
       "        text-align: right;\n",
       "    }\n",
       "</style>\n",
       "<table border=\"1\" class=\"dataframe\">\n",
       "  <thead>\n",
       "    <tr style=\"text-align: right;\">\n",
       "      <th></th>\n",
       "      <th>subj</th>\n",
       "      <th>Y</th>\n",
       "      <th>time</th>\n",
       "      <th>Cov_1</th>\n",
       "      <th>Cov_2</th>\n",
       "      <th>Cov_3</th>\n",
       "      <th>Cov_4</th>\n",
       "      <th>Cov_5</th>\n",
       "      <th>Cov_6</th>\n",
       "      <th>Cov_7</th>\n",
       "      <th>...</th>\n",
       "      <th>Cov_360</th>\n",
       "      <th>Cov_361</th>\n",
       "      <th>Cov_362</th>\n",
       "      <th>Cov_363</th>\n",
       "      <th>Cov_364</th>\n",
       "      <th>Cov_365</th>\n",
       "      <th>Cov_366</th>\n",
       "      <th>Cov_367</th>\n",
       "      <th>Cov_368</th>\n",
       "      <th>Cov_369</th>\n",
       "    </tr>\n",
       "  </thead>\n",
       "  <tbody>\n",
       "    <tr>\n",
       "      <th>0</th>\n",
       "      <td>0.0</td>\n",
       "      <td>27.654545</td>\n",
       "      <td>1.11</td>\n",
       "      <td>0.825562</td>\n",
       "      <td>0.958012</td>\n",
       "      <td>0.929195</td>\n",
       "      <td>0.873394</td>\n",
       "      <td>0.999992</td>\n",
       "      <td>0.978198</td>\n",
       "      <td>1.000000</td>\n",
       "      <td>...</td>\n",
       "      <td>0.854304</td>\n",
       "      <td>0.027721</td>\n",
       "      <td>0.302221</td>\n",
       "      <td>0.000411</td>\n",
       "      <td>0.000200</td>\n",
       "      <td>0.025107</td>\n",
       "      <td>0.343913</td>\n",
       "      <td>0.228633</td>\n",
       "      <td>0.273383</td>\n",
       "      <td>0.001528</td>\n",
       "    </tr>\n",
       "    <tr>\n",
       "      <th>1</th>\n",
       "      <td>0.0</td>\n",
       "      <td>52.624242</td>\n",
       "      <td>0.37</td>\n",
       "      <td>0.877345</td>\n",
       "      <td>0.984761</td>\n",
       "      <td>0.979264</td>\n",
       "      <td>0.959281</td>\n",
       "      <td>1.000000</td>\n",
       "      <td>0.991725</td>\n",
       "      <td>1.000000</td>\n",
       "      <td>...</td>\n",
       "      <td>0.952670</td>\n",
       "      <td>0.068760</td>\n",
       "      <td>0.577477</td>\n",
       "      <td>0.000973</td>\n",
       "      <td>0.000201</td>\n",
       "      <td>0.064854</td>\n",
       "      <td>0.566269</td>\n",
       "      <td>0.428022</td>\n",
       "      <td>0.534281</td>\n",
       "      <td>0.004563</td>\n",
       "    </tr>\n",
       "    <tr>\n",
       "      <th>2</th>\n",
       "      <td>0.0</td>\n",
       "      <td>78.551515</td>\n",
       "      <td>0.12</td>\n",
       "      <td>0.915214</td>\n",
       "      <td>0.994564</td>\n",
       "      <td>0.994147</td>\n",
       "      <td>0.987177</td>\n",
       "      <td>1.000000</td>\n",
       "      <td>0.996885</td>\n",
       "      <td>1.000000</td>\n",
       "      <td>...</td>\n",
       "      <td>0.985187</td>\n",
       "      <td>0.160831</td>\n",
       "      <td>0.811382</td>\n",
       "      <td>0.003018</td>\n",
       "      <td>0.000210</td>\n",
       "      <td>0.157508</td>\n",
       "      <td>0.764517</td>\n",
       "      <td>0.653849</td>\n",
       "      <td>0.777644</td>\n",
       "      <td>0.014427</td>\n",
       "    </tr>\n",
       "    <tr>\n",
       "      <th>3</th>\n",
       "      <td>0.0</td>\n",
       "      <td>75.393939</td>\n",
       "      <td>0.04</td>\n",
       "      <td>0.942042</td>\n",
       "      <td>0.998072</td>\n",
       "      <td>0.998365</td>\n",
       "      <td>0.995500</td>\n",
       "      <td>1.000000</td>\n",
       "      <td>0.998830</td>\n",
       "      <td>1.000000</td>\n",
       "      <td>...</td>\n",
       "      <td>0.994927</td>\n",
       "      <td>0.332354</td>\n",
       "      <td>0.930753</td>\n",
       "      <td>0.010412</td>\n",
       "      <td>0.000296</td>\n",
       "      <td>0.335096</td>\n",
       "      <td>0.889445</td>\n",
       "      <td>0.826574</td>\n",
       "      <td>0.914221</td>\n",
       "      <td>0.045557</td>\n",
       "    </tr>\n",
       "    <tr>\n",
       "      <th>4</th>\n",
       "      <td>0.0</td>\n",
       "      <td>77.103030</td>\n",
       "      <td>0.01</td>\n",
       "      <td>0.960575</td>\n",
       "      <td>0.999315</td>\n",
       "      <td>0.999543</td>\n",
       "      <td>0.997916</td>\n",
       "      <td>1.000000</td>\n",
       "      <td>0.999560</td>\n",
       "      <td>1.000000</td>\n",
       "      <td>...</td>\n",
       "      <td>0.997752</td>\n",
       "      <td>0.563155</td>\n",
       "      <td>0.976166</td>\n",
       "      <td>0.036337</td>\n",
       "      <td>0.001109</td>\n",
       "      <td>0.575069</td>\n",
       "      <td>0.951738</td>\n",
       "      <td>0.922977</td>\n",
       "      <td>0.970018</td>\n",
       "      <td>0.134958</td>\n",
       "    </tr>\n",
       "    <tr>\n",
       "      <th>...</th>\n",
       "      <td>...</td>\n",
       "      <td>...</td>\n",
       "      <td>...</td>\n",
       "      <td>...</td>\n",
       "      <td>...</td>\n",
       "      <td>...</td>\n",
       "      <td>...</td>\n",
       "      <td>...</td>\n",
       "      <td>...</td>\n",
       "      <td>...</td>\n",
       "      <td>...</td>\n",
       "      <td>...</td>\n",
       "      <td>...</td>\n",
       "      <td>...</td>\n",
       "      <td>...</td>\n",
       "      <td>...</td>\n",
       "      <td>...</td>\n",
       "      <td>...</td>\n",
       "      <td>...</td>\n",
       "      <td>...</td>\n",
       "      <td>...</td>\n",
       "    </tr>\n",
       "    <tr>\n",
       "      <th>295</th>\n",
       "      <td>46.0</td>\n",
       "      <td>7.427293</td>\n",
       "      <td>1.11</td>\n",
       "      <td>0.960433</td>\n",
       "      <td>0.996855</td>\n",
       "      <td>0.928235</td>\n",
       "      <td>0.915098</td>\n",
       "      <td>1.000000</td>\n",
       "      <td>0.998901</td>\n",
       "      <td>0.998901</td>\n",
       "      <td>...</td>\n",
       "      <td>0.721582</td>\n",
       "      <td>0.002261</td>\n",
       "      <td>0.020236</td>\n",
       "      <td>0.348805</td>\n",
       "      <td>0.300735</td>\n",
       "      <td>0.001050</td>\n",
       "      <td>0.165440</td>\n",
       "      <td>0.479133</td>\n",
       "      <td>1.000000</td>\n",
       "      <td>0.001413</td>\n",
       "    </tr>\n",
       "    <tr>\n",
       "      <th>296</th>\n",
       "      <td>46.0</td>\n",
       "      <td>25.145200</td>\n",
       "      <td>0.37</td>\n",
       "      <td>0.975974</td>\n",
       "      <td>0.999325</td>\n",
       "      <td>0.951123</td>\n",
       "      <td>0.958103</td>\n",
       "      <td>1.000000</td>\n",
       "      <td>0.998901</td>\n",
       "      <td>0.998901</td>\n",
       "      <td>...</td>\n",
       "      <td>0.878859</td>\n",
       "      <td>0.007330</td>\n",
       "      <td>0.066630</td>\n",
       "      <td>0.618058</td>\n",
       "      <td>0.529689</td>\n",
       "      <td>0.006249</td>\n",
       "      <td>0.368352</td>\n",
       "      <td>0.722819</td>\n",
       "      <td>1.000000</td>\n",
       "      <td>0.005303</td>\n",
       "    </tr>\n",
       "    <tr>\n",
       "      <th>297</th>\n",
       "      <td>46.0</td>\n",
       "      <td>58.041145</td>\n",
       "      <td>0.12</td>\n",
       "      <td>0.985499</td>\n",
       "      <td>0.999855</td>\n",
       "      <td>0.966849</td>\n",
       "      <td>0.979502</td>\n",
       "      <td>1.000000</td>\n",
       "      <td>0.998901</td>\n",
       "      <td>0.998901</td>\n",
       "      <td>...</td>\n",
       "      <td>0.952637</td>\n",
       "      <td>0.024551</td>\n",
       "      <td>0.198193</td>\n",
       "      <td>0.830142</td>\n",
       "      <td>0.746503</td>\n",
       "      <td>0.038751</td>\n",
       "      <td>0.631744</td>\n",
       "      <td>0.880451</td>\n",
       "      <td>1.000000</td>\n",
       "      <td>0.020475</td>\n",
       "    </tr>\n",
       "    <tr>\n",
       "      <th>298</th>\n",
       "      <td>46.0</td>\n",
       "      <td>58.872451</td>\n",
       "      <td>0.04</td>\n",
       "      <td>0.991281</td>\n",
       "      <td>0.999969</td>\n",
       "      <td>0.977512</td>\n",
       "      <td>0.989781</td>\n",
       "      <td>1.000000</td>\n",
       "      <td>0.998901</td>\n",
       "      <td>0.998901</td>\n",
       "      <td>...</td>\n",
       "      <td>0.981940</td>\n",
       "      <td>0.079986</td>\n",
       "      <td>0.461122</td>\n",
       "      <td>0.936530</td>\n",
       "      <td>0.884694</td>\n",
       "      <td>0.207089</td>\n",
       "      <td>0.834582</td>\n",
       "      <td>0.953693</td>\n",
       "      <td>1.000000</td>\n",
       "      <td>0.076450</td>\n",
       "    </tr>\n",
       "    <tr>\n",
       "      <th>299</th>\n",
       "      <td>46.0</td>\n",
       "      <td>60.721944</td>\n",
       "      <td>0.01</td>\n",
       "      <td>0.994760</td>\n",
       "      <td>0.999993</td>\n",
       "      <td>0.984659</td>\n",
       "      <td>0.994626</td>\n",
       "      <td>1.000000</td>\n",
       "      <td>0.998901</td>\n",
       "      <td>0.998901</td>\n",
       "      <td>...</td>\n",
       "      <td>0.992780</td>\n",
       "      <td>0.230895</td>\n",
       "      <td>0.746526</td>\n",
       "      <td>0.977962</td>\n",
       "      <td>0.951828</td>\n",
       "      <td>0.627103</td>\n",
       "      <td>0.936640</td>\n",
       "      <td>0.982432</td>\n",
       "      <td>1.000000</td>\n",
       "      <td>0.246470</td>\n",
       "    </tr>\n",
       "  </tbody>\n",
       "</table>\n",
       "<p>300 rows × 372 columns</p>\n",
       "</div>"
      ],
      "text/plain": [
       "     subj          Y  time     Cov_1     Cov_2     Cov_3     Cov_4     Cov_5  \\\n",
       "0     0.0  27.654545  1.11  0.825562  0.958012  0.929195  0.873394  0.999992   \n",
       "1     0.0  52.624242  0.37  0.877345  0.984761  0.979264  0.959281  1.000000   \n",
       "2     0.0  78.551515  0.12  0.915214  0.994564  0.994147  0.987177  1.000000   \n",
       "3     0.0  75.393939  0.04  0.942042  0.998072  0.998365  0.995500  1.000000   \n",
       "4     0.0  77.103030  0.01  0.960575  0.999315  0.999543  0.997916  1.000000   \n",
       "..    ...        ...   ...       ...       ...       ...       ...       ...   \n",
       "295  46.0   7.427293  1.11  0.960433  0.996855  0.928235  0.915098  1.000000   \n",
       "296  46.0  25.145200  0.37  0.975974  0.999325  0.951123  0.958103  1.000000   \n",
       "297  46.0  58.041145  0.12  0.985499  0.999855  0.966849  0.979502  1.000000   \n",
       "298  46.0  58.872451  0.04  0.991281  0.999969  0.977512  0.989781  1.000000   \n",
       "299  46.0  60.721944  0.01  0.994760  0.999993  0.984659  0.994626  1.000000   \n",
       "\n",
       "        Cov_6     Cov_7  ...   Cov_360   Cov_361   Cov_362   Cov_363  \\\n",
       "0    0.978198  1.000000  ...  0.854304  0.027721  0.302221  0.000411   \n",
       "1    0.991725  1.000000  ...  0.952670  0.068760  0.577477  0.000973   \n",
       "2    0.996885  1.000000  ...  0.985187  0.160831  0.811382  0.003018   \n",
       "3    0.998830  1.000000  ...  0.994927  0.332354  0.930753  0.010412   \n",
       "4    0.999560  1.000000  ...  0.997752  0.563155  0.976166  0.036337   \n",
       "..        ...       ...  ...       ...       ...       ...       ...   \n",
       "295  0.998901  0.998901  ...  0.721582  0.002261  0.020236  0.348805   \n",
       "296  0.998901  0.998901  ...  0.878859  0.007330  0.066630  0.618058   \n",
       "297  0.998901  0.998901  ...  0.952637  0.024551  0.198193  0.830142   \n",
       "298  0.998901  0.998901  ...  0.981940  0.079986  0.461122  0.936530   \n",
       "299  0.998901  0.998901  ...  0.992780  0.230895  0.746526  0.977962   \n",
       "\n",
       "      Cov_364   Cov_365   Cov_366   Cov_367   Cov_368   Cov_369  \n",
       "0    0.000200  0.025107  0.343913  0.228633  0.273383  0.001528  \n",
       "1    0.000201  0.064854  0.566269  0.428022  0.534281  0.004563  \n",
       "2    0.000210  0.157508  0.764517  0.653849  0.777644  0.014427  \n",
       "3    0.000296  0.335096  0.889445  0.826574  0.914221  0.045557  \n",
       "4    0.001109  0.575069  0.951738  0.922977  0.970018  0.134958  \n",
       "..        ...       ...       ...       ...       ...       ...  \n",
       "295  0.300735  0.001050  0.165440  0.479133  1.000000  0.001413  \n",
       "296  0.529689  0.006249  0.368352  0.722819  1.000000  0.005303  \n",
       "297  0.746503  0.038751  0.631744  0.880451  1.000000  0.020475  \n",
       "298  0.884694  0.207089  0.834582  0.953693  1.000000  0.076450  \n",
       "299  0.951828  0.627103  0.936640  0.982432  1.000000  0.246470  \n",
       "\n",
       "[300 rows x 372 columns]"
      ]
     },
     "execution_count": 28,
     "metadata": {},
     "output_type": "execute_result"
    }
   ],
   "source": [
    "r_df = pd.DataFrame(data=r_data, columns=r_columns)\n",
    "r_df"
   ]
  },
  {
   "cell_type": "code",
   "execution_count": 30,
   "id": "60e7ab48",
   "metadata": {},
   "outputs": [],
   "source": [
    "r_df.to_csv('./fof/data/r/prepared_data.csv', index=False)"
   ]
  },
  {
   "cell_type": "markdown",
   "id": "86426f59",
   "metadata": {},
   "source": [
    "### Run R code"
   ]
  },
  {
   "cell_type": "markdown",
   "id": "0758cbc5",
   "metadata": {},
   "source": [
    "r/run_algorithm.R -> data/r/result_coefficients.csv"
   ]
  },
  {
   "cell_type": "markdown",
   "id": "2602910c",
   "metadata": {},
   "source": [
    "### Analyse coefficients\n"
   ]
  },
  {
   "cell_type": "code",
   "execution_count": 22,
   "id": "8b421555",
   "metadata": {},
   "outputs": [],
   "source": [
    "target_kinases_dict = {\n",
    "    264: 'FYN',\n",
    "    255: 'EPHB2',\n",
    "    281: 'LATS2',\n",
    "    285: 'LYN',\n",
    "    294: 'MINK_MINK1',\n",
    "    361: 'YES_YES1',\n",
    "}"
   ]
  },
  {
   "cell_type": "code",
   "execution_count": 23,
   "id": "d20de2d3",
   "metadata": {},
   "outputs": [],
   "source": [
    "c_df = pd.read_csv('./fof/data/r/result_coefficients.csv')"
   ]
  },
  {
   "cell_type": "markdown",
   "id": "f1a06bc3",
   "metadata": {},
   "source": [
    "### Var"
   ]
  },
  {
   "cell_type": "code",
   "execution_count": 24,
   "id": "edc45687",
   "metadata": {},
   "outputs": [
    {
     "data": {
      "application/vnd.plotly.v1+json": {
       "config": {
        "plotlyServerURL": "https://plot.ly"
       },
       "data": [
        {
         "alignmentgroup": "True",
         "bingroup": "x",
         "hovertemplate": "x=%{x}<br>count=%{y}<extra></extra>",
         "legendgroup": "",
         "marker": {
          "color": "#636efa",
          "pattern": {
           "shape": ""
          }
         },
         "name": "",
         "offsetgroup": "",
         "orientation": "v",
         "showlegend": false,
         "type": "histogram",
         "x": [
          6.027323711128426,
          7.496014042744517,
          3.9537860433456022,
          5.675985142571871,
          6.613146038504735,
          4.326327824641568,
          3.119155006001612,
          0.4592057830336115,
          0.38318868744360735,
          8.536389887130142,
          10.392828709263437,
          5.059277875744653,
          1.0105058625410164,
          0.46353137496055724,
          12.573767734488392,
          18.81855317987617,
          7.65774826673621,
          4.158040998519622,
          4.215762838184881,
          3.5457075470972326,
          2.1207541752686434,
          1.608035763596715,
          5.377565654443446,
          0.585163433878179,
          0.8889637485016326,
          26.322088534575173,
          5.6453171878908694,
          55.65511326085274,
          1.6270505331136564,
          10.03675211576557,
          0.3870061444119768,
          3.1381650117412523,
          1.1716429364085226,
          10.207602993518998,
          2.7135856452554696,
          0.6103920787595587,
          1.1829352189711728,
          5.669025147594813,
          2.2636260412946134,
          18.899132353260576,
          10.113370412769521,
          0.9520151568677137,
          18.674834189929545,
          0.33643173411679317,
          6.310354213967133,
          3.7465289575220138,
          1.3503840981275947,
          17.183268710095497,
          1.8237147967348843,
          9.267726567674963,
          24.604840952139043,
          12.680013968476837,
          21.840311832400825,
          5.35705273440132,
          3.901132885470647,
          9.446095214405142,
          7.732207210144105,
          4.104048680728888,
          15.066065272724279,
          4.485253872721407,
          1.3159041308781667,
          8.125287718433617,
          4.76569894587094,
          2.3997912159338086,
          2.7836338973730608,
          2.137177492791203,
          3.50309427259308,
          2.282582993353485,
          1.3649123542198751,
          2.6673581084975506,
          12.716640493088352,
          12.009288646325587,
          2.198949660215197,
          2.3663404886539823,
          1.0156676809986722,
          17.83171873581114,
          6.199775965097998,
          4.33678670754573,
          4.7451606317368205,
          3.620197997565612,
          17.852428853393995,
          3.9402628061841414,
          14.99654580616502,
          12.10561204040372,
          0.3489975050643121,
          1.956081896825073,
          0.7033136727468635,
          3.223781879967598,
          3.125286452474903,
          5.362881596574748,
          14.70899369059226,
          2.42715604760982,
          11.232489464547406,
          0.5377023148551033,
          3.4631355594888436,
          19.546917295547825,
          0.5925533465951687,
          15.85821363356186,
          5.10025161447942,
          8.579579714139236,
          0.970852710443585,
          0.8584326296873177,
          9.399519424295129,
          4.283278571960292,
          5.260963010466614,
          1.2851638897684525,
          6.690341559393278,
          12.614770429235755,
          3.984657608814925,
          1.0313560046340917,
          2.767815936568134,
          9.768520022418784,
          0.607301998779291,
          2.131905180709948,
          7.857856717471023,
          2.970226285883734,
          1.938691816537597,
          6.601139868448467,
          0.8456697207488971,
          0.6244095426842261,
          5.620885544679942,
          0.848288213096725,
          1.806729771327761,
          4.584067534915794,
          7.789016690691277,
          5.057567696518093,
          2.3615954483871135,
          3.7019664355394637,
          28.366974401686612,
          9.114905753675922,
          22.206240160546912,
          4.337380536782883,
          28.984582456173484,
          0.6971495652087842,
          3.911070964261812,
          7.58049992093286,
          11.895392978979762,
          10.097951635566805,
          6.11640812826476,
          12.941156785558007,
          25.643462664542955,
          5.990244487148387,
          2.117960622834809,
          0.4918104509027594,
          0.6779563223655434,
          0.8832378686453171,
          1.1324118595942483,
          0.5308410735061118,
          4.085480888441231,
          5.320540994864869,
          1.9893635154294138,
          11.105598261197398,
          0.7578586973531014,
          16.227030189693423,
          1.5958604464341228,
          3.3040163797869995,
          0.7616500644953932,
          2.8564786070431025,
          3.5580726720761158,
          4.600425315393833,
          2.231988166124297,
          5.986518402867815,
          1.1902211689213171,
          4.202017885104839,
          11.904612064506027,
          1.4584699231137979,
          2.203780037400675,
          22.233673775661956,
          6.96457812005021,
          24.420773816802214,
          2.117321469164086,
          0.8124076773728283,
          6.963952825904252,
          5.508669088250669,
          1.5440518777626464,
          0.3011103209396625,
          22.32317982255143,
          5.658225737134532,
          11.107774228979949,
          19.499288841558055,
          1.3211541222993406,
          2.637432610039843,
          2.1208557294089063,
          8.445783278408049,
          23.395485434374056,
          4.135800768947176,
          6.661879181083442,
          1.9058637307484063,
          1.8628127106934262,
          3.040174748599096,
          8.459183309453904,
          3.7235950798421187,
          14.270933097061148,
          10.911768454791641,
          4.37988616239632,
          30.238580528477428,
          1.4162792829462791,
          3.945905273198967,
          5.078260814981177,
          1.6739445277947225,
          4.2242759305122,
          9.05156497175939,
          10.344221994837575,
          0.6312433030569906,
          12.796532341768891,
          3.5736598157514345,
          1.0229718442119864,
          2.800517935579758,
          0.47462830125358985,
          4.565465068465965,
          0.7974617446335142,
          3.7947440726926143,
          1.3774344431595555,
          3.731495170335779,
          10.817009405885065,
          1.1183441727506207,
          2.701832799293789,
          14.93665560781599,
          3.67409050787971,
          2.362958824629888,
          11.20736002821586,
          1.3245313207958553,
          1.3054497321331908,
          1.5561555150239086,
          3.555888473055351,
          5.304440482676417,
          9.748764920584117,
          17.60245589284479,
          7.858672411943345,
          6.634604226879143,
          1.1489050710273212,
          0.5819282315330987,
          12.421059898265316,
          7.194558842168229,
          4.999164241830355,
          4.0242798403696876,
          5.679199315629903,
          23.283198306116333,
          12.036783234879257,
          0.6592637102447004,
          2.5111206965572905,
          5.117762923633415,
          10.059137387853493,
          6.510072614255623,
          7.169421784817052,
          2.325435968983582,
          5.150236573154261,
          6.216203004756591,
          7.4904888536480145,
          22.366686584323766,
          10.013107355263903,
          8.940696253318325,
          3.6032285852482127,
          41.49398666688717,
          17.997305992768748,
          8.585850245944306,
          3.8184758741522646,
          5.159984705237384,
          5.625691357457331,
          9.077268026974417,
          0.7558151340350826,
          39.862081596230496,
          4.921443598595441,
          3.4063992336896884,
          1.025691230354563,
          2.8118289259574776,
          3.164730284700856,
          0.19603325357397294,
          9.167064978619916,
          2.9532563239936076,
          6.895248928211017,
          2.600126606031596,
          3.9595393970070196,
          7.721858060398917,
          3.3614288556128953,
          5.707351768616901,
          29.21271265434367,
          9.542393550824901,
          2.5399741721485887,
          5.7695916644552545,
          4.51985957544312,
          9.827439837002027,
          5.064905632407185,
          10.065322613830817,
          5.660650300525197,
          3.75690432736541,
          2.066139238349666,
          5.469354014589458,
          1.3382425336924975,
          0.9479666188620081,
          3.887294017076449,
          16.18505810140652,
          1.6593956436484607,
          13.345624218279482,
          5.3368350010434416,
          7.704643609197999,
          0.2594304464907481,
          2.1559024418419543,
          16.82765316008094,
          6.833863344195243,
          3.8455573035217125,
          18.812863884317707,
          4.464122828684044,
          25.072685045083464,
          7.794472688617776,
          1.2522691007094622,
          1.1865479813848703,
          4.595035858974086,
          3.181996920920503,
          7.920146992244467,
          2.1519232240502366,
          5.298548654659978,
          3.0394818130901657,
          1.1272699211238038,
          4.160069613118409,
          9.961670336268062,
          18.03393826191014,
          5.592592150305879,
          9.710650578696582,
          23.57743024537354,
          91.25164962831415,
          2.2968891503175013,
          1.0502194279716675,
          0.8674245810370875,
          4.173476762586311,
          1.3006108785254513,
          7.264787609549637,
          1.5647790407152522,
          1.288022183662465,
          1.2652014296468337,
          0.5695039901590193,
          5.396245780618428,
          12.111896993672037,
          1.234285920024712,
          3.6726952758949105,
          0.20160273075886112,
          0.08391924890623714,
          1.2036868865919585,
          4.550924220819042,
          4.668758661784231,
          8.661696026978394,
          6.363852918163952,
          27.50956061720743,
          2.0005217604082874,
          2.4944954673131656,
          2.12166049280344,
          0.6489520577092358,
          0.4522026251631862,
          3.1010620233641526,
          1.5699586771625806,
          1.8501714544917969,
          0.9156867940562933,
          7.72095056801609,
          2.1029827842522786,
          6.731078994810444,
          3.7711232704912625,
          1.0181174717478003,
          1.994315934508959,
          4.209489004055676,
          3.2073908213004474,
          5.093298070122174,
          18.218056441850507,
          3.082674704700707,
          3.855984750423522,
          4.064242037806042,
          1.160407990902261,
          8.415667753150718,
          3.1366059973950775,
          11.68674430174939
         ],
         "xaxis": "x",
         "yaxis": "y"
        }
       ],
       "layout": {
        "barmode": "relative",
        "legend": {
         "tracegroupgap": 0
        },
        "margin": {
         "t": 60
        },
        "template": {
         "data": {
          "bar": [
           {
            "error_x": {
             "color": "#2a3f5f"
            },
            "error_y": {
             "color": "#2a3f5f"
            },
            "marker": {
             "line": {
              "color": "#E5ECF6",
              "width": 0.5
             },
             "pattern": {
              "fillmode": "overlay",
              "size": 10,
              "solidity": 0.2
             }
            },
            "type": "bar"
           }
          ],
          "barpolar": [
           {
            "marker": {
             "line": {
              "color": "#E5ECF6",
              "width": 0.5
             },
             "pattern": {
              "fillmode": "overlay",
              "size": 10,
              "solidity": 0.2
             }
            },
            "type": "barpolar"
           }
          ],
          "carpet": [
           {
            "aaxis": {
             "endlinecolor": "#2a3f5f",
             "gridcolor": "white",
             "linecolor": "white",
             "minorgridcolor": "white",
             "startlinecolor": "#2a3f5f"
            },
            "baxis": {
             "endlinecolor": "#2a3f5f",
             "gridcolor": "white",
             "linecolor": "white",
             "minorgridcolor": "white",
             "startlinecolor": "#2a3f5f"
            },
            "type": "carpet"
           }
          ],
          "choropleth": [
           {
            "colorbar": {
             "outlinewidth": 0,
             "ticks": ""
            },
            "type": "choropleth"
           }
          ],
          "contour": [
           {
            "colorbar": {
             "outlinewidth": 0,
             "ticks": ""
            },
            "colorscale": [
             [
              0,
              "#0d0887"
             ],
             [
              0.1111111111111111,
              "#46039f"
             ],
             [
              0.2222222222222222,
              "#7201a8"
             ],
             [
              0.3333333333333333,
              "#9c179e"
             ],
             [
              0.4444444444444444,
              "#bd3786"
             ],
             [
              0.5555555555555556,
              "#d8576b"
             ],
             [
              0.6666666666666666,
              "#ed7953"
             ],
             [
              0.7777777777777778,
              "#fb9f3a"
             ],
             [
              0.8888888888888888,
              "#fdca26"
             ],
             [
              1,
              "#f0f921"
             ]
            ],
            "type": "contour"
           }
          ],
          "contourcarpet": [
           {
            "colorbar": {
             "outlinewidth": 0,
             "ticks": ""
            },
            "type": "contourcarpet"
           }
          ],
          "heatmap": [
           {
            "colorbar": {
             "outlinewidth": 0,
             "ticks": ""
            },
            "colorscale": [
             [
              0,
              "#0d0887"
             ],
             [
              0.1111111111111111,
              "#46039f"
             ],
             [
              0.2222222222222222,
              "#7201a8"
             ],
             [
              0.3333333333333333,
              "#9c179e"
             ],
             [
              0.4444444444444444,
              "#bd3786"
             ],
             [
              0.5555555555555556,
              "#d8576b"
             ],
             [
              0.6666666666666666,
              "#ed7953"
             ],
             [
              0.7777777777777778,
              "#fb9f3a"
             ],
             [
              0.8888888888888888,
              "#fdca26"
             ],
             [
              1,
              "#f0f921"
             ]
            ],
            "type": "heatmap"
           }
          ],
          "heatmapgl": [
           {
            "colorbar": {
             "outlinewidth": 0,
             "ticks": ""
            },
            "colorscale": [
             [
              0,
              "#0d0887"
             ],
             [
              0.1111111111111111,
              "#46039f"
             ],
             [
              0.2222222222222222,
              "#7201a8"
             ],
             [
              0.3333333333333333,
              "#9c179e"
             ],
             [
              0.4444444444444444,
              "#bd3786"
             ],
             [
              0.5555555555555556,
              "#d8576b"
             ],
             [
              0.6666666666666666,
              "#ed7953"
             ],
             [
              0.7777777777777778,
              "#fb9f3a"
             ],
             [
              0.8888888888888888,
              "#fdca26"
             ],
             [
              1,
              "#f0f921"
             ]
            ],
            "type": "heatmapgl"
           }
          ],
          "histogram": [
           {
            "marker": {
             "pattern": {
              "fillmode": "overlay",
              "size": 10,
              "solidity": 0.2
             }
            },
            "type": "histogram"
           }
          ],
          "histogram2d": [
           {
            "colorbar": {
             "outlinewidth": 0,
             "ticks": ""
            },
            "colorscale": [
             [
              0,
              "#0d0887"
             ],
             [
              0.1111111111111111,
              "#46039f"
             ],
             [
              0.2222222222222222,
              "#7201a8"
             ],
             [
              0.3333333333333333,
              "#9c179e"
             ],
             [
              0.4444444444444444,
              "#bd3786"
             ],
             [
              0.5555555555555556,
              "#d8576b"
             ],
             [
              0.6666666666666666,
              "#ed7953"
             ],
             [
              0.7777777777777778,
              "#fb9f3a"
             ],
             [
              0.8888888888888888,
              "#fdca26"
             ],
             [
              1,
              "#f0f921"
             ]
            ],
            "type": "histogram2d"
           }
          ],
          "histogram2dcontour": [
           {
            "colorbar": {
             "outlinewidth": 0,
             "ticks": ""
            },
            "colorscale": [
             [
              0,
              "#0d0887"
             ],
             [
              0.1111111111111111,
              "#46039f"
             ],
             [
              0.2222222222222222,
              "#7201a8"
             ],
             [
              0.3333333333333333,
              "#9c179e"
             ],
             [
              0.4444444444444444,
              "#bd3786"
             ],
             [
              0.5555555555555556,
              "#d8576b"
             ],
             [
              0.6666666666666666,
              "#ed7953"
             ],
             [
              0.7777777777777778,
              "#fb9f3a"
             ],
             [
              0.8888888888888888,
              "#fdca26"
             ],
             [
              1,
              "#f0f921"
             ]
            ],
            "type": "histogram2dcontour"
           }
          ],
          "mesh3d": [
           {
            "colorbar": {
             "outlinewidth": 0,
             "ticks": ""
            },
            "type": "mesh3d"
           }
          ],
          "parcoords": [
           {
            "line": {
             "colorbar": {
              "outlinewidth": 0,
              "ticks": ""
             }
            },
            "type": "parcoords"
           }
          ],
          "pie": [
           {
            "automargin": true,
            "type": "pie"
           }
          ],
          "scatter": [
           {
            "fillpattern": {
             "fillmode": "overlay",
             "size": 10,
             "solidity": 0.2
            },
            "type": "scatter"
           }
          ],
          "scatter3d": [
           {
            "line": {
             "colorbar": {
              "outlinewidth": 0,
              "ticks": ""
             }
            },
            "marker": {
             "colorbar": {
              "outlinewidth": 0,
              "ticks": ""
             }
            },
            "type": "scatter3d"
           }
          ],
          "scattercarpet": [
           {
            "marker": {
             "colorbar": {
              "outlinewidth": 0,
              "ticks": ""
             }
            },
            "type": "scattercarpet"
           }
          ],
          "scattergeo": [
           {
            "marker": {
             "colorbar": {
              "outlinewidth": 0,
              "ticks": ""
             }
            },
            "type": "scattergeo"
           }
          ],
          "scattergl": [
           {
            "marker": {
             "colorbar": {
              "outlinewidth": 0,
              "ticks": ""
             }
            },
            "type": "scattergl"
           }
          ],
          "scattermapbox": [
           {
            "marker": {
             "colorbar": {
              "outlinewidth": 0,
              "ticks": ""
             }
            },
            "type": "scattermapbox"
           }
          ],
          "scatterpolar": [
           {
            "marker": {
             "colorbar": {
              "outlinewidth": 0,
              "ticks": ""
             }
            },
            "type": "scatterpolar"
           }
          ],
          "scatterpolargl": [
           {
            "marker": {
             "colorbar": {
              "outlinewidth": 0,
              "ticks": ""
             }
            },
            "type": "scatterpolargl"
           }
          ],
          "scatterternary": [
           {
            "marker": {
             "colorbar": {
              "outlinewidth": 0,
              "ticks": ""
             }
            },
            "type": "scatterternary"
           }
          ],
          "surface": [
           {
            "colorbar": {
             "outlinewidth": 0,
             "ticks": ""
            },
            "colorscale": [
             [
              0,
              "#0d0887"
             ],
             [
              0.1111111111111111,
              "#46039f"
             ],
             [
              0.2222222222222222,
              "#7201a8"
             ],
             [
              0.3333333333333333,
              "#9c179e"
             ],
             [
              0.4444444444444444,
              "#bd3786"
             ],
             [
              0.5555555555555556,
              "#d8576b"
             ],
             [
              0.6666666666666666,
              "#ed7953"
             ],
             [
              0.7777777777777778,
              "#fb9f3a"
             ],
             [
              0.8888888888888888,
              "#fdca26"
             ],
             [
              1,
              "#f0f921"
             ]
            ],
            "type": "surface"
           }
          ],
          "table": [
           {
            "cells": {
             "fill": {
              "color": "#EBF0F8"
             },
             "line": {
              "color": "white"
             }
            },
            "header": {
             "fill": {
              "color": "#C8D4E3"
             },
             "line": {
              "color": "white"
             }
            },
            "type": "table"
           }
          ]
         },
         "layout": {
          "annotationdefaults": {
           "arrowcolor": "#2a3f5f",
           "arrowhead": 0,
           "arrowwidth": 1
          },
          "autotypenumbers": "strict",
          "coloraxis": {
           "colorbar": {
            "outlinewidth": 0,
            "ticks": ""
           }
          },
          "colorscale": {
           "diverging": [
            [
             0,
             "#8e0152"
            ],
            [
             0.1,
             "#c51b7d"
            ],
            [
             0.2,
             "#de77ae"
            ],
            [
             0.3,
             "#f1b6da"
            ],
            [
             0.4,
             "#fde0ef"
            ],
            [
             0.5,
             "#f7f7f7"
            ],
            [
             0.6,
             "#e6f5d0"
            ],
            [
             0.7,
             "#b8e186"
            ],
            [
             0.8,
             "#7fbc41"
            ],
            [
             0.9,
             "#4d9221"
            ],
            [
             1,
             "#276419"
            ]
           ],
           "sequential": [
            [
             0,
             "#0d0887"
            ],
            [
             0.1111111111111111,
             "#46039f"
            ],
            [
             0.2222222222222222,
             "#7201a8"
            ],
            [
             0.3333333333333333,
             "#9c179e"
            ],
            [
             0.4444444444444444,
             "#bd3786"
            ],
            [
             0.5555555555555556,
             "#d8576b"
            ],
            [
             0.6666666666666666,
             "#ed7953"
            ],
            [
             0.7777777777777778,
             "#fb9f3a"
            ],
            [
             0.8888888888888888,
             "#fdca26"
            ],
            [
             1,
             "#f0f921"
            ]
           ],
           "sequentialminus": [
            [
             0,
             "#0d0887"
            ],
            [
             0.1111111111111111,
             "#46039f"
            ],
            [
             0.2222222222222222,
             "#7201a8"
            ],
            [
             0.3333333333333333,
             "#9c179e"
            ],
            [
             0.4444444444444444,
             "#bd3786"
            ],
            [
             0.5555555555555556,
             "#d8576b"
            ],
            [
             0.6666666666666666,
             "#ed7953"
            ],
            [
             0.7777777777777778,
             "#fb9f3a"
            ],
            [
             0.8888888888888888,
             "#fdca26"
            ],
            [
             1,
             "#f0f921"
            ]
           ]
          },
          "colorway": [
           "#636efa",
           "#EF553B",
           "#00cc96",
           "#ab63fa",
           "#FFA15A",
           "#19d3f3",
           "#FF6692",
           "#B6E880",
           "#FF97FF",
           "#FECB52"
          ],
          "font": {
           "color": "#2a3f5f"
          },
          "geo": {
           "bgcolor": "white",
           "lakecolor": "white",
           "landcolor": "#E5ECF6",
           "showlakes": true,
           "showland": true,
           "subunitcolor": "white"
          },
          "hoverlabel": {
           "align": "left"
          },
          "hovermode": "closest",
          "mapbox": {
           "style": "light"
          },
          "paper_bgcolor": "white",
          "plot_bgcolor": "#E5ECF6",
          "polar": {
           "angularaxis": {
            "gridcolor": "white",
            "linecolor": "white",
            "ticks": ""
           },
           "bgcolor": "#E5ECF6",
           "radialaxis": {
            "gridcolor": "white",
            "linecolor": "white",
            "ticks": ""
           }
          },
          "scene": {
           "xaxis": {
            "backgroundcolor": "#E5ECF6",
            "gridcolor": "white",
            "gridwidth": 2,
            "linecolor": "white",
            "showbackground": true,
            "ticks": "",
            "zerolinecolor": "white"
           },
           "yaxis": {
            "backgroundcolor": "#E5ECF6",
            "gridcolor": "white",
            "gridwidth": 2,
            "linecolor": "white",
            "showbackground": true,
            "ticks": "",
            "zerolinecolor": "white"
           },
           "zaxis": {
            "backgroundcolor": "#E5ECF6",
            "gridcolor": "white",
            "gridwidth": 2,
            "linecolor": "white",
            "showbackground": true,
            "ticks": "",
            "zerolinecolor": "white"
           }
          },
          "shapedefaults": {
           "line": {
            "color": "#2a3f5f"
           }
          },
          "ternary": {
           "aaxis": {
            "gridcolor": "white",
            "linecolor": "white",
            "ticks": ""
           },
           "baxis": {
            "gridcolor": "white",
            "linecolor": "white",
            "ticks": ""
           },
           "bgcolor": "#E5ECF6",
           "caxis": {
            "gridcolor": "white",
            "linecolor": "white",
            "ticks": ""
           }
          },
          "title": {
           "x": 0.05
          },
          "xaxis": {
           "automargin": true,
           "gridcolor": "white",
           "linecolor": "white",
           "ticks": "",
           "title": {
            "standoff": 15
           },
           "zerolinecolor": "white",
           "zerolinewidth": 2
          },
          "yaxis": {
           "automargin": true,
           "gridcolor": "white",
           "linecolor": "white",
           "ticks": "",
           "title": {
            "standoff": 15
           },
           "zerolinecolor": "white",
           "zerolinewidth": 2
          }
         }
        },
        "xaxis": {
         "anchor": "y",
         "domain": [
          0,
          1
         ],
         "title": {
          "text": "x"
         }
        },
        "yaxis": {
         "anchor": "x",
         "domain": [
          0,
          1
         ],
         "title": {
          "text": "count"
         }
        }
       }
      },
      "text/html": [
       "<div>                            <div id=\"091b5300-8afe-44f2-beff-19e9fae7cc33\" class=\"plotly-graph-div\" style=\"height:525px; width:100%;\"></div>            <script type=\"text/javascript\">                require([\"plotly\"], function(Plotly) {                    window.PLOTLYENV=window.PLOTLYENV || {};                                    if (document.getElementById(\"091b5300-8afe-44f2-beff-19e9fae7cc33\")) {                    Plotly.newPlot(                        \"091b5300-8afe-44f2-beff-19e9fae7cc33\",                        [{\"alignmentgroup\":\"True\",\"bingroup\":\"x\",\"hovertemplate\":\"x=%{x}\\u003cbr\\u003ecount=%{y}\\u003cextra\\u003e\\u003c\\u002fextra\\u003e\",\"legendgroup\":\"\",\"marker\":{\"color\":\"#636efa\",\"pattern\":{\"shape\":\"\"}},\"name\":\"\",\"offsetgroup\":\"\",\"orientation\":\"v\",\"showlegend\":false,\"x\":[6.027323711128426,7.496014042744517,3.9537860433456022,5.675985142571871,6.613146038504735,4.326327824641568,3.119155006001612,0.4592057830336115,0.38318868744360735,8.536389887130142,10.392828709263437,5.059277875744653,1.0105058625410164,0.46353137496055724,12.573767734488392,18.81855317987617,7.65774826673621,4.158040998519622,4.215762838184881,3.5457075470972326,2.1207541752686434,1.608035763596715,5.377565654443446,0.585163433878179,0.8889637485016326,26.322088534575173,5.6453171878908694,55.65511326085274,1.6270505331136564,10.03675211576557,0.3870061444119768,3.1381650117412523,1.1716429364085226,10.207602993518998,2.7135856452554696,0.6103920787595587,1.1829352189711728,5.669025147594813,2.2636260412946134,18.899132353260576,10.113370412769521,0.9520151568677137,18.674834189929545,0.33643173411679317,6.310354213967133,3.7465289575220138,1.3503840981275947,17.183268710095497,1.8237147967348843,9.267726567674963,24.604840952139043,12.680013968476837,21.840311832400825,5.35705273440132,3.901132885470647,9.446095214405142,7.732207210144105,4.104048680728888,15.066065272724279,4.485253872721407,1.3159041308781667,8.125287718433617,4.76569894587094,2.3997912159338086,2.7836338973730608,2.137177492791203,3.50309427259308,2.282582993353485,1.3649123542198751,2.6673581084975506,12.716640493088352,12.009288646325587,2.198949660215197,2.3663404886539823,1.0156676809986722,17.83171873581114,6.199775965097998,4.33678670754573,4.7451606317368205,3.620197997565612,17.852428853393995,3.9402628061841414,14.99654580616502,12.10561204040372,0.3489975050643121,1.956081896825073,0.7033136727468635,3.223781879967598,3.125286452474903,5.362881596574748,14.70899369059226,2.42715604760982,11.232489464547406,0.5377023148551033,3.4631355594888436,19.546917295547825,0.5925533465951687,15.85821363356186,5.10025161447942,8.579579714139236,0.970852710443585,0.8584326296873177,9.399519424295129,4.283278571960292,5.260963010466614,1.2851638897684525,6.690341559393278,12.614770429235755,3.984657608814925,1.0313560046340917,2.767815936568134,9.768520022418784,0.607301998779291,2.131905180709948,7.857856717471023,2.970226285883734,1.938691816537597,6.601139868448467,0.8456697207488971,0.6244095426842261,5.620885544679942,0.848288213096725,1.806729771327761,4.584067534915794,7.789016690691277,5.057567696518093,2.3615954483871135,3.7019664355394637,28.366974401686612,9.114905753675922,22.206240160546912,4.337380536782883,28.984582456173484,0.6971495652087842,3.911070964261812,7.58049992093286,11.895392978979762,10.097951635566805,6.11640812826476,12.941156785558007,25.643462664542955,5.990244487148387,2.117960622834809,0.4918104509027594,0.6779563223655434,0.8832378686453171,1.1324118595942483,0.5308410735061118,4.085480888441231,5.320540994864869,1.9893635154294138,11.105598261197398,0.7578586973531014,16.227030189693423,1.5958604464341228,3.3040163797869995,0.7616500644953932,2.8564786070431025,3.5580726720761158,4.600425315393833,2.231988166124297,5.986518402867815,1.1902211689213171,4.202017885104839,11.904612064506027,1.4584699231137979,2.203780037400675,22.233673775661956,6.96457812005021,24.420773816802214,2.117321469164086,0.8124076773728283,6.963952825904252,5.508669088250669,1.5440518777626464,0.3011103209396625,22.32317982255143,5.658225737134532,11.107774228979949,19.499288841558055,1.3211541222993406,2.637432610039843,2.1208557294089063,8.445783278408049,23.395485434374056,4.135800768947176,6.661879181083442,1.9058637307484063,1.8628127106934262,3.040174748599096,8.459183309453904,3.7235950798421187,14.270933097061148,10.911768454791641,4.37988616239632,30.238580528477428,1.4162792829462791,3.945905273198967,5.078260814981177,1.6739445277947225,4.2242759305122,9.05156497175939,10.344221994837575,0.6312433030569906,12.796532341768891,3.5736598157514345,1.0229718442119864,2.800517935579758,0.47462830125358985,4.565465068465965,0.7974617446335142,3.7947440726926143,1.3774344431595555,3.731495170335779,10.817009405885065,1.1183441727506207,2.701832799293789,14.93665560781599,3.67409050787971,2.362958824629888,11.20736002821586,1.3245313207958553,1.3054497321331908,1.5561555150239086,3.555888473055351,5.304440482676417,9.748764920584117,17.60245589284479,7.858672411943345,6.634604226879143,1.1489050710273212,0.5819282315330987,12.421059898265316,7.194558842168229,4.999164241830355,4.0242798403696876,5.679199315629903,23.283198306116333,12.036783234879257,0.6592637102447004,2.5111206965572905,5.117762923633415,10.059137387853493,6.510072614255623,7.169421784817052,2.325435968983582,5.150236573154261,6.216203004756591,7.4904888536480145,22.366686584323766,10.013107355263903,8.940696253318325,3.6032285852482127,41.49398666688717,17.997305992768748,8.585850245944306,3.8184758741522646,5.159984705237384,5.625691357457331,9.077268026974417,0.7558151340350826,39.862081596230496,4.921443598595441,3.4063992336896884,1.025691230354563,2.8118289259574776,3.164730284700856,0.19603325357397294,9.167064978619916,2.9532563239936076,6.895248928211017,2.600126606031596,3.9595393970070196,7.721858060398917,3.3614288556128953,5.707351768616901,29.21271265434367,9.542393550824901,2.5399741721485887,5.7695916644552545,4.51985957544312,9.827439837002027,5.064905632407185,10.065322613830817,5.660650300525197,3.75690432736541,2.066139238349666,5.469354014589458,1.3382425336924975,0.9479666188620081,3.887294017076449,16.18505810140652,1.6593956436484607,13.345624218279482,5.3368350010434416,7.704643609197999,0.2594304464907481,2.1559024418419543,16.82765316008094,6.833863344195243,3.8455573035217125,18.812863884317707,4.464122828684044,25.072685045083464,7.794472688617776,1.2522691007094622,1.1865479813848703,4.595035858974086,3.181996920920503,7.920146992244467,2.1519232240502366,5.298548654659978,3.0394818130901657,1.1272699211238038,4.160069613118409,9.961670336268062,18.03393826191014,5.592592150305879,9.710650578696582,23.57743024537354,91.25164962831415,2.2968891503175013,1.0502194279716675,0.8674245810370875,4.173476762586311,1.3006108785254513,7.264787609549637,1.5647790407152522,1.288022183662465,1.2652014296468337,0.5695039901590193,5.396245780618428,12.111896993672037,1.234285920024712,3.6726952758949105,0.20160273075886112,0.08391924890623714,1.2036868865919585,4.550924220819042,4.668758661784231,8.661696026978394,6.363852918163952,27.50956061720743,2.0005217604082874,2.4944954673131656,2.12166049280344,0.6489520577092358,0.4522026251631862,3.1010620233641526,1.5699586771625806,1.8501714544917969,0.9156867940562933,7.72095056801609,2.1029827842522786,6.731078994810444,3.7711232704912625,1.0181174717478003,1.994315934508959,4.209489004055676,3.2073908213004474,5.093298070122174,18.218056441850507,3.082674704700707,3.855984750423522,4.064242037806042,1.160407990902261,8.415667753150718,3.1366059973950775,11.68674430174939],\"xaxis\":\"x\",\"yaxis\":\"y\",\"type\":\"histogram\"}],                        {\"template\":{\"data\":{\"histogram2dcontour\":[{\"type\":\"histogram2dcontour\",\"colorbar\":{\"outlinewidth\":0,\"ticks\":\"\"},\"colorscale\":[[0.0,\"#0d0887\"],[0.1111111111111111,\"#46039f\"],[0.2222222222222222,\"#7201a8\"],[0.3333333333333333,\"#9c179e\"],[0.4444444444444444,\"#bd3786\"],[0.5555555555555556,\"#d8576b\"],[0.6666666666666666,\"#ed7953\"],[0.7777777777777778,\"#fb9f3a\"],[0.8888888888888888,\"#fdca26\"],[1.0,\"#f0f921\"]]}],\"choropleth\":[{\"type\":\"choropleth\",\"colorbar\":{\"outlinewidth\":0,\"ticks\":\"\"}}],\"histogram2d\":[{\"type\":\"histogram2d\",\"colorbar\":{\"outlinewidth\":0,\"ticks\":\"\"},\"colorscale\":[[0.0,\"#0d0887\"],[0.1111111111111111,\"#46039f\"],[0.2222222222222222,\"#7201a8\"],[0.3333333333333333,\"#9c179e\"],[0.4444444444444444,\"#bd3786\"],[0.5555555555555556,\"#d8576b\"],[0.6666666666666666,\"#ed7953\"],[0.7777777777777778,\"#fb9f3a\"],[0.8888888888888888,\"#fdca26\"],[1.0,\"#f0f921\"]]}],\"heatmap\":[{\"type\":\"heatmap\",\"colorbar\":{\"outlinewidth\":0,\"ticks\":\"\"},\"colorscale\":[[0.0,\"#0d0887\"],[0.1111111111111111,\"#46039f\"],[0.2222222222222222,\"#7201a8\"],[0.3333333333333333,\"#9c179e\"],[0.4444444444444444,\"#bd3786\"],[0.5555555555555556,\"#d8576b\"],[0.6666666666666666,\"#ed7953\"],[0.7777777777777778,\"#fb9f3a\"],[0.8888888888888888,\"#fdca26\"],[1.0,\"#f0f921\"]]}],\"heatmapgl\":[{\"type\":\"heatmapgl\",\"colorbar\":{\"outlinewidth\":0,\"ticks\":\"\"},\"colorscale\":[[0.0,\"#0d0887\"],[0.1111111111111111,\"#46039f\"],[0.2222222222222222,\"#7201a8\"],[0.3333333333333333,\"#9c179e\"],[0.4444444444444444,\"#bd3786\"],[0.5555555555555556,\"#d8576b\"],[0.6666666666666666,\"#ed7953\"],[0.7777777777777778,\"#fb9f3a\"],[0.8888888888888888,\"#fdca26\"],[1.0,\"#f0f921\"]]}],\"contourcarpet\":[{\"type\":\"contourcarpet\",\"colorbar\":{\"outlinewidth\":0,\"ticks\":\"\"}}],\"contour\":[{\"type\":\"contour\",\"colorbar\":{\"outlinewidth\":0,\"ticks\":\"\"},\"colorscale\":[[0.0,\"#0d0887\"],[0.1111111111111111,\"#46039f\"],[0.2222222222222222,\"#7201a8\"],[0.3333333333333333,\"#9c179e\"],[0.4444444444444444,\"#bd3786\"],[0.5555555555555556,\"#d8576b\"],[0.6666666666666666,\"#ed7953\"],[0.7777777777777778,\"#fb9f3a\"],[0.8888888888888888,\"#fdca26\"],[1.0,\"#f0f921\"]]}],\"surface\":[{\"type\":\"surface\",\"colorbar\":{\"outlinewidth\":0,\"ticks\":\"\"},\"colorscale\":[[0.0,\"#0d0887\"],[0.1111111111111111,\"#46039f\"],[0.2222222222222222,\"#7201a8\"],[0.3333333333333333,\"#9c179e\"],[0.4444444444444444,\"#bd3786\"],[0.5555555555555556,\"#d8576b\"],[0.6666666666666666,\"#ed7953\"],[0.7777777777777778,\"#fb9f3a\"],[0.8888888888888888,\"#fdca26\"],[1.0,\"#f0f921\"]]}],\"mesh3d\":[{\"type\":\"mesh3d\",\"colorbar\":{\"outlinewidth\":0,\"ticks\":\"\"}}],\"scatter\":[{\"fillpattern\":{\"fillmode\":\"overlay\",\"size\":10,\"solidity\":0.2},\"type\":\"scatter\"}],\"parcoords\":[{\"type\":\"parcoords\",\"line\":{\"colorbar\":{\"outlinewidth\":0,\"ticks\":\"\"}}}],\"scatterpolargl\":[{\"type\":\"scatterpolargl\",\"marker\":{\"colorbar\":{\"outlinewidth\":0,\"ticks\":\"\"}}}],\"bar\":[{\"error_x\":{\"color\":\"#2a3f5f\"},\"error_y\":{\"color\":\"#2a3f5f\"},\"marker\":{\"line\":{\"color\":\"#E5ECF6\",\"width\":0.5},\"pattern\":{\"fillmode\":\"overlay\",\"size\":10,\"solidity\":0.2}},\"type\":\"bar\"}],\"scattergeo\":[{\"type\":\"scattergeo\",\"marker\":{\"colorbar\":{\"outlinewidth\":0,\"ticks\":\"\"}}}],\"scatterpolar\":[{\"type\":\"scatterpolar\",\"marker\":{\"colorbar\":{\"outlinewidth\":0,\"ticks\":\"\"}}}],\"histogram\":[{\"marker\":{\"pattern\":{\"fillmode\":\"overlay\",\"size\":10,\"solidity\":0.2}},\"type\":\"histogram\"}],\"scattergl\":[{\"type\":\"scattergl\",\"marker\":{\"colorbar\":{\"outlinewidth\":0,\"ticks\":\"\"}}}],\"scatter3d\":[{\"type\":\"scatter3d\",\"line\":{\"colorbar\":{\"outlinewidth\":0,\"ticks\":\"\"}},\"marker\":{\"colorbar\":{\"outlinewidth\":0,\"ticks\":\"\"}}}],\"scattermapbox\":[{\"type\":\"scattermapbox\",\"marker\":{\"colorbar\":{\"outlinewidth\":0,\"ticks\":\"\"}}}],\"scatterternary\":[{\"type\":\"scatterternary\",\"marker\":{\"colorbar\":{\"outlinewidth\":0,\"ticks\":\"\"}}}],\"scattercarpet\":[{\"type\":\"scattercarpet\",\"marker\":{\"colorbar\":{\"outlinewidth\":0,\"ticks\":\"\"}}}],\"carpet\":[{\"aaxis\":{\"endlinecolor\":\"#2a3f5f\",\"gridcolor\":\"white\",\"linecolor\":\"white\",\"minorgridcolor\":\"white\",\"startlinecolor\":\"#2a3f5f\"},\"baxis\":{\"endlinecolor\":\"#2a3f5f\",\"gridcolor\":\"white\",\"linecolor\":\"white\",\"minorgridcolor\":\"white\",\"startlinecolor\":\"#2a3f5f\"},\"type\":\"carpet\"}],\"table\":[{\"cells\":{\"fill\":{\"color\":\"#EBF0F8\"},\"line\":{\"color\":\"white\"}},\"header\":{\"fill\":{\"color\":\"#C8D4E3\"},\"line\":{\"color\":\"white\"}},\"type\":\"table\"}],\"barpolar\":[{\"marker\":{\"line\":{\"color\":\"#E5ECF6\",\"width\":0.5},\"pattern\":{\"fillmode\":\"overlay\",\"size\":10,\"solidity\":0.2}},\"type\":\"barpolar\"}],\"pie\":[{\"automargin\":true,\"type\":\"pie\"}]},\"layout\":{\"autotypenumbers\":\"strict\",\"colorway\":[\"#636efa\",\"#EF553B\",\"#00cc96\",\"#ab63fa\",\"#FFA15A\",\"#19d3f3\",\"#FF6692\",\"#B6E880\",\"#FF97FF\",\"#FECB52\"],\"font\":{\"color\":\"#2a3f5f\"},\"hovermode\":\"closest\",\"hoverlabel\":{\"align\":\"left\"},\"paper_bgcolor\":\"white\",\"plot_bgcolor\":\"#E5ECF6\",\"polar\":{\"bgcolor\":\"#E5ECF6\",\"angularaxis\":{\"gridcolor\":\"white\",\"linecolor\":\"white\",\"ticks\":\"\"},\"radialaxis\":{\"gridcolor\":\"white\",\"linecolor\":\"white\",\"ticks\":\"\"}},\"ternary\":{\"bgcolor\":\"#E5ECF6\",\"aaxis\":{\"gridcolor\":\"white\",\"linecolor\":\"white\",\"ticks\":\"\"},\"baxis\":{\"gridcolor\":\"white\",\"linecolor\":\"white\",\"ticks\":\"\"},\"caxis\":{\"gridcolor\":\"white\",\"linecolor\":\"white\",\"ticks\":\"\"}},\"coloraxis\":{\"colorbar\":{\"outlinewidth\":0,\"ticks\":\"\"}},\"colorscale\":{\"sequential\":[[0.0,\"#0d0887\"],[0.1111111111111111,\"#46039f\"],[0.2222222222222222,\"#7201a8\"],[0.3333333333333333,\"#9c179e\"],[0.4444444444444444,\"#bd3786\"],[0.5555555555555556,\"#d8576b\"],[0.6666666666666666,\"#ed7953\"],[0.7777777777777778,\"#fb9f3a\"],[0.8888888888888888,\"#fdca26\"],[1.0,\"#f0f921\"]],\"sequentialminus\":[[0.0,\"#0d0887\"],[0.1111111111111111,\"#46039f\"],[0.2222222222222222,\"#7201a8\"],[0.3333333333333333,\"#9c179e\"],[0.4444444444444444,\"#bd3786\"],[0.5555555555555556,\"#d8576b\"],[0.6666666666666666,\"#ed7953\"],[0.7777777777777778,\"#fb9f3a\"],[0.8888888888888888,\"#fdca26\"],[1.0,\"#f0f921\"]],\"diverging\":[[0,\"#8e0152\"],[0.1,\"#c51b7d\"],[0.2,\"#de77ae\"],[0.3,\"#f1b6da\"],[0.4,\"#fde0ef\"],[0.5,\"#f7f7f7\"],[0.6,\"#e6f5d0\"],[0.7,\"#b8e186\"],[0.8,\"#7fbc41\"],[0.9,\"#4d9221\"],[1,\"#276419\"]]},\"xaxis\":{\"gridcolor\":\"white\",\"linecolor\":\"white\",\"ticks\":\"\",\"title\":{\"standoff\":15},\"zerolinecolor\":\"white\",\"automargin\":true,\"zerolinewidth\":2},\"yaxis\":{\"gridcolor\":\"white\",\"linecolor\":\"white\",\"ticks\":\"\",\"title\":{\"standoff\":15},\"zerolinecolor\":\"white\",\"automargin\":true,\"zerolinewidth\":2},\"scene\":{\"xaxis\":{\"backgroundcolor\":\"#E5ECF6\",\"gridcolor\":\"white\",\"linecolor\":\"white\",\"showbackground\":true,\"ticks\":\"\",\"zerolinecolor\":\"white\",\"gridwidth\":2},\"yaxis\":{\"backgroundcolor\":\"#E5ECF6\",\"gridcolor\":\"white\",\"linecolor\":\"white\",\"showbackground\":true,\"ticks\":\"\",\"zerolinecolor\":\"white\",\"gridwidth\":2},\"zaxis\":{\"backgroundcolor\":\"#E5ECF6\",\"gridcolor\":\"white\",\"linecolor\":\"white\",\"showbackground\":true,\"ticks\":\"\",\"zerolinecolor\":\"white\",\"gridwidth\":2}},\"shapedefaults\":{\"line\":{\"color\":\"#2a3f5f\"}},\"annotationdefaults\":{\"arrowcolor\":\"#2a3f5f\",\"arrowhead\":0,\"arrowwidth\":1},\"geo\":{\"bgcolor\":\"white\",\"landcolor\":\"#E5ECF6\",\"subunitcolor\":\"white\",\"showland\":true,\"showlakes\":true,\"lakecolor\":\"white\"},\"title\":{\"x\":0.05},\"mapbox\":{\"style\":\"light\"}}},\"xaxis\":{\"anchor\":\"y\",\"domain\":[0.0,1.0],\"title\":{\"text\":\"x\"}},\"yaxis\":{\"anchor\":\"x\",\"domain\":[0.0,1.0],\"title\":{\"text\":\"count\"}},\"legend\":{\"tracegroupgap\":0},\"margin\":{\"t\":60},\"barmode\":\"relative\"},                        {\"responsive\": true}                    ).then(function(){\n",
       "                            \n",
       "var gd = document.getElementById('091b5300-8afe-44f2-beff-19e9fae7cc33');\n",
       "var x = new MutationObserver(function (mutations, observer) {{\n",
       "        var display = window.getComputedStyle(gd).display;\n",
       "        if (!display || display === 'none') {{\n",
       "            console.log([gd, 'removed!']);\n",
       "            Plotly.purge(gd);\n",
       "            observer.disconnect();\n",
       "        }}\n",
       "}});\n",
       "\n",
       "// Listen for the removal of the full notebook cells\n",
       "var notebookContainer = gd.closest('#notebook-container');\n",
       "if (notebookContainer) {{\n",
       "    x.observe(notebookContainer, {childList: true});\n",
       "}}\n",
       "\n",
       "// Listen for the clearing of the current output cell\n",
       "var outputEl = gd.closest('.output');\n",
       "if (outputEl) {{\n",
       "    x.observe(outputEl, {childList: true});\n",
       "}}\n",
       "\n",
       "                        })                };                });            </script>        </div>"
      ]
     },
     "metadata": {},
     "output_type": "display_data"
    }
   ],
   "source": [
    "fig = px.histogram(x=c_df.var())\n",
    "fig.show()"
   ]
  },
  {
   "cell_type": "code",
   "execution_count": 25,
   "id": "016da84d",
   "metadata": {},
   "outputs": [
    {
     "data": {
      "text/plain": [
       "['V321',\n",
       " 'V28',\n",
       " 'V254',\n",
       " 'V262',\n",
       " 'V196',\n",
       " 'V277',\n",
       " 'V133',\n",
       " 'V129',\n",
       " 'V343',\n",
       " 'V26',\n",
       " 'V141',\n",
       " 'V304',\n",
       " 'V51',\n",
       " 'V170',\n",
       " 'V320',\n",
       " 'V185',\n",
       " 'V238',\n",
       " 'V250',\n",
       " 'V177',\n",
       " 'V168',\n",
       " 'V131',\n",
       " 'V53',\n",
       " 'V96',\n",
       " 'V180',\n",
       " 'V40',\n",
       " 'V16',\n",
       " 'V302',\n",
       " 'V43',\n",
       " 'V362',\n",
       " 'V317',\n",
       " 'V255',\n",
       " 'V81',\n",
       " 'V76',\n",
       " 'V228',\n",
       " 'V48',\n",
       " 'V299',\n",
       " 'V154',\n",
       " 'V292',\n",
       " 'V98',\n",
       " 'V59',\n",
       " 'V83',\n",
       " 'V218',\n",
       " 'V91',\n",
       " 'V193',\n",
       " 'V294',\n",
       " 'V140',\n",
       " 'V205',\n",
       " 'V71',\n",
       " 'V52',\n",
       " 'V108',\n",
       " 'V15',\n",
       " 'V233',\n",
       " 'V333',\n",
       " 'V84',\n",
       " 'V239',\n",
       " 'V72',\n",
       " 'V165',\n",
       " 'V137',\n",
       " 'V369',\n",
       " 'V93',\n",
       " 'V221',\n",
       " 'V179',\n",
       " 'V152',\n",
       " 'V194',\n",
       " 'V215',\n",
       " 'V11',\n",
       " 'V203',\n",
       " 'V34',\n",
       " 'V41',\n",
       " 'V138',\n",
       " 'V284',\n",
       " 'V243',\n",
       " 'V30',\n",
       " 'V251',\n",
       " 'V316',\n",
       " 'V282',\n",
       " 'V112',\n",
       " 'V227',\n",
       " 'V319',\n",
       " 'V278',\n",
       " 'V56',\n",
       " 'V103',\n",
       " 'V50',\n",
       " 'V269',\n",
       " 'V130',\n",
       " 'V260',\n",
       " 'V202',\n",
       " 'V252',\n",
       " 'V341',\n",
       " 'V256',\n",
       " 'V100',\n",
       " 'V10',\n",
       " 'V191',\n",
       " 'V184',\n",
       " 'V367',\n",
       " 'V62',\n",
       " 'V310',\n",
       " 'V229',\n",
       " 'V115',\n",
       " 'V305',\n",
       " 'V125',\n",
       " 'V57',\n",
       " 'V274',\n",
       " 'V353',\n",
       " 'V296',\n",
       " 'V17',\n",
       " 'V136',\n",
       " 'V2',\n",
       " 'V249',\n",
       " 'V327',\n",
       " 'V234',\n",
       " 'V245',\n",
       " 'V169',\n",
       " 'V173',\n",
       " 'V271',\n",
       " 'V300',\n",
       " 'V355',\n",
       " 'V107',\n",
       " 'V187',\n",
       " 'V230',\n",
       " 'V5',\n",
       " 'V118',\n",
       " 'V244',\n",
       " 'V342',\n",
       " 'V45',\n",
       " 'V248',\n",
       " 'V77',\n",
       " 'V139',\n",
       " 'V1',\n",
       " 'V142',\n",
       " 'V162',\n",
       " 'V280',\n",
       " 'V276',\n",
       " 'V237',\n",
       " 'V4',\n",
       " 'V38',\n",
       " 'V285',\n",
       " 'V178',\n",
       " 'V27',\n",
       " 'V259',\n",
       " 'V121',\n",
       " 'V318',\n",
       " 'V174',\n",
       " 'V288',\n",
       " 'V332',\n",
       " 'V23',\n",
       " 'V90',\n",
       " 'V54',\n",
       " 'V295',\n",
       " 'V150',\n",
       " 'V226',\n",
       " 'V312',\n",
       " 'V105',\n",
       " 'V258',\n",
       " 'V247',\n",
       " 'V242',\n",
       " 'V99',\n",
       " 'V361',\n",
       " 'V199',\n",
       " 'V283',\n",
       " 'V12',\n",
       " 'V126',\n",
       " 'V235',\n",
       " 'V263',\n",
       " 'V63',\n",
       " 'V79',\n",
       " 'V340',\n",
       " 'V160',\n",
       " 'V308',\n",
       " 'V124',\n",
       " 'V210',\n",
       " 'V339',\n",
       " 'V281',\n",
       " 'V60',\n",
       " 'V303',\n",
       " 'V195',\n",
       " 'V132',\n",
       " 'V78',\n",
       " 'V6',\n",
       " 'V104',\n",
       " 'V201',\n",
       " 'V19',\n",
       " 'V359',\n",
       " 'V164',\n",
       " 'V325',\n",
       " 'V315',\n",
       " 'V18',\n",
       " 'V186',\n",
       " 'V58',\n",
       " 'V149',\n",
       " 'V365',\n",
       " 'V236',\n",
       " 'V109',\n",
       " 'V273',\n",
       " 'V3',\n",
       " 'V198',\n",
       " 'V82',\n",
       " 'V135',\n",
       " 'V55',\n",
       " 'V291',\n",
       " 'V364',\n",
       " 'V301',\n",
       " 'V257',\n",
       " 'V212',\n",
       " 'V356',\n",
       " 'V286',\n",
       " 'V46',\n",
       " 'V214',\n",
       " 'V192',\n",
       " 'V128',\n",
       " 'V219',\n",
       " 'V335',\n",
       " 'V80',\n",
       " 'V253',\n",
       " 'V206',\n",
       " 'V159',\n",
       " 'V225',\n",
       " 'V20',\n",
       " 'V67',\n",
       " 'V95',\n",
       " 'V264',\n",
       " 'V275',\n",
       " 'V156',\n",
       " 'V88',\n",
       " 'V360',\n",
       " 'V309',\n",
       " 'V267',\n",
       " 'V32',\n",
       " 'V368',\n",
       " 'V89',\n",
       " 'V7',\n",
       " 'V349',\n",
       " 'V363',\n",
       " 'V190',\n",
       " 'V313',\n",
       " 'V116',\n",
       " 'V270',\n",
       " 'V158',\n",
       " 'V266',\n",
       " 'V208',\n",
       " 'V65',\n",
       " 'V111',\n",
       " 'V35',\n",
       " 'V217',\n",
       " 'V70',\n",
       " 'V182',\n",
       " 'V272',\n",
       " 'V279',\n",
       " 'V241',\n",
       " 'V345',\n",
       " 'V92',\n",
       " 'V64',\n",
       " 'V74',\n",
       " 'V220',\n",
       " 'V127',\n",
       " 'V246',\n",
       " 'V322',\n",
       " 'V68',\n",
       " 'V39',\n",
       " 'V161',\n",
       " 'V167',\n",
       " 'V73',\n",
       " 'V298',\n",
       " 'V311',\n",
       " 'V66',\n",
       " 'V114',\n",
       " 'V346',\n",
       " 'V183',\n",
       " 'V21',\n",
       " 'V143',\n",
       " 'V171',\n",
       " 'V354',\n",
       " 'V287',\n",
       " 'V344',\n",
       " 'V358',\n",
       " 'V151',\n",
       " 'V86',\n",
       " 'V117',\n",
       " 'V188',\n",
       " 'V189',\n",
       " 'V351',\n",
       " 'V49',\n",
       " 'V123',\n",
       " 'V200',\n",
       " 'V293',\n",
       " 'V29',\n",
       " 'V22',\n",
       " 'V155',\n",
       " 'V350',\n",
       " 'V328',\n",
       " 'V224',\n",
       " 'V175',\n",
       " 'V166',\n",
       " 'V197',\n",
       " 'V213',\n",
       " 'V69',\n",
       " 'V47',\n",
       " 'V289',\n",
       " 'V222',\n",
       " 'V181',\n",
       " 'V61',\n",
       " 'V223',\n",
       " 'V326',\n",
       " 'V329',\n",
       " 'V106',\n",
       " 'V330',\n",
       " 'V306',\n",
       " 'V334',\n",
       " 'V338',\n",
       " 'V163',\n",
       " 'V307',\n",
       " 'V37',\n",
       " 'V33',\n",
       " 'V366',\n",
       " 'V231',\n",
       " 'V147',\n",
       " 'V314',\n",
       " 'V216',\n",
       " 'V323',\n",
       " 'V110',\n",
       " 'V265',\n",
       " 'V207',\n",
       " 'V357',\n",
       " 'V75',\n",
       " 'V13',\n",
       " 'V101',\n",
       " 'V42',\n",
       " 'V290',\n",
       " 'V352',\n",
       " 'V25',\n",
       " 'V146',\n",
       " 'V324',\n",
       " 'V102',\n",
       " 'V122',\n",
       " 'V119',\n",
       " 'V172',\n",
       " 'V211',\n",
       " 'V157',\n",
       " 'V153',\n",
       " 'V261',\n",
       " 'V87',\n",
       " 'V134',\n",
       " 'V145',\n",
       " 'V240',\n",
       " 'V347',\n",
       " 'V204',\n",
       " 'V120',\n",
       " 'V36',\n",
       " 'V113',\n",
       " 'V97',\n",
       " 'V24',\n",
       " 'V232',\n",
       " 'V331',\n",
       " 'V94',\n",
       " 'V148',\n",
       " 'V144',\n",
       " 'V209',\n",
       " 'V14',\n",
       " 'V8',\n",
       " 'V348',\n",
       " 'V31',\n",
       " 'V9',\n",
       " 'V85',\n",
       " 'V44',\n",
       " 'V176',\n",
       " 'V297',\n",
       " 'V336',\n",
       " 'V268',\n",
       " 'V337']"
      ]
     },
     "execution_count": 25,
     "metadata": {},
     "output_type": "execute_result"
    }
   ],
   "source": [
    "top_covariates = c_df.var().sort_values(ascending=False).index.tolist()\n",
    "top_covariates"
   ]
  },
  {
   "cell_type": "code",
   "execution_count": 26,
   "id": "9383864d",
   "metadata": {},
   "outputs": [
    {
     "data": {
      "text/plain": [
       "['321', '28', '254', '262', '196', '277', '133', '129', '343', '26']"
      ]
     },
     "execution_count": 26,
     "metadata": {},
     "output_type": "execute_result"
    }
   ],
   "source": [
    "top_covariates_indexes = [i[1:] for i in top_covariates[:10]]\n",
    "top_covariates_indexes"
   ]
  },
  {
   "cell_type": "code",
   "execution_count": 27,
   "id": "e5fb4cef",
   "metadata": {},
   "outputs": [],
   "source": [
    "top_kinases = [number_kinase_dict[int(i)] for i in top_covariates_indexes]"
   ]
  },
  {
   "cell_type": "code",
   "execution_count": 28,
   "id": "7f4a5832",
   "metadata": {},
   "outputs": [
    {
     "data": {
      "text/plain": [
       "['PIM3',\n",
       " 'CDC7_DBF4',\n",
       " 'EPHB4',\n",
       " 'FMS',\n",
       " 'WNK3',\n",
       " 'IRAK4',\n",
       " 'NEK8',\n",
       " 'NEK3',\n",
       " 'RIPK4',\n",
       " 'CAMK4']"
      ]
     },
     "execution_count": 28,
     "metadata": {},
     "output_type": "execute_result"
    }
   ],
   "source": [
    "top_kinases"
   ]
  },
  {
   "cell_type": "markdown",
   "id": "d2129bdf",
   "metadata": {},
   "source": [
    "### Max T"
   ]
  },
  {
   "cell_type": "code",
   "execution_count": 29,
   "id": "ea82a5b9",
   "metadata": {
    "scrolled": true
   },
   "outputs": [
    {
     "data": {
      "text/html": [
       "<div>\n",
       "<style scoped>\n",
       "    .dataframe tbody tr th:only-of-type {\n",
       "        vertical-align: middle;\n",
       "    }\n",
       "\n",
       "    .dataframe tbody tr th {\n",
       "        vertical-align: top;\n",
       "    }\n",
       "\n",
       "    .dataframe thead th {\n",
       "        text-align: right;\n",
       "    }\n",
       "</style>\n",
       "<table border=\"1\" class=\"dataframe\">\n",
       "  <thead>\n",
       "    <tr style=\"text-align: right;\">\n",
       "      <th></th>\n",
       "      <th>V1</th>\n",
       "      <th>V2</th>\n",
       "      <th>V3</th>\n",
       "      <th>V4</th>\n",
       "      <th>V5</th>\n",
       "      <th>V6</th>\n",
       "      <th>V7</th>\n",
       "      <th>V8</th>\n",
       "      <th>V9</th>\n",
       "      <th>V10</th>\n",
       "      <th>...</th>\n",
       "      <th>V360</th>\n",
       "      <th>V361</th>\n",
       "      <th>V362</th>\n",
       "      <th>V363</th>\n",
       "      <th>V364</th>\n",
       "      <th>V365</th>\n",
       "      <th>V366</th>\n",
       "      <th>V367</th>\n",
       "      <th>V368</th>\n",
       "      <th>V369</th>\n",
       "    </tr>\n",
       "  </thead>\n",
       "  <tbody>\n",
       "    <tr>\n",
       "      <th>0</th>\n",
       "      <td>-2.678863</td>\n",
       "      <td>-0.883362</td>\n",
       "      <td>0.225737</td>\n",
       "      <td>-2.652871</td>\n",
       "      <td>-1.186284</td>\n",
       "      <td>3.450929</td>\n",
       "      <td>-0.717789</td>\n",
       "      <td>-0.024731</td>\n",
       "      <td>0.883328</td>\n",
       "      <td>4.761487</td>\n",
       "      <td>...</td>\n",
       "      <td>-3.660269</td>\n",
       "      <td>-0.933872</td>\n",
       "      <td>-3.197880</td>\n",
       "      <td>0.387937</td>\n",
       "      <td>2.675900</td>\n",
       "      <td>0.164686</td>\n",
       "      <td>2.032390</td>\n",
       "      <td>-2.793127</td>\n",
       "      <td>-0.322112</td>\n",
       "      <td>-4.517528</td>\n",
       "    </tr>\n",
       "    <tr>\n",
       "      <th>1</th>\n",
       "      <td>-5.312010</td>\n",
       "      <td>-4.360014</td>\n",
       "      <td>-3.991687</td>\n",
       "      <td>3.085771</td>\n",
       "      <td>-5.803061</td>\n",
       "      <td>3.765544</td>\n",
       "      <td>2.433703</td>\n",
       "      <td>-1.370032</td>\n",
       "      <td>-0.670510</td>\n",
       "      <td>3.016013</td>\n",
       "      <td>...</td>\n",
       "      <td>-1.555093</td>\n",
       "      <td>-0.065157</td>\n",
       "      <td>6.405555</td>\n",
       "      <td>3.462205</td>\n",
       "      <td>2.661568</td>\n",
       "      <td>2.204485</td>\n",
       "      <td>1.995197</td>\n",
       "      <td>5.034056</td>\n",
       "      <td>2.562234</td>\n",
       "      <td>-6.162925</td>\n",
       "    </tr>\n",
       "    <tr>\n",
       "      <th>2</th>\n",
       "      <td>-0.801590</td>\n",
       "      <td>1.316221</td>\n",
       "      <td>1.045942</td>\n",
       "      <td>1.428443</td>\n",
       "      <td>0.941715</td>\n",
       "      <td>0.697388</td>\n",
       "      <td>-2.097859</td>\n",
       "      <td>-1.176334</td>\n",
       "      <td>0.100263</td>\n",
       "      <td>-2.071020</td>\n",
       "      <td>...</td>\n",
       "      <td>-2.273897</td>\n",
       "      <td>-4.417024</td>\n",
       "      <td>-4.566388</td>\n",
       "      <td>-1.420682</td>\n",
       "      <td>-2.098362</td>\n",
       "      <td>4.383374</td>\n",
       "      <td>0.847301</td>\n",
       "      <td>0.088088</td>\n",
       "      <td>-1.187041</td>\n",
       "      <td>0.865133</td>\n",
       "    </tr>\n",
       "    <tr>\n",
       "      <th>3</th>\n",
       "      <td>0.367510</td>\n",
       "      <td>2.679381</td>\n",
       "      <td>0.132478</td>\n",
       "      <td>-1.961813</td>\n",
       "      <td>-1.241990</td>\n",
       "      <td>0.464821</td>\n",
       "      <td>-1.484845</td>\n",
       "      <td>-0.611118</td>\n",
       "      <td>-0.553962</td>\n",
       "      <td>5.025526</td>\n",
       "      <td>...</td>\n",
       "      <td>-0.089216</td>\n",
       "      <td>-4.932624</td>\n",
       "      <td>0.792862</td>\n",
       "      <td>0.947849</td>\n",
       "      <td>1.165891</td>\n",
       "      <td>-0.625673</td>\n",
       "      <td>-0.141959</td>\n",
       "      <td>-0.848033</td>\n",
       "      <td>-2.170994</td>\n",
       "      <td>1.508003</td>\n",
       "    </tr>\n",
       "    <tr>\n",
       "      <th>4</th>\n",
       "      <td>0.559021</td>\n",
       "      <td>1.133619</td>\n",
       "      <td>0.053923</td>\n",
       "      <td>-0.592566</td>\n",
       "      <td>-0.154671</td>\n",
       "      <td>-1.080477</td>\n",
       "      <td>0.149677</td>\n",
       "      <td>0.162060</td>\n",
       "      <td>-0.035643</td>\n",
       "      <td>1.257160</td>\n",
       "      <td>...</td>\n",
       "      <td>0.887789</td>\n",
       "      <td>-0.844424</td>\n",
       "      <td>0.375952</td>\n",
       "      <td>0.444107</td>\n",
       "      <td>0.522316</td>\n",
       "      <td>0.333128</td>\n",
       "      <td>-0.135998</td>\n",
       "      <td>-0.282442</td>\n",
       "      <td>-0.570537</td>\n",
       "      <td>-0.278346</td>\n",
       "    </tr>\n",
       "  </tbody>\n",
       "</table>\n",
       "<p>5 rows × 369 columns</p>\n",
       "</div>"
      ],
      "text/plain": [
       "         V1        V2        V3        V4        V5        V6        V7  \\\n",
       "0 -2.678863 -0.883362  0.225737 -2.652871 -1.186284  3.450929 -0.717789   \n",
       "1 -5.312010 -4.360014 -3.991687  3.085771 -5.803061  3.765544  2.433703   \n",
       "2 -0.801590  1.316221  1.045942  1.428443  0.941715  0.697388 -2.097859   \n",
       "3  0.367510  2.679381  0.132478 -1.961813 -1.241990  0.464821 -1.484845   \n",
       "4  0.559021  1.133619  0.053923 -0.592566 -0.154671 -1.080477  0.149677   \n",
       "\n",
       "         V8        V9       V10  ...      V360      V361      V362      V363  \\\n",
       "0 -0.024731  0.883328  4.761487  ... -3.660269 -0.933872 -3.197880  0.387937   \n",
       "1 -1.370032 -0.670510  3.016013  ... -1.555093 -0.065157  6.405555  3.462205   \n",
       "2 -1.176334  0.100263 -2.071020  ... -2.273897 -4.417024 -4.566388 -1.420682   \n",
       "3 -0.611118 -0.553962  5.025526  ... -0.089216 -4.932624  0.792862  0.947849   \n",
       "4  0.162060 -0.035643  1.257160  ...  0.887789 -0.844424  0.375952  0.444107   \n",
       "\n",
       "       V364      V365      V366      V367      V368      V369  \n",
       "0  2.675900  0.164686  2.032390 -2.793127 -0.322112 -4.517528  \n",
       "1  2.661568  2.204485  1.995197  5.034056  2.562234 -6.162925  \n",
       "2 -2.098362  4.383374  0.847301  0.088088 -1.187041  0.865133  \n",
       "3  1.165891 -0.625673 -0.141959 -0.848033 -2.170994  1.508003  \n",
       "4  0.522316  0.333128 -0.135998 -0.282442 -0.570537 -0.278346  \n",
       "\n",
       "[5 rows x 369 columns]"
      ]
     },
     "execution_count": 29,
     "metadata": {},
     "output_type": "execute_result"
    }
   ],
   "source": [
    "c_df"
   ]
  },
  {
   "cell_type": "code",
   "execution_count": 30,
   "id": "f05fc7ab",
   "metadata": {},
   "outputs": [
    {
     "data": {
      "text/plain": [
       "['196', '133', '185', '28', '131', '254', '317', '343', '320', '250']"
      ]
     },
     "execution_count": 30,
     "metadata": {},
     "output_type": "execute_result"
    }
   ],
   "source": [
    "top_covariates = c_df.max().sort_values(ascending=False).index\n",
    "top_covariates_indexes = [i[1:] for i in top_covariates[:10]]\n",
    "top_covariates_indexes"
   ]
  },
  {
   "cell_type": "code",
   "execution_count": 31,
   "id": "0b55a8c0",
   "metadata": {},
   "outputs": [],
   "source": [
    "top_kinases = [number_kinase_dict[int(i)] for i in top_covariates_indexes]"
   ]
  },
  {
   "cell_type": "code",
   "execution_count": 32,
   "id": "059d90b5",
   "metadata": {},
   "outputs": [
    {
     "data": {
      "text/plain": [
       "['WNK3',\n",
       " 'NEK8',\n",
       " 'TSSK3_STK22C',\n",
       " 'CDC7_DBF4',\n",
       " 'NEK6',\n",
       " 'EPHB4',\n",
       " 'PHKG1',\n",
       " 'RIPK4',\n",
       " 'PIM2',\n",
       " 'EPHA8']"
      ]
     },
     "execution_count": 32,
     "metadata": {},
     "output_type": "execute_result"
    }
   ],
   "source": [
    "top_kinases"
   ]
  },
  {
   "cell_type": "markdown",
   "id": "788e3578",
   "metadata": {},
   "source": [
    "### Analyse Beta"
   ]
  },
  {
   "cell_type": "code",
   "execution_count": 33,
   "id": "8c8a014e",
   "metadata": {},
   "outputs": [],
   "source": [
    "b_df = pd.read_csv('./fof/data/r/result_beta.csv')"
   ]
  },
  {
   "cell_type": "code",
   "execution_count": 34,
   "id": "09a0859b",
   "metadata": {},
   "outputs": [
    {
     "data": {
      "application/vnd.plotly.v1+json": {
       "config": {
        "plotlyServerURL": "https://plot.ly"
       },
       "data": [
        {
         "hovertemplate": "time=%{x}<br>Cov_1=%{y}<extra></extra>",
         "legendgroup": "",
         "line": {
          "color": "#636efa",
          "dash": "solid"
         },
         "marker": {
          "symbol": "circle"
         },
         "mode": "lines",
         "name": "",
         "orientation": "v",
         "showlegend": false,
         "type": "scatter",
         "x": [
          0,
          0.01,
          0.04,
          0.12,
          0.37,
          1.11,
          3.3,
          10
         ],
         "xaxis": "x",
         "y": [
          -2.6788627767549,
          -3.28272022192212,
          -4.51579920058963,
          -5.20424134539604,
          -4.87519474977883,
          -3.97248777877828,
          -1.87658997579686,
          0.559021021213994
         ],
         "yaxis": "y"
        }
       ],
       "layout": {
        "legend": {
         "tracegroupgap": 0
        },
        "margin": {
         "t": 60
        },
        "template": {
         "data": {
          "bar": [
           {
            "error_x": {
             "color": "#2a3f5f"
            },
            "error_y": {
             "color": "#2a3f5f"
            },
            "marker": {
             "line": {
              "color": "#E5ECF6",
              "width": 0.5
             },
             "pattern": {
              "fillmode": "overlay",
              "size": 10,
              "solidity": 0.2
             }
            },
            "type": "bar"
           }
          ],
          "barpolar": [
           {
            "marker": {
             "line": {
              "color": "#E5ECF6",
              "width": 0.5
             },
             "pattern": {
              "fillmode": "overlay",
              "size": 10,
              "solidity": 0.2
             }
            },
            "type": "barpolar"
           }
          ],
          "carpet": [
           {
            "aaxis": {
             "endlinecolor": "#2a3f5f",
             "gridcolor": "white",
             "linecolor": "white",
             "minorgridcolor": "white",
             "startlinecolor": "#2a3f5f"
            },
            "baxis": {
             "endlinecolor": "#2a3f5f",
             "gridcolor": "white",
             "linecolor": "white",
             "minorgridcolor": "white",
             "startlinecolor": "#2a3f5f"
            },
            "type": "carpet"
           }
          ],
          "choropleth": [
           {
            "colorbar": {
             "outlinewidth": 0,
             "ticks": ""
            },
            "type": "choropleth"
           }
          ],
          "contour": [
           {
            "colorbar": {
             "outlinewidth": 0,
             "ticks": ""
            },
            "colorscale": [
             [
              0,
              "#0d0887"
             ],
             [
              0.1111111111111111,
              "#46039f"
             ],
             [
              0.2222222222222222,
              "#7201a8"
             ],
             [
              0.3333333333333333,
              "#9c179e"
             ],
             [
              0.4444444444444444,
              "#bd3786"
             ],
             [
              0.5555555555555556,
              "#d8576b"
             ],
             [
              0.6666666666666666,
              "#ed7953"
             ],
             [
              0.7777777777777778,
              "#fb9f3a"
             ],
             [
              0.8888888888888888,
              "#fdca26"
             ],
             [
              1,
              "#f0f921"
             ]
            ],
            "type": "contour"
           }
          ],
          "contourcarpet": [
           {
            "colorbar": {
             "outlinewidth": 0,
             "ticks": ""
            },
            "type": "contourcarpet"
           }
          ],
          "heatmap": [
           {
            "colorbar": {
             "outlinewidth": 0,
             "ticks": ""
            },
            "colorscale": [
             [
              0,
              "#0d0887"
             ],
             [
              0.1111111111111111,
              "#46039f"
             ],
             [
              0.2222222222222222,
              "#7201a8"
             ],
             [
              0.3333333333333333,
              "#9c179e"
             ],
             [
              0.4444444444444444,
              "#bd3786"
             ],
             [
              0.5555555555555556,
              "#d8576b"
             ],
             [
              0.6666666666666666,
              "#ed7953"
             ],
             [
              0.7777777777777778,
              "#fb9f3a"
             ],
             [
              0.8888888888888888,
              "#fdca26"
             ],
             [
              1,
              "#f0f921"
             ]
            ],
            "type": "heatmap"
           }
          ],
          "heatmapgl": [
           {
            "colorbar": {
             "outlinewidth": 0,
             "ticks": ""
            },
            "colorscale": [
             [
              0,
              "#0d0887"
             ],
             [
              0.1111111111111111,
              "#46039f"
             ],
             [
              0.2222222222222222,
              "#7201a8"
             ],
             [
              0.3333333333333333,
              "#9c179e"
             ],
             [
              0.4444444444444444,
              "#bd3786"
             ],
             [
              0.5555555555555556,
              "#d8576b"
             ],
             [
              0.6666666666666666,
              "#ed7953"
             ],
             [
              0.7777777777777778,
              "#fb9f3a"
             ],
             [
              0.8888888888888888,
              "#fdca26"
             ],
             [
              1,
              "#f0f921"
             ]
            ],
            "type": "heatmapgl"
           }
          ],
          "histogram": [
           {
            "marker": {
             "pattern": {
              "fillmode": "overlay",
              "size": 10,
              "solidity": 0.2
             }
            },
            "type": "histogram"
           }
          ],
          "histogram2d": [
           {
            "colorbar": {
             "outlinewidth": 0,
             "ticks": ""
            },
            "colorscale": [
             [
              0,
              "#0d0887"
             ],
             [
              0.1111111111111111,
              "#46039f"
             ],
             [
              0.2222222222222222,
              "#7201a8"
             ],
             [
              0.3333333333333333,
              "#9c179e"
             ],
             [
              0.4444444444444444,
              "#bd3786"
             ],
             [
              0.5555555555555556,
              "#d8576b"
             ],
             [
              0.6666666666666666,
              "#ed7953"
             ],
             [
              0.7777777777777778,
              "#fb9f3a"
             ],
             [
              0.8888888888888888,
              "#fdca26"
             ],
             [
              1,
              "#f0f921"
             ]
            ],
            "type": "histogram2d"
           }
          ],
          "histogram2dcontour": [
           {
            "colorbar": {
             "outlinewidth": 0,
             "ticks": ""
            },
            "colorscale": [
             [
              0,
              "#0d0887"
             ],
             [
              0.1111111111111111,
              "#46039f"
             ],
             [
              0.2222222222222222,
              "#7201a8"
             ],
             [
              0.3333333333333333,
              "#9c179e"
             ],
             [
              0.4444444444444444,
              "#bd3786"
             ],
             [
              0.5555555555555556,
              "#d8576b"
             ],
             [
              0.6666666666666666,
              "#ed7953"
             ],
             [
              0.7777777777777778,
              "#fb9f3a"
             ],
             [
              0.8888888888888888,
              "#fdca26"
             ],
             [
              1,
              "#f0f921"
             ]
            ],
            "type": "histogram2dcontour"
           }
          ],
          "mesh3d": [
           {
            "colorbar": {
             "outlinewidth": 0,
             "ticks": ""
            },
            "type": "mesh3d"
           }
          ],
          "parcoords": [
           {
            "line": {
             "colorbar": {
              "outlinewidth": 0,
              "ticks": ""
             }
            },
            "type": "parcoords"
           }
          ],
          "pie": [
           {
            "automargin": true,
            "type": "pie"
           }
          ],
          "scatter": [
           {
            "fillpattern": {
             "fillmode": "overlay",
             "size": 10,
             "solidity": 0.2
            },
            "type": "scatter"
           }
          ],
          "scatter3d": [
           {
            "line": {
             "colorbar": {
              "outlinewidth": 0,
              "ticks": ""
             }
            },
            "marker": {
             "colorbar": {
              "outlinewidth": 0,
              "ticks": ""
             }
            },
            "type": "scatter3d"
           }
          ],
          "scattercarpet": [
           {
            "marker": {
             "colorbar": {
              "outlinewidth": 0,
              "ticks": ""
             }
            },
            "type": "scattercarpet"
           }
          ],
          "scattergeo": [
           {
            "marker": {
             "colorbar": {
              "outlinewidth": 0,
              "ticks": ""
             }
            },
            "type": "scattergeo"
           }
          ],
          "scattergl": [
           {
            "marker": {
             "colorbar": {
              "outlinewidth": 0,
              "ticks": ""
             }
            },
            "type": "scattergl"
           }
          ],
          "scattermapbox": [
           {
            "marker": {
             "colorbar": {
              "outlinewidth": 0,
              "ticks": ""
             }
            },
            "type": "scattermapbox"
           }
          ],
          "scatterpolar": [
           {
            "marker": {
             "colorbar": {
              "outlinewidth": 0,
              "ticks": ""
             }
            },
            "type": "scatterpolar"
           }
          ],
          "scatterpolargl": [
           {
            "marker": {
             "colorbar": {
              "outlinewidth": 0,
              "ticks": ""
             }
            },
            "type": "scatterpolargl"
           }
          ],
          "scatterternary": [
           {
            "marker": {
             "colorbar": {
              "outlinewidth": 0,
              "ticks": ""
             }
            },
            "type": "scatterternary"
           }
          ],
          "surface": [
           {
            "colorbar": {
             "outlinewidth": 0,
             "ticks": ""
            },
            "colorscale": [
             [
              0,
              "#0d0887"
             ],
             [
              0.1111111111111111,
              "#46039f"
             ],
             [
              0.2222222222222222,
              "#7201a8"
             ],
             [
              0.3333333333333333,
              "#9c179e"
             ],
             [
              0.4444444444444444,
              "#bd3786"
             ],
             [
              0.5555555555555556,
              "#d8576b"
             ],
             [
              0.6666666666666666,
              "#ed7953"
             ],
             [
              0.7777777777777778,
              "#fb9f3a"
             ],
             [
              0.8888888888888888,
              "#fdca26"
             ],
             [
              1,
              "#f0f921"
             ]
            ],
            "type": "surface"
           }
          ],
          "table": [
           {
            "cells": {
             "fill": {
              "color": "#EBF0F8"
             },
             "line": {
              "color": "white"
             }
            },
            "header": {
             "fill": {
              "color": "#C8D4E3"
             },
             "line": {
              "color": "white"
             }
            },
            "type": "table"
           }
          ]
         },
         "layout": {
          "annotationdefaults": {
           "arrowcolor": "#2a3f5f",
           "arrowhead": 0,
           "arrowwidth": 1
          },
          "autotypenumbers": "strict",
          "coloraxis": {
           "colorbar": {
            "outlinewidth": 0,
            "ticks": ""
           }
          },
          "colorscale": {
           "diverging": [
            [
             0,
             "#8e0152"
            ],
            [
             0.1,
             "#c51b7d"
            ],
            [
             0.2,
             "#de77ae"
            ],
            [
             0.3,
             "#f1b6da"
            ],
            [
             0.4,
             "#fde0ef"
            ],
            [
             0.5,
             "#f7f7f7"
            ],
            [
             0.6,
             "#e6f5d0"
            ],
            [
             0.7,
             "#b8e186"
            ],
            [
             0.8,
             "#7fbc41"
            ],
            [
             0.9,
             "#4d9221"
            ],
            [
             1,
             "#276419"
            ]
           ],
           "sequential": [
            [
             0,
             "#0d0887"
            ],
            [
             0.1111111111111111,
             "#46039f"
            ],
            [
             0.2222222222222222,
             "#7201a8"
            ],
            [
             0.3333333333333333,
             "#9c179e"
            ],
            [
             0.4444444444444444,
             "#bd3786"
            ],
            [
             0.5555555555555556,
             "#d8576b"
            ],
            [
             0.6666666666666666,
             "#ed7953"
            ],
            [
             0.7777777777777778,
             "#fb9f3a"
            ],
            [
             0.8888888888888888,
             "#fdca26"
            ],
            [
             1,
             "#f0f921"
            ]
           ],
           "sequentialminus": [
            [
             0,
             "#0d0887"
            ],
            [
             0.1111111111111111,
             "#46039f"
            ],
            [
             0.2222222222222222,
             "#7201a8"
            ],
            [
             0.3333333333333333,
             "#9c179e"
            ],
            [
             0.4444444444444444,
             "#bd3786"
            ],
            [
             0.5555555555555556,
             "#d8576b"
            ],
            [
             0.6666666666666666,
             "#ed7953"
            ],
            [
             0.7777777777777778,
             "#fb9f3a"
            ],
            [
             0.8888888888888888,
             "#fdca26"
            ],
            [
             1,
             "#f0f921"
            ]
           ]
          },
          "colorway": [
           "#636efa",
           "#EF553B",
           "#00cc96",
           "#ab63fa",
           "#FFA15A",
           "#19d3f3",
           "#FF6692",
           "#B6E880",
           "#FF97FF",
           "#FECB52"
          ],
          "font": {
           "color": "#2a3f5f"
          },
          "geo": {
           "bgcolor": "white",
           "lakecolor": "white",
           "landcolor": "#E5ECF6",
           "showlakes": true,
           "showland": true,
           "subunitcolor": "white"
          },
          "hoverlabel": {
           "align": "left"
          },
          "hovermode": "closest",
          "mapbox": {
           "style": "light"
          },
          "paper_bgcolor": "white",
          "plot_bgcolor": "#E5ECF6",
          "polar": {
           "angularaxis": {
            "gridcolor": "white",
            "linecolor": "white",
            "ticks": ""
           },
           "bgcolor": "#E5ECF6",
           "radialaxis": {
            "gridcolor": "white",
            "linecolor": "white",
            "ticks": ""
           }
          },
          "scene": {
           "xaxis": {
            "backgroundcolor": "#E5ECF6",
            "gridcolor": "white",
            "gridwidth": 2,
            "linecolor": "white",
            "showbackground": true,
            "ticks": "",
            "zerolinecolor": "white"
           },
           "yaxis": {
            "backgroundcolor": "#E5ECF6",
            "gridcolor": "white",
            "gridwidth": 2,
            "linecolor": "white",
            "showbackground": true,
            "ticks": "",
            "zerolinecolor": "white"
           },
           "zaxis": {
            "backgroundcolor": "#E5ECF6",
            "gridcolor": "white",
            "gridwidth": 2,
            "linecolor": "white",
            "showbackground": true,
            "ticks": "",
            "zerolinecolor": "white"
           }
          },
          "shapedefaults": {
           "line": {
            "color": "#2a3f5f"
           }
          },
          "ternary": {
           "aaxis": {
            "gridcolor": "white",
            "linecolor": "white",
            "ticks": ""
           },
           "baxis": {
            "gridcolor": "white",
            "linecolor": "white",
            "ticks": ""
           },
           "bgcolor": "#E5ECF6",
           "caxis": {
            "gridcolor": "white",
            "linecolor": "white",
            "ticks": ""
           }
          },
          "title": {
           "x": 0.05
          },
          "xaxis": {
           "automargin": true,
           "gridcolor": "white",
           "linecolor": "white",
           "ticks": "",
           "title": {
            "standoff": 15
           },
           "zerolinecolor": "white",
           "zerolinewidth": 2
          },
          "yaxis": {
           "automargin": true,
           "gridcolor": "white",
           "linecolor": "white",
           "ticks": "",
           "title": {
            "standoff": 15
           },
           "zerolinecolor": "white",
           "zerolinewidth": 2
          }
         }
        },
        "xaxis": {
         "anchor": "y",
         "domain": [
          0,
          1
         ],
         "title": {
          "text": "time"
         }
        },
        "yaxis": {
         "anchor": "x",
         "domain": [
          0,
          1
         ],
         "title": {
          "text": "Cov_1"
         }
        }
       }
      },
      "text/html": [
       "<div>                            <div id=\"108681da-2bd7-4161-8402-0ad443bc9d81\" class=\"plotly-graph-div\" style=\"height:525px; width:100%;\"></div>            <script type=\"text/javascript\">                require([\"plotly\"], function(Plotly) {                    window.PLOTLYENV=window.PLOTLYENV || {};                                    if (document.getElementById(\"108681da-2bd7-4161-8402-0ad443bc9d81\")) {                    Plotly.newPlot(                        \"108681da-2bd7-4161-8402-0ad443bc9d81\",                        [{\"hovertemplate\":\"time=%{x}\\u003cbr\\u003eCov_1=%{y}\\u003cextra\\u003e\\u003c\\u002fextra\\u003e\",\"legendgroup\":\"\",\"line\":{\"color\":\"#636efa\",\"dash\":\"solid\"},\"marker\":{\"symbol\":\"circle\"},\"mode\":\"lines\",\"name\":\"\",\"orientation\":\"v\",\"showlegend\":false,\"x\":[0.0,0.01,0.04,0.12,0.37,1.11,3.3,10.0],\"xaxis\":\"x\",\"y\":[-2.6788627767549,-3.28272022192212,-4.51579920058963,-5.20424134539604,-4.87519474977883,-3.97248777877828,-1.87658997579686,0.559021021213994],\"yaxis\":\"y\",\"type\":\"scatter\"}],                        {\"template\":{\"data\":{\"histogram2dcontour\":[{\"type\":\"histogram2dcontour\",\"colorbar\":{\"outlinewidth\":0,\"ticks\":\"\"},\"colorscale\":[[0.0,\"#0d0887\"],[0.1111111111111111,\"#46039f\"],[0.2222222222222222,\"#7201a8\"],[0.3333333333333333,\"#9c179e\"],[0.4444444444444444,\"#bd3786\"],[0.5555555555555556,\"#d8576b\"],[0.6666666666666666,\"#ed7953\"],[0.7777777777777778,\"#fb9f3a\"],[0.8888888888888888,\"#fdca26\"],[1.0,\"#f0f921\"]]}],\"choropleth\":[{\"type\":\"choropleth\",\"colorbar\":{\"outlinewidth\":0,\"ticks\":\"\"}}],\"histogram2d\":[{\"type\":\"histogram2d\",\"colorbar\":{\"outlinewidth\":0,\"ticks\":\"\"},\"colorscale\":[[0.0,\"#0d0887\"],[0.1111111111111111,\"#46039f\"],[0.2222222222222222,\"#7201a8\"],[0.3333333333333333,\"#9c179e\"],[0.4444444444444444,\"#bd3786\"],[0.5555555555555556,\"#d8576b\"],[0.6666666666666666,\"#ed7953\"],[0.7777777777777778,\"#fb9f3a\"],[0.8888888888888888,\"#fdca26\"],[1.0,\"#f0f921\"]]}],\"heatmap\":[{\"type\":\"heatmap\",\"colorbar\":{\"outlinewidth\":0,\"ticks\":\"\"},\"colorscale\":[[0.0,\"#0d0887\"],[0.1111111111111111,\"#46039f\"],[0.2222222222222222,\"#7201a8\"],[0.3333333333333333,\"#9c179e\"],[0.4444444444444444,\"#bd3786\"],[0.5555555555555556,\"#d8576b\"],[0.6666666666666666,\"#ed7953\"],[0.7777777777777778,\"#fb9f3a\"],[0.8888888888888888,\"#fdca26\"],[1.0,\"#f0f921\"]]}],\"heatmapgl\":[{\"type\":\"heatmapgl\",\"colorbar\":{\"outlinewidth\":0,\"ticks\":\"\"},\"colorscale\":[[0.0,\"#0d0887\"],[0.1111111111111111,\"#46039f\"],[0.2222222222222222,\"#7201a8\"],[0.3333333333333333,\"#9c179e\"],[0.4444444444444444,\"#bd3786\"],[0.5555555555555556,\"#d8576b\"],[0.6666666666666666,\"#ed7953\"],[0.7777777777777778,\"#fb9f3a\"],[0.8888888888888888,\"#fdca26\"],[1.0,\"#f0f921\"]]}],\"contourcarpet\":[{\"type\":\"contourcarpet\",\"colorbar\":{\"outlinewidth\":0,\"ticks\":\"\"}}],\"contour\":[{\"type\":\"contour\",\"colorbar\":{\"outlinewidth\":0,\"ticks\":\"\"},\"colorscale\":[[0.0,\"#0d0887\"],[0.1111111111111111,\"#46039f\"],[0.2222222222222222,\"#7201a8\"],[0.3333333333333333,\"#9c179e\"],[0.4444444444444444,\"#bd3786\"],[0.5555555555555556,\"#d8576b\"],[0.6666666666666666,\"#ed7953\"],[0.7777777777777778,\"#fb9f3a\"],[0.8888888888888888,\"#fdca26\"],[1.0,\"#f0f921\"]]}],\"surface\":[{\"type\":\"surface\",\"colorbar\":{\"outlinewidth\":0,\"ticks\":\"\"},\"colorscale\":[[0.0,\"#0d0887\"],[0.1111111111111111,\"#46039f\"],[0.2222222222222222,\"#7201a8\"],[0.3333333333333333,\"#9c179e\"],[0.4444444444444444,\"#bd3786\"],[0.5555555555555556,\"#d8576b\"],[0.6666666666666666,\"#ed7953\"],[0.7777777777777778,\"#fb9f3a\"],[0.8888888888888888,\"#fdca26\"],[1.0,\"#f0f921\"]]}],\"mesh3d\":[{\"type\":\"mesh3d\",\"colorbar\":{\"outlinewidth\":0,\"ticks\":\"\"}}],\"scatter\":[{\"fillpattern\":{\"fillmode\":\"overlay\",\"size\":10,\"solidity\":0.2},\"type\":\"scatter\"}],\"parcoords\":[{\"type\":\"parcoords\",\"line\":{\"colorbar\":{\"outlinewidth\":0,\"ticks\":\"\"}}}],\"scatterpolargl\":[{\"type\":\"scatterpolargl\",\"marker\":{\"colorbar\":{\"outlinewidth\":0,\"ticks\":\"\"}}}],\"bar\":[{\"error_x\":{\"color\":\"#2a3f5f\"},\"error_y\":{\"color\":\"#2a3f5f\"},\"marker\":{\"line\":{\"color\":\"#E5ECF6\",\"width\":0.5},\"pattern\":{\"fillmode\":\"overlay\",\"size\":10,\"solidity\":0.2}},\"type\":\"bar\"}],\"scattergeo\":[{\"type\":\"scattergeo\",\"marker\":{\"colorbar\":{\"outlinewidth\":0,\"ticks\":\"\"}}}],\"scatterpolar\":[{\"type\":\"scatterpolar\",\"marker\":{\"colorbar\":{\"outlinewidth\":0,\"ticks\":\"\"}}}],\"histogram\":[{\"marker\":{\"pattern\":{\"fillmode\":\"overlay\",\"size\":10,\"solidity\":0.2}},\"type\":\"histogram\"}],\"scattergl\":[{\"type\":\"scattergl\",\"marker\":{\"colorbar\":{\"outlinewidth\":0,\"ticks\":\"\"}}}],\"scatter3d\":[{\"type\":\"scatter3d\",\"line\":{\"colorbar\":{\"outlinewidth\":0,\"ticks\":\"\"}},\"marker\":{\"colorbar\":{\"outlinewidth\":0,\"ticks\":\"\"}}}],\"scattermapbox\":[{\"type\":\"scattermapbox\",\"marker\":{\"colorbar\":{\"outlinewidth\":0,\"ticks\":\"\"}}}],\"scatterternary\":[{\"type\":\"scatterternary\",\"marker\":{\"colorbar\":{\"outlinewidth\":0,\"ticks\":\"\"}}}],\"scattercarpet\":[{\"type\":\"scattercarpet\",\"marker\":{\"colorbar\":{\"outlinewidth\":0,\"ticks\":\"\"}}}],\"carpet\":[{\"aaxis\":{\"endlinecolor\":\"#2a3f5f\",\"gridcolor\":\"white\",\"linecolor\":\"white\",\"minorgridcolor\":\"white\",\"startlinecolor\":\"#2a3f5f\"},\"baxis\":{\"endlinecolor\":\"#2a3f5f\",\"gridcolor\":\"white\",\"linecolor\":\"white\",\"minorgridcolor\":\"white\",\"startlinecolor\":\"#2a3f5f\"},\"type\":\"carpet\"}],\"table\":[{\"cells\":{\"fill\":{\"color\":\"#EBF0F8\"},\"line\":{\"color\":\"white\"}},\"header\":{\"fill\":{\"color\":\"#C8D4E3\"},\"line\":{\"color\":\"white\"}},\"type\":\"table\"}],\"barpolar\":[{\"marker\":{\"line\":{\"color\":\"#E5ECF6\",\"width\":0.5},\"pattern\":{\"fillmode\":\"overlay\",\"size\":10,\"solidity\":0.2}},\"type\":\"barpolar\"}],\"pie\":[{\"automargin\":true,\"type\":\"pie\"}]},\"layout\":{\"autotypenumbers\":\"strict\",\"colorway\":[\"#636efa\",\"#EF553B\",\"#00cc96\",\"#ab63fa\",\"#FFA15A\",\"#19d3f3\",\"#FF6692\",\"#B6E880\",\"#FF97FF\",\"#FECB52\"],\"font\":{\"color\":\"#2a3f5f\"},\"hovermode\":\"closest\",\"hoverlabel\":{\"align\":\"left\"},\"paper_bgcolor\":\"white\",\"plot_bgcolor\":\"#E5ECF6\",\"polar\":{\"bgcolor\":\"#E5ECF6\",\"angularaxis\":{\"gridcolor\":\"white\",\"linecolor\":\"white\",\"ticks\":\"\"},\"radialaxis\":{\"gridcolor\":\"white\",\"linecolor\":\"white\",\"ticks\":\"\"}},\"ternary\":{\"bgcolor\":\"#E5ECF6\",\"aaxis\":{\"gridcolor\":\"white\",\"linecolor\":\"white\",\"ticks\":\"\"},\"baxis\":{\"gridcolor\":\"white\",\"linecolor\":\"white\",\"ticks\":\"\"},\"caxis\":{\"gridcolor\":\"white\",\"linecolor\":\"white\",\"ticks\":\"\"}},\"coloraxis\":{\"colorbar\":{\"outlinewidth\":0,\"ticks\":\"\"}},\"colorscale\":{\"sequential\":[[0.0,\"#0d0887\"],[0.1111111111111111,\"#46039f\"],[0.2222222222222222,\"#7201a8\"],[0.3333333333333333,\"#9c179e\"],[0.4444444444444444,\"#bd3786\"],[0.5555555555555556,\"#d8576b\"],[0.6666666666666666,\"#ed7953\"],[0.7777777777777778,\"#fb9f3a\"],[0.8888888888888888,\"#fdca26\"],[1.0,\"#f0f921\"]],\"sequentialminus\":[[0.0,\"#0d0887\"],[0.1111111111111111,\"#46039f\"],[0.2222222222222222,\"#7201a8\"],[0.3333333333333333,\"#9c179e\"],[0.4444444444444444,\"#bd3786\"],[0.5555555555555556,\"#d8576b\"],[0.6666666666666666,\"#ed7953\"],[0.7777777777777778,\"#fb9f3a\"],[0.8888888888888888,\"#fdca26\"],[1.0,\"#f0f921\"]],\"diverging\":[[0,\"#8e0152\"],[0.1,\"#c51b7d\"],[0.2,\"#de77ae\"],[0.3,\"#f1b6da\"],[0.4,\"#fde0ef\"],[0.5,\"#f7f7f7\"],[0.6,\"#e6f5d0\"],[0.7,\"#b8e186\"],[0.8,\"#7fbc41\"],[0.9,\"#4d9221\"],[1,\"#276419\"]]},\"xaxis\":{\"gridcolor\":\"white\",\"linecolor\":\"white\",\"ticks\":\"\",\"title\":{\"standoff\":15},\"zerolinecolor\":\"white\",\"automargin\":true,\"zerolinewidth\":2},\"yaxis\":{\"gridcolor\":\"white\",\"linecolor\":\"white\",\"ticks\":\"\",\"title\":{\"standoff\":15},\"zerolinecolor\":\"white\",\"automargin\":true,\"zerolinewidth\":2},\"scene\":{\"xaxis\":{\"backgroundcolor\":\"#E5ECF6\",\"gridcolor\":\"white\",\"linecolor\":\"white\",\"showbackground\":true,\"ticks\":\"\",\"zerolinecolor\":\"white\",\"gridwidth\":2},\"yaxis\":{\"backgroundcolor\":\"#E5ECF6\",\"gridcolor\":\"white\",\"linecolor\":\"white\",\"showbackground\":true,\"ticks\":\"\",\"zerolinecolor\":\"white\",\"gridwidth\":2},\"zaxis\":{\"backgroundcolor\":\"#E5ECF6\",\"gridcolor\":\"white\",\"linecolor\":\"white\",\"showbackground\":true,\"ticks\":\"\",\"zerolinecolor\":\"white\",\"gridwidth\":2}},\"shapedefaults\":{\"line\":{\"color\":\"#2a3f5f\"}},\"annotationdefaults\":{\"arrowcolor\":\"#2a3f5f\",\"arrowhead\":0,\"arrowwidth\":1},\"geo\":{\"bgcolor\":\"white\",\"landcolor\":\"#E5ECF6\",\"subunitcolor\":\"white\",\"showland\":true,\"showlakes\":true,\"lakecolor\":\"white\"},\"title\":{\"x\":0.05},\"mapbox\":{\"style\":\"light\"}}},\"xaxis\":{\"anchor\":\"y\",\"domain\":[0.0,1.0],\"title\":{\"text\":\"time\"}},\"yaxis\":{\"anchor\":\"x\",\"domain\":[0.0,1.0],\"title\":{\"text\":\"Cov_1\"}},\"legend\":{\"tracegroupgap\":0},\"margin\":{\"t\":60}},                        {\"responsive\": true}                    ).then(function(){\n",
       "                            \n",
       "var gd = document.getElementById('108681da-2bd7-4161-8402-0ad443bc9d81');\n",
       "var x = new MutationObserver(function (mutations, observer) {{\n",
       "        var display = window.getComputedStyle(gd).display;\n",
       "        if (!display || display === 'none') {{\n",
       "            console.log([gd, 'removed!']);\n",
       "            Plotly.purge(gd);\n",
       "            observer.disconnect();\n",
       "        }}\n",
       "}});\n",
       "\n",
       "// Listen for the removal of the full notebook cells\n",
       "var notebookContainer = gd.closest('#notebook-container');\n",
       "if (notebookContainer) {{\n",
       "    x.observe(notebookContainer, {childList: true});\n",
       "}}\n",
       "\n",
       "// Listen for the clearing of the current output cell\n",
       "var outputEl = gd.closest('.output');\n",
       "if (outputEl) {{\n",
       "    x.observe(outputEl, {childList: true});\n",
       "}}\n",
       "\n",
       "                        })                };                });            </script>        </div>"
      ]
     },
     "metadata": {},
     "output_type": "display_data"
    }
   ],
   "source": [
    "fig = px.line(b_df, x='time', y='Cov_1')\n",
    "fig.show()"
   ]
  },
  {
   "cell_type": "markdown",
   "id": "b712f8e5",
   "metadata": {},
   "source": [
    "### Max T"
   ]
  },
  {
   "cell_type": "code",
   "execution_count": 35,
   "id": "b9136a77",
   "metadata": {},
   "outputs": [],
   "source": [
    "b_df_no_time = b_df.drop(columns=['time'])"
   ]
  },
  {
   "cell_type": "code",
   "execution_count": 36,
   "id": "e5194895",
   "metadata": {},
   "outputs": [
    {
     "data": {
      "text/plain": [
       "['321', '262', '196', '133', '185', '129', '81', '28', '254', '131']"
      ]
     },
     "execution_count": 36,
     "metadata": {},
     "output_type": "execute_result"
    }
   ],
   "source": [
    "top_covariates = b_df_no_time.abs().max().sort_values(ascending=False).index\n",
    "top_covariates_indexes = [i[4:] for i in top_covariates[:10]]\n",
    "top_covariates_indexes"
   ]
  },
  {
   "cell_type": "code",
   "execution_count": 37,
   "id": "2689ff20",
   "metadata": {},
   "outputs": [],
   "source": [
    "top_kinases = [number_kinase_dict[int(i)] for i in top_covariates_indexes]"
   ]
  },
  {
   "cell_type": "code",
   "execution_count": 38,
   "id": "8eab0c6e",
   "metadata": {},
   "outputs": [
    {
     "data": {
      "text/plain": [
       "['PIM3',\n",
       " 'FMS',\n",
       " 'WNK3',\n",
       " 'NEK8',\n",
       " 'TSSK3_STK22C',\n",
       " 'NEK3',\n",
       " 'HIPK4',\n",
       " 'CDC7_DBF4',\n",
       " 'EPHB4',\n",
       " 'NEK6']"
      ]
     },
     "execution_count": 38,
     "metadata": {},
     "output_type": "execute_result"
    }
   ],
   "source": [
    "top_kinases"
   ]
  },
  {
   "cell_type": "markdown",
   "id": "8991bc5f",
   "metadata": {},
   "source": [
    "### Var"
   ]
  },
  {
   "cell_type": "code",
   "execution_count": 39,
   "id": "24499e34",
   "metadata": {},
   "outputs": [
    {
     "data": {
      "application/vnd.plotly.v1+json": {
       "config": {
        "plotlyServerURL": "https://plot.ly"
       },
       "data": [
        {
         "alignmentgroup": "True",
         "bingroup": "x",
         "hovertemplate": "x=%{x}<br>count=%{y}<extra></extra>",
         "legendgroup": "",
         "marker": {
          "color": "#636efa",
          "pattern": {
           "shape": ""
          }
         },
         "name": "",
         "offsetgroup": "",
         "orientation": "v",
         "showlegend": false,
         "type": "histogram",
         "x": [
          3.614826726521863,
          3.581706881625147,
          2.63555410296462,
          4.469913206256463,
          4.048409057726017,
          2.7744680947912745,
          1.3425777901590783,
          0.3871220891101053,
          0.29942850236682605,
          1.8754342189761302,
          4.694347311954279,
          4.382391447005311,
          0.7233090818333319,
          0.13347500729763753,
          12.379136052687715,
          1.0256386669850779,
          0.5624039949830067,
          2.6884686495750563,
          0.9806157766028389,
          1.607015935919979,
          1.5461565170003844,
          1.4910554274756254,
          3.8179211573633025,
          0.3808577426672556,
          0.7657870601253534,
          9.889954104203863,
          5.435512004055316,
          24.583989157619822,
          0.33308809713891613,
          7.988417705316627,
          0.11816151558109289,
          1.0410918357994607,
          1.0827102678353948,
          9.827893055777833,
          1.5188301151980477,
          0.13005660932538307,
          0.46500608007616606,
          1.9010637111078472,
          1.411166221435374,
          10.323654588616465,
          5.063413184168572,
          0.4951388308705661,
          10.027194993086061,
          0.2246160764448315,
          3.945090078517498,
          1.1301211138131084,
          1.117839518592305,
          3.7964994549165647,
          1.4595568018001919,
          4.511120680479606,
          23.006953995649873,
          12.623883734416955,
          6.0867649158422426,
          4.059964176980993,
          2.0278324156297156,
          2.7357122190536143,
          5.4413346459639325,
          3.942391548304897,
          12.217954750617297,
          1.6969838191371458,
          0.49468309716367675,
          4.430059763825425,
          1.632436471460154,
          0.5255970061370074,
          2.1470544093231583,
          1.637602407941286,
          2.1694248053895637,
          1.0907571023422074,
          0.5533112344844402,
          0.6469911732161424,
          11.030369553562268,
          11.953576456861308,
          1.9450080687250249,
          0.9405079441805467,
          0.15483331569112457,
          12.181229944682412,
          1.9361584556914158,
          2.5010576512778617,
          2.458322647632276,
          1.5610922693348386,
          9.950739589356013,
          3.860915336667163,
          10.702315599968989,
          8.685418924060327,
          0.24520569504261144,
          1.3861263955753116,
          0.3564014729284094,
          2.9214653753110036,
          2.4852510665563328,
          4.698733699096403,
          12.996894083331346,
          0.6404270432976468,
          5.583811925241294,
          0.14880294128406696,
          2.434154617832792,
          14.00575158197852,
          0.10445334673307992,
          9.556686470916393,
          3.21920755949514,
          2.2285733041344336,
          0.11160347935360639,
          0.7257269659249553,
          5.419365332752672,
          1.2991008657682503,
          2.419940335728009,
          0.8200702695113514,
          2.74873061961165,
          6.127283999066714,
          1.084752997575171,
          0.3346666961296939,
          1.1894719494757076,
          3.724607202698131,
          0.1487984421667634,
          1.5412912684887097,
          3.4400164100851174,
          1.2173982252052424,
          1.291524211825971,
          6.381489156910317,
          0.259040970489019,
          0.029971436392412485,
          3.8765019513043133,
          0.2152234962568406,
          1.0386477527667175,
          2.1846951159336605,
          4.181872489229671,
          2.659585622008792,
          1.242141283537795,
          2.1166523223389597,
          11.474791527168565,
          5.2656894762567035,
          10.623625568619579,
          3.353613454046756,
          14.748653667957237,
          0.14948522194832406,
          3.2539094751479385,
          3.811002000152587,
          10.31213072403234,
          5.489635195373355,
          2.8806919051575557,
          4.677964191147423,
          22.055614153208733,
          1.862415376116058,
          2.065878731218134,
          0.3315280422530851,
          0.47095296948170057,
          0.2802155031790829,
          0.9672781720635596,
          0.09156778421158711,
          3.24800902514288,
          2.991975466971546,
          1.2436354235242109,
          9.61525212314784,
          0.6872945487392622,
          5.475337396201574,
          1.0466903943086228,
          1.5197355201693747,
          0.5484009972753872,
          2.3878484926973065,
          2.905024254059026,
          0.2308025839161282,
          0.7443926047126631,
          2.4384796549176513,
          0.9267037635576788,
          3.8197625299208022,
          11.044017625580299,
          0.8191090937799022,
          1.4765922756412384,
          17.338645550030858,
          1.7507331274893283,
          11.561608039864577,
          0.8810808759351565,
          0.6099121902293313,
          5.292947378775869,
          1.8329388361441024,
          0.10722604689749213,
          0.27466215114112275,
          10.622114339257635,
          1.3240394903847275,
          7.047222589925437,
          9.962246335479676,
          1.0979686585909307,
          2.5319784134152346,
          0.8833905234491224,
          1.4954022087770988,
          14.168467110476092,
          2.8811753786461125,
          4.566305535268034,
          1.388069449793543,
          1.1145399227082928,
          1.1180622124198099,
          7.362932209545256,
          2.2968313193387173,
          13.617636094708457,
          1.9062846203666655,
          0.37907303986963775,
          22.074980318277778,
          0.4594041487769068,
          2.0391991743633864,
          4.463586164594949,
          0.200060651951866,
          2.7041844543431344,
          5.260357902186468,
          9.312634373071843,
          0.1775396370417837,
          10.802508778736568,
          2.7460824717231875,
          0.8017679474109819,
          0.54006739672784,
          0.4220258847672942,
          3.499542300520185,
          0.38686117048838137,
          0.9664087642901533,
          0.1478188301925454,
          2.045161480056624,
          7.226315921064596,
          0.6469454818410784,
          2.0395938923617427,
          9.30372827869263,
          0.8771275572805981,
          1.5771287493654509,
          10.44276187187979,
          0.40874362511597295,
          0.50502387624439,
          0.6759671434781259,
          1.7022789597268033,
          4.421913916336652,
          7.079295907797209,
          16.092998908806006,
          5.747435455106928,
          2.9026925166624595,
          0.4628464537320465,
          0.44921979949878516,
          2.185492453705641,
          3.5477975694262587,
          3.0650336134107383,
          1.8115496887082736,
          3.581576027665818,
          22.98265263764789,
          11.142379947129617,
          0.23943943858861166,
          2.116203859927757,
          0.574518082714756,
          8.600043603061462,
          2.2958131377112414,
          5.3659557483799265,
          0.4564021097856622,
          3.858181454912816,
          3.921628789582228,
          1.548876075286741,
          20.33499241660792,
          9.2111595835101,
          7.97326552883744,
          0.5194418092946205,
          39.721956510646415,
          14.783290751151682,
          6.151755012632945,
          0.902565252518521,
          2.876409836073543,
          0.7130203514806738,
          4.076491150953511,
          0.009359917462988452,
          36.000541329678,
          1.4765990571649787,
          1.7053969533552755,
          0.565588838168026,
          1.6655319186723432,
          2.6490041773275617,
          0.018538250339287504,
          1.9248867130792051,
          2.0780143865798726,
          6.431859194784162,
          2.1058830327050937,
          3.0820404162626818,
          2.804725210531958,
          0.45621526369740867,
          4.319320020885927,
          21.617639147867077,
          4.350972784628704,
          1.3182636114608826,
          4.28633735486955,
          1.507853183120563,
          4.2747288758688216,
          5.078829171587948,
          8.457369290360253,
          2.988432166113533,
          2.4616628367760365,
          1.8186024715301676,
          1.8575311838095858,
          0.8025261054862878,
          0.33242320922854923,
          3.0789265523573865,
          10.421734111851732,
          1.3317157105024715,
          12.040734693907085,
          1.178696680909398,
          5.730513815597212,
          0.11437463900759783,
          1.3102406904220605,
          11.532517215320729,
          2.50819701859482,
          0.19850564984694413,
          14.021973913978739,
          3.675694086843055,
          24.695425103226324,
          4.775485431641303,
          0.43345654106509235,
          0.34999504335987186,
          1.9501000955790428,
          2.6043969778062652,
          3.6045762921044657,
          0.44865092471547896,
          0.42897953063959104,
          2.8135567884182406,
          0.0823602905712139,
          1.6873270689005488,
          6.237362047153687,
          14.496146439798101,
          4.489689821221211,
          3.549254064752613,
          14.2260990093978,
          48.58505693749053,
          1.7033147275216305,
          0.8540044476576508,
          0.4222043228635677,
          3.3292046505969113,
          0.3975232505545102,
          5.24611228374205,
          0.7826536084662941,
          1.122252047433831,
          0.31171870329569,
          0.3298014821788665,
          4.420135643824998,
          10.094292005033438,
          0.443325534909516,
          1.0470977244264987,
          0.18301271809956357,
          0.05139306215405303,
          0.15519381924027448,
          4.304431471791425,
          3.4683554903614238,
          5.236125693826508,
          3.5040424285984773,
          11.78436023905456,
          0.5141619883125997,
          2.439789121171972,
          1.378579762777455,
          0.4746457068236796,
          0.19278177049449632,
          2.6303738232961087,
          0.3104046174929354,
          1.6846379529437048,
          0.5560296836096038,
          5.4921174988000585,
          0.3178889014793579,
          3.828363632740977,
          3.391425644098263,
          0.9283302134181094,
          0.7059296820793767,
          2.438957925772748,
          1.8464672508971456,
          0.8498802900751254,
          10.689974645544018,
          1.4380136453202574,
          1.0719879483770511,
          1.0914058276372318,
          0.593586239752918,
          7.7812664028982885,
          1.4793374108531343,
          4.5471778459991725
         ],
         "xaxis": "x",
         "yaxis": "y"
        }
       ],
       "layout": {
        "barmode": "relative",
        "legend": {
         "tracegroupgap": 0
        },
        "margin": {
         "t": 60
        },
        "template": {
         "data": {
          "bar": [
           {
            "error_x": {
             "color": "#2a3f5f"
            },
            "error_y": {
             "color": "#2a3f5f"
            },
            "marker": {
             "line": {
              "color": "#E5ECF6",
              "width": 0.5
             },
             "pattern": {
              "fillmode": "overlay",
              "size": 10,
              "solidity": 0.2
             }
            },
            "type": "bar"
           }
          ],
          "barpolar": [
           {
            "marker": {
             "line": {
              "color": "#E5ECF6",
              "width": 0.5
             },
             "pattern": {
              "fillmode": "overlay",
              "size": 10,
              "solidity": 0.2
             }
            },
            "type": "barpolar"
           }
          ],
          "carpet": [
           {
            "aaxis": {
             "endlinecolor": "#2a3f5f",
             "gridcolor": "white",
             "linecolor": "white",
             "minorgridcolor": "white",
             "startlinecolor": "#2a3f5f"
            },
            "baxis": {
             "endlinecolor": "#2a3f5f",
             "gridcolor": "white",
             "linecolor": "white",
             "minorgridcolor": "white",
             "startlinecolor": "#2a3f5f"
            },
            "type": "carpet"
           }
          ],
          "choropleth": [
           {
            "colorbar": {
             "outlinewidth": 0,
             "ticks": ""
            },
            "type": "choropleth"
           }
          ],
          "contour": [
           {
            "colorbar": {
             "outlinewidth": 0,
             "ticks": ""
            },
            "colorscale": [
             [
              0,
              "#0d0887"
             ],
             [
              0.1111111111111111,
              "#46039f"
             ],
             [
              0.2222222222222222,
              "#7201a8"
             ],
             [
              0.3333333333333333,
              "#9c179e"
             ],
             [
              0.4444444444444444,
              "#bd3786"
             ],
             [
              0.5555555555555556,
              "#d8576b"
             ],
             [
              0.6666666666666666,
              "#ed7953"
             ],
             [
              0.7777777777777778,
              "#fb9f3a"
             ],
             [
              0.8888888888888888,
              "#fdca26"
             ],
             [
              1,
              "#f0f921"
             ]
            ],
            "type": "contour"
           }
          ],
          "contourcarpet": [
           {
            "colorbar": {
             "outlinewidth": 0,
             "ticks": ""
            },
            "type": "contourcarpet"
           }
          ],
          "heatmap": [
           {
            "colorbar": {
             "outlinewidth": 0,
             "ticks": ""
            },
            "colorscale": [
             [
              0,
              "#0d0887"
             ],
             [
              0.1111111111111111,
              "#46039f"
             ],
             [
              0.2222222222222222,
              "#7201a8"
             ],
             [
              0.3333333333333333,
              "#9c179e"
             ],
             [
              0.4444444444444444,
              "#bd3786"
             ],
             [
              0.5555555555555556,
              "#d8576b"
             ],
             [
              0.6666666666666666,
              "#ed7953"
             ],
             [
              0.7777777777777778,
              "#fb9f3a"
             ],
             [
              0.8888888888888888,
              "#fdca26"
             ],
             [
              1,
              "#f0f921"
             ]
            ],
            "type": "heatmap"
           }
          ],
          "heatmapgl": [
           {
            "colorbar": {
             "outlinewidth": 0,
             "ticks": ""
            },
            "colorscale": [
             [
              0,
              "#0d0887"
             ],
             [
              0.1111111111111111,
              "#46039f"
             ],
             [
              0.2222222222222222,
              "#7201a8"
             ],
             [
              0.3333333333333333,
              "#9c179e"
             ],
             [
              0.4444444444444444,
              "#bd3786"
             ],
             [
              0.5555555555555556,
              "#d8576b"
             ],
             [
              0.6666666666666666,
              "#ed7953"
             ],
             [
              0.7777777777777778,
              "#fb9f3a"
             ],
             [
              0.8888888888888888,
              "#fdca26"
             ],
             [
              1,
              "#f0f921"
             ]
            ],
            "type": "heatmapgl"
           }
          ],
          "histogram": [
           {
            "marker": {
             "pattern": {
              "fillmode": "overlay",
              "size": 10,
              "solidity": 0.2
             }
            },
            "type": "histogram"
           }
          ],
          "histogram2d": [
           {
            "colorbar": {
             "outlinewidth": 0,
             "ticks": ""
            },
            "colorscale": [
             [
              0,
              "#0d0887"
             ],
             [
              0.1111111111111111,
              "#46039f"
             ],
             [
              0.2222222222222222,
              "#7201a8"
             ],
             [
              0.3333333333333333,
              "#9c179e"
             ],
             [
              0.4444444444444444,
              "#bd3786"
             ],
             [
              0.5555555555555556,
              "#d8576b"
             ],
             [
              0.6666666666666666,
              "#ed7953"
             ],
             [
              0.7777777777777778,
              "#fb9f3a"
             ],
             [
              0.8888888888888888,
              "#fdca26"
             ],
             [
              1,
              "#f0f921"
             ]
            ],
            "type": "histogram2d"
           }
          ],
          "histogram2dcontour": [
           {
            "colorbar": {
             "outlinewidth": 0,
             "ticks": ""
            },
            "colorscale": [
             [
              0,
              "#0d0887"
             ],
             [
              0.1111111111111111,
              "#46039f"
             ],
             [
              0.2222222222222222,
              "#7201a8"
             ],
             [
              0.3333333333333333,
              "#9c179e"
             ],
             [
              0.4444444444444444,
              "#bd3786"
             ],
             [
              0.5555555555555556,
              "#d8576b"
             ],
             [
              0.6666666666666666,
              "#ed7953"
             ],
             [
              0.7777777777777778,
              "#fb9f3a"
             ],
             [
              0.8888888888888888,
              "#fdca26"
             ],
             [
              1,
              "#f0f921"
             ]
            ],
            "type": "histogram2dcontour"
           }
          ],
          "mesh3d": [
           {
            "colorbar": {
             "outlinewidth": 0,
             "ticks": ""
            },
            "type": "mesh3d"
           }
          ],
          "parcoords": [
           {
            "line": {
             "colorbar": {
              "outlinewidth": 0,
              "ticks": ""
             }
            },
            "type": "parcoords"
           }
          ],
          "pie": [
           {
            "automargin": true,
            "type": "pie"
           }
          ],
          "scatter": [
           {
            "fillpattern": {
             "fillmode": "overlay",
             "size": 10,
             "solidity": 0.2
            },
            "type": "scatter"
           }
          ],
          "scatter3d": [
           {
            "line": {
             "colorbar": {
              "outlinewidth": 0,
              "ticks": ""
             }
            },
            "marker": {
             "colorbar": {
              "outlinewidth": 0,
              "ticks": ""
             }
            },
            "type": "scatter3d"
           }
          ],
          "scattercarpet": [
           {
            "marker": {
             "colorbar": {
              "outlinewidth": 0,
              "ticks": ""
             }
            },
            "type": "scattercarpet"
           }
          ],
          "scattergeo": [
           {
            "marker": {
             "colorbar": {
              "outlinewidth": 0,
              "ticks": ""
             }
            },
            "type": "scattergeo"
           }
          ],
          "scattergl": [
           {
            "marker": {
             "colorbar": {
              "outlinewidth": 0,
              "ticks": ""
             }
            },
            "type": "scattergl"
           }
          ],
          "scattermapbox": [
           {
            "marker": {
             "colorbar": {
              "outlinewidth": 0,
              "ticks": ""
             }
            },
            "type": "scattermapbox"
           }
          ],
          "scatterpolar": [
           {
            "marker": {
             "colorbar": {
              "outlinewidth": 0,
              "ticks": ""
             }
            },
            "type": "scatterpolar"
           }
          ],
          "scatterpolargl": [
           {
            "marker": {
             "colorbar": {
              "outlinewidth": 0,
              "ticks": ""
             }
            },
            "type": "scatterpolargl"
           }
          ],
          "scatterternary": [
           {
            "marker": {
             "colorbar": {
              "outlinewidth": 0,
              "ticks": ""
             }
            },
            "type": "scatterternary"
           }
          ],
          "surface": [
           {
            "colorbar": {
             "outlinewidth": 0,
             "ticks": ""
            },
            "colorscale": [
             [
              0,
              "#0d0887"
             ],
             [
              0.1111111111111111,
              "#46039f"
             ],
             [
              0.2222222222222222,
              "#7201a8"
             ],
             [
              0.3333333333333333,
              "#9c179e"
             ],
             [
              0.4444444444444444,
              "#bd3786"
             ],
             [
              0.5555555555555556,
              "#d8576b"
             ],
             [
              0.6666666666666666,
              "#ed7953"
             ],
             [
              0.7777777777777778,
              "#fb9f3a"
             ],
             [
              0.8888888888888888,
              "#fdca26"
             ],
             [
              1,
              "#f0f921"
             ]
            ],
            "type": "surface"
           }
          ],
          "table": [
           {
            "cells": {
             "fill": {
              "color": "#EBF0F8"
             },
             "line": {
              "color": "white"
             }
            },
            "header": {
             "fill": {
              "color": "#C8D4E3"
             },
             "line": {
              "color": "white"
             }
            },
            "type": "table"
           }
          ]
         },
         "layout": {
          "annotationdefaults": {
           "arrowcolor": "#2a3f5f",
           "arrowhead": 0,
           "arrowwidth": 1
          },
          "autotypenumbers": "strict",
          "coloraxis": {
           "colorbar": {
            "outlinewidth": 0,
            "ticks": ""
           }
          },
          "colorscale": {
           "diverging": [
            [
             0,
             "#8e0152"
            ],
            [
             0.1,
             "#c51b7d"
            ],
            [
             0.2,
             "#de77ae"
            ],
            [
             0.3,
             "#f1b6da"
            ],
            [
             0.4,
             "#fde0ef"
            ],
            [
             0.5,
             "#f7f7f7"
            ],
            [
             0.6,
             "#e6f5d0"
            ],
            [
             0.7,
             "#b8e186"
            ],
            [
             0.8,
             "#7fbc41"
            ],
            [
             0.9,
             "#4d9221"
            ],
            [
             1,
             "#276419"
            ]
           ],
           "sequential": [
            [
             0,
             "#0d0887"
            ],
            [
             0.1111111111111111,
             "#46039f"
            ],
            [
             0.2222222222222222,
             "#7201a8"
            ],
            [
             0.3333333333333333,
             "#9c179e"
            ],
            [
             0.4444444444444444,
             "#bd3786"
            ],
            [
             0.5555555555555556,
             "#d8576b"
            ],
            [
             0.6666666666666666,
             "#ed7953"
            ],
            [
             0.7777777777777778,
             "#fb9f3a"
            ],
            [
             0.8888888888888888,
             "#fdca26"
            ],
            [
             1,
             "#f0f921"
            ]
           ],
           "sequentialminus": [
            [
             0,
             "#0d0887"
            ],
            [
             0.1111111111111111,
             "#46039f"
            ],
            [
             0.2222222222222222,
             "#7201a8"
            ],
            [
             0.3333333333333333,
             "#9c179e"
            ],
            [
             0.4444444444444444,
             "#bd3786"
            ],
            [
             0.5555555555555556,
             "#d8576b"
            ],
            [
             0.6666666666666666,
             "#ed7953"
            ],
            [
             0.7777777777777778,
             "#fb9f3a"
            ],
            [
             0.8888888888888888,
             "#fdca26"
            ],
            [
             1,
             "#f0f921"
            ]
           ]
          },
          "colorway": [
           "#636efa",
           "#EF553B",
           "#00cc96",
           "#ab63fa",
           "#FFA15A",
           "#19d3f3",
           "#FF6692",
           "#B6E880",
           "#FF97FF",
           "#FECB52"
          ],
          "font": {
           "color": "#2a3f5f"
          },
          "geo": {
           "bgcolor": "white",
           "lakecolor": "white",
           "landcolor": "#E5ECF6",
           "showlakes": true,
           "showland": true,
           "subunitcolor": "white"
          },
          "hoverlabel": {
           "align": "left"
          },
          "hovermode": "closest",
          "mapbox": {
           "style": "light"
          },
          "paper_bgcolor": "white",
          "plot_bgcolor": "#E5ECF6",
          "polar": {
           "angularaxis": {
            "gridcolor": "white",
            "linecolor": "white",
            "ticks": ""
           },
           "bgcolor": "#E5ECF6",
           "radialaxis": {
            "gridcolor": "white",
            "linecolor": "white",
            "ticks": ""
           }
          },
          "scene": {
           "xaxis": {
            "backgroundcolor": "#E5ECF6",
            "gridcolor": "white",
            "gridwidth": 2,
            "linecolor": "white",
            "showbackground": true,
            "ticks": "",
            "zerolinecolor": "white"
           },
           "yaxis": {
            "backgroundcolor": "#E5ECF6",
            "gridcolor": "white",
            "gridwidth": 2,
            "linecolor": "white",
            "showbackground": true,
            "ticks": "",
            "zerolinecolor": "white"
           },
           "zaxis": {
            "backgroundcolor": "#E5ECF6",
            "gridcolor": "white",
            "gridwidth": 2,
            "linecolor": "white",
            "showbackground": true,
            "ticks": "",
            "zerolinecolor": "white"
           }
          },
          "shapedefaults": {
           "line": {
            "color": "#2a3f5f"
           }
          },
          "ternary": {
           "aaxis": {
            "gridcolor": "white",
            "linecolor": "white",
            "ticks": ""
           },
           "baxis": {
            "gridcolor": "white",
            "linecolor": "white",
            "ticks": ""
           },
           "bgcolor": "#E5ECF6",
           "caxis": {
            "gridcolor": "white",
            "linecolor": "white",
            "ticks": ""
           }
          },
          "title": {
           "x": 0.05
          },
          "xaxis": {
           "automargin": true,
           "gridcolor": "white",
           "linecolor": "white",
           "ticks": "",
           "title": {
            "standoff": 15
           },
           "zerolinecolor": "white",
           "zerolinewidth": 2
          },
          "yaxis": {
           "automargin": true,
           "gridcolor": "white",
           "linecolor": "white",
           "ticks": "",
           "title": {
            "standoff": 15
           },
           "zerolinecolor": "white",
           "zerolinewidth": 2
          }
         }
        },
        "xaxis": {
         "anchor": "y",
         "domain": [
          0,
          1
         ],
         "title": {
          "text": "x"
         }
        },
        "yaxis": {
         "anchor": "x",
         "domain": [
          0,
          1
         ],
         "title": {
          "text": "count"
         }
        }
       }
      },
      "text/html": [
       "<div>                            <div id=\"8f3a6c5a-c738-485d-b8a7-7ce3fe28c0ff\" class=\"plotly-graph-div\" style=\"height:525px; width:100%;\"></div>            <script type=\"text/javascript\">                require([\"plotly\"], function(Plotly) {                    window.PLOTLYENV=window.PLOTLYENV || {};                                    if (document.getElementById(\"8f3a6c5a-c738-485d-b8a7-7ce3fe28c0ff\")) {                    Plotly.newPlot(                        \"8f3a6c5a-c738-485d-b8a7-7ce3fe28c0ff\",                        [{\"alignmentgroup\":\"True\",\"bingroup\":\"x\",\"hovertemplate\":\"x=%{x}\\u003cbr\\u003ecount=%{y}\\u003cextra\\u003e\\u003c\\u002fextra\\u003e\",\"legendgroup\":\"\",\"marker\":{\"color\":\"#636efa\",\"pattern\":{\"shape\":\"\"}},\"name\":\"\",\"offsetgroup\":\"\",\"orientation\":\"v\",\"showlegend\":false,\"x\":[3.614826726521863,3.581706881625147,2.63555410296462,4.469913206256463,4.048409057726017,2.7744680947912745,1.3425777901590783,0.3871220891101053,0.29942850236682605,1.8754342189761302,4.694347311954279,4.382391447005311,0.7233090818333319,0.13347500729763753,12.379136052687715,1.0256386669850779,0.5624039949830067,2.6884686495750563,0.9806157766028389,1.607015935919979,1.5461565170003844,1.4910554274756254,3.8179211573633025,0.3808577426672556,0.7657870601253534,9.889954104203863,5.435512004055316,24.583989157619822,0.33308809713891613,7.988417705316627,0.11816151558109289,1.0410918357994607,1.0827102678353948,9.827893055777833,1.5188301151980477,0.13005660932538307,0.46500608007616606,1.9010637111078472,1.411166221435374,10.323654588616465,5.063413184168572,0.4951388308705661,10.027194993086061,0.2246160764448315,3.945090078517498,1.1301211138131084,1.117839518592305,3.7964994549165647,1.4595568018001919,4.511120680479606,23.006953995649873,12.623883734416955,6.0867649158422426,4.059964176980993,2.0278324156297156,2.7357122190536143,5.4413346459639325,3.942391548304897,12.217954750617297,1.6969838191371458,0.49468309716367675,4.430059763825425,1.632436471460154,0.5255970061370074,2.1470544093231583,1.637602407941286,2.1694248053895637,1.0907571023422074,0.5533112344844402,0.6469911732161424,11.030369553562268,11.953576456861308,1.9450080687250249,0.9405079441805467,0.15483331569112457,12.181229944682412,1.9361584556914158,2.5010576512778617,2.458322647632276,1.5610922693348386,9.950739589356013,3.860915336667163,10.702315599968989,8.685418924060327,0.24520569504261144,1.3861263955753116,0.3564014729284094,2.9214653753110036,2.4852510665563328,4.698733699096403,12.996894083331346,0.6404270432976468,5.583811925241294,0.14880294128406696,2.434154617832792,14.00575158197852,0.10445334673307992,9.556686470916393,3.21920755949514,2.2285733041344336,0.11160347935360639,0.7257269659249553,5.419365332752672,1.2991008657682503,2.419940335728009,0.8200702695113514,2.74873061961165,6.127283999066714,1.084752997575171,0.3346666961296939,1.1894719494757076,3.724607202698131,0.1487984421667634,1.5412912684887097,3.4400164100851174,1.2173982252052424,1.291524211825971,6.381489156910317,0.259040970489019,0.029971436392412485,3.8765019513043133,0.2152234962568406,1.0386477527667175,2.1846951159336605,4.181872489229671,2.659585622008792,1.242141283537795,2.1166523223389597,11.474791527168565,5.2656894762567035,10.623625568619579,3.353613454046756,14.748653667957237,0.14948522194832406,3.2539094751479385,3.811002000152587,10.31213072403234,5.489635195373355,2.8806919051575557,4.677964191147423,22.055614153208733,1.862415376116058,2.065878731218134,0.3315280422530851,0.47095296948170057,0.2802155031790829,0.9672781720635596,0.09156778421158711,3.24800902514288,2.991975466971546,1.2436354235242109,9.61525212314784,0.6872945487392622,5.475337396201574,1.0466903943086228,1.5197355201693747,0.5484009972753872,2.3878484926973065,2.905024254059026,0.2308025839161282,0.7443926047126631,2.4384796549176513,0.9267037635576788,3.8197625299208022,11.044017625580299,0.8191090937799022,1.4765922756412384,17.338645550030858,1.7507331274893283,11.561608039864577,0.8810808759351565,0.6099121902293313,5.292947378775869,1.8329388361441024,0.10722604689749213,0.27466215114112275,10.622114339257635,1.3240394903847275,7.047222589925437,9.962246335479676,1.0979686585909307,2.5319784134152346,0.8833905234491224,1.4954022087770988,14.168467110476092,2.8811753786461125,4.566305535268034,1.388069449793543,1.1145399227082928,1.1180622124198099,7.362932209545256,2.2968313193387173,13.617636094708457,1.9062846203666655,0.37907303986963775,22.074980318277778,0.4594041487769068,2.0391991743633864,4.463586164594949,0.200060651951866,2.7041844543431344,5.260357902186468,9.312634373071843,0.1775396370417837,10.802508778736568,2.7460824717231875,0.8017679474109819,0.54006739672784,0.4220258847672942,3.499542300520185,0.38686117048838137,0.9664087642901533,0.1478188301925454,2.045161480056624,7.226315921064596,0.6469454818410784,2.0395938923617427,9.30372827869263,0.8771275572805981,1.5771287493654509,10.44276187187979,0.40874362511597295,0.50502387624439,0.6759671434781259,1.7022789597268033,4.421913916336652,7.079295907797209,16.092998908806006,5.747435455106928,2.9026925166624595,0.4628464537320465,0.44921979949878516,2.185492453705641,3.5477975694262587,3.0650336134107383,1.8115496887082736,3.581576027665818,22.98265263764789,11.142379947129617,0.23943943858861166,2.116203859927757,0.574518082714756,8.600043603061462,2.2958131377112414,5.3659557483799265,0.4564021097856622,3.858181454912816,3.921628789582228,1.548876075286741,20.33499241660792,9.2111595835101,7.97326552883744,0.5194418092946205,39.721956510646415,14.783290751151682,6.151755012632945,0.902565252518521,2.876409836073543,0.7130203514806738,4.076491150953511,0.009359917462988452,36.000541329678,1.4765990571649787,1.7053969533552755,0.565588838168026,1.6655319186723432,2.6490041773275617,0.018538250339287504,1.9248867130792051,2.0780143865798726,6.431859194784162,2.1058830327050937,3.0820404162626818,2.804725210531958,0.45621526369740867,4.319320020885927,21.617639147867077,4.350972784628704,1.3182636114608826,4.28633735486955,1.507853183120563,4.2747288758688216,5.078829171587948,8.457369290360253,2.988432166113533,2.4616628367760365,1.8186024715301676,1.8575311838095858,0.8025261054862878,0.33242320922854923,3.0789265523573865,10.421734111851732,1.3317157105024715,12.040734693907085,1.178696680909398,5.730513815597212,0.11437463900759783,1.3102406904220605,11.532517215320729,2.50819701859482,0.19850564984694413,14.021973913978739,3.675694086843055,24.695425103226324,4.775485431641303,0.43345654106509235,0.34999504335987186,1.9501000955790428,2.6043969778062652,3.6045762921044657,0.44865092471547896,0.42897953063959104,2.8135567884182406,0.0823602905712139,1.6873270689005488,6.237362047153687,14.496146439798101,4.489689821221211,3.549254064752613,14.2260990093978,48.58505693749053,1.7033147275216305,0.8540044476576508,0.4222043228635677,3.3292046505969113,0.3975232505545102,5.24611228374205,0.7826536084662941,1.122252047433831,0.31171870329569,0.3298014821788665,4.420135643824998,10.094292005033438,0.443325534909516,1.0470977244264987,0.18301271809956357,0.05139306215405303,0.15519381924027448,4.304431471791425,3.4683554903614238,5.236125693826508,3.5040424285984773,11.78436023905456,0.5141619883125997,2.439789121171972,1.378579762777455,0.4746457068236796,0.19278177049449632,2.6303738232961087,0.3104046174929354,1.6846379529437048,0.5560296836096038,5.4921174988000585,0.3178889014793579,3.828363632740977,3.391425644098263,0.9283302134181094,0.7059296820793767,2.438957925772748,1.8464672508971456,0.8498802900751254,10.689974645544018,1.4380136453202574,1.0719879483770511,1.0914058276372318,0.593586239752918,7.7812664028982885,1.4793374108531343,4.5471778459991725],\"xaxis\":\"x\",\"yaxis\":\"y\",\"type\":\"histogram\"}],                        {\"template\":{\"data\":{\"histogram2dcontour\":[{\"type\":\"histogram2dcontour\",\"colorbar\":{\"outlinewidth\":0,\"ticks\":\"\"},\"colorscale\":[[0.0,\"#0d0887\"],[0.1111111111111111,\"#46039f\"],[0.2222222222222222,\"#7201a8\"],[0.3333333333333333,\"#9c179e\"],[0.4444444444444444,\"#bd3786\"],[0.5555555555555556,\"#d8576b\"],[0.6666666666666666,\"#ed7953\"],[0.7777777777777778,\"#fb9f3a\"],[0.8888888888888888,\"#fdca26\"],[1.0,\"#f0f921\"]]}],\"choropleth\":[{\"type\":\"choropleth\",\"colorbar\":{\"outlinewidth\":0,\"ticks\":\"\"}}],\"histogram2d\":[{\"type\":\"histogram2d\",\"colorbar\":{\"outlinewidth\":0,\"ticks\":\"\"},\"colorscale\":[[0.0,\"#0d0887\"],[0.1111111111111111,\"#46039f\"],[0.2222222222222222,\"#7201a8\"],[0.3333333333333333,\"#9c179e\"],[0.4444444444444444,\"#bd3786\"],[0.5555555555555556,\"#d8576b\"],[0.6666666666666666,\"#ed7953\"],[0.7777777777777778,\"#fb9f3a\"],[0.8888888888888888,\"#fdca26\"],[1.0,\"#f0f921\"]]}],\"heatmap\":[{\"type\":\"heatmap\",\"colorbar\":{\"outlinewidth\":0,\"ticks\":\"\"},\"colorscale\":[[0.0,\"#0d0887\"],[0.1111111111111111,\"#46039f\"],[0.2222222222222222,\"#7201a8\"],[0.3333333333333333,\"#9c179e\"],[0.4444444444444444,\"#bd3786\"],[0.5555555555555556,\"#d8576b\"],[0.6666666666666666,\"#ed7953\"],[0.7777777777777778,\"#fb9f3a\"],[0.8888888888888888,\"#fdca26\"],[1.0,\"#f0f921\"]]}],\"heatmapgl\":[{\"type\":\"heatmapgl\",\"colorbar\":{\"outlinewidth\":0,\"ticks\":\"\"},\"colorscale\":[[0.0,\"#0d0887\"],[0.1111111111111111,\"#46039f\"],[0.2222222222222222,\"#7201a8\"],[0.3333333333333333,\"#9c179e\"],[0.4444444444444444,\"#bd3786\"],[0.5555555555555556,\"#d8576b\"],[0.6666666666666666,\"#ed7953\"],[0.7777777777777778,\"#fb9f3a\"],[0.8888888888888888,\"#fdca26\"],[1.0,\"#f0f921\"]]}],\"contourcarpet\":[{\"type\":\"contourcarpet\",\"colorbar\":{\"outlinewidth\":0,\"ticks\":\"\"}}],\"contour\":[{\"type\":\"contour\",\"colorbar\":{\"outlinewidth\":0,\"ticks\":\"\"},\"colorscale\":[[0.0,\"#0d0887\"],[0.1111111111111111,\"#46039f\"],[0.2222222222222222,\"#7201a8\"],[0.3333333333333333,\"#9c179e\"],[0.4444444444444444,\"#bd3786\"],[0.5555555555555556,\"#d8576b\"],[0.6666666666666666,\"#ed7953\"],[0.7777777777777778,\"#fb9f3a\"],[0.8888888888888888,\"#fdca26\"],[1.0,\"#f0f921\"]]}],\"surface\":[{\"type\":\"surface\",\"colorbar\":{\"outlinewidth\":0,\"ticks\":\"\"},\"colorscale\":[[0.0,\"#0d0887\"],[0.1111111111111111,\"#46039f\"],[0.2222222222222222,\"#7201a8\"],[0.3333333333333333,\"#9c179e\"],[0.4444444444444444,\"#bd3786\"],[0.5555555555555556,\"#d8576b\"],[0.6666666666666666,\"#ed7953\"],[0.7777777777777778,\"#fb9f3a\"],[0.8888888888888888,\"#fdca26\"],[1.0,\"#f0f921\"]]}],\"mesh3d\":[{\"type\":\"mesh3d\",\"colorbar\":{\"outlinewidth\":0,\"ticks\":\"\"}}],\"scatter\":[{\"fillpattern\":{\"fillmode\":\"overlay\",\"size\":10,\"solidity\":0.2},\"type\":\"scatter\"}],\"parcoords\":[{\"type\":\"parcoords\",\"line\":{\"colorbar\":{\"outlinewidth\":0,\"ticks\":\"\"}}}],\"scatterpolargl\":[{\"type\":\"scatterpolargl\",\"marker\":{\"colorbar\":{\"outlinewidth\":0,\"ticks\":\"\"}}}],\"bar\":[{\"error_x\":{\"color\":\"#2a3f5f\"},\"error_y\":{\"color\":\"#2a3f5f\"},\"marker\":{\"line\":{\"color\":\"#E5ECF6\",\"width\":0.5},\"pattern\":{\"fillmode\":\"overlay\",\"size\":10,\"solidity\":0.2}},\"type\":\"bar\"}],\"scattergeo\":[{\"type\":\"scattergeo\",\"marker\":{\"colorbar\":{\"outlinewidth\":0,\"ticks\":\"\"}}}],\"scatterpolar\":[{\"type\":\"scatterpolar\",\"marker\":{\"colorbar\":{\"outlinewidth\":0,\"ticks\":\"\"}}}],\"histogram\":[{\"marker\":{\"pattern\":{\"fillmode\":\"overlay\",\"size\":10,\"solidity\":0.2}},\"type\":\"histogram\"}],\"scattergl\":[{\"type\":\"scattergl\",\"marker\":{\"colorbar\":{\"outlinewidth\":0,\"ticks\":\"\"}}}],\"scatter3d\":[{\"type\":\"scatter3d\",\"line\":{\"colorbar\":{\"outlinewidth\":0,\"ticks\":\"\"}},\"marker\":{\"colorbar\":{\"outlinewidth\":0,\"ticks\":\"\"}}}],\"scattermapbox\":[{\"type\":\"scattermapbox\",\"marker\":{\"colorbar\":{\"outlinewidth\":0,\"ticks\":\"\"}}}],\"scatterternary\":[{\"type\":\"scatterternary\",\"marker\":{\"colorbar\":{\"outlinewidth\":0,\"ticks\":\"\"}}}],\"scattercarpet\":[{\"type\":\"scattercarpet\",\"marker\":{\"colorbar\":{\"outlinewidth\":0,\"ticks\":\"\"}}}],\"carpet\":[{\"aaxis\":{\"endlinecolor\":\"#2a3f5f\",\"gridcolor\":\"white\",\"linecolor\":\"white\",\"minorgridcolor\":\"white\",\"startlinecolor\":\"#2a3f5f\"},\"baxis\":{\"endlinecolor\":\"#2a3f5f\",\"gridcolor\":\"white\",\"linecolor\":\"white\",\"minorgridcolor\":\"white\",\"startlinecolor\":\"#2a3f5f\"},\"type\":\"carpet\"}],\"table\":[{\"cells\":{\"fill\":{\"color\":\"#EBF0F8\"},\"line\":{\"color\":\"white\"}},\"header\":{\"fill\":{\"color\":\"#C8D4E3\"},\"line\":{\"color\":\"white\"}},\"type\":\"table\"}],\"barpolar\":[{\"marker\":{\"line\":{\"color\":\"#E5ECF6\",\"width\":0.5},\"pattern\":{\"fillmode\":\"overlay\",\"size\":10,\"solidity\":0.2}},\"type\":\"barpolar\"}],\"pie\":[{\"automargin\":true,\"type\":\"pie\"}]},\"layout\":{\"autotypenumbers\":\"strict\",\"colorway\":[\"#636efa\",\"#EF553B\",\"#00cc96\",\"#ab63fa\",\"#FFA15A\",\"#19d3f3\",\"#FF6692\",\"#B6E880\",\"#FF97FF\",\"#FECB52\"],\"font\":{\"color\":\"#2a3f5f\"},\"hovermode\":\"closest\",\"hoverlabel\":{\"align\":\"left\"},\"paper_bgcolor\":\"white\",\"plot_bgcolor\":\"#E5ECF6\",\"polar\":{\"bgcolor\":\"#E5ECF6\",\"angularaxis\":{\"gridcolor\":\"white\",\"linecolor\":\"white\",\"ticks\":\"\"},\"radialaxis\":{\"gridcolor\":\"white\",\"linecolor\":\"white\",\"ticks\":\"\"}},\"ternary\":{\"bgcolor\":\"#E5ECF6\",\"aaxis\":{\"gridcolor\":\"white\",\"linecolor\":\"white\",\"ticks\":\"\"},\"baxis\":{\"gridcolor\":\"white\",\"linecolor\":\"white\",\"ticks\":\"\"},\"caxis\":{\"gridcolor\":\"white\",\"linecolor\":\"white\",\"ticks\":\"\"}},\"coloraxis\":{\"colorbar\":{\"outlinewidth\":0,\"ticks\":\"\"}},\"colorscale\":{\"sequential\":[[0.0,\"#0d0887\"],[0.1111111111111111,\"#46039f\"],[0.2222222222222222,\"#7201a8\"],[0.3333333333333333,\"#9c179e\"],[0.4444444444444444,\"#bd3786\"],[0.5555555555555556,\"#d8576b\"],[0.6666666666666666,\"#ed7953\"],[0.7777777777777778,\"#fb9f3a\"],[0.8888888888888888,\"#fdca26\"],[1.0,\"#f0f921\"]],\"sequentialminus\":[[0.0,\"#0d0887\"],[0.1111111111111111,\"#46039f\"],[0.2222222222222222,\"#7201a8\"],[0.3333333333333333,\"#9c179e\"],[0.4444444444444444,\"#bd3786\"],[0.5555555555555556,\"#d8576b\"],[0.6666666666666666,\"#ed7953\"],[0.7777777777777778,\"#fb9f3a\"],[0.8888888888888888,\"#fdca26\"],[1.0,\"#f0f921\"]],\"diverging\":[[0,\"#8e0152\"],[0.1,\"#c51b7d\"],[0.2,\"#de77ae\"],[0.3,\"#f1b6da\"],[0.4,\"#fde0ef\"],[0.5,\"#f7f7f7\"],[0.6,\"#e6f5d0\"],[0.7,\"#b8e186\"],[0.8,\"#7fbc41\"],[0.9,\"#4d9221\"],[1,\"#276419\"]]},\"xaxis\":{\"gridcolor\":\"white\",\"linecolor\":\"white\",\"ticks\":\"\",\"title\":{\"standoff\":15},\"zerolinecolor\":\"white\",\"automargin\":true,\"zerolinewidth\":2},\"yaxis\":{\"gridcolor\":\"white\",\"linecolor\":\"white\",\"ticks\":\"\",\"title\":{\"standoff\":15},\"zerolinecolor\":\"white\",\"automargin\":true,\"zerolinewidth\":2},\"scene\":{\"xaxis\":{\"backgroundcolor\":\"#E5ECF6\",\"gridcolor\":\"white\",\"linecolor\":\"white\",\"showbackground\":true,\"ticks\":\"\",\"zerolinecolor\":\"white\",\"gridwidth\":2},\"yaxis\":{\"backgroundcolor\":\"#E5ECF6\",\"gridcolor\":\"white\",\"linecolor\":\"white\",\"showbackground\":true,\"ticks\":\"\",\"zerolinecolor\":\"white\",\"gridwidth\":2},\"zaxis\":{\"backgroundcolor\":\"#E5ECF6\",\"gridcolor\":\"white\",\"linecolor\":\"white\",\"showbackground\":true,\"ticks\":\"\",\"zerolinecolor\":\"white\",\"gridwidth\":2}},\"shapedefaults\":{\"line\":{\"color\":\"#2a3f5f\"}},\"annotationdefaults\":{\"arrowcolor\":\"#2a3f5f\",\"arrowhead\":0,\"arrowwidth\":1},\"geo\":{\"bgcolor\":\"white\",\"landcolor\":\"#E5ECF6\",\"subunitcolor\":\"white\",\"showland\":true,\"showlakes\":true,\"lakecolor\":\"white\"},\"title\":{\"x\":0.05},\"mapbox\":{\"style\":\"light\"}}},\"xaxis\":{\"anchor\":\"y\",\"domain\":[0.0,1.0],\"title\":{\"text\":\"x\"}},\"yaxis\":{\"anchor\":\"x\",\"domain\":[0.0,1.0],\"title\":{\"text\":\"count\"}},\"legend\":{\"tracegroupgap\":0},\"margin\":{\"t\":60},\"barmode\":\"relative\"},                        {\"responsive\": true}                    ).then(function(){\n",
       "                            \n",
       "var gd = document.getElementById('8f3a6c5a-c738-485d-b8a7-7ce3fe28c0ff');\n",
       "var x = new MutationObserver(function (mutations, observer) {{\n",
       "        var display = window.getComputedStyle(gd).display;\n",
       "        if (!display || display === 'none') {{\n",
       "            console.log([gd, 'removed!']);\n",
       "            Plotly.purge(gd);\n",
       "            observer.disconnect();\n",
       "        }}\n",
       "}});\n",
       "\n",
       "// Listen for the removal of the full notebook cells\n",
       "var notebookContainer = gd.closest('#notebook-container');\n",
       "if (notebookContainer) {{\n",
       "    x.observe(notebookContainer, {childList: true});\n",
       "}}\n",
       "\n",
       "// Listen for the clearing of the current output cell\n",
       "var outputEl = gd.closest('.output');\n",
       "if (outputEl) {{\n",
       "    x.observe(outputEl, {childList: true});\n",
       "}}\n",
       "\n",
       "                        })                };                });            </script>        </div>"
      ]
     },
     "metadata": {},
     "output_type": "display_data"
    }
   ],
   "source": [
    "fig = px.histogram(x=b_df_no_time.var())\n",
    "fig.show()"
   ]
  },
  {
   "cell_type": "code",
   "execution_count": 40,
   "id": "6dfee4be",
   "metadata": {},
   "outputs": [
    {
     "data": {
      "text/plain": [
       "['Cov_321',\n",
       " 'Cov_254',\n",
       " 'Cov_262',\n",
       " 'Cov_304',\n",
       " 'Cov_28',\n",
       " 'Cov_51',\n",
       " 'Cov_238',\n",
       " 'Cov_196',\n",
       " 'Cov_141',\n",
       " 'Cov_277',\n",
       " 'Cov_250',\n",
       " 'Cov_168',\n",
       " 'Cov_228',\n",
       " 'Cov_255',\n",
       " 'Cov_133',\n",
       " 'Cov_317',\n",
       " 'Cov_320',\n",
       " 'Cov_185',\n",
       " 'Cov_302',\n",
       " 'Cov_96',\n",
       " 'Cov_193',\n",
       " 'Cov_91',\n",
       " 'Cov_52',\n",
       " 'Cov_15',\n",
       " 'Cov_59',\n",
       " 'Cov_76',\n",
       " 'Cov_294',\n",
       " 'Cov_72',\n",
       " 'Cov_343',\n",
       " 'Cov_170',\n",
       " 'Cov_299',\n",
       " 'Cov_129',\n",
       " 'Cov_239',\n",
       " 'Cov_165',\n",
       " 'Cov_71',\n",
       " 'Cov_205',\n",
       " 'Cov_83',\n",
       " 'Cov_362',\n",
       " 'Cov_131',\n",
       " 'Cov_177',\n",
       " 'Cov_221',\n",
       " 'Cov_292',\n",
       " 'Cov_40',\n",
       " 'Cov_137',\n",
       " 'Cov_333',\n",
       " 'Cov_43',\n",
       " 'Cov_180',\n",
       " 'Cov_81',\n",
       " 'Cov_26',\n",
       " 'Cov_34',\n",
       " 'Cov_152',\n",
       " 'Cov_98',\n",
       " 'Cov_203',\n",
       " 'Cov_218',\n",
       " 'Cov_251',\n",
       " 'Cov_84',\n",
       " 'Cov_243',\n",
       " 'Cov_284',\n",
       " 'Cov_30',\n",
       " 'Cov_252',\n",
       " 'Cov_367',\n",
       " 'Cov_191',\n",
       " 'Cov_215',\n",
       " 'Cov_227',\n",
       " 'Cov_179',\n",
       " 'Cov_271',\n",
       " 'Cov_118',\n",
       " 'Cov_316',\n",
       " 'Cov_256',\n",
       " 'Cov_108',\n",
       " 'Cov_53',\n",
       " 'Cov_229',\n",
       " 'Cov_296',\n",
       " 'Cov_93',\n",
       " 'Cov_353',\n",
       " 'Cov_138',\n",
       " 'Cov_154',\n",
       " 'Cov_57',\n",
       " 'Cov_27',\n",
       " 'Cov_103',\n",
       " 'Cov_245',\n",
       " 'Cov_173',\n",
       " 'Cov_130',\n",
       " 'Cov_202',\n",
       " 'Cov_327',\n",
       " 'Cov_341',\n",
       " 'Cov_283',\n",
       " 'Cov_41',\n",
       " 'Cov_305',\n",
       " 'Cov_90',\n",
       " 'Cov_11',\n",
       " 'Cov_140',\n",
       " 'Cov_187',\n",
       " 'Cov_369',\n",
       " 'Cov_50',\n",
       " 'Cov_318',\n",
       " 'Cov_4',\n",
       " 'Cov_199',\n",
       " 'Cov_62',\n",
       " 'Cov_226',\n",
       " 'Cov_332',\n",
       " 'Cov_12',\n",
       " 'Cov_278',\n",
       " 'Cov_276',\n",
       " 'Cov_339',\n",
       " 'Cov_280',\n",
       " 'Cov_282',\n",
       " 'Cov_125',\n",
       " 'Cov_260',\n",
       " 'Cov_54',\n",
       " 'Cov_5',\n",
       " 'Cov_45',\n",
       " 'Cov_58',\n",
       " 'Cov_248',\n",
       " 'Cov_121',\n",
       " 'Cov_82',\n",
       " 'Cov_247',\n",
       " 'Cov_355',\n",
       " 'Cov_164',\n",
       " 'Cov_23',\n",
       " 'Cov_136',\n",
       " 'Cov_48',\n",
       " 'Cov_112',\n",
       " 'Cov_303',\n",
       " 'Cov_1',\n",
       " 'Cov_310',\n",
       " 'Cov_2',\n",
       " 'Cov_237',\n",
       " 'Cov_319',\n",
       " 'Cov_234',\n",
       " 'Cov_342',\n",
       " 'Cov_210',\n",
       " 'Cov_340',\n",
       " 'Cov_115',\n",
       " 'Cov_356',\n",
       " 'Cov_132',\n",
       " 'Cov_325',\n",
       " 'Cov_135',\n",
       " 'Cov_149',\n",
       " 'Cov_99',\n",
       " 'Cov_273',\n",
       " 'Cov_291',\n",
       " 'Cov_235',\n",
       " 'Cov_150',\n",
       " 'Cov_285',\n",
       " 'Cov_88',\n",
       " 'Cov_159',\n",
       " 'Cov_230',\n",
       " 'Cov_186',\n",
       " 'Cov_139',\n",
       " 'Cov_258',\n",
       " 'Cov_313',\n",
       " 'Cov_274',\n",
       " 'Cov_6',\n",
       " 'Cov_107',\n",
       " 'Cov_206',\n",
       " 'Cov_56',\n",
       " 'Cov_201',\n",
       " 'Cov_18',\n",
       " 'Cov_126',\n",
       " 'Cov_267',\n",
       " 'Cov_3',\n",
       " 'Cov_349',\n",
       " 'Cov_309',\n",
       " 'Cov_182',\n",
       " 'Cov_300',\n",
       " 'Cov_78',\n",
       " 'Cov_89',\n",
       " 'Cov_286',\n",
       " 'Cov_79',\n",
       " 'Cov_345',\n",
       " 'Cov_359',\n",
       " 'Cov_162',\n",
       " 'Cov_95',\n",
       " 'Cov_105',\n",
       " 'Cov_158',\n",
       " 'Cov_192',\n",
       " 'Cov_244',\n",
       " 'Cov_100',\n",
       " 'Cov_233',\n",
       " 'Cov_124',\n",
       " 'Cov_67',\n",
       " 'Cov_65',\n",
       " 'Cov_128',\n",
       " 'Cov_241',\n",
       " 'Cov_272',\n",
       " 'Cov_270',\n",
       " 'Cov_143',\n",
       " 'Cov_214',\n",
       " 'Cov_217',\n",
       " 'Cov_198',\n",
       " 'Cov_55',\n",
       " 'Cov_308',\n",
       " 'Cov_73',\n",
       " 'Cov_77',\n",
       " 'Cov_269',\n",
       " 'Cov_194',\n",
       " 'Cov_38',\n",
       " 'Cov_10',\n",
       " 'Cov_142',\n",
       " 'Cov_288',\n",
       " 'Cov_360',\n",
       " 'Cov_174',\n",
       " 'Cov_287',\n",
       " 'Cov_236',\n",
       " 'Cov_169',\n",
       " 'Cov_264',\n",
       " 'Cov_322',\n",
       " 'Cov_225',\n",
       " 'Cov_60',\n",
       " 'Cov_315',\n",
       " 'Cov_351',\n",
       " 'Cov_266',\n",
       " 'Cov_66',\n",
       " 'Cov_63',\n",
       " 'Cov_20',\n",
       " 'Cov_220',\n",
       " 'Cov_80',\n",
       " 'Cov_249',\n",
       " 'Cov_21',\n",
       " 'Cov_114',\n",
       " 'Cov_156',\n",
       " 'Cov_35',\n",
       " 'Cov_281',\n",
       " 'Cov_184',\n",
       " 'Cov_22',\n",
       " 'Cov_368',\n",
       " 'Cov_263',\n",
       " 'Cov_167',\n",
       " 'Cov_49',\n",
       " 'Cov_363',\n",
       " 'Cov_39',\n",
       " 'Cov_188',\n",
       " 'Cov_86',\n",
       " 'Cov_346',\n",
       " 'Cov_7',\n",
       " 'Cov_293',\n",
       " 'Cov_178',\n",
       " 'Cov_279',\n",
       " 'Cov_298',\n",
       " 'Cov_104',\n",
       " 'Cov_117',\n",
       " 'Cov_151',\n",
       " 'Cov_127',\n",
       " 'Cov_116',\n",
       " 'Cov_111',\n",
       " 'Cov_295',\n",
       " 'Cov_46',\n",
       " 'Cov_329',\n",
       " 'Cov_190',\n",
       " 'Cov_47',\n",
       " 'Cov_189',\n",
       " 'Cov_181',\n",
       " 'Cov_365',\n",
       " 'Cov_68',\n",
       " 'Cov_109',\n",
       " 'Cov_33',\n",
       " 'Cov_364',\n",
       " 'Cov_335',\n",
       " 'Cov_155',\n",
       " 'Cov_32',\n",
       " 'Cov_123',\n",
       " 'Cov_16',\n",
       " 'Cov_19',\n",
       " 'Cov_147',\n",
       " 'Cov_212',\n",
       " 'Cov_74',\n",
       " 'Cov_357',\n",
       " 'Cov_163',\n",
       " 'Cov_257',\n",
       " 'Cov_183',\n",
       " 'Cov_171',\n",
       " 'Cov_219',\n",
       " 'Cov_323',\n",
       " 'Cov_361',\n",
       " 'Cov_106',\n",
       " 'Cov_166',\n",
       " 'Cov_289',\n",
       " 'Cov_207',\n",
       " 'Cov_328',\n",
       " 'Cov_25',\n",
       " 'Cov_161',\n",
       " 'Cov_102',\n",
       " 'Cov_13',\n",
       " 'Cov_259',\n",
       " 'Cov_358',\n",
       " 'Cov_153',\n",
       " 'Cov_224',\n",
       " 'Cov_70',\n",
       " 'Cov_216',\n",
       " 'Cov_92',\n",
       " 'Cov_172',\n",
       " 'Cov_366',\n",
       " 'Cov_242',\n",
       " 'Cov_265',\n",
       " 'Cov_17',\n",
       " 'Cov_352',\n",
       " 'Cov_69',\n",
       " 'Cov_157',\n",
       " 'Cov_208',\n",
       " 'Cov_64',\n",
       " 'Cov_253',\n",
       " 'Cov_344',\n",
       " 'Cov_223',\n",
       " 'Cov_42',\n",
       " 'Cov_61',\n",
       " 'Cov_347',\n",
       " 'Cov_145',\n",
       " 'Cov_37',\n",
       " 'Cov_231',\n",
       " 'Cov_197',\n",
       " 'Cov_246',\n",
       " 'Cov_275',\n",
       " 'Cov_232',\n",
       " 'Cov_311',\n",
       " 'Cov_334',\n",
       " 'Cov_306',\n",
       " 'Cov_312',\n",
       " 'Cov_324',\n",
       " 'Cov_209',\n",
       " 'Cov_222',\n",
       " 'Cov_326',\n",
       " 'Cov_8',\n",
       " 'Cov_211',\n",
       " 'Cov_24',\n",
       " 'Cov_195',\n",
       " 'Cov_87',\n",
       " 'Cov_307',\n",
       " 'Cov_110',\n",
       " 'Cov_29',\n",
       " 'Cov_290',\n",
       " 'Cov_144',\n",
       " 'Cov_331',\n",
       " 'Cov_354',\n",
       " 'Cov_330',\n",
       " 'Cov_350',\n",
       " 'Cov_9',\n",
       " 'Cov_146',\n",
       " 'Cov_176',\n",
       " 'Cov_119',\n",
       " 'Cov_85',\n",
       " 'Cov_240',\n",
       " 'Cov_160',\n",
       " 'Cov_44',\n",
       " 'Cov_122',\n",
       " 'Cov_200',\n",
       " 'Cov_301',\n",
       " 'Cov_348',\n",
       " 'Cov_336',\n",
       " 'Cov_204',\n",
       " 'Cov_338',\n",
       " 'Cov_75',\n",
       " 'Cov_134',\n",
       " 'Cov_94',\n",
       " 'Cov_113',\n",
       " 'Cov_213',\n",
       " 'Cov_14',\n",
       " 'Cov_36',\n",
       " 'Cov_31',\n",
       " 'Cov_297',\n",
       " 'Cov_101',\n",
       " 'Cov_175',\n",
       " 'Cov_97',\n",
       " 'Cov_148',\n",
       " 'Cov_314',\n",
       " 'Cov_337',\n",
       " 'Cov_120',\n",
       " 'Cov_268',\n",
       " 'Cov_261']"
      ]
     },
     "execution_count": 40,
     "metadata": {},
     "output_type": "execute_result"
    }
   ],
   "source": [
    "top_covariates = b_df_no_time.var().sort_values(ascending=False).index.tolist()\n",
    "top_covariates"
   ]
  },
  {
   "cell_type": "code",
   "execution_count": 41,
   "id": "fbf4b28f",
   "metadata": {},
   "outputs": [
    {
     "data": {
      "text/plain": [
       "['321', '254', '262', '304', '28', '51', '238', '196', '141', '277']"
      ]
     },
     "execution_count": 41,
     "metadata": {},
     "output_type": "execute_result"
    }
   ],
   "source": [
    "top_covariates_indexes = [i[4:] for i in top_covariates[:10]]\n",
    "top_covariates_indexes"
   ]
  },
  {
   "cell_type": "code",
   "execution_count": 42,
   "id": "643b6ee0",
   "metadata": {},
   "outputs": [],
   "source": [
    "top_kinases = [number_kinase_dict[int(i)] for i in top_covariates_indexes]"
   ]
  },
  {
   "cell_type": "code",
   "execution_count": 43,
   "id": "748d39bb",
   "metadata": {},
   "outputs": [
    {
     "data": {
      "text/plain": [
       "['PIM3',\n",
       " 'EPHB4',\n",
       " 'FMS',\n",
       " 'P38D_MAPK13',\n",
       " 'CDC7_DBF4',\n",
       " 'DAPK2',\n",
       " 'DCAMKL2',\n",
       " 'WNK3',\n",
       " 'PDGFRA',\n",
       " 'IRAK4']"
      ]
     },
     "execution_count": 43,
     "metadata": {},
     "output_type": "execute_result"
    }
   ],
   "source": [
    "top_kinases"
   ]
  },
  {
   "cell_type": "code",
   "execution_count": 44,
   "id": "08e2a176",
   "metadata": {},
   "outputs": [
    {
     "name": "stdout",
     "output_type": "stream",
     "text": [
      "FYN - 206\n",
      "EPHB2 - 13\n",
      "LATS2 - 223\n",
      "LYN - 144\n",
      "MINK_MINK1 - 26\n",
      "YES_YES1 - 274\n"
     ]
    }
   ],
   "source": [
    "for k, v in target_kinases_dict.items():\n",
    "    print(f'{v} - {top_covariates.index(f\"Cov_{k}\")}')"
   ]
  },
  {
   "cell_type": "markdown",
   "id": "765206b5",
   "metadata": {},
   "source": [
    "### Error"
   ]
  },
  {
   "cell_type": "code",
   "execution_count": 45,
   "id": "e9e25790",
   "metadata": {},
   "outputs": [
    {
     "data": {
      "text/plain": [
       "['Cov_321',\n",
       " 'Cov_185',\n",
       " 'Cov_262',\n",
       " 'Cov_133',\n",
       " 'Cov_196',\n",
       " 'Cov_131',\n",
       " 'Cov_81',\n",
       " 'Cov_254',\n",
       " 'Cov_129',\n",
       " 'Cov_28',\n",
       " 'Cov_302',\n",
       " 'Cov_317',\n",
       " 'Cov_343',\n",
       " 'Cov_294',\n",
       " 'Cov_228',\n",
       " 'Cov_277',\n",
       " 'Cov_96',\n",
       " 'Cov_40',\n",
       " 'Cov_320',\n",
       " 'Cov_205',\n",
       " 'Cov_305',\n",
       " 'Cov_141',\n",
       " 'Cov_170',\n",
       " 'Cov_180',\n",
       " 'Cov_304',\n",
       " 'Cov_282',\n",
       " 'Cov_238',\n",
       " 'Cov_353',\n",
       " 'Cov_51',\n",
       " 'Cov_43',\n",
       " 'Cov_369',\n",
       " 'Cov_193',\n",
       " 'Cov_76',\n",
       " 'Cov_11',\n",
       " 'Cov_179',\n",
       " 'Cov_199',\n",
       " 'Cov_333',\n",
       " 'Cov_327',\n",
       " 'Cov_284',\n",
       " 'Cov_250',\n",
       " 'Cov_136',\n",
       " 'Cov_125',\n",
       " 'Cov_91',\n",
       " 'Cov_168',\n",
       " 'Cov_15',\n",
       " 'Cov_108',\n",
       " 'Cov_26',\n",
       " 'Cov_355',\n",
       " 'Cov_299',\n",
       " 'Cov_255',\n",
       " 'Cov_98',\n",
       " 'Cov_341',\n",
       " 'Cov_247',\n",
       " 'Cov_83',\n",
       " 'Cov_251',\n",
       " 'Cov_187',\n",
       " 'Cov_32',\n",
       " 'Cov_56',\n",
       " 'Cov_137',\n",
       " 'Cov_248',\n",
       " 'Cov_1',\n",
       " 'Cov_50',\n",
       " 'Cov_52',\n",
       " 'Cov_316',\n",
       " 'Cov_256',\n",
       " 'Cov_192',\n",
       " 'Cov_310',\n",
       " 'Cov_34',\n",
       " 'Cov_5',\n",
       " 'Cov_234',\n",
       " 'Cov_260',\n",
       " 'Cov_362',\n",
       " 'Cov_339',\n",
       " 'Cov_72',\n",
       " 'Cov_71',\n",
       " 'Cov_165',\n",
       " 'Cov_90',\n",
       " 'Cov_292',\n",
       " 'Cov_124',\n",
       " 'Cov_59',\n",
       " 'Cov_319',\n",
       " 'Cov_49',\n",
       " 'Cov_53',\n",
       " 'Cov_30',\n",
       " 'Cov_93',\n",
       " 'Cov_84',\n",
       " 'Cov_41',\n",
       " 'Cov_270',\n",
       " 'Cov_219',\n",
       " 'Cov_227',\n",
       " 'Cov_130',\n",
       " 'Cov_239',\n",
       " 'Cov_164',\n",
       " 'Cov_269',\n",
       " 'Cov_27',\n",
       " 'Cov_153',\n",
       " 'Cov_67',\n",
       " 'Cov_38',\n",
       " 'Cov_367',\n",
       " 'Cov_177',\n",
       " 'Cov_6',\n",
       " 'Cov_10',\n",
       " 'Cov_128',\n",
       " 'Cov_206',\n",
       " 'Cov_229',\n",
       " 'Cov_107',\n",
       " 'Cov_221',\n",
       " 'Cov_237',\n",
       " 'Cov_19',\n",
       " 'Cov_20',\n",
       " 'Cov_55',\n",
       " 'Cov_105',\n",
       " 'Cov_155',\n",
       " 'Cov_139',\n",
       " 'Cov_121',\n",
       " 'Cov_210',\n",
       " 'Cov_218',\n",
       " 'Cov_152',\n",
       " 'Cov_203',\n",
       " 'Cov_293',\n",
       " 'Cov_273',\n",
       " 'Cov_115',\n",
       " 'Cov_243',\n",
       " 'Cov_340',\n",
       " 'Cov_45',\n",
       " 'Cov_252',\n",
       " 'Cov_280',\n",
       " 'Cov_191',\n",
       " 'Cov_332',\n",
       " 'Cov_89',\n",
       " 'Cov_186',\n",
       " 'Cov_99',\n",
       " 'Cov_271',\n",
       " 'Cov_342',\n",
       " 'Cov_283',\n",
       " 'Cov_2',\n",
       " 'Cov_318',\n",
       " 'Cov_117',\n",
       " 'Cov_111',\n",
       " 'Cov_63',\n",
       " 'Cov_359',\n",
       " 'Cov_215',\n",
       " 'Cov_195',\n",
       " 'Cov_13',\n",
       " 'Cov_202',\n",
       " 'Cov_54',\n",
       " 'Cov_103',\n",
       " 'Cov_57',\n",
       " 'Cov_214',\n",
       " 'Cov_296',\n",
       " 'Cov_288',\n",
       " 'Cov_258',\n",
       " 'Cov_285',\n",
       " 'Cov_344',\n",
       " 'Cov_118',\n",
       " 'Cov_235',\n",
       " 'Cov_18',\n",
       " 'Cov_140',\n",
       " 'Cov_173',\n",
       " 'Cov_276',\n",
       " 'Cov_194',\n",
       " 'Cov_233',\n",
       " 'Cov_35',\n",
       " 'Cov_138',\n",
       " 'Cov_174',\n",
       " 'Cov_244',\n",
       " 'Cov_3',\n",
       " 'Cov_281',\n",
       " 'Cov_278',\n",
       " 'Cov_116',\n",
       " 'Cov_100',\n",
       " 'Cov_112',\n",
       " 'Cov_123',\n",
       " 'Cov_264',\n",
       " 'Cov_142',\n",
       " 'Cov_360',\n",
       " 'Cov_126',\n",
       " 'Cov_150',\n",
       " 'Cov_245',\n",
       " 'Cov_249',\n",
       " 'Cov_154',\n",
       " 'Cov_329',\n",
       " 'Cov_104',\n",
       " 'Cov_279',\n",
       " 'Cov_82',\n",
       " 'Cov_182',\n",
       " 'Cov_166',\n",
       " 'Cov_46',\n",
       " 'Cov_335',\n",
       " 'Cov_4',\n",
       " 'Cov_12',\n",
       " 'Cov_217',\n",
       " 'Cov_226',\n",
       " 'Cov_143',\n",
       " 'Cov_364',\n",
       " 'Cov_325',\n",
       " 'Cov_23',\n",
       " 'Cov_178',\n",
       " 'Cov_274',\n",
       " 'Cov_58',\n",
       " 'Cov_363',\n",
       " 'Cov_73',\n",
       " 'Cov_236',\n",
       " 'Cov_300',\n",
       " 'Cov_225',\n",
       " 'Cov_62',\n",
       " 'Cov_212',\n",
       " 'Cov_127',\n",
       " 'Cov_69',\n",
       " 'Cov_303',\n",
       " 'Cov_241',\n",
       " 'Cov_135',\n",
       " 'Cov_158',\n",
       " 'Cov_74',\n",
       " 'Cov_78',\n",
       " 'Cov_80',\n",
       " 'Cov_230',\n",
       " 'Cov_132',\n",
       " 'Cov_356',\n",
       " 'Cov_151',\n",
       " 'Cov_198',\n",
       " 'Cov_267',\n",
       " 'Cov_79',\n",
       " 'Cov_365',\n",
       " 'Cov_88',\n",
       " 'Cov_351',\n",
       " 'Cov_306',\n",
       " 'Cov_48',\n",
       " 'Cov_156',\n",
       " 'Cov_313',\n",
       " 'Cov_77',\n",
       " 'Cov_263',\n",
       " 'Cov_201',\n",
       " 'Cov_149',\n",
       " 'Cov_266',\n",
       " 'Cov_95',\n",
       " 'Cov_86',\n",
       " 'Cov_114',\n",
       " 'Cov_253',\n",
       " 'Cov_366',\n",
       " 'Cov_146',\n",
       " 'Cov_159',\n",
       " 'Cov_65',\n",
       " 'Cov_286',\n",
       " 'Cov_39',\n",
       " 'Cov_349',\n",
       " 'Cov_92',\n",
       " 'Cov_291',\n",
       " 'Cov_216',\n",
       " 'Cov_220',\n",
       " 'Cov_265',\n",
       " 'Cov_184',\n",
       " 'Cov_162',\n",
       " 'Cov_16',\n",
       " 'Cov_190',\n",
       " 'Cov_309',\n",
       " 'Cov_102',\n",
       " 'Cov_345',\n",
       " 'Cov_171',\n",
       " 'Cov_323',\n",
       " 'Cov_85',\n",
       " 'Cov_295',\n",
       " 'Cov_275',\n",
       " 'Cov_160',\n",
       " 'Cov_113',\n",
       " 'Cov_368',\n",
       " 'Cov_290',\n",
       " 'Cov_246',\n",
       " 'Cov_272',\n",
       " 'Cov_167',\n",
       " 'Cov_326',\n",
       " 'Cov_109',\n",
       " 'Cov_181',\n",
       " 'Cov_172',\n",
       " 'Cov_347',\n",
       " 'Cov_346',\n",
       " 'Cov_224',\n",
       " 'Cov_106',\n",
       " 'Cov_66',\n",
       " 'Cov_287',\n",
       " 'Cov_211',\n",
       " 'Cov_361',\n",
       " 'Cov_134',\n",
       " 'Cov_308',\n",
       " 'Cov_7',\n",
       " 'Cov_222',\n",
       " 'Cov_322',\n",
       " 'Cov_119',\n",
       " 'Cov_315',\n",
       " 'Cov_169',\n",
       " 'Cov_189',\n",
       " 'Cov_307',\n",
       " 'Cov_145',\n",
       " 'Cov_147',\n",
       " 'Cov_60',\n",
       " 'Cov_44',\n",
       " 'Cov_330',\n",
       " 'Cov_21',\n",
       " 'Cov_22',\n",
       " 'Cov_257',\n",
       " 'Cov_188',\n",
       " 'Cov_24',\n",
       " 'Cov_298',\n",
       " 'Cov_240',\n",
       " 'Cov_47',\n",
       " 'Cov_64',\n",
       " 'Cov_70',\n",
       " 'Cov_68',\n",
       " 'Cov_17',\n",
       " 'Cov_14',\n",
       " 'Cov_161',\n",
       " 'Cov_33',\n",
       " 'Cov_259',\n",
       " 'Cov_8',\n",
       " 'Cov_25',\n",
       " 'Cov_331',\n",
       " 'Cov_334',\n",
       " 'Cov_183',\n",
       " 'Cov_110',\n",
       " 'Cov_357',\n",
       " 'Cov_338',\n",
       " 'Cov_163',\n",
       " 'Cov_328',\n",
       " 'Cov_242',\n",
       " 'Cov_37',\n",
       " 'Cov_101',\n",
       " 'Cov_358',\n",
       " 'Cov_348',\n",
       " 'Cov_232',\n",
       " 'Cov_289',\n",
       " 'Cov_207',\n",
       " 'Cov_61',\n",
       " 'Cov_42',\n",
       " 'Cov_157',\n",
       " 'Cov_209',\n",
       " 'Cov_312',\n",
       " 'Cov_208',\n",
       " 'Cov_223',\n",
       " 'Cov_352',\n",
       " 'Cov_87',\n",
       " 'Cov_350',\n",
       " 'Cov_204',\n",
       " 'Cov_231',\n",
       " 'Cov_311',\n",
       " 'Cov_197',\n",
       " 'Cov_324',\n",
       " 'Cov_200',\n",
       " 'Cov_354',\n",
       " 'Cov_144',\n",
       " 'Cov_337',\n",
       " 'Cov_29',\n",
       " 'Cov_94',\n",
       " 'Cov_9',\n",
       " 'Cov_176',\n",
       " 'Cov_336',\n",
       " 'Cov_314',\n",
       " 'Cov_120',\n",
       " 'Cov_36',\n",
       " 'Cov_122',\n",
       " 'Cov_301',\n",
       " 'Cov_75',\n",
       " 'Cov_97',\n",
       " 'Cov_175',\n",
       " 'Cov_213',\n",
       " 'Cov_297',\n",
       " 'Cov_31',\n",
       " 'Cov_148',\n",
       " 'Cov_268',\n",
       " 'Cov_261']"
      ]
     },
     "execution_count": 45,
     "metadata": {},
     "output_type": "execute_result"
    }
   ],
   "source": [
    "top_covariates = np.sqrt(b_df_no_time.pow(2).sum(axis=0)).sort_values(ascending=False).index.tolist()\n",
    "top_covariates"
   ]
  },
  {
   "cell_type": "code",
   "execution_count": 46,
   "id": "6b412666",
   "metadata": {},
   "outputs": [
    {
     "data": {
      "text/plain": [
       "['321', '185', '262', '133', '196', '131', '81', '254', '129', '28']"
      ]
     },
     "execution_count": 46,
     "metadata": {},
     "output_type": "execute_result"
    }
   ],
   "source": [
    "top_covariates_indexes = [i[4:] for i in top_covariates[:10]]\n",
    "top_covariates_indexes"
   ]
  },
  {
   "cell_type": "code",
   "execution_count": 47,
   "id": "06ec0d7a",
   "metadata": {},
   "outputs": [
    {
     "data": {
      "text/plain": [
       "['PIM3',\n",
       " 'TSSK3_STK22C',\n",
       " 'FMS',\n",
       " 'NEK8',\n",
       " 'WNK3',\n",
       " 'NEK6',\n",
       " 'HIPK4',\n",
       " 'EPHB4',\n",
       " 'NEK3',\n",
       " 'CDC7_DBF4']"
      ]
     },
     "execution_count": 47,
     "metadata": {},
     "output_type": "execute_result"
    }
   ],
   "source": [
    "top_kinases = [number_kinase_dict[int(i)] for i in top_covariates_indexes]\n",
    "top_kinases"
   ]
  },
  {
   "cell_type": "code",
   "execution_count": 54,
   "id": "c6ad071c",
   "metadata": {},
   "outputs": [
    {
     "name": "stdout",
     "output_type": "stream",
     "text": [
      "FYN (Cov_264) - 173\n",
      "EPHB2 (Cov_255) - 49\n",
      "LATS2 (Cov_281) - 167\n",
      "LYN (Cov_285) - 152\n",
      "MINK_MINK1 (Cov_294) - 13\n",
      "YES_YES1 (Cov_361) - 281\n"
     ]
    }
   ],
   "source": [
    "for k, v in target_kinases_dict.items():\n",
    "    print(f'{v} (Cov_{k}) - {top_covariates.index(f\"Cov_{k}\")}')"
   ]
  },
  {
   "cell_type": "markdown",
   "id": "d9c7f8c3",
   "metadata": {},
   "source": [
    "### targers"
   ]
  },
  {
   "cell_type": "code",
   "execution_count": 49,
   "id": "d473c748",
   "metadata": {},
   "outputs": [
    {
     "data": {
      "text/plain": [
       "369"
      ]
     },
     "execution_count": 49,
     "metadata": {},
     "output_type": "execute_result"
    }
   ],
   "source": [
    "kinase_number_dict['YES_YES1']"
   ]
  },
  {
   "cell_type": "code",
   "execution_count": 50,
   "id": "8c897195",
   "metadata": {},
   "outputs": [
    {
     "data": {
      "text/html": [
       "<div>\n",
       "<style scoped>\n",
       "    .dataframe tbody tr th:only-of-type {\n",
       "        vertical-align: middle;\n",
       "    }\n",
       "\n",
       "    .dataframe tbody tr th {\n",
       "        vertical-align: top;\n",
       "    }\n",
       "\n",
       "    .dataframe thead th {\n",
       "        text-align: right;\n",
       "    }\n",
       "</style>\n",
       "<table border=\"1\" class=\"dataframe\">\n",
       "  <thead>\n",
       "    <tr style=\"text-align: right;\">\n",
       "      <th></th>\n",
       "      <th>drugNames</th>\n",
       "      <th>Raw Y (closest to 70)</th>\n",
       "      <th>Raw Y (interpolation to 70)</th>\n",
       "      <th>dose (label)</th>\n",
       "      <th>dose (uM)</th>\n",
       "      <th>drugShortNames</th>\n",
       "      <th>realNames</th>\n",
       "      <th>AKT1</th>\n",
       "      <th>AKT2</th>\n",
       "      <th>AKT3</th>\n",
       "      <th>...</th>\n",
       "      <th>TESK2</th>\n",
       "      <th>TNIK</th>\n",
       "      <th>TNK1</th>\n",
       "      <th>TRKB</th>\n",
       "      <th>TRKC</th>\n",
       "      <th>TXK</th>\n",
       "      <th>TYK1_LTK</th>\n",
       "      <th>TYRO3_SKY</th>\n",
       "      <th>ULK1</th>\n",
       "      <th>YES_YES1</th>\n",
       "    </tr>\n",
       "  </thead>\n",
       "  <tbody>\n",
       "    <tr>\n",
       "      <th>0</th>\n",
       "      <td>NCGC00344999_A1</td>\n",
       "      <td>27.000000</td>\n",
       "      <td>27.654545</td>\n",
       "      <td>3</td>\n",
       "      <td>1.11</td>\n",
       "      <td>A1</td>\n",
       "      <td>NCGC00344999</td>\n",
       "      <td>0.825562</td>\n",
       "      <td>0.958012</td>\n",
       "      <td>0.929195</td>\n",
       "      <td>...</td>\n",
       "      <td>0.854304</td>\n",
       "      <td>0.027721</td>\n",
       "      <td>0.302221</td>\n",
       "      <td>0.000411</td>\n",
       "      <td>0.000200</td>\n",
       "      <td>0.025107</td>\n",
       "      <td>0.343913</td>\n",
       "      <td>0.228633</td>\n",
       "      <td>0.273383</td>\n",
       "      <td>0.001528</td>\n",
       "    </tr>\n",
       "    <tr>\n",
       "      <th>1</th>\n",
       "      <td>NCGC00344999_A1</td>\n",
       "      <td>50.433333</td>\n",
       "      <td>52.624242</td>\n",
       "      <td>4</td>\n",
       "      <td>0.37</td>\n",
       "      <td>A1</td>\n",
       "      <td>NCGC00344999</td>\n",
       "      <td>0.877345</td>\n",
       "      <td>0.984761</td>\n",
       "      <td>0.979264</td>\n",
       "      <td>...</td>\n",
       "      <td>0.952670</td>\n",
       "      <td>0.068760</td>\n",
       "      <td>0.577477</td>\n",
       "      <td>0.000973</td>\n",
       "      <td>0.000201</td>\n",
       "      <td>0.064854</td>\n",
       "      <td>0.566269</td>\n",
       "      <td>0.428022</td>\n",
       "      <td>0.534281</td>\n",
       "      <td>0.004563</td>\n",
       "    </tr>\n",
       "    <tr>\n",
       "      <th>2</th>\n",
       "      <td>NCGC00344999_A1</td>\n",
       "      <td>76.533333</td>\n",
       "      <td>78.551515</td>\n",
       "      <td>5</td>\n",
       "      <td>0.12</td>\n",
       "      <td>A1</td>\n",
       "      <td>NCGC00344999</td>\n",
       "      <td>0.915214</td>\n",
       "      <td>0.994564</td>\n",
       "      <td>0.994147</td>\n",
       "      <td>...</td>\n",
       "      <td>0.985187</td>\n",
       "      <td>0.160831</td>\n",
       "      <td>0.811382</td>\n",
       "      <td>0.003018</td>\n",
       "      <td>0.000210</td>\n",
       "      <td>0.157508</td>\n",
       "      <td>0.764517</td>\n",
       "      <td>0.653849</td>\n",
       "      <td>0.777644</td>\n",
       "      <td>0.014427</td>\n",
       "    </tr>\n",
       "    <tr>\n",
       "      <th>3</th>\n",
       "      <td>NCGC00344999_A1</td>\n",
       "      <td>73.566667</td>\n",
       "      <td>75.393939</td>\n",
       "      <td>6</td>\n",
       "      <td>0.04</td>\n",
       "      <td>A1</td>\n",
       "      <td>NCGC00344999</td>\n",
       "      <td>0.942042</td>\n",
       "      <td>0.998072</td>\n",
       "      <td>0.998365</td>\n",
       "      <td>...</td>\n",
       "      <td>0.994927</td>\n",
       "      <td>0.332354</td>\n",
       "      <td>0.930753</td>\n",
       "      <td>0.010412</td>\n",
       "      <td>0.000296</td>\n",
       "      <td>0.335096</td>\n",
       "      <td>0.889445</td>\n",
       "      <td>0.826574</td>\n",
       "      <td>0.914221</td>\n",
       "      <td>0.045557</td>\n",
       "    </tr>\n",
       "    <tr>\n",
       "      <th>4</th>\n",
       "      <td>NCGC00344999_A1</td>\n",
       "      <td>75.866667</td>\n",
       "      <td>77.103030</td>\n",
       "      <td>7</td>\n",
       "      <td>0.01</td>\n",
       "      <td>A1</td>\n",
       "      <td>NCGC00344999</td>\n",
       "      <td>0.960575</td>\n",
       "      <td>0.999315</td>\n",
       "      <td>0.999543</td>\n",
       "      <td>...</td>\n",
       "      <td>0.997752</td>\n",
       "      <td>0.563155</td>\n",
       "      <td>0.976166</td>\n",
       "      <td>0.036337</td>\n",
       "      <td>0.001109</td>\n",
       "      <td>0.575069</td>\n",
       "      <td>0.951738</td>\n",
       "      <td>0.922977</td>\n",
       "      <td>0.970018</td>\n",
       "      <td>0.134958</td>\n",
       "    </tr>\n",
       "    <tr>\n",
       "      <th>...</th>\n",
       "      <td>...</td>\n",
       "      <td>...</td>\n",
       "      <td>...</td>\n",
       "      <td>...</td>\n",
       "      <td>...</td>\n",
       "      <td>...</td>\n",
       "      <td>...</td>\n",
       "      <td>...</td>\n",
       "      <td>...</td>\n",
       "      <td>...</td>\n",
       "      <td>...</td>\n",
       "      <td>...</td>\n",
       "      <td>...</td>\n",
       "      <td>...</td>\n",
       "      <td>...</td>\n",
       "      <td>...</td>\n",
       "      <td>...</td>\n",
       "      <td>...</td>\n",
       "      <td>...</td>\n",
       "      <td>...</td>\n",
       "      <td>...</td>\n",
       "    </tr>\n",
       "    <tr>\n",
       "      <th>402</th>\n",
       "      <td>NCGC00346549_H7</td>\n",
       "      <td>20.460000</td>\n",
       "      <td>19.076551</td>\n",
       "      <td>1</td>\n",
       "      <td>10.00</td>\n",
       "      <td>H7</td>\n",
       "      <td>AT-7867</td>\n",
       "      <td>0.004845</td>\n",
       "      <td>0.043636</td>\n",
       "      <td>0.005906</td>\n",
       "      <td>...</td>\n",
       "      <td>0.919266</td>\n",
       "      <td>0.568308</td>\n",
       "      <td>0.144326</td>\n",
       "      <td>0.481946</td>\n",
       "      <td>0.159750</td>\n",
       "      <td>0.978787</td>\n",
       "      <td>0.627206</td>\n",
       "      <td>0.565679</td>\n",
       "      <td>1.000000</td>\n",
       "      <td>0.749658</td>\n",
       "    </tr>\n",
       "    <tr>\n",
       "      <th>403</th>\n",
       "      <td>NCGC00346549_H7</td>\n",
       "      <td>40.060000</td>\n",
       "      <td>38.445977</td>\n",
       "      <td>2</td>\n",
       "      <td>3.30</td>\n",
       "      <td>H7</td>\n",
       "      <td>AT-7867</td>\n",
       "      <td>0.013398</td>\n",
       "      <td>0.107004</td>\n",
       "      <td>0.016757</td>\n",
       "      <td>...</td>\n",
       "      <td>0.952849</td>\n",
       "      <td>0.789877</td>\n",
       "      <td>0.344824</td>\n",
       "      <td>0.688925</td>\n",
       "      <td>0.386833</td>\n",
       "      <td>0.999763</td>\n",
       "      <td>0.734279</td>\n",
       "      <td>0.813559</td>\n",
       "      <td>1.000000</td>\n",
       "      <td>0.909249</td>\n",
       "    </tr>\n",
       "    <tr>\n",
       "      <th>404</th>\n",
       "      <td>NCGC00346549_H7</td>\n",
       "      <td>96.820000</td>\n",
       "      <td>93.884014</td>\n",
       "      <td>5</td>\n",
       "      <td>0.12</td>\n",
       "      <td>H7</td>\n",
       "      <td>AT-7867</td>\n",
       "      <td>0.239343</td>\n",
       "      <td>0.684571</td>\n",
       "      <td>0.298176</td>\n",
       "      <td>...</td>\n",
       "      <td>0.990581</td>\n",
       "      <td>0.987751</td>\n",
       "      <td>0.941170</td>\n",
       "      <td>0.966763</td>\n",
       "      <td>0.958432</td>\n",
       "      <td>1.000000</td>\n",
       "      <td>0.923971</td>\n",
       "      <td>0.992938</td>\n",
       "      <td>1.000000</td>\n",
       "      <td>0.996335</td>\n",
       "    </tr>\n",
       "    <tr>\n",
       "      <th>405</th>\n",
       "      <td>NCGC00346549_H7</td>\n",
       "      <td>90.820000</td>\n",
       "      <td>89.774728</td>\n",
       "      <td>6</td>\n",
       "      <td>0.04</td>\n",
       "      <td>H7</td>\n",
       "      <td>AT-7867</td>\n",
       "      <td>0.473748</td>\n",
       "      <td>0.850279</td>\n",
       "      <td>0.554458</td>\n",
       "      <td>...</td>\n",
       "      <td>0.994239</td>\n",
       "      <td>0.994974</td>\n",
       "      <td>0.980351</td>\n",
       "      <td>0.985151</td>\n",
       "      <td>0.987090</td>\n",
       "      <td>1.000000</td>\n",
       "      <td>0.951929</td>\n",
       "      <td>0.997117</td>\n",
       "      <td>1.000000</td>\n",
       "      <td>0.998138</td>\n",
       "    </tr>\n",
       "    <tr>\n",
       "      <th>406</th>\n",
       "      <td>NCGC00346549_H7</td>\n",
       "      <td>74.256667</td>\n",
       "      <td>70.000000</td>\n",
       "      <td>11</td>\n",
       "      <td>0.00</td>\n",
       "      <td>H7</td>\n",
       "      <td>AT-7867</td>\n",
       "      <td>1.000000</td>\n",
       "      <td>1.000000</td>\n",
       "      <td>1.000000</td>\n",
       "      <td>...</td>\n",
       "      <td>1.000000</td>\n",
       "      <td>1.000000</td>\n",
       "      <td>1.000000</td>\n",
       "      <td>1.000000</td>\n",
       "      <td>1.000000</td>\n",
       "      <td>1.000000</td>\n",
       "      <td>1.000000</td>\n",
       "      <td>1.000000</td>\n",
       "      <td>1.000000</td>\n",
       "      <td>1.000000</td>\n",
       "    </tr>\n",
       "  </tbody>\n",
       "</table>\n",
       "<p>407 rows × 376 columns</p>\n",
       "</div>"
      ],
      "text/plain": [
       "           drugNames  Raw Y (closest to 70)  Raw Y (interpolation to 70)  \\\n",
       "0    NCGC00344999_A1              27.000000                    27.654545   \n",
       "1    NCGC00344999_A1              50.433333                    52.624242   \n",
       "2    NCGC00344999_A1              76.533333                    78.551515   \n",
       "3    NCGC00344999_A1              73.566667                    75.393939   \n",
       "4    NCGC00344999_A1              75.866667                    77.103030   \n",
       "..               ...                    ...                          ...   \n",
       "402  NCGC00346549_H7              20.460000                    19.076551   \n",
       "403  NCGC00346549_H7              40.060000                    38.445977   \n",
       "404  NCGC00346549_H7              96.820000                    93.884014   \n",
       "405  NCGC00346549_H7              90.820000                    89.774728   \n",
       "406  NCGC00346549_H7              74.256667                    70.000000   \n",
       "\n",
       "     dose (label)  dose (uM) drugShortNames     realNames      AKT1      AKT2  \\\n",
       "0               3       1.11             A1  NCGC00344999  0.825562  0.958012   \n",
       "1               4       0.37             A1  NCGC00344999  0.877345  0.984761   \n",
       "2               5       0.12             A1  NCGC00344999  0.915214  0.994564   \n",
       "3               6       0.04             A1  NCGC00344999  0.942042  0.998072   \n",
       "4               7       0.01             A1  NCGC00344999  0.960575  0.999315   \n",
       "..            ...        ...            ...           ...       ...       ...   \n",
       "402             1      10.00             H7       AT-7867  0.004845  0.043636   \n",
       "403             2       3.30             H7       AT-7867  0.013398  0.107004   \n",
       "404             5       0.12             H7       AT-7867  0.239343  0.684571   \n",
       "405             6       0.04             H7       AT-7867  0.473748  0.850279   \n",
       "406            11       0.00             H7       AT-7867  1.000000  1.000000   \n",
       "\n",
       "         AKT3  ...     TESK2      TNIK      TNK1      TRKB      TRKC  \\\n",
       "0    0.929195  ...  0.854304  0.027721  0.302221  0.000411  0.000200   \n",
       "1    0.979264  ...  0.952670  0.068760  0.577477  0.000973  0.000201   \n",
       "2    0.994147  ...  0.985187  0.160831  0.811382  0.003018  0.000210   \n",
       "3    0.998365  ...  0.994927  0.332354  0.930753  0.010412  0.000296   \n",
       "4    0.999543  ...  0.997752  0.563155  0.976166  0.036337  0.001109   \n",
       "..        ...  ...       ...       ...       ...       ...       ...   \n",
       "402  0.005906  ...  0.919266  0.568308  0.144326  0.481946  0.159750   \n",
       "403  0.016757  ...  0.952849  0.789877  0.344824  0.688925  0.386833   \n",
       "404  0.298176  ...  0.990581  0.987751  0.941170  0.966763  0.958432   \n",
       "405  0.554458  ...  0.994239  0.994974  0.980351  0.985151  0.987090   \n",
       "406  1.000000  ...  1.000000  1.000000  1.000000  1.000000  1.000000   \n",
       "\n",
       "          TXK  TYK1_LTK  TYRO3_SKY      ULK1  YES_YES1  \n",
       "0    0.025107  0.343913   0.228633  0.273383  0.001528  \n",
       "1    0.064854  0.566269   0.428022  0.534281  0.004563  \n",
       "2    0.157508  0.764517   0.653849  0.777644  0.014427  \n",
       "3    0.335096  0.889445   0.826574  0.914221  0.045557  \n",
       "4    0.575069  0.951738   0.922977  0.970018  0.134958  \n",
       "..        ...       ...        ...       ...       ...  \n",
       "402  0.978787  0.627206   0.565679  1.000000  0.749658  \n",
       "403  0.999763  0.734279   0.813559  1.000000  0.909249  \n",
       "404  1.000000  0.923971   0.992938  1.000000  0.996335  \n",
       "405  1.000000  0.951929   0.997117  1.000000  0.998138  \n",
       "406  1.000000  1.000000   1.000000  1.000000  1.000000  \n",
       "\n",
       "[407 rows x 376 columns]"
      ]
     },
     "execution_count": 50,
     "metadata": {},
     "output_type": "execute_result"
    }
   ],
   "source": [
    "data"
   ]
  },
  {
   "cell_type": "code",
   "execution_count": 51,
   "id": "5c6c7d58",
   "metadata": {},
   "outputs": [
    {
     "data": {
      "text/html": [
       "<div>\n",
       "<style scoped>\n",
       "    .dataframe tbody tr th:only-of-type {\n",
       "        vertical-align: middle;\n",
       "    }\n",
       "\n",
       "    .dataframe tbody tr th {\n",
       "        vertical-align: top;\n",
       "    }\n",
       "\n",
       "    .dataframe thead th {\n",
       "        text-align: right;\n",
       "    }\n",
       "</style>\n",
       "<table border=\"1\" class=\"dataframe\">\n",
       "  <thead>\n",
       "    <tr style=\"text-align: right;\">\n",
       "      <th></th>\n",
       "      <th>time</th>\n",
       "      <th>Cov_1</th>\n",
       "      <th>Cov_2</th>\n",
       "      <th>Cov_3</th>\n",
       "      <th>Cov_4</th>\n",
       "      <th>Cov_5</th>\n",
       "      <th>Cov_6</th>\n",
       "      <th>Cov_7</th>\n",
       "      <th>Cov_8</th>\n",
       "      <th>Cov_9</th>\n",
       "      <th>...</th>\n",
       "      <th>Cov_360</th>\n",
       "      <th>Cov_361</th>\n",
       "      <th>Cov_362</th>\n",
       "      <th>Cov_363</th>\n",
       "      <th>Cov_364</th>\n",
       "      <th>Cov_365</th>\n",
       "      <th>Cov_366</th>\n",
       "      <th>Cov_367</th>\n",
       "      <th>Cov_368</th>\n",
       "      <th>Cov_369</th>\n",
       "    </tr>\n",
       "  </thead>\n",
       "  <tbody>\n",
       "    <tr>\n",
       "      <th>0</th>\n",
       "      <td>0.00</td>\n",
       "      <td>-2.678863</td>\n",
       "      <td>-0.883362</td>\n",
       "      <td>0.225737</td>\n",
       "      <td>-2.652871</td>\n",
       "      <td>-1.186284</td>\n",
       "      <td>3.450929</td>\n",
       "      <td>-0.717789</td>\n",
       "      <td>-0.024731</td>\n",
       "      <td>0.883328</td>\n",
       "      <td>...</td>\n",
       "      <td>-3.660269</td>\n",
       "      <td>-0.933872</td>\n",
       "      <td>-3.197880</td>\n",
       "      <td>0.387937</td>\n",
       "      <td>2.675900</td>\n",
       "      <td>0.164686</td>\n",
       "      <td>2.032390</td>\n",
       "      <td>-2.793127</td>\n",
       "      <td>-0.322112</td>\n",
       "      <td>-4.517528</td>\n",
       "    </tr>\n",
       "    <tr>\n",
       "      <th>1</th>\n",
       "      <td>0.01</td>\n",
       "      <td>-3.282720</td>\n",
       "      <td>-1.680727</td>\n",
       "      <td>-0.741973</td>\n",
       "      <td>-1.334847</td>\n",
       "      <td>-2.245328</td>\n",
       "      <td>3.522465</td>\n",
       "      <td>0.005151</td>\n",
       "      <td>-0.333761</td>\n",
       "      <td>0.526528</td>\n",
       "      <td>...</td>\n",
       "      <td>-3.176789</td>\n",
       "      <td>-0.735346</td>\n",
       "      <td>-0.994200</td>\n",
       "      <td>1.093050</td>\n",
       "      <td>2.671451</td>\n",
       "      <td>0.633850</td>\n",
       "      <td>2.023566</td>\n",
       "      <td>-0.996070</td>\n",
       "      <td>0.339642</td>\n",
       "      <td>-4.893842</td>\n",
       "    </tr>\n",
       "    <tr>\n",
       "      <th>2</th>\n",
       "      <td>0.04</td>\n",
       "      <td>-4.515799</td>\n",
       "      <td>-3.309736</td>\n",
       "      <td>-2.724200</td>\n",
       "      <td>1.379531</td>\n",
       "      <td>-4.411193</td>\n",
       "      <td>3.661431</td>\n",
       "      <td>1.483843</td>\n",
       "      <td>-0.970734</td>\n",
       "      <td>-0.207381</td>\n",
       "      <td>...</td>\n",
       "      <td>-2.181389</td>\n",
       "      <td>-0.338007</td>\n",
       "      <td>3.521169</td>\n",
       "      <td>2.533988</td>\n",
       "      <td>2.648933</td>\n",
       "      <td>1.607809</td>\n",
       "      <td>2.002136</td>\n",
       "      <td>2.697327</td>\n",
       "      <td>1.694297</td>\n",
       "      <td>-5.650445</td>\n",
       "    </tr>\n",
       "    <tr>\n",
       "      <th>3</th>\n",
       "      <td>0.12</td>\n",
       "      <td>-5.204241</td>\n",
       "      <td>-4.224405</td>\n",
       "      <td>-3.871641</td>\n",
       "      <td>3.045746</td>\n",
       "      <td>-5.642472</td>\n",
       "      <td>3.692317</td>\n",
       "      <td>2.325687</td>\n",
       "      <td>-1.365330</td>\n",
       "      <td>-0.652217</td>\n",
       "      <td>...</td>\n",
       "      <td>-1.571926</td>\n",
       "      <td>-0.169050</td>\n",
       "      <td>6.144580</td>\n",
       "      <td>3.346060</td>\n",
       "      <td>2.548485</td>\n",
       "      <td>2.255744</td>\n",
       "      <td>1.967670</td>\n",
       "      <td>4.915930</td>\n",
       "      <td>2.472650</td>\n",
       "      <td>-5.995171</td>\n",
       "    </tr>\n",
       "    <tr>\n",
       "      <th>4</th>\n",
       "      <td>0.37</td>\n",
       "      <td>-4.875195</td>\n",
       "      <td>-3.810635</td>\n",
       "      <td>-3.510226</td>\n",
       "      <td>2.916741</td>\n",
       "      <td>-5.161197</td>\n",
       "      <td>3.470008</td>\n",
       "      <td>2.000031</td>\n",
       "      <td>-1.349774</td>\n",
       "      <td>-0.598322</td>\n",
       "      <td>...</td>\n",
       "      <td>-1.617844</td>\n",
       "      <td>-0.484780</td>\n",
       "      <td>5.366653</td>\n",
       "      <td>2.999805</td>\n",
       "      <td>2.213568</td>\n",
       "      <td>2.399423</td>\n",
       "      <td>1.882032</td>\n",
       "      <td>4.556071</td>\n",
       "      <td>2.199126</td>\n",
       "      <td>-5.485724</td>\n",
       "    </tr>\n",
       "    <tr>\n",
       "      <th>5</th>\n",
       "      <td>1.11</td>\n",
       "      <td>-3.972488</td>\n",
       "      <td>-2.679427</td>\n",
       "      <td>-2.564981</td>\n",
       "      <td>2.502839</td>\n",
       "      <td>-3.921586</td>\n",
       "      <td>2.870447</td>\n",
       "      <td>1.145397</td>\n",
       "      <td>-1.295703</td>\n",
       "      <td>-0.467704</td>\n",
       "      <td>...</td>\n",
       "      <td>-1.693732</td>\n",
       "      <td>-1.334226</td>\n",
       "      <td>3.402518</td>\n",
       "      <td>2.124917</td>\n",
       "      <td>1.387546</td>\n",
       "      <td>2.678912</td>\n",
       "      <td>1.632808</td>\n",
       "      <td>3.576732</td>\n",
       "      <td>1.450152</td>\n",
       "      <td>-4.114504</td>\n",
       "    </tr>\n",
       "    <tr>\n",
       "      <th>6</th>\n",
       "      <td>3.30</td>\n",
       "      <td>-1.876590</td>\n",
       "      <td>-0.123186</td>\n",
       "      <td>-0.718096</td>\n",
       "      <td>1.132840</td>\n",
       "      <td>-1.620022</td>\n",
       "      <td>1.521839</td>\n",
       "      <td>-0.510948</td>\n",
       "      <td>-1.068513</td>\n",
       "      <td>-0.280301</td>\n",
       "      <td>...</td>\n",
       "      <td>-1.477487</td>\n",
       "      <td>-3.084560</td>\n",
       "      <td>0.096732</td>\n",
       "      <td>0.639834</td>\n",
       "      <td>0.143520</td>\n",
       "      <td>2.502435</td>\n",
       "      <td>0.950144</td>\n",
       "      <td>1.379042</td>\n",
       "      <td>-0.237806</td>\n",
       "      <td>-1.173505</td>\n",
       "    </tr>\n",
       "    <tr>\n",
       "      <th>7</th>\n",
       "      <td>10.00</td>\n",
       "      <td>0.559021</td>\n",
       "      <td>1.133619</td>\n",
       "      <td>0.053923</td>\n",
       "      <td>-0.592566</td>\n",
       "      <td>-0.154671</td>\n",
       "      <td>-1.080477</td>\n",
       "      <td>0.149677</td>\n",
       "      <td>0.162060</td>\n",
       "      <td>-0.035643</td>\n",
       "      <td>...</td>\n",
       "      <td>0.887789</td>\n",
       "      <td>-0.844424</td>\n",
       "      <td>0.375952</td>\n",
       "      <td>0.444107</td>\n",
       "      <td>0.522316</td>\n",
       "      <td>0.333128</td>\n",
       "      <td>-0.135998</td>\n",
       "      <td>-0.282442</td>\n",
       "      <td>-0.570537</td>\n",
       "      <td>-0.278346</td>\n",
       "    </tr>\n",
       "  </tbody>\n",
       "</table>\n",
       "<p>8 rows × 370 columns</p>\n",
       "</div>"
      ],
      "text/plain": [
       "    time     Cov_1     Cov_2     Cov_3     Cov_4     Cov_5     Cov_6  \\\n",
       "0   0.00 -2.678863 -0.883362  0.225737 -2.652871 -1.186284  3.450929   \n",
       "1   0.01 -3.282720 -1.680727 -0.741973 -1.334847 -2.245328  3.522465   \n",
       "2   0.04 -4.515799 -3.309736 -2.724200  1.379531 -4.411193  3.661431   \n",
       "3   0.12 -5.204241 -4.224405 -3.871641  3.045746 -5.642472  3.692317   \n",
       "4   0.37 -4.875195 -3.810635 -3.510226  2.916741 -5.161197  3.470008   \n",
       "5   1.11 -3.972488 -2.679427 -2.564981  2.502839 -3.921586  2.870447   \n",
       "6   3.30 -1.876590 -0.123186 -0.718096  1.132840 -1.620022  1.521839   \n",
       "7  10.00  0.559021  1.133619  0.053923 -0.592566 -0.154671 -1.080477   \n",
       "\n",
       "      Cov_7     Cov_8     Cov_9  ...   Cov_360   Cov_361   Cov_362   Cov_363  \\\n",
       "0 -0.717789 -0.024731  0.883328  ... -3.660269 -0.933872 -3.197880  0.387937   \n",
       "1  0.005151 -0.333761  0.526528  ... -3.176789 -0.735346 -0.994200  1.093050   \n",
       "2  1.483843 -0.970734 -0.207381  ... -2.181389 -0.338007  3.521169  2.533988   \n",
       "3  2.325687 -1.365330 -0.652217  ... -1.571926 -0.169050  6.144580  3.346060   \n",
       "4  2.000031 -1.349774 -0.598322  ... -1.617844 -0.484780  5.366653  2.999805   \n",
       "5  1.145397 -1.295703 -0.467704  ... -1.693732 -1.334226  3.402518  2.124917   \n",
       "6 -0.510948 -1.068513 -0.280301  ... -1.477487 -3.084560  0.096732  0.639834   \n",
       "7  0.149677  0.162060 -0.035643  ...  0.887789 -0.844424  0.375952  0.444107   \n",
       "\n",
       "    Cov_364   Cov_365   Cov_366   Cov_367   Cov_368   Cov_369  \n",
       "0  2.675900  0.164686  2.032390 -2.793127 -0.322112 -4.517528  \n",
       "1  2.671451  0.633850  2.023566 -0.996070  0.339642 -4.893842  \n",
       "2  2.648933  1.607809  2.002136  2.697327  1.694297 -5.650445  \n",
       "3  2.548485  2.255744  1.967670  4.915930  2.472650 -5.995171  \n",
       "4  2.213568  2.399423  1.882032  4.556071  2.199126 -5.485724  \n",
       "5  1.387546  2.678912  1.632808  3.576732  1.450152 -4.114504  \n",
       "6  0.143520  2.502435  0.950144  1.379042 -0.237806 -1.173505  \n",
       "7  0.522316  0.333128 -0.135998 -0.282442 -0.570537 -0.278346  \n",
       "\n",
       "[8 rows x 370 columns]"
      ]
     },
     "execution_count": 51,
     "metadata": {},
     "output_type": "execute_result"
    }
   ],
   "source": [
    "b_df"
   ]
  },
  {
   "cell_type": "code",
   "execution_count": 52,
   "id": "d75c9fa5",
   "metadata": {},
   "outputs": [
    {
     "data": {
      "application/vnd.plotly.v1+json": {
       "config": {
        "plotlyServerURL": "https://plot.ly"
       },
       "data": [
        {
         "hovertemplate": "time=%{x}<br>Cov_149=%{y}<extra></extra>",
         "legendgroup": "",
         "line": {
          "color": "#636efa",
          "dash": "solid"
         },
         "marker": {
          "symbol": "circle"
         },
         "mode": "lines",
         "name": "",
         "orientation": "v",
         "showlegend": false,
         "type": "scatter",
         "x": [
          0,
          0.01,
          0.04,
          0.12,
          0.37,
          1.11,
          3.3,
          10
         ],
         "xaxis": "x",
         "y": [
          2.58533447422385,
          1.37654309726072,
          -1.10621223406776,
          -2.58711721112571,
          -2.30430747777742,
          -1.54319391486022,
          0.0764550556634751,
          0.081001402671518
         ],
         "yaxis": "y"
        }
       ],
       "layout": {
        "legend": {
         "tracegroupgap": 0
        },
        "margin": {
         "t": 60
        },
        "template": {
         "data": {
          "bar": [
           {
            "error_x": {
             "color": "#2a3f5f"
            },
            "error_y": {
             "color": "#2a3f5f"
            },
            "marker": {
             "line": {
              "color": "#E5ECF6",
              "width": 0.5
             },
             "pattern": {
              "fillmode": "overlay",
              "size": 10,
              "solidity": 0.2
             }
            },
            "type": "bar"
           }
          ],
          "barpolar": [
           {
            "marker": {
             "line": {
              "color": "#E5ECF6",
              "width": 0.5
             },
             "pattern": {
              "fillmode": "overlay",
              "size": 10,
              "solidity": 0.2
             }
            },
            "type": "barpolar"
           }
          ],
          "carpet": [
           {
            "aaxis": {
             "endlinecolor": "#2a3f5f",
             "gridcolor": "white",
             "linecolor": "white",
             "minorgridcolor": "white",
             "startlinecolor": "#2a3f5f"
            },
            "baxis": {
             "endlinecolor": "#2a3f5f",
             "gridcolor": "white",
             "linecolor": "white",
             "minorgridcolor": "white",
             "startlinecolor": "#2a3f5f"
            },
            "type": "carpet"
           }
          ],
          "choropleth": [
           {
            "colorbar": {
             "outlinewidth": 0,
             "ticks": ""
            },
            "type": "choropleth"
           }
          ],
          "contour": [
           {
            "colorbar": {
             "outlinewidth": 0,
             "ticks": ""
            },
            "colorscale": [
             [
              0,
              "#0d0887"
             ],
             [
              0.1111111111111111,
              "#46039f"
             ],
             [
              0.2222222222222222,
              "#7201a8"
             ],
             [
              0.3333333333333333,
              "#9c179e"
             ],
             [
              0.4444444444444444,
              "#bd3786"
             ],
             [
              0.5555555555555556,
              "#d8576b"
             ],
             [
              0.6666666666666666,
              "#ed7953"
             ],
             [
              0.7777777777777778,
              "#fb9f3a"
             ],
             [
              0.8888888888888888,
              "#fdca26"
             ],
             [
              1,
              "#f0f921"
             ]
            ],
            "type": "contour"
           }
          ],
          "contourcarpet": [
           {
            "colorbar": {
             "outlinewidth": 0,
             "ticks": ""
            },
            "type": "contourcarpet"
           }
          ],
          "heatmap": [
           {
            "colorbar": {
             "outlinewidth": 0,
             "ticks": ""
            },
            "colorscale": [
             [
              0,
              "#0d0887"
             ],
             [
              0.1111111111111111,
              "#46039f"
             ],
             [
              0.2222222222222222,
              "#7201a8"
             ],
             [
              0.3333333333333333,
              "#9c179e"
             ],
             [
              0.4444444444444444,
              "#bd3786"
             ],
             [
              0.5555555555555556,
              "#d8576b"
             ],
             [
              0.6666666666666666,
              "#ed7953"
             ],
             [
              0.7777777777777778,
              "#fb9f3a"
             ],
             [
              0.8888888888888888,
              "#fdca26"
             ],
             [
              1,
              "#f0f921"
             ]
            ],
            "type": "heatmap"
           }
          ],
          "heatmapgl": [
           {
            "colorbar": {
             "outlinewidth": 0,
             "ticks": ""
            },
            "colorscale": [
             [
              0,
              "#0d0887"
             ],
             [
              0.1111111111111111,
              "#46039f"
             ],
             [
              0.2222222222222222,
              "#7201a8"
             ],
             [
              0.3333333333333333,
              "#9c179e"
             ],
             [
              0.4444444444444444,
              "#bd3786"
             ],
             [
              0.5555555555555556,
              "#d8576b"
             ],
             [
              0.6666666666666666,
              "#ed7953"
             ],
             [
              0.7777777777777778,
              "#fb9f3a"
             ],
             [
              0.8888888888888888,
              "#fdca26"
             ],
             [
              1,
              "#f0f921"
             ]
            ],
            "type": "heatmapgl"
           }
          ],
          "histogram": [
           {
            "marker": {
             "pattern": {
              "fillmode": "overlay",
              "size": 10,
              "solidity": 0.2
             }
            },
            "type": "histogram"
           }
          ],
          "histogram2d": [
           {
            "colorbar": {
             "outlinewidth": 0,
             "ticks": ""
            },
            "colorscale": [
             [
              0,
              "#0d0887"
             ],
             [
              0.1111111111111111,
              "#46039f"
             ],
             [
              0.2222222222222222,
              "#7201a8"
             ],
             [
              0.3333333333333333,
              "#9c179e"
             ],
             [
              0.4444444444444444,
              "#bd3786"
             ],
             [
              0.5555555555555556,
              "#d8576b"
             ],
             [
              0.6666666666666666,
              "#ed7953"
             ],
             [
              0.7777777777777778,
              "#fb9f3a"
             ],
             [
              0.8888888888888888,
              "#fdca26"
             ],
             [
              1,
              "#f0f921"
             ]
            ],
            "type": "histogram2d"
           }
          ],
          "histogram2dcontour": [
           {
            "colorbar": {
             "outlinewidth": 0,
             "ticks": ""
            },
            "colorscale": [
             [
              0,
              "#0d0887"
             ],
             [
              0.1111111111111111,
              "#46039f"
             ],
             [
              0.2222222222222222,
              "#7201a8"
             ],
             [
              0.3333333333333333,
              "#9c179e"
             ],
             [
              0.4444444444444444,
              "#bd3786"
             ],
             [
              0.5555555555555556,
              "#d8576b"
             ],
             [
              0.6666666666666666,
              "#ed7953"
             ],
             [
              0.7777777777777778,
              "#fb9f3a"
             ],
             [
              0.8888888888888888,
              "#fdca26"
             ],
             [
              1,
              "#f0f921"
             ]
            ],
            "type": "histogram2dcontour"
           }
          ],
          "mesh3d": [
           {
            "colorbar": {
             "outlinewidth": 0,
             "ticks": ""
            },
            "type": "mesh3d"
           }
          ],
          "parcoords": [
           {
            "line": {
             "colorbar": {
              "outlinewidth": 0,
              "ticks": ""
             }
            },
            "type": "parcoords"
           }
          ],
          "pie": [
           {
            "automargin": true,
            "type": "pie"
           }
          ],
          "scatter": [
           {
            "fillpattern": {
             "fillmode": "overlay",
             "size": 10,
             "solidity": 0.2
            },
            "type": "scatter"
           }
          ],
          "scatter3d": [
           {
            "line": {
             "colorbar": {
              "outlinewidth": 0,
              "ticks": ""
             }
            },
            "marker": {
             "colorbar": {
              "outlinewidth": 0,
              "ticks": ""
             }
            },
            "type": "scatter3d"
           }
          ],
          "scattercarpet": [
           {
            "marker": {
             "colorbar": {
              "outlinewidth": 0,
              "ticks": ""
             }
            },
            "type": "scattercarpet"
           }
          ],
          "scattergeo": [
           {
            "marker": {
             "colorbar": {
              "outlinewidth": 0,
              "ticks": ""
             }
            },
            "type": "scattergeo"
           }
          ],
          "scattergl": [
           {
            "marker": {
             "colorbar": {
              "outlinewidth": 0,
              "ticks": ""
             }
            },
            "type": "scattergl"
           }
          ],
          "scattermapbox": [
           {
            "marker": {
             "colorbar": {
              "outlinewidth": 0,
              "ticks": ""
             }
            },
            "type": "scattermapbox"
           }
          ],
          "scatterpolar": [
           {
            "marker": {
             "colorbar": {
              "outlinewidth": 0,
              "ticks": ""
             }
            },
            "type": "scatterpolar"
           }
          ],
          "scatterpolargl": [
           {
            "marker": {
             "colorbar": {
              "outlinewidth": 0,
              "ticks": ""
             }
            },
            "type": "scatterpolargl"
           }
          ],
          "scatterternary": [
           {
            "marker": {
             "colorbar": {
              "outlinewidth": 0,
              "ticks": ""
             }
            },
            "type": "scatterternary"
           }
          ],
          "surface": [
           {
            "colorbar": {
             "outlinewidth": 0,
             "ticks": ""
            },
            "colorscale": [
             [
              0,
              "#0d0887"
             ],
             [
              0.1111111111111111,
              "#46039f"
             ],
             [
              0.2222222222222222,
              "#7201a8"
             ],
             [
              0.3333333333333333,
              "#9c179e"
             ],
             [
              0.4444444444444444,
              "#bd3786"
             ],
             [
              0.5555555555555556,
              "#d8576b"
             ],
             [
              0.6666666666666666,
              "#ed7953"
             ],
             [
              0.7777777777777778,
              "#fb9f3a"
             ],
             [
              0.8888888888888888,
              "#fdca26"
             ],
             [
              1,
              "#f0f921"
             ]
            ],
            "type": "surface"
           }
          ],
          "table": [
           {
            "cells": {
             "fill": {
              "color": "#EBF0F8"
             },
             "line": {
              "color": "white"
             }
            },
            "header": {
             "fill": {
              "color": "#C8D4E3"
             },
             "line": {
              "color": "white"
             }
            },
            "type": "table"
           }
          ]
         },
         "layout": {
          "annotationdefaults": {
           "arrowcolor": "#2a3f5f",
           "arrowhead": 0,
           "arrowwidth": 1
          },
          "autotypenumbers": "strict",
          "coloraxis": {
           "colorbar": {
            "outlinewidth": 0,
            "ticks": ""
           }
          },
          "colorscale": {
           "diverging": [
            [
             0,
             "#8e0152"
            ],
            [
             0.1,
             "#c51b7d"
            ],
            [
             0.2,
             "#de77ae"
            ],
            [
             0.3,
             "#f1b6da"
            ],
            [
             0.4,
             "#fde0ef"
            ],
            [
             0.5,
             "#f7f7f7"
            ],
            [
             0.6,
             "#e6f5d0"
            ],
            [
             0.7,
             "#b8e186"
            ],
            [
             0.8,
             "#7fbc41"
            ],
            [
             0.9,
             "#4d9221"
            ],
            [
             1,
             "#276419"
            ]
           ],
           "sequential": [
            [
             0,
             "#0d0887"
            ],
            [
             0.1111111111111111,
             "#46039f"
            ],
            [
             0.2222222222222222,
             "#7201a8"
            ],
            [
             0.3333333333333333,
             "#9c179e"
            ],
            [
             0.4444444444444444,
             "#bd3786"
            ],
            [
             0.5555555555555556,
             "#d8576b"
            ],
            [
             0.6666666666666666,
             "#ed7953"
            ],
            [
             0.7777777777777778,
             "#fb9f3a"
            ],
            [
             0.8888888888888888,
             "#fdca26"
            ],
            [
             1,
             "#f0f921"
            ]
           ],
           "sequentialminus": [
            [
             0,
             "#0d0887"
            ],
            [
             0.1111111111111111,
             "#46039f"
            ],
            [
             0.2222222222222222,
             "#7201a8"
            ],
            [
             0.3333333333333333,
             "#9c179e"
            ],
            [
             0.4444444444444444,
             "#bd3786"
            ],
            [
             0.5555555555555556,
             "#d8576b"
            ],
            [
             0.6666666666666666,
             "#ed7953"
            ],
            [
             0.7777777777777778,
             "#fb9f3a"
            ],
            [
             0.8888888888888888,
             "#fdca26"
            ],
            [
             1,
             "#f0f921"
            ]
           ]
          },
          "colorway": [
           "#636efa",
           "#EF553B",
           "#00cc96",
           "#ab63fa",
           "#FFA15A",
           "#19d3f3",
           "#FF6692",
           "#B6E880",
           "#FF97FF",
           "#FECB52"
          ],
          "font": {
           "color": "#2a3f5f"
          },
          "geo": {
           "bgcolor": "white",
           "lakecolor": "white",
           "landcolor": "#E5ECF6",
           "showlakes": true,
           "showland": true,
           "subunitcolor": "white"
          },
          "hoverlabel": {
           "align": "left"
          },
          "hovermode": "closest",
          "mapbox": {
           "style": "light"
          },
          "paper_bgcolor": "white",
          "plot_bgcolor": "#E5ECF6",
          "polar": {
           "angularaxis": {
            "gridcolor": "white",
            "linecolor": "white",
            "ticks": ""
           },
           "bgcolor": "#E5ECF6",
           "radialaxis": {
            "gridcolor": "white",
            "linecolor": "white",
            "ticks": ""
           }
          },
          "scene": {
           "xaxis": {
            "backgroundcolor": "#E5ECF6",
            "gridcolor": "white",
            "gridwidth": 2,
            "linecolor": "white",
            "showbackground": true,
            "ticks": "",
            "zerolinecolor": "white"
           },
           "yaxis": {
            "backgroundcolor": "#E5ECF6",
            "gridcolor": "white",
            "gridwidth": 2,
            "linecolor": "white",
            "showbackground": true,
            "ticks": "",
            "zerolinecolor": "white"
           },
           "zaxis": {
            "backgroundcolor": "#E5ECF6",
            "gridcolor": "white",
            "gridwidth": 2,
            "linecolor": "white",
            "showbackground": true,
            "ticks": "",
            "zerolinecolor": "white"
           }
          },
          "shapedefaults": {
           "line": {
            "color": "#2a3f5f"
           }
          },
          "ternary": {
           "aaxis": {
            "gridcolor": "white",
            "linecolor": "white",
            "ticks": ""
           },
           "baxis": {
            "gridcolor": "white",
            "linecolor": "white",
            "ticks": ""
           },
           "bgcolor": "#E5ECF6",
           "caxis": {
            "gridcolor": "white",
            "linecolor": "white",
            "ticks": ""
           }
          },
          "title": {
           "x": 0.05
          },
          "xaxis": {
           "automargin": true,
           "gridcolor": "white",
           "linecolor": "white",
           "ticks": "",
           "title": {
            "standoff": 15
           },
           "zerolinecolor": "white",
           "zerolinewidth": 2
          },
          "yaxis": {
           "automargin": true,
           "gridcolor": "white",
           "linecolor": "white",
           "ticks": "",
           "title": {
            "standoff": 15
           },
           "zerolinecolor": "white",
           "zerolinewidth": 2
          }
         }
        },
        "xaxis": {
         "anchor": "y",
         "domain": [
          0,
          1
         ],
         "title": {
          "text": "time"
         }
        },
        "yaxis": {
         "anchor": "x",
         "domain": [
          0,
          1
         ],
         "title": {
          "text": "Cov_149"
         }
        }
       }
      },
      "text/html": [
       "<div>                            <div id=\"930c82f5-c708-437f-94d3-04f908b0116b\" class=\"plotly-graph-div\" style=\"height:525px; width:100%;\"></div>            <script type=\"text/javascript\">                require([\"plotly\"], function(Plotly) {                    window.PLOTLYENV=window.PLOTLYENV || {};                                    if (document.getElementById(\"930c82f5-c708-437f-94d3-04f908b0116b\")) {                    Plotly.newPlot(                        \"930c82f5-c708-437f-94d3-04f908b0116b\",                        [{\"hovertemplate\":\"time=%{x}\\u003cbr\\u003eCov_149=%{y}\\u003cextra\\u003e\\u003c\\u002fextra\\u003e\",\"legendgroup\":\"\",\"line\":{\"color\":\"#636efa\",\"dash\":\"solid\"},\"marker\":{\"symbol\":\"circle\"},\"mode\":\"lines\",\"name\":\"\",\"orientation\":\"v\",\"showlegend\":false,\"x\":[0.0,0.01,0.04,0.12,0.37,1.11,3.3,10.0],\"xaxis\":\"x\",\"y\":[2.58533447422385,1.37654309726072,-1.10621223406776,-2.58711721112571,-2.30430747777742,-1.54319391486022,0.0764550556634751,0.081001402671518],\"yaxis\":\"y\",\"type\":\"scatter\"}],                        {\"template\":{\"data\":{\"histogram2dcontour\":[{\"type\":\"histogram2dcontour\",\"colorbar\":{\"outlinewidth\":0,\"ticks\":\"\"},\"colorscale\":[[0.0,\"#0d0887\"],[0.1111111111111111,\"#46039f\"],[0.2222222222222222,\"#7201a8\"],[0.3333333333333333,\"#9c179e\"],[0.4444444444444444,\"#bd3786\"],[0.5555555555555556,\"#d8576b\"],[0.6666666666666666,\"#ed7953\"],[0.7777777777777778,\"#fb9f3a\"],[0.8888888888888888,\"#fdca26\"],[1.0,\"#f0f921\"]]}],\"choropleth\":[{\"type\":\"choropleth\",\"colorbar\":{\"outlinewidth\":0,\"ticks\":\"\"}}],\"histogram2d\":[{\"type\":\"histogram2d\",\"colorbar\":{\"outlinewidth\":0,\"ticks\":\"\"},\"colorscale\":[[0.0,\"#0d0887\"],[0.1111111111111111,\"#46039f\"],[0.2222222222222222,\"#7201a8\"],[0.3333333333333333,\"#9c179e\"],[0.4444444444444444,\"#bd3786\"],[0.5555555555555556,\"#d8576b\"],[0.6666666666666666,\"#ed7953\"],[0.7777777777777778,\"#fb9f3a\"],[0.8888888888888888,\"#fdca26\"],[1.0,\"#f0f921\"]]}],\"heatmap\":[{\"type\":\"heatmap\",\"colorbar\":{\"outlinewidth\":0,\"ticks\":\"\"},\"colorscale\":[[0.0,\"#0d0887\"],[0.1111111111111111,\"#46039f\"],[0.2222222222222222,\"#7201a8\"],[0.3333333333333333,\"#9c179e\"],[0.4444444444444444,\"#bd3786\"],[0.5555555555555556,\"#d8576b\"],[0.6666666666666666,\"#ed7953\"],[0.7777777777777778,\"#fb9f3a\"],[0.8888888888888888,\"#fdca26\"],[1.0,\"#f0f921\"]]}],\"heatmapgl\":[{\"type\":\"heatmapgl\",\"colorbar\":{\"outlinewidth\":0,\"ticks\":\"\"},\"colorscale\":[[0.0,\"#0d0887\"],[0.1111111111111111,\"#46039f\"],[0.2222222222222222,\"#7201a8\"],[0.3333333333333333,\"#9c179e\"],[0.4444444444444444,\"#bd3786\"],[0.5555555555555556,\"#d8576b\"],[0.6666666666666666,\"#ed7953\"],[0.7777777777777778,\"#fb9f3a\"],[0.8888888888888888,\"#fdca26\"],[1.0,\"#f0f921\"]]}],\"contourcarpet\":[{\"type\":\"contourcarpet\",\"colorbar\":{\"outlinewidth\":0,\"ticks\":\"\"}}],\"contour\":[{\"type\":\"contour\",\"colorbar\":{\"outlinewidth\":0,\"ticks\":\"\"},\"colorscale\":[[0.0,\"#0d0887\"],[0.1111111111111111,\"#46039f\"],[0.2222222222222222,\"#7201a8\"],[0.3333333333333333,\"#9c179e\"],[0.4444444444444444,\"#bd3786\"],[0.5555555555555556,\"#d8576b\"],[0.6666666666666666,\"#ed7953\"],[0.7777777777777778,\"#fb9f3a\"],[0.8888888888888888,\"#fdca26\"],[1.0,\"#f0f921\"]]}],\"surface\":[{\"type\":\"surface\",\"colorbar\":{\"outlinewidth\":0,\"ticks\":\"\"},\"colorscale\":[[0.0,\"#0d0887\"],[0.1111111111111111,\"#46039f\"],[0.2222222222222222,\"#7201a8\"],[0.3333333333333333,\"#9c179e\"],[0.4444444444444444,\"#bd3786\"],[0.5555555555555556,\"#d8576b\"],[0.6666666666666666,\"#ed7953\"],[0.7777777777777778,\"#fb9f3a\"],[0.8888888888888888,\"#fdca26\"],[1.0,\"#f0f921\"]]}],\"mesh3d\":[{\"type\":\"mesh3d\",\"colorbar\":{\"outlinewidth\":0,\"ticks\":\"\"}}],\"scatter\":[{\"fillpattern\":{\"fillmode\":\"overlay\",\"size\":10,\"solidity\":0.2},\"type\":\"scatter\"}],\"parcoords\":[{\"type\":\"parcoords\",\"line\":{\"colorbar\":{\"outlinewidth\":0,\"ticks\":\"\"}}}],\"scatterpolargl\":[{\"type\":\"scatterpolargl\",\"marker\":{\"colorbar\":{\"outlinewidth\":0,\"ticks\":\"\"}}}],\"bar\":[{\"error_x\":{\"color\":\"#2a3f5f\"},\"error_y\":{\"color\":\"#2a3f5f\"},\"marker\":{\"line\":{\"color\":\"#E5ECF6\",\"width\":0.5},\"pattern\":{\"fillmode\":\"overlay\",\"size\":10,\"solidity\":0.2}},\"type\":\"bar\"}],\"scattergeo\":[{\"type\":\"scattergeo\",\"marker\":{\"colorbar\":{\"outlinewidth\":0,\"ticks\":\"\"}}}],\"scatterpolar\":[{\"type\":\"scatterpolar\",\"marker\":{\"colorbar\":{\"outlinewidth\":0,\"ticks\":\"\"}}}],\"histogram\":[{\"marker\":{\"pattern\":{\"fillmode\":\"overlay\",\"size\":10,\"solidity\":0.2}},\"type\":\"histogram\"}],\"scattergl\":[{\"type\":\"scattergl\",\"marker\":{\"colorbar\":{\"outlinewidth\":0,\"ticks\":\"\"}}}],\"scatter3d\":[{\"type\":\"scatter3d\",\"line\":{\"colorbar\":{\"outlinewidth\":0,\"ticks\":\"\"}},\"marker\":{\"colorbar\":{\"outlinewidth\":0,\"ticks\":\"\"}}}],\"scattermapbox\":[{\"type\":\"scattermapbox\",\"marker\":{\"colorbar\":{\"outlinewidth\":0,\"ticks\":\"\"}}}],\"scatterternary\":[{\"type\":\"scatterternary\",\"marker\":{\"colorbar\":{\"outlinewidth\":0,\"ticks\":\"\"}}}],\"scattercarpet\":[{\"type\":\"scattercarpet\",\"marker\":{\"colorbar\":{\"outlinewidth\":0,\"ticks\":\"\"}}}],\"carpet\":[{\"aaxis\":{\"endlinecolor\":\"#2a3f5f\",\"gridcolor\":\"white\",\"linecolor\":\"white\",\"minorgridcolor\":\"white\",\"startlinecolor\":\"#2a3f5f\"},\"baxis\":{\"endlinecolor\":\"#2a3f5f\",\"gridcolor\":\"white\",\"linecolor\":\"white\",\"minorgridcolor\":\"white\",\"startlinecolor\":\"#2a3f5f\"},\"type\":\"carpet\"}],\"table\":[{\"cells\":{\"fill\":{\"color\":\"#EBF0F8\"},\"line\":{\"color\":\"white\"}},\"header\":{\"fill\":{\"color\":\"#C8D4E3\"},\"line\":{\"color\":\"white\"}},\"type\":\"table\"}],\"barpolar\":[{\"marker\":{\"line\":{\"color\":\"#E5ECF6\",\"width\":0.5},\"pattern\":{\"fillmode\":\"overlay\",\"size\":10,\"solidity\":0.2}},\"type\":\"barpolar\"}],\"pie\":[{\"automargin\":true,\"type\":\"pie\"}]},\"layout\":{\"autotypenumbers\":\"strict\",\"colorway\":[\"#636efa\",\"#EF553B\",\"#00cc96\",\"#ab63fa\",\"#FFA15A\",\"#19d3f3\",\"#FF6692\",\"#B6E880\",\"#FF97FF\",\"#FECB52\"],\"font\":{\"color\":\"#2a3f5f\"},\"hovermode\":\"closest\",\"hoverlabel\":{\"align\":\"left\"},\"paper_bgcolor\":\"white\",\"plot_bgcolor\":\"#E5ECF6\",\"polar\":{\"bgcolor\":\"#E5ECF6\",\"angularaxis\":{\"gridcolor\":\"white\",\"linecolor\":\"white\",\"ticks\":\"\"},\"radialaxis\":{\"gridcolor\":\"white\",\"linecolor\":\"white\",\"ticks\":\"\"}},\"ternary\":{\"bgcolor\":\"#E5ECF6\",\"aaxis\":{\"gridcolor\":\"white\",\"linecolor\":\"white\",\"ticks\":\"\"},\"baxis\":{\"gridcolor\":\"white\",\"linecolor\":\"white\",\"ticks\":\"\"},\"caxis\":{\"gridcolor\":\"white\",\"linecolor\":\"white\",\"ticks\":\"\"}},\"coloraxis\":{\"colorbar\":{\"outlinewidth\":0,\"ticks\":\"\"}},\"colorscale\":{\"sequential\":[[0.0,\"#0d0887\"],[0.1111111111111111,\"#46039f\"],[0.2222222222222222,\"#7201a8\"],[0.3333333333333333,\"#9c179e\"],[0.4444444444444444,\"#bd3786\"],[0.5555555555555556,\"#d8576b\"],[0.6666666666666666,\"#ed7953\"],[0.7777777777777778,\"#fb9f3a\"],[0.8888888888888888,\"#fdca26\"],[1.0,\"#f0f921\"]],\"sequentialminus\":[[0.0,\"#0d0887\"],[0.1111111111111111,\"#46039f\"],[0.2222222222222222,\"#7201a8\"],[0.3333333333333333,\"#9c179e\"],[0.4444444444444444,\"#bd3786\"],[0.5555555555555556,\"#d8576b\"],[0.6666666666666666,\"#ed7953\"],[0.7777777777777778,\"#fb9f3a\"],[0.8888888888888888,\"#fdca26\"],[1.0,\"#f0f921\"]],\"diverging\":[[0,\"#8e0152\"],[0.1,\"#c51b7d\"],[0.2,\"#de77ae\"],[0.3,\"#f1b6da\"],[0.4,\"#fde0ef\"],[0.5,\"#f7f7f7\"],[0.6,\"#e6f5d0\"],[0.7,\"#b8e186\"],[0.8,\"#7fbc41\"],[0.9,\"#4d9221\"],[1,\"#276419\"]]},\"xaxis\":{\"gridcolor\":\"white\",\"linecolor\":\"white\",\"ticks\":\"\",\"title\":{\"standoff\":15},\"zerolinecolor\":\"white\",\"automargin\":true,\"zerolinewidth\":2},\"yaxis\":{\"gridcolor\":\"white\",\"linecolor\":\"white\",\"ticks\":\"\",\"title\":{\"standoff\":15},\"zerolinecolor\":\"white\",\"automargin\":true,\"zerolinewidth\":2},\"scene\":{\"xaxis\":{\"backgroundcolor\":\"#E5ECF6\",\"gridcolor\":\"white\",\"linecolor\":\"white\",\"showbackground\":true,\"ticks\":\"\",\"zerolinecolor\":\"white\",\"gridwidth\":2},\"yaxis\":{\"backgroundcolor\":\"#E5ECF6\",\"gridcolor\":\"white\",\"linecolor\":\"white\",\"showbackground\":true,\"ticks\":\"\",\"zerolinecolor\":\"white\",\"gridwidth\":2},\"zaxis\":{\"backgroundcolor\":\"#E5ECF6\",\"gridcolor\":\"white\",\"linecolor\":\"white\",\"showbackground\":true,\"ticks\":\"\",\"zerolinecolor\":\"white\",\"gridwidth\":2}},\"shapedefaults\":{\"line\":{\"color\":\"#2a3f5f\"}},\"annotationdefaults\":{\"arrowcolor\":\"#2a3f5f\",\"arrowhead\":0,\"arrowwidth\":1},\"geo\":{\"bgcolor\":\"white\",\"landcolor\":\"#E5ECF6\",\"subunitcolor\":\"white\",\"showland\":true,\"showlakes\":true,\"lakecolor\":\"white\"},\"title\":{\"x\":0.05},\"mapbox\":{\"style\":\"light\"}}},\"xaxis\":{\"anchor\":\"y\",\"domain\":[0.0,1.0],\"title\":{\"text\":\"time\"}},\"yaxis\":{\"anchor\":\"x\",\"domain\":[0.0,1.0],\"title\":{\"text\":\"Cov_149\"}},\"legend\":{\"tracegroupgap\":0},\"margin\":{\"t\":60}},                        {\"responsive\": true}                    ).then(function(){\n",
       "                            \n",
       "var gd = document.getElementById('930c82f5-c708-437f-94d3-04f908b0116b');\n",
       "var x = new MutationObserver(function (mutations, observer) {{\n",
       "        var display = window.getComputedStyle(gd).display;\n",
       "        if (!display || display === 'none') {{\n",
       "            console.log([gd, 'removed!']);\n",
       "            Plotly.purge(gd);\n",
       "            observer.disconnect();\n",
       "        }}\n",
       "}});\n",
       "\n",
       "// Listen for the removal of the full notebook cells\n",
       "var notebookContainer = gd.closest('#notebook-container');\n",
       "if (notebookContainer) {{\n",
       "    x.observe(notebookContainer, {childList: true});\n",
       "}}\n",
       "\n",
       "// Listen for the clearing of the current output cell\n",
       "var outputEl = gd.closest('.output');\n",
       "if (outputEl) {{\n",
       "    x.observe(outputEl, {childList: true});\n",
       "}}\n",
       "\n",
       "                        })                };                });            </script>        </div>"
      ]
     },
     "metadata": {},
     "output_type": "display_data"
    }
   ],
   "source": [
    "i = kinase_number_dict[\"PLK2\"]\n",
    "fig = px.line(b_df, x='time', y=f'Cov_{i}')\n",
    "fig.show()"
   ]
  },
  {
   "cell_type": "markdown",
   "id": "66aa974c",
   "metadata": {},
   "source": [
    "### True vs Predicted value"
   ]
  },
  {
   "cell_type": "code",
   "execution_count": 83,
   "id": "ce88e470",
   "metadata": {},
   "outputs": [],
   "source": [
    "y_predicted = pd.read_csv('./fof/data/r/result_y.csv')['x'].to_numpy().reshape(-1,1)\n",
    "y_true = pd.read_csv('./fof/data/r/result_y_true.csv')['x'].to_numpy().reshape(-1,1)"
   ]
  },
  {
   "cell_type": "code",
   "execution_count": 86,
   "id": "c66e46a4",
   "metadata": {},
   "outputs": [],
   "source": [
    "data['y_predicted'] = y_predicted\n",
    "data['y_standardized'] = y_true"
   ]
  },
  {
   "cell_type": "code",
   "execution_count": 87,
   "id": "8248e22a",
   "metadata": {},
   "outputs": [
    {
     "data": {
      "text/html": [
       "<div>\n",
       "<style scoped>\n",
       "    .dataframe tbody tr th:only-of-type {\n",
       "        vertical-align: middle;\n",
       "    }\n",
       "\n",
       "    .dataframe tbody tr th {\n",
       "        vertical-align: top;\n",
       "    }\n",
       "\n",
       "    .dataframe thead th {\n",
       "        text-align: right;\n",
       "    }\n",
       "</style>\n",
       "<table border=\"1\" class=\"dataframe\">\n",
       "  <thead>\n",
       "    <tr style=\"text-align: right;\">\n",
       "      <th></th>\n",
       "      <th>drugNames</th>\n",
       "      <th>Raw Y (closest to 70)</th>\n",
       "      <th>Raw Y (interpolation to 70)</th>\n",
       "      <th>dose (label)</th>\n",
       "      <th>dose (uM)</th>\n",
       "      <th>drugShortNames</th>\n",
       "      <th>realNames</th>\n",
       "      <th>AKT1</th>\n",
       "      <th>AKT2</th>\n",
       "      <th>AKT3</th>\n",
       "      <th>...</th>\n",
       "      <th>TRKC</th>\n",
       "      <th>TXK</th>\n",
       "      <th>TYK1_LTK</th>\n",
       "      <th>TYRO3_SKY</th>\n",
       "      <th>ULK1</th>\n",
       "      <th>YES_YES1</th>\n",
       "      <th>Y Predicted</th>\n",
       "      <th>y_predicted</th>\n",
       "      <th>Y_standardized</th>\n",
       "      <th>y_standardized</th>\n",
       "    </tr>\n",
       "  </thead>\n",
       "  <tbody>\n",
       "    <tr>\n",
       "      <th>0</th>\n",
       "      <td>NCGC00344999_A1</td>\n",
       "      <td>27.000000</td>\n",
       "      <td>27.654545</td>\n",
       "      <td>3</td>\n",
       "      <td>1.11</td>\n",
       "      <td>A1</td>\n",
       "      <td>NCGC00344999</td>\n",
       "      <td>0.825562</td>\n",
       "      <td>0.958012</td>\n",
       "      <td>0.929195</td>\n",
       "      <td>...</td>\n",
       "      <td>0.000200</td>\n",
       "      <td>0.025107</td>\n",
       "      <td>0.343913</td>\n",
       "      <td>0.228633</td>\n",
       "      <td>0.273383</td>\n",
       "      <td>0.001528</td>\n",
       "      <td>-31.704154</td>\n",
       "      <td>-31.704154</td>\n",
       "      <td>-31.703909</td>\n",
       "      <td>-31.703909</td>\n",
       "    </tr>\n",
       "    <tr>\n",
       "      <th>1</th>\n",
       "      <td>NCGC00344999_A1</td>\n",
       "      <td>50.433333</td>\n",
       "      <td>52.624242</td>\n",
       "      <td>4</td>\n",
       "      <td>0.37</td>\n",
       "      <td>A1</td>\n",
       "      <td>NCGC00344999</td>\n",
       "      <td>0.877345</td>\n",
       "      <td>0.984761</td>\n",
       "      <td>0.979264</td>\n",
       "      <td>...</td>\n",
       "      <td>0.000201</td>\n",
       "      <td>0.064854</td>\n",
       "      <td>0.566269</td>\n",
       "      <td>0.428022</td>\n",
       "      <td>0.534281</td>\n",
       "      <td>0.004563</td>\n",
       "      <td>-10.792637</td>\n",
       "      <td>-10.792637</td>\n",
       "      <td>-10.793398</td>\n",
       "      <td>-10.793398</td>\n",
       "    </tr>\n",
       "    <tr>\n",
       "      <th>2</th>\n",
       "      <td>NCGC00344999_A1</td>\n",
       "      <td>76.533333</td>\n",
       "      <td>78.551515</td>\n",
       "      <td>5</td>\n",
       "      <td>0.12</td>\n",
       "      <td>A1</td>\n",
       "      <td>NCGC00344999</td>\n",
       "      <td>0.915214</td>\n",
       "      <td>0.994564</td>\n",
       "      <td>0.994147</td>\n",
       "      <td>...</td>\n",
       "      <td>0.000210</td>\n",
       "      <td>0.157508</td>\n",
       "      <td>0.764517</td>\n",
       "      <td>0.653849</td>\n",
       "      <td>0.777644</td>\n",
       "      <td>0.014427</td>\n",
       "      <td>10.680329</td>\n",
       "      <td>10.680329</td>\n",
       "      <td>10.680730</td>\n",
       "      <td>10.680730</td>\n",
       "    </tr>\n",
       "    <tr>\n",
       "      <th>3</th>\n",
       "      <td>NCGC00344999_A1</td>\n",
       "      <td>73.566667</td>\n",
       "      <td>75.393939</td>\n",
       "      <td>6</td>\n",
       "      <td>0.04</td>\n",
       "      <td>A1</td>\n",
       "      <td>NCGC00344999</td>\n",
       "      <td>0.942042</td>\n",
       "      <td>0.998072</td>\n",
       "      <td>0.998365</td>\n",
       "      <td>...</td>\n",
       "      <td>0.000296</td>\n",
       "      <td>0.335096</td>\n",
       "      <td>0.889445</td>\n",
       "      <td>0.826574</td>\n",
       "      <td>0.914221</td>\n",
       "      <td>0.045557</td>\n",
       "      <td>7.167360</td>\n",
       "      <td>7.167360</td>\n",
       "      <td>7.167576</td>\n",
       "      <td>7.167576</td>\n",
       "    </tr>\n",
       "    <tr>\n",
       "      <th>4</th>\n",
       "      <td>NCGC00344999_A1</td>\n",
       "      <td>75.866667</td>\n",
       "      <td>77.103030</td>\n",
       "      <td>7</td>\n",
       "      <td>0.01</td>\n",
       "      <td>A1</td>\n",
       "      <td>NCGC00344999</td>\n",
       "      <td>0.960575</td>\n",
       "      <td>0.999315</td>\n",
       "      <td>0.999543</td>\n",
       "      <td>...</td>\n",
       "      <td>0.001109</td>\n",
       "      <td>0.575069</td>\n",
       "      <td>0.951738</td>\n",
       "      <td>0.922977</td>\n",
       "      <td>0.970018</td>\n",
       "      <td>0.134958</td>\n",
       "      <td>8.229161</td>\n",
       "      <td>8.229161</td>\n",
       "      <td>8.229162</td>\n",
       "      <td>8.229162</td>\n",
       "    </tr>\n",
       "    <tr>\n",
       "      <th>...</th>\n",
       "      <td>...</td>\n",
       "      <td>...</td>\n",
       "      <td>...</td>\n",
       "      <td>...</td>\n",
       "      <td>...</td>\n",
       "      <td>...</td>\n",
       "      <td>...</td>\n",
       "      <td>...</td>\n",
       "      <td>...</td>\n",
       "      <td>...</td>\n",
       "      <td>...</td>\n",
       "      <td>...</td>\n",
       "      <td>...</td>\n",
       "      <td>...</td>\n",
       "      <td>...</td>\n",
       "      <td>...</td>\n",
       "      <td>...</td>\n",
       "      <td>...</td>\n",
       "      <td>...</td>\n",
       "      <td>...</td>\n",
       "      <td>...</td>\n",
       "    </tr>\n",
       "    <tr>\n",
       "      <th>402</th>\n",
       "      <td>NCGC00346549_H7</td>\n",
       "      <td>20.460000</td>\n",
       "      <td>19.076551</td>\n",
       "      <td>1</td>\n",
       "      <td>10.00</td>\n",
       "      <td>H7</td>\n",
       "      <td>AT-7867</td>\n",
       "      <td>0.004845</td>\n",
       "      <td>0.043636</td>\n",
       "      <td>0.005906</td>\n",
       "      <td>...</td>\n",
       "      <td>0.159750</td>\n",
       "      <td>0.978787</td>\n",
       "      <td>0.627206</td>\n",
       "      <td>0.565679</td>\n",
       "      <td>1.000000</td>\n",
       "      <td>0.749658</td>\n",
       "      <td>-29.770503</td>\n",
       "      <td>-29.770503</td>\n",
       "      <td>-29.770534</td>\n",
       "      <td>-29.770534</td>\n",
       "    </tr>\n",
       "    <tr>\n",
       "      <th>403</th>\n",
       "      <td>NCGC00346549_H7</td>\n",
       "      <td>40.060000</td>\n",
       "      <td>38.445977</td>\n",
       "      <td>2</td>\n",
       "      <td>3.30</td>\n",
       "      <td>H7</td>\n",
       "      <td>AT-7867</td>\n",
       "      <td>0.013398</td>\n",
       "      <td>0.107004</td>\n",
       "      <td>0.016757</td>\n",
       "      <td>...</td>\n",
       "      <td>0.386833</td>\n",
       "      <td>0.999763</td>\n",
       "      <td>0.734279</td>\n",
       "      <td>0.813559</td>\n",
       "      <td>1.000000</td>\n",
       "      <td>0.909249</td>\n",
       "      <td>-16.360166</td>\n",
       "      <td>-16.360166</td>\n",
       "      <td>-16.360355</td>\n",
       "      <td>-16.360355</td>\n",
       "    </tr>\n",
       "    <tr>\n",
       "      <th>404</th>\n",
       "      <td>NCGC00346549_H7</td>\n",
       "      <td>96.820000</td>\n",
       "      <td>93.884014</td>\n",
       "      <td>5</td>\n",
       "      <td>0.12</td>\n",
       "      <td>H7</td>\n",
       "      <td>AT-7867</td>\n",
       "      <td>0.239343</td>\n",
       "      <td>0.684571</td>\n",
       "      <td>0.298176</td>\n",
       "      <td>...</td>\n",
       "      <td>0.958432</td>\n",
       "      <td>1.000000</td>\n",
       "      <td>0.923971</td>\n",
       "      <td>0.992938</td>\n",
       "      <td>1.000000</td>\n",
       "      <td>0.996335</td>\n",
       "      <td>26.013233</td>\n",
       "      <td>26.013233</td>\n",
       "      <td>26.013229</td>\n",
       "      <td>26.013229</td>\n",
       "    </tr>\n",
       "    <tr>\n",
       "      <th>405</th>\n",
       "      <td>NCGC00346549_H7</td>\n",
       "      <td>90.820000</td>\n",
       "      <td>89.774728</td>\n",
       "      <td>6</td>\n",
       "      <td>0.04</td>\n",
       "      <td>H7</td>\n",
       "      <td>AT-7867</td>\n",
       "      <td>0.473748</td>\n",
       "      <td>0.850279</td>\n",
       "      <td>0.554458</td>\n",
       "      <td>...</td>\n",
       "      <td>0.987090</td>\n",
       "      <td>1.000000</td>\n",
       "      <td>0.951929</td>\n",
       "      <td>0.997117</td>\n",
       "      <td>1.000000</td>\n",
       "      <td>0.998138</td>\n",
       "      <td>21.548150</td>\n",
       "      <td>21.548150</td>\n",
       "      <td>21.548364</td>\n",
       "      <td>21.548364</td>\n",
       "    </tr>\n",
       "    <tr>\n",
       "      <th>406</th>\n",
       "      <td>NCGC00346549_H7</td>\n",
       "      <td>74.256667</td>\n",
       "      <td>70.000000</td>\n",
       "      <td>11</td>\n",
       "      <td>0.00</td>\n",
       "      <td>H7</td>\n",
       "      <td>AT-7867</td>\n",
       "      <td>1.000000</td>\n",
       "      <td>1.000000</td>\n",
       "      <td>1.000000</td>\n",
       "      <td>...</td>\n",
       "      <td>1.000000</td>\n",
       "      <td>1.000000</td>\n",
       "      <td>1.000000</td>\n",
       "      <td>1.000000</td>\n",
       "      <td>1.000000</td>\n",
       "      <td>1.000000</td>\n",
       "      <td>0.688948</td>\n",
       "      <td>0.688948</td>\n",
       "      <td>0.688952</td>\n",
       "      <td>0.688952</td>\n",
       "    </tr>\n",
       "  </tbody>\n",
       "</table>\n",
       "<p>407 rows × 380 columns</p>\n",
       "</div>"
      ],
      "text/plain": [
       "           drugNames  Raw Y (closest to 70)  Raw Y (interpolation to 70)  \\\n",
       "0    NCGC00344999_A1              27.000000                    27.654545   \n",
       "1    NCGC00344999_A1              50.433333                    52.624242   \n",
       "2    NCGC00344999_A1              76.533333                    78.551515   \n",
       "3    NCGC00344999_A1              73.566667                    75.393939   \n",
       "4    NCGC00344999_A1              75.866667                    77.103030   \n",
       "..               ...                    ...                          ...   \n",
       "402  NCGC00346549_H7              20.460000                    19.076551   \n",
       "403  NCGC00346549_H7              40.060000                    38.445977   \n",
       "404  NCGC00346549_H7              96.820000                    93.884014   \n",
       "405  NCGC00346549_H7              90.820000                    89.774728   \n",
       "406  NCGC00346549_H7              74.256667                    70.000000   \n",
       "\n",
       "     dose (label)  dose (uM) drugShortNames     realNames      AKT1      AKT2  \\\n",
       "0               3       1.11             A1  NCGC00344999  0.825562  0.958012   \n",
       "1               4       0.37             A1  NCGC00344999  0.877345  0.984761   \n",
       "2               5       0.12             A1  NCGC00344999  0.915214  0.994564   \n",
       "3               6       0.04             A1  NCGC00344999  0.942042  0.998072   \n",
       "4               7       0.01             A1  NCGC00344999  0.960575  0.999315   \n",
       "..            ...        ...            ...           ...       ...       ...   \n",
       "402             1      10.00             H7       AT-7867  0.004845  0.043636   \n",
       "403             2       3.30             H7       AT-7867  0.013398  0.107004   \n",
       "404             5       0.12             H7       AT-7867  0.239343  0.684571   \n",
       "405             6       0.04             H7       AT-7867  0.473748  0.850279   \n",
       "406            11       0.00             H7       AT-7867  1.000000  1.000000   \n",
       "\n",
       "         AKT3  ...      TRKC       TXK  TYK1_LTK  TYRO3_SKY      ULK1  \\\n",
       "0    0.929195  ...  0.000200  0.025107  0.343913   0.228633  0.273383   \n",
       "1    0.979264  ...  0.000201  0.064854  0.566269   0.428022  0.534281   \n",
       "2    0.994147  ...  0.000210  0.157508  0.764517   0.653849  0.777644   \n",
       "3    0.998365  ...  0.000296  0.335096  0.889445   0.826574  0.914221   \n",
       "4    0.999543  ...  0.001109  0.575069  0.951738   0.922977  0.970018   \n",
       "..        ...  ...       ...       ...       ...        ...       ...   \n",
       "402  0.005906  ...  0.159750  0.978787  0.627206   0.565679  1.000000   \n",
       "403  0.016757  ...  0.386833  0.999763  0.734279   0.813559  1.000000   \n",
       "404  0.298176  ...  0.958432  1.000000  0.923971   0.992938  1.000000   \n",
       "405  0.554458  ...  0.987090  1.000000  0.951929   0.997117  1.000000   \n",
       "406  1.000000  ...  1.000000  1.000000  1.000000   1.000000  1.000000   \n",
       "\n",
       "     YES_YES1  Y Predicted  y_predicted  Y_standardized  y_standardized  \n",
       "0    0.001528   -31.704154   -31.704154      -31.703909      -31.703909  \n",
       "1    0.004563   -10.792637   -10.792637      -10.793398      -10.793398  \n",
       "2    0.014427    10.680329    10.680329       10.680730       10.680730  \n",
       "3    0.045557     7.167360     7.167360        7.167576        7.167576  \n",
       "4    0.134958     8.229161     8.229161        8.229162        8.229162  \n",
       "..        ...          ...          ...             ...             ...  \n",
       "402  0.749658   -29.770503   -29.770503      -29.770534      -29.770534  \n",
       "403  0.909249   -16.360166   -16.360166      -16.360355      -16.360355  \n",
       "404  0.996335    26.013233    26.013233       26.013229       26.013229  \n",
       "405  0.998138    21.548150    21.548150       21.548364       21.548364  \n",
       "406  1.000000     0.688948     0.688948        0.688952        0.688952  \n",
       "\n",
       "[407 rows x 380 columns]"
      ]
     },
     "execution_count": 87,
     "metadata": {},
     "output_type": "execute_result"
    }
   ],
   "source": [
    "data"
   ]
  },
  {
   "cell_type": "code",
   "execution_count": 93,
   "id": "1fe04a4b",
   "metadata": {},
   "outputs": [
    {
     "data": {
      "text/plain": [
       "0.08705722435159739"
      ]
     },
     "execution_count": 93,
     "metadata": {},
     "output_type": "execute_result"
    }
   ],
   "source": [
    "np.sqrt(np.power((data['y_predicted'] - data['y_standardized']), 2).sum())"
   ]
  },
  {
   "cell_type": "code",
   "execution_count": null,
   "id": "5f213467",
   "metadata": {},
   "outputs": [],
   "source": []
  }
 ],
 "metadata": {
  "kernelspec": {
   "display_name": "kir",
   "language": "python",
   "name": "kir"
  },
  "language_info": {
   "codemirror_mode": {
    "name": "ipython",
    "version": 3
   },
   "file_extension": ".py",
   "mimetype": "text/x-python",
   "name": "python",
   "nbconvert_exporter": "python",
   "pygments_lexer": "ipython3",
   "version": "3.10.13"
  }
 },
 "nbformat": 4,
 "nbformat_minor": 5
}
