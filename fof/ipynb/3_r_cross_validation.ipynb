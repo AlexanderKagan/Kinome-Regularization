{
 "cells": [
  {
   "cell_type": "code",
   "execution_count": 1,
   "id": "8d389a7d",
   "metadata": {},
   "outputs": [],
   "source": [
    "%load_ext autoreload\n",
    "%autoreload 2"
   ]
  },
  {
   "cell_type": "code",
   "execution_count": 2,
   "id": "ac0c5fc9",
   "metadata": {},
   "outputs": [],
   "source": [
    "import os\n",
    "os.chdir('/Users/zhenyamordan/PyCharmProjects/Kinome-Regularization/')"
   ]
  },
  {
   "cell_type": "code",
   "execution_count": 3,
   "id": "6467c0f2",
   "metadata": {},
   "outputs": [],
   "source": [
    "import pandas as pd\n",
    "import plotly.express as px\n",
    "from sklearn.metrics import r2_score"
   ]
  },
  {
   "cell_type": "code",
   "execution_count": 4,
   "id": "74cf9799",
   "metadata": {},
   "outputs": [
    {
     "name": "stdout",
     "output_type": "stream",
     "text": [
      "CV_utils.py                   graph_utils.py\r\n",
      "Linreg_clean.ipynb            model_sanity_check.ipynb\r\n",
      "README.md                     phenotype_preprocess.py\r\n",
      "RegressionModels.py           phenotype_preprocessing.ipynb\r\n",
      "\u001b[34mfof\u001b[m\u001b[m                           plot_utils.py\r\n"
     ]
    }
   ],
   "source": [
    "!ls"
   ]
  },
  {
   "cell_type": "code",
   "execution_count": 5,
   "id": "dc84b353",
   "metadata": {},
   "outputs": [
    {
     "name": "stdout",
     "output_type": "stream",
     "text": [
      "result_beta_0_0.001.csv             result_beta_31_1.csv\r\n",
      "result_beta_0_0.003.csv             result_beta_31_10.csv\r\n",
      "result_beta_0_0.1.csv               result_beta_31_3.csv\r\n",
      "result_beta_0_0.3.csv               result_beta_31_30.csv\r\n",
      "result_beta_0_1.csv                 result_beta_32_0.001.csv\r\n",
      "result_beta_0_10.csv                result_beta_32_0.003.csv\r\n",
      "result_beta_0_3.csv                 result_beta_32_0.1.csv\r\n",
      "result_beta_0_30.csv                result_beta_32_0.3.csv\r\n",
      "result_beta_10_0.001.csv            result_beta_32_1.csv\r\n",
      "result_beta_10_0.003.csv            result_beta_32_10.csv\r\n",
      "result_beta_10_0.1.csv              result_beta_32_3.csv\r\n",
      "result_beta_10_0.3.csv              result_beta_32_30.csv\r\n",
      "result_beta_10_1.csv                result_beta_33_0.001.csv\r\n",
      "result_beta_10_10.csv               result_beta_33_0.003.csv\r\n",
      "result_beta_10_3.csv                result_beta_33_0.1.csv\r\n",
      "result_beta_10_30.csv               result_beta_33_0.3.csv\r\n",
      "result_beta_11_0.001.csv            result_beta_33_1.csv\r\n",
      "result_beta_11_0.003.csv            result_beta_33_10.csv\r\n",
      "result_beta_11_0.1.csv              result_beta_33_3.csv\r\n",
      "result_beta_11_0.3.csv              result_beta_33_30.csv\r\n",
      "result_beta_11_1.csv                result_beta_34_0.001.csv\r\n",
      "result_beta_11_10.csv               result_beta_34_0.003.csv\r\n",
      "result_beta_11_3.csv                result_beta_34_0.1.csv\r\n",
      "result_beta_11_30.csv               result_beta_34_0.3.csv\r\n",
      "result_beta_12_0.001.csv            result_beta_34_1.csv\r\n",
      "result_beta_12_0.003.csv            result_beta_34_10.csv\r\n",
      "result_beta_12_0.1.csv              result_beta_34_3.csv\r\n",
      "result_beta_12_0.3.csv              result_beta_34_30.csv\r\n",
      "result_beta_12_1.csv                result_beta_35_0.001.csv\r\n",
      "result_beta_12_10.csv               result_beta_35_0.003.csv\r\n",
      "result_beta_12_3.csv                result_beta_35_0.1.csv\r\n",
      "result_beta_12_30.csv               result_beta_35_0.3.csv\r\n",
      "result_beta_13_0.001.csv            result_beta_35_1.csv\r\n",
      "result_beta_13_0.003.csv            result_beta_35_10.csv\r\n",
      "result_beta_13_0.1.csv              result_beta_35_3.csv\r\n",
      "result_beta_13_0.3.csv              result_beta_35_30.csv\r\n",
      "result_beta_13_1.csv                result_beta_36_0.001.csv\r\n",
      "result_beta_13_10.csv               result_beta_36_0.003.csv\r\n",
      "result_beta_13_3.csv                result_beta_36_0.1.csv\r\n",
      "result_beta_13_30.csv               result_beta_36_0.3.csv\r\n",
      "result_beta_14_0.001.csv            result_beta_36_1.csv\r\n",
      "result_beta_14_0.003.csv            result_beta_36_10.csv\r\n",
      "result_beta_14_0.1.csv              result_beta_36_3.csv\r\n",
      "result_beta_14_0.3.csv              result_beta_36_30.csv\r\n",
      "result_beta_14_1.csv                result_beta_37_0.001.csv\r\n",
      "result_beta_14_10.csv               result_beta_37_0.003.csv\r\n",
      "result_beta_14_3.csv                result_beta_37_0.1.csv\r\n",
      "result_beta_14_30.csv               result_beta_37_0.3.csv\r\n",
      "result_beta_15_0.001.csv            result_beta_37_1.csv\r\n",
      "result_beta_15_0.003.csv            result_beta_37_10.csv\r\n",
      "result_beta_15_0.1.csv              result_beta_37_3.csv\r\n",
      "result_beta_15_0.3.csv              result_beta_37_30.csv\r\n",
      "result_beta_15_1.csv                result_beta_38_0.001.csv\r\n",
      "result_beta_15_10.csv               result_beta_38_0.003.csv\r\n",
      "result_beta_15_3.csv                result_beta_38_0.1.csv\r\n",
      "result_beta_15_30.csv               result_beta_38_0.3.csv\r\n",
      "result_beta_16_0.001.csv            result_beta_38_1.csv\r\n",
      "result_beta_16_0.003.csv            result_beta_38_10.csv\r\n",
      "result_beta_16_0.1.csv              result_beta_38_3.csv\r\n",
      "result_beta_16_0.3.csv              result_beta_38_30.csv\r\n",
      "result_beta_16_1.csv                result_beta_39_0.001.csv\r\n",
      "result_beta_16_10.csv               result_beta_39_0.003.csv\r\n",
      "result_beta_16_3.csv                result_beta_39_0.1.csv\r\n",
      "result_beta_16_30.csv               result_beta_39_0.3.csv\r\n",
      "result_beta_17_0.001.csv            result_beta_39_1.csv\r\n",
      "result_beta_17_0.003.csv            result_beta_39_10.csv\r\n",
      "result_beta_17_0.1.csv              result_beta_39_3.csv\r\n",
      "result_beta_17_0.3.csv              result_beta_39_30.csv\r\n",
      "result_beta_17_1.csv                result_beta_3_0.001.csv\r\n",
      "result_beta_17_10.csv               result_beta_3_0.003.csv\r\n",
      "result_beta_17_3.csv                result_beta_3_0.1.csv\r\n",
      "result_beta_17_30.csv               result_beta_3_0.3.csv\r\n",
      "result_beta_18_0.001.csv            result_beta_3_1.csv\r\n",
      "result_beta_18_0.003.csv            result_beta_3_10.csv\r\n",
      "result_beta_18_0.1.csv              result_beta_3_3.csv\r\n",
      "result_beta_18_0.3.csv              result_beta_3_30.csv\r\n",
      "result_beta_18_1.csv                result_beta_40_0.001.csv\r\n",
      "result_beta_18_10.csv               result_beta_40_0.003.csv\r\n",
      "result_beta_18_3.csv                result_beta_40_0.1.csv\r\n",
      "result_beta_18_30.csv               result_beta_40_0.3.csv\r\n",
      "result_beta_19_0.001.csv            result_beta_40_1.csv\r\n",
      "result_beta_19_0.003.csv            result_beta_40_10.csv\r\n",
      "result_beta_19_0.1.csv              result_beta_40_3.csv\r\n",
      "result_beta_19_0.3.csv              result_beta_40_30.csv\r\n",
      "result_beta_19_1.csv                result_beta_41_0.001.csv\r\n",
      "result_beta_19_10.csv               result_beta_41_0.003.csv\r\n",
      "result_beta_19_3.csv                result_beta_41_0.1.csv\r\n",
      "result_beta_19_30.csv               result_beta_41_0.3.csv\r\n",
      "result_beta_1_0.001.csv             result_beta_41_1.csv\r\n",
      "result_beta_1_0.003.csv             result_beta_41_10.csv\r\n",
      "result_beta_1_0.1.csv               result_beta_41_3.csv\r\n",
      "result_beta_1_0.3.csv               result_beta_41_30.csv\r\n",
      "result_beta_1_1.csv                 result_beta_42_0.001.csv\r\n",
      "result_beta_1_10.csv                result_beta_42_0.003.csv\r\n",
      "result_beta_1_3.csv                 result_beta_42_0.1.csv\r\n",
      "result_beta_1_30.csv                result_beta_42_0.3.csv\r\n",
      "result_beta_20_0.001.csv            result_beta_42_1.csv\r\n",
      "result_beta_20_0.003.csv            result_beta_42_10.csv\r\n",
      "result_beta_20_0.1.csv              result_beta_42_3.csv\r\n",
      "result_beta_20_0.3.csv              result_beta_42_30.csv\r\n",
      "result_beta_20_1.csv                result_beta_43_0.001.csv\r\n",
      "result_beta_20_10.csv               result_beta_43_0.003.csv\r\n",
      "result_beta_20_3.csv                result_beta_43_0.1.csv\r\n",
      "result_beta_20_30.csv               result_beta_43_0.3.csv\r\n",
      "result_beta_21_0.001.csv            result_beta_43_1.csv\r\n",
      "result_beta_21_0.003.csv            result_beta_43_10.csv\r\n",
      "result_beta_21_0.1.csv              result_beta_43_3.csv\r\n",
      "result_beta_21_0.3.csv              result_beta_43_30.csv\r\n",
      "result_beta_21_1.csv                result_beta_44_0.001.csv\r\n",
      "result_beta_21_10.csv               result_beta_44_0.003.csv\r\n",
      "result_beta_21_3.csv                result_beta_44_0.1.csv\r\n",
      "result_beta_21_30.csv               result_beta_44_0.3.csv\r\n",
      "result_beta_22_0.001.csv            result_beta_44_1.csv\r\n",
      "result_beta_22_0.003.csv            result_beta_44_10.csv\r\n",
      "result_beta_22_0.1.csv              result_beta_44_3.csv\r\n",
      "result_beta_22_0.3.csv              result_beta_44_30.csv\r\n",
      "result_beta_22_1.csv                result_beta_45_0.001.csv\r\n",
      "result_beta_22_10.csv               result_beta_45_0.003.csv\r\n",
      "result_beta_22_3.csv                result_beta_45_0.1.csv\r\n",
      "result_beta_22_30.csv               result_beta_45_0.3.csv\r\n",
      "result_beta_23_0.001.csv            result_beta_45_1.csv\r\n",
      "result_beta_23_0.003.csv            result_beta_45_10.csv\r\n",
      "result_beta_23_0.1.csv              result_beta_45_3.csv\r\n",
      "result_beta_23_0.3.csv              result_beta_45_30.csv\r\n",
      "result_beta_23_1.csv                result_beta_46_0.001.csv\r\n",
      "result_beta_23_10.csv               result_beta_46_0.003.csv\r\n",
      "result_beta_23_3.csv                result_beta_46_0.1.csv\r\n",
      "result_beta_23_30.csv               result_beta_46_0.3.csv\r\n",
      "result_beta_24_0.001.csv            result_beta_46_1.csv\r\n",
      "result_beta_24_0.003.csv            result_beta_46_10.csv\r\n",
      "result_beta_24_0.1.csv              result_beta_46_3.csv\r\n",
      "result_beta_24_0.3.csv              result_beta_46_30.csv\r\n",
      "result_beta_24_1.csv                result_beta_4_0.001.csv\r\n",
      "result_beta_24_10.csv               result_beta_4_0.003.csv\r\n",
      "result_beta_24_3.csv                result_beta_4_0.1.csv\r\n",
      "result_beta_24_30.csv               result_beta_4_0.3.csv\r\n",
      "result_beta_25_0.001.csv            result_beta_4_1.csv\r\n",
      "result_beta_25_0.003.csv            result_beta_4_10.csv\r\n",
      "result_beta_25_0.1.csv              result_beta_4_3.csv\r\n",
      "result_beta_25_0.3.csv              result_beta_4_30.csv\r\n",
      "result_beta_25_1.csv                result_beta_5_0.001.csv\r\n",
      "result_beta_25_10.csv               result_beta_5_0.003.csv\r\n",
      "result_beta_25_3.csv                result_beta_5_0.1.csv\r\n",
      "result_beta_25_30.csv               result_beta_5_0.3.csv\r\n",
      "result_beta_26_0.001.csv            result_beta_5_1.csv\r\n",
      "result_beta_26_0.003.csv            result_beta_5_10.csv\r\n",
      "result_beta_26_0.1.csv              result_beta_5_3.csv\r\n",
      "result_beta_26_0.3.csv              result_beta_5_30.csv\r\n",
      "result_beta_26_1.csv                result_beta_6_0.001.csv\r\n",
      "result_beta_26_10.csv               result_beta_6_0.003.csv\r\n",
      "result_beta_26_3.csv                result_beta_6_0.1.csv\r\n",
      "result_beta_26_30.csv               result_beta_6_0.3.csv\r\n",
      "result_beta_27_0.001.csv            result_beta_6_1.csv\r\n",
      "result_beta_27_0.003.csv            result_beta_6_10.csv\r\n",
      "result_beta_27_0.1.csv              result_beta_6_3.csv\r\n",
      "result_beta_27_0.3.csv              result_beta_6_30.csv\r\n",
      "result_beta_27_1.csv                result_beta_7_0.001.csv\r\n",
      "result_beta_27_10.csv               result_beta_7_0.003.csv\r\n",
      "result_beta_27_3.csv                result_beta_7_0.1.csv\r\n",
      "result_beta_27_30.csv               result_beta_7_0.3.csv\r\n",
      "result_beta_28_0.001.csv            result_beta_7_1.csv\r\n",
      "result_beta_28_0.003.csv            result_beta_7_10.csv\r\n",
      "result_beta_28_0.1.csv              result_beta_7_3.csv\r\n",
      "result_beta_28_0.3.csv              result_beta_7_30.csv\r\n",
      "result_beta_28_1.csv                result_beta_8_0.001.csv\r\n",
      "result_beta_28_10.csv               result_beta_8_0.003.csv\r\n",
      "result_beta_28_3.csv                result_beta_8_0.1.csv\r\n",
      "result_beta_28_30.csv               result_beta_8_0.3.csv\r\n",
      "result_beta_29_0.001.csv            result_beta_8_1.csv\r\n",
      "result_beta_29_0.003.csv            result_beta_8_10.csv\r\n",
      "result_beta_29_0.1.csv              result_beta_8_3.csv\r\n",
      "result_beta_29_0.3.csv              result_beta_8_30.csv\r\n",
      "result_beta_29_1.csv                result_beta_9_0.001.csv\r\n",
      "result_beta_29_10.csv               result_beta_9_0.003.csv\r\n",
      "result_beta_29_3.csv                result_beta_9_0.1.csv\r\n",
      "result_beta_29_30.csv               result_beta_9_0.3.csv\r\n",
      "result_beta_2_0.001.csv             result_beta_9_1.csv\r\n",
      "result_beta_2_0.003.csv             result_beta_9_10.csv\r\n",
      "result_beta_2_0.1.csv               result_beta_9_3.csv\r\n",
      "result_beta_2_0.3.csv               result_beta_9_30.csv\r\n",
      "result_beta_2_1.csv                 y_pred_final_0.001.csv\r\n",
      "result_beta_2_10.csv                y_pred_final_0.003.csv\r\n",
      "result_beta_2_3.csv                 y_pred_final_0.1.csv\r\n",
      "result_beta_2_30.csv                y_pred_final_0.3.csv\r\n",
      "result_beta_30_0.001.csv            y_pred_final_1.csv\r\n",
      "result_beta_30_0.003.csv            y_pred_final_10.csv\r\n",
      "result_beta_30_0.1.csv              y_pred_final_3.csv\r\n",
      "result_beta_30_0.3.csv              y_pred_final_30.csv\r\n",
      "result_beta_30_1.csv                y_true_standartized_final_0.001.csv\r\n",
      "result_beta_30_10.csv               y_true_standartized_final_0.003.csv\r\n",
      "result_beta_30_3.csv                y_true_standartized_final_0.1.csv\r\n",
      "result_beta_30_30.csv               y_true_standartized_final_0.3.csv\r\n",
      "result_beta_31_0.001.csv            y_true_standartized_final_1.csv\r\n",
      "result_beta_31_0.003.csv            y_true_standartized_final_10.csv\r\n",
      "result_beta_31_0.1.csv              y_true_standartized_final_3.csv\r\n",
      "result_beta_31_0.3.csv              y_true_standartized_final_30.csv\r\n"
     ]
    }
   ],
   "source": [
    "!ls fof/data/r/cross_validation_output/"
   ]
  },
  {
   "cell_type": "code",
   "execution_count": 8,
   "id": "ec1a6ca2",
   "metadata": {
    "scrolled": false
   },
   "outputs": [
    {
     "name": "stdout",
     "output_type": "stream",
     "text": [
      "0.001\n"
     ]
    },
    {
     "data": {
      "application/vnd.plotly.v1+json": {
       "config": {
        "plotlyServerURL": "https://plot.ly"
       },
       "data": [
        {
         "hovertemplate": "x=%{x}<br>y=%{y}<extra></extra>",
         "legendgroup": "",
         "marker": {
          "color": "#636efa",
          "symbol": "circle"
         },
         "mode": "markers",
         "name": "",
         "orientation": "v",
         "showlegend": false,
         "type": "scatter",
         "x": [
          2.14750184185704,
          47.4841390683843,
          49.2299150695185,
          -11.5945148293906,
          -75.9360015389775,
          -25.8074707696035,
          -44.7331286667685,
          -37.2082286902228,
          -25.064523026807,
          -22.3782025132113,
          -19.1691633042879,
          -32.6288879932108,
          -60.114780186909,
          -130.385121194729,
          -195.368025901644,
          -122.913852788009,
          -28.4081042461277,
          -56.5308022565919,
          -76.6499871944664,
          -146.291576065114,
          -231.816655380472,
          -335.560160906707,
          18.9393060425075,
          44.2795351128827,
          36.4525664756189,
          -24.6276916826883,
          -96.8451216409228,
          -118.099198593294,
          -2.81637663594201,
          2.15347403764683,
          50.0070952745995,
          84.6243121221741,
          68.2582049647707,
          0.203232441898045,
          1.72506049535822,
          -32.6630535350042,
          -37.3035259487871,
          -25.8386573022506,
          -21.2378403253327,
          -53.2142888704308,
          -92.8733939374873,
          -8.50392424622896,
          -16.1700114975131,
          -42.0732251158269,
          -64.6745124436798,
          -87.4500617541361,
          -100.292018617133,
          -21.90515487879,
          -45.3133563829842,
          -66.2892578135981,
          -85.6197471995947,
          -103.503272295545,
          -109.434119820115,
          27.374806569336,
          33.5087132157472,
          43.0578025189295,
          49.3175570965397,
          32.3291049154593,
          0.139697376661285,
          -19.2344420044746,
          -0.762220626601823,
          5.14581326045032,
          0.804218709950005,
          -6.69470762724581,
          -9.49421806065884,
          -6.0495054691579,
          7.09188489770104,
          -35.1865204674489,
          -12.7222184877785,
          45.5342213058776,
          24.5346095883182,
          -18.0355573821004,
          -40.5860897066739,
          -7.14781603097567,
          3.83469902872196,
          6.53037497610929,
          21.3698534520319,
          21.3854732519317,
          12.4732083909985,
          -2.76199008135965,
          -6.10912422556221,
          -31.3417035946616,
          -53.7614054137317,
          -29.1340329173043,
          52.1755772835125,
          73.9777025340985,
          11.5585259612802,
          -12.9245878571118,
          -16.7782404924756,
          -36.908699574417,
          -47.4508291676516,
          -37.378161238738,
          -13.7763303885808,
          4.21563327303026,
          -12.1965826560657,
          -26.4656337766609,
          -34.1722231507787,
          -43.9246731471917,
          -34.5931547702252,
          26.4195208059271,
          19.6893285369258,
          4.80573753298282,
          -4.62183782063293,
          -17.2416625334576,
          -60.8014745858497,
          -65.2766635954352,
          -5.32911216239031,
          -20.2875728065975,
          28.2861309285399,
          98.3511951552313,
          109.695883999283,
          -27.0361405385842,
          -18.399542787407,
          -40.8254182072409,
          -74.4942700102371,
          -56.2405373558959,
          -24.420491941991,
          1.37521533079267,
          -8.17109955464718,
          -3.91315178399409,
          17.736887717316,
          26.0285553701618,
          4.13860533363864,
          -36.3266622187231,
          -84.953647823469,
          -9.52950797036574,
          7.49316679881858,
          -3.56386485949412,
          -9.29536864150248,
          -2.87158359094647,
          8.79593077875194,
          0.279194645105692,
          91.2903785377747,
          245.680508190099,
          147.852500347988,
          -333.398363355104,
          18.1049977183792,
          2.64933771447332,
          12.2349321018398,
          16.1726602191609,
          49.1678905161084,
          64.8107276310266,
          -23.3079191693258,
          -1.11124773636647,
          10.7517558131541,
          3.61358726533854,
          2.97226849965935,
          2.32395243810288,
          26.5844836621832,
          4.60124264156806,
          4.04967142344588,
          3.6090683991926,
          -16.0136532038571,
          11.1983251652435,
          185.595072065542,
          153.118972781631,
          -14.6740905463029,
          -41.5832810675895,
          -60.52186031061,
          -52.1609232704205,
          -59.8256173022049,
          -68.8943747746032,
          -63.2504780295876,
          -8.1255212917032,
          -16.2505726702338,
          27.7304059466698,
          40.2918902233396,
          48.5121087481976,
          8.4907027626275,
          16.4686344399138,
          21.6359873602492,
          8.6967962066092,
          9.96425463744121,
          19.007945401119,
          19.2515306899617,
          34.783488464658,
          103.606612275594,
          54.28945958376,
          -31.7197208427964,
          -59.4765673230102,
          -8.70828314373739,
          -29.5737717629498,
          -26.9721683806612,
          -26.1284859875618,
          -10.6917269068906,
          -14.6436703458851,
          -25.7289193504425,
          24.7632819812043,
          22.9709102526846,
          12.3742467471943,
          2.43158264556549,
          -5.29131034468349,
          -6.70040895223394,
          0.59376488933797,
          -53.8983609710537,
          -53.3941575196094,
          -18.1591920787572,
          17.7523602998722,
          19.7650566839199,
          -31.6148655084813,
          3.09826522722874,
          36.273778314806,
          12.8736714701678,
          -25.3124373169658,
          -23.9394772752332,
          10.359691363109,
          -2.7143820846931,
          -12.0026385594107,
          -16.7466437895915,
          -5.92299449742886,
          7.90344186566331,
          15.3895447174775,
          -2.00638414714786,
          -3.18426424321671,
          -32.1205637295744,
          -68.8685583392772,
          -38.2624606800421,
          15.0671667349794,
          35.7026030307567,
          5.23892258329587,
          34.6747094864205,
          45.4358609426539,
          43.8583692216777,
          32.3229772963541,
          20.3649221776227,
          -0.0188955314973192,
          25.7454726383066,
          38.0410417865827,
          33.548873266788,
          5.32355473194868,
          1.28764263090285,
          14.8487932265837,
          14.4436391591434,
          14.9508443588071,
          25.6339290340325,
          12.6580299410414,
          -13.5329721211935,
          -44.5302788479984,
          -7.67896232263274,
          8.07135688453351,
          26.3008261171675,
          47.6099451055679,
          35.7544368213602,
          29.3391173856877,
          18.2399786617518,
          -6.06886715934088,
          -31.4545137640202,
          -19.2430015324229,
          -14.6838014693839,
          -17.6787477950038,
          10.5554946154897,
          44.2264192404722,
          -1.41470396157105,
          31.9966066367172,
          45.8701758793681,
          24.8317119675723,
          13.6271391848378,
          24.6614456689177,
          46.474778891536,
          8.91401810060415,
          30.4979782208895,
          33.047512776431,
          35.6786141802149,
          19.0333354535718,
          -3.24877250929749,
          -8.88884228784867,
          -14.8035867648148,
          -8.32126434856969,
          55.666308913632,
          79.5687004795029,
          29.7426856548714,
          -24.1899670235306,
          -38.9227466689986,
          8.56575279747569,
          4.87579075360165,
          -3.34945300668963,
          -0.726367714126279,
          -3.40828028944828,
          -1.72502482231345,
          -42.2459569154528,
          -49.5452087250248,
          -51.358427590589,
          -34.4312234439545,
          1.51697945914833,
          19.8058439853056,
          19.7847898170204,
          -24.6540068656827,
          -12.1597686729656,
          -14.207755256156,
          -20.6688178003611,
          -25.5909449101397,
          -11.5469258037516,
          1.83602186756024,
          -24.1540897964184,
          -25.5171340757773,
          -1.24654902135889,
          9.38712632540303,
          17.623310348367,
          46.941728404846,
          47.0263614466714
         ],
         "xaxis": "x",
         "y": [
          -28.5049270297964,
          -9.25482758672267,
          11.4671668539991,
          7.58934023489402,
          9.58763822669017,
          -15.1518196851637,
          -5.87177673926499,
          -8.46822092206666,
          0.741882607775409,
          10.1330927721447,
          6.54835252465787,
          10.811868039541,
          12.6219281643371,
          6.29956888272039,
          12.6343506036726,
          8.37572610251672,
          -15.0451246196668,
          -6.72336565331982,
          4.26234932509716,
          5.942712180101,
          9.89783288410401,
          9.0352022196199,
          -26.6454699084329,
          -3.15242209709977,
          -6.04373111345512,
          1.38427498044875,
          5.29863991395953,
          4.83879571456259,
          8.37928775614368,
          23.0479206932275,
          24.9408701733839,
          19.3591165702629,
          11.6613897097151,
          10.4719064565829,
          3.92218475199391,
          -34.4755931114312,
          -16.089442430489,
          4.7353845099716,
          3.48756412292239,
          -1.33168606355351,
          9.24431677514328,
          -4.03825812793281,
          -0.0127628981290471,
          8.27138048245027,
          5.35771851124252,
          1.2114196029454,
          4.38195627002496,
          -18.8707453603393,
          -0.551715053042983,
          9.39275081802253,
          9.28768945993038,
          6.45848647152344,
          4.82659113728171,
          30.6909451334319,
          25.2373241823837,
          18.4790665973891,
          11.5540081403992,
          0.229784449377391,
          2.47691998513882,
          12.4149670547848,
          18.4373561995228,
          21.2291501634753,
          16.7091641834189,
          9.94562677495569,
          3.22261292243179,
          9.89200428704045,
          0.708895352197004,
          -3.98211725441395,
          16.0409834999789,
          30.0416605215649,
          23.4472722314034,
          11.4066187053077,
          9.47480023141833,
          11.1819878591879,
          3.92615914913315,
          11.5082499006972,
          7.1961671331519,
          11.0575202679318,
          2.63924691315003,
          -4.18332712071303,
          -4.24241104142757,
          -17.4487610359417,
          -18.2749604611364,
          -5.55182569588465,
          4.53082553555313,
          -1.84668418087632,
          -21.3694233754034,
          -16.4555042471682,
          -11.1479851829298,
          -5.56827102538198,
          6.07744735730633,
          3.73839010276141,
          11.605745514651,
          19.2636802391597,
          14.7122203837527,
          12.1721202738655,
          8.72077183828306,
          3.31220099860487,
          -1.49702096509486,
          21.8365272778885,
          21.2591079096366,
          15.0676322875762,
          3.89333430618714,
          5.05291216149951,
          3.33622937858128,
          2.21864320518497,
          -18.1507321219336,
          0.856322359568757,
          11.0652844658975,
          12.2714246344804,
          3.85697190263608,
          -9.89099315306677,
          5.21497704641241,
          9.52045057689419,
          9.79365752258444,
          1.1024825201909,
          -1.71230458541824,
          4.90039330372656,
          8.4243192521195,
          23.2538803011038,
          24.4495894792066,
          23.5314418237451,
          16.6141099431489,
          15.2397849982149,
          8.15505807001882,
          -26.5110267238868,
          -17.8152337154357,
          9.80399393403288,
          15.9633075590017,
          13.5482285540048,
          10.9674472107934,
          6.78351626174026,
          -3.25398526380206,
          1.65449380998911,
          3.47109709489284,
          -1.1296862328614,
          17.0730891496859,
          21.6795579166217,
          13.7449889112552,
          9.62551921736708,
          13.3988312631259,
          -1.64456137647596,
          0.993417662231074,
          10.2818813266411,
          2.599677175552,
          5.12380249440302,
          5.00912516639245,
          4.61815966524337,
          8.46504117152728,
          -23.9314464232278,
          -4.41731044544183,
          5.57465443021681,
          0.567473425103259,
          -1.13660719955666,
          0.185764216228179,
          -9.9239380907812,
          -8.04909511868244,
          3.84648309854933,
          2.6929578115302,
          7.25886257423875,
          2.81361736961685,
          -2.80076163335877,
          -10.5757565048856,
          -38.9150196904867,
          -31.278943617524,
          -18.8165735819026,
          -11.0400607928447,
          4.86988216916696,
          17.7437549399728,
          16.5289069852287,
          12.946825691979,
          -1.63153636761816,
          -1.80806059501236,
          -13.9509001980534,
          -10.0043985817277,
          -12.512797331177,
          -11.3454755957477,
          -14.1703929246025,
          -1.05755204807478,
          -14.2264928381315,
          -34.7316848566607,
          -20.6721823576364,
          -18.2617804704502,
          -25.9283818488343,
          -34.5742404113454,
          -21.7972464147065,
          -18.2935443042901,
          22.2299535695349,
          20.73929397058,
          9.00266639309591,
          5.77567274571874,
          -0.644556149337319,
          -8.92528699682843,
          -3.98722834437007,
          -22.8235369191641,
          -7.41260620087782,
          13.8272879385427,
          -4.2290049998272,
          -0.0270334033766204,
          -27.3990135988523,
          -24.1554222699767,
          -22.3237617521358,
          -26.9540753816885,
          -16.960289825746,
          -4.71267587554884,
          12.4237544570511,
          14.8579946883421,
          10.6349683914764,
          -1.60109759508604,
          -6.24960816270303,
          -4.50889803630838,
          1.01976111716961,
          -8.4389711036406,
          -8.68982246625474,
          -5.33832385300232,
          -4.43109245897922,
          -4.14791324744876,
          -2.52738802090012,
          -4.8719697508324,
          -23.4720343953901,
          -3.06056319558062,
          0.0503487435044363,
          3.28045109881901,
          -1.67426150938228,
          3.87182415324629,
          -1.92379265596195,
          -7.0843810349917,
          -5.49582485690637,
          -5.06859872141715,
          -0.768457708663192,
          -6.89530476303518,
          16.8890853854461,
          22.0141609687897,
          25.0574612501309,
          6.92384018522601,
          -1.86157103175113,
          -4.518088353831,
          9.68244192228471,
          -36.2560723172987,
          -12.0535629809708,
          -12.551951979995,
          -7.90751352267908,
          0.823646282186317,
          0.356505711741292,
          -4.50217483112955,
          -41.0869198818865,
          -39.5029921385306,
          -35.9558423869978,
          -25.2980680584607,
          -12.9624705962992,
          -10.2294024473493,
          -8.88265234785006,
          -2.52975215010916,
          3.41103953693483,
          5.48711398977356,
          -3.7346337711587,
          1.37159256939503,
          -3.86941356154765,
          1.90501089193874,
          10.4704401761631,
          27.2234224730421,
          20.2113119584339,
          19.4047818538849,
          5.66460601637567,
          3.8434843990502,
          -4.01267022518479,
          11.9116587267464,
          17.7767883227353,
          12.4429259892432,
          12.2707095862753,
          -1.96270772585089,
          -11.9801468654297,
          1.95128538998412,
          -4.99834641693066,
          28.8101007240316,
          13.6807376316356,
          13.4279031752588,
          -9.73837147218498,
          7.28834347233177,
          -26.9795424707877,
          -50.2278013756437,
          -57.0433119186431,
          -58.3565274264648,
          -50.1822819608467,
          -35.5135962682099,
          -13.4397821501118,
          -52.5021717524072,
          -44.0952504333918,
          -12.0504696632351,
          2.35979798765497,
          10.4745000059171,
          9.38855894491363,
          -3.75821960733397,
          -48.4898326278607,
          -48.6960127915172,
          -49.7433413166114,
          -39.0829114511128,
          -10.0092936934856,
          -9.24835321663394,
          -6.12553412175131
         ],
         "yaxis": "y"
        }
       ],
       "layout": {
        "legend": {
         "tracegroupgap": 0
        },
        "margin": {
         "t": 60
        },
        "template": {
         "data": {
          "bar": [
           {
            "error_x": {
             "color": "#2a3f5f"
            },
            "error_y": {
             "color": "#2a3f5f"
            },
            "marker": {
             "line": {
              "color": "#E5ECF6",
              "width": 0.5
             },
             "pattern": {
              "fillmode": "overlay",
              "size": 10,
              "solidity": 0.2
             }
            },
            "type": "bar"
           }
          ],
          "barpolar": [
           {
            "marker": {
             "line": {
              "color": "#E5ECF6",
              "width": 0.5
             },
             "pattern": {
              "fillmode": "overlay",
              "size": 10,
              "solidity": 0.2
             }
            },
            "type": "barpolar"
           }
          ],
          "carpet": [
           {
            "aaxis": {
             "endlinecolor": "#2a3f5f",
             "gridcolor": "white",
             "linecolor": "white",
             "minorgridcolor": "white",
             "startlinecolor": "#2a3f5f"
            },
            "baxis": {
             "endlinecolor": "#2a3f5f",
             "gridcolor": "white",
             "linecolor": "white",
             "minorgridcolor": "white",
             "startlinecolor": "#2a3f5f"
            },
            "type": "carpet"
           }
          ],
          "choropleth": [
           {
            "colorbar": {
             "outlinewidth": 0,
             "ticks": ""
            },
            "type": "choropleth"
           }
          ],
          "contour": [
           {
            "colorbar": {
             "outlinewidth": 0,
             "ticks": ""
            },
            "colorscale": [
             [
              0,
              "#0d0887"
             ],
             [
              0.1111111111111111,
              "#46039f"
             ],
             [
              0.2222222222222222,
              "#7201a8"
             ],
             [
              0.3333333333333333,
              "#9c179e"
             ],
             [
              0.4444444444444444,
              "#bd3786"
             ],
             [
              0.5555555555555556,
              "#d8576b"
             ],
             [
              0.6666666666666666,
              "#ed7953"
             ],
             [
              0.7777777777777778,
              "#fb9f3a"
             ],
             [
              0.8888888888888888,
              "#fdca26"
             ],
             [
              1,
              "#f0f921"
             ]
            ],
            "type": "contour"
           }
          ],
          "contourcarpet": [
           {
            "colorbar": {
             "outlinewidth": 0,
             "ticks": ""
            },
            "type": "contourcarpet"
           }
          ],
          "heatmap": [
           {
            "colorbar": {
             "outlinewidth": 0,
             "ticks": ""
            },
            "colorscale": [
             [
              0,
              "#0d0887"
             ],
             [
              0.1111111111111111,
              "#46039f"
             ],
             [
              0.2222222222222222,
              "#7201a8"
             ],
             [
              0.3333333333333333,
              "#9c179e"
             ],
             [
              0.4444444444444444,
              "#bd3786"
             ],
             [
              0.5555555555555556,
              "#d8576b"
             ],
             [
              0.6666666666666666,
              "#ed7953"
             ],
             [
              0.7777777777777778,
              "#fb9f3a"
             ],
             [
              0.8888888888888888,
              "#fdca26"
             ],
             [
              1,
              "#f0f921"
             ]
            ],
            "type": "heatmap"
           }
          ],
          "heatmapgl": [
           {
            "colorbar": {
             "outlinewidth": 0,
             "ticks": ""
            },
            "colorscale": [
             [
              0,
              "#0d0887"
             ],
             [
              0.1111111111111111,
              "#46039f"
             ],
             [
              0.2222222222222222,
              "#7201a8"
             ],
             [
              0.3333333333333333,
              "#9c179e"
             ],
             [
              0.4444444444444444,
              "#bd3786"
             ],
             [
              0.5555555555555556,
              "#d8576b"
             ],
             [
              0.6666666666666666,
              "#ed7953"
             ],
             [
              0.7777777777777778,
              "#fb9f3a"
             ],
             [
              0.8888888888888888,
              "#fdca26"
             ],
             [
              1,
              "#f0f921"
             ]
            ],
            "type": "heatmapgl"
           }
          ],
          "histogram": [
           {
            "marker": {
             "pattern": {
              "fillmode": "overlay",
              "size": 10,
              "solidity": 0.2
             }
            },
            "type": "histogram"
           }
          ],
          "histogram2d": [
           {
            "colorbar": {
             "outlinewidth": 0,
             "ticks": ""
            },
            "colorscale": [
             [
              0,
              "#0d0887"
             ],
             [
              0.1111111111111111,
              "#46039f"
             ],
             [
              0.2222222222222222,
              "#7201a8"
             ],
             [
              0.3333333333333333,
              "#9c179e"
             ],
             [
              0.4444444444444444,
              "#bd3786"
             ],
             [
              0.5555555555555556,
              "#d8576b"
             ],
             [
              0.6666666666666666,
              "#ed7953"
             ],
             [
              0.7777777777777778,
              "#fb9f3a"
             ],
             [
              0.8888888888888888,
              "#fdca26"
             ],
             [
              1,
              "#f0f921"
             ]
            ],
            "type": "histogram2d"
           }
          ],
          "histogram2dcontour": [
           {
            "colorbar": {
             "outlinewidth": 0,
             "ticks": ""
            },
            "colorscale": [
             [
              0,
              "#0d0887"
             ],
             [
              0.1111111111111111,
              "#46039f"
             ],
             [
              0.2222222222222222,
              "#7201a8"
             ],
             [
              0.3333333333333333,
              "#9c179e"
             ],
             [
              0.4444444444444444,
              "#bd3786"
             ],
             [
              0.5555555555555556,
              "#d8576b"
             ],
             [
              0.6666666666666666,
              "#ed7953"
             ],
             [
              0.7777777777777778,
              "#fb9f3a"
             ],
             [
              0.8888888888888888,
              "#fdca26"
             ],
             [
              1,
              "#f0f921"
             ]
            ],
            "type": "histogram2dcontour"
           }
          ],
          "mesh3d": [
           {
            "colorbar": {
             "outlinewidth": 0,
             "ticks": ""
            },
            "type": "mesh3d"
           }
          ],
          "parcoords": [
           {
            "line": {
             "colorbar": {
              "outlinewidth": 0,
              "ticks": ""
             }
            },
            "type": "parcoords"
           }
          ],
          "pie": [
           {
            "automargin": true,
            "type": "pie"
           }
          ],
          "scatter": [
           {
            "fillpattern": {
             "fillmode": "overlay",
             "size": 10,
             "solidity": 0.2
            },
            "type": "scatter"
           }
          ],
          "scatter3d": [
           {
            "line": {
             "colorbar": {
              "outlinewidth": 0,
              "ticks": ""
             }
            },
            "marker": {
             "colorbar": {
              "outlinewidth": 0,
              "ticks": ""
             }
            },
            "type": "scatter3d"
           }
          ],
          "scattercarpet": [
           {
            "marker": {
             "colorbar": {
              "outlinewidth": 0,
              "ticks": ""
             }
            },
            "type": "scattercarpet"
           }
          ],
          "scattergeo": [
           {
            "marker": {
             "colorbar": {
              "outlinewidth": 0,
              "ticks": ""
             }
            },
            "type": "scattergeo"
           }
          ],
          "scattergl": [
           {
            "marker": {
             "colorbar": {
              "outlinewidth": 0,
              "ticks": ""
             }
            },
            "type": "scattergl"
           }
          ],
          "scattermapbox": [
           {
            "marker": {
             "colorbar": {
              "outlinewidth": 0,
              "ticks": ""
             }
            },
            "type": "scattermapbox"
           }
          ],
          "scatterpolar": [
           {
            "marker": {
             "colorbar": {
              "outlinewidth": 0,
              "ticks": ""
             }
            },
            "type": "scatterpolar"
           }
          ],
          "scatterpolargl": [
           {
            "marker": {
             "colorbar": {
              "outlinewidth": 0,
              "ticks": ""
             }
            },
            "type": "scatterpolargl"
           }
          ],
          "scatterternary": [
           {
            "marker": {
             "colorbar": {
              "outlinewidth": 0,
              "ticks": ""
             }
            },
            "type": "scatterternary"
           }
          ],
          "surface": [
           {
            "colorbar": {
             "outlinewidth": 0,
             "ticks": ""
            },
            "colorscale": [
             [
              0,
              "#0d0887"
             ],
             [
              0.1111111111111111,
              "#46039f"
             ],
             [
              0.2222222222222222,
              "#7201a8"
             ],
             [
              0.3333333333333333,
              "#9c179e"
             ],
             [
              0.4444444444444444,
              "#bd3786"
             ],
             [
              0.5555555555555556,
              "#d8576b"
             ],
             [
              0.6666666666666666,
              "#ed7953"
             ],
             [
              0.7777777777777778,
              "#fb9f3a"
             ],
             [
              0.8888888888888888,
              "#fdca26"
             ],
             [
              1,
              "#f0f921"
             ]
            ],
            "type": "surface"
           }
          ],
          "table": [
           {
            "cells": {
             "fill": {
              "color": "#EBF0F8"
             },
             "line": {
              "color": "white"
             }
            },
            "header": {
             "fill": {
              "color": "#C8D4E3"
             },
             "line": {
              "color": "white"
             }
            },
            "type": "table"
           }
          ]
         },
         "layout": {
          "annotationdefaults": {
           "arrowcolor": "#2a3f5f",
           "arrowhead": 0,
           "arrowwidth": 1
          },
          "autotypenumbers": "strict",
          "coloraxis": {
           "colorbar": {
            "outlinewidth": 0,
            "ticks": ""
           }
          },
          "colorscale": {
           "diverging": [
            [
             0,
             "#8e0152"
            ],
            [
             0.1,
             "#c51b7d"
            ],
            [
             0.2,
             "#de77ae"
            ],
            [
             0.3,
             "#f1b6da"
            ],
            [
             0.4,
             "#fde0ef"
            ],
            [
             0.5,
             "#f7f7f7"
            ],
            [
             0.6,
             "#e6f5d0"
            ],
            [
             0.7,
             "#b8e186"
            ],
            [
             0.8,
             "#7fbc41"
            ],
            [
             0.9,
             "#4d9221"
            ],
            [
             1,
             "#276419"
            ]
           ],
           "sequential": [
            [
             0,
             "#0d0887"
            ],
            [
             0.1111111111111111,
             "#46039f"
            ],
            [
             0.2222222222222222,
             "#7201a8"
            ],
            [
             0.3333333333333333,
             "#9c179e"
            ],
            [
             0.4444444444444444,
             "#bd3786"
            ],
            [
             0.5555555555555556,
             "#d8576b"
            ],
            [
             0.6666666666666666,
             "#ed7953"
            ],
            [
             0.7777777777777778,
             "#fb9f3a"
            ],
            [
             0.8888888888888888,
             "#fdca26"
            ],
            [
             1,
             "#f0f921"
            ]
           ],
           "sequentialminus": [
            [
             0,
             "#0d0887"
            ],
            [
             0.1111111111111111,
             "#46039f"
            ],
            [
             0.2222222222222222,
             "#7201a8"
            ],
            [
             0.3333333333333333,
             "#9c179e"
            ],
            [
             0.4444444444444444,
             "#bd3786"
            ],
            [
             0.5555555555555556,
             "#d8576b"
            ],
            [
             0.6666666666666666,
             "#ed7953"
            ],
            [
             0.7777777777777778,
             "#fb9f3a"
            ],
            [
             0.8888888888888888,
             "#fdca26"
            ],
            [
             1,
             "#f0f921"
            ]
           ]
          },
          "colorway": [
           "#636efa",
           "#EF553B",
           "#00cc96",
           "#ab63fa",
           "#FFA15A",
           "#19d3f3",
           "#FF6692",
           "#B6E880",
           "#FF97FF",
           "#FECB52"
          ],
          "font": {
           "color": "#2a3f5f"
          },
          "geo": {
           "bgcolor": "white",
           "lakecolor": "white",
           "landcolor": "#E5ECF6",
           "showlakes": true,
           "showland": true,
           "subunitcolor": "white"
          },
          "hoverlabel": {
           "align": "left"
          },
          "hovermode": "closest",
          "mapbox": {
           "style": "light"
          },
          "paper_bgcolor": "white",
          "plot_bgcolor": "#E5ECF6",
          "polar": {
           "angularaxis": {
            "gridcolor": "white",
            "linecolor": "white",
            "ticks": ""
           },
           "bgcolor": "#E5ECF6",
           "radialaxis": {
            "gridcolor": "white",
            "linecolor": "white",
            "ticks": ""
           }
          },
          "scene": {
           "xaxis": {
            "backgroundcolor": "#E5ECF6",
            "gridcolor": "white",
            "gridwidth": 2,
            "linecolor": "white",
            "showbackground": true,
            "ticks": "",
            "zerolinecolor": "white"
           },
           "yaxis": {
            "backgroundcolor": "#E5ECF6",
            "gridcolor": "white",
            "gridwidth": 2,
            "linecolor": "white",
            "showbackground": true,
            "ticks": "",
            "zerolinecolor": "white"
           },
           "zaxis": {
            "backgroundcolor": "#E5ECF6",
            "gridcolor": "white",
            "gridwidth": 2,
            "linecolor": "white",
            "showbackground": true,
            "ticks": "",
            "zerolinecolor": "white"
           }
          },
          "shapedefaults": {
           "line": {
            "color": "#2a3f5f"
           }
          },
          "ternary": {
           "aaxis": {
            "gridcolor": "white",
            "linecolor": "white",
            "ticks": ""
           },
           "baxis": {
            "gridcolor": "white",
            "linecolor": "white",
            "ticks": ""
           },
           "bgcolor": "#E5ECF6",
           "caxis": {
            "gridcolor": "white",
            "linecolor": "white",
            "ticks": ""
           }
          },
          "title": {
           "x": 0.05
          },
          "xaxis": {
           "automargin": true,
           "gridcolor": "white",
           "linecolor": "white",
           "ticks": "",
           "title": {
            "standoff": 15
           },
           "zerolinecolor": "white",
           "zerolinewidth": 2
          },
          "yaxis": {
           "automargin": true,
           "gridcolor": "white",
           "linecolor": "white",
           "ticks": "",
           "title": {
            "standoff": 15
           },
           "zerolinecolor": "white",
           "zerolinewidth": 2
          }
         }
        },
        "xaxis": {
         "anchor": "y",
         "domain": [
          0,
          1
         ],
         "title": {
          "text": "x"
         }
        },
        "yaxis": {
         "anchor": "x",
         "domain": [
          0,
          1
         ],
         "title": {
          "text": "y"
         }
        }
       }
      },
      "text/html": [
       "<div>                            <div id=\"a25f0e67-e4af-4f93-81f6-7f756194d320\" class=\"plotly-graph-div\" style=\"height:525px; width:100%;\"></div>            <script type=\"text/javascript\">                require([\"plotly\"], function(Plotly) {                    window.PLOTLYENV=window.PLOTLYENV || {};                                    if (document.getElementById(\"a25f0e67-e4af-4f93-81f6-7f756194d320\")) {                    Plotly.newPlot(                        \"a25f0e67-e4af-4f93-81f6-7f756194d320\",                        [{\"hovertemplate\":\"x=%{x}\\u003cbr\\u003ey=%{y}\\u003cextra\\u003e\\u003c\\u002fextra\\u003e\",\"legendgroup\":\"\",\"marker\":{\"color\":\"#636efa\",\"symbol\":\"circle\"},\"mode\":\"markers\",\"name\":\"\",\"orientation\":\"v\",\"showlegend\":false,\"x\":[2.14750184185704,47.4841390683843,49.2299150695185,-11.5945148293906,-75.9360015389775,-25.8074707696035,-44.7331286667685,-37.2082286902228,-25.064523026807,-22.3782025132113,-19.1691633042879,-32.6288879932108,-60.114780186909,-130.385121194729,-195.368025901644,-122.913852788009,-28.4081042461277,-56.5308022565919,-76.6499871944664,-146.291576065114,-231.816655380472,-335.560160906707,18.9393060425075,44.2795351128827,36.4525664756189,-24.6276916826883,-96.8451216409228,-118.099198593294,-2.81637663594201,2.15347403764683,50.0070952745995,84.6243121221741,68.2582049647707,0.203232441898045,1.72506049535822,-32.6630535350042,-37.3035259487871,-25.8386573022506,-21.2378403253327,-53.2142888704308,-92.8733939374873,-8.50392424622896,-16.1700114975131,-42.0732251158269,-64.6745124436798,-87.4500617541361,-100.292018617133,-21.90515487879,-45.3133563829842,-66.2892578135981,-85.6197471995947,-103.503272295545,-109.434119820115,27.374806569336,33.5087132157472,43.0578025189295,49.3175570965397,32.3291049154593,0.139697376661285,-19.2344420044746,-0.762220626601823,5.14581326045032,0.804218709950005,-6.69470762724581,-9.49421806065884,-6.0495054691579,7.09188489770104,-35.1865204674489,-12.7222184877785,45.5342213058776,24.5346095883182,-18.0355573821004,-40.5860897066739,-7.14781603097567,3.83469902872196,6.53037497610929,21.3698534520319,21.3854732519317,12.4732083909985,-2.76199008135965,-6.10912422556221,-31.3417035946616,-53.7614054137317,-29.1340329173043,52.1755772835125,73.9777025340985,11.5585259612802,-12.9245878571118,-16.7782404924756,-36.908699574417,-47.4508291676516,-37.378161238738,-13.7763303885808,4.21563327303026,-12.1965826560657,-26.4656337766609,-34.1722231507787,-43.9246731471917,-34.5931547702252,26.4195208059271,19.6893285369258,4.80573753298282,-4.62183782063293,-17.2416625334576,-60.8014745858497,-65.2766635954352,-5.32911216239031,-20.2875728065975,28.2861309285399,98.3511951552313,109.695883999283,-27.0361405385842,-18.399542787407,-40.8254182072409,-74.4942700102371,-56.2405373558959,-24.420491941991,1.37521533079267,-8.17109955464718,-3.91315178399409,17.736887717316,26.0285553701618,4.13860533363864,-36.3266622187231,-84.953647823469,-9.52950797036574,7.49316679881858,-3.56386485949412,-9.29536864150248,-2.87158359094647,8.79593077875194,0.279194645105692,91.2903785377747,245.680508190099,147.852500347988,-333.398363355104,18.1049977183792,2.64933771447332,12.2349321018398,16.1726602191609,49.1678905161084,64.8107276310266,-23.3079191693258,-1.11124773636647,10.7517558131541,3.61358726533854,2.97226849965935,2.32395243810288,26.5844836621832,4.60124264156806,4.04967142344588,3.6090683991926,-16.0136532038571,11.1983251652435,185.595072065542,153.118972781631,-14.6740905463029,-41.5832810675895,-60.52186031061,-52.1609232704205,-59.8256173022049,-68.8943747746032,-63.2504780295876,-8.1255212917032,-16.2505726702338,27.7304059466698,40.2918902233396,48.5121087481976,8.4907027626275,16.4686344399138,21.6359873602492,8.6967962066092,9.96425463744121,19.007945401119,19.2515306899617,34.783488464658,103.606612275594,54.28945958376,-31.7197208427964,-59.4765673230102,-8.70828314373739,-29.5737717629498,-26.9721683806612,-26.1284859875618,-10.6917269068906,-14.6436703458851,-25.7289193504425,24.7632819812043,22.9709102526846,12.3742467471943,2.43158264556549,-5.29131034468349,-6.70040895223394,0.59376488933797,-53.8983609710537,-53.3941575196094,-18.1591920787572,17.7523602998722,19.7650566839199,-31.6148655084813,3.09826522722874,36.273778314806,12.8736714701678,-25.3124373169658,-23.9394772752332,10.359691363109,-2.7143820846931,-12.0026385594107,-16.7466437895915,-5.92299449742886,7.90344186566331,15.3895447174775,-2.00638414714786,-3.18426424321671,-32.1205637295744,-68.8685583392772,-38.2624606800421,15.0671667349794,35.7026030307567,5.23892258329587,34.6747094864205,45.4358609426539,43.8583692216777,32.3229772963541,20.3649221776227,-0.0188955314973192,25.7454726383066,38.0410417865827,33.548873266788,5.32355473194868,1.28764263090285,14.8487932265837,14.4436391591434,14.9508443588071,25.6339290340325,12.6580299410414,-13.5329721211935,-44.5302788479984,-7.67896232263274,8.07135688453351,26.3008261171675,47.6099451055679,35.7544368213602,29.3391173856877,18.2399786617518,-6.06886715934088,-31.4545137640202,-19.2430015324229,-14.6838014693839,-17.6787477950038,10.5554946154897,44.2264192404722,-1.41470396157105,31.9966066367172,45.8701758793681,24.8317119675723,13.6271391848378,24.6614456689177,46.474778891536,8.91401810060415,30.4979782208895,33.047512776431,35.6786141802149,19.0333354535718,-3.24877250929749,-8.88884228784867,-14.8035867648148,-8.32126434856969,55.666308913632,79.5687004795029,29.7426856548714,-24.1899670235306,-38.9227466689986,8.56575279747569,4.87579075360165,-3.34945300668963,-0.726367714126279,-3.40828028944828,-1.72502482231345,-42.2459569154528,-49.5452087250248,-51.358427590589,-34.4312234439545,1.51697945914833,19.8058439853056,19.7847898170204,-24.6540068656827,-12.1597686729656,-14.207755256156,-20.6688178003611,-25.5909449101397,-11.5469258037516,1.83602186756024,-24.1540897964184,-25.5171340757773,-1.24654902135889,9.38712632540303,17.623310348367,46.941728404846,47.0263614466714],\"xaxis\":\"x\",\"y\":[-28.5049270297964,-9.25482758672267,11.4671668539991,7.58934023489402,9.58763822669017,-15.1518196851637,-5.87177673926499,-8.46822092206666,0.741882607775409,10.1330927721447,6.54835252465787,10.811868039541,12.6219281643371,6.29956888272039,12.6343506036726,8.37572610251672,-15.0451246196668,-6.72336565331982,4.26234932509716,5.942712180101,9.89783288410401,9.0352022196199,-26.6454699084329,-3.15242209709977,-6.04373111345512,1.38427498044875,5.29863991395953,4.83879571456259,8.37928775614368,23.0479206932275,24.9408701733839,19.3591165702629,11.6613897097151,10.4719064565829,3.92218475199391,-34.4755931114312,-16.089442430489,4.7353845099716,3.48756412292239,-1.33168606355351,9.24431677514328,-4.03825812793281,-0.0127628981290471,8.27138048245027,5.35771851124252,1.2114196029454,4.38195627002496,-18.8707453603393,-0.551715053042983,9.39275081802253,9.28768945993038,6.45848647152344,4.82659113728171,30.6909451334319,25.2373241823837,18.4790665973891,11.5540081403992,0.229784449377391,2.47691998513882,12.4149670547848,18.4373561995228,21.2291501634753,16.7091641834189,9.94562677495569,3.22261292243179,9.89200428704045,0.708895352197004,-3.98211725441395,16.0409834999789,30.0416605215649,23.4472722314034,11.4066187053077,9.47480023141833,11.1819878591879,3.92615914913315,11.5082499006972,7.1961671331519,11.0575202679318,2.63924691315003,-4.18332712071303,-4.24241104142757,-17.4487610359417,-18.2749604611364,-5.55182569588465,4.53082553555313,-1.84668418087632,-21.3694233754034,-16.4555042471682,-11.1479851829298,-5.56827102538198,6.07744735730633,3.73839010276141,11.605745514651,19.2636802391597,14.7122203837527,12.1721202738655,8.72077183828306,3.31220099860487,-1.49702096509486,21.8365272778885,21.2591079096366,15.0676322875762,3.89333430618714,5.05291216149951,3.33622937858128,2.21864320518497,-18.1507321219336,0.856322359568757,11.0652844658975,12.2714246344804,3.85697190263608,-9.89099315306677,5.21497704641241,9.52045057689419,9.79365752258444,1.1024825201909,-1.71230458541824,4.90039330372656,8.4243192521195,23.2538803011038,24.4495894792066,23.5314418237451,16.6141099431489,15.2397849982149,8.15505807001882,-26.5110267238868,-17.8152337154357,9.80399393403288,15.9633075590017,13.5482285540048,10.9674472107934,6.78351626174026,-3.25398526380206,1.65449380998911,3.47109709489284,-1.1296862328614,17.0730891496859,21.6795579166217,13.7449889112552,9.62551921736708,13.3988312631259,-1.64456137647596,0.993417662231074,10.2818813266411,2.599677175552,5.12380249440302,5.00912516639245,4.61815966524337,8.46504117152728,-23.9314464232278,-4.41731044544183,5.57465443021681,0.567473425103259,-1.13660719955666,0.185764216228179,-9.9239380907812,-8.04909511868244,3.84648309854933,2.6929578115302,7.25886257423875,2.81361736961685,-2.80076163335877,-10.5757565048856,-38.9150196904867,-31.278943617524,-18.8165735819026,-11.0400607928447,4.86988216916696,17.7437549399728,16.5289069852287,12.946825691979,-1.63153636761816,-1.80806059501236,-13.9509001980534,-10.0043985817277,-12.512797331177,-11.3454755957477,-14.1703929246025,-1.05755204807478,-14.2264928381315,-34.7316848566607,-20.6721823576364,-18.2617804704502,-25.9283818488343,-34.5742404113454,-21.7972464147065,-18.2935443042901,22.2299535695349,20.73929397058,9.00266639309591,5.77567274571874,-0.644556149337319,-8.92528699682843,-3.98722834437007,-22.8235369191641,-7.41260620087782,13.8272879385427,-4.2290049998272,-0.0270334033766204,-27.3990135988523,-24.1554222699767,-22.3237617521358,-26.9540753816885,-16.960289825746,-4.71267587554884,12.4237544570511,14.8579946883421,10.6349683914764,-1.60109759508604,-6.24960816270303,-4.50889803630838,1.01976111716961,-8.4389711036406,-8.68982246625474,-5.33832385300232,-4.43109245897922,-4.14791324744876,-2.52738802090012,-4.8719697508324,-23.4720343953901,-3.06056319558062,0.0503487435044363,3.28045109881901,-1.67426150938228,3.87182415324629,-1.92379265596195,-7.0843810349917,-5.49582485690637,-5.06859872141715,-0.768457708663192,-6.89530476303518,16.8890853854461,22.0141609687897,25.0574612501309,6.92384018522601,-1.86157103175113,-4.518088353831,9.68244192228471,-36.2560723172987,-12.0535629809708,-12.551951979995,-7.90751352267908,0.823646282186317,0.356505711741292,-4.50217483112955,-41.0869198818865,-39.5029921385306,-35.9558423869978,-25.2980680584607,-12.9624705962992,-10.2294024473493,-8.88265234785006,-2.52975215010916,3.41103953693483,5.48711398977356,-3.7346337711587,1.37159256939503,-3.86941356154765,1.90501089193874,10.4704401761631,27.2234224730421,20.2113119584339,19.4047818538849,5.66460601637567,3.8434843990502,-4.01267022518479,11.9116587267464,17.7767883227353,12.4429259892432,12.2707095862753,-1.96270772585089,-11.9801468654297,1.95128538998412,-4.99834641693066,28.8101007240316,13.6807376316356,13.4279031752588,-9.73837147218498,7.28834347233177,-26.9795424707877,-50.2278013756437,-57.0433119186431,-58.3565274264648,-50.1822819608467,-35.5135962682099,-13.4397821501118,-52.5021717524072,-44.0952504333918,-12.0504696632351,2.35979798765497,10.4745000059171,9.38855894491363,-3.75821960733397,-48.4898326278607,-48.6960127915172,-49.7433413166114,-39.0829114511128,-10.0092936934856,-9.24835321663394,-6.12553412175131],\"yaxis\":\"y\",\"type\":\"scatter\"}],                        {\"template\":{\"data\":{\"histogram2dcontour\":[{\"type\":\"histogram2dcontour\",\"colorbar\":{\"outlinewidth\":0,\"ticks\":\"\"},\"colorscale\":[[0.0,\"#0d0887\"],[0.1111111111111111,\"#46039f\"],[0.2222222222222222,\"#7201a8\"],[0.3333333333333333,\"#9c179e\"],[0.4444444444444444,\"#bd3786\"],[0.5555555555555556,\"#d8576b\"],[0.6666666666666666,\"#ed7953\"],[0.7777777777777778,\"#fb9f3a\"],[0.8888888888888888,\"#fdca26\"],[1.0,\"#f0f921\"]]}],\"choropleth\":[{\"type\":\"choropleth\",\"colorbar\":{\"outlinewidth\":0,\"ticks\":\"\"}}],\"histogram2d\":[{\"type\":\"histogram2d\",\"colorbar\":{\"outlinewidth\":0,\"ticks\":\"\"},\"colorscale\":[[0.0,\"#0d0887\"],[0.1111111111111111,\"#46039f\"],[0.2222222222222222,\"#7201a8\"],[0.3333333333333333,\"#9c179e\"],[0.4444444444444444,\"#bd3786\"],[0.5555555555555556,\"#d8576b\"],[0.6666666666666666,\"#ed7953\"],[0.7777777777777778,\"#fb9f3a\"],[0.8888888888888888,\"#fdca26\"],[1.0,\"#f0f921\"]]}],\"heatmap\":[{\"type\":\"heatmap\",\"colorbar\":{\"outlinewidth\":0,\"ticks\":\"\"},\"colorscale\":[[0.0,\"#0d0887\"],[0.1111111111111111,\"#46039f\"],[0.2222222222222222,\"#7201a8\"],[0.3333333333333333,\"#9c179e\"],[0.4444444444444444,\"#bd3786\"],[0.5555555555555556,\"#d8576b\"],[0.6666666666666666,\"#ed7953\"],[0.7777777777777778,\"#fb9f3a\"],[0.8888888888888888,\"#fdca26\"],[1.0,\"#f0f921\"]]}],\"heatmapgl\":[{\"type\":\"heatmapgl\",\"colorbar\":{\"outlinewidth\":0,\"ticks\":\"\"},\"colorscale\":[[0.0,\"#0d0887\"],[0.1111111111111111,\"#46039f\"],[0.2222222222222222,\"#7201a8\"],[0.3333333333333333,\"#9c179e\"],[0.4444444444444444,\"#bd3786\"],[0.5555555555555556,\"#d8576b\"],[0.6666666666666666,\"#ed7953\"],[0.7777777777777778,\"#fb9f3a\"],[0.8888888888888888,\"#fdca26\"],[1.0,\"#f0f921\"]]}],\"contourcarpet\":[{\"type\":\"contourcarpet\",\"colorbar\":{\"outlinewidth\":0,\"ticks\":\"\"}}],\"contour\":[{\"type\":\"contour\",\"colorbar\":{\"outlinewidth\":0,\"ticks\":\"\"},\"colorscale\":[[0.0,\"#0d0887\"],[0.1111111111111111,\"#46039f\"],[0.2222222222222222,\"#7201a8\"],[0.3333333333333333,\"#9c179e\"],[0.4444444444444444,\"#bd3786\"],[0.5555555555555556,\"#d8576b\"],[0.6666666666666666,\"#ed7953\"],[0.7777777777777778,\"#fb9f3a\"],[0.8888888888888888,\"#fdca26\"],[1.0,\"#f0f921\"]]}],\"surface\":[{\"type\":\"surface\",\"colorbar\":{\"outlinewidth\":0,\"ticks\":\"\"},\"colorscale\":[[0.0,\"#0d0887\"],[0.1111111111111111,\"#46039f\"],[0.2222222222222222,\"#7201a8\"],[0.3333333333333333,\"#9c179e\"],[0.4444444444444444,\"#bd3786\"],[0.5555555555555556,\"#d8576b\"],[0.6666666666666666,\"#ed7953\"],[0.7777777777777778,\"#fb9f3a\"],[0.8888888888888888,\"#fdca26\"],[1.0,\"#f0f921\"]]}],\"mesh3d\":[{\"type\":\"mesh3d\",\"colorbar\":{\"outlinewidth\":0,\"ticks\":\"\"}}],\"scatter\":[{\"fillpattern\":{\"fillmode\":\"overlay\",\"size\":10,\"solidity\":0.2},\"type\":\"scatter\"}],\"parcoords\":[{\"type\":\"parcoords\",\"line\":{\"colorbar\":{\"outlinewidth\":0,\"ticks\":\"\"}}}],\"scatterpolargl\":[{\"type\":\"scatterpolargl\",\"marker\":{\"colorbar\":{\"outlinewidth\":0,\"ticks\":\"\"}}}],\"bar\":[{\"error_x\":{\"color\":\"#2a3f5f\"},\"error_y\":{\"color\":\"#2a3f5f\"},\"marker\":{\"line\":{\"color\":\"#E5ECF6\",\"width\":0.5},\"pattern\":{\"fillmode\":\"overlay\",\"size\":10,\"solidity\":0.2}},\"type\":\"bar\"}],\"scattergeo\":[{\"type\":\"scattergeo\",\"marker\":{\"colorbar\":{\"outlinewidth\":0,\"ticks\":\"\"}}}],\"scatterpolar\":[{\"type\":\"scatterpolar\",\"marker\":{\"colorbar\":{\"outlinewidth\":0,\"ticks\":\"\"}}}],\"histogram\":[{\"marker\":{\"pattern\":{\"fillmode\":\"overlay\",\"size\":10,\"solidity\":0.2}},\"type\":\"histogram\"}],\"scattergl\":[{\"type\":\"scattergl\",\"marker\":{\"colorbar\":{\"outlinewidth\":0,\"ticks\":\"\"}}}],\"scatter3d\":[{\"type\":\"scatter3d\",\"line\":{\"colorbar\":{\"outlinewidth\":0,\"ticks\":\"\"}},\"marker\":{\"colorbar\":{\"outlinewidth\":0,\"ticks\":\"\"}}}],\"scattermapbox\":[{\"type\":\"scattermapbox\",\"marker\":{\"colorbar\":{\"outlinewidth\":0,\"ticks\":\"\"}}}],\"scatterternary\":[{\"type\":\"scatterternary\",\"marker\":{\"colorbar\":{\"outlinewidth\":0,\"ticks\":\"\"}}}],\"scattercarpet\":[{\"type\":\"scattercarpet\",\"marker\":{\"colorbar\":{\"outlinewidth\":0,\"ticks\":\"\"}}}],\"carpet\":[{\"aaxis\":{\"endlinecolor\":\"#2a3f5f\",\"gridcolor\":\"white\",\"linecolor\":\"white\",\"minorgridcolor\":\"white\",\"startlinecolor\":\"#2a3f5f\"},\"baxis\":{\"endlinecolor\":\"#2a3f5f\",\"gridcolor\":\"white\",\"linecolor\":\"white\",\"minorgridcolor\":\"white\",\"startlinecolor\":\"#2a3f5f\"},\"type\":\"carpet\"}],\"table\":[{\"cells\":{\"fill\":{\"color\":\"#EBF0F8\"},\"line\":{\"color\":\"white\"}},\"header\":{\"fill\":{\"color\":\"#C8D4E3\"},\"line\":{\"color\":\"white\"}},\"type\":\"table\"}],\"barpolar\":[{\"marker\":{\"line\":{\"color\":\"#E5ECF6\",\"width\":0.5},\"pattern\":{\"fillmode\":\"overlay\",\"size\":10,\"solidity\":0.2}},\"type\":\"barpolar\"}],\"pie\":[{\"automargin\":true,\"type\":\"pie\"}]},\"layout\":{\"autotypenumbers\":\"strict\",\"colorway\":[\"#636efa\",\"#EF553B\",\"#00cc96\",\"#ab63fa\",\"#FFA15A\",\"#19d3f3\",\"#FF6692\",\"#B6E880\",\"#FF97FF\",\"#FECB52\"],\"font\":{\"color\":\"#2a3f5f\"},\"hovermode\":\"closest\",\"hoverlabel\":{\"align\":\"left\"},\"paper_bgcolor\":\"white\",\"plot_bgcolor\":\"#E5ECF6\",\"polar\":{\"bgcolor\":\"#E5ECF6\",\"angularaxis\":{\"gridcolor\":\"white\",\"linecolor\":\"white\",\"ticks\":\"\"},\"radialaxis\":{\"gridcolor\":\"white\",\"linecolor\":\"white\",\"ticks\":\"\"}},\"ternary\":{\"bgcolor\":\"#E5ECF6\",\"aaxis\":{\"gridcolor\":\"white\",\"linecolor\":\"white\",\"ticks\":\"\"},\"baxis\":{\"gridcolor\":\"white\",\"linecolor\":\"white\",\"ticks\":\"\"},\"caxis\":{\"gridcolor\":\"white\",\"linecolor\":\"white\",\"ticks\":\"\"}},\"coloraxis\":{\"colorbar\":{\"outlinewidth\":0,\"ticks\":\"\"}},\"colorscale\":{\"sequential\":[[0.0,\"#0d0887\"],[0.1111111111111111,\"#46039f\"],[0.2222222222222222,\"#7201a8\"],[0.3333333333333333,\"#9c179e\"],[0.4444444444444444,\"#bd3786\"],[0.5555555555555556,\"#d8576b\"],[0.6666666666666666,\"#ed7953\"],[0.7777777777777778,\"#fb9f3a\"],[0.8888888888888888,\"#fdca26\"],[1.0,\"#f0f921\"]],\"sequentialminus\":[[0.0,\"#0d0887\"],[0.1111111111111111,\"#46039f\"],[0.2222222222222222,\"#7201a8\"],[0.3333333333333333,\"#9c179e\"],[0.4444444444444444,\"#bd3786\"],[0.5555555555555556,\"#d8576b\"],[0.6666666666666666,\"#ed7953\"],[0.7777777777777778,\"#fb9f3a\"],[0.8888888888888888,\"#fdca26\"],[1.0,\"#f0f921\"]],\"diverging\":[[0,\"#8e0152\"],[0.1,\"#c51b7d\"],[0.2,\"#de77ae\"],[0.3,\"#f1b6da\"],[0.4,\"#fde0ef\"],[0.5,\"#f7f7f7\"],[0.6,\"#e6f5d0\"],[0.7,\"#b8e186\"],[0.8,\"#7fbc41\"],[0.9,\"#4d9221\"],[1,\"#276419\"]]},\"xaxis\":{\"gridcolor\":\"white\",\"linecolor\":\"white\",\"ticks\":\"\",\"title\":{\"standoff\":15},\"zerolinecolor\":\"white\",\"automargin\":true,\"zerolinewidth\":2},\"yaxis\":{\"gridcolor\":\"white\",\"linecolor\":\"white\",\"ticks\":\"\",\"title\":{\"standoff\":15},\"zerolinecolor\":\"white\",\"automargin\":true,\"zerolinewidth\":2},\"scene\":{\"xaxis\":{\"backgroundcolor\":\"#E5ECF6\",\"gridcolor\":\"white\",\"linecolor\":\"white\",\"showbackground\":true,\"ticks\":\"\",\"zerolinecolor\":\"white\",\"gridwidth\":2},\"yaxis\":{\"backgroundcolor\":\"#E5ECF6\",\"gridcolor\":\"white\",\"linecolor\":\"white\",\"showbackground\":true,\"ticks\":\"\",\"zerolinecolor\":\"white\",\"gridwidth\":2},\"zaxis\":{\"backgroundcolor\":\"#E5ECF6\",\"gridcolor\":\"white\",\"linecolor\":\"white\",\"showbackground\":true,\"ticks\":\"\",\"zerolinecolor\":\"white\",\"gridwidth\":2}},\"shapedefaults\":{\"line\":{\"color\":\"#2a3f5f\"}},\"annotationdefaults\":{\"arrowcolor\":\"#2a3f5f\",\"arrowhead\":0,\"arrowwidth\":1},\"geo\":{\"bgcolor\":\"white\",\"landcolor\":\"#E5ECF6\",\"subunitcolor\":\"white\",\"showland\":true,\"showlakes\":true,\"lakecolor\":\"white\"},\"title\":{\"x\":0.05},\"mapbox\":{\"style\":\"light\"}}},\"xaxis\":{\"anchor\":\"y\",\"domain\":[0.0,1.0],\"title\":{\"text\":\"x\"}},\"yaxis\":{\"anchor\":\"x\",\"domain\":[0.0,1.0],\"title\":{\"text\":\"y\"}},\"legend\":{\"tracegroupgap\":0},\"margin\":{\"t\":60}},                        {\"responsive\": true}                    ).then(function(){\n",
       "                            \n",
       "var gd = document.getElementById('a25f0e67-e4af-4f93-81f6-7f756194d320');\n",
       "var x = new MutationObserver(function (mutations, observer) {{\n",
       "        var display = window.getComputedStyle(gd).display;\n",
       "        if (!display || display === 'none') {{\n",
       "            console.log([gd, 'removed!']);\n",
       "            Plotly.purge(gd);\n",
       "            observer.disconnect();\n",
       "        }}\n",
       "}});\n",
       "\n",
       "// Listen for the removal of the full notebook cells\n",
       "var notebookContainer = gd.closest('#notebook-container');\n",
       "if (notebookContainer) {{\n",
       "    x.observe(notebookContainer, {childList: true});\n",
       "}}\n",
       "\n",
       "// Listen for the clearing of the current output cell\n",
       "var outputEl = gd.closest('.output');\n",
       "if (outputEl) {{\n",
       "    x.observe(outputEl, {childList: true});\n",
       "}}\n",
       "\n",
       "                        })                };                });            </script>        </div>"
      ]
     },
     "metadata": {},
     "output_type": "display_data"
    },
    {
     "name": "stdout",
     "output_type": "stream",
     "text": [
      "0.003\n"
     ]
    },
    {
     "data": {
      "application/vnd.plotly.v1+json": {
       "config": {
        "plotlyServerURL": "https://plot.ly"
       },
       "data": [
        {
         "hovertemplate": "x=%{x}<br>y=%{y}<extra></extra>",
         "legendgroup": "",
         "marker": {
          "color": "#636efa",
          "symbol": "circle"
         },
         "mode": "markers",
         "name": "",
         "orientation": "v",
         "showlegend": false,
         "type": "scatter",
         "x": [
          2.14750184185704,
          47.4841390683843,
          49.2299150695185,
          -11.5945148293906,
          -75.9360015389775,
          -25.8074707696035,
          -44.7331286667685,
          -37.2082286902228,
          -25.064523026807,
          -22.3782025132113,
          -19.1691633042879,
          -32.6288879932108,
          -60.114780186909,
          -130.385121194729,
          -195.368025901644,
          -122.913852788009,
          -28.4081042461277,
          -56.5308022565919,
          -76.6499871944664,
          -146.291576065114,
          -231.816655380472,
          -335.560160906707,
          18.9393060425075,
          44.2795351128827,
          36.4525664756189,
          -24.6276916826883,
          -96.8451216409228,
          -118.099198593294,
          -2.81637663594201,
          2.15347403764683,
          50.0070952745995,
          84.6243121221741,
          68.2582049647707,
          0.203232441898045,
          1.72506049535822,
          -32.6630535350042,
          -37.3035259487871,
          -25.8386573022506,
          -21.2378403253327,
          -53.2142888704308,
          -92.8733939374873,
          -8.50392424622896,
          -16.1700114975131,
          -42.0732251158269,
          -64.6745124436798,
          -87.4500617541361,
          -100.292018617133,
          -21.90515487879,
          -45.3133563829842,
          -66.2892578135981,
          -85.6197471995947,
          -103.503272295545,
          -109.434119820115,
          27.374806569336,
          33.5087132157472,
          43.0578025189295,
          49.3175570965397,
          32.3291049154593,
          0.139697376661285,
          -19.2344420044746,
          -0.762220626601823,
          5.14581326045032,
          0.804218709950005,
          -6.69470762724581,
          -9.49421806065884,
          -6.0495054691579,
          7.09188489770104,
          -35.1865204674489,
          -12.7222184877785,
          45.5342213058776,
          24.5346095883182,
          -18.0355573821004,
          -40.5860897066739,
          -7.14781603097567,
          3.83469902872196,
          6.53037497610929,
          21.3698534520319,
          21.3854732519317,
          12.4732083909985,
          -2.76199008135965,
          -6.10912422556221,
          -31.3417035946616,
          -53.7614054137317,
          -29.1340329173043,
          52.1755772835125,
          73.9777025340985,
          11.5585259612802,
          -12.9245878571118,
          -16.7782404924756,
          -36.908699574417,
          -47.4508291676516,
          -37.378161238738,
          -13.7763303885808,
          4.21563327303026,
          -12.1965826560657,
          -26.4656337766609,
          -34.1722231507787,
          -43.9246731471917,
          -34.5931547702252,
          26.4195208059271,
          19.6893285369258,
          4.80573753298282,
          -4.62183782063293,
          -17.2416625334576,
          -60.8014745858497,
          -65.2766635954352,
          -5.32911216239031,
          -20.2875728065975,
          28.2861309285399,
          98.3511951552313,
          109.695883999283,
          -27.0361405385842,
          -18.399542787407,
          -40.8254182072409,
          -74.4942700102371,
          -56.2405373558959,
          -24.420491941991,
          1.37521533079267,
          -8.17109955464718,
          -3.91315178399409,
          17.736887717316,
          26.0285553701618,
          4.13860533363864,
          -36.3266622187231,
          -84.953647823469,
          -9.52950797036574,
          7.49316679881858,
          -3.56386485949412,
          -9.29536864150248,
          -2.87158359094647,
          8.79593077875194,
          0.279194645105692,
          91.2903785377747,
          245.680508190099,
          147.852500347988,
          -333.398363355104,
          18.1049977183792,
          2.64933771447332,
          12.2349321018398,
          16.1726602191609,
          49.1678905161084,
          64.8107276310266,
          -23.3079191693258,
          -1.11124773636647,
          10.7517558131541,
          3.61358726533854,
          2.97226849965935,
          2.32395243810288,
          26.5844836621832,
          4.60124264156806,
          4.04967142344588,
          3.6090683991926,
          -16.0136532038571,
          11.1983251652435,
          185.595072065542,
          153.118972781631,
          -14.6740905463029,
          -41.5832810675895,
          -60.52186031061,
          -52.1609232704205,
          -59.8256173022049,
          -68.8943747746032,
          -63.2504780295876,
          -8.1255212917032,
          -16.2505726702338,
          27.7304059466698,
          40.2918902233396,
          48.5121087481976,
          8.4907027626275,
          16.4686344399138,
          21.6359873602492,
          8.6967962066092,
          9.96425463744121,
          19.007945401119,
          19.2515306899617,
          34.783488464658,
          103.606612275594,
          54.28945958376,
          -31.7197208427964,
          -59.4765673230102,
          -8.70828314373739,
          -29.5737717629498,
          -26.9721683806612,
          -26.1284859875618,
          -10.6917269068906,
          -14.6436703458851,
          -25.7289193504425,
          24.7632819812043,
          22.9709102526846,
          12.3742467471943,
          2.43158264556549,
          -5.29131034468349,
          -6.70040895223394,
          0.59376488933797,
          -53.8983609710537,
          -53.3941575196094,
          -18.1591920787572,
          17.7523602998722,
          19.7650566839199,
          -31.6148655084813,
          3.09826522722874,
          36.273778314806,
          12.8736714701678,
          -25.3124373169658,
          -23.9394772752332,
          10.359691363109,
          -2.7143820846931,
          -12.0026385594107,
          -16.7466437895915,
          -5.92299449742886,
          7.90344186566331,
          15.3895447174775,
          -2.00638414714786,
          -3.18426424321671,
          -32.1205637295744,
          -68.8685583392772,
          -38.2624606800421,
          15.0671667349794,
          35.7026030307567,
          5.23892258329587,
          34.6747094864205,
          45.4358609426539,
          43.8583692216777,
          32.3229772963541,
          20.3649221776227,
          -0.0188955314973192,
          25.7454726383066,
          38.0410417865827,
          33.548873266788,
          5.32355473194868,
          1.28764263090285,
          14.8487932265837,
          14.4436391591434,
          14.9508443588071,
          25.6339290340325,
          12.6580299410414,
          -13.5329721211935,
          -44.5302788479984,
          -7.67896232263274,
          8.07135688453351,
          26.3008261171675,
          47.6099451055679,
          35.7544368213602,
          29.3391173856877,
          18.2399786617518,
          -6.06886715934088,
          -31.4545137640202,
          -19.2430015324229,
          -14.6838014693839,
          -17.6787477950038,
          10.5554946154897,
          44.2264192404722,
          -1.41470396157105,
          31.9966066367172,
          45.8701758793681,
          24.8317119675723,
          13.6271391848378,
          24.6614456689177,
          46.474778891536,
          8.91401810060415,
          30.4979782208895,
          33.047512776431,
          35.6786141802149,
          19.0333354535718,
          -3.24877250929749,
          -8.88884228784867,
          -14.8035867648148,
          -8.32126434856969,
          55.666308913632,
          79.5687004795029,
          29.7426856548714,
          -24.1899670235306,
          -38.9227466689986,
          8.56575279747569,
          4.87579075360165,
          -3.34945300668963,
          -0.726367714126279,
          -3.40828028944828,
          -1.72502482231345,
          -42.2459569154528,
          -49.5452087250248,
          -51.358427590589,
          -34.4312234439545,
          1.51697945914833,
          19.8058439853056,
          19.7847898170204,
          -24.6540068656827,
          -12.1597686729656,
          -14.207755256156,
          -20.6688178003611,
          -25.5909449101397,
          -11.5469258037516,
          1.83602186756024,
          -24.1540897964184,
          -25.5171340757773,
          -1.24654902135889,
          9.38712632540303,
          17.623310348367,
          46.941728404846,
          47.0263614466714
         ],
         "xaxis": "x",
         "y": [
          -28.5049270297964,
          -9.25482758672267,
          11.4671668539991,
          7.58934023489402,
          9.58763822669017,
          -15.1518196851637,
          -5.87177673926499,
          -8.46822092206666,
          0.741882607775409,
          10.1330927721447,
          6.54835252465787,
          10.811868039541,
          12.6219281643371,
          6.29956888272039,
          12.6343506036726,
          8.37572610251672,
          -15.0451246196668,
          -6.72336565331982,
          4.26234932509716,
          5.942712180101,
          9.89783288410401,
          9.0352022196199,
          -26.6454699084329,
          -3.15242209709977,
          -6.04373111345512,
          1.38427498044875,
          5.29863991395953,
          4.83879571456259,
          8.37928775614368,
          23.0479206932275,
          24.9408701733839,
          19.3591165702629,
          11.6613897097151,
          10.4719064565829,
          3.92218475199391,
          -34.4755931114312,
          -16.089442430489,
          4.7353845099716,
          3.48756412292239,
          -1.33168606355351,
          9.24431677514328,
          -4.03825812793281,
          -0.0127628981290471,
          8.27138048245027,
          5.35771851124252,
          1.2114196029454,
          4.38195627002496,
          -18.8707453603393,
          -0.551715053042983,
          9.39275081802253,
          9.28768945993038,
          6.45848647152344,
          4.82659113728171,
          30.6909451334319,
          25.2373241823837,
          18.4790665973891,
          11.5540081403992,
          0.229784449377391,
          2.47691998513882,
          12.4149670547848,
          18.4373561995228,
          21.2291501634753,
          16.7091641834189,
          9.94562677495569,
          3.22261292243179,
          9.89200428704045,
          0.708895352197004,
          -3.98211725441395,
          16.0409834999789,
          30.0416605215649,
          23.4472722314034,
          11.4066187053077,
          9.47480023141833,
          11.1819878591879,
          3.92615914913315,
          11.5082499006972,
          7.1961671331519,
          11.0575202679318,
          2.63924691315003,
          -4.18332712071303,
          -4.24241104142757,
          -17.4487610359417,
          -18.2749604611364,
          -5.55182569588465,
          4.53082553555313,
          -1.84668418087632,
          -21.3694233754034,
          -16.4555042471682,
          -11.1479851829298,
          -5.56827102538198,
          6.07744735730633,
          3.73839010276141,
          11.605745514651,
          19.2636802391597,
          14.7122203837527,
          12.1721202738655,
          8.72077183828306,
          3.31220099860487,
          -1.49702096509486,
          21.8365272778885,
          21.2591079096366,
          15.0676322875762,
          3.89333430618714,
          5.05291216149951,
          3.33622937858128,
          2.21864320518497,
          -18.1507321219336,
          0.856322359568757,
          11.0652844658975,
          12.2714246344804,
          3.85697190263608,
          -9.89099315306677,
          5.21497704641241,
          9.52045057689419,
          9.79365752258444,
          1.1024825201909,
          -1.71230458541824,
          4.90039330372656,
          8.4243192521195,
          23.2538803011038,
          24.4495894792066,
          23.5314418237451,
          16.6141099431489,
          15.2397849982149,
          8.15505807001882,
          -26.5110267238868,
          -17.8152337154357,
          9.80399393403288,
          15.9633075590017,
          13.5482285540048,
          10.9674472107934,
          6.78351626174026,
          -3.25398526380206,
          1.65449380998911,
          3.47109709489284,
          -1.1296862328614,
          17.0730891496859,
          21.6795579166217,
          13.7449889112552,
          9.62551921736708,
          13.3988312631259,
          -1.64456137647596,
          0.993417662231074,
          10.2818813266411,
          2.599677175552,
          5.12380249440302,
          5.00912516639245,
          4.61815966524337,
          8.46504117152728,
          -23.9314464232278,
          -4.41731044544183,
          5.57465443021681,
          0.567473425103259,
          -1.13660719955666,
          0.185764216228179,
          -9.9239380907812,
          -8.04909511868244,
          3.84648309854933,
          2.6929578115302,
          7.25886257423875,
          2.81361736961685,
          -2.80076163335877,
          -10.5757565048856,
          -38.9150196904867,
          -31.278943617524,
          -18.8165735819026,
          -11.0400607928447,
          4.86988216916696,
          17.7437549399728,
          16.5289069852287,
          12.946825691979,
          -1.63153636761816,
          -1.80806059501236,
          -13.9509001980534,
          -10.0043985817277,
          -12.512797331177,
          -11.3454755957477,
          -14.1703929246025,
          -1.05755204807478,
          -14.2264928381315,
          -34.7316848566607,
          -20.6721823576364,
          -18.2617804704502,
          -25.9283818488343,
          -34.5742404113454,
          -21.7972464147065,
          -18.2935443042901,
          22.2299535695349,
          20.73929397058,
          9.00266639309591,
          5.77567274571874,
          -0.644556149337319,
          -8.92528699682843,
          -3.98722834437007,
          -22.8235369191641,
          -7.41260620087782,
          13.8272879385427,
          -4.2290049998272,
          -0.0270334033766204,
          -27.3990135988523,
          -24.1554222699767,
          -22.3237617521358,
          -26.9540753816885,
          -16.960289825746,
          -4.71267587554884,
          12.4237544570511,
          14.8579946883421,
          10.6349683914764,
          -1.60109759508604,
          -6.24960816270303,
          -4.50889803630838,
          1.01976111716961,
          -8.4389711036406,
          -8.68982246625474,
          -5.33832385300232,
          -4.43109245897922,
          -4.14791324744876,
          -2.52738802090012,
          -4.8719697508324,
          -23.4720343953901,
          -3.06056319558062,
          0.0503487435044363,
          3.28045109881901,
          -1.67426150938228,
          3.87182415324629,
          -1.92379265596195,
          -7.0843810349917,
          -5.49582485690637,
          -5.06859872141715,
          -0.768457708663192,
          -6.89530476303518,
          16.8890853854461,
          22.0141609687897,
          25.0574612501309,
          6.92384018522601,
          -1.86157103175113,
          -4.518088353831,
          9.68244192228471,
          -36.2560723172987,
          -12.0535629809708,
          -12.551951979995,
          -7.90751352267908,
          0.823646282186317,
          0.356505711741292,
          -4.50217483112955,
          -41.0869198818865,
          -39.5029921385306,
          -35.9558423869978,
          -25.2980680584607,
          -12.9624705962992,
          -10.2294024473493,
          -8.88265234785006,
          -2.52975215010916,
          3.41103953693483,
          5.48711398977356,
          -3.7346337711587,
          1.37159256939503,
          -3.86941356154765,
          1.90501089193874,
          10.4704401761631,
          27.2234224730421,
          20.2113119584339,
          19.4047818538849,
          5.66460601637567,
          3.8434843990502,
          -4.01267022518479,
          11.9116587267464,
          17.7767883227353,
          12.4429259892432,
          12.2707095862753,
          -1.96270772585089,
          -11.9801468654297,
          1.95128538998412,
          -4.99834641693066,
          28.8101007240316,
          13.6807376316356,
          13.4279031752588,
          -9.73837147218498,
          7.28834347233177,
          -26.9795424707877,
          -50.2278013756437,
          -57.0433119186431,
          -58.3565274264648,
          -50.1822819608467,
          -35.5135962682099,
          -13.4397821501118,
          -52.5021717524072,
          -44.0952504333918,
          -12.0504696632351,
          2.35979798765497,
          10.4745000059171,
          9.38855894491363,
          -3.75821960733397,
          -48.4898326278607,
          -48.6960127915172,
          -49.7433413166114,
          -39.0829114511128,
          -10.0092936934856,
          -9.24835321663394,
          -6.12553412175131
         ],
         "yaxis": "y"
        }
       ],
       "layout": {
        "legend": {
         "tracegroupgap": 0
        },
        "margin": {
         "t": 60
        },
        "template": {
         "data": {
          "bar": [
           {
            "error_x": {
             "color": "#2a3f5f"
            },
            "error_y": {
             "color": "#2a3f5f"
            },
            "marker": {
             "line": {
              "color": "#E5ECF6",
              "width": 0.5
             },
             "pattern": {
              "fillmode": "overlay",
              "size": 10,
              "solidity": 0.2
             }
            },
            "type": "bar"
           }
          ],
          "barpolar": [
           {
            "marker": {
             "line": {
              "color": "#E5ECF6",
              "width": 0.5
             },
             "pattern": {
              "fillmode": "overlay",
              "size": 10,
              "solidity": 0.2
             }
            },
            "type": "barpolar"
           }
          ],
          "carpet": [
           {
            "aaxis": {
             "endlinecolor": "#2a3f5f",
             "gridcolor": "white",
             "linecolor": "white",
             "minorgridcolor": "white",
             "startlinecolor": "#2a3f5f"
            },
            "baxis": {
             "endlinecolor": "#2a3f5f",
             "gridcolor": "white",
             "linecolor": "white",
             "minorgridcolor": "white",
             "startlinecolor": "#2a3f5f"
            },
            "type": "carpet"
           }
          ],
          "choropleth": [
           {
            "colorbar": {
             "outlinewidth": 0,
             "ticks": ""
            },
            "type": "choropleth"
           }
          ],
          "contour": [
           {
            "colorbar": {
             "outlinewidth": 0,
             "ticks": ""
            },
            "colorscale": [
             [
              0,
              "#0d0887"
             ],
             [
              0.1111111111111111,
              "#46039f"
             ],
             [
              0.2222222222222222,
              "#7201a8"
             ],
             [
              0.3333333333333333,
              "#9c179e"
             ],
             [
              0.4444444444444444,
              "#bd3786"
             ],
             [
              0.5555555555555556,
              "#d8576b"
             ],
             [
              0.6666666666666666,
              "#ed7953"
             ],
             [
              0.7777777777777778,
              "#fb9f3a"
             ],
             [
              0.8888888888888888,
              "#fdca26"
             ],
             [
              1,
              "#f0f921"
             ]
            ],
            "type": "contour"
           }
          ],
          "contourcarpet": [
           {
            "colorbar": {
             "outlinewidth": 0,
             "ticks": ""
            },
            "type": "contourcarpet"
           }
          ],
          "heatmap": [
           {
            "colorbar": {
             "outlinewidth": 0,
             "ticks": ""
            },
            "colorscale": [
             [
              0,
              "#0d0887"
             ],
             [
              0.1111111111111111,
              "#46039f"
             ],
             [
              0.2222222222222222,
              "#7201a8"
             ],
             [
              0.3333333333333333,
              "#9c179e"
             ],
             [
              0.4444444444444444,
              "#bd3786"
             ],
             [
              0.5555555555555556,
              "#d8576b"
             ],
             [
              0.6666666666666666,
              "#ed7953"
             ],
             [
              0.7777777777777778,
              "#fb9f3a"
             ],
             [
              0.8888888888888888,
              "#fdca26"
             ],
             [
              1,
              "#f0f921"
             ]
            ],
            "type": "heatmap"
           }
          ],
          "heatmapgl": [
           {
            "colorbar": {
             "outlinewidth": 0,
             "ticks": ""
            },
            "colorscale": [
             [
              0,
              "#0d0887"
             ],
             [
              0.1111111111111111,
              "#46039f"
             ],
             [
              0.2222222222222222,
              "#7201a8"
             ],
             [
              0.3333333333333333,
              "#9c179e"
             ],
             [
              0.4444444444444444,
              "#bd3786"
             ],
             [
              0.5555555555555556,
              "#d8576b"
             ],
             [
              0.6666666666666666,
              "#ed7953"
             ],
             [
              0.7777777777777778,
              "#fb9f3a"
             ],
             [
              0.8888888888888888,
              "#fdca26"
             ],
             [
              1,
              "#f0f921"
             ]
            ],
            "type": "heatmapgl"
           }
          ],
          "histogram": [
           {
            "marker": {
             "pattern": {
              "fillmode": "overlay",
              "size": 10,
              "solidity": 0.2
             }
            },
            "type": "histogram"
           }
          ],
          "histogram2d": [
           {
            "colorbar": {
             "outlinewidth": 0,
             "ticks": ""
            },
            "colorscale": [
             [
              0,
              "#0d0887"
             ],
             [
              0.1111111111111111,
              "#46039f"
             ],
             [
              0.2222222222222222,
              "#7201a8"
             ],
             [
              0.3333333333333333,
              "#9c179e"
             ],
             [
              0.4444444444444444,
              "#bd3786"
             ],
             [
              0.5555555555555556,
              "#d8576b"
             ],
             [
              0.6666666666666666,
              "#ed7953"
             ],
             [
              0.7777777777777778,
              "#fb9f3a"
             ],
             [
              0.8888888888888888,
              "#fdca26"
             ],
             [
              1,
              "#f0f921"
             ]
            ],
            "type": "histogram2d"
           }
          ],
          "histogram2dcontour": [
           {
            "colorbar": {
             "outlinewidth": 0,
             "ticks": ""
            },
            "colorscale": [
             [
              0,
              "#0d0887"
             ],
             [
              0.1111111111111111,
              "#46039f"
             ],
             [
              0.2222222222222222,
              "#7201a8"
             ],
             [
              0.3333333333333333,
              "#9c179e"
             ],
             [
              0.4444444444444444,
              "#bd3786"
             ],
             [
              0.5555555555555556,
              "#d8576b"
             ],
             [
              0.6666666666666666,
              "#ed7953"
             ],
             [
              0.7777777777777778,
              "#fb9f3a"
             ],
             [
              0.8888888888888888,
              "#fdca26"
             ],
             [
              1,
              "#f0f921"
             ]
            ],
            "type": "histogram2dcontour"
           }
          ],
          "mesh3d": [
           {
            "colorbar": {
             "outlinewidth": 0,
             "ticks": ""
            },
            "type": "mesh3d"
           }
          ],
          "parcoords": [
           {
            "line": {
             "colorbar": {
              "outlinewidth": 0,
              "ticks": ""
             }
            },
            "type": "parcoords"
           }
          ],
          "pie": [
           {
            "automargin": true,
            "type": "pie"
           }
          ],
          "scatter": [
           {
            "fillpattern": {
             "fillmode": "overlay",
             "size": 10,
             "solidity": 0.2
            },
            "type": "scatter"
           }
          ],
          "scatter3d": [
           {
            "line": {
             "colorbar": {
              "outlinewidth": 0,
              "ticks": ""
             }
            },
            "marker": {
             "colorbar": {
              "outlinewidth": 0,
              "ticks": ""
             }
            },
            "type": "scatter3d"
           }
          ],
          "scattercarpet": [
           {
            "marker": {
             "colorbar": {
              "outlinewidth": 0,
              "ticks": ""
             }
            },
            "type": "scattercarpet"
           }
          ],
          "scattergeo": [
           {
            "marker": {
             "colorbar": {
              "outlinewidth": 0,
              "ticks": ""
             }
            },
            "type": "scattergeo"
           }
          ],
          "scattergl": [
           {
            "marker": {
             "colorbar": {
              "outlinewidth": 0,
              "ticks": ""
             }
            },
            "type": "scattergl"
           }
          ],
          "scattermapbox": [
           {
            "marker": {
             "colorbar": {
              "outlinewidth": 0,
              "ticks": ""
             }
            },
            "type": "scattermapbox"
           }
          ],
          "scatterpolar": [
           {
            "marker": {
             "colorbar": {
              "outlinewidth": 0,
              "ticks": ""
             }
            },
            "type": "scatterpolar"
           }
          ],
          "scatterpolargl": [
           {
            "marker": {
             "colorbar": {
              "outlinewidth": 0,
              "ticks": ""
             }
            },
            "type": "scatterpolargl"
           }
          ],
          "scatterternary": [
           {
            "marker": {
             "colorbar": {
              "outlinewidth": 0,
              "ticks": ""
             }
            },
            "type": "scatterternary"
           }
          ],
          "surface": [
           {
            "colorbar": {
             "outlinewidth": 0,
             "ticks": ""
            },
            "colorscale": [
             [
              0,
              "#0d0887"
             ],
             [
              0.1111111111111111,
              "#46039f"
             ],
             [
              0.2222222222222222,
              "#7201a8"
             ],
             [
              0.3333333333333333,
              "#9c179e"
             ],
             [
              0.4444444444444444,
              "#bd3786"
             ],
             [
              0.5555555555555556,
              "#d8576b"
             ],
             [
              0.6666666666666666,
              "#ed7953"
             ],
             [
              0.7777777777777778,
              "#fb9f3a"
             ],
             [
              0.8888888888888888,
              "#fdca26"
             ],
             [
              1,
              "#f0f921"
             ]
            ],
            "type": "surface"
           }
          ],
          "table": [
           {
            "cells": {
             "fill": {
              "color": "#EBF0F8"
             },
             "line": {
              "color": "white"
             }
            },
            "header": {
             "fill": {
              "color": "#C8D4E3"
             },
             "line": {
              "color": "white"
             }
            },
            "type": "table"
           }
          ]
         },
         "layout": {
          "annotationdefaults": {
           "arrowcolor": "#2a3f5f",
           "arrowhead": 0,
           "arrowwidth": 1
          },
          "autotypenumbers": "strict",
          "coloraxis": {
           "colorbar": {
            "outlinewidth": 0,
            "ticks": ""
           }
          },
          "colorscale": {
           "diverging": [
            [
             0,
             "#8e0152"
            ],
            [
             0.1,
             "#c51b7d"
            ],
            [
             0.2,
             "#de77ae"
            ],
            [
             0.3,
             "#f1b6da"
            ],
            [
             0.4,
             "#fde0ef"
            ],
            [
             0.5,
             "#f7f7f7"
            ],
            [
             0.6,
             "#e6f5d0"
            ],
            [
             0.7,
             "#b8e186"
            ],
            [
             0.8,
             "#7fbc41"
            ],
            [
             0.9,
             "#4d9221"
            ],
            [
             1,
             "#276419"
            ]
           ],
           "sequential": [
            [
             0,
             "#0d0887"
            ],
            [
             0.1111111111111111,
             "#46039f"
            ],
            [
             0.2222222222222222,
             "#7201a8"
            ],
            [
             0.3333333333333333,
             "#9c179e"
            ],
            [
             0.4444444444444444,
             "#bd3786"
            ],
            [
             0.5555555555555556,
             "#d8576b"
            ],
            [
             0.6666666666666666,
             "#ed7953"
            ],
            [
             0.7777777777777778,
             "#fb9f3a"
            ],
            [
             0.8888888888888888,
             "#fdca26"
            ],
            [
             1,
             "#f0f921"
            ]
           ],
           "sequentialminus": [
            [
             0,
             "#0d0887"
            ],
            [
             0.1111111111111111,
             "#46039f"
            ],
            [
             0.2222222222222222,
             "#7201a8"
            ],
            [
             0.3333333333333333,
             "#9c179e"
            ],
            [
             0.4444444444444444,
             "#bd3786"
            ],
            [
             0.5555555555555556,
             "#d8576b"
            ],
            [
             0.6666666666666666,
             "#ed7953"
            ],
            [
             0.7777777777777778,
             "#fb9f3a"
            ],
            [
             0.8888888888888888,
             "#fdca26"
            ],
            [
             1,
             "#f0f921"
            ]
           ]
          },
          "colorway": [
           "#636efa",
           "#EF553B",
           "#00cc96",
           "#ab63fa",
           "#FFA15A",
           "#19d3f3",
           "#FF6692",
           "#B6E880",
           "#FF97FF",
           "#FECB52"
          ],
          "font": {
           "color": "#2a3f5f"
          },
          "geo": {
           "bgcolor": "white",
           "lakecolor": "white",
           "landcolor": "#E5ECF6",
           "showlakes": true,
           "showland": true,
           "subunitcolor": "white"
          },
          "hoverlabel": {
           "align": "left"
          },
          "hovermode": "closest",
          "mapbox": {
           "style": "light"
          },
          "paper_bgcolor": "white",
          "plot_bgcolor": "#E5ECF6",
          "polar": {
           "angularaxis": {
            "gridcolor": "white",
            "linecolor": "white",
            "ticks": ""
           },
           "bgcolor": "#E5ECF6",
           "radialaxis": {
            "gridcolor": "white",
            "linecolor": "white",
            "ticks": ""
           }
          },
          "scene": {
           "xaxis": {
            "backgroundcolor": "#E5ECF6",
            "gridcolor": "white",
            "gridwidth": 2,
            "linecolor": "white",
            "showbackground": true,
            "ticks": "",
            "zerolinecolor": "white"
           },
           "yaxis": {
            "backgroundcolor": "#E5ECF6",
            "gridcolor": "white",
            "gridwidth": 2,
            "linecolor": "white",
            "showbackground": true,
            "ticks": "",
            "zerolinecolor": "white"
           },
           "zaxis": {
            "backgroundcolor": "#E5ECF6",
            "gridcolor": "white",
            "gridwidth": 2,
            "linecolor": "white",
            "showbackground": true,
            "ticks": "",
            "zerolinecolor": "white"
           }
          },
          "shapedefaults": {
           "line": {
            "color": "#2a3f5f"
           }
          },
          "ternary": {
           "aaxis": {
            "gridcolor": "white",
            "linecolor": "white",
            "ticks": ""
           },
           "baxis": {
            "gridcolor": "white",
            "linecolor": "white",
            "ticks": ""
           },
           "bgcolor": "#E5ECF6",
           "caxis": {
            "gridcolor": "white",
            "linecolor": "white",
            "ticks": ""
           }
          },
          "title": {
           "x": 0.05
          },
          "xaxis": {
           "automargin": true,
           "gridcolor": "white",
           "linecolor": "white",
           "ticks": "",
           "title": {
            "standoff": 15
           },
           "zerolinecolor": "white",
           "zerolinewidth": 2
          },
          "yaxis": {
           "automargin": true,
           "gridcolor": "white",
           "linecolor": "white",
           "ticks": "",
           "title": {
            "standoff": 15
           },
           "zerolinecolor": "white",
           "zerolinewidth": 2
          }
         }
        },
        "xaxis": {
         "anchor": "y",
         "domain": [
          0,
          1
         ],
         "title": {
          "text": "x"
         }
        },
        "yaxis": {
         "anchor": "x",
         "domain": [
          0,
          1
         ],
         "title": {
          "text": "y"
         }
        }
       }
      },
      "text/html": [
       "<div>                            <div id=\"1f40153c-8a3d-4923-a59d-38c2c8189a50\" class=\"plotly-graph-div\" style=\"height:525px; width:100%;\"></div>            <script type=\"text/javascript\">                require([\"plotly\"], function(Plotly) {                    window.PLOTLYENV=window.PLOTLYENV || {};                                    if (document.getElementById(\"1f40153c-8a3d-4923-a59d-38c2c8189a50\")) {                    Plotly.newPlot(                        \"1f40153c-8a3d-4923-a59d-38c2c8189a50\",                        [{\"hovertemplate\":\"x=%{x}\\u003cbr\\u003ey=%{y}\\u003cextra\\u003e\\u003c\\u002fextra\\u003e\",\"legendgroup\":\"\",\"marker\":{\"color\":\"#636efa\",\"symbol\":\"circle\"},\"mode\":\"markers\",\"name\":\"\",\"orientation\":\"v\",\"showlegend\":false,\"x\":[2.14750184185704,47.4841390683843,49.2299150695185,-11.5945148293906,-75.9360015389775,-25.8074707696035,-44.7331286667685,-37.2082286902228,-25.064523026807,-22.3782025132113,-19.1691633042879,-32.6288879932108,-60.114780186909,-130.385121194729,-195.368025901644,-122.913852788009,-28.4081042461277,-56.5308022565919,-76.6499871944664,-146.291576065114,-231.816655380472,-335.560160906707,18.9393060425075,44.2795351128827,36.4525664756189,-24.6276916826883,-96.8451216409228,-118.099198593294,-2.81637663594201,2.15347403764683,50.0070952745995,84.6243121221741,68.2582049647707,0.203232441898045,1.72506049535822,-32.6630535350042,-37.3035259487871,-25.8386573022506,-21.2378403253327,-53.2142888704308,-92.8733939374873,-8.50392424622896,-16.1700114975131,-42.0732251158269,-64.6745124436798,-87.4500617541361,-100.292018617133,-21.90515487879,-45.3133563829842,-66.2892578135981,-85.6197471995947,-103.503272295545,-109.434119820115,27.374806569336,33.5087132157472,43.0578025189295,49.3175570965397,32.3291049154593,0.139697376661285,-19.2344420044746,-0.762220626601823,5.14581326045032,0.804218709950005,-6.69470762724581,-9.49421806065884,-6.0495054691579,7.09188489770104,-35.1865204674489,-12.7222184877785,45.5342213058776,24.5346095883182,-18.0355573821004,-40.5860897066739,-7.14781603097567,3.83469902872196,6.53037497610929,21.3698534520319,21.3854732519317,12.4732083909985,-2.76199008135965,-6.10912422556221,-31.3417035946616,-53.7614054137317,-29.1340329173043,52.1755772835125,73.9777025340985,11.5585259612802,-12.9245878571118,-16.7782404924756,-36.908699574417,-47.4508291676516,-37.378161238738,-13.7763303885808,4.21563327303026,-12.1965826560657,-26.4656337766609,-34.1722231507787,-43.9246731471917,-34.5931547702252,26.4195208059271,19.6893285369258,4.80573753298282,-4.62183782063293,-17.2416625334576,-60.8014745858497,-65.2766635954352,-5.32911216239031,-20.2875728065975,28.2861309285399,98.3511951552313,109.695883999283,-27.0361405385842,-18.399542787407,-40.8254182072409,-74.4942700102371,-56.2405373558959,-24.420491941991,1.37521533079267,-8.17109955464718,-3.91315178399409,17.736887717316,26.0285553701618,4.13860533363864,-36.3266622187231,-84.953647823469,-9.52950797036574,7.49316679881858,-3.56386485949412,-9.29536864150248,-2.87158359094647,8.79593077875194,0.279194645105692,91.2903785377747,245.680508190099,147.852500347988,-333.398363355104,18.1049977183792,2.64933771447332,12.2349321018398,16.1726602191609,49.1678905161084,64.8107276310266,-23.3079191693258,-1.11124773636647,10.7517558131541,3.61358726533854,2.97226849965935,2.32395243810288,26.5844836621832,4.60124264156806,4.04967142344588,3.6090683991926,-16.0136532038571,11.1983251652435,185.595072065542,153.118972781631,-14.6740905463029,-41.5832810675895,-60.52186031061,-52.1609232704205,-59.8256173022049,-68.8943747746032,-63.2504780295876,-8.1255212917032,-16.2505726702338,27.7304059466698,40.2918902233396,48.5121087481976,8.4907027626275,16.4686344399138,21.6359873602492,8.6967962066092,9.96425463744121,19.007945401119,19.2515306899617,34.783488464658,103.606612275594,54.28945958376,-31.7197208427964,-59.4765673230102,-8.70828314373739,-29.5737717629498,-26.9721683806612,-26.1284859875618,-10.6917269068906,-14.6436703458851,-25.7289193504425,24.7632819812043,22.9709102526846,12.3742467471943,2.43158264556549,-5.29131034468349,-6.70040895223394,0.59376488933797,-53.8983609710537,-53.3941575196094,-18.1591920787572,17.7523602998722,19.7650566839199,-31.6148655084813,3.09826522722874,36.273778314806,12.8736714701678,-25.3124373169658,-23.9394772752332,10.359691363109,-2.7143820846931,-12.0026385594107,-16.7466437895915,-5.92299449742886,7.90344186566331,15.3895447174775,-2.00638414714786,-3.18426424321671,-32.1205637295744,-68.8685583392772,-38.2624606800421,15.0671667349794,35.7026030307567,5.23892258329587,34.6747094864205,45.4358609426539,43.8583692216777,32.3229772963541,20.3649221776227,-0.0188955314973192,25.7454726383066,38.0410417865827,33.548873266788,5.32355473194868,1.28764263090285,14.8487932265837,14.4436391591434,14.9508443588071,25.6339290340325,12.6580299410414,-13.5329721211935,-44.5302788479984,-7.67896232263274,8.07135688453351,26.3008261171675,47.6099451055679,35.7544368213602,29.3391173856877,18.2399786617518,-6.06886715934088,-31.4545137640202,-19.2430015324229,-14.6838014693839,-17.6787477950038,10.5554946154897,44.2264192404722,-1.41470396157105,31.9966066367172,45.8701758793681,24.8317119675723,13.6271391848378,24.6614456689177,46.474778891536,8.91401810060415,30.4979782208895,33.047512776431,35.6786141802149,19.0333354535718,-3.24877250929749,-8.88884228784867,-14.8035867648148,-8.32126434856969,55.666308913632,79.5687004795029,29.7426856548714,-24.1899670235306,-38.9227466689986,8.56575279747569,4.87579075360165,-3.34945300668963,-0.726367714126279,-3.40828028944828,-1.72502482231345,-42.2459569154528,-49.5452087250248,-51.358427590589,-34.4312234439545,1.51697945914833,19.8058439853056,19.7847898170204,-24.6540068656827,-12.1597686729656,-14.207755256156,-20.6688178003611,-25.5909449101397,-11.5469258037516,1.83602186756024,-24.1540897964184,-25.5171340757773,-1.24654902135889,9.38712632540303,17.623310348367,46.941728404846,47.0263614466714],\"xaxis\":\"x\",\"y\":[-28.5049270297964,-9.25482758672267,11.4671668539991,7.58934023489402,9.58763822669017,-15.1518196851637,-5.87177673926499,-8.46822092206666,0.741882607775409,10.1330927721447,6.54835252465787,10.811868039541,12.6219281643371,6.29956888272039,12.6343506036726,8.37572610251672,-15.0451246196668,-6.72336565331982,4.26234932509716,5.942712180101,9.89783288410401,9.0352022196199,-26.6454699084329,-3.15242209709977,-6.04373111345512,1.38427498044875,5.29863991395953,4.83879571456259,8.37928775614368,23.0479206932275,24.9408701733839,19.3591165702629,11.6613897097151,10.4719064565829,3.92218475199391,-34.4755931114312,-16.089442430489,4.7353845099716,3.48756412292239,-1.33168606355351,9.24431677514328,-4.03825812793281,-0.0127628981290471,8.27138048245027,5.35771851124252,1.2114196029454,4.38195627002496,-18.8707453603393,-0.551715053042983,9.39275081802253,9.28768945993038,6.45848647152344,4.82659113728171,30.6909451334319,25.2373241823837,18.4790665973891,11.5540081403992,0.229784449377391,2.47691998513882,12.4149670547848,18.4373561995228,21.2291501634753,16.7091641834189,9.94562677495569,3.22261292243179,9.89200428704045,0.708895352197004,-3.98211725441395,16.0409834999789,30.0416605215649,23.4472722314034,11.4066187053077,9.47480023141833,11.1819878591879,3.92615914913315,11.5082499006972,7.1961671331519,11.0575202679318,2.63924691315003,-4.18332712071303,-4.24241104142757,-17.4487610359417,-18.2749604611364,-5.55182569588465,4.53082553555313,-1.84668418087632,-21.3694233754034,-16.4555042471682,-11.1479851829298,-5.56827102538198,6.07744735730633,3.73839010276141,11.605745514651,19.2636802391597,14.7122203837527,12.1721202738655,8.72077183828306,3.31220099860487,-1.49702096509486,21.8365272778885,21.2591079096366,15.0676322875762,3.89333430618714,5.05291216149951,3.33622937858128,2.21864320518497,-18.1507321219336,0.856322359568757,11.0652844658975,12.2714246344804,3.85697190263608,-9.89099315306677,5.21497704641241,9.52045057689419,9.79365752258444,1.1024825201909,-1.71230458541824,4.90039330372656,8.4243192521195,23.2538803011038,24.4495894792066,23.5314418237451,16.6141099431489,15.2397849982149,8.15505807001882,-26.5110267238868,-17.8152337154357,9.80399393403288,15.9633075590017,13.5482285540048,10.9674472107934,6.78351626174026,-3.25398526380206,1.65449380998911,3.47109709489284,-1.1296862328614,17.0730891496859,21.6795579166217,13.7449889112552,9.62551921736708,13.3988312631259,-1.64456137647596,0.993417662231074,10.2818813266411,2.599677175552,5.12380249440302,5.00912516639245,4.61815966524337,8.46504117152728,-23.9314464232278,-4.41731044544183,5.57465443021681,0.567473425103259,-1.13660719955666,0.185764216228179,-9.9239380907812,-8.04909511868244,3.84648309854933,2.6929578115302,7.25886257423875,2.81361736961685,-2.80076163335877,-10.5757565048856,-38.9150196904867,-31.278943617524,-18.8165735819026,-11.0400607928447,4.86988216916696,17.7437549399728,16.5289069852287,12.946825691979,-1.63153636761816,-1.80806059501236,-13.9509001980534,-10.0043985817277,-12.512797331177,-11.3454755957477,-14.1703929246025,-1.05755204807478,-14.2264928381315,-34.7316848566607,-20.6721823576364,-18.2617804704502,-25.9283818488343,-34.5742404113454,-21.7972464147065,-18.2935443042901,22.2299535695349,20.73929397058,9.00266639309591,5.77567274571874,-0.644556149337319,-8.92528699682843,-3.98722834437007,-22.8235369191641,-7.41260620087782,13.8272879385427,-4.2290049998272,-0.0270334033766204,-27.3990135988523,-24.1554222699767,-22.3237617521358,-26.9540753816885,-16.960289825746,-4.71267587554884,12.4237544570511,14.8579946883421,10.6349683914764,-1.60109759508604,-6.24960816270303,-4.50889803630838,1.01976111716961,-8.4389711036406,-8.68982246625474,-5.33832385300232,-4.43109245897922,-4.14791324744876,-2.52738802090012,-4.8719697508324,-23.4720343953901,-3.06056319558062,0.0503487435044363,3.28045109881901,-1.67426150938228,3.87182415324629,-1.92379265596195,-7.0843810349917,-5.49582485690637,-5.06859872141715,-0.768457708663192,-6.89530476303518,16.8890853854461,22.0141609687897,25.0574612501309,6.92384018522601,-1.86157103175113,-4.518088353831,9.68244192228471,-36.2560723172987,-12.0535629809708,-12.551951979995,-7.90751352267908,0.823646282186317,0.356505711741292,-4.50217483112955,-41.0869198818865,-39.5029921385306,-35.9558423869978,-25.2980680584607,-12.9624705962992,-10.2294024473493,-8.88265234785006,-2.52975215010916,3.41103953693483,5.48711398977356,-3.7346337711587,1.37159256939503,-3.86941356154765,1.90501089193874,10.4704401761631,27.2234224730421,20.2113119584339,19.4047818538849,5.66460601637567,3.8434843990502,-4.01267022518479,11.9116587267464,17.7767883227353,12.4429259892432,12.2707095862753,-1.96270772585089,-11.9801468654297,1.95128538998412,-4.99834641693066,28.8101007240316,13.6807376316356,13.4279031752588,-9.73837147218498,7.28834347233177,-26.9795424707877,-50.2278013756437,-57.0433119186431,-58.3565274264648,-50.1822819608467,-35.5135962682099,-13.4397821501118,-52.5021717524072,-44.0952504333918,-12.0504696632351,2.35979798765497,10.4745000059171,9.38855894491363,-3.75821960733397,-48.4898326278607,-48.6960127915172,-49.7433413166114,-39.0829114511128,-10.0092936934856,-9.24835321663394,-6.12553412175131],\"yaxis\":\"y\",\"type\":\"scatter\"}],                        {\"template\":{\"data\":{\"histogram2dcontour\":[{\"type\":\"histogram2dcontour\",\"colorbar\":{\"outlinewidth\":0,\"ticks\":\"\"},\"colorscale\":[[0.0,\"#0d0887\"],[0.1111111111111111,\"#46039f\"],[0.2222222222222222,\"#7201a8\"],[0.3333333333333333,\"#9c179e\"],[0.4444444444444444,\"#bd3786\"],[0.5555555555555556,\"#d8576b\"],[0.6666666666666666,\"#ed7953\"],[0.7777777777777778,\"#fb9f3a\"],[0.8888888888888888,\"#fdca26\"],[1.0,\"#f0f921\"]]}],\"choropleth\":[{\"type\":\"choropleth\",\"colorbar\":{\"outlinewidth\":0,\"ticks\":\"\"}}],\"histogram2d\":[{\"type\":\"histogram2d\",\"colorbar\":{\"outlinewidth\":0,\"ticks\":\"\"},\"colorscale\":[[0.0,\"#0d0887\"],[0.1111111111111111,\"#46039f\"],[0.2222222222222222,\"#7201a8\"],[0.3333333333333333,\"#9c179e\"],[0.4444444444444444,\"#bd3786\"],[0.5555555555555556,\"#d8576b\"],[0.6666666666666666,\"#ed7953\"],[0.7777777777777778,\"#fb9f3a\"],[0.8888888888888888,\"#fdca26\"],[1.0,\"#f0f921\"]]}],\"heatmap\":[{\"type\":\"heatmap\",\"colorbar\":{\"outlinewidth\":0,\"ticks\":\"\"},\"colorscale\":[[0.0,\"#0d0887\"],[0.1111111111111111,\"#46039f\"],[0.2222222222222222,\"#7201a8\"],[0.3333333333333333,\"#9c179e\"],[0.4444444444444444,\"#bd3786\"],[0.5555555555555556,\"#d8576b\"],[0.6666666666666666,\"#ed7953\"],[0.7777777777777778,\"#fb9f3a\"],[0.8888888888888888,\"#fdca26\"],[1.0,\"#f0f921\"]]}],\"heatmapgl\":[{\"type\":\"heatmapgl\",\"colorbar\":{\"outlinewidth\":0,\"ticks\":\"\"},\"colorscale\":[[0.0,\"#0d0887\"],[0.1111111111111111,\"#46039f\"],[0.2222222222222222,\"#7201a8\"],[0.3333333333333333,\"#9c179e\"],[0.4444444444444444,\"#bd3786\"],[0.5555555555555556,\"#d8576b\"],[0.6666666666666666,\"#ed7953\"],[0.7777777777777778,\"#fb9f3a\"],[0.8888888888888888,\"#fdca26\"],[1.0,\"#f0f921\"]]}],\"contourcarpet\":[{\"type\":\"contourcarpet\",\"colorbar\":{\"outlinewidth\":0,\"ticks\":\"\"}}],\"contour\":[{\"type\":\"contour\",\"colorbar\":{\"outlinewidth\":0,\"ticks\":\"\"},\"colorscale\":[[0.0,\"#0d0887\"],[0.1111111111111111,\"#46039f\"],[0.2222222222222222,\"#7201a8\"],[0.3333333333333333,\"#9c179e\"],[0.4444444444444444,\"#bd3786\"],[0.5555555555555556,\"#d8576b\"],[0.6666666666666666,\"#ed7953\"],[0.7777777777777778,\"#fb9f3a\"],[0.8888888888888888,\"#fdca26\"],[1.0,\"#f0f921\"]]}],\"surface\":[{\"type\":\"surface\",\"colorbar\":{\"outlinewidth\":0,\"ticks\":\"\"},\"colorscale\":[[0.0,\"#0d0887\"],[0.1111111111111111,\"#46039f\"],[0.2222222222222222,\"#7201a8\"],[0.3333333333333333,\"#9c179e\"],[0.4444444444444444,\"#bd3786\"],[0.5555555555555556,\"#d8576b\"],[0.6666666666666666,\"#ed7953\"],[0.7777777777777778,\"#fb9f3a\"],[0.8888888888888888,\"#fdca26\"],[1.0,\"#f0f921\"]]}],\"mesh3d\":[{\"type\":\"mesh3d\",\"colorbar\":{\"outlinewidth\":0,\"ticks\":\"\"}}],\"scatter\":[{\"fillpattern\":{\"fillmode\":\"overlay\",\"size\":10,\"solidity\":0.2},\"type\":\"scatter\"}],\"parcoords\":[{\"type\":\"parcoords\",\"line\":{\"colorbar\":{\"outlinewidth\":0,\"ticks\":\"\"}}}],\"scatterpolargl\":[{\"type\":\"scatterpolargl\",\"marker\":{\"colorbar\":{\"outlinewidth\":0,\"ticks\":\"\"}}}],\"bar\":[{\"error_x\":{\"color\":\"#2a3f5f\"},\"error_y\":{\"color\":\"#2a3f5f\"},\"marker\":{\"line\":{\"color\":\"#E5ECF6\",\"width\":0.5},\"pattern\":{\"fillmode\":\"overlay\",\"size\":10,\"solidity\":0.2}},\"type\":\"bar\"}],\"scattergeo\":[{\"type\":\"scattergeo\",\"marker\":{\"colorbar\":{\"outlinewidth\":0,\"ticks\":\"\"}}}],\"scatterpolar\":[{\"type\":\"scatterpolar\",\"marker\":{\"colorbar\":{\"outlinewidth\":0,\"ticks\":\"\"}}}],\"histogram\":[{\"marker\":{\"pattern\":{\"fillmode\":\"overlay\",\"size\":10,\"solidity\":0.2}},\"type\":\"histogram\"}],\"scattergl\":[{\"type\":\"scattergl\",\"marker\":{\"colorbar\":{\"outlinewidth\":0,\"ticks\":\"\"}}}],\"scatter3d\":[{\"type\":\"scatter3d\",\"line\":{\"colorbar\":{\"outlinewidth\":0,\"ticks\":\"\"}},\"marker\":{\"colorbar\":{\"outlinewidth\":0,\"ticks\":\"\"}}}],\"scattermapbox\":[{\"type\":\"scattermapbox\",\"marker\":{\"colorbar\":{\"outlinewidth\":0,\"ticks\":\"\"}}}],\"scatterternary\":[{\"type\":\"scatterternary\",\"marker\":{\"colorbar\":{\"outlinewidth\":0,\"ticks\":\"\"}}}],\"scattercarpet\":[{\"type\":\"scattercarpet\",\"marker\":{\"colorbar\":{\"outlinewidth\":0,\"ticks\":\"\"}}}],\"carpet\":[{\"aaxis\":{\"endlinecolor\":\"#2a3f5f\",\"gridcolor\":\"white\",\"linecolor\":\"white\",\"minorgridcolor\":\"white\",\"startlinecolor\":\"#2a3f5f\"},\"baxis\":{\"endlinecolor\":\"#2a3f5f\",\"gridcolor\":\"white\",\"linecolor\":\"white\",\"minorgridcolor\":\"white\",\"startlinecolor\":\"#2a3f5f\"},\"type\":\"carpet\"}],\"table\":[{\"cells\":{\"fill\":{\"color\":\"#EBF0F8\"},\"line\":{\"color\":\"white\"}},\"header\":{\"fill\":{\"color\":\"#C8D4E3\"},\"line\":{\"color\":\"white\"}},\"type\":\"table\"}],\"barpolar\":[{\"marker\":{\"line\":{\"color\":\"#E5ECF6\",\"width\":0.5},\"pattern\":{\"fillmode\":\"overlay\",\"size\":10,\"solidity\":0.2}},\"type\":\"barpolar\"}],\"pie\":[{\"automargin\":true,\"type\":\"pie\"}]},\"layout\":{\"autotypenumbers\":\"strict\",\"colorway\":[\"#636efa\",\"#EF553B\",\"#00cc96\",\"#ab63fa\",\"#FFA15A\",\"#19d3f3\",\"#FF6692\",\"#B6E880\",\"#FF97FF\",\"#FECB52\"],\"font\":{\"color\":\"#2a3f5f\"},\"hovermode\":\"closest\",\"hoverlabel\":{\"align\":\"left\"},\"paper_bgcolor\":\"white\",\"plot_bgcolor\":\"#E5ECF6\",\"polar\":{\"bgcolor\":\"#E5ECF6\",\"angularaxis\":{\"gridcolor\":\"white\",\"linecolor\":\"white\",\"ticks\":\"\"},\"radialaxis\":{\"gridcolor\":\"white\",\"linecolor\":\"white\",\"ticks\":\"\"}},\"ternary\":{\"bgcolor\":\"#E5ECF6\",\"aaxis\":{\"gridcolor\":\"white\",\"linecolor\":\"white\",\"ticks\":\"\"},\"baxis\":{\"gridcolor\":\"white\",\"linecolor\":\"white\",\"ticks\":\"\"},\"caxis\":{\"gridcolor\":\"white\",\"linecolor\":\"white\",\"ticks\":\"\"}},\"coloraxis\":{\"colorbar\":{\"outlinewidth\":0,\"ticks\":\"\"}},\"colorscale\":{\"sequential\":[[0.0,\"#0d0887\"],[0.1111111111111111,\"#46039f\"],[0.2222222222222222,\"#7201a8\"],[0.3333333333333333,\"#9c179e\"],[0.4444444444444444,\"#bd3786\"],[0.5555555555555556,\"#d8576b\"],[0.6666666666666666,\"#ed7953\"],[0.7777777777777778,\"#fb9f3a\"],[0.8888888888888888,\"#fdca26\"],[1.0,\"#f0f921\"]],\"sequentialminus\":[[0.0,\"#0d0887\"],[0.1111111111111111,\"#46039f\"],[0.2222222222222222,\"#7201a8\"],[0.3333333333333333,\"#9c179e\"],[0.4444444444444444,\"#bd3786\"],[0.5555555555555556,\"#d8576b\"],[0.6666666666666666,\"#ed7953\"],[0.7777777777777778,\"#fb9f3a\"],[0.8888888888888888,\"#fdca26\"],[1.0,\"#f0f921\"]],\"diverging\":[[0,\"#8e0152\"],[0.1,\"#c51b7d\"],[0.2,\"#de77ae\"],[0.3,\"#f1b6da\"],[0.4,\"#fde0ef\"],[0.5,\"#f7f7f7\"],[0.6,\"#e6f5d0\"],[0.7,\"#b8e186\"],[0.8,\"#7fbc41\"],[0.9,\"#4d9221\"],[1,\"#276419\"]]},\"xaxis\":{\"gridcolor\":\"white\",\"linecolor\":\"white\",\"ticks\":\"\",\"title\":{\"standoff\":15},\"zerolinecolor\":\"white\",\"automargin\":true,\"zerolinewidth\":2},\"yaxis\":{\"gridcolor\":\"white\",\"linecolor\":\"white\",\"ticks\":\"\",\"title\":{\"standoff\":15},\"zerolinecolor\":\"white\",\"automargin\":true,\"zerolinewidth\":2},\"scene\":{\"xaxis\":{\"backgroundcolor\":\"#E5ECF6\",\"gridcolor\":\"white\",\"linecolor\":\"white\",\"showbackground\":true,\"ticks\":\"\",\"zerolinecolor\":\"white\",\"gridwidth\":2},\"yaxis\":{\"backgroundcolor\":\"#E5ECF6\",\"gridcolor\":\"white\",\"linecolor\":\"white\",\"showbackground\":true,\"ticks\":\"\",\"zerolinecolor\":\"white\",\"gridwidth\":2},\"zaxis\":{\"backgroundcolor\":\"#E5ECF6\",\"gridcolor\":\"white\",\"linecolor\":\"white\",\"showbackground\":true,\"ticks\":\"\",\"zerolinecolor\":\"white\",\"gridwidth\":2}},\"shapedefaults\":{\"line\":{\"color\":\"#2a3f5f\"}},\"annotationdefaults\":{\"arrowcolor\":\"#2a3f5f\",\"arrowhead\":0,\"arrowwidth\":1},\"geo\":{\"bgcolor\":\"white\",\"landcolor\":\"#E5ECF6\",\"subunitcolor\":\"white\",\"showland\":true,\"showlakes\":true,\"lakecolor\":\"white\"},\"title\":{\"x\":0.05},\"mapbox\":{\"style\":\"light\"}}},\"xaxis\":{\"anchor\":\"y\",\"domain\":[0.0,1.0],\"title\":{\"text\":\"x\"}},\"yaxis\":{\"anchor\":\"x\",\"domain\":[0.0,1.0],\"title\":{\"text\":\"y\"}},\"legend\":{\"tracegroupgap\":0},\"margin\":{\"t\":60}},                        {\"responsive\": true}                    ).then(function(){\n",
       "                            \n",
       "var gd = document.getElementById('1f40153c-8a3d-4923-a59d-38c2c8189a50');\n",
       "var x = new MutationObserver(function (mutations, observer) {{\n",
       "        var display = window.getComputedStyle(gd).display;\n",
       "        if (!display || display === 'none') {{\n",
       "            console.log([gd, 'removed!']);\n",
       "            Plotly.purge(gd);\n",
       "            observer.disconnect();\n",
       "        }}\n",
       "}});\n",
       "\n",
       "// Listen for the removal of the full notebook cells\n",
       "var notebookContainer = gd.closest('#notebook-container');\n",
       "if (notebookContainer) {{\n",
       "    x.observe(notebookContainer, {childList: true});\n",
       "}}\n",
       "\n",
       "// Listen for the clearing of the current output cell\n",
       "var outputEl = gd.closest('.output');\n",
       "if (outputEl) {{\n",
       "    x.observe(outputEl, {childList: true});\n",
       "}}\n",
       "\n",
       "                        })                };                });            </script>        </div>"
      ]
     },
     "metadata": {},
     "output_type": "display_data"
    },
    {
     "name": "stdout",
     "output_type": "stream",
     "text": [
      "0.1\n"
     ]
    },
    {
     "data": {
      "application/vnd.plotly.v1+json": {
       "config": {
        "plotlyServerURL": "https://plot.ly"
       },
       "data": [
        {
         "hovertemplate": "x=%{x}<br>y=%{y}<extra></extra>",
         "legendgroup": "",
         "marker": {
          "color": "#636efa",
          "symbol": "circle"
         },
         "mode": "markers",
         "name": "",
         "orientation": "v",
         "showlegend": false,
         "type": "scatter",
         "x": [
          2.14750280572276,
          47.4841385693649,
          49.2299149229225,
          -11.5945145875596,
          -75.9360013084458,
          -25.8074713497469,
          -44.7331279151339,
          -37.2082272769588,
          -25.0645228098239,
          -22.3782027289829,
          -19.1691518005777,
          -32.6288805904163,
          -60.1147493139075,
          -130.385156025867,
          -195.368330100604,
          -122.91400809571,
          -28.4081042461277,
          -56.5308022565919,
          -76.6499871944664,
          -146.291576065114,
          -231.816655380472,
          -335.560160906707,
          18.9393060425075,
          44.2795351128827,
          36.4525664756189,
          -24.6276916826883,
          -96.8451216409228,
          -118.099198593294,
          -2.81617094960643,
          2.15352677487569,
          50.00711619717,
          84.6243117902597,
          68.2582002952796,
          0.203229430277757,
          1.72505898542655,
          -32.6630651637924,
          -37.3035245089913,
          -25.8386575844281,
          -21.2378410428048,
          -53.2142886361814,
          -92.8733927977602,
          -8.50392424622896,
          -16.1700114975131,
          -42.0732251158269,
          -64.6745124436798,
          -87.4500617541361,
          -100.292018617133,
          -21.9051474978017,
          -45.3133563106585,
          -66.2892575900663,
          -85.6197470678706,
          -103.503272746502,
          -109.434120437943,
          27.3751412755564,
          33.5087103396747,
          43.0578231329166,
          49.3175877095426,
          32.3291256401299,
          0.139706958158727,
          -19.2344407557776,
          -0.753639303022988,
          5.14591809677491,
          0.805699451962997,
          -6.69306169796874,
          -9.49256761772359,
          -6.0479535927099,
          7.09310228376605,
          -35.1860370403493,
          -12.7221978645735,
          45.5342207430419,
          24.5346081090569,
          -18.0355578947545,
          -40.5860902842482,
          -7.14781706037574,
          3.83489342948745,
          6.53037262107185,
          21.3698522335619,
          21.3854729897448,
          12.4732083450607,
          -2.76199005560521,
          -6.10912420452591,
          -31.3417030408723,
          -53.7614055688473,
          -29.134032789524,
          52.1755776240192,
          73.9777025001102,
          11.5585259612802,
          -12.9245878571118,
          -16.7782404924756,
          -36.908699574417,
          -47.4508291676516,
          -37.378161238738,
          -13.7760079965805,
          4.21563983309742,
          -12.1965833694242,
          -26.4656356619663,
          -34.1722238862303,
          -43.9246727355478,
          -34.5931540794018,
          26.4195855925436,
          19.6893879064706,
          4.80569648426343,
          -4.6219223141402,
          -17.2417431441673,
          -60.8015292555929,
          -65.2766701762302,
          -5.32911479738823,
          -20.2875735222416,
          28.2861315042898,
          98.3511956699796,
          109.695883783079,
          -27.0365168453799,
          -18.3995432239796,
          -40.8254194417564,
          -74.4942706132974,
          -56.2405374012947,
          -24.4204921540444,
          1.37521507550803,
          -8.11720768135629,
          -3.85944401236396,
          17.760568874328,
          26.029332159384,
          4.15195512335145,
          -36.313510627621,
          -84.9607451884724,
          -9.52902155780248,
          7.49316897992309,
          -3.56386498255245,
          -9.29536853228531,
          -2.8715831873187,
          8.79593101355424,
          0.279194692729752,
          91.2903802277026,
          245.680509202373,
          147.852502220698,
          -333.398361853596,
          18.1049977183792,
          2.64933771447332,
          12.2349321018398,
          16.1726602191609,
          49.1678905161084,
          64.8107276310266,
          -23.3085360488293,
          -1.11124638747365,
          10.7517453363579,
          3.61358605579098,
          2.97226581395004,
          2.32394158295796,
          26.5844695618017,
          4.60477512247171,
          4.04941845182281,
          3.60554948711983,
          -16.0204246598168,
          11.1929515504656,
          185.592885888921,
          153.118745451815,
          -14.6746034367503,
          -41.5832870336786,
          -60.521834487582,
          -52.1608705406441,
          -59.8255505495827,
          -68.8942947990213,
          -63.2504050219333,
          -8.1255212917032,
          -16.2505726702338,
          27.7304059466698,
          40.2918902233396,
          48.5121087481976,
          8.49139066669173,
          16.4686333363604,
          21.6359857279485,
          8.69679600485839,
          9.96425458058736,
          19.0079454214786,
          19.2515307468948,
          34.783488464658,
          103.606612275594,
          54.28945958376,
          -31.7197208427964,
          -59.4765673230102,
          -8.70828314373739,
          -29.5737717629498,
          -26.9721683806612,
          -26.1284859875618,
          -10.6917269068906,
          -14.6436703458851,
          -25.7289193504425,
          24.7632819812043,
          22.9709102526846,
          12.3742467471943,
          2.43158264556549,
          -5.29131034468349,
          -6.70040895223394,
          0.59376488933797,
          -53.8973667614939,
          -53.3924790047728,
          -18.1578104498078,
          17.7532100079297,
          19.7654728296988,
          -31.6147974766919,
          3.09824112982592,
          36.2737612299922,
          12.8735077191287,
          -25.3128212224996,
          -23.939901318977,
          10.3591880976243,
          -2.71437694664403,
          -12.0026384920305,
          -16.7466439075174,
          -5.92299459831308,
          7.90344171457108,
          15.3895444399083,
          -2.00638414714786,
          -3.18426424321671,
          -32.1205637295744,
          -68.8685583392772,
          -38.2624606800421,
          15.0671667349794,
          35.7026030307567,
          5.23892258329587,
          34.6747094864205,
          45.4358609426539,
          43.8583692216777,
          32.3229772963541,
          20.3649221776227,
          -0.0098287809292859,
          25.7552804740226,
          38.057714039633,
          33.5587902284968,
          5.31926209042162,
          1.27400131754036,
          14.8487932265837,
          14.4436391591434,
          14.9508443588071,
          25.6339290340325,
          12.6580299410414,
          -13.5329721211935,
          -44.5302788479984,
          -7.67826124341165,
          8.07136402353603,
          26.3008271624264,
          47.6099452676639,
          35.7544343559381,
          29.3391137105515,
          18.2399767834432,
          -6.06886715934088,
          -31.4545137640202,
          -19.2430015324229,
          -14.6838014693839,
          -17.6787477950038,
          10.5554946154897,
          44.2264192404722,
          -1.41470396157105,
          31.9966066367172,
          45.8701758793681,
          24.8317119675723,
          13.6271391848378,
          24.6614456689177,
          46.474778891536,
          8.91401810060415,
          30.4979782208895,
          33.047512776431,
          35.6786141802149,
          19.0333354535718,
          -3.24877250929749,
          -8.88884228784867,
          -14.8027921119629,
          -8.32124611995673,
          55.6663079871977,
          79.5687005578493,
          29.7426861556415,
          -24.1899667103975,
          -38.9227465202143,
          8.56641282682078,
          4.87620257241154,
          -3.34916268444458,
          -0.726206473820636,
          -3.40804463552317,
          -1.72459337493508,
          -42.2471103526265,
          -49.5452315727027,
          -51.3584298612225,
          -34.4312246331452,
          1.51697935174231,
          19.8058443965455,
          19.7847902951218,
          -24.6532874633366,
          -12.159759039251,
          -14.2077558301076,
          -20.6688177207622,
          -25.5909448853045,
          -11.5469258155842,
          1.83602203610273,
          -24.1540897964184,
          -25.5171340757773,
          -1.24654902135889,
          9.38712632540303,
          17.623310348367,
          46.941728404846,
          47.0263614466714
         ],
         "xaxis": "x",
         "y": [
          -28.5049270297964,
          -9.25482758672267,
          11.4671668539991,
          7.58934023489402,
          9.58763822669017,
          -15.1518196851637,
          -5.87177673926499,
          -8.46822092206666,
          0.741882607775409,
          10.1330927721447,
          6.54835252465787,
          10.811868039541,
          12.6219281643371,
          6.29956888272039,
          12.6343506036726,
          8.37572610251672,
          -15.0451246196668,
          -6.72336565331982,
          4.26234932509716,
          5.942712180101,
          9.89783288410401,
          9.0352022196199,
          -26.6454699084329,
          -3.15242209709977,
          -6.04373111345512,
          1.38427498044875,
          5.29863991395953,
          4.83879571456259,
          8.37928775614368,
          23.0479206932275,
          24.9408701733839,
          19.3591165702629,
          11.6613897097151,
          10.4719064565829,
          3.92218475199391,
          -34.4755931114312,
          -16.089442430489,
          4.7353845099716,
          3.48756412292239,
          -1.33168606355351,
          9.24431677514328,
          -4.03825812793281,
          -0.0127628981290471,
          8.27138048245027,
          5.35771851124252,
          1.2114196029454,
          4.38195627002496,
          -18.8707453603393,
          -0.551715053042983,
          9.39275081802253,
          9.28768945993038,
          6.45848647152344,
          4.82659113728171,
          30.6909451334319,
          25.2373241823837,
          18.4790665973891,
          11.5540081403992,
          0.229784449377391,
          2.47691998513882,
          12.4149670547848,
          18.4373561995228,
          21.2291501634753,
          16.7091641834189,
          9.94562677495569,
          3.22261292243179,
          9.89200428704045,
          0.708895352197004,
          -3.98211725441395,
          16.0409834999789,
          30.0416605215649,
          23.4472722314034,
          11.4066187053077,
          9.47480023141833,
          11.1819878591879,
          3.92615914913315,
          11.5082499006972,
          7.1961671331519,
          11.0575202679318,
          2.63924691315003,
          -4.18332712071303,
          -4.24241104142757,
          -17.4487610359417,
          -18.2749604611364,
          -5.55182569588465,
          4.53082553555313,
          -1.84668418087632,
          -21.3694233754034,
          -16.4555042471682,
          -11.1479851829298,
          -5.56827102538198,
          6.07744735730633,
          3.73839010276141,
          11.605745514651,
          19.2636802391597,
          14.7122203837527,
          12.1721202738655,
          8.72077183828306,
          3.31220099860487,
          -1.49702096509486,
          21.8365272778885,
          21.2591079096366,
          15.0676322875762,
          3.89333430618714,
          5.05291216149951,
          3.33622937858128,
          2.21864320518497,
          -18.1507321219336,
          0.856322359568757,
          11.0652844658975,
          12.2714246344804,
          3.85697190263608,
          -9.89099315306677,
          5.21497704641241,
          9.52045057689419,
          9.79365752258444,
          1.1024825201909,
          -1.71230458541824,
          4.90039330372656,
          8.4243192521195,
          23.2538803011038,
          24.4495894792066,
          23.5314418237451,
          16.6141099431489,
          15.2397849982149,
          8.15505807001882,
          -26.5110267238868,
          -17.8152337154357,
          9.80399393403288,
          15.9633075590017,
          13.5482285540048,
          10.9674472107934,
          6.78351626174026,
          -3.25398526380206,
          1.65449380998911,
          3.47109709489284,
          -1.1296862328614,
          17.0730891496859,
          21.6795579166217,
          13.7449889112552,
          9.62551921736708,
          13.3988312631259,
          -1.64456137647596,
          0.993417662231074,
          10.2818813266411,
          2.599677175552,
          5.12380249440302,
          5.00912516639245,
          4.61815966524337,
          8.46504117152728,
          -23.9314464232278,
          -4.41731044544183,
          5.57465443021681,
          0.567473425103259,
          -1.13660719955666,
          0.185764216228179,
          -9.9239380907812,
          -8.04909511868244,
          3.84648309854933,
          2.6929578115302,
          7.25886257423875,
          2.81361736961685,
          -2.80076163335877,
          -10.5757565048856,
          -38.9150196904867,
          -31.278943617524,
          -18.8165735819026,
          -11.0400607928447,
          4.86988216916696,
          17.7437549399728,
          16.5289069852287,
          12.946825691979,
          -1.63153636761816,
          -1.80806059501236,
          -13.9509001980534,
          -10.0043985817277,
          -12.512797331177,
          -11.3454755957477,
          -14.1703929246025,
          -1.05755204807478,
          -14.2264928381315,
          -34.7316848566607,
          -20.6721823576364,
          -18.2617804704502,
          -25.9283818488343,
          -34.5742404113454,
          -21.7972464147065,
          -18.2935443042901,
          22.2299535695349,
          20.73929397058,
          9.00266639309591,
          5.77567274571874,
          -0.644556149337319,
          -8.92528699682843,
          -3.98722834437007,
          -22.8235369191641,
          -7.41260620087782,
          13.8272879385427,
          -4.2290049998272,
          -0.0270334033766204,
          -27.3990135988523,
          -24.1554222699767,
          -22.3237617521358,
          -26.9540753816885,
          -16.960289825746,
          -4.71267587554884,
          12.4237544570511,
          14.8579946883421,
          10.6349683914764,
          -1.60109759508604,
          -6.24960816270303,
          -4.50889803630838,
          1.01976111716961,
          -8.4389711036406,
          -8.68982246625474,
          -5.33832385300232,
          -4.43109245897922,
          -4.14791324744876,
          -2.52738802090012,
          -4.8719697508324,
          -23.4720343953901,
          -3.06056319558062,
          0.0503487435044363,
          3.28045109881901,
          -1.67426150938228,
          3.87182415324629,
          -1.92379265596195,
          -7.0843810349917,
          -5.49582485690637,
          -5.06859872141715,
          -0.768457708663192,
          -6.89530476303518,
          16.8890853854461,
          22.0141609687897,
          25.0574612501309,
          6.92384018522601,
          -1.86157103175113,
          -4.518088353831,
          9.68244192228471,
          -36.2560723172987,
          -12.0535629809708,
          -12.551951979995,
          -7.90751352267908,
          0.823646282186317,
          0.356505711741292,
          -4.50217483112955,
          -41.0869198818865,
          -39.5029921385306,
          -35.9558423869978,
          -25.2980680584607,
          -12.9624705962992,
          -10.2294024473493,
          -8.88265234785006,
          -2.52975215010916,
          3.41103953693483,
          5.48711398977356,
          -3.7346337711587,
          1.37159256939503,
          -3.86941356154765,
          1.90501089193874,
          10.4704401761631,
          27.2234224730421,
          20.2113119584339,
          19.4047818538849,
          5.66460601637567,
          3.8434843990502,
          -4.01267022518479,
          11.9116587267464,
          17.7767883227353,
          12.4429259892432,
          12.2707095862753,
          -1.96270772585089,
          -11.9801468654297,
          1.95128538998412,
          -4.99834641693066,
          28.8101007240316,
          13.6807376316356,
          13.4279031752588,
          -9.73837147218498,
          7.28834347233177,
          -26.9795424707877,
          -50.2278013756437,
          -57.0433119186431,
          -58.3565274264648,
          -50.1822819608467,
          -35.5135962682099,
          -13.4397821501118,
          -52.5021717524072,
          -44.0952504333918,
          -12.0504696632351,
          2.35979798765497,
          10.4745000059171,
          9.38855894491363,
          -3.75821960733397,
          -48.4898326278607,
          -48.6960127915172,
          -49.7433413166114,
          -39.0829114511128,
          -10.0092936934856,
          -9.24835321663394,
          -6.12553412175131
         ],
         "yaxis": "y"
        }
       ],
       "layout": {
        "legend": {
         "tracegroupgap": 0
        },
        "margin": {
         "t": 60
        },
        "template": {
         "data": {
          "bar": [
           {
            "error_x": {
             "color": "#2a3f5f"
            },
            "error_y": {
             "color": "#2a3f5f"
            },
            "marker": {
             "line": {
              "color": "#E5ECF6",
              "width": 0.5
             },
             "pattern": {
              "fillmode": "overlay",
              "size": 10,
              "solidity": 0.2
             }
            },
            "type": "bar"
           }
          ],
          "barpolar": [
           {
            "marker": {
             "line": {
              "color": "#E5ECF6",
              "width": 0.5
             },
             "pattern": {
              "fillmode": "overlay",
              "size": 10,
              "solidity": 0.2
             }
            },
            "type": "barpolar"
           }
          ],
          "carpet": [
           {
            "aaxis": {
             "endlinecolor": "#2a3f5f",
             "gridcolor": "white",
             "linecolor": "white",
             "minorgridcolor": "white",
             "startlinecolor": "#2a3f5f"
            },
            "baxis": {
             "endlinecolor": "#2a3f5f",
             "gridcolor": "white",
             "linecolor": "white",
             "minorgridcolor": "white",
             "startlinecolor": "#2a3f5f"
            },
            "type": "carpet"
           }
          ],
          "choropleth": [
           {
            "colorbar": {
             "outlinewidth": 0,
             "ticks": ""
            },
            "type": "choropleth"
           }
          ],
          "contour": [
           {
            "colorbar": {
             "outlinewidth": 0,
             "ticks": ""
            },
            "colorscale": [
             [
              0,
              "#0d0887"
             ],
             [
              0.1111111111111111,
              "#46039f"
             ],
             [
              0.2222222222222222,
              "#7201a8"
             ],
             [
              0.3333333333333333,
              "#9c179e"
             ],
             [
              0.4444444444444444,
              "#bd3786"
             ],
             [
              0.5555555555555556,
              "#d8576b"
             ],
             [
              0.6666666666666666,
              "#ed7953"
             ],
             [
              0.7777777777777778,
              "#fb9f3a"
             ],
             [
              0.8888888888888888,
              "#fdca26"
             ],
             [
              1,
              "#f0f921"
             ]
            ],
            "type": "contour"
           }
          ],
          "contourcarpet": [
           {
            "colorbar": {
             "outlinewidth": 0,
             "ticks": ""
            },
            "type": "contourcarpet"
           }
          ],
          "heatmap": [
           {
            "colorbar": {
             "outlinewidth": 0,
             "ticks": ""
            },
            "colorscale": [
             [
              0,
              "#0d0887"
             ],
             [
              0.1111111111111111,
              "#46039f"
             ],
             [
              0.2222222222222222,
              "#7201a8"
             ],
             [
              0.3333333333333333,
              "#9c179e"
             ],
             [
              0.4444444444444444,
              "#bd3786"
             ],
             [
              0.5555555555555556,
              "#d8576b"
             ],
             [
              0.6666666666666666,
              "#ed7953"
             ],
             [
              0.7777777777777778,
              "#fb9f3a"
             ],
             [
              0.8888888888888888,
              "#fdca26"
             ],
             [
              1,
              "#f0f921"
             ]
            ],
            "type": "heatmap"
           }
          ],
          "heatmapgl": [
           {
            "colorbar": {
             "outlinewidth": 0,
             "ticks": ""
            },
            "colorscale": [
             [
              0,
              "#0d0887"
             ],
             [
              0.1111111111111111,
              "#46039f"
             ],
             [
              0.2222222222222222,
              "#7201a8"
             ],
             [
              0.3333333333333333,
              "#9c179e"
             ],
             [
              0.4444444444444444,
              "#bd3786"
             ],
             [
              0.5555555555555556,
              "#d8576b"
             ],
             [
              0.6666666666666666,
              "#ed7953"
             ],
             [
              0.7777777777777778,
              "#fb9f3a"
             ],
             [
              0.8888888888888888,
              "#fdca26"
             ],
             [
              1,
              "#f0f921"
             ]
            ],
            "type": "heatmapgl"
           }
          ],
          "histogram": [
           {
            "marker": {
             "pattern": {
              "fillmode": "overlay",
              "size": 10,
              "solidity": 0.2
             }
            },
            "type": "histogram"
           }
          ],
          "histogram2d": [
           {
            "colorbar": {
             "outlinewidth": 0,
             "ticks": ""
            },
            "colorscale": [
             [
              0,
              "#0d0887"
             ],
             [
              0.1111111111111111,
              "#46039f"
             ],
             [
              0.2222222222222222,
              "#7201a8"
             ],
             [
              0.3333333333333333,
              "#9c179e"
             ],
             [
              0.4444444444444444,
              "#bd3786"
             ],
             [
              0.5555555555555556,
              "#d8576b"
             ],
             [
              0.6666666666666666,
              "#ed7953"
             ],
             [
              0.7777777777777778,
              "#fb9f3a"
             ],
             [
              0.8888888888888888,
              "#fdca26"
             ],
             [
              1,
              "#f0f921"
             ]
            ],
            "type": "histogram2d"
           }
          ],
          "histogram2dcontour": [
           {
            "colorbar": {
             "outlinewidth": 0,
             "ticks": ""
            },
            "colorscale": [
             [
              0,
              "#0d0887"
             ],
             [
              0.1111111111111111,
              "#46039f"
             ],
             [
              0.2222222222222222,
              "#7201a8"
             ],
             [
              0.3333333333333333,
              "#9c179e"
             ],
             [
              0.4444444444444444,
              "#bd3786"
             ],
             [
              0.5555555555555556,
              "#d8576b"
             ],
             [
              0.6666666666666666,
              "#ed7953"
             ],
             [
              0.7777777777777778,
              "#fb9f3a"
             ],
             [
              0.8888888888888888,
              "#fdca26"
             ],
             [
              1,
              "#f0f921"
             ]
            ],
            "type": "histogram2dcontour"
           }
          ],
          "mesh3d": [
           {
            "colorbar": {
             "outlinewidth": 0,
             "ticks": ""
            },
            "type": "mesh3d"
           }
          ],
          "parcoords": [
           {
            "line": {
             "colorbar": {
              "outlinewidth": 0,
              "ticks": ""
             }
            },
            "type": "parcoords"
           }
          ],
          "pie": [
           {
            "automargin": true,
            "type": "pie"
           }
          ],
          "scatter": [
           {
            "fillpattern": {
             "fillmode": "overlay",
             "size": 10,
             "solidity": 0.2
            },
            "type": "scatter"
           }
          ],
          "scatter3d": [
           {
            "line": {
             "colorbar": {
              "outlinewidth": 0,
              "ticks": ""
             }
            },
            "marker": {
             "colorbar": {
              "outlinewidth": 0,
              "ticks": ""
             }
            },
            "type": "scatter3d"
           }
          ],
          "scattercarpet": [
           {
            "marker": {
             "colorbar": {
              "outlinewidth": 0,
              "ticks": ""
             }
            },
            "type": "scattercarpet"
           }
          ],
          "scattergeo": [
           {
            "marker": {
             "colorbar": {
              "outlinewidth": 0,
              "ticks": ""
             }
            },
            "type": "scattergeo"
           }
          ],
          "scattergl": [
           {
            "marker": {
             "colorbar": {
              "outlinewidth": 0,
              "ticks": ""
             }
            },
            "type": "scattergl"
           }
          ],
          "scattermapbox": [
           {
            "marker": {
             "colorbar": {
              "outlinewidth": 0,
              "ticks": ""
             }
            },
            "type": "scattermapbox"
           }
          ],
          "scatterpolar": [
           {
            "marker": {
             "colorbar": {
              "outlinewidth": 0,
              "ticks": ""
             }
            },
            "type": "scatterpolar"
           }
          ],
          "scatterpolargl": [
           {
            "marker": {
             "colorbar": {
              "outlinewidth": 0,
              "ticks": ""
             }
            },
            "type": "scatterpolargl"
           }
          ],
          "scatterternary": [
           {
            "marker": {
             "colorbar": {
              "outlinewidth": 0,
              "ticks": ""
             }
            },
            "type": "scatterternary"
           }
          ],
          "surface": [
           {
            "colorbar": {
             "outlinewidth": 0,
             "ticks": ""
            },
            "colorscale": [
             [
              0,
              "#0d0887"
             ],
             [
              0.1111111111111111,
              "#46039f"
             ],
             [
              0.2222222222222222,
              "#7201a8"
             ],
             [
              0.3333333333333333,
              "#9c179e"
             ],
             [
              0.4444444444444444,
              "#bd3786"
             ],
             [
              0.5555555555555556,
              "#d8576b"
             ],
             [
              0.6666666666666666,
              "#ed7953"
             ],
             [
              0.7777777777777778,
              "#fb9f3a"
             ],
             [
              0.8888888888888888,
              "#fdca26"
             ],
             [
              1,
              "#f0f921"
             ]
            ],
            "type": "surface"
           }
          ],
          "table": [
           {
            "cells": {
             "fill": {
              "color": "#EBF0F8"
             },
             "line": {
              "color": "white"
             }
            },
            "header": {
             "fill": {
              "color": "#C8D4E3"
             },
             "line": {
              "color": "white"
             }
            },
            "type": "table"
           }
          ]
         },
         "layout": {
          "annotationdefaults": {
           "arrowcolor": "#2a3f5f",
           "arrowhead": 0,
           "arrowwidth": 1
          },
          "autotypenumbers": "strict",
          "coloraxis": {
           "colorbar": {
            "outlinewidth": 0,
            "ticks": ""
           }
          },
          "colorscale": {
           "diverging": [
            [
             0,
             "#8e0152"
            ],
            [
             0.1,
             "#c51b7d"
            ],
            [
             0.2,
             "#de77ae"
            ],
            [
             0.3,
             "#f1b6da"
            ],
            [
             0.4,
             "#fde0ef"
            ],
            [
             0.5,
             "#f7f7f7"
            ],
            [
             0.6,
             "#e6f5d0"
            ],
            [
             0.7,
             "#b8e186"
            ],
            [
             0.8,
             "#7fbc41"
            ],
            [
             0.9,
             "#4d9221"
            ],
            [
             1,
             "#276419"
            ]
           ],
           "sequential": [
            [
             0,
             "#0d0887"
            ],
            [
             0.1111111111111111,
             "#46039f"
            ],
            [
             0.2222222222222222,
             "#7201a8"
            ],
            [
             0.3333333333333333,
             "#9c179e"
            ],
            [
             0.4444444444444444,
             "#bd3786"
            ],
            [
             0.5555555555555556,
             "#d8576b"
            ],
            [
             0.6666666666666666,
             "#ed7953"
            ],
            [
             0.7777777777777778,
             "#fb9f3a"
            ],
            [
             0.8888888888888888,
             "#fdca26"
            ],
            [
             1,
             "#f0f921"
            ]
           ],
           "sequentialminus": [
            [
             0,
             "#0d0887"
            ],
            [
             0.1111111111111111,
             "#46039f"
            ],
            [
             0.2222222222222222,
             "#7201a8"
            ],
            [
             0.3333333333333333,
             "#9c179e"
            ],
            [
             0.4444444444444444,
             "#bd3786"
            ],
            [
             0.5555555555555556,
             "#d8576b"
            ],
            [
             0.6666666666666666,
             "#ed7953"
            ],
            [
             0.7777777777777778,
             "#fb9f3a"
            ],
            [
             0.8888888888888888,
             "#fdca26"
            ],
            [
             1,
             "#f0f921"
            ]
           ]
          },
          "colorway": [
           "#636efa",
           "#EF553B",
           "#00cc96",
           "#ab63fa",
           "#FFA15A",
           "#19d3f3",
           "#FF6692",
           "#B6E880",
           "#FF97FF",
           "#FECB52"
          ],
          "font": {
           "color": "#2a3f5f"
          },
          "geo": {
           "bgcolor": "white",
           "lakecolor": "white",
           "landcolor": "#E5ECF6",
           "showlakes": true,
           "showland": true,
           "subunitcolor": "white"
          },
          "hoverlabel": {
           "align": "left"
          },
          "hovermode": "closest",
          "mapbox": {
           "style": "light"
          },
          "paper_bgcolor": "white",
          "plot_bgcolor": "#E5ECF6",
          "polar": {
           "angularaxis": {
            "gridcolor": "white",
            "linecolor": "white",
            "ticks": ""
           },
           "bgcolor": "#E5ECF6",
           "radialaxis": {
            "gridcolor": "white",
            "linecolor": "white",
            "ticks": ""
           }
          },
          "scene": {
           "xaxis": {
            "backgroundcolor": "#E5ECF6",
            "gridcolor": "white",
            "gridwidth": 2,
            "linecolor": "white",
            "showbackground": true,
            "ticks": "",
            "zerolinecolor": "white"
           },
           "yaxis": {
            "backgroundcolor": "#E5ECF6",
            "gridcolor": "white",
            "gridwidth": 2,
            "linecolor": "white",
            "showbackground": true,
            "ticks": "",
            "zerolinecolor": "white"
           },
           "zaxis": {
            "backgroundcolor": "#E5ECF6",
            "gridcolor": "white",
            "gridwidth": 2,
            "linecolor": "white",
            "showbackground": true,
            "ticks": "",
            "zerolinecolor": "white"
           }
          },
          "shapedefaults": {
           "line": {
            "color": "#2a3f5f"
           }
          },
          "ternary": {
           "aaxis": {
            "gridcolor": "white",
            "linecolor": "white",
            "ticks": ""
           },
           "baxis": {
            "gridcolor": "white",
            "linecolor": "white",
            "ticks": ""
           },
           "bgcolor": "#E5ECF6",
           "caxis": {
            "gridcolor": "white",
            "linecolor": "white",
            "ticks": ""
           }
          },
          "title": {
           "x": 0.05
          },
          "xaxis": {
           "automargin": true,
           "gridcolor": "white",
           "linecolor": "white",
           "ticks": "",
           "title": {
            "standoff": 15
           },
           "zerolinecolor": "white",
           "zerolinewidth": 2
          },
          "yaxis": {
           "automargin": true,
           "gridcolor": "white",
           "linecolor": "white",
           "ticks": "",
           "title": {
            "standoff": 15
           },
           "zerolinecolor": "white",
           "zerolinewidth": 2
          }
         }
        },
        "xaxis": {
         "anchor": "y",
         "domain": [
          0,
          1
         ],
         "title": {
          "text": "x"
         }
        },
        "yaxis": {
         "anchor": "x",
         "domain": [
          0,
          1
         ],
         "title": {
          "text": "y"
         }
        }
       }
      },
      "text/html": [
       "<div>                            <div id=\"83ab482d-652a-4742-baa9-83b287bacf63\" class=\"plotly-graph-div\" style=\"height:525px; width:100%;\"></div>            <script type=\"text/javascript\">                require([\"plotly\"], function(Plotly) {                    window.PLOTLYENV=window.PLOTLYENV || {};                                    if (document.getElementById(\"83ab482d-652a-4742-baa9-83b287bacf63\")) {                    Plotly.newPlot(                        \"83ab482d-652a-4742-baa9-83b287bacf63\",                        [{\"hovertemplate\":\"x=%{x}\\u003cbr\\u003ey=%{y}\\u003cextra\\u003e\\u003c\\u002fextra\\u003e\",\"legendgroup\":\"\",\"marker\":{\"color\":\"#636efa\",\"symbol\":\"circle\"},\"mode\":\"markers\",\"name\":\"\",\"orientation\":\"v\",\"showlegend\":false,\"x\":[2.14750280572276,47.4841385693649,49.2299149229225,-11.5945145875596,-75.9360013084458,-25.8074713497469,-44.7331279151339,-37.2082272769588,-25.0645228098239,-22.3782027289829,-19.1691518005777,-32.6288805904163,-60.1147493139075,-130.385156025867,-195.368330100604,-122.91400809571,-28.4081042461277,-56.5308022565919,-76.6499871944664,-146.291576065114,-231.816655380472,-335.560160906707,18.9393060425075,44.2795351128827,36.4525664756189,-24.6276916826883,-96.8451216409228,-118.099198593294,-2.81617094960643,2.15352677487569,50.00711619717,84.6243117902597,68.2582002952796,0.203229430277757,1.72505898542655,-32.6630651637924,-37.3035245089913,-25.8386575844281,-21.2378410428048,-53.2142886361814,-92.8733927977602,-8.50392424622896,-16.1700114975131,-42.0732251158269,-64.6745124436798,-87.4500617541361,-100.292018617133,-21.9051474978017,-45.3133563106585,-66.2892575900663,-85.6197470678706,-103.503272746502,-109.434120437943,27.3751412755564,33.5087103396747,43.0578231329166,49.3175877095426,32.3291256401299,0.139706958158727,-19.2344407557776,-0.753639303022988,5.14591809677491,0.805699451962997,-6.69306169796874,-9.49256761772359,-6.0479535927099,7.09310228376605,-35.1860370403493,-12.7221978645735,45.5342207430419,24.5346081090569,-18.0355578947545,-40.5860902842482,-7.14781706037574,3.83489342948745,6.53037262107185,21.3698522335619,21.3854729897448,12.4732083450607,-2.76199005560521,-6.10912420452591,-31.3417030408723,-53.7614055688473,-29.134032789524,52.1755776240192,73.9777025001102,11.5585259612802,-12.9245878571118,-16.7782404924756,-36.908699574417,-47.4508291676516,-37.378161238738,-13.7760079965805,4.21563983309742,-12.1965833694242,-26.4656356619663,-34.1722238862303,-43.9246727355478,-34.5931540794018,26.4195855925436,19.6893879064706,4.80569648426343,-4.6219223141402,-17.2417431441673,-60.8015292555929,-65.2766701762302,-5.32911479738823,-20.2875735222416,28.2861315042898,98.3511956699796,109.695883783079,-27.0365168453799,-18.3995432239796,-40.8254194417564,-74.4942706132974,-56.2405374012947,-24.4204921540444,1.37521507550803,-8.11720768135629,-3.85944401236396,17.760568874328,26.029332159384,4.15195512335145,-36.313510627621,-84.9607451884724,-9.52902155780248,7.49316897992309,-3.56386498255245,-9.29536853228531,-2.8715831873187,8.79593101355424,0.279194692729752,91.2903802277026,245.680509202373,147.852502220698,-333.398361853596,18.1049977183792,2.64933771447332,12.2349321018398,16.1726602191609,49.1678905161084,64.8107276310266,-23.3085360488293,-1.11124638747365,10.7517453363579,3.61358605579098,2.97226581395004,2.32394158295796,26.5844695618017,4.60477512247171,4.04941845182281,3.60554948711983,-16.0204246598168,11.1929515504656,185.592885888921,153.118745451815,-14.6746034367503,-41.5832870336786,-60.521834487582,-52.1608705406441,-59.8255505495827,-68.8942947990213,-63.2504050219333,-8.1255212917032,-16.2505726702338,27.7304059466698,40.2918902233396,48.5121087481976,8.49139066669173,16.4686333363604,21.6359857279485,8.69679600485839,9.96425458058736,19.0079454214786,19.2515307468948,34.783488464658,103.606612275594,54.28945958376,-31.7197208427964,-59.4765673230102,-8.70828314373739,-29.5737717629498,-26.9721683806612,-26.1284859875618,-10.6917269068906,-14.6436703458851,-25.7289193504425,24.7632819812043,22.9709102526846,12.3742467471943,2.43158264556549,-5.29131034468349,-6.70040895223394,0.59376488933797,-53.8973667614939,-53.3924790047728,-18.1578104498078,17.7532100079297,19.7654728296988,-31.6147974766919,3.09824112982592,36.2737612299922,12.8735077191287,-25.3128212224996,-23.939901318977,10.3591880976243,-2.71437694664403,-12.0026384920305,-16.7466439075174,-5.92299459831308,7.90344171457108,15.3895444399083,-2.00638414714786,-3.18426424321671,-32.1205637295744,-68.8685583392772,-38.2624606800421,15.0671667349794,35.7026030307567,5.23892258329587,34.6747094864205,45.4358609426539,43.8583692216777,32.3229772963541,20.3649221776227,-0.0098287809292859,25.7552804740226,38.057714039633,33.5587902284968,5.31926209042162,1.27400131754036,14.8487932265837,14.4436391591434,14.9508443588071,25.6339290340325,12.6580299410414,-13.5329721211935,-44.5302788479984,-7.67826124341165,8.07136402353603,26.3008271624264,47.6099452676639,35.7544343559381,29.3391137105515,18.2399767834432,-6.06886715934088,-31.4545137640202,-19.2430015324229,-14.6838014693839,-17.6787477950038,10.5554946154897,44.2264192404722,-1.41470396157105,31.9966066367172,45.8701758793681,24.8317119675723,13.6271391848378,24.6614456689177,46.474778891536,8.91401810060415,30.4979782208895,33.047512776431,35.6786141802149,19.0333354535718,-3.24877250929749,-8.88884228784867,-14.8027921119629,-8.32124611995673,55.6663079871977,79.5687005578493,29.7426861556415,-24.1899667103975,-38.9227465202143,8.56641282682078,4.87620257241154,-3.34916268444458,-0.726206473820636,-3.40804463552317,-1.72459337493508,-42.2471103526265,-49.5452315727027,-51.3584298612225,-34.4312246331452,1.51697935174231,19.8058443965455,19.7847902951218,-24.6532874633366,-12.159759039251,-14.2077558301076,-20.6688177207622,-25.5909448853045,-11.5469258155842,1.83602203610273,-24.1540897964184,-25.5171340757773,-1.24654902135889,9.38712632540303,17.623310348367,46.941728404846,47.0263614466714],\"xaxis\":\"x\",\"y\":[-28.5049270297964,-9.25482758672267,11.4671668539991,7.58934023489402,9.58763822669017,-15.1518196851637,-5.87177673926499,-8.46822092206666,0.741882607775409,10.1330927721447,6.54835252465787,10.811868039541,12.6219281643371,6.29956888272039,12.6343506036726,8.37572610251672,-15.0451246196668,-6.72336565331982,4.26234932509716,5.942712180101,9.89783288410401,9.0352022196199,-26.6454699084329,-3.15242209709977,-6.04373111345512,1.38427498044875,5.29863991395953,4.83879571456259,8.37928775614368,23.0479206932275,24.9408701733839,19.3591165702629,11.6613897097151,10.4719064565829,3.92218475199391,-34.4755931114312,-16.089442430489,4.7353845099716,3.48756412292239,-1.33168606355351,9.24431677514328,-4.03825812793281,-0.0127628981290471,8.27138048245027,5.35771851124252,1.2114196029454,4.38195627002496,-18.8707453603393,-0.551715053042983,9.39275081802253,9.28768945993038,6.45848647152344,4.82659113728171,30.6909451334319,25.2373241823837,18.4790665973891,11.5540081403992,0.229784449377391,2.47691998513882,12.4149670547848,18.4373561995228,21.2291501634753,16.7091641834189,9.94562677495569,3.22261292243179,9.89200428704045,0.708895352197004,-3.98211725441395,16.0409834999789,30.0416605215649,23.4472722314034,11.4066187053077,9.47480023141833,11.1819878591879,3.92615914913315,11.5082499006972,7.1961671331519,11.0575202679318,2.63924691315003,-4.18332712071303,-4.24241104142757,-17.4487610359417,-18.2749604611364,-5.55182569588465,4.53082553555313,-1.84668418087632,-21.3694233754034,-16.4555042471682,-11.1479851829298,-5.56827102538198,6.07744735730633,3.73839010276141,11.605745514651,19.2636802391597,14.7122203837527,12.1721202738655,8.72077183828306,3.31220099860487,-1.49702096509486,21.8365272778885,21.2591079096366,15.0676322875762,3.89333430618714,5.05291216149951,3.33622937858128,2.21864320518497,-18.1507321219336,0.856322359568757,11.0652844658975,12.2714246344804,3.85697190263608,-9.89099315306677,5.21497704641241,9.52045057689419,9.79365752258444,1.1024825201909,-1.71230458541824,4.90039330372656,8.4243192521195,23.2538803011038,24.4495894792066,23.5314418237451,16.6141099431489,15.2397849982149,8.15505807001882,-26.5110267238868,-17.8152337154357,9.80399393403288,15.9633075590017,13.5482285540048,10.9674472107934,6.78351626174026,-3.25398526380206,1.65449380998911,3.47109709489284,-1.1296862328614,17.0730891496859,21.6795579166217,13.7449889112552,9.62551921736708,13.3988312631259,-1.64456137647596,0.993417662231074,10.2818813266411,2.599677175552,5.12380249440302,5.00912516639245,4.61815966524337,8.46504117152728,-23.9314464232278,-4.41731044544183,5.57465443021681,0.567473425103259,-1.13660719955666,0.185764216228179,-9.9239380907812,-8.04909511868244,3.84648309854933,2.6929578115302,7.25886257423875,2.81361736961685,-2.80076163335877,-10.5757565048856,-38.9150196904867,-31.278943617524,-18.8165735819026,-11.0400607928447,4.86988216916696,17.7437549399728,16.5289069852287,12.946825691979,-1.63153636761816,-1.80806059501236,-13.9509001980534,-10.0043985817277,-12.512797331177,-11.3454755957477,-14.1703929246025,-1.05755204807478,-14.2264928381315,-34.7316848566607,-20.6721823576364,-18.2617804704502,-25.9283818488343,-34.5742404113454,-21.7972464147065,-18.2935443042901,22.2299535695349,20.73929397058,9.00266639309591,5.77567274571874,-0.644556149337319,-8.92528699682843,-3.98722834437007,-22.8235369191641,-7.41260620087782,13.8272879385427,-4.2290049998272,-0.0270334033766204,-27.3990135988523,-24.1554222699767,-22.3237617521358,-26.9540753816885,-16.960289825746,-4.71267587554884,12.4237544570511,14.8579946883421,10.6349683914764,-1.60109759508604,-6.24960816270303,-4.50889803630838,1.01976111716961,-8.4389711036406,-8.68982246625474,-5.33832385300232,-4.43109245897922,-4.14791324744876,-2.52738802090012,-4.8719697508324,-23.4720343953901,-3.06056319558062,0.0503487435044363,3.28045109881901,-1.67426150938228,3.87182415324629,-1.92379265596195,-7.0843810349917,-5.49582485690637,-5.06859872141715,-0.768457708663192,-6.89530476303518,16.8890853854461,22.0141609687897,25.0574612501309,6.92384018522601,-1.86157103175113,-4.518088353831,9.68244192228471,-36.2560723172987,-12.0535629809708,-12.551951979995,-7.90751352267908,0.823646282186317,0.356505711741292,-4.50217483112955,-41.0869198818865,-39.5029921385306,-35.9558423869978,-25.2980680584607,-12.9624705962992,-10.2294024473493,-8.88265234785006,-2.52975215010916,3.41103953693483,5.48711398977356,-3.7346337711587,1.37159256939503,-3.86941356154765,1.90501089193874,10.4704401761631,27.2234224730421,20.2113119584339,19.4047818538849,5.66460601637567,3.8434843990502,-4.01267022518479,11.9116587267464,17.7767883227353,12.4429259892432,12.2707095862753,-1.96270772585089,-11.9801468654297,1.95128538998412,-4.99834641693066,28.8101007240316,13.6807376316356,13.4279031752588,-9.73837147218498,7.28834347233177,-26.9795424707877,-50.2278013756437,-57.0433119186431,-58.3565274264648,-50.1822819608467,-35.5135962682099,-13.4397821501118,-52.5021717524072,-44.0952504333918,-12.0504696632351,2.35979798765497,10.4745000059171,9.38855894491363,-3.75821960733397,-48.4898326278607,-48.6960127915172,-49.7433413166114,-39.0829114511128,-10.0092936934856,-9.24835321663394,-6.12553412175131],\"yaxis\":\"y\",\"type\":\"scatter\"}],                        {\"template\":{\"data\":{\"histogram2dcontour\":[{\"type\":\"histogram2dcontour\",\"colorbar\":{\"outlinewidth\":0,\"ticks\":\"\"},\"colorscale\":[[0.0,\"#0d0887\"],[0.1111111111111111,\"#46039f\"],[0.2222222222222222,\"#7201a8\"],[0.3333333333333333,\"#9c179e\"],[0.4444444444444444,\"#bd3786\"],[0.5555555555555556,\"#d8576b\"],[0.6666666666666666,\"#ed7953\"],[0.7777777777777778,\"#fb9f3a\"],[0.8888888888888888,\"#fdca26\"],[1.0,\"#f0f921\"]]}],\"choropleth\":[{\"type\":\"choropleth\",\"colorbar\":{\"outlinewidth\":0,\"ticks\":\"\"}}],\"histogram2d\":[{\"type\":\"histogram2d\",\"colorbar\":{\"outlinewidth\":0,\"ticks\":\"\"},\"colorscale\":[[0.0,\"#0d0887\"],[0.1111111111111111,\"#46039f\"],[0.2222222222222222,\"#7201a8\"],[0.3333333333333333,\"#9c179e\"],[0.4444444444444444,\"#bd3786\"],[0.5555555555555556,\"#d8576b\"],[0.6666666666666666,\"#ed7953\"],[0.7777777777777778,\"#fb9f3a\"],[0.8888888888888888,\"#fdca26\"],[1.0,\"#f0f921\"]]}],\"heatmap\":[{\"type\":\"heatmap\",\"colorbar\":{\"outlinewidth\":0,\"ticks\":\"\"},\"colorscale\":[[0.0,\"#0d0887\"],[0.1111111111111111,\"#46039f\"],[0.2222222222222222,\"#7201a8\"],[0.3333333333333333,\"#9c179e\"],[0.4444444444444444,\"#bd3786\"],[0.5555555555555556,\"#d8576b\"],[0.6666666666666666,\"#ed7953\"],[0.7777777777777778,\"#fb9f3a\"],[0.8888888888888888,\"#fdca26\"],[1.0,\"#f0f921\"]]}],\"heatmapgl\":[{\"type\":\"heatmapgl\",\"colorbar\":{\"outlinewidth\":0,\"ticks\":\"\"},\"colorscale\":[[0.0,\"#0d0887\"],[0.1111111111111111,\"#46039f\"],[0.2222222222222222,\"#7201a8\"],[0.3333333333333333,\"#9c179e\"],[0.4444444444444444,\"#bd3786\"],[0.5555555555555556,\"#d8576b\"],[0.6666666666666666,\"#ed7953\"],[0.7777777777777778,\"#fb9f3a\"],[0.8888888888888888,\"#fdca26\"],[1.0,\"#f0f921\"]]}],\"contourcarpet\":[{\"type\":\"contourcarpet\",\"colorbar\":{\"outlinewidth\":0,\"ticks\":\"\"}}],\"contour\":[{\"type\":\"contour\",\"colorbar\":{\"outlinewidth\":0,\"ticks\":\"\"},\"colorscale\":[[0.0,\"#0d0887\"],[0.1111111111111111,\"#46039f\"],[0.2222222222222222,\"#7201a8\"],[0.3333333333333333,\"#9c179e\"],[0.4444444444444444,\"#bd3786\"],[0.5555555555555556,\"#d8576b\"],[0.6666666666666666,\"#ed7953\"],[0.7777777777777778,\"#fb9f3a\"],[0.8888888888888888,\"#fdca26\"],[1.0,\"#f0f921\"]]}],\"surface\":[{\"type\":\"surface\",\"colorbar\":{\"outlinewidth\":0,\"ticks\":\"\"},\"colorscale\":[[0.0,\"#0d0887\"],[0.1111111111111111,\"#46039f\"],[0.2222222222222222,\"#7201a8\"],[0.3333333333333333,\"#9c179e\"],[0.4444444444444444,\"#bd3786\"],[0.5555555555555556,\"#d8576b\"],[0.6666666666666666,\"#ed7953\"],[0.7777777777777778,\"#fb9f3a\"],[0.8888888888888888,\"#fdca26\"],[1.0,\"#f0f921\"]]}],\"mesh3d\":[{\"type\":\"mesh3d\",\"colorbar\":{\"outlinewidth\":0,\"ticks\":\"\"}}],\"scatter\":[{\"fillpattern\":{\"fillmode\":\"overlay\",\"size\":10,\"solidity\":0.2},\"type\":\"scatter\"}],\"parcoords\":[{\"type\":\"parcoords\",\"line\":{\"colorbar\":{\"outlinewidth\":0,\"ticks\":\"\"}}}],\"scatterpolargl\":[{\"type\":\"scatterpolargl\",\"marker\":{\"colorbar\":{\"outlinewidth\":0,\"ticks\":\"\"}}}],\"bar\":[{\"error_x\":{\"color\":\"#2a3f5f\"},\"error_y\":{\"color\":\"#2a3f5f\"},\"marker\":{\"line\":{\"color\":\"#E5ECF6\",\"width\":0.5},\"pattern\":{\"fillmode\":\"overlay\",\"size\":10,\"solidity\":0.2}},\"type\":\"bar\"}],\"scattergeo\":[{\"type\":\"scattergeo\",\"marker\":{\"colorbar\":{\"outlinewidth\":0,\"ticks\":\"\"}}}],\"scatterpolar\":[{\"type\":\"scatterpolar\",\"marker\":{\"colorbar\":{\"outlinewidth\":0,\"ticks\":\"\"}}}],\"histogram\":[{\"marker\":{\"pattern\":{\"fillmode\":\"overlay\",\"size\":10,\"solidity\":0.2}},\"type\":\"histogram\"}],\"scattergl\":[{\"type\":\"scattergl\",\"marker\":{\"colorbar\":{\"outlinewidth\":0,\"ticks\":\"\"}}}],\"scatter3d\":[{\"type\":\"scatter3d\",\"line\":{\"colorbar\":{\"outlinewidth\":0,\"ticks\":\"\"}},\"marker\":{\"colorbar\":{\"outlinewidth\":0,\"ticks\":\"\"}}}],\"scattermapbox\":[{\"type\":\"scattermapbox\",\"marker\":{\"colorbar\":{\"outlinewidth\":0,\"ticks\":\"\"}}}],\"scatterternary\":[{\"type\":\"scatterternary\",\"marker\":{\"colorbar\":{\"outlinewidth\":0,\"ticks\":\"\"}}}],\"scattercarpet\":[{\"type\":\"scattercarpet\",\"marker\":{\"colorbar\":{\"outlinewidth\":0,\"ticks\":\"\"}}}],\"carpet\":[{\"aaxis\":{\"endlinecolor\":\"#2a3f5f\",\"gridcolor\":\"white\",\"linecolor\":\"white\",\"minorgridcolor\":\"white\",\"startlinecolor\":\"#2a3f5f\"},\"baxis\":{\"endlinecolor\":\"#2a3f5f\",\"gridcolor\":\"white\",\"linecolor\":\"white\",\"minorgridcolor\":\"white\",\"startlinecolor\":\"#2a3f5f\"},\"type\":\"carpet\"}],\"table\":[{\"cells\":{\"fill\":{\"color\":\"#EBF0F8\"},\"line\":{\"color\":\"white\"}},\"header\":{\"fill\":{\"color\":\"#C8D4E3\"},\"line\":{\"color\":\"white\"}},\"type\":\"table\"}],\"barpolar\":[{\"marker\":{\"line\":{\"color\":\"#E5ECF6\",\"width\":0.5},\"pattern\":{\"fillmode\":\"overlay\",\"size\":10,\"solidity\":0.2}},\"type\":\"barpolar\"}],\"pie\":[{\"automargin\":true,\"type\":\"pie\"}]},\"layout\":{\"autotypenumbers\":\"strict\",\"colorway\":[\"#636efa\",\"#EF553B\",\"#00cc96\",\"#ab63fa\",\"#FFA15A\",\"#19d3f3\",\"#FF6692\",\"#B6E880\",\"#FF97FF\",\"#FECB52\"],\"font\":{\"color\":\"#2a3f5f\"},\"hovermode\":\"closest\",\"hoverlabel\":{\"align\":\"left\"},\"paper_bgcolor\":\"white\",\"plot_bgcolor\":\"#E5ECF6\",\"polar\":{\"bgcolor\":\"#E5ECF6\",\"angularaxis\":{\"gridcolor\":\"white\",\"linecolor\":\"white\",\"ticks\":\"\"},\"radialaxis\":{\"gridcolor\":\"white\",\"linecolor\":\"white\",\"ticks\":\"\"}},\"ternary\":{\"bgcolor\":\"#E5ECF6\",\"aaxis\":{\"gridcolor\":\"white\",\"linecolor\":\"white\",\"ticks\":\"\"},\"baxis\":{\"gridcolor\":\"white\",\"linecolor\":\"white\",\"ticks\":\"\"},\"caxis\":{\"gridcolor\":\"white\",\"linecolor\":\"white\",\"ticks\":\"\"}},\"coloraxis\":{\"colorbar\":{\"outlinewidth\":0,\"ticks\":\"\"}},\"colorscale\":{\"sequential\":[[0.0,\"#0d0887\"],[0.1111111111111111,\"#46039f\"],[0.2222222222222222,\"#7201a8\"],[0.3333333333333333,\"#9c179e\"],[0.4444444444444444,\"#bd3786\"],[0.5555555555555556,\"#d8576b\"],[0.6666666666666666,\"#ed7953\"],[0.7777777777777778,\"#fb9f3a\"],[0.8888888888888888,\"#fdca26\"],[1.0,\"#f0f921\"]],\"sequentialminus\":[[0.0,\"#0d0887\"],[0.1111111111111111,\"#46039f\"],[0.2222222222222222,\"#7201a8\"],[0.3333333333333333,\"#9c179e\"],[0.4444444444444444,\"#bd3786\"],[0.5555555555555556,\"#d8576b\"],[0.6666666666666666,\"#ed7953\"],[0.7777777777777778,\"#fb9f3a\"],[0.8888888888888888,\"#fdca26\"],[1.0,\"#f0f921\"]],\"diverging\":[[0,\"#8e0152\"],[0.1,\"#c51b7d\"],[0.2,\"#de77ae\"],[0.3,\"#f1b6da\"],[0.4,\"#fde0ef\"],[0.5,\"#f7f7f7\"],[0.6,\"#e6f5d0\"],[0.7,\"#b8e186\"],[0.8,\"#7fbc41\"],[0.9,\"#4d9221\"],[1,\"#276419\"]]},\"xaxis\":{\"gridcolor\":\"white\",\"linecolor\":\"white\",\"ticks\":\"\",\"title\":{\"standoff\":15},\"zerolinecolor\":\"white\",\"automargin\":true,\"zerolinewidth\":2},\"yaxis\":{\"gridcolor\":\"white\",\"linecolor\":\"white\",\"ticks\":\"\",\"title\":{\"standoff\":15},\"zerolinecolor\":\"white\",\"automargin\":true,\"zerolinewidth\":2},\"scene\":{\"xaxis\":{\"backgroundcolor\":\"#E5ECF6\",\"gridcolor\":\"white\",\"linecolor\":\"white\",\"showbackground\":true,\"ticks\":\"\",\"zerolinecolor\":\"white\",\"gridwidth\":2},\"yaxis\":{\"backgroundcolor\":\"#E5ECF6\",\"gridcolor\":\"white\",\"linecolor\":\"white\",\"showbackground\":true,\"ticks\":\"\",\"zerolinecolor\":\"white\",\"gridwidth\":2},\"zaxis\":{\"backgroundcolor\":\"#E5ECF6\",\"gridcolor\":\"white\",\"linecolor\":\"white\",\"showbackground\":true,\"ticks\":\"\",\"zerolinecolor\":\"white\",\"gridwidth\":2}},\"shapedefaults\":{\"line\":{\"color\":\"#2a3f5f\"}},\"annotationdefaults\":{\"arrowcolor\":\"#2a3f5f\",\"arrowhead\":0,\"arrowwidth\":1},\"geo\":{\"bgcolor\":\"white\",\"landcolor\":\"#E5ECF6\",\"subunitcolor\":\"white\",\"showland\":true,\"showlakes\":true,\"lakecolor\":\"white\"},\"title\":{\"x\":0.05},\"mapbox\":{\"style\":\"light\"}}},\"xaxis\":{\"anchor\":\"y\",\"domain\":[0.0,1.0],\"title\":{\"text\":\"x\"}},\"yaxis\":{\"anchor\":\"x\",\"domain\":[0.0,1.0],\"title\":{\"text\":\"y\"}},\"legend\":{\"tracegroupgap\":0},\"margin\":{\"t\":60}},                        {\"responsive\": true}                    ).then(function(){\n",
       "                            \n",
       "var gd = document.getElementById('83ab482d-652a-4742-baa9-83b287bacf63');\n",
       "var x = new MutationObserver(function (mutations, observer) {{\n",
       "        var display = window.getComputedStyle(gd).display;\n",
       "        if (!display || display === 'none') {{\n",
       "            console.log([gd, 'removed!']);\n",
       "            Plotly.purge(gd);\n",
       "            observer.disconnect();\n",
       "        }}\n",
       "}});\n",
       "\n",
       "// Listen for the removal of the full notebook cells\n",
       "var notebookContainer = gd.closest('#notebook-container');\n",
       "if (notebookContainer) {{\n",
       "    x.observe(notebookContainer, {childList: true});\n",
       "}}\n",
       "\n",
       "// Listen for the clearing of the current output cell\n",
       "var outputEl = gd.closest('.output');\n",
       "if (outputEl) {{\n",
       "    x.observe(outputEl, {childList: true});\n",
       "}}\n",
       "\n",
       "                        })                };                });            </script>        </div>"
      ]
     },
     "metadata": {},
     "output_type": "display_data"
    },
    {
     "name": "stdout",
     "output_type": "stream",
     "text": [
      "0.3\n"
     ]
    },
    {
     "data": {
      "application/vnd.plotly.v1+json": {
       "config": {
        "plotlyServerURL": "https://plot.ly"
       },
       "data": [
        {
         "hovertemplate": "x=%{x}<br>y=%{y}<extra></extra>",
         "legendgroup": "",
         "marker": {
          "color": "#636efa",
          "symbol": "circle"
         },
         "mode": "markers",
         "name": "",
         "orientation": "v",
         "showlegend": false,
         "type": "scatter",
         "x": [
          2.16700095131788,
          47.5766387431462,
          49.3150436841393,
          -11.5673427289504,
          -75.9511846246276,
          -25.8363212877844,
          -44.7830714863945,
          -37.2411847241929,
          -25.0462005828241,
          -22.3127699977027,
          -19.286595898598,
          -32.8196173016797,
          -60.31684339368,
          -130.725320481358,
          -195.774932664883,
          -123.040086874692,
          -28.4080875967109,
          -56.5308048685986,
          -76.6499923874046,
          -146.29158060771,
          -231.816664451122,
          -335.560172122465,
          18.9413078735378,
          44.2814859180422,
          36.4529015677793,
          -24.6309764622986,
          -96.8522595273715,
          -118.108284850998,
          -2.44419731712446,
          2.62541092480438,
          50.1976322363776,
          84.7221387832074,
          68.407489410053,
          0.430399347104152,
          1.8966854757415,
          -32.5933818083917,
          -37.2446289921001,
          -25.7871179775242,
          -21.2199470766159,
          -53.1800082421607,
          -92.7659290162809,
          -8.50390566407592,
          -16.1700125776522,
          -42.0732254141337,
          -64.674509408646,
          -87.4500601243855,
          -100.292010291164,
          -21.9084286025931,
          -45.3280907098232,
          -66.2984770343286,
          -85.6032850270131,
          -103.441227204554,
          -109.371638438445,
          27.3961010195451,
          33.521354743861,
          43.0888890573378,
          49.3569439785171,
          32.3588241486286,
          0.160080284943977,
          -19.2227034617447,
          -0.474638678712436,
          5.36177026953815,
          0.980798720315712,
          -6.5829007558056,
          -9.45491777511811,
          -6.00404357423605,
          7.15480091616661,
          -35.2206491186182,
          -12.7668047763541,
          45.4819732746354,
          24.4350796565774,
          -18.2470440536074,
          -40.8521920693085,
          -7.28521185045672,
          3.82346897052341,
          6.48850713459821,
          21.3509832346965,
          21.3860052416489,
          12.4854748555886,
          -2.74795130339598,
          -6.10578650844949,
          -31.3805979964369,
          -53.7967566193541,
          -29.1251909085416,
          52.229226017504,
          74.0233376077696,
          11.5623763952831,
          -12.9197416686439,
          -16.7726961240974,
          -36.9021066229285,
          -47.4445253857641,
          -37.3717864948617,
          -13.9699882822004,
          4.21570123103782,
          -12.1955574089865,
          -26.4702114608211,
          -34.1898022026767,
          -43.9510042961323,
          -34.6199618354212,
          26.3802416330333,
          19.7043419374152,
          4.8094481570795,
          -4.61003320512695,
          -17.1930972081662,
          -60.7115479801541,
          -65.1919852911066,
          -5.33471077037251,
          -20.3840482411994,
          28.2868050777527,
          98.478310272009,
          109.8425981701,
          -26.8435675342873,
          -18.3120169000009,
          -40.8299897917874,
          -74.535074924074,
          -56.2649412049401,
          -24.411364216856,
          1.4043115751866,
          -8.11327383796406,
          -3.94709484317835,
          17.6941315599689,
          25.9847698656235,
          4.16350042939774,
          -36.2677451102456,
          -84.9143817497337,
          -9.45396755315781,
          7.51033236795914,
          -3.48292191157872,
          -9.24759248859207,
          -2.85965911535831,
          8.81513877671138,
          0.299520047250446,
          91.2744578114059,
          245.676575204619,
          147.897835126187,
          -333.307978953329,
          18.1049835604788,
          2.64932299101212,
          12.2349249869207,
          16.1726551453555,
          49.1679103455539,
          64.8107420685796,
          -23.5388478925957,
          -1.18159307527534,
          10.6995761132536,
          3.63234058329567,
          3.05700621216743,
          2.44713911870553,
          26.9343804484491,
          4.64314080376995,
          4.04852098458103,
          3.58677958526607,
          -16.0482061246032,
          11.1673557741749,
          185.573890465555,
          153.114051054684,
          -15.3835178414029,
          -41.3654206091989,
          -60.7168767452928,
          -52.9694552915795,
          -60.3999415544439,
          -67.6581523009785,
          -60.8762116400241,
          -8.1255020224385,
          -16.2505140210195,
          27.7304847951311,
          40.2919397857437,
          48.5121413552076,
          8.47003500241558,
          16.4285989021643,
          21.5914669082254,
          8.66656115129346,
          9.94602276921733,
          18.9942707762879,
          19.2337543777779,
          34.7834872565504,
          103.606612811797,
          54.2894591292453,
          -31.7197212922506,
          -59.4765680411913,
          -8.70838125941404,
          -29.5737574877816,
          -26.9721719927744,
          -26.1284941121376,
          -10.6917356922136,
          -14.6436781194121,
          -25.7289230476795,
          24.7630570227431,
          22.97107484843,
          12.374392982427,
          2.43170105372781,
          -5.29120905605584,
          -6.70027910368891,
          0.593908064256585,
          -53.5267126349445,
          -52.7778438621205,
          -17.6537692137406,
          18.0635843826894,
          19.9182828805922,
          -31.5965582209216,
          3.09189012139201,
          36.2692848395378,
          12.8290535424992,
          -25.4177229526173,
          -24.0558081411839,
          10.3178886578311,
          -2.75924663295212,
          -12.0203669709085,
          -16.7610326104963,
          -5.942988601868,
          7.8847214169826,
          15.3826014577081,
          -2.00694973469547,
          -3.18427445558569,
          -32.1205618214332,
          -68.8685565965858,
          -38.2624620617981,
          15.0671626466508,
          35.702598013901,
          5.23794477953228,
          34.6739307291118,
          45.4353590615945,
          43.8580972540593,
          32.3230577689953,
          20.3652846417386,
          0.030308675703528,
          25.7705375520619,
          38.0750004247784,
          33.5823132083996,
          5.35986335566128,
          1.33639837887827,
          14.8570157783419,
          14.4489284673736,
          14.9508160761927,
          25.6312130797368,
          12.6562837200833,
          -13.5287686422402,
          -44.5184921819976,
          -7.88364044114997,
          7.92956345433801,
          26.3007979629381,
          47.6590900662589,
          35.5020149756246,
          28.9339369858186,
          18.1234779263279,
          -6.06835680145296,
          -31.4545270423277,
          -19.2430294956825,
          -14.6838147582093,
          -17.6787684156262,
          10.5554485327485,
          44.226374007475,
          -1.41478910057452,
          31.9966332392714,
          45.8701824742031,
          24.8317177460473,
          13.6271398396398,
          24.6614282012446,
          46.4747454998532,
          8.91510379539171,
          30.5040850274979,
          33.0522592465463,
          35.6820596964035,
          19.0342626783484,
          -3.25033626309657,
          -8.89137980965976,
          -14.8251818432675,
          -8.24931461986271,
          55.6860578219943,
          79.6037939574725,
          29.7094584024018,
          -24.2644463799525,
          -38.9656437597805,
          8.63717443586015,
          4.95312067809331,
          -3.27524788173571,
          -0.681538954587609,
          -3.37495934487189,
          -1.67985806695669,
          -42.2747922267849,
          -49.7284646299441,
          -51.3985883788207,
          -34.4138077033129,
          1.54944409236789,
          19.8353963305539,
          19.8049940851953,
          -24.9213126699754,
          -12.3983353903669,
          -14.2881375199602,
          -20.7249274957761,
          -25.632907824629,
          -11.5836663113394,
          1.80792177861625,
          -24.1539175640514,
          -25.5167091453142,
          -1.24645271836524,
          9.38713781385758,
          17.6233635844485,
          46.9418024677486,
          47.0264519099677
         ],
         "xaxis": "x",
         "y": [
          -28.5049270297964,
          -9.25482758672267,
          11.4671668539991,
          7.58934023489402,
          9.58763822669017,
          -15.1518196851637,
          -5.87177673926499,
          -8.46822092206666,
          0.741882607775409,
          10.1330927721447,
          6.54835252465787,
          10.811868039541,
          12.6219281643371,
          6.29956888272039,
          12.6343506036726,
          8.37572610251672,
          -15.0451246196668,
          -6.72336565331982,
          4.26234932509716,
          5.942712180101,
          9.89783288410401,
          9.0352022196199,
          -26.6454699084329,
          -3.15242209709977,
          -6.04373111345512,
          1.38427498044875,
          5.29863991395953,
          4.83879571456259,
          8.37928775614368,
          23.0479206932275,
          24.9408701733839,
          19.3591165702629,
          11.6613897097151,
          10.4719064565829,
          3.92218475199391,
          -34.4755931114312,
          -16.089442430489,
          4.7353845099716,
          3.48756412292239,
          -1.33168606355351,
          9.24431677514328,
          -4.03825812793281,
          -0.0127628981290471,
          8.27138048245027,
          5.35771851124252,
          1.2114196029454,
          4.38195627002496,
          -18.8707453603393,
          -0.551715053042983,
          9.39275081802253,
          9.28768945993038,
          6.45848647152344,
          4.82659113728171,
          30.6909451334319,
          25.2373241823837,
          18.4790665973891,
          11.5540081403992,
          0.229784449377391,
          2.47691998513882,
          12.4149670547848,
          18.4373561995228,
          21.2291501634753,
          16.7091641834189,
          9.94562677495569,
          3.22261292243179,
          9.89200428704045,
          0.708895352197004,
          -3.98211725441395,
          16.0409834999789,
          30.0416605215649,
          23.4472722314034,
          11.4066187053077,
          9.47480023141833,
          11.1819878591879,
          3.92615914913315,
          11.5082499006972,
          7.1961671331519,
          11.0575202679318,
          2.63924691315003,
          -4.18332712071303,
          -4.24241104142757,
          -17.4487610359417,
          -18.2749604611364,
          -5.55182569588465,
          4.53082553555313,
          -1.84668418087632,
          -21.3694233754034,
          -16.4555042471682,
          -11.1479851829298,
          -5.56827102538198,
          6.07744735730633,
          3.73839010276141,
          11.605745514651,
          19.2636802391597,
          14.7122203837527,
          12.1721202738655,
          8.72077183828306,
          3.31220099860487,
          -1.49702096509486,
          21.8365272778885,
          21.2591079096366,
          15.0676322875762,
          3.89333430618714,
          5.05291216149951,
          3.33622937858128,
          2.21864320518497,
          -18.1507321219336,
          0.856322359568757,
          11.0652844658975,
          12.2714246344804,
          3.85697190263608,
          -9.89099315306677,
          5.21497704641241,
          9.52045057689419,
          9.79365752258444,
          1.1024825201909,
          -1.71230458541824,
          4.90039330372656,
          8.4243192521195,
          23.2538803011038,
          24.4495894792066,
          23.5314418237451,
          16.6141099431489,
          15.2397849982149,
          8.15505807001882,
          -26.5110267238868,
          -17.8152337154357,
          9.80399393403288,
          15.9633075590017,
          13.5482285540048,
          10.9674472107934,
          6.78351626174026,
          -3.25398526380206,
          1.65449380998911,
          3.47109709489284,
          -1.1296862328614,
          17.0730891496859,
          21.6795579166217,
          13.7449889112552,
          9.62551921736708,
          13.3988312631259,
          -1.64456137647596,
          0.993417662231074,
          10.2818813266411,
          2.599677175552,
          5.12380249440302,
          5.00912516639245,
          4.61815966524337,
          8.46504117152728,
          -23.9314464232278,
          -4.41731044544183,
          5.57465443021681,
          0.567473425103259,
          -1.13660719955666,
          0.185764216228179,
          -9.9239380907812,
          -8.04909511868244,
          3.84648309854933,
          2.6929578115302,
          7.25886257423875,
          2.81361736961685,
          -2.80076163335877,
          -10.5757565048856,
          -38.9150196904867,
          -31.278943617524,
          -18.8165735819026,
          -11.0400607928447,
          4.86988216916696,
          17.7437549399728,
          16.5289069852287,
          12.946825691979,
          -1.63153636761816,
          -1.80806059501236,
          -13.9509001980534,
          -10.0043985817277,
          -12.512797331177,
          -11.3454755957477,
          -14.1703929246025,
          -1.05755204807478,
          -14.2264928381315,
          -34.7316848566607,
          -20.6721823576364,
          -18.2617804704502,
          -25.9283818488343,
          -34.5742404113454,
          -21.7972464147065,
          -18.2935443042901,
          22.2299535695349,
          20.73929397058,
          9.00266639309591,
          5.77567274571874,
          -0.644556149337319,
          -8.92528699682843,
          -3.98722834437007,
          -22.8235369191641,
          -7.41260620087782,
          13.8272879385427,
          -4.2290049998272,
          -0.0270334033766204,
          -27.3990135988523,
          -24.1554222699767,
          -22.3237617521358,
          -26.9540753816885,
          -16.960289825746,
          -4.71267587554884,
          12.4237544570511,
          14.8579946883421,
          10.6349683914764,
          -1.60109759508604,
          -6.24960816270303,
          -4.50889803630838,
          1.01976111716961,
          -8.4389711036406,
          -8.68982246625474,
          -5.33832385300232,
          -4.43109245897922,
          -4.14791324744876,
          -2.52738802090012,
          -4.8719697508324,
          -23.4720343953901,
          -3.06056319558062,
          0.0503487435044363,
          3.28045109881901,
          -1.67426150938228,
          3.87182415324629,
          -1.92379265596195,
          -7.0843810349917,
          -5.49582485690637,
          -5.06859872141715,
          -0.768457708663192,
          -6.89530476303518,
          16.8890853854461,
          22.0141609687897,
          25.0574612501309,
          6.92384018522601,
          -1.86157103175113,
          -4.518088353831,
          9.68244192228471,
          -36.2560723172987,
          -12.0535629809708,
          -12.551951979995,
          -7.90751352267908,
          0.823646282186317,
          0.356505711741292,
          -4.50217483112955,
          -41.0869198818865,
          -39.5029921385306,
          -35.9558423869978,
          -25.2980680584607,
          -12.9624705962992,
          -10.2294024473493,
          -8.88265234785006,
          -2.52975215010916,
          3.41103953693483,
          5.48711398977356,
          -3.7346337711587,
          1.37159256939503,
          -3.86941356154765,
          1.90501089193874,
          10.4704401761631,
          27.2234224730421,
          20.2113119584339,
          19.4047818538849,
          5.66460601637567,
          3.8434843990502,
          -4.01267022518479,
          11.9116587267464,
          17.7767883227353,
          12.4429259892432,
          12.2707095862753,
          -1.96270772585089,
          -11.9801468654297,
          1.95128538998412,
          -4.99834641693066,
          28.8101007240316,
          13.6807376316356,
          13.4279031752588,
          -9.73837147218498,
          7.28834347233177,
          -26.9795424707877,
          -50.2278013756437,
          -57.0433119186431,
          -58.3565274264648,
          -50.1822819608467,
          -35.5135962682099,
          -13.4397821501118,
          -52.5021717524072,
          -44.0952504333918,
          -12.0504696632351,
          2.35979798765497,
          10.4745000059171,
          9.38855894491363,
          -3.75821960733397,
          -48.4898326278607,
          -48.6960127915172,
          -49.7433413166114,
          -39.0829114511128,
          -10.0092936934856,
          -9.24835321663394,
          -6.12553412175131
         ],
         "yaxis": "y"
        }
       ],
       "layout": {
        "legend": {
         "tracegroupgap": 0
        },
        "margin": {
         "t": 60
        },
        "template": {
         "data": {
          "bar": [
           {
            "error_x": {
             "color": "#2a3f5f"
            },
            "error_y": {
             "color": "#2a3f5f"
            },
            "marker": {
             "line": {
              "color": "#E5ECF6",
              "width": 0.5
             },
             "pattern": {
              "fillmode": "overlay",
              "size": 10,
              "solidity": 0.2
             }
            },
            "type": "bar"
           }
          ],
          "barpolar": [
           {
            "marker": {
             "line": {
              "color": "#E5ECF6",
              "width": 0.5
             },
             "pattern": {
              "fillmode": "overlay",
              "size": 10,
              "solidity": 0.2
             }
            },
            "type": "barpolar"
           }
          ],
          "carpet": [
           {
            "aaxis": {
             "endlinecolor": "#2a3f5f",
             "gridcolor": "white",
             "linecolor": "white",
             "minorgridcolor": "white",
             "startlinecolor": "#2a3f5f"
            },
            "baxis": {
             "endlinecolor": "#2a3f5f",
             "gridcolor": "white",
             "linecolor": "white",
             "minorgridcolor": "white",
             "startlinecolor": "#2a3f5f"
            },
            "type": "carpet"
           }
          ],
          "choropleth": [
           {
            "colorbar": {
             "outlinewidth": 0,
             "ticks": ""
            },
            "type": "choropleth"
           }
          ],
          "contour": [
           {
            "colorbar": {
             "outlinewidth": 0,
             "ticks": ""
            },
            "colorscale": [
             [
              0,
              "#0d0887"
             ],
             [
              0.1111111111111111,
              "#46039f"
             ],
             [
              0.2222222222222222,
              "#7201a8"
             ],
             [
              0.3333333333333333,
              "#9c179e"
             ],
             [
              0.4444444444444444,
              "#bd3786"
             ],
             [
              0.5555555555555556,
              "#d8576b"
             ],
             [
              0.6666666666666666,
              "#ed7953"
             ],
             [
              0.7777777777777778,
              "#fb9f3a"
             ],
             [
              0.8888888888888888,
              "#fdca26"
             ],
             [
              1,
              "#f0f921"
             ]
            ],
            "type": "contour"
           }
          ],
          "contourcarpet": [
           {
            "colorbar": {
             "outlinewidth": 0,
             "ticks": ""
            },
            "type": "contourcarpet"
           }
          ],
          "heatmap": [
           {
            "colorbar": {
             "outlinewidth": 0,
             "ticks": ""
            },
            "colorscale": [
             [
              0,
              "#0d0887"
             ],
             [
              0.1111111111111111,
              "#46039f"
             ],
             [
              0.2222222222222222,
              "#7201a8"
             ],
             [
              0.3333333333333333,
              "#9c179e"
             ],
             [
              0.4444444444444444,
              "#bd3786"
             ],
             [
              0.5555555555555556,
              "#d8576b"
             ],
             [
              0.6666666666666666,
              "#ed7953"
             ],
             [
              0.7777777777777778,
              "#fb9f3a"
             ],
             [
              0.8888888888888888,
              "#fdca26"
             ],
             [
              1,
              "#f0f921"
             ]
            ],
            "type": "heatmap"
           }
          ],
          "heatmapgl": [
           {
            "colorbar": {
             "outlinewidth": 0,
             "ticks": ""
            },
            "colorscale": [
             [
              0,
              "#0d0887"
             ],
             [
              0.1111111111111111,
              "#46039f"
             ],
             [
              0.2222222222222222,
              "#7201a8"
             ],
             [
              0.3333333333333333,
              "#9c179e"
             ],
             [
              0.4444444444444444,
              "#bd3786"
             ],
             [
              0.5555555555555556,
              "#d8576b"
             ],
             [
              0.6666666666666666,
              "#ed7953"
             ],
             [
              0.7777777777777778,
              "#fb9f3a"
             ],
             [
              0.8888888888888888,
              "#fdca26"
             ],
             [
              1,
              "#f0f921"
             ]
            ],
            "type": "heatmapgl"
           }
          ],
          "histogram": [
           {
            "marker": {
             "pattern": {
              "fillmode": "overlay",
              "size": 10,
              "solidity": 0.2
             }
            },
            "type": "histogram"
           }
          ],
          "histogram2d": [
           {
            "colorbar": {
             "outlinewidth": 0,
             "ticks": ""
            },
            "colorscale": [
             [
              0,
              "#0d0887"
             ],
             [
              0.1111111111111111,
              "#46039f"
             ],
             [
              0.2222222222222222,
              "#7201a8"
             ],
             [
              0.3333333333333333,
              "#9c179e"
             ],
             [
              0.4444444444444444,
              "#bd3786"
             ],
             [
              0.5555555555555556,
              "#d8576b"
             ],
             [
              0.6666666666666666,
              "#ed7953"
             ],
             [
              0.7777777777777778,
              "#fb9f3a"
             ],
             [
              0.8888888888888888,
              "#fdca26"
             ],
             [
              1,
              "#f0f921"
             ]
            ],
            "type": "histogram2d"
           }
          ],
          "histogram2dcontour": [
           {
            "colorbar": {
             "outlinewidth": 0,
             "ticks": ""
            },
            "colorscale": [
             [
              0,
              "#0d0887"
             ],
             [
              0.1111111111111111,
              "#46039f"
             ],
             [
              0.2222222222222222,
              "#7201a8"
             ],
             [
              0.3333333333333333,
              "#9c179e"
             ],
             [
              0.4444444444444444,
              "#bd3786"
             ],
             [
              0.5555555555555556,
              "#d8576b"
             ],
             [
              0.6666666666666666,
              "#ed7953"
             ],
             [
              0.7777777777777778,
              "#fb9f3a"
             ],
             [
              0.8888888888888888,
              "#fdca26"
             ],
             [
              1,
              "#f0f921"
             ]
            ],
            "type": "histogram2dcontour"
           }
          ],
          "mesh3d": [
           {
            "colorbar": {
             "outlinewidth": 0,
             "ticks": ""
            },
            "type": "mesh3d"
           }
          ],
          "parcoords": [
           {
            "line": {
             "colorbar": {
              "outlinewidth": 0,
              "ticks": ""
             }
            },
            "type": "parcoords"
           }
          ],
          "pie": [
           {
            "automargin": true,
            "type": "pie"
           }
          ],
          "scatter": [
           {
            "fillpattern": {
             "fillmode": "overlay",
             "size": 10,
             "solidity": 0.2
            },
            "type": "scatter"
           }
          ],
          "scatter3d": [
           {
            "line": {
             "colorbar": {
              "outlinewidth": 0,
              "ticks": ""
             }
            },
            "marker": {
             "colorbar": {
              "outlinewidth": 0,
              "ticks": ""
             }
            },
            "type": "scatter3d"
           }
          ],
          "scattercarpet": [
           {
            "marker": {
             "colorbar": {
              "outlinewidth": 0,
              "ticks": ""
             }
            },
            "type": "scattercarpet"
           }
          ],
          "scattergeo": [
           {
            "marker": {
             "colorbar": {
              "outlinewidth": 0,
              "ticks": ""
             }
            },
            "type": "scattergeo"
           }
          ],
          "scattergl": [
           {
            "marker": {
             "colorbar": {
              "outlinewidth": 0,
              "ticks": ""
             }
            },
            "type": "scattergl"
           }
          ],
          "scattermapbox": [
           {
            "marker": {
             "colorbar": {
              "outlinewidth": 0,
              "ticks": ""
             }
            },
            "type": "scattermapbox"
           }
          ],
          "scatterpolar": [
           {
            "marker": {
             "colorbar": {
              "outlinewidth": 0,
              "ticks": ""
             }
            },
            "type": "scatterpolar"
           }
          ],
          "scatterpolargl": [
           {
            "marker": {
             "colorbar": {
              "outlinewidth": 0,
              "ticks": ""
             }
            },
            "type": "scatterpolargl"
           }
          ],
          "scatterternary": [
           {
            "marker": {
             "colorbar": {
              "outlinewidth": 0,
              "ticks": ""
             }
            },
            "type": "scatterternary"
           }
          ],
          "surface": [
           {
            "colorbar": {
             "outlinewidth": 0,
             "ticks": ""
            },
            "colorscale": [
             [
              0,
              "#0d0887"
             ],
             [
              0.1111111111111111,
              "#46039f"
             ],
             [
              0.2222222222222222,
              "#7201a8"
             ],
             [
              0.3333333333333333,
              "#9c179e"
             ],
             [
              0.4444444444444444,
              "#bd3786"
             ],
             [
              0.5555555555555556,
              "#d8576b"
             ],
             [
              0.6666666666666666,
              "#ed7953"
             ],
             [
              0.7777777777777778,
              "#fb9f3a"
             ],
             [
              0.8888888888888888,
              "#fdca26"
             ],
             [
              1,
              "#f0f921"
             ]
            ],
            "type": "surface"
           }
          ],
          "table": [
           {
            "cells": {
             "fill": {
              "color": "#EBF0F8"
             },
             "line": {
              "color": "white"
             }
            },
            "header": {
             "fill": {
              "color": "#C8D4E3"
             },
             "line": {
              "color": "white"
             }
            },
            "type": "table"
           }
          ]
         },
         "layout": {
          "annotationdefaults": {
           "arrowcolor": "#2a3f5f",
           "arrowhead": 0,
           "arrowwidth": 1
          },
          "autotypenumbers": "strict",
          "coloraxis": {
           "colorbar": {
            "outlinewidth": 0,
            "ticks": ""
           }
          },
          "colorscale": {
           "diverging": [
            [
             0,
             "#8e0152"
            ],
            [
             0.1,
             "#c51b7d"
            ],
            [
             0.2,
             "#de77ae"
            ],
            [
             0.3,
             "#f1b6da"
            ],
            [
             0.4,
             "#fde0ef"
            ],
            [
             0.5,
             "#f7f7f7"
            ],
            [
             0.6,
             "#e6f5d0"
            ],
            [
             0.7,
             "#b8e186"
            ],
            [
             0.8,
             "#7fbc41"
            ],
            [
             0.9,
             "#4d9221"
            ],
            [
             1,
             "#276419"
            ]
           ],
           "sequential": [
            [
             0,
             "#0d0887"
            ],
            [
             0.1111111111111111,
             "#46039f"
            ],
            [
             0.2222222222222222,
             "#7201a8"
            ],
            [
             0.3333333333333333,
             "#9c179e"
            ],
            [
             0.4444444444444444,
             "#bd3786"
            ],
            [
             0.5555555555555556,
             "#d8576b"
            ],
            [
             0.6666666666666666,
             "#ed7953"
            ],
            [
             0.7777777777777778,
             "#fb9f3a"
            ],
            [
             0.8888888888888888,
             "#fdca26"
            ],
            [
             1,
             "#f0f921"
            ]
           ],
           "sequentialminus": [
            [
             0,
             "#0d0887"
            ],
            [
             0.1111111111111111,
             "#46039f"
            ],
            [
             0.2222222222222222,
             "#7201a8"
            ],
            [
             0.3333333333333333,
             "#9c179e"
            ],
            [
             0.4444444444444444,
             "#bd3786"
            ],
            [
             0.5555555555555556,
             "#d8576b"
            ],
            [
             0.6666666666666666,
             "#ed7953"
            ],
            [
             0.7777777777777778,
             "#fb9f3a"
            ],
            [
             0.8888888888888888,
             "#fdca26"
            ],
            [
             1,
             "#f0f921"
            ]
           ]
          },
          "colorway": [
           "#636efa",
           "#EF553B",
           "#00cc96",
           "#ab63fa",
           "#FFA15A",
           "#19d3f3",
           "#FF6692",
           "#B6E880",
           "#FF97FF",
           "#FECB52"
          ],
          "font": {
           "color": "#2a3f5f"
          },
          "geo": {
           "bgcolor": "white",
           "lakecolor": "white",
           "landcolor": "#E5ECF6",
           "showlakes": true,
           "showland": true,
           "subunitcolor": "white"
          },
          "hoverlabel": {
           "align": "left"
          },
          "hovermode": "closest",
          "mapbox": {
           "style": "light"
          },
          "paper_bgcolor": "white",
          "plot_bgcolor": "#E5ECF6",
          "polar": {
           "angularaxis": {
            "gridcolor": "white",
            "linecolor": "white",
            "ticks": ""
           },
           "bgcolor": "#E5ECF6",
           "radialaxis": {
            "gridcolor": "white",
            "linecolor": "white",
            "ticks": ""
           }
          },
          "scene": {
           "xaxis": {
            "backgroundcolor": "#E5ECF6",
            "gridcolor": "white",
            "gridwidth": 2,
            "linecolor": "white",
            "showbackground": true,
            "ticks": "",
            "zerolinecolor": "white"
           },
           "yaxis": {
            "backgroundcolor": "#E5ECF6",
            "gridcolor": "white",
            "gridwidth": 2,
            "linecolor": "white",
            "showbackground": true,
            "ticks": "",
            "zerolinecolor": "white"
           },
           "zaxis": {
            "backgroundcolor": "#E5ECF6",
            "gridcolor": "white",
            "gridwidth": 2,
            "linecolor": "white",
            "showbackground": true,
            "ticks": "",
            "zerolinecolor": "white"
           }
          },
          "shapedefaults": {
           "line": {
            "color": "#2a3f5f"
           }
          },
          "ternary": {
           "aaxis": {
            "gridcolor": "white",
            "linecolor": "white",
            "ticks": ""
           },
           "baxis": {
            "gridcolor": "white",
            "linecolor": "white",
            "ticks": ""
           },
           "bgcolor": "#E5ECF6",
           "caxis": {
            "gridcolor": "white",
            "linecolor": "white",
            "ticks": ""
           }
          },
          "title": {
           "x": 0.05
          },
          "xaxis": {
           "automargin": true,
           "gridcolor": "white",
           "linecolor": "white",
           "ticks": "",
           "title": {
            "standoff": 15
           },
           "zerolinecolor": "white",
           "zerolinewidth": 2
          },
          "yaxis": {
           "automargin": true,
           "gridcolor": "white",
           "linecolor": "white",
           "ticks": "",
           "title": {
            "standoff": 15
           },
           "zerolinecolor": "white",
           "zerolinewidth": 2
          }
         }
        },
        "xaxis": {
         "anchor": "y",
         "domain": [
          0,
          1
         ],
         "title": {
          "text": "x"
         }
        },
        "yaxis": {
         "anchor": "x",
         "domain": [
          0,
          1
         ],
         "title": {
          "text": "y"
         }
        }
       }
      },
      "text/html": [
       "<div>                            <div id=\"f81ca816-7f1b-477c-89dd-05bddf05d566\" class=\"plotly-graph-div\" style=\"height:525px; width:100%;\"></div>            <script type=\"text/javascript\">                require([\"plotly\"], function(Plotly) {                    window.PLOTLYENV=window.PLOTLYENV || {};                                    if (document.getElementById(\"f81ca816-7f1b-477c-89dd-05bddf05d566\")) {                    Plotly.newPlot(                        \"f81ca816-7f1b-477c-89dd-05bddf05d566\",                        [{\"hovertemplate\":\"x=%{x}\\u003cbr\\u003ey=%{y}\\u003cextra\\u003e\\u003c\\u002fextra\\u003e\",\"legendgroup\":\"\",\"marker\":{\"color\":\"#636efa\",\"symbol\":\"circle\"},\"mode\":\"markers\",\"name\":\"\",\"orientation\":\"v\",\"showlegend\":false,\"x\":[2.16700095131788,47.5766387431462,49.3150436841393,-11.5673427289504,-75.9511846246276,-25.8363212877844,-44.7830714863945,-37.2411847241929,-25.0462005828241,-22.3127699977027,-19.286595898598,-32.8196173016797,-60.31684339368,-130.725320481358,-195.774932664883,-123.040086874692,-28.4080875967109,-56.5308048685986,-76.6499923874046,-146.29158060771,-231.816664451122,-335.560172122465,18.9413078735378,44.2814859180422,36.4529015677793,-24.6309764622986,-96.8522595273715,-118.108284850998,-2.44419731712446,2.62541092480438,50.1976322363776,84.7221387832074,68.407489410053,0.430399347104152,1.8966854757415,-32.5933818083917,-37.2446289921001,-25.7871179775242,-21.2199470766159,-53.1800082421607,-92.7659290162809,-8.50390566407592,-16.1700125776522,-42.0732254141337,-64.674509408646,-87.4500601243855,-100.292010291164,-21.9084286025931,-45.3280907098232,-66.2984770343286,-85.6032850270131,-103.441227204554,-109.371638438445,27.3961010195451,33.521354743861,43.0888890573378,49.3569439785171,32.3588241486286,0.160080284943977,-19.2227034617447,-0.474638678712436,5.36177026953815,0.980798720315712,-6.5829007558056,-9.45491777511811,-6.00404357423605,7.15480091616661,-35.2206491186182,-12.7668047763541,45.4819732746354,24.4350796565774,-18.2470440536074,-40.8521920693085,-7.28521185045672,3.82346897052341,6.48850713459821,21.3509832346965,21.3860052416489,12.4854748555886,-2.74795130339598,-6.10578650844949,-31.3805979964369,-53.7967566193541,-29.1251909085416,52.229226017504,74.0233376077696,11.5623763952831,-12.9197416686439,-16.7726961240974,-36.9021066229285,-47.4445253857641,-37.3717864948617,-13.9699882822004,4.21570123103782,-12.1955574089865,-26.4702114608211,-34.1898022026767,-43.9510042961323,-34.6199618354212,26.3802416330333,19.7043419374152,4.8094481570795,-4.61003320512695,-17.1930972081662,-60.7115479801541,-65.1919852911066,-5.33471077037251,-20.3840482411994,28.2868050777527,98.478310272009,109.8425981701,-26.8435675342873,-18.3120169000009,-40.8299897917874,-74.535074924074,-56.2649412049401,-24.411364216856,1.4043115751866,-8.11327383796406,-3.94709484317835,17.6941315599689,25.9847698656235,4.16350042939774,-36.2677451102456,-84.9143817497337,-9.45396755315781,7.51033236795914,-3.48292191157872,-9.24759248859207,-2.85965911535831,8.81513877671138,0.299520047250446,91.2744578114059,245.676575204619,147.897835126187,-333.307978953329,18.1049835604788,2.64932299101212,12.2349249869207,16.1726551453555,49.1679103455539,64.8107420685796,-23.5388478925957,-1.18159307527534,10.6995761132536,3.63234058329567,3.05700621216743,2.44713911870553,26.9343804484491,4.64314080376995,4.04852098458103,3.58677958526607,-16.0482061246032,11.1673557741749,185.573890465555,153.114051054684,-15.3835178414029,-41.3654206091989,-60.7168767452928,-52.9694552915795,-60.3999415544439,-67.6581523009785,-60.8762116400241,-8.1255020224385,-16.2505140210195,27.7304847951311,40.2919397857437,48.5121413552076,8.47003500241558,16.4285989021643,21.5914669082254,8.66656115129346,9.94602276921733,18.9942707762879,19.2337543777779,34.7834872565504,103.606612811797,54.2894591292453,-31.7197212922506,-59.4765680411913,-8.70838125941404,-29.5737574877816,-26.9721719927744,-26.1284941121376,-10.6917356922136,-14.6436781194121,-25.7289230476795,24.7630570227431,22.97107484843,12.374392982427,2.43170105372781,-5.29120905605584,-6.70027910368891,0.593908064256585,-53.5267126349445,-52.7778438621205,-17.6537692137406,18.0635843826894,19.9182828805922,-31.5965582209216,3.09189012139201,36.2692848395378,12.8290535424992,-25.4177229526173,-24.0558081411839,10.3178886578311,-2.75924663295212,-12.0203669709085,-16.7610326104963,-5.942988601868,7.8847214169826,15.3826014577081,-2.00694973469547,-3.18427445558569,-32.1205618214332,-68.8685565965858,-38.2624620617981,15.0671626466508,35.702598013901,5.23794477953228,34.6739307291118,45.4353590615945,43.8580972540593,32.3230577689953,20.3652846417386,0.030308675703528,25.7705375520619,38.0750004247784,33.5823132083996,5.35986335566128,1.33639837887827,14.8570157783419,14.4489284673736,14.9508160761927,25.6312130797368,12.6562837200833,-13.5287686422402,-44.5184921819976,-7.88364044114997,7.92956345433801,26.3007979629381,47.6590900662589,35.5020149756246,28.9339369858186,18.1234779263279,-6.06835680145296,-31.4545270423277,-19.2430294956825,-14.6838147582093,-17.6787684156262,10.5554485327485,44.226374007475,-1.41478910057452,31.9966332392714,45.8701824742031,24.8317177460473,13.6271398396398,24.6614282012446,46.4747454998532,8.91510379539171,30.5040850274979,33.0522592465463,35.6820596964035,19.0342626783484,-3.25033626309657,-8.89137980965976,-14.8251818432675,-8.24931461986271,55.6860578219943,79.6037939574725,29.7094584024018,-24.2644463799525,-38.9656437597805,8.63717443586015,4.95312067809331,-3.27524788173571,-0.681538954587609,-3.37495934487189,-1.67985806695669,-42.2747922267849,-49.7284646299441,-51.3985883788207,-34.4138077033129,1.54944409236789,19.8353963305539,19.8049940851953,-24.9213126699754,-12.3983353903669,-14.2881375199602,-20.7249274957761,-25.632907824629,-11.5836663113394,1.80792177861625,-24.1539175640514,-25.5167091453142,-1.24645271836524,9.38713781385758,17.6233635844485,46.9418024677486,47.0264519099677],\"xaxis\":\"x\",\"y\":[-28.5049270297964,-9.25482758672267,11.4671668539991,7.58934023489402,9.58763822669017,-15.1518196851637,-5.87177673926499,-8.46822092206666,0.741882607775409,10.1330927721447,6.54835252465787,10.811868039541,12.6219281643371,6.29956888272039,12.6343506036726,8.37572610251672,-15.0451246196668,-6.72336565331982,4.26234932509716,5.942712180101,9.89783288410401,9.0352022196199,-26.6454699084329,-3.15242209709977,-6.04373111345512,1.38427498044875,5.29863991395953,4.83879571456259,8.37928775614368,23.0479206932275,24.9408701733839,19.3591165702629,11.6613897097151,10.4719064565829,3.92218475199391,-34.4755931114312,-16.089442430489,4.7353845099716,3.48756412292239,-1.33168606355351,9.24431677514328,-4.03825812793281,-0.0127628981290471,8.27138048245027,5.35771851124252,1.2114196029454,4.38195627002496,-18.8707453603393,-0.551715053042983,9.39275081802253,9.28768945993038,6.45848647152344,4.82659113728171,30.6909451334319,25.2373241823837,18.4790665973891,11.5540081403992,0.229784449377391,2.47691998513882,12.4149670547848,18.4373561995228,21.2291501634753,16.7091641834189,9.94562677495569,3.22261292243179,9.89200428704045,0.708895352197004,-3.98211725441395,16.0409834999789,30.0416605215649,23.4472722314034,11.4066187053077,9.47480023141833,11.1819878591879,3.92615914913315,11.5082499006972,7.1961671331519,11.0575202679318,2.63924691315003,-4.18332712071303,-4.24241104142757,-17.4487610359417,-18.2749604611364,-5.55182569588465,4.53082553555313,-1.84668418087632,-21.3694233754034,-16.4555042471682,-11.1479851829298,-5.56827102538198,6.07744735730633,3.73839010276141,11.605745514651,19.2636802391597,14.7122203837527,12.1721202738655,8.72077183828306,3.31220099860487,-1.49702096509486,21.8365272778885,21.2591079096366,15.0676322875762,3.89333430618714,5.05291216149951,3.33622937858128,2.21864320518497,-18.1507321219336,0.856322359568757,11.0652844658975,12.2714246344804,3.85697190263608,-9.89099315306677,5.21497704641241,9.52045057689419,9.79365752258444,1.1024825201909,-1.71230458541824,4.90039330372656,8.4243192521195,23.2538803011038,24.4495894792066,23.5314418237451,16.6141099431489,15.2397849982149,8.15505807001882,-26.5110267238868,-17.8152337154357,9.80399393403288,15.9633075590017,13.5482285540048,10.9674472107934,6.78351626174026,-3.25398526380206,1.65449380998911,3.47109709489284,-1.1296862328614,17.0730891496859,21.6795579166217,13.7449889112552,9.62551921736708,13.3988312631259,-1.64456137647596,0.993417662231074,10.2818813266411,2.599677175552,5.12380249440302,5.00912516639245,4.61815966524337,8.46504117152728,-23.9314464232278,-4.41731044544183,5.57465443021681,0.567473425103259,-1.13660719955666,0.185764216228179,-9.9239380907812,-8.04909511868244,3.84648309854933,2.6929578115302,7.25886257423875,2.81361736961685,-2.80076163335877,-10.5757565048856,-38.9150196904867,-31.278943617524,-18.8165735819026,-11.0400607928447,4.86988216916696,17.7437549399728,16.5289069852287,12.946825691979,-1.63153636761816,-1.80806059501236,-13.9509001980534,-10.0043985817277,-12.512797331177,-11.3454755957477,-14.1703929246025,-1.05755204807478,-14.2264928381315,-34.7316848566607,-20.6721823576364,-18.2617804704502,-25.9283818488343,-34.5742404113454,-21.7972464147065,-18.2935443042901,22.2299535695349,20.73929397058,9.00266639309591,5.77567274571874,-0.644556149337319,-8.92528699682843,-3.98722834437007,-22.8235369191641,-7.41260620087782,13.8272879385427,-4.2290049998272,-0.0270334033766204,-27.3990135988523,-24.1554222699767,-22.3237617521358,-26.9540753816885,-16.960289825746,-4.71267587554884,12.4237544570511,14.8579946883421,10.6349683914764,-1.60109759508604,-6.24960816270303,-4.50889803630838,1.01976111716961,-8.4389711036406,-8.68982246625474,-5.33832385300232,-4.43109245897922,-4.14791324744876,-2.52738802090012,-4.8719697508324,-23.4720343953901,-3.06056319558062,0.0503487435044363,3.28045109881901,-1.67426150938228,3.87182415324629,-1.92379265596195,-7.0843810349917,-5.49582485690637,-5.06859872141715,-0.768457708663192,-6.89530476303518,16.8890853854461,22.0141609687897,25.0574612501309,6.92384018522601,-1.86157103175113,-4.518088353831,9.68244192228471,-36.2560723172987,-12.0535629809708,-12.551951979995,-7.90751352267908,0.823646282186317,0.356505711741292,-4.50217483112955,-41.0869198818865,-39.5029921385306,-35.9558423869978,-25.2980680584607,-12.9624705962992,-10.2294024473493,-8.88265234785006,-2.52975215010916,3.41103953693483,5.48711398977356,-3.7346337711587,1.37159256939503,-3.86941356154765,1.90501089193874,10.4704401761631,27.2234224730421,20.2113119584339,19.4047818538849,5.66460601637567,3.8434843990502,-4.01267022518479,11.9116587267464,17.7767883227353,12.4429259892432,12.2707095862753,-1.96270772585089,-11.9801468654297,1.95128538998412,-4.99834641693066,28.8101007240316,13.6807376316356,13.4279031752588,-9.73837147218498,7.28834347233177,-26.9795424707877,-50.2278013756437,-57.0433119186431,-58.3565274264648,-50.1822819608467,-35.5135962682099,-13.4397821501118,-52.5021717524072,-44.0952504333918,-12.0504696632351,2.35979798765497,10.4745000059171,9.38855894491363,-3.75821960733397,-48.4898326278607,-48.6960127915172,-49.7433413166114,-39.0829114511128,-10.0092936934856,-9.24835321663394,-6.12553412175131],\"yaxis\":\"y\",\"type\":\"scatter\"}],                        {\"template\":{\"data\":{\"histogram2dcontour\":[{\"type\":\"histogram2dcontour\",\"colorbar\":{\"outlinewidth\":0,\"ticks\":\"\"},\"colorscale\":[[0.0,\"#0d0887\"],[0.1111111111111111,\"#46039f\"],[0.2222222222222222,\"#7201a8\"],[0.3333333333333333,\"#9c179e\"],[0.4444444444444444,\"#bd3786\"],[0.5555555555555556,\"#d8576b\"],[0.6666666666666666,\"#ed7953\"],[0.7777777777777778,\"#fb9f3a\"],[0.8888888888888888,\"#fdca26\"],[1.0,\"#f0f921\"]]}],\"choropleth\":[{\"type\":\"choropleth\",\"colorbar\":{\"outlinewidth\":0,\"ticks\":\"\"}}],\"histogram2d\":[{\"type\":\"histogram2d\",\"colorbar\":{\"outlinewidth\":0,\"ticks\":\"\"},\"colorscale\":[[0.0,\"#0d0887\"],[0.1111111111111111,\"#46039f\"],[0.2222222222222222,\"#7201a8\"],[0.3333333333333333,\"#9c179e\"],[0.4444444444444444,\"#bd3786\"],[0.5555555555555556,\"#d8576b\"],[0.6666666666666666,\"#ed7953\"],[0.7777777777777778,\"#fb9f3a\"],[0.8888888888888888,\"#fdca26\"],[1.0,\"#f0f921\"]]}],\"heatmap\":[{\"type\":\"heatmap\",\"colorbar\":{\"outlinewidth\":0,\"ticks\":\"\"},\"colorscale\":[[0.0,\"#0d0887\"],[0.1111111111111111,\"#46039f\"],[0.2222222222222222,\"#7201a8\"],[0.3333333333333333,\"#9c179e\"],[0.4444444444444444,\"#bd3786\"],[0.5555555555555556,\"#d8576b\"],[0.6666666666666666,\"#ed7953\"],[0.7777777777777778,\"#fb9f3a\"],[0.8888888888888888,\"#fdca26\"],[1.0,\"#f0f921\"]]}],\"heatmapgl\":[{\"type\":\"heatmapgl\",\"colorbar\":{\"outlinewidth\":0,\"ticks\":\"\"},\"colorscale\":[[0.0,\"#0d0887\"],[0.1111111111111111,\"#46039f\"],[0.2222222222222222,\"#7201a8\"],[0.3333333333333333,\"#9c179e\"],[0.4444444444444444,\"#bd3786\"],[0.5555555555555556,\"#d8576b\"],[0.6666666666666666,\"#ed7953\"],[0.7777777777777778,\"#fb9f3a\"],[0.8888888888888888,\"#fdca26\"],[1.0,\"#f0f921\"]]}],\"contourcarpet\":[{\"type\":\"contourcarpet\",\"colorbar\":{\"outlinewidth\":0,\"ticks\":\"\"}}],\"contour\":[{\"type\":\"contour\",\"colorbar\":{\"outlinewidth\":0,\"ticks\":\"\"},\"colorscale\":[[0.0,\"#0d0887\"],[0.1111111111111111,\"#46039f\"],[0.2222222222222222,\"#7201a8\"],[0.3333333333333333,\"#9c179e\"],[0.4444444444444444,\"#bd3786\"],[0.5555555555555556,\"#d8576b\"],[0.6666666666666666,\"#ed7953\"],[0.7777777777777778,\"#fb9f3a\"],[0.8888888888888888,\"#fdca26\"],[1.0,\"#f0f921\"]]}],\"surface\":[{\"type\":\"surface\",\"colorbar\":{\"outlinewidth\":0,\"ticks\":\"\"},\"colorscale\":[[0.0,\"#0d0887\"],[0.1111111111111111,\"#46039f\"],[0.2222222222222222,\"#7201a8\"],[0.3333333333333333,\"#9c179e\"],[0.4444444444444444,\"#bd3786\"],[0.5555555555555556,\"#d8576b\"],[0.6666666666666666,\"#ed7953\"],[0.7777777777777778,\"#fb9f3a\"],[0.8888888888888888,\"#fdca26\"],[1.0,\"#f0f921\"]]}],\"mesh3d\":[{\"type\":\"mesh3d\",\"colorbar\":{\"outlinewidth\":0,\"ticks\":\"\"}}],\"scatter\":[{\"fillpattern\":{\"fillmode\":\"overlay\",\"size\":10,\"solidity\":0.2},\"type\":\"scatter\"}],\"parcoords\":[{\"type\":\"parcoords\",\"line\":{\"colorbar\":{\"outlinewidth\":0,\"ticks\":\"\"}}}],\"scatterpolargl\":[{\"type\":\"scatterpolargl\",\"marker\":{\"colorbar\":{\"outlinewidth\":0,\"ticks\":\"\"}}}],\"bar\":[{\"error_x\":{\"color\":\"#2a3f5f\"},\"error_y\":{\"color\":\"#2a3f5f\"},\"marker\":{\"line\":{\"color\":\"#E5ECF6\",\"width\":0.5},\"pattern\":{\"fillmode\":\"overlay\",\"size\":10,\"solidity\":0.2}},\"type\":\"bar\"}],\"scattergeo\":[{\"type\":\"scattergeo\",\"marker\":{\"colorbar\":{\"outlinewidth\":0,\"ticks\":\"\"}}}],\"scatterpolar\":[{\"type\":\"scatterpolar\",\"marker\":{\"colorbar\":{\"outlinewidth\":0,\"ticks\":\"\"}}}],\"histogram\":[{\"marker\":{\"pattern\":{\"fillmode\":\"overlay\",\"size\":10,\"solidity\":0.2}},\"type\":\"histogram\"}],\"scattergl\":[{\"type\":\"scattergl\",\"marker\":{\"colorbar\":{\"outlinewidth\":0,\"ticks\":\"\"}}}],\"scatter3d\":[{\"type\":\"scatter3d\",\"line\":{\"colorbar\":{\"outlinewidth\":0,\"ticks\":\"\"}},\"marker\":{\"colorbar\":{\"outlinewidth\":0,\"ticks\":\"\"}}}],\"scattermapbox\":[{\"type\":\"scattermapbox\",\"marker\":{\"colorbar\":{\"outlinewidth\":0,\"ticks\":\"\"}}}],\"scatterternary\":[{\"type\":\"scatterternary\",\"marker\":{\"colorbar\":{\"outlinewidth\":0,\"ticks\":\"\"}}}],\"scattercarpet\":[{\"type\":\"scattercarpet\",\"marker\":{\"colorbar\":{\"outlinewidth\":0,\"ticks\":\"\"}}}],\"carpet\":[{\"aaxis\":{\"endlinecolor\":\"#2a3f5f\",\"gridcolor\":\"white\",\"linecolor\":\"white\",\"minorgridcolor\":\"white\",\"startlinecolor\":\"#2a3f5f\"},\"baxis\":{\"endlinecolor\":\"#2a3f5f\",\"gridcolor\":\"white\",\"linecolor\":\"white\",\"minorgridcolor\":\"white\",\"startlinecolor\":\"#2a3f5f\"},\"type\":\"carpet\"}],\"table\":[{\"cells\":{\"fill\":{\"color\":\"#EBF0F8\"},\"line\":{\"color\":\"white\"}},\"header\":{\"fill\":{\"color\":\"#C8D4E3\"},\"line\":{\"color\":\"white\"}},\"type\":\"table\"}],\"barpolar\":[{\"marker\":{\"line\":{\"color\":\"#E5ECF6\",\"width\":0.5},\"pattern\":{\"fillmode\":\"overlay\",\"size\":10,\"solidity\":0.2}},\"type\":\"barpolar\"}],\"pie\":[{\"automargin\":true,\"type\":\"pie\"}]},\"layout\":{\"autotypenumbers\":\"strict\",\"colorway\":[\"#636efa\",\"#EF553B\",\"#00cc96\",\"#ab63fa\",\"#FFA15A\",\"#19d3f3\",\"#FF6692\",\"#B6E880\",\"#FF97FF\",\"#FECB52\"],\"font\":{\"color\":\"#2a3f5f\"},\"hovermode\":\"closest\",\"hoverlabel\":{\"align\":\"left\"},\"paper_bgcolor\":\"white\",\"plot_bgcolor\":\"#E5ECF6\",\"polar\":{\"bgcolor\":\"#E5ECF6\",\"angularaxis\":{\"gridcolor\":\"white\",\"linecolor\":\"white\",\"ticks\":\"\"},\"radialaxis\":{\"gridcolor\":\"white\",\"linecolor\":\"white\",\"ticks\":\"\"}},\"ternary\":{\"bgcolor\":\"#E5ECF6\",\"aaxis\":{\"gridcolor\":\"white\",\"linecolor\":\"white\",\"ticks\":\"\"},\"baxis\":{\"gridcolor\":\"white\",\"linecolor\":\"white\",\"ticks\":\"\"},\"caxis\":{\"gridcolor\":\"white\",\"linecolor\":\"white\",\"ticks\":\"\"}},\"coloraxis\":{\"colorbar\":{\"outlinewidth\":0,\"ticks\":\"\"}},\"colorscale\":{\"sequential\":[[0.0,\"#0d0887\"],[0.1111111111111111,\"#46039f\"],[0.2222222222222222,\"#7201a8\"],[0.3333333333333333,\"#9c179e\"],[0.4444444444444444,\"#bd3786\"],[0.5555555555555556,\"#d8576b\"],[0.6666666666666666,\"#ed7953\"],[0.7777777777777778,\"#fb9f3a\"],[0.8888888888888888,\"#fdca26\"],[1.0,\"#f0f921\"]],\"sequentialminus\":[[0.0,\"#0d0887\"],[0.1111111111111111,\"#46039f\"],[0.2222222222222222,\"#7201a8\"],[0.3333333333333333,\"#9c179e\"],[0.4444444444444444,\"#bd3786\"],[0.5555555555555556,\"#d8576b\"],[0.6666666666666666,\"#ed7953\"],[0.7777777777777778,\"#fb9f3a\"],[0.8888888888888888,\"#fdca26\"],[1.0,\"#f0f921\"]],\"diverging\":[[0,\"#8e0152\"],[0.1,\"#c51b7d\"],[0.2,\"#de77ae\"],[0.3,\"#f1b6da\"],[0.4,\"#fde0ef\"],[0.5,\"#f7f7f7\"],[0.6,\"#e6f5d0\"],[0.7,\"#b8e186\"],[0.8,\"#7fbc41\"],[0.9,\"#4d9221\"],[1,\"#276419\"]]},\"xaxis\":{\"gridcolor\":\"white\",\"linecolor\":\"white\",\"ticks\":\"\",\"title\":{\"standoff\":15},\"zerolinecolor\":\"white\",\"automargin\":true,\"zerolinewidth\":2},\"yaxis\":{\"gridcolor\":\"white\",\"linecolor\":\"white\",\"ticks\":\"\",\"title\":{\"standoff\":15},\"zerolinecolor\":\"white\",\"automargin\":true,\"zerolinewidth\":2},\"scene\":{\"xaxis\":{\"backgroundcolor\":\"#E5ECF6\",\"gridcolor\":\"white\",\"linecolor\":\"white\",\"showbackground\":true,\"ticks\":\"\",\"zerolinecolor\":\"white\",\"gridwidth\":2},\"yaxis\":{\"backgroundcolor\":\"#E5ECF6\",\"gridcolor\":\"white\",\"linecolor\":\"white\",\"showbackground\":true,\"ticks\":\"\",\"zerolinecolor\":\"white\",\"gridwidth\":2},\"zaxis\":{\"backgroundcolor\":\"#E5ECF6\",\"gridcolor\":\"white\",\"linecolor\":\"white\",\"showbackground\":true,\"ticks\":\"\",\"zerolinecolor\":\"white\",\"gridwidth\":2}},\"shapedefaults\":{\"line\":{\"color\":\"#2a3f5f\"}},\"annotationdefaults\":{\"arrowcolor\":\"#2a3f5f\",\"arrowhead\":0,\"arrowwidth\":1},\"geo\":{\"bgcolor\":\"white\",\"landcolor\":\"#E5ECF6\",\"subunitcolor\":\"white\",\"showland\":true,\"showlakes\":true,\"lakecolor\":\"white\"},\"title\":{\"x\":0.05},\"mapbox\":{\"style\":\"light\"}}},\"xaxis\":{\"anchor\":\"y\",\"domain\":[0.0,1.0],\"title\":{\"text\":\"x\"}},\"yaxis\":{\"anchor\":\"x\",\"domain\":[0.0,1.0],\"title\":{\"text\":\"y\"}},\"legend\":{\"tracegroupgap\":0},\"margin\":{\"t\":60}},                        {\"responsive\": true}                    ).then(function(){\n",
       "                            \n",
       "var gd = document.getElementById('f81ca816-7f1b-477c-89dd-05bddf05d566');\n",
       "var x = new MutationObserver(function (mutations, observer) {{\n",
       "        var display = window.getComputedStyle(gd).display;\n",
       "        if (!display || display === 'none') {{\n",
       "            console.log([gd, 'removed!']);\n",
       "            Plotly.purge(gd);\n",
       "            observer.disconnect();\n",
       "        }}\n",
       "}});\n",
       "\n",
       "// Listen for the removal of the full notebook cells\n",
       "var notebookContainer = gd.closest('#notebook-container');\n",
       "if (notebookContainer) {{\n",
       "    x.observe(notebookContainer, {childList: true});\n",
       "}}\n",
       "\n",
       "// Listen for the clearing of the current output cell\n",
       "var outputEl = gd.closest('.output');\n",
       "if (outputEl) {{\n",
       "    x.observe(outputEl, {childList: true});\n",
       "}}\n",
       "\n",
       "                        })                };                });            </script>        </div>"
      ]
     },
     "metadata": {},
     "output_type": "display_data"
    },
    {
     "name": "stdout",
     "output_type": "stream",
     "text": [
      "1\n"
     ]
    },
    {
     "data": {
      "application/vnd.plotly.v1+json": {
       "config": {
        "plotlyServerURL": "https://plot.ly"
       },
       "data": [
        {
         "hovertemplate": "x=%{x}<br>y=%{y}<extra></extra>",
         "legendgroup": "",
         "marker": {
          "color": "#636efa",
          "symbol": "circle"
         },
         "mode": "markers",
         "name": "",
         "orientation": "v",
         "showlegend": false,
         "type": "scatter",
         "x": [
          2.66885235780265,
          48.4363580107147,
          49.6082793202933,
          -12.4826098910564,
          -77.7633639116612,
          -24.2253539291354,
          -44.0702331520685,
          -35.7135430602051,
          -20.7541378310345,
          -16.8045064728223,
          -19.6040476521217,
          -33.0387252689123,
          -60.3788332240357,
          -131.372033694793,
          -197.221991293475,
          -123.20750314719,
          -28.5765562419209,
          -56.4712231019793,
          -76.5879098467476,
          -146.304528423133,
          -232.724948262898,
          -336.959106732302,
          18.7825966894909,
          43.894624707921,
          35.6498129322848,
          -24.9728123272607,
          -95.7291236307359,
          -116.534267351277,
          -3.04765762714735,
          1.93834225192448,
          49.147018697567,
          83.6415621368299,
          67.1975396078894,
          -0.302886987411559,
          1.59183924363552,
          -32.7777026929152,
          -38.3887792667248,
          -27.207071194338,
          -22.1027715193125,
          -52.8250643339702,
          -91.8391913457407,
          -8.53578305615178,
          -16.5218116308637,
          -42.2698051949917,
          -64.5378035965196,
          -87.1522198410109,
          -99.0035329217501,
          -21.9944664007992,
          -45.3380623220875,
          -66.2137702209352,
          -85.7284239846686,
          -103.534072532078,
          -109.443610826812,
          27.8969382456308,
          33.5572803033134,
          43.2618506978257,
          49.5634426268629,
          32.4335613995841,
          0.106519430997977,
          -19.2489757834296,
          -0.560573870401161,
          5.24786695168258,
          0.85055362010898,
          -6.65343894632645,
          -9.52407892267337,
          -6.11165616873942,
          6.96340623228149,
          -35.1589043877866,
          -13.0021343607373,
          45.6668676363744,
          25.5397416508182,
          -17.2754556636461,
          -40.4690649332296,
          -6.72103177652052,
          3.72741842009234,
          6.4273228188523,
          21.3750317918039,
          21.4806198876128,
          12.5748415804487,
          -2.72710345349641,
          -6.19387293685725,
          -32.1204431025227,
          -54.8012946691526,
          -29.6364605551948,
          52.3016764623419,
          74.1140139583418,
          11.9803837042959,
          -12.6248948829869,
          -16.5990875731586,
          -36.2884662591779,
          -46.2949642573162,
          -35.7297039788932,
          -13.3123477489916,
          4.53526078044727,
          -11.8234393532459,
          -25.9770513002577,
          -33.9151084782364,
          -43.8786182558496,
          -34.5993231604694,
          26.2869270454128,
          19.4310456631828,
          4.6045097329189,
          -4.64054817800925,
          -17.0908555664889,
          -60.5349254750809,
          -65.1038165256762,
          -7.10450637990414,
          -22.7116445833439,
          26.5116361334913,
          97.7129456469313,
          109.679008221096,
          -26.3977972923858,
          -17.960400560798,
          -40.1912779582839,
          -74.1233235741884,
          -56.3046299775333,
          -25.1193829896783,
          0.7350472571878,
          -7.59713500238843,
          -3.93740716235316,
          17.9800447491513,
          26.3629399594741,
          4.42364232942073,
          -36.1987463665271,
          -84.8793196631028,
          -9.38350682529786,
          7.83822215099037,
          -3.38367612209137,
          -9.07131303953193,
          -2.55269576433642,
          9.01388078706704,
          0.375918470196195,
          90.9048435586378,
          246.137454042526,
          148.086549131034,
          -333.45687558118,
          19.7013517181791,
          3.45621172751437,
          12.6292476965277,
          16.7584935500595,
          50.2816857507117,
          66.0453355115047,
          -23.7346266181686,
          -1.5269290903361,
          11.1108777854771,
          4.46452497392648,
          3.61134612643743,
          2.62607820974177,
          27.1290829398033,
          4.31537517323108,
          5.3404691629959,
          4.39696028740986,
          -16.7206255667814,
          9.79427600156315,
          185.447237360478,
          153.399882995913,
          -15.0549951030385,
          -42.8690695718213,
          -63.1068850633237,
          -55.1584826132027,
          -62.2464757722403,
          -69.6048265181061,
          -62.7890170589837,
          -8.46468815870236,
          -16.4693926726186,
          27.6492854514123,
          40.4733257455758,
          48.3363448047924,
          8.19883855267215,
          16.4467625510604,
          22.0208896309071,
          9.30659069706033,
          10.1017858175426,
          18.1236234456728,
          17.9075118213505,
          35.1053106591505,
          103.363349490924,
          53.1000539104703,
          -33.4922255205309,
          -60.6991797058985,
          -8.65398706085256,
          -29.2723278190049,
          -26.9381247275656,
          -26.1764590605103,
          -10.732452839526,
          -14.6721103032208,
          -25.6408642901714,
          24.9576146014863,
          23.0329257925257,
          12.4676500747504,
          2.49470922688088,
          -5.21840574565751,
          -6.58128006050362,
          0.717259024455783,
          -53.5598249879562,
          -52.5356861821856,
          -17.3844031363128,
          18.1512912341709,
          19.8776776801448,
          -31.8831481462319,
          3.33367663185332,
          36.6406305431984,
          13.2033182429095,
          -24.9127209390017,
          -23.5681101020642,
          10.3678060308585,
          -2.79878730504464,
          -12.0365908729162,
          -16.601360597875,
          -5.81685885644524,
          7.74170944984581,
          15.0390879611483,
          -1.88470546042963,
          -2.97987690114415,
          -31.9703468166774,
          -68.7083771429333,
          -38.2896127920327,
          14.7521524471443,
          35.1718173828087,
          5.33184154332119,
          34.7125083274397,
          45.4324199253312,
          43.7597190339396,
          31.9549844674822,
          19.8601128119132,
          -0.0380276899307698,
          25.8538807215397,
          38.2704486395618,
          33.753831545752,
          5.51622084270613,
          1.58585371438321,
          14.8740068018642,
          14.4032838292268,
          14.9467859770162,
          25.5689338016671,
          12.7121888684449,
          -12.9769831185332,
          -43.0000886272861,
          -8.12532504201417,
          8.12117603846337,
          26.8699411101933,
          48.1887060031994,
          36.1877112375281,
          29.3899993774037,
          18.3842153533747,
          -6.04204300150183,
          -31.2998001814259,
          -19.1979820764368,
          -14.6514074473736,
          -17.7297178342838,
          10.3886784419484,
          44.0166179003798,
          -1.372420573866,
          32.1013920289015,
          46.022391430177,
          25.158770269931,
          14.1155740357231,
          25.3598759667174,
          47.257994132981,
          8.8392907766916,
          30.477981264217,
          33.1054574135184,
          35.808044793207,
          19.1322685513795,
          -3.18912899071571,
          -8.81698700321756,
          -15.257464424337,
          -7.83108955346602,
          55.7150035818341,
          79.6125371389405,
          30.015479596489,
          -22.9414448876548,
          -37.3253292966118,
          8.77427421887061,
          5.58866536111371,
          -2.68405588546885,
          -0.601146700498008,
          -3.58071669736439,
          -1.86415054595941,
          -42.4903259181169,
          -49.840970326005,
          -51.4666939174245,
          -34.3918471090988,
          1.62317644186885,
          19.8629960225703,
          19.8026115188533,
          -24.9037177765457,
          -12.1984798596243,
          -14.3140979614365,
          -21.1850252549592,
          -25.9786574994354,
          -11.5747841952224,
          2.27466390608559,
          -24.5391233991925,
          -25.1502466803166,
          -0.831321496085652,
          9.54466834195762,
          17.4858380595665,
          46.8185894757833,
          47.1427834221126
         ],
         "xaxis": "x",
         "y": [
          -28.5049270297964,
          -9.25482758672267,
          11.4671668539991,
          7.58934023489402,
          9.58763822669017,
          -15.1518196851637,
          -5.87177673926499,
          -8.46822092206666,
          0.741882607775409,
          10.1330927721447,
          6.54835252465787,
          10.811868039541,
          12.6219281643371,
          6.29956888272039,
          12.6343506036726,
          8.37572610251672,
          -15.0451246196668,
          -6.72336565331982,
          4.26234932509716,
          5.942712180101,
          9.89783288410401,
          9.0352022196199,
          -26.6454699084329,
          -3.15242209709977,
          -6.04373111345512,
          1.38427498044875,
          5.29863991395953,
          4.83879571456259,
          8.37928775614368,
          23.0479206932275,
          24.9408701733839,
          19.3591165702629,
          11.6613897097151,
          10.4719064565829,
          3.92218475199391,
          -34.4755931114312,
          -16.089442430489,
          4.7353845099716,
          3.48756412292239,
          -1.33168606355351,
          9.24431677514328,
          -4.03825812793281,
          -0.0127628981290471,
          8.27138048245027,
          5.35771851124252,
          1.2114196029454,
          4.38195627002496,
          -18.8707453603393,
          -0.551715053042983,
          9.39275081802253,
          9.28768945993038,
          6.45848647152344,
          4.82659113728171,
          30.6909451334319,
          25.2373241823837,
          18.4790665973891,
          11.5540081403992,
          0.229784449377391,
          2.47691998513882,
          12.4149670547848,
          18.4373561995228,
          21.2291501634753,
          16.7091641834189,
          9.94562677495569,
          3.22261292243179,
          9.89200428704045,
          0.708895352197004,
          -3.98211725441395,
          16.0409834999789,
          30.0416605215649,
          23.4472722314034,
          11.4066187053077,
          9.47480023141833,
          11.1819878591879,
          3.92615914913315,
          11.5082499006972,
          7.1961671331519,
          11.0575202679318,
          2.63924691315003,
          -4.18332712071303,
          -4.24241104142757,
          -17.4487610359417,
          -18.2749604611364,
          -5.55182569588465,
          4.53082553555313,
          -1.84668418087632,
          -21.3694233754034,
          -16.4555042471682,
          -11.1479851829298,
          -5.56827102538198,
          6.07744735730633,
          3.73839010276141,
          11.605745514651,
          19.2636802391597,
          14.7122203837527,
          12.1721202738655,
          8.72077183828306,
          3.31220099860487,
          -1.49702096509486,
          21.8365272778885,
          21.2591079096366,
          15.0676322875762,
          3.89333430618714,
          5.05291216149951,
          3.33622937858128,
          2.21864320518497,
          -18.1507321219336,
          0.856322359568757,
          11.0652844658975,
          12.2714246344804,
          3.85697190263608,
          -9.89099315306677,
          5.21497704641241,
          9.52045057689419,
          9.79365752258444,
          1.1024825201909,
          -1.71230458541824,
          4.90039330372656,
          8.4243192521195,
          23.2538803011038,
          24.4495894792066,
          23.5314418237451,
          16.6141099431489,
          15.2397849982149,
          8.15505807001882,
          -26.5110267238868,
          -17.8152337154357,
          9.80399393403288,
          15.9633075590017,
          13.5482285540048,
          10.9674472107934,
          6.78351626174026,
          -3.25398526380206,
          1.65449380998911,
          3.47109709489284,
          -1.1296862328614,
          17.0730891496859,
          21.6795579166217,
          13.7449889112552,
          9.62551921736708,
          13.3988312631259,
          -1.64456137647596,
          0.993417662231074,
          10.2818813266411,
          2.599677175552,
          5.12380249440302,
          5.00912516639245,
          4.61815966524337,
          8.46504117152728,
          -23.9314464232278,
          -4.41731044544183,
          5.57465443021681,
          0.567473425103259,
          -1.13660719955666,
          0.185764216228179,
          -9.9239380907812,
          -8.04909511868244,
          3.84648309854933,
          2.6929578115302,
          7.25886257423875,
          2.81361736961685,
          -2.80076163335877,
          -10.5757565048856,
          -38.9150196904867,
          -31.278943617524,
          -18.8165735819026,
          -11.0400607928447,
          4.86988216916696,
          17.7437549399728,
          16.5289069852287,
          12.946825691979,
          -1.63153636761816,
          -1.80806059501236,
          -13.9509001980534,
          -10.0043985817277,
          -12.512797331177,
          -11.3454755957477,
          -14.1703929246025,
          -1.05755204807478,
          -14.2264928381315,
          -34.7316848566607,
          -20.6721823576364,
          -18.2617804704502,
          -25.9283818488343,
          -34.5742404113454,
          -21.7972464147065,
          -18.2935443042901,
          22.2299535695349,
          20.73929397058,
          9.00266639309591,
          5.77567274571874,
          -0.644556149337319,
          -8.92528699682843,
          -3.98722834437007,
          -22.8235369191641,
          -7.41260620087782,
          13.8272879385427,
          -4.2290049998272,
          -0.0270334033766204,
          -27.3990135988523,
          -24.1554222699767,
          -22.3237617521358,
          -26.9540753816885,
          -16.960289825746,
          -4.71267587554884,
          12.4237544570511,
          14.8579946883421,
          10.6349683914764,
          -1.60109759508604,
          -6.24960816270303,
          -4.50889803630838,
          1.01976111716961,
          -8.4389711036406,
          -8.68982246625474,
          -5.33832385300232,
          -4.43109245897922,
          -4.14791324744876,
          -2.52738802090012,
          -4.8719697508324,
          -23.4720343953901,
          -3.06056319558062,
          0.0503487435044363,
          3.28045109881901,
          -1.67426150938228,
          3.87182415324629,
          -1.92379265596195,
          -7.0843810349917,
          -5.49582485690637,
          -5.06859872141715,
          -0.768457708663192,
          -6.89530476303518,
          16.8890853854461,
          22.0141609687897,
          25.0574612501309,
          6.92384018522601,
          -1.86157103175113,
          -4.518088353831,
          9.68244192228471,
          -36.2560723172987,
          -12.0535629809708,
          -12.551951979995,
          -7.90751352267908,
          0.823646282186317,
          0.356505711741292,
          -4.50217483112955,
          -41.0869198818865,
          -39.5029921385306,
          -35.9558423869978,
          -25.2980680584607,
          -12.9624705962992,
          -10.2294024473493,
          -8.88265234785006,
          -2.52975215010916,
          3.41103953693483,
          5.48711398977356,
          -3.7346337711587,
          1.37159256939503,
          -3.86941356154765,
          1.90501089193874,
          10.4704401761631,
          27.2234224730421,
          20.2113119584339,
          19.4047818538849,
          5.66460601637567,
          3.8434843990502,
          -4.01267022518479,
          11.9116587267464,
          17.7767883227353,
          12.4429259892432,
          12.2707095862753,
          -1.96270772585089,
          -11.9801468654297,
          1.95128538998412,
          -4.99834641693066,
          28.8101007240316,
          13.6807376316356,
          13.4279031752588,
          -9.73837147218498,
          7.28834347233177,
          -26.9795424707877,
          -50.2278013756437,
          -57.0433119186431,
          -58.3565274264648,
          -50.1822819608467,
          -35.5135962682099,
          -13.4397821501118,
          -52.5021717524072,
          -44.0952504333918,
          -12.0504696632351,
          2.35979798765497,
          10.4745000059171,
          9.38855894491363,
          -3.75821960733397,
          -48.4898326278607,
          -48.6960127915172,
          -49.7433413166114,
          -39.0829114511128,
          -10.0092936934856,
          -9.24835321663394,
          -6.12553412175131
         ],
         "yaxis": "y"
        }
       ],
       "layout": {
        "legend": {
         "tracegroupgap": 0
        },
        "margin": {
         "t": 60
        },
        "template": {
         "data": {
          "bar": [
           {
            "error_x": {
             "color": "#2a3f5f"
            },
            "error_y": {
             "color": "#2a3f5f"
            },
            "marker": {
             "line": {
              "color": "#E5ECF6",
              "width": 0.5
             },
             "pattern": {
              "fillmode": "overlay",
              "size": 10,
              "solidity": 0.2
             }
            },
            "type": "bar"
           }
          ],
          "barpolar": [
           {
            "marker": {
             "line": {
              "color": "#E5ECF6",
              "width": 0.5
             },
             "pattern": {
              "fillmode": "overlay",
              "size": 10,
              "solidity": 0.2
             }
            },
            "type": "barpolar"
           }
          ],
          "carpet": [
           {
            "aaxis": {
             "endlinecolor": "#2a3f5f",
             "gridcolor": "white",
             "linecolor": "white",
             "minorgridcolor": "white",
             "startlinecolor": "#2a3f5f"
            },
            "baxis": {
             "endlinecolor": "#2a3f5f",
             "gridcolor": "white",
             "linecolor": "white",
             "minorgridcolor": "white",
             "startlinecolor": "#2a3f5f"
            },
            "type": "carpet"
           }
          ],
          "choropleth": [
           {
            "colorbar": {
             "outlinewidth": 0,
             "ticks": ""
            },
            "type": "choropleth"
           }
          ],
          "contour": [
           {
            "colorbar": {
             "outlinewidth": 0,
             "ticks": ""
            },
            "colorscale": [
             [
              0,
              "#0d0887"
             ],
             [
              0.1111111111111111,
              "#46039f"
             ],
             [
              0.2222222222222222,
              "#7201a8"
             ],
             [
              0.3333333333333333,
              "#9c179e"
             ],
             [
              0.4444444444444444,
              "#bd3786"
             ],
             [
              0.5555555555555556,
              "#d8576b"
             ],
             [
              0.6666666666666666,
              "#ed7953"
             ],
             [
              0.7777777777777778,
              "#fb9f3a"
             ],
             [
              0.8888888888888888,
              "#fdca26"
             ],
             [
              1,
              "#f0f921"
             ]
            ],
            "type": "contour"
           }
          ],
          "contourcarpet": [
           {
            "colorbar": {
             "outlinewidth": 0,
             "ticks": ""
            },
            "type": "contourcarpet"
           }
          ],
          "heatmap": [
           {
            "colorbar": {
             "outlinewidth": 0,
             "ticks": ""
            },
            "colorscale": [
             [
              0,
              "#0d0887"
             ],
             [
              0.1111111111111111,
              "#46039f"
             ],
             [
              0.2222222222222222,
              "#7201a8"
             ],
             [
              0.3333333333333333,
              "#9c179e"
             ],
             [
              0.4444444444444444,
              "#bd3786"
             ],
             [
              0.5555555555555556,
              "#d8576b"
             ],
             [
              0.6666666666666666,
              "#ed7953"
             ],
             [
              0.7777777777777778,
              "#fb9f3a"
             ],
             [
              0.8888888888888888,
              "#fdca26"
             ],
             [
              1,
              "#f0f921"
             ]
            ],
            "type": "heatmap"
           }
          ],
          "heatmapgl": [
           {
            "colorbar": {
             "outlinewidth": 0,
             "ticks": ""
            },
            "colorscale": [
             [
              0,
              "#0d0887"
             ],
             [
              0.1111111111111111,
              "#46039f"
             ],
             [
              0.2222222222222222,
              "#7201a8"
             ],
             [
              0.3333333333333333,
              "#9c179e"
             ],
             [
              0.4444444444444444,
              "#bd3786"
             ],
             [
              0.5555555555555556,
              "#d8576b"
             ],
             [
              0.6666666666666666,
              "#ed7953"
             ],
             [
              0.7777777777777778,
              "#fb9f3a"
             ],
             [
              0.8888888888888888,
              "#fdca26"
             ],
             [
              1,
              "#f0f921"
             ]
            ],
            "type": "heatmapgl"
           }
          ],
          "histogram": [
           {
            "marker": {
             "pattern": {
              "fillmode": "overlay",
              "size": 10,
              "solidity": 0.2
             }
            },
            "type": "histogram"
           }
          ],
          "histogram2d": [
           {
            "colorbar": {
             "outlinewidth": 0,
             "ticks": ""
            },
            "colorscale": [
             [
              0,
              "#0d0887"
             ],
             [
              0.1111111111111111,
              "#46039f"
             ],
             [
              0.2222222222222222,
              "#7201a8"
             ],
             [
              0.3333333333333333,
              "#9c179e"
             ],
             [
              0.4444444444444444,
              "#bd3786"
             ],
             [
              0.5555555555555556,
              "#d8576b"
             ],
             [
              0.6666666666666666,
              "#ed7953"
             ],
             [
              0.7777777777777778,
              "#fb9f3a"
             ],
             [
              0.8888888888888888,
              "#fdca26"
             ],
             [
              1,
              "#f0f921"
             ]
            ],
            "type": "histogram2d"
           }
          ],
          "histogram2dcontour": [
           {
            "colorbar": {
             "outlinewidth": 0,
             "ticks": ""
            },
            "colorscale": [
             [
              0,
              "#0d0887"
             ],
             [
              0.1111111111111111,
              "#46039f"
             ],
             [
              0.2222222222222222,
              "#7201a8"
             ],
             [
              0.3333333333333333,
              "#9c179e"
             ],
             [
              0.4444444444444444,
              "#bd3786"
             ],
             [
              0.5555555555555556,
              "#d8576b"
             ],
             [
              0.6666666666666666,
              "#ed7953"
             ],
             [
              0.7777777777777778,
              "#fb9f3a"
             ],
             [
              0.8888888888888888,
              "#fdca26"
             ],
             [
              1,
              "#f0f921"
             ]
            ],
            "type": "histogram2dcontour"
           }
          ],
          "mesh3d": [
           {
            "colorbar": {
             "outlinewidth": 0,
             "ticks": ""
            },
            "type": "mesh3d"
           }
          ],
          "parcoords": [
           {
            "line": {
             "colorbar": {
              "outlinewidth": 0,
              "ticks": ""
             }
            },
            "type": "parcoords"
           }
          ],
          "pie": [
           {
            "automargin": true,
            "type": "pie"
           }
          ],
          "scatter": [
           {
            "fillpattern": {
             "fillmode": "overlay",
             "size": 10,
             "solidity": 0.2
            },
            "type": "scatter"
           }
          ],
          "scatter3d": [
           {
            "line": {
             "colorbar": {
              "outlinewidth": 0,
              "ticks": ""
             }
            },
            "marker": {
             "colorbar": {
              "outlinewidth": 0,
              "ticks": ""
             }
            },
            "type": "scatter3d"
           }
          ],
          "scattercarpet": [
           {
            "marker": {
             "colorbar": {
              "outlinewidth": 0,
              "ticks": ""
             }
            },
            "type": "scattercarpet"
           }
          ],
          "scattergeo": [
           {
            "marker": {
             "colorbar": {
              "outlinewidth": 0,
              "ticks": ""
             }
            },
            "type": "scattergeo"
           }
          ],
          "scattergl": [
           {
            "marker": {
             "colorbar": {
              "outlinewidth": 0,
              "ticks": ""
             }
            },
            "type": "scattergl"
           }
          ],
          "scattermapbox": [
           {
            "marker": {
             "colorbar": {
              "outlinewidth": 0,
              "ticks": ""
             }
            },
            "type": "scattermapbox"
           }
          ],
          "scatterpolar": [
           {
            "marker": {
             "colorbar": {
              "outlinewidth": 0,
              "ticks": ""
             }
            },
            "type": "scatterpolar"
           }
          ],
          "scatterpolargl": [
           {
            "marker": {
             "colorbar": {
              "outlinewidth": 0,
              "ticks": ""
             }
            },
            "type": "scatterpolargl"
           }
          ],
          "scatterternary": [
           {
            "marker": {
             "colorbar": {
              "outlinewidth": 0,
              "ticks": ""
             }
            },
            "type": "scatterternary"
           }
          ],
          "surface": [
           {
            "colorbar": {
             "outlinewidth": 0,
             "ticks": ""
            },
            "colorscale": [
             [
              0,
              "#0d0887"
             ],
             [
              0.1111111111111111,
              "#46039f"
             ],
             [
              0.2222222222222222,
              "#7201a8"
             ],
             [
              0.3333333333333333,
              "#9c179e"
             ],
             [
              0.4444444444444444,
              "#bd3786"
             ],
             [
              0.5555555555555556,
              "#d8576b"
             ],
             [
              0.6666666666666666,
              "#ed7953"
             ],
             [
              0.7777777777777778,
              "#fb9f3a"
             ],
             [
              0.8888888888888888,
              "#fdca26"
             ],
             [
              1,
              "#f0f921"
             ]
            ],
            "type": "surface"
           }
          ],
          "table": [
           {
            "cells": {
             "fill": {
              "color": "#EBF0F8"
             },
             "line": {
              "color": "white"
             }
            },
            "header": {
             "fill": {
              "color": "#C8D4E3"
             },
             "line": {
              "color": "white"
             }
            },
            "type": "table"
           }
          ]
         },
         "layout": {
          "annotationdefaults": {
           "arrowcolor": "#2a3f5f",
           "arrowhead": 0,
           "arrowwidth": 1
          },
          "autotypenumbers": "strict",
          "coloraxis": {
           "colorbar": {
            "outlinewidth": 0,
            "ticks": ""
           }
          },
          "colorscale": {
           "diverging": [
            [
             0,
             "#8e0152"
            ],
            [
             0.1,
             "#c51b7d"
            ],
            [
             0.2,
             "#de77ae"
            ],
            [
             0.3,
             "#f1b6da"
            ],
            [
             0.4,
             "#fde0ef"
            ],
            [
             0.5,
             "#f7f7f7"
            ],
            [
             0.6,
             "#e6f5d0"
            ],
            [
             0.7,
             "#b8e186"
            ],
            [
             0.8,
             "#7fbc41"
            ],
            [
             0.9,
             "#4d9221"
            ],
            [
             1,
             "#276419"
            ]
           ],
           "sequential": [
            [
             0,
             "#0d0887"
            ],
            [
             0.1111111111111111,
             "#46039f"
            ],
            [
             0.2222222222222222,
             "#7201a8"
            ],
            [
             0.3333333333333333,
             "#9c179e"
            ],
            [
             0.4444444444444444,
             "#bd3786"
            ],
            [
             0.5555555555555556,
             "#d8576b"
            ],
            [
             0.6666666666666666,
             "#ed7953"
            ],
            [
             0.7777777777777778,
             "#fb9f3a"
            ],
            [
             0.8888888888888888,
             "#fdca26"
            ],
            [
             1,
             "#f0f921"
            ]
           ],
           "sequentialminus": [
            [
             0,
             "#0d0887"
            ],
            [
             0.1111111111111111,
             "#46039f"
            ],
            [
             0.2222222222222222,
             "#7201a8"
            ],
            [
             0.3333333333333333,
             "#9c179e"
            ],
            [
             0.4444444444444444,
             "#bd3786"
            ],
            [
             0.5555555555555556,
             "#d8576b"
            ],
            [
             0.6666666666666666,
             "#ed7953"
            ],
            [
             0.7777777777777778,
             "#fb9f3a"
            ],
            [
             0.8888888888888888,
             "#fdca26"
            ],
            [
             1,
             "#f0f921"
            ]
           ]
          },
          "colorway": [
           "#636efa",
           "#EF553B",
           "#00cc96",
           "#ab63fa",
           "#FFA15A",
           "#19d3f3",
           "#FF6692",
           "#B6E880",
           "#FF97FF",
           "#FECB52"
          ],
          "font": {
           "color": "#2a3f5f"
          },
          "geo": {
           "bgcolor": "white",
           "lakecolor": "white",
           "landcolor": "#E5ECF6",
           "showlakes": true,
           "showland": true,
           "subunitcolor": "white"
          },
          "hoverlabel": {
           "align": "left"
          },
          "hovermode": "closest",
          "mapbox": {
           "style": "light"
          },
          "paper_bgcolor": "white",
          "plot_bgcolor": "#E5ECF6",
          "polar": {
           "angularaxis": {
            "gridcolor": "white",
            "linecolor": "white",
            "ticks": ""
           },
           "bgcolor": "#E5ECF6",
           "radialaxis": {
            "gridcolor": "white",
            "linecolor": "white",
            "ticks": ""
           }
          },
          "scene": {
           "xaxis": {
            "backgroundcolor": "#E5ECF6",
            "gridcolor": "white",
            "gridwidth": 2,
            "linecolor": "white",
            "showbackground": true,
            "ticks": "",
            "zerolinecolor": "white"
           },
           "yaxis": {
            "backgroundcolor": "#E5ECF6",
            "gridcolor": "white",
            "gridwidth": 2,
            "linecolor": "white",
            "showbackground": true,
            "ticks": "",
            "zerolinecolor": "white"
           },
           "zaxis": {
            "backgroundcolor": "#E5ECF6",
            "gridcolor": "white",
            "gridwidth": 2,
            "linecolor": "white",
            "showbackground": true,
            "ticks": "",
            "zerolinecolor": "white"
           }
          },
          "shapedefaults": {
           "line": {
            "color": "#2a3f5f"
           }
          },
          "ternary": {
           "aaxis": {
            "gridcolor": "white",
            "linecolor": "white",
            "ticks": ""
           },
           "baxis": {
            "gridcolor": "white",
            "linecolor": "white",
            "ticks": ""
           },
           "bgcolor": "#E5ECF6",
           "caxis": {
            "gridcolor": "white",
            "linecolor": "white",
            "ticks": ""
           }
          },
          "title": {
           "x": 0.05
          },
          "xaxis": {
           "automargin": true,
           "gridcolor": "white",
           "linecolor": "white",
           "ticks": "",
           "title": {
            "standoff": 15
           },
           "zerolinecolor": "white",
           "zerolinewidth": 2
          },
          "yaxis": {
           "automargin": true,
           "gridcolor": "white",
           "linecolor": "white",
           "ticks": "",
           "title": {
            "standoff": 15
           },
           "zerolinecolor": "white",
           "zerolinewidth": 2
          }
         }
        },
        "xaxis": {
         "anchor": "y",
         "domain": [
          0,
          1
         ],
         "title": {
          "text": "x"
         }
        },
        "yaxis": {
         "anchor": "x",
         "domain": [
          0,
          1
         ],
         "title": {
          "text": "y"
         }
        }
       }
      },
      "text/html": [
       "<div>                            <div id=\"1d68102f-9604-4cde-8988-c549240ee192\" class=\"plotly-graph-div\" style=\"height:525px; width:100%;\"></div>            <script type=\"text/javascript\">                require([\"plotly\"], function(Plotly) {                    window.PLOTLYENV=window.PLOTLYENV || {};                                    if (document.getElementById(\"1d68102f-9604-4cde-8988-c549240ee192\")) {                    Plotly.newPlot(                        \"1d68102f-9604-4cde-8988-c549240ee192\",                        [{\"hovertemplate\":\"x=%{x}\\u003cbr\\u003ey=%{y}\\u003cextra\\u003e\\u003c\\u002fextra\\u003e\",\"legendgroup\":\"\",\"marker\":{\"color\":\"#636efa\",\"symbol\":\"circle\"},\"mode\":\"markers\",\"name\":\"\",\"orientation\":\"v\",\"showlegend\":false,\"x\":[2.66885235780265,48.4363580107147,49.6082793202933,-12.4826098910564,-77.7633639116612,-24.2253539291354,-44.0702331520685,-35.7135430602051,-20.7541378310345,-16.8045064728223,-19.6040476521217,-33.0387252689123,-60.3788332240357,-131.372033694793,-197.221991293475,-123.20750314719,-28.5765562419209,-56.4712231019793,-76.5879098467476,-146.304528423133,-232.724948262898,-336.959106732302,18.7825966894909,43.894624707921,35.6498129322848,-24.9728123272607,-95.7291236307359,-116.534267351277,-3.04765762714735,1.93834225192448,49.147018697567,83.6415621368299,67.1975396078894,-0.302886987411559,1.59183924363552,-32.7777026929152,-38.3887792667248,-27.207071194338,-22.1027715193125,-52.8250643339702,-91.8391913457407,-8.53578305615178,-16.5218116308637,-42.2698051949917,-64.5378035965196,-87.1522198410109,-99.0035329217501,-21.9944664007992,-45.3380623220875,-66.2137702209352,-85.7284239846686,-103.534072532078,-109.443610826812,27.8969382456308,33.5572803033134,43.2618506978257,49.5634426268629,32.4335613995841,0.106519430997977,-19.2489757834296,-0.560573870401161,5.24786695168258,0.85055362010898,-6.65343894632645,-9.52407892267337,-6.11165616873942,6.96340623228149,-35.1589043877866,-13.0021343607373,45.6668676363744,25.5397416508182,-17.2754556636461,-40.4690649332296,-6.72103177652052,3.72741842009234,6.4273228188523,21.3750317918039,21.4806198876128,12.5748415804487,-2.72710345349641,-6.19387293685725,-32.1204431025227,-54.8012946691526,-29.6364605551948,52.3016764623419,74.1140139583418,11.9803837042959,-12.6248948829869,-16.5990875731586,-36.2884662591779,-46.2949642573162,-35.7297039788932,-13.3123477489916,4.53526078044727,-11.8234393532459,-25.9770513002577,-33.9151084782364,-43.8786182558496,-34.5993231604694,26.2869270454128,19.4310456631828,4.6045097329189,-4.64054817800925,-17.0908555664889,-60.5349254750809,-65.1038165256762,-7.10450637990414,-22.7116445833439,26.5116361334913,97.7129456469313,109.679008221096,-26.3977972923858,-17.960400560798,-40.1912779582839,-74.1233235741884,-56.3046299775333,-25.1193829896783,0.7350472571878,-7.59713500238843,-3.93740716235316,17.9800447491513,26.3629399594741,4.42364232942073,-36.1987463665271,-84.8793196631028,-9.38350682529786,7.83822215099037,-3.38367612209137,-9.07131303953193,-2.55269576433642,9.01388078706704,0.375918470196195,90.9048435586378,246.137454042526,148.086549131034,-333.45687558118,19.7013517181791,3.45621172751437,12.6292476965277,16.7584935500595,50.2816857507117,66.0453355115047,-23.7346266181686,-1.5269290903361,11.1108777854771,4.46452497392648,3.61134612643743,2.62607820974177,27.1290829398033,4.31537517323108,5.3404691629959,4.39696028740986,-16.7206255667814,9.79427600156315,185.447237360478,153.399882995913,-15.0549951030385,-42.8690695718213,-63.1068850633237,-55.1584826132027,-62.2464757722403,-69.6048265181061,-62.7890170589837,-8.46468815870236,-16.4693926726186,27.6492854514123,40.4733257455758,48.3363448047924,8.19883855267215,16.4467625510604,22.0208896309071,9.30659069706033,10.1017858175426,18.1236234456728,17.9075118213505,35.1053106591505,103.363349490924,53.1000539104703,-33.4922255205309,-60.6991797058985,-8.65398706085256,-29.2723278190049,-26.9381247275656,-26.1764590605103,-10.732452839526,-14.6721103032208,-25.6408642901714,24.9576146014863,23.0329257925257,12.4676500747504,2.49470922688088,-5.21840574565751,-6.58128006050362,0.717259024455783,-53.5598249879562,-52.5356861821856,-17.3844031363128,18.1512912341709,19.8776776801448,-31.8831481462319,3.33367663185332,36.6406305431984,13.2033182429095,-24.9127209390017,-23.5681101020642,10.3678060308585,-2.79878730504464,-12.0365908729162,-16.601360597875,-5.81685885644524,7.74170944984581,15.0390879611483,-1.88470546042963,-2.97987690114415,-31.9703468166774,-68.7083771429333,-38.2896127920327,14.7521524471443,35.1718173828087,5.33184154332119,34.7125083274397,45.4324199253312,43.7597190339396,31.9549844674822,19.8601128119132,-0.0380276899307698,25.8538807215397,38.2704486395618,33.753831545752,5.51622084270613,1.58585371438321,14.8740068018642,14.4032838292268,14.9467859770162,25.5689338016671,12.7121888684449,-12.9769831185332,-43.0000886272861,-8.12532504201417,8.12117603846337,26.8699411101933,48.1887060031994,36.1877112375281,29.3899993774037,18.3842153533747,-6.04204300150183,-31.2998001814259,-19.1979820764368,-14.6514074473736,-17.7297178342838,10.3886784419484,44.0166179003798,-1.372420573866,32.1013920289015,46.022391430177,25.158770269931,14.1155740357231,25.3598759667174,47.257994132981,8.8392907766916,30.477981264217,33.1054574135184,35.808044793207,19.1322685513795,-3.18912899071571,-8.81698700321756,-15.257464424337,-7.83108955346602,55.7150035818341,79.6125371389405,30.015479596489,-22.9414448876548,-37.3253292966118,8.77427421887061,5.58866536111371,-2.68405588546885,-0.601146700498008,-3.58071669736439,-1.86415054595941,-42.4903259181169,-49.840970326005,-51.4666939174245,-34.3918471090988,1.62317644186885,19.8629960225703,19.8026115188533,-24.9037177765457,-12.1984798596243,-14.3140979614365,-21.1850252549592,-25.9786574994354,-11.5747841952224,2.27466390608559,-24.5391233991925,-25.1502466803166,-0.831321496085652,9.54466834195762,17.4858380595665,46.8185894757833,47.1427834221126],\"xaxis\":\"x\",\"y\":[-28.5049270297964,-9.25482758672267,11.4671668539991,7.58934023489402,9.58763822669017,-15.1518196851637,-5.87177673926499,-8.46822092206666,0.741882607775409,10.1330927721447,6.54835252465787,10.811868039541,12.6219281643371,6.29956888272039,12.6343506036726,8.37572610251672,-15.0451246196668,-6.72336565331982,4.26234932509716,5.942712180101,9.89783288410401,9.0352022196199,-26.6454699084329,-3.15242209709977,-6.04373111345512,1.38427498044875,5.29863991395953,4.83879571456259,8.37928775614368,23.0479206932275,24.9408701733839,19.3591165702629,11.6613897097151,10.4719064565829,3.92218475199391,-34.4755931114312,-16.089442430489,4.7353845099716,3.48756412292239,-1.33168606355351,9.24431677514328,-4.03825812793281,-0.0127628981290471,8.27138048245027,5.35771851124252,1.2114196029454,4.38195627002496,-18.8707453603393,-0.551715053042983,9.39275081802253,9.28768945993038,6.45848647152344,4.82659113728171,30.6909451334319,25.2373241823837,18.4790665973891,11.5540081403992,0.229784449377391,2.47691998513882,12.4149670547848,18.4373561995228,21.2291501634753,16.7091641834189,9.94562677495569,3.22261292243179,9.89200428704045,0.708895352197004,-3.98211725441395,16.0409834999789,30.0416605215649,23.4472722314034,11.4066187053077,9.47480023141833,11.1819878591879,3.92615914913315,11.5082499006972,7.1961671331519,11.0575202679318,2.63924691315003,-4.18332712071303,-4.24241104142757,-17.4487610359417,-18.2749604611364,-5.55182569588465,4.53082553555313,-1.84668418087632,-21.3694233754034,-16.4555042471682,-11.1479851829298,-5.56827102538198,6.07744735730633,3.73839010276141,11.605745514651,19.2636802391597,14.7122203837527,12.1721202738655,8.72077183828306,3.31220099860487,-1.49702096509486,21.8365272778885,21.2591079096366,15.0676322875762,3.89333430618714,5.05291216149951,3.33622937858128,2.21864320518497,-18.1507321219336,0.856322359568757,11.0652844658975,12.2714246344804,3.85697190263608,-9.89099315306677,5.21497704641241,9.52045057689419,9.79365752258444,1.1024825201909,-1.71230458541824,4.90039330372656,8.4243192521195,23.2538803011038,24.4495894792066,23.5314418237451,16.6141099431489,15.2397849982149,8.15505807001882,-26.5110267238868,-17.8152337154357,9.80399393403288,15.9633075590017,13.5482285540048,10.9674472107934,6.78351626174026,-3.25398526380206,1.65449380998911,3.47109709489284,-1.1296862328614,17.0730891496859,21.6795579166217,13.7449889112552,9.62551921736708,13.3988312631259,-1.64456137647596,0.993417662231074,10.2818813266411,2.599677175552,5.12380249440302,5.00912516639245,4.61815966524337,8.46504117152728,-23.9314464232278,-4.41731044544183,5.57465443021681,0.567473425103259,-1.13660719955666,0.185764216228179,-9.9239380907812,-8.04909511868244,3.84648309854933,2.6929578115302,7.25886257423875,2.81361736961685,-2.80076163335877,-10.5757565048856,-38.9150196904867,-31.278943617524,-18.8165735819026,-11.0400607928447,4.86988216916696,17.7437549399728,16.5289069852287,12.946825691979,-1.63153636761816,-1.80806059501236,-13.9509001980534,-10.0043985817277,-12.512797331177,-11.3454755957477,-14.1703929246025,-1.05755204807478,-14.2264928381315,-34.7316848566607,-20.6721823576364,-18.2617804704502,-25.9283818488343,-34.5742404113454,-21.7972464147065,-18.2935443042901,22.2299535695349,20.73929397058,9.00266639309591,5.77567274571874,-0.644556149337319,-8.92528699682843,-3.98722834437007,-22.8235369191641,-7.41260620087782,13.8272879385427,-4.2290049998272,-0.0270334033766204,-27.3990135988523,-24.1554222699767,-22.3237617521358,-26.9540753816885,-16.960289825746,-4.71267587554884,12.4237544570511,14.8579946883421,10.6349683914764,-1.60109759508604,-6.24960816270303,-4.50889803630838,1.01976111716961,-8.4389711036406,-8.68982246625474,-5.33832385300232,-4.43109245897922,-4.14791324744876,-2.52738802090012,-4.8719697508324,-23.4720343953901,-3.06056319558062,0.0503487435044363,3.28045109881901,-1.67426150938228,3.87182415324629,-1.92379265596195,-7.0843810349917,-5.49582485690637,-5.06859872141715,-0.768457708663192,-6.89530476303518,16.8890853854461,22.0141609687897,25.0574612501309,6.92384018522601,-1.86157103175113,-4.518088353831,9.68244192228471,-36.2560723172987,-12.0535629809708,-12.551951979995,-7.90751352267908,0.823646282186317,0.356505711741292,-4.50217483112955,-41.0869198818865,-39.5029921385306,-35.9558423869978,-25.2980680584607,-12.9624705962992,-10.2294024473493,-8.88265234785006,-2.52975215010916,3.41103953693483,5.48711398977356,-3.7346337711587,1.37159256939503,-3.86941356154765,1.90501089193874,10.4704401761631,27.2234224730421,20.2113119584339,19.4047818538849,5.66460601637567,3.8434843990502,-4.01267022518479,11.9116587267464,17.7767883227353,12.4429259892432,12.2707095862753,-1.96270772585089,-11.9801468654297,1.95128538998412,-4.99834641693066,28.8101007240316,13.6807376316356,13.4279031752588,-9.73837147218498,7.28834347233177,-26.9795424707877,-50.2278013756437,-57.0433119186431,-58.3565274264648,-50.1822819608467,-35.5135962682099,-13.4397821501118,-52.5021717524072,-44.0952504333918,-12.0504696632351,2.35979798765497,10.4745000059171,9.38855894491363,-3.75821960733397,-48.4898326278607,-48.6960127915172,-49.7433413166114,-39.0829114511128,-10.0092936934856,-9.24835321663394,-6.12553412175131],\"yaxis\":\"y\",\"type\":\"scatter\"}],                        {\"template\":{\"data\":{\"histogram2dcontour\":[{\"type\":\"histogram2dcontour\",\"colorbar\":{\"outlinewidth\":0,\"ticks\":\"\"},\"colorscale\":[[0.0,\"#0d0887\"],[0.1111111111111111,\"#46039f\"],[0.2222222222222222,\"#7201a8\"],[0.3333333333333333,\"#9c179e\"],[0.4444444444444444,\"#bd3786\"],[0.5555555555555556,\"#d8576b\"],[0.6666666666666666,\"#ed7953\"],[0.7777777777777778,\"#fb9f3a\"],[0.8888888888888888,\"#fdca26\"],[1.0,\"#f0f921\"]]}],\"choropleth\":[{\"type\":\"choropleth\",\"colorbar\":{\"outlinewidth\":0,\"ticks\":\"\"}}],\"histogram2d\":[{\"type\":\"histogram2d\",\"colorbar\":{\"outlinewidth\":0,\"ticks\":\"\"},\"colorscale\":[[0.0,\"#0d0887\"],[0.1111111111111111,\"#46039f\"],[0.2222222222222222,\"#7201a8\"],[0.3333333333333333,\"#9c179e\"],[0.4444444444444444,\"#bd3786\"],[0.5555555555555556,\"#d8576b\"],[0.6666666666666666,\"#ed7953\"],[0.7777777777777778,\"#fb9f3a\"],[0.8888888888888888,\"#fdca26\"],[1.0,\"#f0f921\"]]}],\"heatmap\":[{\"type\":\"heatmap\",\"colorbar\":{\"outlinewidth\":0,\"ticks\":\"\"},\"colorscale\":[[0.0,\"#0d0887\"],[0.1111111111111111,\"#46039f\"],[0.2222222222222222,\"#7201a8\"],[0.3333333333333333,\"#9c179e\"],[0.4444444444444444,\"#bd3786\"],[0.5555555555555556,\"#d8576b\"],[0.6666666666666666,\"#ed7953\"],[0.7777777777777778,\"#fb9f3a\"],[0.8888888888888888,\"#fdca26\"],[1.0,\"#f0f921\"]]}],\"heatmapgl\":[{\"type\":\"heatmapgl\",\"colorbar\":{\"outlinewidth\":0,\"ticks\":\"\"},\"colorscale\":[[0.0,\"#0d0887\"],[0.1111111111111111,\"#46039f\"],[0.2222222222222222,\"#7201a8\"],[0.3333333333333333,\"#9c179e\"],[0.4444444444444444,\"#bd3786\"],[0.5555555555555556,\"#d8576b\"],[0.6666666666666666,\"#ed7953\"],[0.7777777777777778,\"#fb9f3a\"],[0.8888888888888888,\"#fdca26\"],[1.0,\"#f0f921\"]]}],\"contourcarpet\":[{\"type\":\"contourcarpet\",\"colorbar\":{\"outlinewidth\":0,\"ticks\":\"\"}}],\"contour\":[{\"type\":\"contour\",\"colorbar\":{\"outlinewidth\":0,\"ticks\":\"\"},\"colorscale\":[[0.0,\"#0d0887\"],[0.1111111111111111,\"#46039f\"],[0.2222222222222222,\"#7201a8\"],[0.3333333333333333,\"#9c179e\"],[0.4444444444444444,\"#bd3786\"],[0.5555555555555556,\"#d8576b\"],[0.6666666666666666,\"#ed7953\"],[0.7777777777777778,\"#fb9f3a\"],[0.8888888888888888,\"#fdca26\"],[1.0,\"#f0f921\"]]}],\"surface\":[{\"type\":\"surface\",\"colorbar\":{\"outlinewidth\":0,\"ticks\":\"\"},\"colorscale\":[[0.0,\"#0d0887\"],[0.1111111111111111,\"#46039f\"],[0.2222222222222222,\"#7201a8\"],[0.3333333333333333,\"#9c179e\"],[0.4444444444444444,\"#bd3786\"],[0.5555555555555556,\"#d8576b\"],[0.6666666666666666,\"#ed7953\"],[0.7777777777777778,\"#fb9f3a\"],[0.8888888888888888,\"#fdca26\"],[1.0,\"#f0f921\"]]}],\"mesh3d\":[{\"type\":\"mesh3d\",\"colorbar\":{\"outlinewidth\":0,\"ticks\":\"\"}}],\"scatter\":[{\"fillpattern\":{\"fillmode\":\"overlay\",\"size\":10,\"solidity\":0.2},\"type\":\"scatter\"}],\"parcoords\":[{\"type\":\"parcoords\",\"line\":{\"colorbar\":{\"outlinewidth\":0,\"ticks\":\"\"}}}],\"scatterpolargl\":[{\"type\":\"scatterpolargl\",\"marker\":{\"colorbar\":{\"outlinewidth\":0,\"ticks\":\"\"}}}],\"bar\":[{\"error_x\":{\"color\":\"#2a3f5f\"},\"error_y\":{\"color\":\"#2a3f5f\"},\"marker\":{\"line\":{\"color\":\"#E5ECF6\",\"width\":0.5},\"pattern\":{\"fillmode\":\"overlay\",\"size\":10,\"solidity\":0.2}},\"type\":\"bar\"}],\"scattergeo\":[{\"type\":\"scattergeo\",\"marker\":{\"colorbar\":{\"outlinewidth\":0,\"ticks\":\"\"}}}],\"scatterpolar\":[{\"type\":\"scatterpolar\",\"marker\":{\"colorbar\":{\"outlinewidth\":0,\"ticks\":\"\"}}}],\"histogram\":[{\"marker\":{\"pattern\":{\"fillmode\":\"overlay\",\"size\":10,\"solidity\":0.2}},\"type\":\"histogram\"}],\"scattergl\":[{\"type\":\"scattergl\",\"marker\":{\"colorbar\":{\"outlinewidth\":0,\"ticks\":\"\"}}}],\"scatter3d\":[{\"type\":\"scatter3d\",\"line\":{\"colorbar\":{\"outlinewidth\":0,\"ticks\":\"\"}},\"marker\":{\"colorbar\":{\"outlinewidth\":0,\"ticks\":\"\"}}}],\"scattermapbox\":[{\"type\":\"scattermapbox\",\"marker\":{\"colorbar\":{\"outlinewidth\":0,\"ticks\":\"\"}}}],\"scatterternary\":[{\"type\":\"scatterternary\",\"marker\":{\"colorbar\":{\"outlinewidth\":0,\"ticks\":\"\"}}}],\"scattercarpet\":[{\"type\":\"scattercarpet\",\"marker\":{\"colorbar\":{\"outlinewidth\":0,\"ticks\":\"\"}}}],\"carpet\":[{\"aaxis\":{\"endlinecolor\":\"#2a3f5f\",\"gridcolor\":\"white\",\"linecolor\":\"white\",\"minorgridcolor\":\"white\",\"startlinecolor\":\"#2a3f5f\"},\"baxis\":{\"endlinecolor\":\"#2a3f5f\",\"gridcolor\":\"white\",\"linecolor\":\"white\",\"minorgridcolor\":\"white\",\"startlinecolor\":\"#2a3f5f\"},\"type\":\"carpet\"}],\"table\":[{\"cells\":{\"fill\":{\"color\":\"#EBF0F8\"},\"line\":{\"color\":\"white\"}},\"header\":{\"fill\":{\"color\":\"#C8D4E3\"},\"line\":{\"color\":\"white\"}},\"type\":\"table\"}],\"barpolar\":[{\"marker\":{\"line\":{\"color\":\"#E5ECF6\",\"width\":0.5},\"pattern\":{\"fillmode\":\"overlay\",\"size\":10,\"solidity\":0.2}},\"type\":\"barpolar\"}],\"pie\":[{\"automargin\":true,\"type\":\"pie\"}]},\"layout\":{\"autotypenumbers\":\"strict\",\"colorway\":[\"#636efa\",\"#EF553B\",\"#00cc96\",\"#ab63fa\",\"#FFA15A\",\"#19d3f3\",\"#FF6692\",\"#B6E880\",\"#FF97FF\",\"#FECB52\"],\"font\":{\"color\":\"#2a3f5f\"},\"hovermode\":\"closest\",\"hoverlabel\":{\"align\":\"left\"},\"paper_bgcolor\":\"white\",\"plot_bgcolor\":\"#E5ECF6\",\"polar\":{\"bgcolor\":\"#E5ECF6\",\"angularaxis\":{\"gridcolor\":\"white\",\"linecolor\":\"white\",\"ticks\":\"\"},\"radialaxis\":{\"gridcolor\":\"white\",\"linecolor\":\"white\",\"ticks\":\"\"}},\"ternary\":{\"bgcolor\":\"#E5ECF6\",\"aaxis\":{\"gridcolor\":\"white\",\"linecolor\":\"white\",\"ticks\":\"\"},\"baxis\":{\"gridcolor\":\"white\",\"linecolor\":\"white\",\"ticks\":\"\"},\"caxis\":{\"gridcolor\":\"white\",\"linecolor\":\"white\",\"ticks\":\"\"}},\"coloraxis\":{\"colorbar\":{\"outlinewidth\":0,\"ticks\":\"\"}},\"colorscale\":{\"sequential\":[[0.0,\"#0d0887\"],[0.1111111111111111,\"#46039f\"],[0.2222222222222222,\"#7201a8\"],[0.3333333333333333,\"#9c179e\"],[0.4444444444444444,\"#bd3786\"],[0.5555555555555556,\"#d8576b\"],[0.6666666666666666,\"#ed7953\"],[0.7777777777777778,\"#fb9f3a\"],[0.8888888888888888,\"#fdca26\"],[1.0,\"#f0f921\"]],\"sequentialminus\":[[0.0,\"#0d0887\"],[0.1111111111111111,\"#46039f\"],[0.2222222222222222,\"#7201a8\"],[0.3333333333333333,\"#9c179e\"],[0.4444444444444444,\"#bd3786\"],[0.5555555555555556,\"#d8576b\"],[0.6666666666666666,\"#ed7953\"],[0.7777777777777778,\"#fb9f3a\"],[0.8888888888888888,\"#fdca26\"],[1.0,\"#f0f921\"]],\"diverging\":[[0,\"#8e0152\"],[0.1,\"#c51b7d\"],[0.2,\"#de77ae\"],[0.3,\"#f1b6da\"],[0.4,\"#fde0ef\"],[0.5,\"#f7f7f7\"],[0.6,\"#e6f5d0\"],[0.7,\"#b8e186\"],[0.8,\"#7fbc41\"],[0.9,\"#4d9221\"],[1,\"#276419\"]]},\"xaxis\":{\"gridcolor\":\"white\",\"linecolor\":\"white\",\"ticks\":\"\",\"title\":{\"standoff\":15},\"zerolinecolor\":\"white\",\"automargin\":true,\"zerolinewidth\":2},\"yaxis\":{\"gridcolor\":\"white\",\"linecolor\":\"white\",\"ticks\":\"\",\"title\":{\"standoff\":15},\"zerolinecolor\":\"white\",\"automargin\":true,\"zerolinewidth\":2},\"scene\":{\"xaxis\":{\"backgroundcolor\":\"#E5ECF6\",\"gridcolor\":\"white\",\"linecolor\":\"white\",\"showbackground\":true,\"ticks\":\"\",\"zerolinecolor\":\"white\",\"gridwidth\":2},\"yaxis\":{\"backgroundcolor\":\"#E5ECF6\",\"gridcolor\":\"white\",\"linecolor\":\"white\",\"showbackground\":true,\"ticks\":\"\",\"zerolinecolor\":\"white\",\"gridwidth\":2},\"zaxis\":{\"backgroundcolor\":\"#E5ECF6\",\"gridcolor\":\"white\",\"linecolor\":\"white\",\"showbackground\":true,\"ticks\":\"\",\"zerolinecolor\":\"white\",\"gridwidth\":2}},\"shapedefaults\":{\"line\":{\"color\":\"#2a3f5f\"}},\"annotationdefaults\":{\"arrowcolor\":\"#2a3f5f\",\"arrowhead\":0,\"arrowwidth\":1},\"geo\":{\"bgcolor\":\"white\",\"landcolor\":\"#E5ECF6\",\"subunitcolor\":\"white\",\"showland\":true,\"showlakes\":true,\"lakecolor\":\"white\"},\"title\":{\"x\":0.05},\"mapbox\":{\"style\":\"light\"}}},\"xaxis\":{\"anchor\":\"y\",\"domain\":[0.0,1.0],\"title\":{\"text\":\"x\"}},\"yaxis\":{\"anchor\":\"x\",\"domain\":[0.0,1.0],\"title\":{\"text\":\"y\"}},\"legend\":{\"tracegroupgap\":0},\"margin\":{\"t\":60}},                        {\"responsive\": true}                    ).then(function(){\n",
       "                            \n",
       "var gd = document.getElementById('1d68102f-9604-4cde-8988-c549240ee192');\n",
       "var x = new MutationObserver(function (mutations, observer) {{\n",
       "        var display = window.getComputedStyle(gd).display;\n",
       "        if (!display || display === 'none') {{\n",
       "            console.log([gd, 'removed!']);\n",
       "            Plotly.purge(gd);\n",
       "            observer.disconnect();\n",
       "        }}\n",
       "}});\n",
       "\n",
       "// Listen for the removal of the full notebook cells\n",
       "var notebookContainer = gd.closest('#notebook-container');\n",
       "if (notebookContainer) {{\n",
       "    x.observe(notebookContainer, {childList: true});\n",
       "}}\n",
       "\n",
       "// Listen for the clearing of the current output cell\n",
       "var outputEl = gd.closest('.output');\n",
       "if (outputEl) {{\n",
       "    x.observe(outputEl, {childList: true});\n",
       "}}\n",
       "\n",
       "                        })                };                });            </script>        </div>"
      ]
     },
     "metadata": {},
     "output_type": "display_data"
    },
    {
     "name": "stdout",
     "output_type": "stream",
     "text": [
      "3\n"
     ]
    },
    {
     "data": {
      "application/vnd.plotly.v1+json": {
       "config": {
        "plotlyServerURL": "https://plot.ly"
       },
       "data": [
        {
         "hovertemplate": "x=%{x}<br>y=%{y}<extra></extra>",
         "legendgroup": "",
         "marker": {
          "color": "#636efa",
          "symbol": "circle"
         },
         "mode": "markers",
         "name": "",
         "orientation": "v",
         "showlegend": false,
         "type": "scatter",
         "x": [
          2.86757115395995,
          46.7494686300335,
          44.7229173459102,
          -20.0767141972552,
          -85.2560797879328,
          -18.0054153584913,
          -35.9025276578846,
          -26.3511741576998,
          -12.5591775813081,
          -8.98554514672362,
          -21.783311508623,
          -35.8978492632275,
          -62.9165971962693,
          -133.9128239949,
          -203.347840229935,
          -133.427507767109,
          -30.3496471294145,
          -61.2860804773749,
          -82.7073950085551,
          -148.736893873587,
          -216.500889588777,
          -292.943853643985,
          20.0026683929392,
          43.4087705083551,
          34.5470696838448,
          -23.9697207832762,
          -91.7153716300252,
          -111.583437292623,
          -4.30800436616228,
          1.7567755514706,
          50.6937695301515,
          87.0204808171636,
          69.3006307992796,
          -3.11331812824802,
          -3.68486164259131,
          -33.0496497595363,
          -39.1862930715898,
          -27.1368986687817,
          -21.5383983936825,
          -52.6255284834074,
          -92.0997785349271,
          -7.54288533839218,
          -17.4570151248253,
          -45.4848198476705,
          -70.2313898992925,
          -90.42365428304,
          -88.3897999539955,
          -24.3632858562161,
          -49.4988287884487,
          -71.6920903914508,
          -90.1396121597364,
          -104.753796859252,
          -110.025739828782,
          27.2339071633999,
          32.1479326967634,
          41.6631740567842,
          48.1772398837843,
          31.523358907106,
          -0.631377678667869,
          -20.2033984409275,
          0.743080207194012,
          5.16500054766294,
          1.7082187579248,
          -5.41077410098233,
          -9.00278689620368,
          -6.88949051156861,
          5.6946068875303,
          -37.0905914874813,
          -13.1060291759755,
          44.7440369121551,
          24.9485884616361,
          -20.4410445389431,
          -46.5736708423624,
          -12.3568499580675,
          3.67613508480758,
          6.49884290695491,
          21.5879784178835,
          21.62220455171,
          12.4715668995874,
          -3.26495033763899,
          -6.78940264662315,
          -30.5719492363883,
          -52.8051585094937,
          -27.9027680753624,
          55.5353196662611,
          77.1259204641193,
          11.0199107453205,
          -12.869182857518,
          -16.479602253637,
          -34.7618457199883,
          -43.2022792357114,
          -32.1535477458576,
          -11.6689698026647,
          5.39157245982309,
          -10.189292487929,
          -24.6062438709551,
          -33.6867460934961,
          -44.4223142078184,
          -34.8908017435313,
          26.9536667349745,
          19.8435835752756,
          4.68474305626289,
          -3.98030867559187,
          -15.7912247377701,
          -58.8861398757182,
          -63.5140340406008,
          -6.12108857511977,
          -23.1499550876371,
          25.6312530732453,
          96.9306277532844,
          109.287578191711,
          -26.5394475633559,
          -18.7760928638796,
          -41.3875863563095,
          -75.5828489123534,
          -57.0683904111416,
          -24.7773795723967,
          0.978763775212859,
          -7.87849500074139,
          -2.95607605501066,
          18.0926097060693,
          26.1681814781489,
          4.49982583079953,
          -35.3915795477154,
          -83.7358660653583,
          -8.49558831314812,
          8.14415328654445,
          -3.98805495183802,
          -9.5853472984279,
          -2.61127456169425,
          8.38629779776286,
          0.249320600942519,
          77.9411170524113,
          226.911310593631,
          136.933270927953,
          -332.026830747328,
          20.6785603374534,
          4.12096507477736,
          13.2159150536163,
          16.8735998278241,
          48.7663048229368,
          63.8044151112875,
          -21.3291114592592,
          -3.07997239884094,
          9.47111158491587,
          5.73567223989763,
          5.09145979814891,
          2.39131555406718,
          25.9608793132655,
          1.783712669505,
          3.4010141420242,
          2.61994834638845,
          -19.8097512655599,
          8.29586891571407,
          189.572152123351,
          156.48032786017,
          -15.6492807820491,
          -46.1723510455679,
          -69.1406614632817,
          -60.8333543163182,
          -64.4365273938698,
          -66.5628009887835,
          -56.893776535505,
          -6.59131196050342,
          -14.2849399956165,
          29.7116101488505,
          42.5403155783331,
          49.5160774263079,
          8.11351522479162,
          16.6187246045213,
          23.4410455186986,
          10.8324548029822,
          12.0032796079191,
          20.9412275911506,
          21.3192250335153,
          33.9146408623117,
          102.301299954729,
          52.5550304065238,
          -33.0887786681634,
          -60.1066899739594,
          -9.8155316761599,
          -30.1976546804376,
          -26.531411251238,
          -24.9725313059246,
          -9.7318394500418,
          -14.1910932702894,
          -25.4767712299478,
          25.2581631472584,
          22.8630233786501,
          12.3168747192341,
          2.16323442619642,
          -5.68173730105803,
          -6.98906719681886,
          0.463226347454424,
          -53.6202909993331,
          -52.2473631567637,
          -17.6687779199843,
          16.1623436630106,
          17.5122892068316,
          -33.6600160393881,
          -0.790253899381981,
          32.5656034169827,
          10.1091255410388,
          -27.0993149646261,
          -25.1955366835077,
          11.0090388124757,
          -2.7636234916587,
          -12.8965010445779,
          -17.9471784178981,
          -7.21925799314022,
          6.49750231422405,
          13.7143477012916,
          -0.947718241291632,
          -3.90638349945961,
          -32.7299487270461,
          -69.3788495991149,
          -38.7113978178589,
          14.950010955899,
          35.8143244628254,
          4.72496602752804,
          35.3003312168905,
          46.8541821806242,
          44.143050811854,
          31.5784730855926,
          19.1753039190264,
          -0.203613404584331,
          24.8303055833641,
          37.123528360728,
          31.4712297648185,
          2.60879838344105,
          -0.373605861326678,
          14.2863965268131,
          14.5383803287852,
          15.3081962080753,
          26.1920764735779,
          13.4674251294571,
          -11.9723976978198,
          -40.8766055320981,
          -10.8538774051141,
          7.42127150776507,
          27.9095034619314,
          49.3765918870097,
          36.8460653096089,
          30.6666376279788,
          19.8246620289119,
          -6.47971625228672,
          -30.048823076276,
          -19.7424153692394,
          -15.8173745991628,
          -18.5532859181071,
          10.1488868448601,
          44.1738793062574,
          -2.13082021753418,
          32.2556348931329,
          45.8991080149902,
          25.2957240750295,
          14.1447115330568,
          24.6309392536119,
          45.8036828237858,
          8.79176734031407,
          30.4705821378957,
          33.1375875947397,
          35.9439293184014,
          19.2002739557273,
          -3.18963377261661,
          -8.67922231072476,
          -15.7495485134059,
          -8.49490854570693,
          54.0145789214923,
          77.2159503327268,
          26.9911038665004,
          -25.5228695780197,
          -39.3578862614528,
          9.49050419393846,
          5.72842037269884,
          -3.29502517959394,
          -0.790911771380006,
          -3.55690040300637,
          -2.32097131457739,
          -42.7582605118009,
          -50.4902914833174,
          -52.0358211558941,
          -34.8775731063062,
          1.15667814767963,
          19.3789500680325,
          19.5279528614931,
          -23.7805663475845,
          -11.9198027835112,
          -13.7786668894211,
          -21.4202734778869,
          -26.4934734795673,
          -11.8328829437286,
          2.07708172766084,
          -22.8520632103849,
          -25.0320428036433,
          -0.9641525028178,
          9.36929999339653,
          17.9810343601998,
          49.7553526999976,
          50.4331592312431
         ],
         "xaxis": "x",
         "y": [
          -28.5049270297964,
          -9.25482758672267,
          11.4671668539991,
          7.58934023489402,
          9.58763822669017,
          -15.1518196851637,
          -5.87177673926499,
          -8.46822092206666,
          0.741882607775409,
          10.1330927721447,
          6.54835252465787,
          10.811868039541,
          12.6219281643371,
          6.29956888272039,
          12.6343506036726,
          8.37572610251672,
          -15.0451246196668,
          -6.72336565331982,
          4.26234932509716,
          5.942712180101,
          9.89783288410401,
          9.0352022196199,
          -26.6454699084329,
          -3.15242209709977,
          -6.04373111345512,
          1.38427498044875,
          5.29863991395953,
          4.83879571456259,
          8.37928775614368,
          23.0479206932275,
          24.9408701733839,
          19.3591165702629,
          11.6613897097151,
          10.4719064565829,
          3.92218475199391,
          -34.4755931114312,
          -16.089442430489,
          4.7353845099716,
          3.48756412292239,
          -1.33168606355351,
          9.24431677514328,
          -4.03825812793281,
          -0.0127628981290471,
          8.27138048245027,
          5.35771851124252,
          1.2114196029454,
          4.38195627002496,
          -18.8707453603393,
          -0.551715053042983,
          9.39275081802253,
          9.28768945993038,
          6.45848647152344,
          4.82659113728171,
          30.6909451334319,
          25.2373241823837,
          18.4790665973891,
          11.5540081403992,
          0.229784449377391,
          2.47691998513882,
          12.4149670547848,
          18.4373561995228,
          21.2291501634753,
          16.7091641834189,
          9.94562677495569,
          3.22261292243179,
          9.89200428704045,
          0.708895352197004,
          -3.98211725441395,
          16.0409834999789,
          30.0416605215649,
          23.4472722314034,
          11.4066187053077,
          9.47480023141833,
          11.1819878591879,
          3.92615914913315,
          11.5082499006972,
          7.1961671331519,
          11.0575202679318,
          2.63924691315003,
          -4.18332712071303,
          -4.24241104142757,
          -17.4487610359417,
          -18.2749604611364,
          -5.55182569588465,
          4.53082553555313,
          -1.84668418087632,
          -21.3694233754034,
          -16.4555042471682,
          -11.1479851829298,
          -5.56827102538198,
          6.07744735730633,
          3.73839010276141,
          11.605745514651,
          19.2636802391597,
          14.7122203837527,
          12.1721202738655,
          8.72077183828306,
          3.31220099860487,
          -1.49702096509486,
          21.8365272778885,
          21.2591079096366,
          15.0676322875762,
          3.89333430618714,
          5.05291216149951,
          3.33622937858128,
          2.21864320518497,
          -18.1507321219336,
          0.856322359568757,
          11.0652844658975,
          12.2714246344804,
          3.85697190263608,
          -9.89099315306677,
          5.21497704641241,
          9.52045057689419,
          9.79365752258444,
          1.1024825201909,
          -1.71230458541824,
          4.90039330372656,
          8.4243192521195,
          23.2538803011038,
          24.4495894792066,
          23.5314418237451,
          16.6141099431489,
          15.2397849982149,
          8.15505807001882,
          -26.5110267238868,
          -17.8152337154357,
          9.80399393403288,
          15.9633075590017,
          13.5482285540048,
          10.9674472107934,
          6.78351626174026,
          -3.25398526380206,
          1.65449380998911,
          3.47109709489284,
          -1.1296862328614,
          17.0730891496859,
          21.6795579166217,
          13.7449889112552,
          9.62551921736708,
          13.3988312631259,
          -1.64456137647596,
          0.993417662231074,
          10.2818813266411,
          2.599677175552,
          5.12380249440302,
          5.00912516639245,
          4.61815966524337,
          8.46504117152728,
          -23.9314464232278,
          -4.41731044544183,
          5.57465443021681,
          0.567473425103259,
          -1.13660719955666,
          0.185764216228179,
          -9.9239380907812,
          -8.04909511868244,
          3.84648309854933,
          2.6929578115302,
          7.25886257423875,
          2.81361736961685,
          -2.80076163335877,
          -10.5757565048856,
          -38.9150196904867,
          -31.278943617524,
          -18.8165735819026,
          -11.0400607928447,
          4.86988216916696,
          17.7437549399728,
          16.5289069852287,
          12.946825691979,
          -1.63153636761816,
          -1.80806059501236,
          -13.9509001980534,
          -10.0043985817277,
          -12.512797331177,
          -11.3454755957477,
          -14.1703929246025,
          -1.05755204807478,
          -14.2264928381315,
          -34.7316848566607,
          -20.6721823576364,
          -18.2617804704502,
          -25.9283818488343,
          -34.5742404113454,
          -21.7972464147065,
          -18.2935443042901,
          22.2299535695349,
          20.73929397058,
          9.00266639309591,
          5.77567274571874,
          -0.644556149337319,
          -8.92528699682843,
          -3.98722834437007,
          -22.8235369191641,
          -7.41260620087782,
          13.8272879385427,
          -4.2290049998272,
          -0.0270334033766204,
          -27.3990135988523,
          -24.1554222699767,
          -22.3237617521358,
          -26.9540753816885,
          -16.960289825746,
          -4.71267587554884,
          12.4237544570511,
          14.8579946883421,
          10.6349683914764,
          -1.60109759508604,
          -6.24960816270303,
          -4.50889803630838,
          1.01976111716961,
          -8.4389711036406,
          -8.68982246625474,
          -5.33832385300232,
          -4.43109245897922,
          -4.14791324744876,
          -2.52738802090012,
          -4.8719697508324,
          -23.4720343953901,
          -3.06056319558062,
          0.0503487435044363,
          3.28045109881901,
          -1.67426150938228,
          3.87182415324629,
          -1.92379265596195,
          -7.0843810349917,
          -5.49582485690637,
          -5.06859872141715,
          -0.768457708663192,
          -6.89530476303518,
          16.8890853854461,
          22.0141609687897,
          25.0574612501309,
          6.92384018522601,
          -1.86157103175113,
          -4.518088353831,
          9.68244192228471,
          -36.2560723172987,
          -12.0535629809708,
          -12.551951979995,
          -7.90751352267908,
          0.823646282186317,
          0.356505711741292,
          -4.50217483112955,
          -41.0869198818865,
          -39.5029921385306,
          -35.9558423869978,
          -25.2980680584607,
          -12.9624705962992,
          -10.2294024473493,
          -8.88265234785006,
          -2.52975215010916,
          3.41103953693483,
          5.48711398977356,
          -3.7346337711587,
          1.37159256939503,
          -3.86941356154765,
          1.90501089193874,
          10.4704401761631,
          27.2234224730421,
          20.2113119584339,
          19.4047818538849,
          5.66460601637567,
          3.8434843990502,
          -4.01267022518479,
          11.9116587267464,
          17.7767883227353,
          12.4429259892432,
          12.2707095862753,
          -1.96270772585089,
          -11.9801468654297,
          1.95128538998412,
          -4.99834641693066,
          28.8101007240316,
          13.6807376316356,
          13.4279031752588,
          -9.73837147218498,
          7.28834347233177,
          -26.9795424707877,
          -50.2278013756437,
          -57.0433119186431,
          -58.3565274264648,
          -50.1822819608467,
          -35.5135962682099,
          -13.4397821501118,
          -52.5021717524072,
          -44.0952504333918,
          -12.0504696632351,
          2.35979798765497,
          10.4745000059171,
          9.38855894491363,
          -3.75821960733397,
          -48.4898326278607,
          -48.6960127915172,
          -49.7433413166114,
          -39.0829114511128,
          -10.0092936934856,
          -9.24835321663394,
          -6.12553412175131
         ],
         "yaxis": "y"
        }
       ],
       "layout": {
        "legend": {
         "tracegroupgap": 0
        },
        "margin": {
         "t": 60
        },
        "template": {
         "data": {
          "bar": [
           {
            "error_x": {
             "color": "#2a3f5f"
            },
            "error_y": {
             "color": "#2a3f5f"
            },
            "marker": {
             "line": {
              "color": "#E5ECF6",
              "width": 0.5
             },
             "pattern": {
              "fillmode": "overlay",
              "size": 10,
              "solidity": 0.2
             }
            },
            "type": "bar"
           }
          ],
          "barpolar": [
           {
            "marker": {
             "line": {
              "color": "#E5ECF6",
              "width": 0.5
             },
             "pattern": {
              "fillmode": "overlay",
              "size": 10,
              "solidity": 0.2
             }
            },
            "type": "barpolar"
           }
          ],
          "carpet": [
           {
            "aaxis": {
             "endlinecolor": "#2a3f5f",
             "gridcolor": "white",
             "linecolor": "white",
             "minorgridcolor": "white",
             "startlinecolor": "#2a3f5f"
            },
            "baxis": {
             "endlinecolor": "#2a3f5f",
             "gridcolor": "white",
             "linecolor": "white",
             "minorgridcolor": "white",
             "startlinecolor": "#2a3f5f"
            },
            "type": "carpet"
           }
          ],
          "choropleth": [
           {
            "colorbar": {
             "outlinewidth": 0,
             "ticks": ""
            },
            "type": "choropleth"
           }
          ],
          "contour": [
           {
            "colorbar": {
             "outlinewidth": 0,
             "ticks": ""
            },
            "colorscale": [
             [
              0,
              "#0d0887"
             ],
             [
              0.1111111111111111,
              "#46039f"
             ],
             [
              0.2222222222222222,
              "#7201a8"
             ],
             [
              0.3333333333333333,
              "#9c179e"
             ],
             [
              0.4444444444444444,
              "#bd3786"
             ],
             [
              0.5555555555555556,
              "#d8576b"
             ],
             [
              0.6666666666666666,
              "#ed7953"
             ],
             [
              0.7777777777777778,
              "#fb9f3a"
             ],
             [
              0.8888888888888888,
              "#fdca26"
             ],
             [
              1,
              "#f0f921"
             ]
            ],
            "type": "contour"
           }
          ],
          "contourcarpet": [
           {
            "colorbar": {
             "outlinewidth": 0,
             "ticks": ""
            },
            "type": "contourcarpet"
           }
          ],
          "heatmap": [
           {
            "colorbar": {
             "outlinewidth": 0,
             "ticks": ""
            },
            "colorscale": [
             [
              0,
              "#0d0887"
             ],
             [
              0.1111111111111111,
              "#46039f"
             ],
             [
              0.2222222222222222,
              "#7201a8"
             ],
             [
              0.3333333333333333,
              "#9c179e"
             ],
             [
              0.4444444444444444,
              "#bd3786"
             ],
             [
              0.5555555555555556,
              "#d8576b"
             ],
             [
              0.6666666666666666,
              "#ed7953"
             ],
             [
              0.7777777777777778,
              "#fb9f3a"
             ],
             [
              0.8888888888888888,
              "#fdca26"
             ],
             [
              1,
              "#f0f921"
             ]
            ],
            "type": "heatmap"
           }
          ],
          "heatmapgl": [
           {
            "colorbar": {
             "outlinewidth": 0,
             "ticks": ""
            },
            "colorscale": [
             [
              0,
              "#0d0887"
             ],
             [
              0.1111111111111111,
              "#46039f"
             ],
             [
              0.2222222222222222,
              "#7201a8"
             ],
             [
              0.3333333333333333,
              "#9c179e"
             ],
             [
              0.4444444444444444,
              "#bd3786"
             ],
             [
              0.5555555555555556,
              "#d8576b"
             ],
             [
              0.6666666666666666,
              "#ed7953"
             ],
             [
              0.7777777777777778,
              "#fb9f3a"
             ],
             [
              0.8888888888888888,
              "#fdca26"
             ],
             [
              1,
              "#f0f921"
             ]
            ],
            "type": "heatmapgl"
           }
          ],
          "histogram": [
           {
            "marker": {
             "pattern": {
              "fillmode": "overlay",
              "size": 10,
              "solidity": 0.2
             }
            },
            "type": "histogram"
           }
          ],
          "histogram2d": [
           {
            "colorbar": {
             "outlinewidth": 0,
             "ticks": ""
            },
            "colorscale": [
             [
              0,
              "#0d0887"
             ],
             [
              0.1111111111111111,
              "#46039f"
             ],
             [
              0.2222222222222222,
              "#7201a8"
             ],
             [
              0.3333333333333333,
              "#9c179e"
             ],
             [
              0.4444444444444444,
              "#bd3786"
             ],
             [
              0.5555555555555556,
              "#d8576b"
             ],
             [
              0.6666666666666666,
              "#ed7953"
             ],
             [
              0.7777777777777778,
              "#fb9f3a"
             ],
             [
              0.8888888888888888,
              "#fdca26"
             ],
             [
              1,
              "#f0f921"
             ]
            ],
            "type": "histogram2d"
           }
          ],
          "histogram2dcontour": [
           {
            "colorbar": {
             "outlinewidth": 0,
             "ticks": ""
            },
            "colorscale": [
             [
              0,
              "#0d0887"
             ],
             [
              0.1111111111111111,
              "#46039f"
             ],
             [
              0.2222222222222222,
              "#7201a8"
             ],
             [
              0.3333333333333333,
              "#9c179e"
             ],
             [
              0.4444444444444444,
              "#bd3786"
             ],
             [
              0.5555555555555556,
              "#d8576b"
             ],
             [
              0.6666666666666666,
              "#ed7953"
             ],
             [
              0.7777777777777778,
              "#fb9f3a"
             ],
             [
              0.8888888888888888,
              "#fdca26"
             ],
             [
              1,
              "#f0f921"
             ]
            ],
            "type": "histogram2dcontour"
           }
          ],
          "mesh3d": [
           {
            "colorbar": {
             "outlinewidth": 0,
             "ticks": ""
            },
            "type": "mesh3d"
           }
          ],
          "parcoords": [
           {
            "line": {
             "colorbar": {
              "outlinewidth": 0,
              "ticks": ""
             }
            },
            "type": "parcoords"
           }
          ],
          "pie": [
           {
            "automargin": true,
            "type": "pie"
           }
          ],
          "scatter": [
           {
            "fillpattern": {
             "fillmode": "overlay",
             "size": 10,
             "solidity": 0.2
            },
            "type": "scatter"
           }
          ],
          "scatter3d": [
           {
            "line": {
             "colorbar": {
              "outlinewidth": 0,
              "ticks": ""
             }
            },
            "marker": {
             "colorbar": {
              "outlinewidth": 0,
              "ticks": ""
             }
            },
            "type": "scatter3d"
           }
          ],
          "scattercarpet": [
           {
            "marker": {
             "colorbar": {
              "outlinewidth": 0,
              "ticks": ""
             }
            },
            "type": "scattercarpet"
           }
          ],
          "scattergeo": [
           {
            "marker": {
             "colorbar": {
              "outlinewidth": 0,
              "ticks": ""
             }
            },
            "type": "scattergeo"
           }
          ],
          "scattergl": [
           {
            "marker": {
             "colorbar": {
              "outlinewidth": 0,
              "ticks": ""
             }
            },
            "type": "scattergl"
           }
          ],
          "scattermapbox": [
           {
            "marker": {
             "colorbar": {
              "outlinewidth": 0,
              "ticks": ""
             }
            },
            "type": "scattermapbox"
           }
          ],
          "scatterpolar": [
           {
            "marker": {
             "colorbar": {
              "outlinewidth": 0,
              "ticks": ""
             }
            },
            "type": "scatterpolar"
           }
          ],
          "scatterpolargl": [
           {
            "marker": {
             "colorbar": {
              "outlinewidth": 0,
              "ticks": ""
             }
            },
            "type": "scatterpolargl"
           }
          ],
          "scatterternary": [
           {
            "marker": {
             "colorbar": {
              "outlinewidth": 0,
              "ticks": ""
             }
            },
            "type": "scatterternary"
           }
          ],
          "surface": [
           {
            "colorbar": {
             "outlinewidth": 0,
             "ticks": ""
            },
            "colorscale": [
             [
              0,
              "#0d0887"
             ],
             [
              0.1111111111111111,
              "#46039f"
             ],
             [
              0.2222222222222222,
              "#7201a8"
             ],
             [
              0.3333333333333333,
              "#9c179e"
             ],
             [
              0.4444444444444444,
              "#bd3786"
             ],
             [
              0.5555555555555556,
              "#d8576b"
             ],
             [
              0.6666666666666666,
              "#ed7953"
             ],
             [
              0.7777777777777778,
              "#fb9f3a"
             ],
             [
              0.8888888888888888,
              "#fdca26"
             ],
             [
              1,
              "#f0f921"
             ]
            ],
            "type": "surface"
           }
          ],
          "table": [
           {
            "cells": {
             "fill": {
              "color": "#EBF0F8"
             },
             "line": {
              "color": "white"
             }
            },
            "header": {
             "fill": {
              "color": "#C8D4E3"
             },
             "line": {
              "color": "white"
             }
            },
            "type": "table"
           }
          ]
         },
         "layout": {
          "annotationdefaults": {
           "arrowcolor": "#2a3f5f",
           "arrowhead": 0,
           "arrowwidth": 1
          },
          "autotypenumbers": "strict",
          "coloraxis": {
           "colorbar": {
            "outlinewidth": 0,
            "ticks": ""
           }
          },
          "colorscale": {
           "diverging": [
            [
             0,
             "#8e0152"
            ],
            [
             0.1,
             "#c51b7d"
            ],
            [
             0.2,
             "#de77ae"
            ],
            [
             0.3,
             "#f1b6da"
            ],
            [
             0.4,
             "#fde0ef"
            ],
            [
             0.5,
             "#f7f7f7"
            ],
            [
             0.6,
             "#e6f5d0"
            ],
            [
             0.7,
             "#b8e186"
            ],
            [
             0.8,
             "#7fbc41"
            ],
            [
             0.9,
             "#4d9221"
            ],
            [
             1,
             "#276419"
            ]
           ],
           "sequential": [
            [
             0,
             "#0d0887"
            ],
            [
             0.1111111111111111,
             "#46039f"
            ],
            [
             0.2222222222222222,
             "#7201a8"
            ],
            [
             0.3333333333333333,
             "#9c179e"
            ],
            [
             0.4444444444444444,
             "#bd3786"
            ],
            [
             0.5555555555555556,
             "#d8576b"
            ],
            [
             0.6666666666666666,
             "#ed7953"
            ],
            [
             0.7777777777777778,
             "#fb9f3a"
            ],
            [
             0.8888888888888888,
             "#fdca26"
            ],
            [
             1,
             "#f0f921"
            ]
           ],
           "sequentialminus": [
            [
             0,
             "#0d0887"
            ],
            [
             0.1111111111111111,
             "#46039f"
            ],
            [
             0.2222222222222222,
             "#7201a8"
            ],
            [
             0.3333333333333333,
             "#9c179e"
            ],
            [
             0.4444444444444444,
             "#bd3786"
            ],
            [
             0.5555555555555556,
             "#d8576b"
            ],
            [
             0.6666666666666666,
             "#ed7953"
            ],
            [
             0.7777777777777778,
             "#fb9f3a"
            ],
            [
             0.8888888888888888,
             "#fdca26"
            ],
            [
             1,
             "#f0f921"
            ]
           ]
          },
          "colorway": [
           "#636efa",
           "#EF553B",
           "#00cc96",
           "#ab63fa",
           "#FFA15A",
           "#19d3f3",
           "#FF6692",
           "#B6E880",
           "#FF97FF",
           "#FECB52"
          ],
          "font": {
           "color": "#2a3f5f"
          },
          "geo": {
           "bgcolor": "white",
           "lakecolor": "white",
           "landcolor": "#E5ECF6",
           "showlakes": true,
           "showland": true,
           "subunitcolor": "white"
          },
          "hoverlabel": {
           "align": "left"
          },
          "hovermode": "closest",
          "mapbox": {
           "style": "light"
          },
          "paper_bgcolor": "white",
          "plot_bgcolor": "#E5ECF6",
          "polar": {
           "angularaxis": {
            "gridcolor": "white",
            "linecolor": "white",
            "ticks": ""
           },
           "bgcolor": "#E5ECF6",
           "radialaxis": {
            "gridcolor": "white",
            "linecolor": "white",
            "ticks": ""
           }
          },
          "scene": {
           "xaxis": {
            "backgroundcolor": "#E5ECF6",
            "gridcolor": "white",
            "gridwidth": 2,
            "linecolor": "white",
            "showbackground": true,
            "ticks": "",
            "zerolinecolor": "white"
           },
           "yaxis": {
            "backgroundcolor": "#E5ECF6",
            "gridcolor": "white",
            "gridwidth": 2,
            "linecolor": "white",
            "showbackground": true,
            "ticks": "",
            "zerolinecolor": "white"
           },
           "zaxis": {
            "backgroundcolor": "#E5ECF6",
            "gridcolor": "white",
            "gridwidth": 2,
            "linecolor": "white",
            "showbackground": true,
            "ticks": "",
            "zerolinecolor": "white"
           }
          },
          "shapedefaults": {
           "line": {
            "color": "#2a3f5f"
           }
          },
          "ternary": {
           "aaxis": {
            "gridcolor": "white",
            "linecolor": "white",
            "ticks": ""
           },
           "baxis": {
            "gridcolor": "white",
            "linecolor": "white",
            "ticks": ""
           },
           "bgcolor": "#E5ECF6",
           "caxis": {
            "gridcolor": "white",
            "linecolor": "white",
            "ticks": ""
           }
          },
          "title": {
           "x": 0.05
          },
          "xaxis": {
           "automargin": true,
           "gridcolor": "white",
           "linecolor": "white",
           "ticks": "",
           "title": {
            "standoff": 15
           },
           "zerolinecolor": "white",
           "zerolinewidth": 2
          },
          "yaxis": {
           "automargin": true,
           "gridcolor": "white",
           "linecolor": "white",
           "ticks": "",
           "title": {
            "standoff": 15
           },
           "zerolinecolor": "white",
           "zerolinewidth": 2
          }
         }
        },
        "xaxis": {
         "anchor": "y",
         "domain": [
          0,
          1
         ],
         "title": {
          "text": "x"
         }
        },
        "yaxis": {
         "anchor": "x",
         "domain": [
          0,
          1
         ],
         "title": {
          "text": "y"
         }
        }
       }
      },
      "text/html": [
       "<div>                            <div id=\"468c4eb3-9082-455f-9b1c-7e098786b368\" class=\"plotly-graph-div\" style=\"height:525px; width:100%;\"></div>            <script type=\"text/javascript\">                require([\"plotly\"], function(Plotly) {                    window.PLOTLYENV=window.PLOTLYENV || {};                                    if (document.getElementById(\"468c4eb3-9082-455f-9b1c-7e098786b368\")) {                    Plotly.newPlot(                        \"468c4eb3-9082-455f-9b1c-7e098786b368\",                        [{\"hovertemplate\":\"x=%{x}\\u003cbr\\u003ey=%{y}\\u003cextra\\u003e\\u003c\\u002fextra\\u003e\",\"legendgroup\":\"\",\"marker\":{\"color\":\"#636efa\",\"symbol\":\"circle\"},\"mode\":\"markers\",\"name\":\"\",\"orientation\":\"v\",\"showlegend\":false,\"x\":[2.86757115395995,46.7494686300335,44.7229173459102,-20.0767141972552,-85.2560797879328,-18.0054153584913,-35.9025276578846,-26.3511741576998,-12.5591775813081,-8.98554514672362,-21.783311508623,-35.8978492632275,-62.9165971962693,-133.9128239949,-203.347840229935,-133.427507767109,-30.3496471294145,-61.2860804773749,-82.7073950085551,-148.736893873587,-216.500889588777,-292.943853643985,20.0026683929392,43.4087705083551,34.5470696838448,-23.9697207832762,-91.7153716300252,-111.583437292623,-4.30800436616228,1.7567755514706,50.6937695301515,87.0204808171636,69.3006307992796,-3.11331812824802,-3.68486164259131,-33.0496497595363,-39.1862930715898,-27.1368986687817,-21.5383983936825,-52.6255284834074,-92.0997785349271,-7.54288533839218,-17.4570151248253,-45.4848198476705,-70.2313898992925,-90.42365428304,-88.3897999539955,-24.3632858562161,-49.4988287884487,-71.6920903914508,-90.1396121597364,-104.753796859252,-110.025739828782,27.2339071633999,32.1479326967634,41.6631740567842,48.1772398837843,31.523358907106,-0.631377678667869,-20.2033984409275,0.743080207194012,5.16500054766294,1.7082187579248,-5.41077410098233,-9.00278689620368,-6.88949051156861,5.6946068875303,-37.0905914874813,-13.1060291759755,44.7440369121551,24.9485884616361,-20.4410445389431,-46.5736708423624,-12.3568499580675,3.67613508480758,6.49884290695491,21.5879784178835,21.62220455171,12.4715668995874,-3.26495033763899,-6.78940264662315,-30.5719492363883,-52.8051585094937,-27.9027680753624,55.5353196662611,77.1259204641193,11.0199107453205,-12.869182857518,-16.479602253637,-34.7618457199883,-43.2022792357114,-32.1535477458576,-11.6689698026647,5.39157245982309,-10.189292487929,-24.6062438709551,-33.6867460934961,-44.4223142078184,-34.8908017435313,26.9536667349745,19.8435835752756,4.68474305626289,-3.98030867559187,-15.7912247377701,-58.8861398757182,-63.5140340406008,-6.12108857511977,-23.1499550876371,25.6312530732453,96.9306277532844,109.287578191711,-26.5394475633559,-18.7760928638796,-41.3875863563095,-75.5828489123534,-57.0683904111416,-24.7773795723967,0.978763775212859,-7.87849500074139,-2.95607605501066,18.0926097060693,26.1681814781489,4.49982583079953,-35.3915795477154,-83.7358660653583,-8.49558831314812,8.14415328654445,-3.98805495183802,-9.5853472984279,-2.61127456169425,8.38629779776286,0.249320600942519,77.9411170524113,226.911310593631,136.933270927953,-332.026830747328,20.6785603374534,4.12096507477736,13.2159150536163,16.8735998278241,48.7663048229368,63.8044151112875,-21.3291114592592,-3.07997239884094,9.47111158491587,5.73567223989763,5.09145979814891,2.39131555406718,25.9608793132655,1.783712669505,3.4010141420242,2.61994834638845,-19.8097512655599,8.29586891571407,189.572152123351,156.48032786017,-15.6492807820491,-46.1723510455679,-69.1406614632817,-60.8333543163182,-64.4365273938698,-66.5628009887835,-56.893776535505,-6.59131196050342,-14.2849399956165,29.7116101488505,42.5403155783331,49.5160774263079,8.11351522479162,16.6187246045213,23.4410455186986,10.8324548029822,12.0032796079191,20.9412275911506,21.3192250335153,33.9146408623117,102.301299954729,52.5550304065238,-33.0887786681634,-60.1066899739594,-9.8155316761599,-30.1976546804376,-26.531411251238,-24.9725313059246,-9.7318394500418,-14.1910932702894,-25.4767712299478,25.2581631472584,22.8630233786501,12.3168747192341,2.16323442619642,-5.68173730105803,-6.98906719681886,0.463226347454424,-53.6202909993331,-52.2473631567637,-17.6687779199843,16.1623436630106,17.5122892068316,-33.6600160393881,-0.790253899381981,32.5656034169827,10.1091255410388,-27.0993149646261,-25.1955366835077,11.0090388124757,-2.7636234916587,-12.8965010445779,-17.9471784178981,-7.21925799314022,6.49750231422405,13.7143477012916,-0.947718241291632,-3.90638349945961,-32.7299487270461,-69.3788495991149,-38.7113978178589,14.950010955899,35.8143244628254,4.72496602752804,35.3003312168905,46.8541821806242,44.143050811854,31.5784730855926,19.1753039190264,-0.203613404584331,24.8303055833641,37.123528360728,31.4712297648185,2.60879838344105,-0.373605861326678,14.2863965268131,14.5383803287852,15.3081962080753,26.1920764735779,13.4674251294571,-11.9723976978198,-40.8766055320981,-10.8538774051141,7.42127150776507,27.9095034619314,49.3765918870097,36.8460653096089,30.6666376279788,19.8246620289119,-6.47971625228672,-30.048823076276,-19.7424153692394,-15.8173745991628,-18.5532859181071,10.1488868448601,44.1738793062574,-2.13082021753418,32.2556348931329,45.8991080149902,25.2957240750295,14.1447115330568,24.6309392536119,45.8036828237858,8.79176734031407,30.4705821378957,33.1375875947397,35.9439293184014,19.2002739557273,-3.18963377261661,-8.67922231072476,-15.7495485134059,-8.49490854570693,54.0145789214923,77.2159503327268,26.9911038665004,-25.5228695780197,-39.3578862614528,9.49050419393846,5.72842037269884,-3.29502517959394,-0.790911771380006,-3.55690040300637,-2.32097131457739,-42.7582605118009,-50.4902914833174,-52.0358211558941,-34.8775731063062,1.15667814767963,19.3789500680325,19.5279528614931,-23.7805663475845,-11.9198027835112,-13.7786668894211,-21.4202734778869,-26.4934734795673,-11.8328829437286,2.07708172766084,-22.8520632103849,-25.0320428036433,-0.9641525028178,9.36929999339653,17.9810343601998,49.7553526999976,50.4331592312431],\"xaxis\":\"x\",\"y\":[-28.5049270297964,-9.25482758672267,11.4671668539991,7.58934023489402,9.58763822669017,-15.1518196851637,-5.87177673926499,-8.46822092206666,0.741882607775409,10.1330927721447,6.54835252465787,10.811868039541,12.6219281643371,6.29956888272039,12.6343506036726,8.37572610251672,-15.0451246196668,-6.72336565331982,4.26234932509716,5.942712180101,9.89783288410401,9.0352022196199,-26.6454699084329,-3.15242209709977,-6.04373111345512,1.38427498044875,5.29863991395953,4.83879571456259,8.37928775614368,23.0479206932275,24.9408701733839,19.3591165702629,11.6613897097151,10.4719064565829,3.92218475199391,-34.4755931114312,-16.089442430489,4.7353845099716,3.48756412292239,-1.33168606355351,9.24431677514328,-4.03825812793281,-0.0127628981290471,8.27138048245027,5.35771851124252,1.2114196029454,4.38195627002496,-18.8707453603393,-0.551715053042983,9.39275081802253,9.28768945993038,6.45848647152344,4.82659113728171,30.6909451334319,25.2373241823837,18.4790665973891,11.5540081403992,0.229784449377391,2.47691998513882,12.4149670547848,18.4373561995228,21.2291501634753,16.7091641834189,9.94562677495569,3.22261292243179,9.89200428704045,0.708895352197004,-3.98211725441395,16.0409834999789,30.0416605215649,23.4472722314034,11.4066187053077,9.47480023141833,11.1819878591879,3.92615914913315,11.5082499006972,7.1961671331519,11.0575202679318,2.63924691315003,-4.18332712071303,-4.24241104142757,-17.4487610359417,-18.2749604611364,-5.55182569588465,4.53082553555313,-1.84668418087632,-21.3694233754034,-16.4555042471682,-11.1479851829298,-5.56827102538198,6.07744735730633,3.73839010276141,11.605745514651,19.2636802391597,14.7122203837527,12.1721202738655,8.72077183828306,3.31220099860487,-1.49702096509486,21.8365272778885,21.2591079096366,15.0676322875762,3.89333430618714,5.05291216149951,3.33622937858128,2.21864320518497,-18.1507321219336,0.856322359568757,11.0652844658975,12.2714246344804,3.85697190263608,-9.89099315306677,5.21497704641241,9.52045057689419,9.79365752258444,1.1024825201909,-1.71230458541824,4.90039330372656,8.4243192521195,23.2538803011038,24.4495894792066,23.5314418237451,16.6141099431489,15.2397849982149,8.15505807001882,-26.5110267238868,-17.8152337154357,9.80399393403288,15.9633075590017,13.5482285540048,10.9674472107934,6.78351626174026,-3.25398526380206,1.65449380998911,3.47109709489284,-1.1296862328614,17.0730891496859,21.6795579166217,13.7449889112552,9.62551921736708,13.3988312631259,-1.64456137647596,0.993417662231074,10.2818813266411,2.599677175552,5.12380249440302,5.00912516639245,4.61815966524337,8.46504117152728,-23.9314464232278,-4.41731044544183,5.57465443021681,0.567473425103259,-1.13660719955666,0.185764216228179,-9.9239380907812,-8.04909511868244,3.84648309854933,2.6929578115302,7.25886257423875,2.81361736961685,-2.80076163335877,-10.5757565048856,-38.9150196904867,-31.278943617524,-18.8165735819026,-11.0400607928447,4.86988216916696,17.7437549399728,16.5289069852287,12.946825691979,-1.63153636761816,-1.80806059501236,-13.9509001980534,-10.0043985817277,-12.512797331177,-11.3454755957477,-14.1703929246025,-1.05755204807478,-14.2264928381315,-34.7316848566607,-20.6721823576364,-18.2617804704502,-25.9283818488343,-34.5742404113454,-21.7972464147065,-18.2935443042901,22.2299535695349,20.73929397058,9.00266639309591,5.77567274571874,-0.644556149337319,-8.92528699682843,-3.98722834437007,-22.8235369191641,-7.41260620087782,13.8272879385427,-4.2290049998272,-0.0270334033766204,-27.3990135988523,-24.1554222699767,-22.3237617521358,-26.9540753816885,-16.960289825746,-4.71267587554884,12.4237544570511,14.8579946883421,10.6349683914764,-1.60109759508604,-6.24960816270303,-4.50889803630838,1.01976111716961,-8.4389711036406,-8.68982246625474,-5.33832385300232,-4.43109245897922,-4.14791324744876,-2.52738802090012,-4.8719697508324,-23.4720343953901,-3.06056319558062,0.0503487435044363,3.28045109881901,-1.67426150938228,3.87182415324629,-1.92379265596195,-7.0843810349917,-5.49582485690637,-5.06859872141715,-0.768457708663192,-6.89530476303518,16.8890853854461,22.0141609687897,25.0574612501309,6.92384018522601,-1.86157103175113,-4.518088353831,9.68244192228471,-36.2560723172987,-12.0535629809708,-12.551951979995,-7.90751352267908,0.823646282186317,0.356505711741292,-4.50217483112955,-41.0869198818865,-39.5029921385306,-35.9558423869978,-25.2980680584607,-12.9624705962992,-10.2294024473493,-8.88265234785006,-2.52975215010916,3.41103953693483,5.48711398977356,-3.7346337711587,1.37159256939503,-3.86941356154765,1.90501089193874,10.4704401761631,27.2234224730421,20.2113119584339,19.4047818538849,5.66460601637567,3.8434843990502,-4.01267022518479,11.9116587267464,17.7767883227353,12.4429259892432,12.2707095862753,-1.96270772585089,-11.9801468654297,1.95128538998412,-4.99834641693066,28.8101007240316,13.6807376316356,13.4279031752588,-9.73837147218498,7.28834347233177,-26.9795424707877,-50.2278013756437,-57.0433119186431,-58.3565274264648,-50.1822819608467,-35.5135962682099,-13.4397821501118,-52.5021717524072,-44.0952504333918,-12.0504696632351,2.35979798765497,10.4745000059171,9.38855894491363,-3.75821960733397,-48.4898326278607,-48.6960127915172,-49.7433413166114,-39.0829114511128,-10.0092936934856,-9.24835321663394,-6.12553412175131],\"yaxis\":\"y\",\"type\":\"scatter\"}],                        {\"template\":{\"data\":{\"histogram2dcontour\":[{\"type\":\"histogram2dcontour\",\"colorbar\":{\"outlinewidth\":0,\"ticks\":\"\"},\"colorscale\":[[0.0,\"#0d0887\"],[0.1111111111111111,\"#46039f\"],[0.2222222222222222,\"#7201a8\"],[0.3333333333333333,\"#9c179e\"],[0.4444444444444444,\"#bd3786\"],[0.5555555555555556,\"#d8576b\"],[0.6666666666666666,\"#ed7953\"],[0.7777777777777778,\"#fb9f3a\"],[0.8888888888888888,\"#fdca26\"],[1.0,\"#f0f921\"]]}],\"choropleth\":[{\"type\":\"choropleth\",\"colorbar\":{\"outlinewidth\":0,\"ticks\":\"\"}}],\"histogram2d\":[{\"type\":\"histogram2d\",\"colorbar\":{\"outlinewidth\":0,\"ticks\":\"\"},\"colorscale\":[[0.0,\"#0d0887\"],[0.1111111111111111,\"#46039f\"],[0.2222222222222222,\"#7201a8\"],[0.3333333333333333,\"#9c179e\"],[0.4444444444444444,\"#bd3786\"],[0.5555555555555556,\"#d8576b\"],[0.6666666666666666,\"#ed7953\"],[0.7777777777777778,\"#fb9f3a\"],[0.8888888888888888,\"#fdca26\"],[1.0,\"#f0f921\"]]}],\"heatmap\":[{\"type\":\"heatmap\",\"colorbar\":{\"outlinewidth\":0,\"ticks\":\"\"},\"colorscale\":[[0.0,\"#0d0887\"],[0.1111111111111111,\"#46039f\"],[0.2222222222222222,\"#7201a8\"],[0.3333333333333333,\"#9c179e\"],[0.4444444444444444,\"#bd3786\"],[0.5555555555555556,\"#d8576b\"],[0.6666666666666666,\"#ed7953\"],[0.7777777777777778,\"#fb9f3a\"],[0.8888888888888888,\"#fdca26\"],[1.0,\"#f0f921\"]]}],\"heatmapgl\":[{\"type\":\"heatmapgl\",\"colorbar\":{\"outlinewidth\":0,\"ticks\":\"\"},\"colorscale\":[[0.0,\"#0d0887\"],[0.1111111111111111,\"#46039f\"],[0.2222222222222222,\"#7201a8\"],[0.3333333333333333,\"#9c179e\"],[0.4444444444444444,\"#bd3786\"],[0.5555555555555556,\"#d8576b\"],[0.6666666666666666,\"#ed7953\"],[0.7777777777777778,\"#fb9f3a\"],[0.8888888888888888,\"#fdca26\"],[1.0,\"#f0f921\"]]}],\"contourcarpet\":[{\"type\":\"contourcarpet\",\"colorbar\":{\"outlinewidth\":0,\"ticks\":\"\"}}],\"contour\":[{\"type\":\"contour\",\"colorbar\":{\"outlinewidth\":0,\"ticks\":\"\"},\"colorscale\":[[0.0,\"#0d0887\"],[0.1111111111111111,\"#46039f\"],[0.2222222222222222,\"#7201a8\"],[0.3333333333333333,\"#9c179e\"],[0.4444444444444444,\"#bd3786\"],[0.5555555555555556,\"#d8576b\"],[0.6666666666666666,\"#ed7953\"],[0.7777777777777778,\"#fb9f3a\"],[0.8888888888888888,\"#fdca26\"],[1.0,\"#f0f921\"]]}],\"surface\":[{\"type\":\"surface\",\"colorbar\":{\"outlinewidth\":0,\"ticks\":\"\"},\"colorscale\":[[0.0,\"#0d0887\"],[0.1111111111111111,\"#46039f\"],[0.2222222222222222,\"#7201a8\"],[0.3333333333333333,\"#9c179e\"],[0.4444444444444444,\"#bd3786\"],[0.5555555555555556,\"#d8576b\"],[0.6666666666666666,\"#ed7953\"],[0.7777777777777778,\"#fb9f3a\"],[0.8888888888888888,\"#fdca26\"],[1.0,\"#f0f921\"]]}],\"mesh3d\":[{\"type\":\"mesh3d\",\"colorbar\":{\"outlinewidth\":0,\"ticks\":\"\"}}],\"scatter\":[{\"fillpattern\":{\"fillmode\":\"overlay\",\"size\":10,\"solidity\":0.2},\"type\":\"scatter\"}],\"parcoords\":[{\"type\":\"parcoords\",\"line\":{\"colorbar\":{\"outlinewidth\":0,\"ticks\":\"\"}}}],\"scatterpolargl\":[{\"type\":\"scatterpolargl\",\"marker\":{\"colorbar\":{\"outlinewidth\":0,\"ticks\":\"\"}}}],\"bar\":[{\"error_x\":{\"color\":\"#2a3f5f\"},\"error_y\":{\"color\":\"#2a3f5f\"},\"marker\":{\"line\":{\"color\":\"#E5ECF6\",\"width\":0.5},\"pattern\":{\"fillmode\":\"overlay\",\"size\":10,\"solidity\":0.2}},\"type\":\"bar\"}],\"scattergeo\":[{\"type\":\"scattergeo\",\"marker\":{\"colorbar\":{\"outlinewidth\":0,\"ticks\":\"\"}}}],\"scatterpolar\":[{\"type\":\"scatterpolar\",\"marker\":{\"colorbar\":{\"outlinewidth\":0,\"ticks\":\"\"}}}],\"histogram\":[{\"marker\":{\"pattern\":{\"fillmode\":\"overlay\",\"size\":10,\"solidity\":0.2}},\"type\":\"histogram\"}],\"scattergl\":[{\"type\":\"scattergl\",\"marker\":{\"colorbar\":{\"outlinewidth\":0,\"ticks\":\"\"}}}],\"scatter3d\":[{\"type\":\"scatter3d\",\"line\":{\"colorbar\":{\"outlinewidth\":0,\"ticks\":\"\"}},\"marker\":{\"colorbar\":{\"outlinewidth\":0,\"ticks\":\"\"}}}],\"scattermapbox\":[{\"type\":\"scattermapbox\",\"marker\":{\"colorbar\":{\"outlinewidth\":0,\"ticks\":\"\"}}}],\"scatterternary\":[{\"type\":\"scatterternary\",\"marker\":{\"colorbar\":{\"outlinewidth\":0,\"ticks\":\"\"}}}],\"scattercarpet\":[{\"type\":\"scattercarpet\",\"marker\":{\"colorbar\":{\"outlinewidth\":0,\"ticks\":\"\"}}}],\"carpet\":[{\"aaxis\":{\"endlinecolor\":\"#2a3f5f\",\"gridcolor\":\"white\",\"linecolor\":\"white\",\"minorgridcolor\":\"white\",\"startlinecolor\":\"#2a3f5f\"},\"baxis\":{\"endlinecolor\":\"#2a3f5f\",\"gridcolor\":\"white\",\"linecolor\":\"white\",\"minorgridcolor\":\"white\",\"startlinecolor\":\"#2a3f5f\"},\"type\":\"carpet\"}],\"table\":[{\"cells\":{\"fill\":{\"color\":\"#EBF0F8\"},\"line\":{\"color\":\"white\"}},\"header\":{\"fill\":{\"color\":\"#C8D4E3\"},\"line\":{\"color\":\"white\"}},\"type\":\"table\"}],\"barpolar\":[{\"marker\":{\"line\":{\"color\":\"#E5ECF6\",\"width\":0.5},\"pattern\":{\"fillmode\":\"overlay\",\"size\":10,\"solidity\":0.2}},\"type\":\"barpolar\"}],\"pie\":[{\"automargin\":true,\"type\":\"pie\"}]},\"layout\":{\"autotypenumbers\":\"strict\",\"colorway\":[\"#636efa\",\"#EF553B\",\"#00cc96\",\"#ab63fa\",\"#FFA15A\",\"#19d3f3\",\"#FF6692\",\"#B6E880\",\"#FF97FF\",\"#FECB52\"],\"font\":{\"color\":\"#2a3f5f\"},\"hovermode\":\"closest\",\"hoverlabel\":{\"align\":\"left\"},\"paper_bgcolor\":\"white\",\"plot_bgcolor\":\"#E5ECF6\",\"polar\":{\"bgcolor\":\"#E5ECF6\",\"angularaxis\":{\"gridcolor\":\"white\",\"linecolor\":\"white\",\"ticks\":\"\"},\"radialaxis\":{\"gridcolor\":\"white\",\"linecolor\":\"white\",\"ticks\":\"\"}},\"ternary\":{\"bgcolor\":\"#E5ECF6\",\"aaxis\":{\"gridcolor\":\"white\",\"linecolor\":\"white\",\"ticks\":\"\"},\"baxis\":{\"gridcolor\":\"white\",\"linecolor\":\"white\",\"ticks\":\"\"},\"caxis\":{\"gridcolor\":\"white\",\"linecolor\":\"white\",\"ticks\":\"\"}},\"coloraxis\":{\"colorbar\":{\"outlinewidth\":0,\"ticks\":\"\"}},\"colorscale\":{\"sequential\":[[0.0,\"#0d0887\"],[0.1111111111111111,\"#46039f\"],[0.2222222222222222,\"#7201a8\"],[0.3333333333333333,\"#9c179e\"],[0.4444444444444444,\"#bd3786\"],[0.5555555555555556,\"#d8576b\"],[0.6666666666666666,\"#ed7953\"],[0.7777777777777778,\"#fb9f3a\"],[0.8888888888888888,\"#fdca26\"],[1.0,\"#f0f921\"]],\"sequentialminus\":[[0.0,\"#0d0887\"],[0.1111111111111111,\"#46039f\"],[0.2222222222222222,\"#7201a8\"],[0.3333333333333333,\"#9c179e\"],[0.4444444444444444,\"#bd3786\"],[0.5555555555555556,\"#d8576b\"],[0.6666666666666666,\"#ed7953\"],[0.7777777777777778,\"#fb9f3a\"],[0.8888888888888888,\"#fdca26\"],[1.0,\"#f0f921\"]],\"diverging\":[[0,\"#8e0152\"],[0.1,\"#c51b7d\"],[0.2,\"#de77ae\"],[0.3,\"#f1b6da\"],[0.4,\"#fde0ef\"],[0.5,\"#f7f7f7\"],[0.6,\"#e6f5d0\"],[0.7,\"#b8e186\"],[0.8,\"#7fbc41\"],[0.9,\"#4d9221\"],[1,\"#276419\"]]},\"xaxis\":{\"gridcolor\":\"white\",\"linecolor\":\"white\",\"ticks\":\"\",\"title\":{\"standoff\":15},\"zerolinecolor\":\"white\",\"automargin\":true,\"zerolinewidth\":2},\"yaxis\":{\"gridcolor\":\"white\",\"linecolor\":\"white\",\"ticks\":\"\",\"title\":{\"standoff\":15},\"zerolinecolor\":\"white\",\"automargin\":true,\"zerolinewidth\":2},\"scene\":{\"xaxis\":{\"backgroundcolor\":\"#E5ECF6\",\"gridcolor\":\"white\",\"linecolor\":\"white\",\"showbackground\":true,\"ticks\":\"\",\"zerolinecolor\":\"white\",\"gridwidth\":2},\"yaxis\":{\"backgroundcolor\":\"#E5ECF6\",\"gridcolor\":\"white\",\"linecolor\":\"white\",\"showbackground\":true,\"ticks\":\"\",\"zerolinecolor\":\"white\",\"gridwidth\":2},\"zaxis\":{\"backgroundcolor\":\"#E5ECF6\",\"gridcolor\":\"white\",\"linecolor\":\"white\",\"showbackground\":true,\"ticks\":\"\",\"zerolinecolor\":\"white\",\"gridwidth\":2}},\"shapedefaults\":{\"line\":{\"color\":\"#2a3f5f\"}},\"annotationdefaults\":{\"arrowcolor\":\"#2a3f5f\",\"arrowhead\":0,\"arrowwidth\":1},\"geo\":{\"bgcolor\":\"white\",\"landcolor\":\"#E5ECF6\",\"subunitcolor\":\"white\",\"showland\":true,\"showlakes\":true,\"lakecolor\":\"white\"},\"title\":{\"x\":0.05},\"mapbox\":{\"style\":\"light\"}}},\"xaxis\":{\"anchor\":\"y\",\"domain\":[0.0,1.0],\"title\":{\"text\":\"x\"}},\"yaxis\":{\"anchor\":\"x\",\"domain\":[0.0,1.0],\"title\":{\"text\":\"y\"}},\"legend\":{\"tracegroupgap\":0},\"margin\":{\"t\":60}},                        {\"responsive\": true}                    ).then(function(){\n",
       "                            \n",
       "var gd = document.getElementById('468c4eb3-9082-455f-9b1c-7e098786b368');\n",
       "var x = new MutationObserver(function (mutations, observer) {{\n",
       "        var display = window.getComputedStyle(gd).display;\n",
       "        if (!display || display === 'none') {{\n",
       "            console.log([gd, 'removed!']);\n",
       "            Plotly.purge(gd);\n",
       "            observer.disconnect();\n",
       "        }}\n",
       "}});\n",
       "\n",
       "// Listen for the removal of the full notebook cells\n",
       "var notebookContainer = gd.closest('#notebook-container');\n",
       "if (notebookContainer) {{\n",
       "    x.observe(notebookContainer, {childList: true});\n",
       "}}\n",
       "\n",
       "// Listen for the clearing of the current output cell\n",
       "var outputEl = gd.closest('.output');\n",
       "if (outputEl) {{\n",
       "    x.observe(outputEl, {childList: true});\n",
       "}}\n",
       "\n",
       "                        })                };                });            </script>        </div>"
      ]
     },
     "metadata": {},
     "output_type": "display_data"
    },
    {
     "name": "stdout",
     "output_type": "stream",
     "text": [
      "10\n"
     ]
    },
    {
     "data": {
      "application/vnd.plotly.v1+json": {
       "config": {
        "plotlyServerURL": "https://plot.ly"
       },
       "data": [
        {
         "hovertemplate": "x=%{x}<br>y=%{y}<extra></extra>",
         "legendgroup": "",
         "marker": {
          "color": "#636efa",
          "symbol": "circle"
         },
         "mode": "markers",
         "name": "",
         "orientation": "v",
         "showlegend": false,
         "type": "scatter",
         "x": [
          4.83668678321351,
          49.0818753395735,
          45.5128126133938,
          -23.8990931606162,
          -92.5025626626392,
          -20.532077785562,
          -34.4978990846253,
          -21.6554704932228,
          -3.91885105115727,
          5.05001997029002,
          -27.4427851355933,
          -43.697611821393,
          -69.9377718019476,
          -138.282199524281,
          -209.144883619285,
          -128.175124425088,
          -36.4847216356348,
          -70.7890001942999,
          -106.627152076986,
          -175.392676165497,
          -230.831307197006,
          -308.696113807251,
          14.3392827205743,
          33.647027018239,
          27.621955921414,
          -24.8681950420781,
          -88.4241927271991,
          -111.060562365717,
          -0.531418992865616,
          0.68906278132791,
          43.8715088012374,
          81.434170587748,
          63.6621781050641,
          -11.2518785171724,
          -9.95644453414538,
          -40.3726920702055,
          -45.1126153476544,
          -36.1490691532091,
          -26.5773192528478,
          -49.8634751906738,
          -86.9181894635843,
          -12.8250062437434,
          -32.5558394593254,
          -61.8361083361178,
          -83.568420652412,
          -94.4145530092506,
          -86.3756563596362,
          -26.2794183374649,
          -52.3211071294109,
          -75.1717942642726,
          -95.1700718784343,
          -113.747231081371,
          -120.481674347952,
          24.774201699107,
          30.6023445921001,
          40.987997884621,
          48.2695589771957,
          32.9733882605867,
          1.9265663202195,
          -17.2102021979318,
          0.21861241164295,
          4.43083248168087,
          2.31358744110326,
          -3.94540876003046,
          -5.91256759094418,
          -1.93500670893152,
          10.1846582345955,
          -38.4509056701358,
          -11.3499500290954,
          49.6009897873345,
          29.601061441126,
          -16.1979222859616,
          -52.1228270900872,
          -21.0782337491392,
          3.11325971472454,
          5.36397476788225,
          20.2463125730603,
          19.9341891042423,
          11.7011104287651,
          -2.54112157722455,
          -6.13507740028405,
          -30.9543140525019,
          -54.3314633222653,
          -31.2829791401402,
          52.0051321571068,
          75.1158208017309,
          14.7464149955461,
          -8.65889911027981,
          -14.6113171845519,
          -38.9492355567407,
          -48.4981486458975,
          -40.4424312792827,
          -12.7519635065223,
          5.69824701270424,
          -12.7460367471796,
          -29.018082747686,
          -36.1894876349892,
          -44.5376103136928,
          -34.538868548232,
          28.7754383992739,
          21.0895822396237,
          7.78570220727994,
          0.804454894916617,
          -10.8717900771514,
          -55.8965028864493,
          -62.8639772269529,
          2.53984204587535,
          -24.2762614480092,
          19.2330107442162,
          91.7844040872208,
          105.007740019637,
          -22.0772551578656,
          -19.7038163382444,
          -41.9654091720624,
          -75.6455918833656,
          -55.0567783197469,
          -21.7441212933891,
          3.94547609643745,
          -5.81743039019397,
          -1.03358865745624,
          21.3775331192613,
          30.7236927994997,
          7.35503854580211,
          -35.3027860770586,
          -86.7285362953941,
          -5.5314110325395,
          6.71465412236947,
          -11.4304295782231,
          -17.0191307586341,
          -8.61879177736861,
          4.52453574066148,
          -2.33169958290136,
          76.1084203268497,
          234.426789807911,
          166.419833701092,
          -282.444974712937,
          21.4827370517843,
          0.0529894348787445,
          6.81044799423212,
          13.7034058137416,
          50.0844093167717,
          65.3603969663855,
          -14.3482730069201,
          -4.21318841515662,
          10.8662307025728,
          9.01231022764603,
          7.43985149291895,
          2.11185220175058,
          25.8933260350999,
          -0.495140000782786,
          3.48811171690612,
          1.06071206087291,
          -20.6831632561103,
          12.4962116570579,
          211.008141992894,
          171.186168859201,
          -14.4236842492429,
          -39.7664105446745,
          -56.6367186444535,
          -60.7884700129023,
          -65.3955981931061,
          -58.7210807453055,
          -43.3470763101264,
          -3.54628562676343,
          -9.85967555040111,
          32.9984541188672,
          45.8453642160139,
          55.8050980268932,
          7.8330182102419,
          18.155088355537,
          25.4940104367683,
          13.6494718973658,
          15.3707384566681,
          24.5817967015064,
          25.5544562940569,
          45.127491992491,
          105.793027000178,
          49.9749884622175,
          -31.4007419251348,
          -56.6231541123125,
          -11.8592943256421,
          -29.7717471426933,
          -22.6375010397209,
          -20.4677446528624,
          -3.65086648151803,
          -7.68638613602002,
          -20.680473581063,
          25.8435384230308,
          23.3156433591786,
          12.2673802557226,
          1.82183761156208,
          -5.90894754878084,
          -6.07615753469145,
          2.07513358068712,
          -47.8461183606466,
          -44.0211162381237,
          -11.006373746641,
          20.8756714879102,
          20.6014305820244,
          -32.6406102569339,
          0.616629346381401,
          36.7800951648503,
          14.7288733647069,
          -24.9588831233494,
          -22.3484466396732,
          9.85681588701749,
          -1.84801599722757,
          -11.5549922001279,
          -16.2782480463539,
          -6.95093939893766,
          4.91729168486206,
          11.5572759469335,
          2.25243970062791,
          -0.819328645586288,
          -31.5057962880232,
          -68.3431595483013,
          -38.5213546331917,
          12.2538137142123,
          32.8558272990953,
          3.8826714045141,
          33.1105652715909,
          45.3118875719902,
          40.8249626571577,
          24.1889103944716,
          9.71320869367801,
          0.829449537961568,
          27.7431113890324,
          39.908821241954,
          32.8368544947594,
          1.2825866738279,
          -2.89869237479261,
          12.6968283794861,
          13.7614609187419,
          15.0007210563381,
          26.6792834756494,
          15.2160476973545,
          -6.3465931216864,
          -27.1550287021428,
          -12.456034786474,
          6.67816205632702,
          30.1134479953857,
          50.1635415132349,
          37.0230397223999,
          30.0244817793213,
          16.8694154650795,
          -8.82769160348966,
          -28.859253041423,
          -18.6509407234136,
          -14.1445882596375,
          -15.7502968327781,
          15.0598491987326,
          50.1907556540199,
          1.55798264638407,
          30.4929619368904,
          47.5487629824461,
          28.3280557366466,
          17.5764943367074,
          25.7117819300941,
          44.4978214310282,
          6.85590289802346,
          27.4052177064533,
          30.8889172586835,
          34.6658377314207,
          18.5498396298285,
          -3.27324625175056,
          -8.14428239063419,
          -13.7788883758533,
          -10.8322799264499,
          53.6054137822176,
          79.1129427422859,
          28.7540909311884,
          -26.2274593988752,
          -42.9382213795606,
          7.67682124656253,
          3.59338902716031,
          -3.83792726902834,
          -0.114422105122254,
          -2.31673681251526,
          -0.962739239390712,
          -41.8361381695258,
          -54.4472050027724,
          -58.3708324074775,
          -40.908684808691,
          -1.44243747664731,
          19.8148957184738,
          20.7431580268746,
          -27.5466218260125,
          -8.93537050764525,
          -12.2733218870455,
          -19.2070378491645,
          -21.7803609875113,
          -4.73403568258918,
          5.36673168227388,
          -18.9544114614382,
          -20.5136872267692,
          4.56692938384941,
          14.1805027230386,
          23.8122889505807,
          57.5330357359076,
          54.9155521026417
         ],
         "xaxis": "x",
         "y": [
          -28.5049270297964,
          -9.25482758672267,
          11.4671668539991,
          7.58934023489402,
          9.58763822669017,
          -15.1518196851637,
          -5.87177673926499,
          -8.46822092206666,
          0.741882607775409,
          10.1330927721447,
          6.54835252465787,
          10.811868039541,
          12.6219281643371,
          6.29956888272039,
          12.6343506036726,
          8.37572610251672,
          -15.0451246196668,
          -6.72336565331982,
          4.26234932509716,
          5.942712180101,
          9.89783288410401,
          9.0352022196199,
          -26.6454699084329,
          -3.15242209709977,
          -6.04373111345512,
          1.38427498044875,
          5.29863991395953,
          4.83879571456259,
          8.37928775614368,
          23.0479206932275,
          24.9408701733839,
          19.3591165702629,
          11.6613897097151,
          10.4719064565829,
          3.92218475199391,
          -34.4755931114312,
          -16.089442430489,
          4.7353845099716,
          3.48756412292239,
          -1.33168606355351,
          9.24431677514328,
          -4.03825812793281,
          -0.0127628981290471,
          8.27138048245027,
          5.35771851124252,
          1.2114196029454,
          4.38195627002496,
          -18.8707453603393,
          -0.551715053042983,
          9.39275081802253,
          9.28768945993038,
          6.45848647152344,
          4.82659113728171,
          30.6909451334319,
          25.2373241823837,
          18.4790665973891,
          11.5540081403992,
          0.229784449377391,
          2.47691998513882,
          12.4149670547848,
          18.4373561995228,
          21.2291501634753,
          16.7091641834189,
          9.94562677495569,
          3.22261292243179,
          9.89200428704045,
          0.708895352197004,
          -3.98211725441395,
          16.0409834999789,
          30.0416605215649,
          23.4472722314034,
          11.4066187053077,
          9.47480023141833,
          11.1819878591879,
          3.92615914913315,
          11.5082499006972,
          7.1961671331519,
          11.0575202679318,
          2.63924691315003,
          -4.18332712071303,
          -4.24241104142757,
          -17.4487610359417,
          -18.2749604611364,
          -5.55182569588465,
          4.53082553555313,
          -1.84668418087632,
          -21.3694233754034,
          -16.4555042471682,
          -11.1479851829298,
          -5.56827102538198,
          6.07744735730633,
          3.73839010276141,
          11.605745514651,
          19.2636802391597,
          14.7122203837527,
          12.1721202738655,
          8.72077183828306,
          3.31220099860487,
          -1.49702096509486,
          21.8365272778885,
          21.2591079096366,
          15.0676322875762,
          3.89333430618714,
          5.05291216149951,
          3.33622937858128,
          2.21864320518497,
          -18.1507321219336,
          0.856322359568757,
          11.0652844658975,
          12.2714246344804,
          3.85697190263608,
          -9.89099315306677,
          5.21497704641241,
          9.52045057689419,
          9.79365752258444,
          1.1024825201909,
          -1.71230458541824,
          4.90039330372656,
          8.4243192521195,
          23.2538803011038,
          24.4495894792066,
          23.5314418237451,
          16.6141099431489,
          15.2397849982149,
          8.15505807001882,
          -26.5110267238868,
          -17.8152337154357,
          9.80399393403288,
          15.9633075590017,
          13.5482285540048,
          10.9674472107934,
          6.78351626174026,
          -3.25398526380206,
          1.65449380998911,
          3.47109709489284,
          -1.1296862328614,
          17.0730891496859,
          21.6795579166217,
          13.7449889112552,
          9.62551921736708,
          13.3988312631259,
          -1.64456137647596,
          0.993417662231074,
          10.2818813266411,
          2.599677175552,
          5.12380249440302,
          5.00912516639245,
          4.61815966524337,
          8.46504117152728,
          -23.9314464232278,
          -4.41731044544183,
          5.57465443021681,
          0.567473425103259,
          -1.13660719955666,
          0.185764216228179,
          -9.9239380907812,
          -8.04909511868244,
          3.84648309854933,
          2.6929578115302,
          7.25886257423875,
          2.81361736961685,
          -2.80076163335877,
          -10.5757565048856,
          -38.9150196904867,
          -31.278943617524,
          -18.8165735819026,
          -11.0400607928447,
          4.86988216916696,
          17.7437549399728,
          16.5289069852287,
          12.946825691979,
          -1.63153636761816,
          -1.80806059501236,
          -13.9509001980534,
          -10.0043985817277,
          -12.512797331177,
          -11.3454755957477,
          -14.1703929246025,
          -1.05755204807478,
          -14.2264928381315,
          -34.7316848566607,
          -20.6721823576364,
          -18.2617804704502,
          -25.9283818488343,
          -34.5742404113454,
          -21.7972464147065,
          -18.2935443042901,
          22.2299535695349,
          20.73929397058,
          9.00266639309591,
          5.77567274571874,
          -0.644556149337319,
          -8.92528699682843,
          -3.98722834437007,
          -22.8235369191641,
          -7.41260620087782,
          13.8272879385427,
          -4.2290049998272,
          -0.0270334033766204,
          -27.3990135988523,
          -24.1554222699767,
          -22.3237617521358,
          -26.9540753816885,
          -16.960289825746,
          -4.71267587554884,
          12.4237544570511,
          14.8579946883421,
          10.6349683914764,
          -1.60109759508604,
          -6.24960816270303,
          -4.50889803630838,
          1.01976111716961,
          -8.4389711036406,
          -8.68982246625474,
          -5.33832385300232,
          -4.43109245897922,
          -4.14791324744876,
          -2.52738802090012,
          -4.8719697508324,
          -23.4720343953901,
          -3.06056319558062,
          0.0503487435044363,
          3.28045109881901,
          -1.67426150938228,
          3.87182415324629,
          -1.92379265596195,
          -7.0843810349917,
          -5.49582485690637,
          -5.06859872141715,
          -0.768457708663192,
          -6.89530476303518,
          16.8890853854461,
          22.0141609687897,
          25.0574612501309,
          6.92384018522601,
          -1.86157103175113,
          -4.518088353831,
          9.68244192228471,
          -36.2560723172987,
          -12.0535629809708,
          -12.551951979995,
          -7.90751352267908,
          0.823646282186317,
          0.356505711741292,
          -4.50217483112955,
          -41.0869198818865,
          -39.5029921385306,
          -35.9558423869978,
          -25.2980680584607,
          -12.9624705962992,
          -10.2294024473493,
          -8.88265234785006,
          -2.52975215010916,
          3.41103953693483,
          5.48711398977356,
          -3.7346337711587,
          1.37159256939503,
          -3.86941356154765,
          1.90501089193874,
          10.4704401761631,
          27.2234224730421,
          20.2113119584339,
          19.4047818538849,
          5.66460601637567,
          3.8434843990502,
          -4.01267022518479,
          11.9116587267464,
          17.7767883227353,
          12.4429259892432,
          12.2707095862753,
          -1.96270772585089,
          -11.9801468654297,
          1.95128538998412,
          -4.99834641693066,
          28.8101007240316,
          13.6807376316356,
          13.4279031752588,
          -9.73837147218498,
          7.28834347233177,
          -26.9795424707877,
          -50.2278013756437,
          -57.0433119186431,
          -58.3565274264648,
          -50.1822819608467,
          -35.5135962682099,
          -13.4397821501118,
          -52.5021717524072,
          -44.0952504333918,
          -12.0504696632351,
          2.35979798765497,
          10.4745000059171,
          9.38855894491363,
          -3.75821960733397,
          -48.4898326278607,
          -48.6960127915172,
          -49.7433413166114,
          -39.0829114511128,
          -10.0092936934856,
          -9.24835321663394,
          -6.12553412175131
         ],
         "yaxis": "y"
        }
       ],
       "layout": {
        "legend": {
         "tracegroupgap": 0
        },
        "margin": {
         "t": 60
        },
        "template": {
         "data": {
          "bar": [
           {
            "error_x": {
             "color": "#2a3f5f"
            },
            "error_y": {
             "color": "#2a3f5f"
            },
            "marker": {
             "line": {
              "color": "#E5ECF6",
              "width": 0.5
             },
             "pattern": {
              "fillmode": "overlay",
              "size": 10,
              "solidity": 0.2
             }
            },
            "type": "bar"
           }
          ],
          "barpolar": [
           {
            "marker": {
             "line": {
              "color": "#E5ECF6",
              "width": 0.5
             },
             "pattern": {
              "fillmode": "overlay",
              "size": 10,
              "solidity": 0.2
             }
            },
            "type": "barpolar"
           }
          ],
          "carpet": [
           {
            "aaxis": {
             "endlinecolor": "#2a3f5f",
             "gridcolor": "white",
             "linecolor": "white",
             "minorgridcolor": "white",
             "startlinecolor": "#2a3f5f"
            },
            "baxis": {
             "endlinecolor": "#2a3f5f",
             "gridcolor": "white",
             "linecolor": "white",
             "minorgridcolor": "white",
             "startlinecolor": "#2a3f5f"
            },
            "type": "carpet"
           }
          ],
          "choropleth": [
           {
            "colorbar": {
             "outlinewidth": 0,
             "ticks": ""
            },
            "type": "choropleth"
           }
          ],
          "contour": [
           {
            "colorbar": {
             "outlinewidth": 0,
             "ticks": ""
            },
            "colorscale": [
             [
              0,
              "#0d0887"
             ],
             [
              0.1111111111111111,
              "#46039f"
             ],
             [
              0.2222222222222222,
              "#7201a8"
             ],
             [
              0.3333333333333333,
              "#9c179e"
             ],
             [
              0.4444444444444444,
              "#bd3786"
             ],
             [
              0.5555555555555556,
              "#d8576b"
             ],
             [
              0.6666666666666666,
              "#ed7953"
             ],
             [
              0.7777777777777778,
              "#fb9f3a"
             ],
             [
              0.8888888888888888,
              "#fdca26"
             ],
             [
              1,
              "#f0f921"
             ]
            ],
            "type": "contour"
           }
          ],
          "contourcarpet": [
           {
            "colorbar": {
             "outlinewidth": 0,
             "ticks": ""
            },
            "type": "contourcarpet"
           }
          ],
          "heatmap": [
           {
            "colorbar": {
             "outlinewidth": 0,
             "ticks": ""
            },
            "colorscale": [
             [
              0,
              "#0d0887"
             ],
             [
              0.1111111111111111,
              "#46039f"
             ],
             [
              0.2222222222222222,
              "#7201a8"
             ],
             [
              0.3333333333333333,
              "#9c179e"
             ],
             [
              0.4444444444444444,
              "#bd3786"
             ],
             [
              0.5555555555555556,
              "#d8576b"
             ],
             [
              0.6666666666666666,
              "#ed7953"
             ],
             [
              0.7777777777777778,
              "#fb9f3a"
             ],
             [
              0.8888888888888888,
              "#fdca26"
             ],
             [
              1,
              "#f0f921"
             ]
            ],
            "type": "heatmap"
           }
          ],
          "heatmapgl": [
           {
            "colorbar": {
             "outlinewidth": 0,
             "ticks": ""
            },
            "colorscale": [
             [
              0,
              "#0d0887"
             ],
             [
              0.1111111111111111,
              "#46039f"
             ],
             [
              0.2222222222222222,
              "#7201a8"
             ],
             [
              0.3333333333333333,
              "#9c179e"
             ],
             [
              0.4444444444444444,
              "#bd3786"
             ],
             [
              0.5555555555555556,
              "#d8576b"
             ],
             [
              0.6666666666666666,
              "#ed7953"
             ],
             [
              0.7777777777777778,
              "#fb9f3a"
             ],
             [
              0.8888888888888888,
              "#fdca26"
             ],
             [
              1,
              "#f0f921"
             ]
            ],
            "type": "heatmapgl"
           }
          ],
          "histogram": [
           {
            "marker": {
             "pattern": {
              "fillmode": "overlay",
              "size": 10,
              "solidity": 0.2
             }
            },
            "type": "histogram"
           }
          ],
          "histogram2d": [
           {
            "colorbar": {
             "outlinewidth": 0,
             "ticks": ""
            },
            "colorscale": [
             [
              0,
              "#0d0887"
             ],
             [
              0.1111111111111111,
              "#46039f"
             ],
             [
              0.2222222222222222,
              "#7201a8"
             ],
             [
              0.3333333333333333,
              "#9c179e"
             ],
             [
              0.4444444444444444,
              "#bd3786"
             ],
             [
              0.5555555555555556,
              "#d8576b"
             ],
             [
              0.6666666666666666,
              "#ed7953"
             ],
             [
              0.7777777777777778,
              "#fb9f3a"
             ],
             [
              0.8888888888888888,
              "#fdca26"
             ],
             [
              1,
              "#f0f921"
             ]
            ],
            "type": "histogram2d"
           }
          ],
          "histogram2dcontour": [
           {
            "colorbar": {
             "outlinewidth": 0,
             "ticks": ""
            },
            "colorscale": [
             [
              0,
              "#0d0887"
             ],
             [
              0.1111111111111111,
              "#46039f"
             ],
             [
              0.2222222222222222,
              "#7201a8"
             ],
             [
              0.3333333333333333,
              "#9c179e"
             ],
             [
              0.4444444444444444,
              "#bd3786"
             ],
             [
              0.5555555555555556,
              "#d8576b"
             ],
             [
              0.6666666666666666,
              "#ed7953"
             ],
             [
              0.7777777777777778,
              "#fb9f3a"
             ],
             [
              0.8888888888888888,
              "#fdca26"
             ],
             [
              1,
              "#f0f921"
             ]
            ],
            "type": "histogram2dcontour"
           }
          ],
          "mesh3d": [
           {
            "colorbar": {
             "outlinewidth": 0,
             "ticks": ""
            },
            "type": "mesh3d"
           }
          ],
          "parcoords": [
           {
            "line": {
             "colorbar": {
              "outlinewidth": 0,
              "ticks": ""
             }
            },
            "type": "parcoords"
           }
          ],
          "pie": [
           {
            "automargin": true,
            "type": "pie"
           }
          ],
          "scatter": [
           {
            "fillpattern": {
             "fillmode": "overlay",
             "size": 10,
             "solidity": 0.2
            },
            "type": "scatter"
           }
          ],
          "scatter3d": [
           {
            "line": {
             "colorbar": {
              "outlinewidth": 0,
              "ticks": ""
             }
            },
            "marker": {
             "colorbar": {
              "outlinewidth": 0,
              "ticks": ""
             }
            },
            "type": "scatter3d"
           }
          ],
          "scattercarpet": [
           {
            "marker": {
             "colorbar": {
              "outlinewidth": 0,
              "ticks": ""
             }
            },
            "type": "scattercarpet"
           }
          ],
          "scattergeo": [
           {
            "marker": {
             "colorbar": {
              "outlinewidth": 0,
              "ticks": ""
             }
            },
            "type": "scattergeo"
           }
          ],
          "scattergl": [
           {
            "marker": {
             "colorbar": {
              "outlinewidth": 0,
              "ticks": ""
             }
            },
            "type": "scattergl"
           }
          ],
          "scattermapbox": [
           {
            "marker": {
             "colorbar": {
              "outlinewidth": 0,
              "ticks": ""
             }
            },
            "type": "scattermapbox"
           }
          ],
          "scatterpolar": [
           {
            "marker": {
             "colorbar": {
              "outlinewidth": 0,
              "ticks": ""
             }
            },
            "type": "scatterpolar"
           }
          ],
          "scatterpolargl": [
           {
            "marker": {
             "colorbar": {
              "outlinewidth": 0,
              "ticks": ""
             }
            },
            "type": "scatterpolargl"
           }
          ],
          "scatterternary": [
           {
            "marker": {
             "colorbar": {
              "outlinewidth": 0,
              "ticks": ""
             }
            },
            "type": "scatterternary"
           }
          ],
          "surface": [
           {
            "colorbar": {
             "outlinewidth": 0,
             "ticks": ""
            },
            "colorscale": [
             [
              0,
              "#0d0887"
             ],
             [
              0.1111111111111111,
              "#46039f"
             ],
             [
              0.2222222222222222,
              "#7201a8"
             ],
             [
              0.3333333333333333,
              "#9c179e"
             ],
             [
              0.4444444444444444,
              "#bd3786"
             ],
             [
              0.5555555555555556,
              "#d8576b"
             ],
             [
              0.6666666666666666,
              "#ed7953"
             ],
             [
              0.7777777777777778,
              "#fb9f3a"
             ],
             [
              0.8888888888888888,
              "#fdca26"
             ],
             [
              1,
              "#f0f921"
             ]
            ],
            "type": "surface"
           }
          ],
          "table": [
           {
            "cells": {
             "fill": {
              "color": "#EBF0F8"
             },
             "line": {
              "color": "white"
             }
            },
            "header": {
             "fill": {
              "color": "#C8D4E3"
             },
             "line": {
              "color": "white"
             }
            },
            "type": "table"
           }
          ]
         },
         "layout": {
          "annotationdefaults": {
           "arrowcolor": "#2a3f5f",
           "arrowhead": 0,
           "arrowwidth": 1
          },
          "autotypenumbers": "strict",
          "coloraxis": {
           "colorbar": {
            "outlinewidth": 0,
            "ticks": ""
           }
          },
          "colorscale": {
           "diverging": [
            [
             0,
             "#8e0152"
            ],
            [
             0.1,
             "#c51b7d"
            ],
            [
             0.2,
             "#de77ae"
            ],
            [
             0.3,
             "#f1b6da"
            ],
            [
             0.4,
             "#fde0ef"
            ],
            [
             0.5,
             "#f7f7f7"
            ],
            [
             0.6,
             "#e6f5d0"
            ],
            [
             0.7,
             "#b8e186"
            ],
            [
             0.8,
             "#7fbc41"
            ],
            [
             0.9,
             "#4d9221"
            ],
            [
             1,
             "#276419"
            ]
           ],
           "sequential": [
            [
             0,
             "#0d0887"
            ],
            [
             0.1111111111111111,
             "#46039f"
            ],
            [
             0.2222222222222222,
             "#7201a8"
            ],
            [
             0.3333333333333333,
             "#9c179e"
            ],
            [
             0.4444444444444444,
             "#bd3786"
            ],
            [
             0.5555555555555556,
             "#d8576b"
            ],
            [
             0.6666666666666666,
             "#ed7953"
            ],
            [
             0.7777777777777778,
             "#fb9f3a"
            ],
            [
             0.8888888888888888,
             "#fdca26"
            ],
            [
             1,
             "#f0f921"
            ]
           ],
           "sequentialminus": [
            [
             0,
             "#0d0887"
            ],
            [
             0.1111111111111111,
             "#46039f"
            ],
            [
             0.2222222222222222,
             "#7201a8"
            ],
            [
             0.3333333333333333,
             "#9c179e"
            ],
            [
             0.4444444444444444,
             "#bd3786"
            ],
            [
             0.5555555555555556,
             "#d8576b"
            ],
            [
             0.6666666666666666,
             "#ed7953"
            ],
            [
             0.7777777777777778,
             "#fb9f3a"
            ],
            [
             0.8888888888888888,
             "#fdca26"
            ],
            [
             1,
             "#f0f921"
            ]
           ]
          },
          "colorway": [
           "#636efa",
           "#EF553B",
           "#00cc96",
           "#ab63fa",
           "#FFA15A",
           "#19d3f3",
           "#FF6692",
           "#B6E880",
           "#FF97FF",
           "#FECB52"
          ],
          "font": {
           "color": "#2a3f5f"
          },
          "geo": {
           "bgcolor": "white",
           "lakecolor": "white",
           "landcolor": "#E5ECF6",
           "showlakes": true,
           "showland": true,
           "subunitcolor": "white"
          },
          "hoverlabel": {
           "align": "left"
          },
          "hovermode": "closest",
          "mapbox": {
           "style": "light"
          },
          "paper_bgcolor": "white",
          "plot_bgcolor": "#E5ECF6",
          "polar": {
           "angularaxis": {
            "gridcolor": "white",
            "linecolor": "white",
            "ticks": ""
           },
           "bgcolor": "#E5ECF6",
           "radialaxis": {
            "gridcolor": "white",
            "linecolor": "white",
            "ticks": ""
           }
          },
          "scene": {
           "xaxis": {
            "backgroundcolor": "#E5ECF6",
            "gridcolor": "white",
            "gridwidth": 2,
            "linecolor": "white",
            "showbackground": true,
            "ticks": "",
            "zerolinecolor": "white"
           },
           "yaxis": {
            "backgroundcolor": "#E5ECF6",
            "gridcolor": "white",
            "gridwidth": 2,
            "linecolor": "white",
            "showbackground": true,
            "ticks": "",
            "zerolinecolor": "white"
           },
           "zaxis": {
            "backgroundcolor": "#E5ECF6",
            "gridcolor": "white",
            "gridwidth": 2,
            "linecolor": "white",
            "showbackground": true,
            "ticks": "",
            "zerolinecolor": "white"
           }
          },
          "shapedefaults": {
           "line": {
            "color": "#2a3f5f"
           }
          },
          "ternary": {
           "aaxis": {
            "gridcolor": "white",
            "linecolor": "white",
            "ticks": ""
           },
           "baxis": {
            "gridcolor": "white",
            "linecolor": "white",
            "ticks": ""
           },
           "bgcolor": "#E5ECF6",
           "caxis": {
            "gridcolor": "white",
            "linecolor": "white",
            "ticks": ""
           }
          },
          "title": {
           "x": 0.05
          },
          "xaxis": {
           "automargin": true,
           "gridcolor": "white",
           "linecolor": "white",
           "ticks": "",
           "title": {
            "standoff": 15
           },
           "zerolinecolor": "white",
           "zerolinewidth": 2
          },
          "yaxis": {
           "automargin": true,
           "gridcolor": "white",
           "linecolor": "white",
           "ticks": "",
           "title": {
            "standoff": 15
           },
           "zerolinecolor": "white",
           "zerolinewidth": 2
          }
         }
        },
        "xaxis": {
         "anchor": "y",
         "domain": [
          0,
          1
         ],
         "title": {
          "text": "x"
         }
        },
        "yaxis": {
         "anchor": "x",
         "domain": [
          0,
          1
         ],
         "title": {
          "text": "y"
         }
        }
       }
      },
      "text/html": [
       "<div>                            <div id=\"9513bb4a-8965-46fc-97b1-bb3baa3073d2\" class=\"plotly-graph-div\" style=\"height:525px; width:100%;\"></div>            <script type=\"text/javascript\">                require([\"plotly\"], function(Plotly) {                    window.PLOTLYENV=window.PLOTLYENV || {};                                    if (document.getElementById(\"9513bb4a-8965-46fc-97b1-bb3baa3073d2\")) {                    Plotly.newPlot(                        \"9513bb4a-8965-46fc-97b1-bb3baa3073d2\",                        [{\"hovertemplate\":\"x=%{x}\\u003cbr\\u003ey=%{y}\\u003cextra\\u003e\\u003c\\u002fextra\\u003e\",\"legendgroup\":\"\",\"marker\":{\"color\":\"#636efa\",\"symbol\":\"circle\"},\"mode\":\"markers\",\"name\":\"\",\"orientation\":\"v\",\"showlegend\":false,\"x\":[4.83668678321351,49.0818753395735,45.5128126133938,-23.8990931606162,-92.5025626626392,-20.532077785562,-34.4978990846253,-21.6554704932228,-3.91885105115727,5.05001997029002,-27.4427851355933,-43.697611821393,-69.9377718019476,-138.282199524281,-209.144883619285,-128.175124425088,-36.4847216356348,-70.7890001942999,-106.627152076986,-175.392676165497,-230.831307197006,-308.696113807251,14.3392827205743,33.647027018239,27.621955921414,-24.8681950420781,-88.4241927271991,-111.060562365717,-0.531418992865616,0.68906278132791,43.8715088012374,81.434170587748,63.6621781050641,-11.2518785171724,-9.95644453414538,-40.3726920702055,-45.1126153476544,-36.1490691532091,-26.5773192528478,-49.8634751906738,-86.9181894635843,-12.8250062437434,-32.5558394593254,-61.8361083361178,-83.568420652412,-94.4145530092506,-86.3756563596362,-26.2794183374649,-52.3211071294109,-75.1717942642726,-95.1700718784343,-113.747231081371,-120.481674347952,24.774201699107,30.6023445921001,40.987997884621,48.2695589771957,32.9733882605867,1.9265663202195,-17.2102021979318,0.21861241164295,4.43083248168087,2.31358744110326,-3.94540876003046,-5.91256759094418,-1.93500670893152,10.1846582345955,-38.4509056701358,-11.3499500290954,49.6009897873345,29.601061441126,-16.1979222859616,-52.1228270900872,-21.0782337491392,3.11325971472454,5.36397476788225,20.2463125730603,19.9341891042423,11.7011104287651,-2.54112157722455,-6.13507740028405,-30.9543140525019,-54.3314633222653,-31.2829791401402,52.0051321571068,75.1158208017309,14.7464149955461,-8.65889911027981,-14.6113171845519,-38.9492355567407,-48.4981486458975,-40.4424312792827,-12.7519635065223,5.69824701270424,-12.7460367471796,-29.018082747686,-36.1894876349892,-44.5376103136928,-34.538868548232,28.7754383992739,21.0895822396237,7.78570220727994,0.804454894916617,-10.8717900771514,-55.8965028864493,-62.8639772269529,2.53984204587535,-24.2762614480092,19.2330107442162,91.7844040872208,105.007740019637,-22.0772551578656,-19.7038163382444,-41.9654091720624,-75.6455918833656,-55.0567783197469,-21.7441212933891,3.94547609643745,-5.81743039019397,-1.03358865745624,21.3775331192613,30.7236927994997,7.35503854580211,-35.3027860770586,-86.7285362953941,-5.5314110325395,6.71465412236947,-11.4304295782231,-17.0191307586341,-8.61879177736861,4.52453574066148,-2.33169958290136,76.1084203268497,234.426789807911,166.419833701092,-282.444974712937,21.4827370517843,0.0529894348787445,6.81044799423212,13.7034058137416,50.0844093167717,65.3603969663855,-14.3482730069201,-4.21318841515662,10.8662307025728,9.01231022764603,7.43985149291895,2.11185220175058,25.8933260350999,-0.495140000782786,3.48811171690612,1.06071206087291,-20.6831632561103,12.4962116570579,211.008141992894,171.186168859201,-14.4236842492429,-39.7664105446745,-56.6367186444535,-60.7884700129023,-65.3955981931061,-58.7210807453055,-43.3470763101264,-3.54628562676343,-9.85967555040111,32.9984541188672,45.8453642160139,55.8050980268932,7.8330182102419,18.155088355537,25.4940104367683,13.6494718973658,15.3707384566681,24.5817967015064,25.5544562940569,45.127491992491,105.793027000178,49.9749884622175,-31.4007419251348,-56.6231541123125,-11.8592943256421,-29.7717471426933,-22.6375010397209,-20.4677446528624,-3.65086648151803,-7.68638613602002,-20.680473581063,25.8435384230308,23.3156433591786,12.2673802557226,1.82183761156208,-5.90894754878084,-6.07615753469145,2.07513358068712,-47.8461183606466,-44.0211162381237,-11.006373746641,20.8756714879102,20.6014305820244,-32.6406102569339,0.616629346381401,36.7800951648503,14.7288733647069,-24.9588831233494,-22.3484466396732,9.85681588701749,-1.84801599722757,-11.5549922001279,-16.2782480463539,-6.95093939893766,4.91729168486206,11.5572759469335,2.25243970062791,-0.819328645586288,-31.5057962880232,-68.3431595483013,-38.5213546331917,12.2538137142123,32.8558272990953,3.8826714045141,33.1105652715909,45.3118875719902,40.8249626571577,24.1889103944716,9.71320869367801,0.829449537961568,27.7431113890324,39.908821241954,32.8368544947594,1.2825866738279,-2.89869237479261,12.6968283794861,13.7614609187419,15.0007210563381,26.6792834756494,15.2160476973545,-6.3465931216864,-27.1550287021428,-12.456034786474,6.67816205632702,30.1134479953857,50.1635415132349,37.0230397223999,30.0244817793213,16.8694154650795,-8.82769160348966,-28.859253041423,-18.6509407234136,-14.1445882596375,-15.7502968327781,15.0598491987326,50.1907556540199,1.55798264638407,30.4929619368904,47.5487629824461,28.3280557366466,17.5764943367074,25.7117819300941,44.4978214310282,6.85590289802346,27.4052177064533,30.8889172586835,34.6658377314207,18.5498396298285,-3.27324625175056,-8.14428239063419,-13.7788883758533,-10.8322799264499,53.6054137822176,79.1129427422859,28.7540909311884,-26.2274593988752,-42.9382213795606,7.67682124656253,3.59338902716031,-3.83792726902834,-0.114422105122254,-2.31673681251526,-0.962739239390712,-41.8361381695258,-54.4472050027724,-58.3708324074775,-40.908684808691,-1.44243747664731,19.8148957184738,20.7431580268746,-27.5466218260125,-8.93537050764525,-12.2733218870455,-19.2070378491645,-21.7803609875113,-4.73403568258918,5.36673168227388,-18.9544114614382,-20.5136872267692,4.56692938384941,14.1805027230386,23.8122889505807,57.5330357359076,54.9155521026417],\"xaxis\":\"x\",\"y\":[-28.5049270297964,-9.25482758672267,11.4671668539991,7.58934023489402,9.58763822669017,-15.1518196851637,-5.87177673926499,-8.46822092206666,0.741882607775409,10.1330927721447,6.54835252465787,10.811868039541,12.6219281643371,6.29956888272039,12.6343506036726,8.37572610251672,-15.0451246196668,-6.72336565331982,4.26234932509716,5.942712180101,9.89783288410401,9.0352022196199,-26.6454699084329,-3.15242209709977,-6.04373111345512,1.38427498044875,5.29863991395953,4.83879571456259,8.37928775614368,23.0479206932275,24.9408701733839,19.3591165702629,11.6613897097151,10.4719064565829,3.92218475199391,-34.4755931114312,-16.089442430489,4.7353845099716,3.48756412292239,-1.33168606355351,9.24431677514328,-4.03825812793281,-0.0127628981290471,8.27138048245027,5.35771851124252,1.2114196029454,4.38195627002496,-18.8707453603393,-0.551715053042983,9.39275081802253,9.28768945993038,6.45848647152344,4.82659113728171,30.6909451334319,25.2373241823837,18.4790665973891,11.5540081403992,0.229784449377391,2.47691998513882,12.4149670547848,18.4373561995228,21.2291501634753,16.7091641834189,9.94562677495569,3.22261292243179,9.89200428704045,0.708895352197004,-3.98211725441395,16.0409834999789,30.0416605215649,23.4472722314034,11.4066187053077,9.47480023141833,11.1819878591879,3.92615914913315,11.5082499006972,7.1961671331519,11.0575202679318,2.63924691315003,-4.18332712071303,-4.24241104142757,-17.4487610359417,-18.2749604611364,-5.55182569588465,4.53082553555313,-1.84668418087632,-21.3694233754034,-16.4555042471682,-11.1479851829298,-5.56827102538198,6.07744735730633,3.73839010276141,11.605745514651,19.2636802391597,14.7122203837527,12.1721202738655,8.72077183828306,3.31220099860487,-1.49702096509486,21.8365272778885,21.2591079096366,15.0676322875762,3.89333430618714,5.05291216149951,3.33622937858128,2.21864320518497,-18.1507321219336,0.856322359568757,11.0652844658975,12.2714246344804,3.85697190263608,-9.89099315306677,5.21497704641241,9.52045057689419,9.79365752258444,1.1024825201909,-1.71230458541824,4.90039330372656,8.4243192521195,23.2538803011038,24.4495894792066,23.5314418237451,16.6141099431489,15.2397849982149,8.15505807001882,-26.5110267238868,-17.8152337154357,9.80399393403288,15.9633075590017,13.5482285540048,10.9674472107934,6.78351626174026,-3.25398526380206,1.65449380998911,3.47109709489284,-1.1296862328614,17.0730891496859,21.6795579166217,13.7449889112552,9.62551921736708,13.3988312631259,-1.64456137647596,0.993417662231074,10.2818813266411,2.599677175552,5.12380249440302,5.00912516639245,4.61815966524337,8.46504117152728,-23.9314464232278,-4.41731044544183,5.57465443021681,0.567473425103259,-1.13660719955666,0.185764216228179,-9.9239380907812,-8.04909511868244,3.84648309854933,2.6929578115302,7.25886257423875,2.81361736961685,-2.80076163335877,-10.5757565048856,-38.9150196904867,-31.278943617524,-18.8165735819026,-11.0400607928447,4.86988216916696,17.7437549399728,16.5289069852287,12.946825691979,-1.63153636761816,-1.80806059501236,-13.9509001980534,-10.0043985817277,-12.512797331177,-11.3454755957477,-14.1703929246025,-1.05755204807478,-14.2264928381315,-34.7316848566607,-20.6721823576364,-18.2617804704502,-25.9283818488343,-34.5742404113454,-21.7972464147065,-18.2935443042901,22.2299535695349,20.73929397058,9.00266639309591,5.77567274571874,-0.644556149337319,-8.92528699682843,-3.98722834437007,-22.8235369191641,-7.41260620087782,13.8272879385427,-4.2290049998272,-0.0270334033766204,-27.3990135988523,-24.1554222699767,-22.3237617521358,-26.9540753816885,-16.960289825746,-4.71267587554884,12.4237544570511,14.8579946883421,10.6349683914764,-1.60109759508604,-6.24960816270303,-4.50889803630838,1.01976111716961,-8.4389711036406,-8.68982246625474,-5.33832385300232,-4.43109245897922,-4.14791324744876,-2.52738802090012,-4.8719697508324,-23.4720343953901,-3.06056319558062,0.0503487435044363,3.28045109881901,-1.67426150938228,3.87182415324629,-1.92379265596195,-7.0843810349917,-5.49582485690637,-5.06859872141715,-0.768457708663192,-6.89530476303518,16.8890853854461,22.0141609687897,25.0574612501309,6.92384018522601,-1.86157103175113,-4.518088353831,9.68244192228471,-36.2560723172987,-12.0535629809708,-12.551951979995,-7.90751352267908,0.823646282186317,0.356505711741292,-4.50217483112955,-41.0869198818865,-39.5029921385306,-35.9558423869978,-25.2980680584607,-12.9624705962992,-10.2294024473493,-8.88265234785006,-2.52975215010916,3.41103953693483,5.48711398977356,-3.7346337711587,1.37159256939503,-3.86941356154765,1.90501089193874,10.4704401761631,27.2234224730421,20.2113119584339,19.4047818538849,5.66460601637567,3.8434843990502,-4.01267022518479,11.9116587267464,17.7767883227353,12.4429259892432,12.2707095862753,-1.96270772585089,-11.9801468654297,1.95128538998412,-4.99834641693066,28.8101007240316,13.6807376316356,13.4279031752588,-9.73837147218498,7.28834347233177,-26.9795424707877,-50.2278013756437,-57.0433119186431,-58.3565274264648,-50.1822819608467,-35.5135962682099,-13.4397821501118,-52.5021717524072,-44.0952504333918,-12.0504696632351,2.35979798765497,10.4745000059171,9.38855894491363,-3.75821960733397,-48.4898326278607,-48.6960127915172,-49.7433413166114,-39.0829114511128,-10.0092936934856,-9.24835321663394,-6.12553412175131],\"yaxis\":\"y\",\"type\":\"scatter\"}],                        {\"template\":{\"data\":{\"histogram2dcontour\":[{\"type\":\"histogram2dcontour\",\"colorbar\":{\"outlinewidth\":0,\"ticks\":\"\"},\"colorscale\":[[0.0,\"#0d0887\"],[0.1111111111111111,\"#46039f\"],[0.2222222222222222,\"#7201a8\"],[0.3333333333333333,\"#9c179e\"],[0.4444444444444444,\"#bd3786\"],[0.5555555555555556,\"#d8576b\"],[0.6666666666666666,\"#ed7953\"],[0.7777777777777778,\"#fb9f3a\"],[0.8888888888888888,\"#fdca26\"],[1.0,\"#f0f921\"]]}],\"choropleth\":[{\"type\":\"choropleth\",\"colorbar\":{\"outlinewidth\":0,\"ticks\":\"\"}}],\"histogram2d\":[{\"type\":\"histogram2d\",\"colorbar\":{\"outlinewidth\":0,\"ticks\":\"\"},\"colorscale\":[[0.0,\"#0d0887\"],[0.1111111111111111,\"#46039f\"],[0.2222222222222222,\"#7201a8\"],[0.3333333333333333,\"#9c179e\"],[0.4444444444444444,\"#bd3786\"],[0.5555555555555556,\"#d8576b\"],[0.6666666666666666,\"#ed7953\"],[0.7777777777777778,\"#fb9f3a\"],[0.8888888888888888,\"#fdca26\"],[1.0,\"#f0f921\"]]}],\"heatmap\":[{\"type\":\"heatmap\",\"colorbar\":{\"outlinewidth\":0,\"ticks\":\"\"},\"colorscale\":[[0.0,\"#0d0887\"],[0.1111111111111111,\"#46039f\"],[0.2222222222222222,\"#7201a8\"],[0.3333333333333333,\"#9c179e\"],[0.4444444444444444,\"#bd3786\"],[0.5555555555555556,\"#d8576b\"],[0.6666666666666666,\"#ed7953\"],[0.7777777777777778,\"#fb9f3a\"],[0.8888888888888888,\"#fdca26\"],[1.0,\"#f0f921\"]]}],\"heatmapgl\":[{\"type\":\"heatmapgl\",\"colorbar\":{\"outlinewidth\":0,\"ticks\":\"\"},\"colorscale\":[[0.0,\"#0d0887\"],[0.1111111111111111,\"#46039f\"],[0.2222222222222222,\"#7201a8\"],[0.3333333333333333,\"#9c179e\"],[0.4444444444444444,\"#bd3786\"],[0.5555555555555556,\"#d8576b\"],[0.6666666666666666,\"#ed7953\"],[0.7777777777777778,\"#fb9f3a\"],[0.8888888888888888,\"#fdca26\"],[1.0,\"#f0f921\"]]}],\"contourcarpet\":[{\"type\":\"contourcarpet\",\"colorbar\":{\"outlinewidth\":0,\"ticks\":\"\"}}],\"contour\":[{\"type\":\"contour\",\"colorbar\":{\"outlinewidth\":0,\"ticks\":\"\"},\"colorscale\":[[0.0,\"#0d0887\"],[0.1111111111111111,\"#46039f\"],[0.2222222222222222,\"#7201a8\"],[0.3333333333333333,\"#9c179e\"],[0.4444444444444444,\"#bd3786\"],[0.5555555555555556,\"#d8576b\"],[0.6666666666666666,\"#ed7953\"],[0.7777777777777778,\"#fb9f3a\"],[0.8888888888888888,\"#fdca26\"],[1.0,\"#f0f921\"]]}],\"surface\":[{\"type\":\"surface\",\"colorbar\":{\"outlinewidth\":0,\"ticks\":\"\"},\"colorscale\":[[0.0,\"#0d0887\"],[0.1111111111111111,\"#46039f\"],[0.2222222222222222,\"#7201a8\"],[0.3333333333333333,\"#9c179e\"],[0.4444444444444444,\"#bd3786\"],[0.5555555555555556,\"#d8576b\"],[0.6666666666666666,\"#ed7953\"],[0.7777777777777778,\"#fb9f3a\"],[0.8888888888888888,\"#fdca26\"],[1.0,\"#f0f921\"]]}],\"mesh3d\":[{\"type\":\"mesh3d\",\"colorbar\":{\"outlinewidth\":0,\"ticks\":\"\"}}],\"scatter\":[{\"fillpattern\":{\"fillmode\":\"overlay\",\"size\":10,\"solidity\":0.2},\"type\":\"scatter\"}],\"parcoords\":[{\"type\":\"parcoords\",\"line\":{\"colorbar\":{\"outlinewidth\":0,\"ticks\":\"\"}}}],\"scatterpolargl\":[{\"type\":\"scatterpolargl\",\"marker\":{\"colorbar\":{\"outlinewidth\":0,\"ticks\":\"\"}}}],\"bar\":[{\"error_x\":{\"color\":\"#2a3f5f\"},\"error_y\":{\"color\":\"#2a3f5f\"},\"marker\":{\"line\":{\"color\":\"#E5ECF6\",\"width\":0.5},\"pattern\":{\"fillmode\":\"overlay\",\"size\":10,\"solidity\":0.2}},\"type\":\"bar\"}],\"scattergeo\":[{\"type\":\"scattergeo\",\"marker\":{\"colorbar\":{\"outlinewidth\":0,\"ticks\":\"\"}}}],\"scatterpolar\":[{\"type\":\"scatterpolar\",\"marker\":{\"colorbar\":{\"outlinewidth\":0,\"ticks\":\"\"}}}],\"histogram\":[{\"marker\":{\"pattern\":{\"fillmode\":\"overlay\",\"size\":10,\"solidity\":0.2}},\"type\":\"histogram\"}],\"scattergl\":[{\"type\":\"scattergl\",\"marker\":{\"colorbar\":{\"outlinewidth\":0,\"ticks\":\"\"}}}],\"scatter3d\":[{\"type\":\"scatter3d\",\"line\":{\"colorbar\":{\"outlinewidth\":0,\"ticks\":\"\"}},\"marker\":{\"colorbar\":{\"outlinewidth\":0,\"ticks\":\"\"}}}],\"scattermapbox\":[{\"type\":\"scattermapbox\",\"marker\":{\"colorbar\":{\"outlinewidth\":0,\"ticks\":\"\"}}}],\"scatterternary\":[{\"type\":\"scatterternary\",\"marker\":{\"colorbar\":{\"outlinewidth\":0,\"ticks\":\"\"}}}],\"scattercarpet\":[{\"type\":\"scattercarpet\",\"marker\":{\"colorbar\":{\"outlinewidth\":0,\"ticks\":\"\"}}}],\"carpet\":[{\"aaxis\":{\"endlinecolor\":\"#2a3f5f\",\"gridcolor\":\"white\",\"linecolor\":\"white\",\"minorgridcolor\":\"white\",\"startlinecolor\":\"#2a3f5f\"},\"baxis\":{\"endlinecolor\":\"#2a3f5f\",\"gridcolor\":\"white\",\"linecolor\":\"white\",\"minorgridcolor\":\"white\",\"startlinecolor\":\"#2a3f5f\"},\"type\":\"carpet\"}],\"table\":[{\"cells\":{\"fill\":{\"color\":\"#EBF0F8\"},\"line\":{\"color\":\"white\"}},\"header\":{\"fill\":{\"color\":\"#C8D4E3\"},\"line\":{\"color\":\"white\"}},\"type\":\"table\"}],\"barpolar\":[{\"marker\":{\"line\":{\"color\":\"#E5ECF6\",\"width\":0.5},\"pattern\":{\"fillmode\":\"overlay\",\"size\":10,\"solidity\":0.2}},\"type\":\"barpolar\"}],\"pie\":[{\"automargin\":true,\"type\":\"pie\"}]},\"layout\":{\"autotypenumbers\":\"strict\",\"colorway\":[\"#636efa\",\"#EF553B\",\"#00cc96\",\"#ab63fa\",\"#FFA15A\",\"#19d3f3\",\"#FF6692\",\"#B6E880\",\"#FF97FF\",\"#FECB52\"],\"font\":{\"color\":\"#2a3f5f\"},\"hovermode\":\"closest\",\"hoverlabel\":{\"align\":\"left\"},\"paper_bgcolor\":\"white\",\"plot_bgcolor\":\"#E5ECF6\",\"polar\":{\"bgcolor\":\"#E5ECF6\",\"angularaxis\":{\"gridcolor\":\"white\",\"linecolor\":\"white\",\"ticks\":\"\"},\"radialaxis\":{\"gridcolor\":\"white\",\"linecolor\":\"white\",\"ticks\":\"\"}},\"ternary\":{\"bgcolor\":\"#E5ECF6\",\"aaxis\":{\"gridcolor\":\"white\",\"linecolor\":\"white\",\"ticks\":\"\"},\"baxis\":{\"gridcolor\":\"white\",\"linecolor\":\"white\",\"ticks\":\"\"},\"caxis\":{\"gridcolor\":\"white\",\"linecolor\":\"white\",\"ticks\":\"\"}},\"coloraxis\":{\"colorbar\":{\"outlinewidth\":0,\"ticks\":\"\"}},\"colorscale\":{\"sequential\":[[0.0,\"#0d0887\"],[0.1111111111111111,\"#46039f\"],[0.2222222222222222,\"#7201a8\"],[0.3333333333333333,\"#9c179e\"],[0.4444444444444444,\"#bd3786\"],[0.5555555555555556,\"#d8576b\"],[0.6666666666666666,\"#ed7953\"],[0.7777777777777778,\"#fb9f3a\"],[0.8888888888888888,\"#fdca26\"],[1.0,\"#f0f921\"]],\"sequentialminus\":[[0.0,\"#0d0887\"],[0.1111111111111111,\"#46039f\"],[0.2222222222222222,\"#7201a8\"],[0.3333333333333333,\"#9c179e\"],[0.4444444444444444,\"#bd3786\"],[0.5555555555555556,\"#d8576b\"],[0.6666666666666666,\"#ed7953\"],[0.7777777777777778,\"#fb9f3a\"],[0.8888888888888888,\"#fdca26\"],[1.0,\"#f0f921\"]],\"diverging\":[[0,\"#8e0152\"],[0.1,\"#c51b7d\"],[0.2,\"#de77ae\"],[0.3,\"#f1b6da\"],[0.4,\"#fde0ef\"],[0.5,\"#f7f7f7\"],[0.6,\"#e6f5d0\"],[0.7,\"#b8e186\"],[0.8,\"#7fbc41\"],[0.9,\"#4d9221\"],[1,\"#276419\"]]},\"xaxis\":{\"gridcolor\":\"white\",\"linecolor\":\"white\",\"ticks\":\"\",\"title\":{\"standoff\":15},\"zerolinecolor\":\"white\",\"automargin\":true,\"zerolinewidth\":2},\"yaxis\":{\"gridcolor\":\"white\",\"linecolor\":\"white\",\"ticks\":\"\",\"title\":{\"standoff\":15},\"zerolinecolor\":\"white\",\"automargin\":true,\"zerolinewidth\":2},\"scene\":{\"xaxis\":{\"backgroundcolor\":\"#E5ECF6\",\"gridcolor\":\"white\",\"linecolor\":\"white\",\"showbackground\":true,\"ticks\":\"\",\"zerolinecolor\":\"white\",\"gridwidth\":2},\"yaxis\":{\"backgroundcolor\":\"#E5ECF6\",\"gridcolor\":\"white\",\"linecolor\":\"white\",\"showbackground\":true,\"ticks\":\"\",\"zerolinecolor\":\"white\",\"gridwidth\":2},\"zaxis\":{\"backgroundcolor\":\"#E5ECF6\",\"gridcolor\":\"white\",\"linecolor\":\"white\",\"showbackground\":true,\"ticks\":\"\",\"zerolinecolor\":\"white\",\"gridwidth\":2}},\"shapedefaults\":{\"line\":{\"color\":\"#2a3f5f\"}},\"annotationdefaults\":{\"arrowcolor\":\"#2a3f5f\",\"arrowhead\":0,\"arrowwidth\":1},\"geo\":{\"bgcolor\":\"white\",\"landcolor\":\"#E5ECF6\",\"subunitcolor\":\"white\",\"showland\":true,\"showlakes\":true,\"lakecolor\":\"white\"},\"title\":{\"x\":0.05},\"mapbox\":{\"style\":\"light\"}}},\"xaxis\":{\"anchor\":\"y\",\"domain\":[0.0,1.0],\"title\":{\"text\":\"x\"}},\"yaxis\":{\"anchor\":\"x\",\"domain\":[0.0,1.0],\"title\":{\"text\":\"y\"}},\"legend\":{\"tracegroupgap\":0},\"margin\":{\"t\":60}},                        {\"responsive\": true}                    ).then(function(){\n",
       "                            \n",
       "var gd = document.getElementById('9513bb4a-8965-46fc-97b1-bb3baa3073d2');\n",
       "var x = new MutationObserver(function (mutations, observer) {{\n",
       "        var display = window.getComputedStyle(gd).display;\n",
       "        if (!display || display === 'none') {{\n",
       "            console.log([gd, 'removed!']);\n",
       "            Plotly.purge(gd);\n",
       "            observer.disconnect();\n",
       "        }}\n",
       "}});\n",
       "\n",
       "// Listen for the removal of the full notebook cells\n",
       "var notebookContainer = gd.closest('#notebook-container');\n",
       "if (notebookContainer) {{\n",
       "    x.observe(notebookContainer, {childList: true});\n",
       "}}\n",
       "\n",
       "// Listen for the clearing of the current output cell\n",
       "var outputEl = gd.closest('.output');\n",
       "if (outputEl) {{\n",
       "    x.observe(outputEl, {childList: true});\n",
       "}}\n",
       "\n",
       "                        })                };                });            </script>        </div>"
      ]
     },
     "metadata": {},
     "output_type": "display_data"
    },
    {
     "name": "stdout",
     "output_type": "stream",
     "text": [
      "30\n"
     ]
    },
    {
     "data": {
      "application/vnd.plotly.v1+json": {
       "config": {
        "plotlyServerURL": "https://plot.ly"
       },
       "data": [
        {
         "hovertemplate": "x=%{x}<br>y=%{y}<extra></extra>",
         "legendgroup": "",
         "marker": {
          "color": "#636efa",
          "symbol": "circle"
         },
         "mode": "markers",
         "name": "",
         "orientation": "v",
         "showlegend": false,
         "type": "scatter",
         "x": [
          2.35538259262203,
          45.9037104441366,
          45.1535695143685,
          -17.7625949680982,
          -83.7688418794276,
          -24.0729358224361,
          -42.6711274433544,
          -33.1451945738965,
          -17.8788749644252,
          -12.7376844324645,
          -20.9403555788531,
          -35.1363144726168,
          -62.4038052240736,
          -130.896990486003,
          -193.400474677253,
          -121.592759783388,
          -31.7063926526143,
          -60.5670028087316,
          -83.358430519057,
          -153.37834598576,
          -231.849663384719,
          -328.207006334098,
          18.7134022641478,
          42.9587614136265,
          35.1344377188505,
          -24.9074312954202,
          -95.6808127134385,
          -116.947674156568,
          -3.06862875971459,
          1.98529255308806,
          48.9640652450793,
          84.7578647226938,
          67.4293549165892,
          -3.61279699574552,
          -2.03295266498698,
          -33.6864941507701,
          -38.1896420340488,
          -26.9261799003655,
          -21.9463458380181,
          -52.8966202177865,
          -91.9214365734024,
          -9.36416772713851,
          -18.4512546626684,
          -45.4756986924906,
          -68.5325569700474,
          -88.5536473751372,
          -94.7669697594467,
          -22.7388385816899,
          -47.4517687377838,
          -69.8169304298792,
          -90.0406375480751,
          -107.97753073094,
          -114.244078690909,
          26.3440541335215,
          32.8869664918336,
          42.7862915611331,
          49.3844747916062,
          32.6669547774739,
          0.39061215088779,
          -19.4722427488062,
          0.224453737554749,
          5.65417786558605,
          2.66824948413015,
          -4.56192824352856,
          -7.38419813145678,
          -4.39497415713289,
          8.03151243358299,
          -36.2002791189435,
          -11.8575963080258,
          47.8736581608601,
          26.4378227351098,
          -19.6809773542621,
          -48.8667510599725,
          -15.2311925089288,
          3.44617591770861,
          6.0337575299948,
          20.3603225662973,
          20.4358612168337,
          11.8690250921406,
          -2.92593492228055,
          -6.19375600467684,
          -31.4204763111921,
          -53.9159127487539,
          -29.6166339452737,
          52.4018033825614,
          74.5028780530032,
          12.3144694583703,
          -12.3174204117299,
          -16.7900965691726,
          -37.6167053023982,
          -47.5572630083941,
          -37.4424532597756,
          -12.5916303614965,
          3.97407156185629,
          -12.8530107175536,
          -27.5858805183396,
          -35.0100252487067,
          -44.1604387654114,
          -34.255263879613,
          26.9797190050589,
          20.302400125087,
          5.57565119694045,
          -3.29612620594312,
          -15.5719480401827,
          -59.3060147622318,
          -64.363351783576,
          -4.40728943669924,
          -22.4926014717783,
          25.703719903002,
          97.4262283935053,
          109.403302266146,
          -26.2688537498416,
          -18.3407399996175,
          -40.6181122399717,
          -74.3143756084572,
          -55.8045769253499,
          -23.6151505621961,
          2.59787228776195,
          -7.32422270489368,
          -2.81034159920216,
          20.2615933424694,
          29.4415940469391,
          6.49620323672842,
          -35.7116066561301,
          -85.9933150337055,
          -7.99107963801633,
          7.52019525602192,
          -6.46029846927711,
          -12.2152464474666,
          -4.41013035490414,
          8.4991310006392,
          0.549579942540352,
          87.1579619786723,
          238.614649863432,
          144.592500433721,
          -330.311654482902,
          19.0499698355655,
          2.63877146567613,
          11.8011016523739,
          16.0001248664901,
          48.9798546264776,
          64.5029804384066,
          -21.1133895204177,
          -2.20566290118162,
          11.1781515016101,
          5.83501025125606,
          5.24767774136324,
          3.66808352152975,
          27.147487066833,
          3.00959592226227,
          3.99459932912928,
          2.61044092948592,
          -18.7069670274885,
          11.4233301524878,
          196.39521968663,
          161.237818827929,
          -14.9123305643345,
          -42.3528020695363,
          -61.1023173728342,
          -53.7312461714399,
          -60.7427321142488,
          -67.5690022537608,
          -59.9826629330447,
          -7.36289168171676,
          -15.394227514649,
          28.7102530522417,
          41.5583476425587,
          49.8686368152668,
          8.39954647701776,
          17.2719166814625,
          23.1591082175395,
          10.5498777380614,
          11.9637203709026,
          21.134092854188,
          21.6036005777652,
          35.3151337044734,
          103.1757454337,
          53.4660129282302,
          -31.8770061054477,
          -58.789539952686,
          -9.41637971489885,
          -28.8545780552474,
          -26.0111986401554,
          -24.9109385208967,
          -9.14161830865686,
          -13.0890574104804,
          -24.3147662233768,
          25.1755563699344,
          23.1337179981977,
          12.4068425083922,
          2.38380164568248,
          -5.28825635914528,
          -6.46294069656818,
          0.95976565262715,
          -53.3130522807215,
          -52.1079266545677,
          -17.3760194227233,
          17.6475890244978,
          19.1669076512589,
          -32.0377682025702,
          2.27554561350045,
          36.0696227817608,
          13.2699317343881,
          -24.9639114254203,
          -23.4700904279972,
          10.3473865370409,
          -2.76003183657635,
          -12.2951197987682,
          -17.1860885763213,
          -6.45970335720654,
          7.16488696002125,
          14.4206091350064,
          -1.5676702453516,
          -3.01647495011793,
          -31.9861678618357,
          -68.5762828326176,
          -38.119867378914,
          14.7828580238755,
          35.2557869728458,
          4.95543795553476,
          34.3307332668763,
          45.1684089532617,
          43.2693442415558,
          31.3998842416038,
          19.2864392264331,
          0.0777761779560525,
          26.3221940544877,
          38.831601530493,
          33.5531306559796,
          4.32108030485113,
          0.364843488217133,
          14.6204862382673,
          14.3464764597324,
          14.9005052940325,
          25.7442999245129,
          13.0901442610518,
          -12.4131683300857,
          -42.0884784418971,
          -8.54008170959561,
          8.04837685498333,
          26.6777403294019,
          47.8821336776033,
          36.0150731090904,
          29.6297960240712,
          18.3129835061662,
          -6.58547847660907,
          -30.8899177222483,
          -19.4027448566943,
          -15.016371007281,
          -17.8255162418432,
          10.8099712069455,
          44.7363619938557,
          -1.02690895754294,
          31.9766874790905,
          46.2293953781523,
          25.4275716465943,
          14.2849952750291,
          25.0266350752914,
          46.5206253872903,
          8.56738645727426,
          30.0787936913044,
          32.7715473941341,
          35.4762238325405,
          18.8994047826974,
          -3.24571519302553,
          -8.766422801696,
          -14.6118141972248,
          -8.57525112562018,
          54.9311061912516,
          78.8360664703134,
          29.2235922650774,
          -24.36050931292,
          -39.1546695120312,
          8.29120034533586,
          4.02426493903202,
          -4.31319407635186,
          -1.02598770907768,
          -3.30290344484123,
          -1.80484892936574,
          -42.216187949545,
          -50.001542241174,
          -51.9821757268642,
          -34.9888369715627,
          1.33985823963987,
          19.9690346552645,
          20.0571252242049,
          -24.9606422948012,
          -12.0488347428223,
          -14.2589209458796,
          -20.8796847621446,
          -25.5417427688381,
          -11.2255054189125,
          2.00897220112352,
          -23.33326135194,
          -24.8923428298577,
          -0.828470139179829,
          9.66833116187188,
          18.1730893724726,
          48.033433305277,
          47.8384038197476
         ],
         "xaxis": "x",
         "y": [
          -28.5049270297964,
          -9.25482758672267,
          11.4671668539991,
          7.58934023489402,
          9.58763822669017,
          -15.1518196851637,
          -5.87177673926499,
          -8.46822092206666,
          0.741882607775409,
          10.1330927721447,
          6.54835252465787,
          10.811868039541,
          12.6219281643371,
          6.29956888272039,
          12.6343506036726,
          8.37572610251672,
          -15.0451246196668,
          -6.72336565331982,
          4.26234932509716,
          5.942712180101,
          9.89783288410401,
          9.0352022196199,
          -26.6454699084329,
          -3.15242209709977,
          -6.04373111345512,
          1.38427498044875,
          5.29863991395953,
          4.83879571456259,
          8.37928775614368,
          23.0479206932275,
          24.9408701733839,
          19.3591165702629,
          11.6613897097151,
          10.4719064565829,
          3.92218475199391,
          -34.4755931114312,
          -16.089442430489,
          4.7353845099716,
          3.48756412292239,
          -1.33168606355351,
          9.24431677514328,
          -4.03825812793281,
          -0.0127628981290471,
          8.27138048245027,
          5.35771851124252,
          1.2114196029454,
          4.38195627002496,
          -18.8707453603393,
          -0.551715053042983,
          9.39275081802253,
          9.28768945993038,
          6.45848647152344,
          4.82659113728171,
          30.6909451334319,
          25.2373241823837,
          18.4790665973891,
          11.5540081403992,
          0.229784449377391,
          2.47691998513882,
          12.4149670547848,
          18.4373561995228,
          21.2291501634753,
          16.7091641834189,
          9.94562677495569,
          3.22261292243179,
          9.89200428704045,
          0.708895352197004,
          -3.98211725441395,
          16.0409834999789,
          30.0416605215649,
          23.4472722314034,
          11.4066187053077,
          9.47480023141833,
          11.1819878591879,
          3.92615914913315,
          11.5082499006972,
          7.1961671331519,
          11.0575202679318,
          2.63924691315003,
          -4.18332712071303,
          -4.24241104142757,
          -17.4487610359417,
          -18.2749604611364,
          -5.55182569588465,
          4.53082553555313,
          -1.84668418087632,
          -21.3694233754034,
          -16.4555042471682,
          -11.1479851829298,
          -5.56827102538198,
          6.07744735730633,
          3.73839010276141,
          11.605745514651,
          19.2636802391597,
          14.7122203837527,
          12.1721202738655,
          8.72077183828306,
          3.31220099860487,
          -1.49702096509486,
          21.8365272778885,
          21.2591079096366,
          15.0676322875762,
          3.89333430618714,
          5.05291216149951,
          3.33622937858128,
          2.21864320518497,
          -18.1507321219336,
          0.856322359568757,
          11.0652844658975,
          12.2714246344804,
          3.85697190263608,
          -9.89099315306677,
          5.21497704641241,
          9.52045057689419,
          9.79365752258444,
          1.1024825201909,
          -1.71230458541824,
          4.90039330372656,
          8.4243192521195,
          23.2538803011038,
          24.4495894792066,
          23.5314418237451,
          16.6141099431489,
          15.2397849982149,
          8.15505807001882,
          -26.5110267238868,
          -17.8152337154357,
          9.80399393403288,
          15.9633075590017,
          13.5482285540048,
          10.9674472107934,
          6.78351626174026,
          -3.25398526380206,
          1.65449380998911,
          3.47109709489284,
          -1.1296862328614,
          17.0730891496859,
          21.6795579166217,
          13.7449889112552,
          9.62551921736708,
          13.3988312631259,
          -1.64456137647596,
          0.993417662231074,
          10.2818813266411,
          2.599677175552,
          5.12380249440302,
          5.00912516639245,
          4.61815966524337,
          8.46504117152728,
          -23.9314464232278,
          -4.41731044544183,
          5.57465443021681,
          0.567473425103259,
          -1.13660719955666,
          0.185764216228179,
          -9.9239380907812,
          -8.04909511868244,
          3.84648309854933,
          2.6929578115302,
          7.25886257423875,
          2.81361736961685,
          -2.80076163335877,
          -10.5757565048856,
          -38.9150196904867,
          -31.278943617524,
          -18.8165735819026,
          -11.0400607928447,
          4.86988216916696,
          17.7437549399728,
          16.5289069852287,
          12.946825691979,
          -1.63153636761816,
          -1.80806059501236,
          -13.9509001980534,
          -10.0043985817277,
          -12.512797331177,
          -11.3454755957477,
          -14.1703929246025,
          -1.05755204807478,
          -14.2264928381315,
          -34.7316848566607,
          -20.6721823576364,
          -18.2617804704502,
          -25.9283818488343,
          -34.5742404113454,
          -21.7972464147065,
          -18.2935443042901,
          22.2299535695349,
          20.73929397058,
          9.00266639309591,
          5.77567274571874,
          -0.644556149337319,
          -8.92528699682843,
          -3.98722834437007,
          -22.8235369191641,
          -7.41260620087782,
          13.8272879385427,
          -4.2290049998272,
          -0.0270334033766204,
          -27.3990135988523,
          -24.1554222699767,
          -22.3237617521358,
          -26.9540753816885,
          -16.960289825746,
          -4.71267587554884,
          12.4237544570511,
          14.8579946883421,
          10.6349683914764,
          -1.60109759508604,
          -6.24960816270303,
          -4.50889803630838,
          1.01976111716961,
          -8.4389711036406,
          -8.68982246625474,
          -5.33832385300232,
          -4.43109245897922,
          -4.14791324744876,
          -2.52738802090012,
          -4.8719697508324,
          -23.4720343953901,
          -3.06056319558062,
          0.0503487435044363,
          3.28045109881901,
          -1.67426150938228,
          3.87182415324629,
          -1.92379265596195,
          -7.0843810349917,
          -5.49582485690637,
          -5.06859872141715,
          -0.768457708663192,
          -6.89530476303518,
          16.8890853854461,
          22.0141609687897,
          25.0574612501309,
          6.92384018522601,
          -1.86157103175113,
          -4.518088353831,
          9.68244192228471,
          -36.2560723172987,
          -12.0535629809708,
          -12.551951979995,
          -7.90751352267908,
          0.823646282186317,
          0.356505711741292,
          -4.50217483112955,
          -41.0869198818865,
          -39.5029921385306,
          -35.9558423869978,
          -25.2980680584607,
          -12.9624705962992,
          -10.2294024473493,
          -8.88265234785006,
          -2.52975215010916,
          3.41103953693483,
          5.48711398977356,
          -3.7346337711587,
          1.37159256939503,
          -3.86941356154765,
          1.90501089193874,
          10.4704401761631,
          27.2234224730421,
          20.2113119584339,
          19.4047818538849,
          5.66460601637567,
          3.8434843990502,
          -4.01267022518479,
          11.9116587267464,
          17.7767883227353,
          12.4429259892432,
          12.2707095862753,
          -1.96270772585089,
          -11.9801468654297,
          1.95128538998412,
          -4.99834641693066,
          28.8101007240316,
          13.6807376316356,
          13.4279031752588,
          -9.73837147218498,
          7.28834347233177,
          -26.9795424707877,
          -50.2278013756437,
          -57.0433119186431,
          -58.3565274264648,
          -50.1822819608467,
          -35.5135962682099,
          -13.4397821501118,
          -52.5021717524072,
          -44.0952504333918,
          -12.0504696632351,
          2.35979798765497,
          10.4745000059171,
          9.38855894491363,
          -3.75821960733397,
          -48.4898326278607,
          -48.6960127915172,
          -49.7433413166114,
          -39.0829114511128,
          -10.0092936934856,
          -9.24835321663394,
          -6.12553412175131
         ],
         "yaxis": "y"
        }
       ],
       "layout": {
        "legend": {
         "tracegroupgap": 0
        },
        "margin": {
         "t": 60
        },
        "template": {
         "data": {
          "bar": [
           {
            "error_x": {
             "color": "#2a3f5f"
            },
            "error_y": {
             "color": "#2a3f5f"
            },
            "marker": {
             "line": {
              "color": "#E5ECF6",
              "width": 0.5
             },
             "pattern": {
              "fillmode": "overlay",
              "size": 10,
              "solidity": 0.2
             }
            },
            "type": "bar"
           }
          ],
          "barpolar": [
           {
            "marker": {
             "line": {
              "color": "#E5ECF6",
              "width": 0.5
             },
             "pattern": {
              "fillmode": "overlay",
              "size": 10,
              "solidity": 0.2
             }
            },
            "type": "barpolar"
           }
          ],
          "carpet": [
           {
            "aaxis": {
             "endlinecolor": "#2a3f5f",
             "gridcolor": "white",
             "linecolor": "white",
             "minorgridcolor": "white",
             "startlinecolor": "#2a3f5f"
            },
            "baxis": {
             "endlinecolor": "#2a3f5f",
             "gridcolor": "white",
             "linecolor": "white",
             "minorgridcolor": "white",
             "startlinecolor": "#2a3f5f"
            },
            "type": "carpet"
           }
          ],
          "choropleth": [
           {
            "colorbar": {
             "outlinewidth": 0,
             "ticks": ""
            },
            "type": "choropleth"
           }
          ],
          "contour": [
           {
            "colorbar": {
             "outlinewidth": 0,
             "ticks": ""
            },
            "colorscale": [
             [
              0,
              "#0d0887"
             ],
             [
              0.1111111111111111,
              "#46039f"
             ],
             [
              0.2222222222222222,
              "#7201a8"
             ],
             [
              0.3333333333333333,
              "#9c179e"
             ],
             [
              0.4444444444444444,
              "#bd3786"
             ],
             [
              0.5555555555555556,
              "#d8576b"
             ],
             [
              0.6666666666666666,
              "#ed7953"
             ],
             [
              0.7777777777777778,
              "#fb9f3a"
             ],
             [
              0.8888888888888888,
              "#fdca26"
             ],
             [
              1,
              "#f0f921"
             ]
            ],
            "type": "contour"
           }
          ],
          "contourcarpet": [
           {
            "colorbar": {
             "outlinewidth": 0,
             "ticks": ""
            },
            "type": "contourcarpet"
           }
          ],
          "heatmap": [
           {
            "colorbar": {
             "outlinewidth": 0,
             "ticks": ""
            },
            "colorscale": [
             [
              0,
              "#0d0887"
             ],
             [
              0.1111111111111111,
              "#46039f"
             ],
             [
              0.2222222222222222,
              "#7201a8"
             ],
             [
              0.3333333333333333,
              "#9c179e"
             ],
             [
              0.4444444444444444,
              "#bd3786"
             ],
             [
              0.5555555555555556,
              "#d8576b"
             ],
             [
              0.6666666666666666,
              "#ed7953"
             ],
             [
              0.7777777777777778,
              "#fb9f3a"
             ],
             [
              0.8888888888888888,
              "#fdca26"
             ],
             [
              1,
              "#f0f921"
             ]
            ],
            "type": "heatmap"
           }
          ],
          "heatmapgl": [
           {
            "colorbar": {
             "outlinewidth": 0,
             "ticks": ""
            },
            "colorscale": [
             [
              0,
              "#0d0887"
             ],
             [
              0.1111111111111111,
              "#46039f"
             ],
             [
              0.2222222222222222,
              "#7201a8"
             ],
             [
              0.3333333333333333,
              "#9c179e"
             ],
             [
              0.4444444444444444,
              "#bd3786"
             ],
             [
              0.5555555555555556,
              "#d8576b"
             ],
             [
              0.6666666666666666,
              "#ed7953"
             ],
             [
              0.7777777777777778,
              "#fb9f3a"
             ],
             [
              0.8888888888888888,
              "#fdca26"
             ],
             [
              1,
              "#f0f921"
             ]
            ],
            "type": "heatmapgl"
           }
          ],
          "histogram": [
           {
            "marker": {
             "pattern": {
              "fillmode": "overlay",
              "size": 10,
              "solidity": 0.2
             }
            },
            "type": "histogram"
           }
          ],
          "histogram2d": [
           {
            "colorbar": {
             "outlinewidth": 0,
             "ticks": ""
            },
            "colorscale": [
             [
              0,
              "#0d0887"
             ],
             [
              0.1111111111111111,
              "#46039f"
             ],
             [
              0.2222222222222222,
              "#7201a8"
             ],
             [
              0.3333333333333333,
              "#9c179e"
             ],
             [
              0.4444444444444444,
              "#bd3786"
             ],
             [
              0.5555555555555556,
              "#d8576b"
             ],
             [
              0.6666666666666666,
              "#ed7953"
             ],
             [
              0.7777777777777778,
              "#fb9f3a"
             ],
             [
              0.8888888888888888,
              "#fdca26"
             ],
             [
              1,
              "#f0f921"
             ]
            ],
            "type": "histogram2d"
           }
          ],
          "histogram2dcontour": [
           {
            "colorbar": {
             "outlinewidth": 0,
             "ticks": ""
            },
            "colorscale": [
             [
              0,
              "#0d0887"
             ],
             [
              0.1111111111111111,
              "#46039f"
             ],
             [
              0.2222222222222222,
              "#7201a8"
             ],
             [
              0.3333333333333333,
              "#9c179e"
             ],
             [
              0.4444444444444444,
              "#bd3786"
             ],
             [
              0.5555555555555556,
              "#d8576b"
             ],
             [
              0.6666666666666666,
              "#ed7953"
             ],
             [
              0.7777777777777778,
              "#fb9f3a"
             ],
             [
              0.8888888888888888,
              "#fdca26"
             ],
             [
              1,
              "#f0f921"
             ]
            ],
            "type": "histogram2dcontour"
           }
          ],
          "mesh3d": [
           {
            "colorbar": {
             "outlinewidth": 0,
             "ticks": ""
            },
            "type": "mesh3d"
           }
          ],
          "parcoords": [
           {
            "line": {
             "colorbar": {
              "outlinewidth": 0,
              "ticks": ""
             }
            },
            "type": "parcoords"
           }
          ],
          "pie": [
           {
            "automargin": true,
            "type": "pie"
           }
          ],
          "scatter": [
           {
            "fillpattern": {
             "fillmode": "overlay",
             "size": 10,
             "solidity": 0.2
            },
            "type": "scatter"
           }
          ],
          "scatter3d": [
           {
            "line": {
             "colorbar": {
              "outlinewidth": 0,
              "ticks": ""
             }
            },
            "marker": {
             "colorbar": {
              "outlinewidth": 0,
              "ticks": ""
             }
            },
            "type": "scatter3d"
           }
          ],
          "scattercarpet": [
           {
            "marker": {
             "colorbar": {
              "outlinewidth": 0,
              "ticks": ""
             }
            },
            "type": "scattercarpet"
           }
          ],
          "scattergeo": [
           {
            "marker": {
             "colorbar": {
              "outlinewidth": 0,
              "ticks": ""
             }
            },
            "type": "scattergeo"
           }
          ],
          "scattergl": [
           {
            "marker": {
             "colorbar": {
              "outlinewidth": 0,
              "ticks": ""
             }
            },
            "type": "scattergl"
           }
          ],
          "scattermapbox": [
           {
            "marker": {
             "colorbar": {
              "outlinewidth": 0,
              "ticks": ""
             }
            },
            "type": "scattermapbox"
           }
          ],
          "scatterpolar": [
           {
            "marker": {
             "colorbar": {
              "outlinewidth": 0,
              "ticks": ""
             }
            },
            "type": "scatterpolar"
           }
          ],
          "scatterpolargl": [
           {
            "marker": {
             "colorbar": {
              "outlinewidth": 0,
              "ticks": ""
             }
            },
            "type": "scatterpolargl"
           }
          ],
          "scatterternary": [
           {
            "marker": {
             "colorbar": {
              "outlinewidth": 0,
              "ticks": ""
             }
            },
            "type": "scatterternary"
           }
          ],
          "surface": [
           {
            "colorbar": {
             "outlinewidth": 0,
             "ticks": ""
            },
            "colorscale": [
             [
              0,
              "#0d0887"
             ],
             [
              0.1111111111111111,
              "#46039f"
             ],
             [
              0.2222222222222222,
              "#7201a8"
             ],
             [
              0.3333333333333333,
              "#9c179e"
             ],
             [
              0.4444444444444444,
              "#bd3786"
             ],
             [
              0.5555555555555556,
              "#d8576b"
             ],
             [
              0.6666666666666666,
              "#ed7953"
             ],
             [
              0.7777777777777778,
              "#fb9f3a"
             ],
             [
              0.8888888888888888,
              "#fdca26"
             ],
             [
              1,
              "#f0f921"
             ]
            ],
            "type": "surface"
           }
          ],
          "table": [
           {
            "cells": {
             "fill": {
              "color": "#EBF0F8"
             },
             "line": {
              "color": "white"
             }
            },
            "header": {
             "fill": {
              "color": "#C8D4E3"
             },
             "line": {
              "color": "white"
             }
            },
            "type": "table"
           }
          ]
         },
         "layout": {
          "annotationdefaults": {
           "arrowcolor": "#2a3f5f",
           "arrowhead": 0,
           "arrowwidth": 1
          },
          "autotypenumbers": "strict",
          "coloraxis": {
           "colorbar": {
            "outlinewidth": 0,
            "ticks": ""
           }
          },
          "colorscale": {
           "diverging": [
            [
             0,
             "#8e0152"
            ],
            [
             0.1,
             "#c51b7d"
            ],
            [
             0.2,
             "#de77ae"
            ],
            [
             0.3,
             "#f1b6da"
            ],
            [
             0.4,
             "#fde0ef"
            ],
            [
             0.5,
             "#f7f7f7"
            ],
            [
             0.6,
             "#e6f5d0"
            ],
            [
             0.7,
             "#b8e186"
            ],
            [
             0.8,
             "#7fbc41"
            ],
            [
             0.9,
             "#4d9221"
            ],
            [
             1,
             "#276419"
            ]
           ],
           "sequential": [
            [
             0,
             "#0d0887"
            ],
            [
             0.1111111111111111,
             "#46039f"
            ],
            [
             0.2222222222222222,
             "#7201a8"
            ],
            [
             0.3333333333333333,
             "#9c179e"
            ],
            [
             0.4444444444444444,
             "#bd3786"
            ],
            [
             0.5555555555555556,
             "#d8576b"
            ],
            [
             0.6666666666666666,
             "#ed7953"
            ],
            [
             0.7777777777777778,
             "#fb9f3a"
            ],
            [
             0.8888888888888888,
             "#fdca26"
            ],
            [
             1,
             "#f0f921"
            ]
           ],
           "sequentialminus": [
            [
             0,
             "#0d0887"
            ],
            [
             0.1111111111111111,
             "#46039f"
            ],
            [
             0.2222222222222222,
             "#7201a8"
            ],
            [
             0.3333333333333333,
             "#9c179e"
            ],
            [
             0.4444444444444444,
             "#bd3786"
            ],
            [
             0.5555555555555556,
             "#d8576b"
            ],
            [
             0.6666666666666666,
             "#ed7953"
            ],
            [
             0.7777777777777778,
             "#fb9f3a"
            ],
            [
             0.8888888888888888,
             "#fdca26"
            ],
            [
             1,
             "#f0f921"
            ]
           ]
          },
          "colorway": [
           "#636efa",
           "#EF553B",
           "#00cc96",
           "#ab63fa",
           "#FFA15A",
           "#19d3f3",
           "#FF6692",
           "#B6E880",
           "#FF97FF",
           "#FECB52"
          ],
          "font": {
           "color": "#2a3f5f"
          },
          "geo": {
           "bgcolor": "white",
           "lakecolor": "white",
           "landcolor": "#E5ECF6",
           "showlakes": true,
           "showland": true,
           "subunitcolor": "white"
          },
          "hoverlabel": {
           "align": "left"
          },
          "hovermode": "closest",
          "mapbox": {
           "style": "light"
          },
          "paper_bgcolor": "white",
          "plot_bgcolor": "#E5ECF6",
          "polar": {
           "angularaxis": {
            "gridcolor": "white",
            "linecolor": "white",
            "ticks": ""
           },
           "bgcolor": "#E5ECF6",
           "radialaxis": {
            "gridcolor": "white",
            "linecolor": "white",
            "ticks": ""
           }
          },
          "scene": {
           "xaxis": {
            "backgroundcolor": "#E5ECF6",
            "gridcolor": "white",
            "gridwidth": 2,
            "linecolor": "white",
            "showbackground": true,
            "ticks": "",
            "zerolinecolor": "white"
           },
           "yaxis": {
            "backgroundcolor": "#E5ECF6",
            "gridcolor": "white",
            "gridwidth": 2,
            "linecolor": "white",
            "showbackground": true,
            "ticks": "",
            "zerolinecolor": "white"
           },
           "zaxis": {
            "backgroundcolor": "#E5ECF6",
            "gridcolor": "white",
            "gridwidth": 2,
            "linecolor": "white",
            "showbackground": true,
            "ticks": "",
            "zerolinecolor": "white"
           }
          },
          "shapedefaults": {
           "line": {
            "color": "#2a3f5f"
           }
          },
          "ternary": {
           "aaxis": {
            "gridcolor": "white",
            "linecolor": "white",
            "ticks": ""
           },
           "baxis": {
            "gridcolor": "white",
            "linecolor": "white",
            "ticks": ""
           },
           "bgcolor": "#E5ECF6",
           "caxis": {
            "gridcolor": "white",
            "linecolor": "white",
            "ticks": ""
           }
          },
          "title": {
           "x": 0.05
          },
          "xaxis": {
           "automargin": true,
           "gridcolor": "white",
           "linecolor": "white",
           "ticks": "",
           "title": {
            "standoff": 15
           },
           "zerolinecolor": "white",
           "zerolinewidth": 2
          },
          "yaxis": {
           "automargin": true,
           "gridcolor": "white",
           "linecolor": "white",
           "ticks": "",
           "title": {
            "standoff": 15
           },
           "zerolinecolor": "white",
           "zerolinewidth": 2
          }
         }
        },
        "xaxis": {
         "anchor": "y",
         "domain": [
          0,
          1
         ],
         "title": {
          "text": "x"
         }
        },
        "yaxis": {
         "anchor": "x",
         "domain": [
          0,
          1
         ],
         "title": {
          "text": "y"
         }
        }
       }
      },
      "text/html": [
       "<div>                            <div id=\"291b87a6-f879-4b49-9d55-56c4579e5e8c\" class=\"plotly-graph-div\" style=\"height:525px; width:100%;\"></div>            <script type=\"text/javascript\">                require([\"plotly\"], function(Plotly) {                    window.PLOTLYENV=window.PLOTLYENV || {};                                    if (document.getElementById(\"291b87a6-f879-4b49-9d55-56c4579e5e8c\")) {                    Plotly.newPlot(                        \"291b87a6-f879-4b49-9d55-56c4579e5e8c\",                        [{\"hovertemplate\":\"x=%{x}\\u003cbr\\u003ey=%{y}\\u003cextra\\u003e\\u003c\\u002fextra\\u003e\",\"legendgroup\":\"\",\"marker\":{\"color\":\"#636efa\",\"symbol\":\"circle\"},\"mode\":\"markers\",\"name\":\"\",\"orientation\":\"v\",\"showlegend\":false,\"x\":[2.35538259262203,45.9037104441366,45.1535695143685,-17.7625949680982,-83.7688418794276,-24.0729358224361,-42.6711274433544,-33.1451945738965,-17.8788749644252,-12.7376844324645,-20.9403555788531,-35.1363144726168,-62.4038052240736,-130.896990486003,-193.400474677253,-121.592759783388,-31.7063926526143,-60.5670028087316,-83.358430519057,-153.37834598576,-231.849663384719,-328.207006334098,18.7134022641478,42.9587614136265,35.1344377188505,-24.9074312954202,-95.6808127134385,-116.947674156568,-3.06862875971459,1.98529255308806,48.9640652450793,84.7578647226938,67.4293549165892,-3.61279699574552,-2.03295266498698,-33.6864941507701,-38.1896420340488,-26.9261799003655,-21.9463458380181,-52.8966202177865,-91.9214365734024,-9.36416772713851,-18.4512546626684,-45.4756986924906,-68.5325569700474,-88.5536473751372,-94.7669697594467,-22.7388385816899,-47.4517687377838,-69.8169304298792,-90.0406375480751,-107.97753073094,-114.244078690909,26.3440541335215,32.8869664918336,42.7862915611331,49.3844747916062,32.6669547774739,0.39061215088779,-19.4722427488062,0.224453737554749,5.65417786558605,2.66824948413015,-4.56192824352856,-7.38419813145678,-4.39497415713289,8.03151243358299,-36.2002791189435,-11.8575963080258,47.8736581608601,26.4378227351098,-19.6809773542621,-48.8667510599725,-15.2311925089288,3.44617591770861,6.0337575299948,20.3603225662973,20.4358612168337,11.8690250921406,-2.92593492228055,-6.19375600467684,-31.4204763111921,-53.9159127487539,-29.6166339452737,52.4018033825614,74.5028780530032,12.3144694583703,-12.3174204117299,-16.7900965691726,-37.6167053023982,-47.5572630083941,-37.4424532597756,-12.5916303614965,3.97407156185629,-12.8530107175536,-27.5858805183396,-35.0100252487067,-44.1604387654114,-34.255263879613,26.9797190050589,20.302400125087,5.57565119694045,-3.29612620594312,-15.5719480401827,-59.3060147622318,-64.363351783576,-4.40728943669924,-22.4926014717783,25.703719903002,97.4262283935053,109.403302266146,-26.2688537498416,-18.3407399996175,-40.6181122399717,-74.3143756084572,-55.8045769253499,-23.6151505621961,2.59787228776195,-7.32422270489368,-2.81034159920216,20.2615933424694,29.4415940469391,6.49620323672842,-35.7116066561301,-85.9933150337055,-7.99107963801633,7.52019525602192,-6.46029846927711,-12.2152464474666,-4.41013035490414,8.4991310006392,0.549579942540352,87.1579619786723,238.614649863432,144.592500433721,-330.311654482902,19.0499698355655,2.63877146567613,11.8011016523739,16.0001248664901,48.9798546264776,64.5029804384066,-21.1133895204177,-2.20566290118162,11.1781515016101,5.83501025125606,5.24767774136324,3.66808352152975,27.147487066833,3.00959592226227,3.99459932912928,2.61044092948592,-18.7069670274885,11.4233301524878,196.39521968663,161.237818827929,-14.9123305643345,-42.3528020695363,-61.1023173728342,-53.7312461714399,-60.7427321142488,-67.5690022537608,-59.9826629330447,-7.36289168171676,-15.394227514649,28.7102530522417,41.5583476425587,49.8686368152668,8.39954647701776,17.2719166814625,23.1591082175395,10.5498777380614,11.9637203709026,21.134092854188,21.6036005777652,35.3151337044734,103.1757454337,53.4660129282302,-31.8770061054477,-58.789539952686,-9.41637971489885,-28.8545780552474,-26.0111986401554,-24.9109385208967,-9.14161830865686,-13.0890574104804,-24.3147662233768,25.1755563699344,23.1337179981977,12.4068425083922,2.38380164568248,-5.28825635914528,-6.46294069656818,0.95976565262715,-53.3130522807215,-52.1079266545677,-17.3760194227233,17.6475890244978,19.1669076512589,-32.0377682025702,2.27554561350045,36.0696227817608,13.2699317343881,-24.9639114254203,-23.4700904279972,10.3473865370409,-2.76003183657635,-12.2951197987682,-17.1860885763213,-6.45970335720654,7.16488696002125,14.4206091350064,-1.5676702453516,-3.01647495011793,-31.9861678618357,-68.5762828326176,-38.119867378914,14.7828580238755,35.2557869728458,4.95543795553476,34.3307332668763,45.1684089532617,43.2693442415558,31.3998842416038,19.2864392264331,0.0777761779560525,26.3221940544877,38.831601530493,33.5531306559796,4.32108030485113,0.364843488217133,14.6204862382673,14.3464764597324,14.9005052940325,25.7442999245129,13.0901442610518,-12.4131683300857,-42.0884784418971,-8.54008170959561,8.04837685498333,26.6777403294019,47.8821336776033,36.0150731090904,29.6297960240712,18.3129835061662,-6.58547847660907,-30.8899177222483,-19.4027448566943,-15.016371007281,-17.8255162418432,10.8099712069455,44.7363619938557,-1.02690895754294,31.9766874790905,46.2293953781523,25.4275716465943,14.2849952750291,25.0266350752914,46.5206253872903,8.56738645727426,30.0787936913044,32.7715473941341,35.4762238325405,18.8994047826974,-3.24571519302553,-8.766422801696,-14.6118141972248,-8.57525112562018,54.9311061912516,78.8360664703134,29.2235922650774,-24.36050931292,-39.1546695120312,8.29120034533586,4.02426493903202,-4.31319407635186,-1.02598770907768,-3.30290344484123,-1.80484892936574,-42.216187949545,-50.001542241174,-51.9821757268642,-34.9888369715627,1.33985823963987,19.9690346552645,20.0571252242049,-24.9606422948012,-12.0488347428223,-14.2589209458796,-20.8796847621446,-25.5417427688381,-11.2255054189125,2.00897220112352,-23.33326135194,-24.8923428298577,-0.828470139179829,9.66833116187188,18.1730893724726,48.033433305277,47.8384038197476],\"xaxis\":\"x\",\"y\":[-28.5049270297964,-9.25482758672267,11.4671668539991,7.58934023489402,9.58763822669017,-15.1518196851637,-5.87177673926499,-8.46822092206666,0.741882607775409,10.1330927721447,6.54835252465787,10.811868039541,12.6219281643371,6.29956888272039,12.6343506036726,8.37572610251672,-15.0451246196668,-6.72336565331982,4.26234932509716,5.942712180101,9.89783288410401,9.0352022196199,-26.6454699084329,-3.15242209709977,-6.04373111345512,1.38427498044875,5.29863991395953,4.83879571456259,8.37928775614368,23.0479206932275,24.9408701733839,19.3591165702629,11.6613897097151,10.4719064565829,3.92218475199391,-34.4755931114312,-16.089442430489,4.7353845099716,3.48756412292239,-1.33168606355351,9.24431677514328,-4.03825812793281,-0.0127628981290471,8.27138048245027,5.35771851124252,1.2114196029454,4.38195627002496,-18.8707453603393,-0.551715053042983,9.39275081802253,9.28768945993038,6.45848647152344,4.82659113728171,30.6909451334319,25.2373241823837,18.4790665973891,11.5540081403992,0.229784449377391,2.47691998513882,12.4149670547848,18.4373561995228,21.2291501634753,16.7091641834189,9.94562677495569,3.22261292243179,9.89200428704045,0.708895352197004,-3.98211725441395,16.0409834999789,30.0416605215649,23.4472722314034,11.4066187053077,9.47480023141833,11.1819878591879,3.92615914913315,11.5082499006972,7.1961671331519,11.0575202679318,2.63924691315003,-4.18332712071303,-4.24241104142757,-17.4487610359417,-18.2749604611364,-5.55182569588465,4.53082553555313,-1.84668418087632,-21.3694233754034,-16.4555042471682,-11.1479851829298,-5.56827102538198,6.07744735730633,3.73839010276141,11.605745514651,19.2636802391597,14.7122203837527,12.1721202738655,8.72077183828306,3.31220099860487,-1.49702096509486,21.8365272778885,21.2591079096366,15.0676322875762,3.89333430618714,5.05291216149951,3.33622937858128,2.21864320518497,-18.1507321219336,0.856322359568757,11.0652844658975,12.2714246344804,3.85697190263608,-9.89099315306677,5.21497704641241,9.52045057689419,9.79365752258444,1.1024825201909,-1.71230458541824,4.90039330372656,8.4243192521195,23.2538803011038,24.4495894792066,23.5314418237451,16.6141099431489,15.2397849982149,8.15505807001882,-26.5110267238868,-17.8152337154357,9.80399393403288,15.9633075590017,13.5482285540048,10.9674472107934,6.78351626174026,-3.25398526380206,1.65449380998911,3.47109709489284,-1.1296862328614,17.0730891496859,21.6795579166217,13.7449889112552,9.62551921736708,13.3988312631259,-1.64456137647596,0.993417662231074,10.2818813266411,2.599677175552,5.12380249440302,5.00912516639245,4.61815966524337,8.46504117152728,-23.9314464232278,-4.41731044544183,5.57465443021681,0.567473425103259,-1.13660719955666,0.185764216228179,-9.9239380907812,-8.04909511868244,3.84648309854933,2.6929578115302,7.25886257423875,2.81361736961685,-2.80076163335877,-10.5757565048856,-38.9150196904867,-31.278943617524,-18.8165735819026,-11.0400607928447,4.86988216916696,17.7437549399728,16.5289069852287,12.946825691979,-1.63153636761816,-1.80806059501236,-13.9509001980534,-10.0043985817277,-12.512797331177,-11.3454755957477,-14.1703929246025,-1.05755204807478,-14.2264928381315,-34.7316848566607,-20.6721823576364,-18.2617804704502,-25.9283818488343,-34.5742404113454,-21.7972464147065,-18.2935443042901,22.2299535695349,20.73929397058,9.00266639309591,5.77567274571874,-0.644556149337319,-8.92528699682843,-3.98722834437007,-22.8235369191641,-7.41260620087782,13.8272879385427,-4.2290049998272,-0.0270334033766204,-27.3990135988523,-24.1554222699767,-22.3237617521358,-26.9540753816885,-16.960289825746,-4.71267587554884,12.4237544570511,14.8579946883421,10.6349683914764,-1.60109759508604,-6.24960816270303,-4.50889803630838,1.01976111716961,-8.4389711036406,-8.68982246625474,-5.33832385300232,-4.43109245897922,-4.14791324744876,-2.52738802090012,-4.8719697508324,-23.4720343953901,-3.06056319558062,0.0503487435044363,3.28045109881901,-1.67426150938228,3.87182415324629,-1.92379265596195,-7.0843810349917,-5.49582485690637,-5.06859872141715,-0.768457708663192,-6.89530476303518,16.8890853854461,22.0141609687897,25.0574612501309,6.92384018522601,-1.86157103175113,-4.518088353831,9.68244192228471,-36.2560723172987,-12.0535629809708,-12.551951979995,-7.90751352267908,0.823646282186317,0.356505711741292,-4.50217483112955,-41.0869198818865,-39.5029921385306,-35.9558423869978,-25.2980680584607,-12.9624705962992,-10.2294024473493,-8.88265234785006,-2.52975215010916,3.41103953693483,5.48711398977356,-3.7346337711587,1.37159256939503,-3.86941356154765,1.90501089193874,10.4704401761631,27.2234224730421,20.2113119584339,19.4047818538849,5.66460601637567,3.8434843990502,-4.01267022518479,11.9116587267464,17.7767883227353,12.4429259892432,12.2707095862753,-1.96270772585089,-11.9801468654297,1.95128538998412,-4.99834641693066,28.8101007240316,13.6807376316356,13.4279031752588,-9.73837147218498,7.28834347233177,-26.9795424707877,-50.2278013756437,-57.0433119186431,-58.3565274264648,-50.1822819608467,-35.5135962682099,-13.4397821501118,-52.5021717524072,-44.0952504333918,-12.0504696632351,2.35979798765497,10.4745000059171,9.38855894491363,-3.75821960733397,-48.4898326278607,-48.6960127915172,-49.7433413166114,-39.0829114511128,-10.0092936934856,-9.24835321663394,-6.12553412175131],\"yaxis\":\"y\",\"type\":\"scatter\"}],                        {\"template\":{\"data\":{\"histogram2dcontour\":[{\"type\":\"histogram2dcontour\",\"colorbar\":{\"outlinewidth\":0,\"ticks\":\"\"},\"colorscale\":[[0.0,\"#0d0887\"],[0.1111111111111111,\"#46039f\"],[0.2222222222222222,\"#7201a8\"],[0.3333333333333333,\"#9c179e\"],[0.4444444444444444,\"#bd3786\"],[0.5555555555555556,\"#d8576b\"],[0.6666666666666666,\"#ed7953\"],[0.7777777777777778,\"#fb9f3a\"],[0.8888888888888888,\"#fdca26\"],[1.0,\"#f0f921\"]]}],\"choropleth\":[{\"type\":\"choropleth\",\"colorbar\":{\"outlinewidth\":0,\"ticks\":\"\"}}],\"histogram2d\":[{\"type\":\"histogram2d\",\"colorbar\":{\"outlinewidth\":0,\"ticks\":\"\"},\"colorscale\":[[0.0,\"#0d0887\"],[0.1111111111111111,\"#46039f\"],[0.2222222222222222,\"#7201a8\"],[0.3333333333333333,\"#9c179e\"],[0.4444444444444444,\"#bd3786\"],[0.5555555555555556,\"#d8576b\"],[0.6666666666666666,\"#ed7953\"],[0.7777777777777778,\"#fb9f3a\"],[0.8888888888888888,\"#fdca26\"],[1.0,\"#f0f921\"]]}],\"heatmap\":[{\"type\":\"heatmap\",\"colorbar\":{\"outlinewidth\":0,\"ticks\":\"\"},\"colorscale\":[[0.0,\"#0d0887\"],[0.1111111111111111,\"#46039f\"],[0.2222222222222222,\"#7201a8\"],[0.3333333333333333,\"#9c179e\"],[0.4444444444444444,\"#bd3786\"],[0.5555555555555556,\"#d8576b\"],[0.6666666666666666,\"#ed7953\"],[0.7777777777777778,\"#fb9f3a\"],[0.8888888888888888,\"#fdca26\"],[1.0,\"#f0f921\"]]}],\"heatmapgl\":[{\"type\":\"heatmapgl\",\"colorbar\":{\"outlinewidth\":0,\"ticks\":\"\"},\"colorscale\":[[0.0,\"#0d0887\"],[0.1111111111111111,\"#46039f\"],[0.2222222222222222,\"#7201a8\"],[0.3333333333333333,\"#9c179e\"],[0.4444444444444444,\"#bd3786\"],[0.5555555555555556,\"#d8576b\"],[0.6666666666666666,\"#ed7953\"],[0.7777777777777778,\"#fb9f3a\"],[0.8888888888888888,\"#fdca26\"],[1.0,\"#f0f921\"]]}],\"contourcarpet\":[{\"type\":\"contourcarpet\",\"colorbar\":{\"outlinewidth\":0,\"ticks\":\"\"}}],\"contour\":[{\"type\":\"contour\",\"colorbar\":{\"outlinewidth\":0,\"ticks\":\"\"},\"colorscale\":[[0.0,\"#0d0887\"],[0.1111111111111111,\"#46039f\"],[0.2222222222222222,\"#7201a8\"],[0.3333333333333333,\"#9c179e\"],[0.4444444444444444,\"#bd3786\"],[0.5555555555555556,\"#d8576b\"],[0.6666666666666666,\"#ed7953\"],[0.7777777777777778,\"#fb9f3a\"],[0.8888888888888888,\"#fdca26\"],[1.0,\"#f0f921\"]]}],\"surface\":[{\"type\":\"surface\",\"colorbar\":{\"outlinewidth\":0,\"ticks\":\"\"},\"colorscale\":[[0.0,\"#0d0887\"],[0.1111111111111111,\"#46039f\"],[0.2222222222222222,\"#7201a8\"],[0.3333333333333333,\"#9c179e\"],[0.4444444444444444,\"#bd3786\"],[0.5555555555555556,\"#d8576b\"],[0.6666666666666666,\"#ed7953\"],[0.7777777777777778,\"#fb9f3a\"],[0.8888888888888888,\"#fdca26\"],[1.0,\"#f0f921\"]]}],\"mesh3d\":[{\"type\":\"mesh3d\",\"colorbar\":{\"outlinewidth\":0,\"ticks\":\"\"}}],\"scatter\":[{\"fillpattern\":{\"fillmode\":\"overlay\",\"size\":10,\"solidity\":0.2},\"type\":\"scatter\"}],\"parcoords\":[{\"type\":\"parcoords\",\"line\":{\"colorbar\":{\"outlinewidth\":0,\"ticks\":\"\"}}}],\"scatterpolargl\":[{\"type\":\"scatterpolargl\",\"marker\":{\"colorbar\":{\"outlinewidth\":0,\"ticks\":\"\"}}}],\"bar\":[{\"error_x\":{\"color\":\"#2a3f5f\"},\"error_y\":{\"color\":\"#2a3f5f\"},\"marker\":{\"line\":{\"color\":\"#E5ECF6\",\"width\":0.5},\"pattern\":{\"fillmode\":\"overlay\",\"size\":10,\"solidity\":0.2}},\"type\":\"bar\"}],\"scattergeo\":[{\"type\":\"scattergeo\",\"marker\":{\"colorbar\":{\"outlinewidth\":0,\"ticks\":\"\"}}}],\"scatterpolar\":[{\"type\":\"scatterpolar\",\"marker\":{\"colorbar\":{\"outlinewidth\":0,\"ticks\":\"\"}}}],\"histogram\":[{\"marker\":{\"pattern\":{\"fillmode\":\"overlay\",\"size\":10,\"solidity\":0.2}},\"type\":\"histogram\"}],\"scattergl\":[{\"type\":\"scattergl\",\"marker\":{\"colorbar\":{\"outlinewidth\":0,\"ticks\":\"\"}}}],\"scatter3d\":[{\"type\":\"scatter3d\",\"line\":{\"colorbar\":{\"outlinewidth\":0,\"ticks\":\"\"}},\"marker\":{\"colorbar\":{\"outlinewidth\":0,\"ticks\":\"\"}}}],\"scattermapbox\":[{\"type\":\"scattermapbox\",\"marker\":{\"colorbar\":{\"outlinewidth\":0,\"ticks\":\"\"}}}],\"scatterternary\":[{\"type\":\"scatterternary\",\"marker\":{\"colorbar\":{\"outlinewidth\":0,\"ticks\":\"\"}}}],\"scattercarpet\":[{\"type\":\"scattercarpet\",\"marker\":{\"colorbar\":{\"outlinewidth\":0,\"ticks\":\"\"}}}],\"carpet\":[{\"aaxis\":{\"endlinecolor\":\"#2a3f5f\",\"gridcolor\":\"white\",\"linecolor\":\"white\",\"minorgridcolor\":\"white\",\"startlinecolor\":\"#2a3f5f\"},\"baxis\":{\"endlinecolor\":\"#2a3f5f\",\"gridcolor\":\"white\",\"linecolor\":\"white\",\"minorgridcolor\":\"white\",\"startlinecolor\":\"#2a3f5f\"},\"type\":\"carpet\"}],\"table\":[{\"cells\":{\"fill\":{\"color\":\"#EBF0F8\"},\"line\":{\"color\":\"white\"}},\"header\":{\"fill\":{\"color\":\"#C8D4E3\"},\"line\":{\"color\":\"white\"}},\"type\":\"table\"}],\"barpolar\":[{\"marker\":{\"line\":{\"color\":\"#E5ECF6\",\"width\":0.5},\"pattern\":{\"fillmode\":\"overlay\",\"size\":10,\"solidity\":0.2}},\"type\":\"barpolar\"}],\"pie\":[{\"automargin\":true,\"type\":\"pie\"}]},\"layout\":{\"autotypenumbers\":\"strict\",\"colorway\":[\"#636efa\",\"#EF553B\",\"#00cc96\",\"#ab63fa\",\"#FFA15A\",\"#19d3f3\",\"#FF6692\",\"#B6E880\",\"#FF97FF\",\"#FECB52\"],\"font\":{\"color\":\"#2a3f5f\"},\"hovermode\":\"closest\",\"hoverlabel\":{\"align\":\"left\"},\"paper_bgcolor\":\"white\",\"plot_bgcolor\":\"#E5ECF6\",\"polar\":{\"bgcolor\":\"#E5ECF6\",\"angularaxis\":{\"gridcolor\":\"white\",\"linecolor\":\"white\",\"ticks\":\"\"},\"radialaxis\":{\"gridcolor\":\"white\",\"linecolor\":\"white\",\"ticks\":\"\"}},\"ternary\":{\"bgcolor\":\"#E5ECF6\",\"aaxis\":{\"gridcolor\":\"white\",\"linecolor\":\"white\",\"ticks\":\"\"},\"baxis\":{\"gridcolor\":\"white\",\"linecolor\":\"white\",\"ticks\":\"\"},\"caxis\":{\"gridcolor\":\"white\",\"linecolor\":\"white\",\"ticks\":\"\"}},\"coloraxis\":{\"colorbar\":{\"outlinewidth\":0,\"ticks\":\"\"}},\"colorscale\":{\"sequential\":[[0.0,\"#0d0887\"],[0.1111111111111111,\"#46039f\"],[0.2222222222222222,\"#7201a8\"],[0.3333333333333333,\"#9c179e\"],[0.4444444444444444,\"#bd3786\"],[0.5555555555555556,\"#d8576b\"],[0.6666666666666666,\"#ed7953\"],[0.7777777777777778,\"#fb9f3a\"],[0.8888888888888888,\"#fdca26\"],[1.0,\"#f0f921\"]],\"sequentialminus\":[[0.0,\"#0d0887\"],[0.1111111111111111,\"#46039f\"],[0.2222222222222222,\"#7201a8\"],[0.3333333333333333,\"#9c179e\"],[0.4444444444444444,\"#bd3786\"],[0.5555555555555556,\"#d8576b\"],[0.6666666666666666,\"#ed7953\"],[0.7777777777777778,\"#fb9f3a\"],[0.8888888888888888,\"#fdca26\"],[1.0,\"#f0f921\"]],\"diverging\":[[0,\"#8e0152\"],[0.1,\"#c51b7d\"],[0.2,\"#de77ae\"],[0.3,\"#f1b6da\"],[0.4,\"#fde0ef\"],[0.5,\"#f7f7f7\"],[0.6,\"#e6f5d0\"],[0.7,\"#b8e186\"],[0.8,\"#7fbc41\"],[0.9,\"#4d9221\"],[1,\"#276419\"]]},\"xaxis\":{\"gridcolor\":\"white\",\"linecolor\":\"white\",\"ticks\":\"\",\"title\":{\"standoff\":15},\"zerolinecolor\":\"white\",\"automargin\":true,\"zerolinewidth\":2},\"yaxis\":{\"gridcolor\":\"white\",\"linecolor\":\"white\",\"ticks\":\"\",\"title\":{\"standoff\":15},\"zerolinecolor\":\"white\",\"automargin\":true,\"zerolinewidth\":2},\"scene\":{\"xaxis\":{\"backgroundcolor\":\"#E5ECF6\",\"gridcolor\":\"white\",\"linecolor\":\"white\",\"showbackground\":true,\"ticks\":\"\",\"zerolinecolor\":\"white\",\"gridwidth\":2},\"yaxis\":{\"backgroundcolor\":\"#E5ECF6\",\"gridcolor\":\"white\",\"linecolor\":\"white\",\"showbackground\":true,\"ticks\":\"\",\"zerolinecolor\":\"white\",\"gridwidth\":2},\"zaxis\":{\"backgroundcolor\":\"#E5ECF6\",\"gridcolor\":\"white\",\"linecolor\":\"white\",\"showbackground\":true,\"ticks\":\"\",\"zerolinecolor\":\"white\",\"gridwidth\":2}},\"shapedefaults\":{\"line\":{\"color\":\"#2a3f5f\"}},\"annotationdefaults\":{\"arrowcolor\":\"#2a3f5f\",\"arrowhead\":0,\"arrowwidth\":1},\"geo\":{\"bgcolor\":\"white\",\"landcolor\":\"#E5ECF6\",\"subunitcolor\":\"white\",\"showland\":true,\"showlakes\":true,\"lakecolor\":\"white\"},\"title\":{\"x\":0.05},\"mapbox\":{\"style\":\"light\"}}},\"xaxis\":{\"anchor\":\"y\",\"domain\":[0.0,1.0],\"title\":{\"text\":\"x\"}},\"yaxis\":{\"anchor\":\"x\",\"domain\":[0.0,1.0],\"title\":{\"text\":\"y\"}},\"legend\":{\"tracegroupgap\":0},\"margin\":{\"t\":60}},                        {\"responsive\": true}                    ).then(function(){\n",
       "                            \n",
       "var gd = document.getElementById('291b87a6-f879-4b49-9d55-56c4579e5e8c');\n",
       "var x = new MutationObserver(function (mutations, observer) {{\n",
       "        var display = window.getComputedStyle(gd).display;\n",
       "        if (!display || display === 'none') {{\n",
       "            console.log([gd, 'removed!']);\n",
       "            Plotly.purge(gd);\n",
       "            observer.disconnect();\n",
       "        }}\n",
       "}});\n",
       "\n",
       "// Listen for the removal of the full notebook cells\n",
       "var notebookContainer = gd.closest('#notebook-container');\n",
       "if (notebookContainer) {{\n",
       "    x.observe(notebookContainer, {childList: true});\n",
       "}}\n",
       "\n",
       "// Listen for the clearing of the current output cell\n",
       "var outputEl = gd.closest('.output');\n",
       "if (outputEl) {{\n",
       "    x.observe(outputEl, {childList: true});\n",
       "}}\n",
       "\n",
       "                        })                };                });            </script>        </div>"
      ]
     },
     "metadata": {},
     "output_type": "display_data"
    }
   ],
   "source": [
    "for i in [0.001, 0.003, 0.1, 0.3, 1, 3, 10, 30]:\n",
    "    y_pred = pd.read_csv(f'./fof/data/r/cross_validation_output/y_pred_final_{i}.csv')['x'].to_numpy()\n",
    "    y_true = pd.read_csv(f'./fof/data/r/cross_validation_output/y_true_standartized_final_{i}.csv')['x'].to_numpy()\n",
    "    print(i)\n",
    "    fig = px.scatter(x=y_pred, y=y_true)\n",
    "    fig.show()"
   ]
  },
  {
   "cell_type": "code",
   "execution_count": 22,
   "id": "7b09f509",
   "metadata": {},
   "outputs": [],
   "source": []
  },
  {
   "cell_type": "code",
   "execution_count": 25,
   "id": "243644de",
   "metadata": {},
   "outputs": [
    {
     "data": {
      "application/vnd.plotly.v1+json": {
       "config": {
        "plotlyServerURL": "https://plot.ly"
       },
       "data": [
        {
         "hovertemplate": "x=%{x}<br>y=%{y}<extra></extra>",
         "legendgroup": "",
         "marker": {
          "color": "#636efa",
          "symbol": "circle"
         },
         "mode": "markers",
         "name": "",
         "orientation": "v",
         "showlegend": false,
         "type": "scatter",
         "x": [
          -29.6519007263013,
          -10.6394174079773,
          10.5217192728905,
          7.0905963789351,
          9.11024940853355,
          -16.3398673490506,
          -7.21745869036639,
          -9.34925130242794,
          0.259678504538996,
          9.65438643093141,
          6.39110902300939,
          9.87692962707074,
          11.3616725110819,
          5.97837652893622,
          11.7005083572399,
          8.24707606276873,
          -15.1088909769907,
          -7.59610506770308,
          3.02302516808669,
          5.62888157944128,
          8.97060058385387,
          8.90495924239099,
          -26.6901027938245,
          -4.00948841690754,
          -7.24733415045382,
          1.0814550976626,
          4.38251677547302,
          4.71868898493042,
          8.06061396743171,
          22.1868458877053,
          24.687989525773,
          18.4578581361758,
          10.5589264937639,
          9.51338113688216,
          3.18825880048796,
          -34.4701579189023,
          -16.9408624782267,
          3.65343293712447,
          3.17966383157953,
          -2.31671374540518,
          9.11356869029231,
          -4.14438843978037,
          -0.911414207312696,
          7.18088785652953,
          5.04530093876846,
          0.231902148792983,
          4.21931078624104,
          12.4758634125578,
          9.0729523180891,
          9.9670138294611,
          1.73671410848148,
          1.97707512477008,
          1.17747989736134,
          6.56404689399081,
          -18.9397682884878,
          -1.53072334267705,
          8.29954956810283,
          8.96577920400539,
          5.465446323772,
          4.65042295989875,
          -8.34366978250691,
          4.10490593449131,
          7.60184394147559,
          10.9265577292522,
          11.6364890525735,
          5.20026240426419,
          10.7518279376217,
          30.3129275267532,
          24.3860000684212,
          18.2303312888924,
          10.6716026252248,
          -0.845066193481159,
          1.57520901384594,
          11.9528412822547,
          18.0983867892657,
          20.3917115037623,
          16.464704001526,
          9.06710623892484,
          2.1405332252905,
          9.16912184044799,
          0.148479901403761,
          -4.25408261763214,
          15.1844092813231,
          29.7649962422369,
          22.5361390251879,
          10.304770878256,
          8.75292552409066,
          10.5962750834985,
          3.64495344626035,
          10.7168869592504,
          6.97468520500367,
          10.1763139988261,
          1.55857631264951,
          -4.87221118226262,
          -4.79086681494154,
          -18.7476696161873,
          -19.4661745840455,
          -6.48172800965921,
          4.2437986767461,
          -2.53256008598048,
          -21.3781218551976,
          -17.396097587058,
          -12.1915711284994,
          -6.03692221298451,
          5.26338476879232,
          3.54958334261407,
          -0.76709268121359,
          14.9180037843504,
          22.6709607231586,
          4.57369595301027,
          3.42633067325303,
          4.67383837360458,
          -0.0169329933218592,
          11.2878156835588,
          18.5743686001921,
          14.4725837376078,
          11.2882217342141,
          7.66558645338168,
          2.60521179667046,
          -2.0521081156048,
          21.4891458711782,
          20.5649763970689,
          14.8271371585718,
          3.02943283409051,
          4.00658634103479,
          2.6291821370817,
          1.6545810204473,
          -19.4479451198458,
          -0.38110259140975,
          9.941793591779,
          11.9626176520213,
          3.15731905047029,
          -10.1236299967019,
          4.55959947312778,
          9.29335443752919,
          8.9155040620424,
          0.0656988003090646,
          -2.32543995091946,
          4.13152608279985,
          8.10459649719861,
          22.5549304977354,
          24.1864326178553,
          22.6201053093355,
          15.5398585241777,
          14.5786411880714,
          7.33818240444987,
          -29.656106212292,
          -13.7659262829354,
          -1.22096562242857,
          14.2377934841958,
          -26.6488171726266,
          -18.4149827603101,
          9.57621290733179,
          15.4462143536594,
          12.4813826456354,
          10.3166230571412,
          5.96995349908984,
          19.7888017919728,
          12.870047558803,
          11.0008408945163,
          10.1031430328566,
          8.74794414970567,
          1.16068008111779,
          4.25793599819481,
          -4.72495491245618,
          0.443823249955628,
          2.93925319267171,
          -1.5740867735031,
          16.5110239800846,
          20.6468509000078,
          13.5112783274408,
          8.62661952119647,
          12.8072195333336,
          -1.88096194561533,
          0.722455053642172,
          9.61426485412885,
          2.38929788015159,
          4.70448673186806,
          4.43463193164249,
          3.98267195493798,
          7.5274212335021,
          -12.9405903393656,
          7.86926844488235,
          6.28790754234095,
          -2.49455943154007,
          -0.539528016127164,
          -2.46915826825783,
          -0.926061363280596,
          -24.1072905068698,
          -5.04942162381861,
          5.35708919941866,
          0.159163288339542,
          -1.78842467332619,
          -0.439017224876693,
          -10.7434453848377,
          -8.28293054279822,
          3.19441106620155,
          2.48235320058394,
          6.83438966175249,
          2.20191349092498,
          -3.42761844353036,
          -11.3936893583283,
          -40.7197513455468,
          -31.991189298155,
          -19.9692798257841,
          -11.2575673898003,
          4.2739988027373,
          17.4174946361133,
          15.8462010787585,
          13.3163202108984,
          -1.78070685665161,
          -2.1319826428718,
          -14.4605740510975,
          -10.8956772954051,
          -17.7866721783734,
          -13.9258442802744,
          -12.0396560641655,
          -15.1902776147271,
          -1.17447252534292,
          -15.1706610329499,
          -34.8428328151487,
          -21.2650305603799,
          -18.1125581428021,
          -26.4858219403681,
          -34.630426019802,
          -21.9082255621409,
          -19.6117206412615,
          -3.9085142077594,
          -2.50116704656246,
          7.11965936653508,
          -5.92947916892101,
          -8.82829828629027,
          1.18096661802923,
          5.59423574499512,
          21.2926929689726,
          20.046418047237,
          8.56831013649713,
          4.57752400378708,
          -0.782697516880873,
          -9.45671122497149,
          -5.01011539751142,
          -23.6061092873368,
          -8.74506846356258,
          13.2956990795712,
          -4.98864981117329,
          -1.55976206549181,
          -27.8536582304137,
          -24.5740631124324,
          -23.1212665201408,
          -27.4091395766156,
          -17.6146737557227,
          -6.03030120477034,
          11.607965215197,
          14.6751298862185,
          10.1966693764274,
          -2.10301407356723,
          -6.59345868737869,
          -4.9310742844892,
          -0.0811655970045422,
          -8.8128516490981,
          -9.04344718888041,
          -5.77837088122157,
          -4.9261732010742,
          -4.49684032989073,
          -2.9543505251568,
          -5.95866523102585,
          -23.8910331938577,
          -3.87402255927951,
          -0.948683953590006,
          2.76948407575387,
          -2.54886436398766,
          2.84691647036975,
          -2.3855025248488,
          -7.79590808116505,
          -6.48146099941045,
          -5.55939895747689,
          -1.64524849515438,
          -7.89420488814295,
          16.4540259595802,
          21.0594516384895,
          24.4010279916795,
          6.12670631845685,
          -2.14589522899011,
          -5.26925956548656,
          8.49824584020222,
          -37.0393350152255,
          -12.3006736357063,
          -13.1175412451369,
          -8.66882286358373,
          0.602304905413376,
          -0.406439881715158,
          -5.6521085539043,
          -41.7933159463926,
          -39.6837998242865,
          -36.464900515891,
          -26.0173712289891,
          -13.1505121738488,
          -10.9667782143345,
          -10.0220052070579,
          -3.43121093332535,
          3.71718695008594,
          4.87795210151622,
          -4.50602253175301,
          1.04318387430209,
          -4.46841439078177,
          0.739600875146934,
          9.48160364181417,
          27.4370791190307,
          19.5665843746001,
          18.5775007850176,
          5.32582772358471,
          3.32640839674724,
          -5.18234542810984,
          10.9414757441324,
          18.0314370240111,
          11.8336055402763,
          11.4787769814518,
          -2.28306255549639,
          -12.3740079658149,
          0.76720449716737,
          -4.96081265450701,
          28.1612460365749,
          12.848843363129,
          13.0703729569633,
          -10.0621204323634,
          6.08604646706968,
          -27.8010419022753,
          -50.0810177220154,
          -58.4963005424809,
          -57.9568096835101,
          -50.3861643889583,
          -35.7750862312965,
          -14.1634617891055,
          -53.276588363794,
          -43.9632797047448,
          -13.6121366500086,
          2.61285793975424,
          10.1241036117021,
          9.01860966971812,
          -4.61193632000493,
          -49.2645052789202,
          -47.9262320091531,
          -51.2139627196811,
          -38.729748336118,
          -10.3102123251417,
          -9.60259624491551,
          -6.66366775899617,
          -30.7706869455739,
          -16.0517833359013,
          26.8756715736272,
          21.644763550225
         ],
         "xaxis": "x",
         "y": [
          -29.6519007263013,
          -10.6394174079773,
          10.5217192728905,
          7.0905963789351,
          9.11024940853355,
          -16.3398673490506,
          -7.21745869036639,
          -9.34925130242794,
          0.259678504538996,
          9.65438643093141,
          6.39110902300939,
          9.87692962707074,
          11.3616725110819,
          5.97837652893622,
          11.7005083572399,
          8.24707606276873,
          -15.1088909769907,
          -7.59610506770308,
          3.02302516808669,
          5.62888157944128,
          8.97060058385387,
          8.90495924239099,
          -26.6901027938245,
          -4.00948841690754,
          -7.24733415045382,
          1.0814550976626,
          4.38251677547302,
          4.71868898493042,
          8.06061396743171,
          22.1868458877053,
          24.687989525773,
          18.4578581361758,
          10.5589264937639,
          9.51338113688216,
          3.18825880048796,
          -34.4701579189023,
          -16.9408624782267,
          3.65343293712447,
          3.17966383157953,
          -2.31671374540518,
          9.11356869029231,
          -4.14438843978037,
          -0.911414207312696,
          7.18088785652953,
          5.04530093876846,
          0.231902148792983,
          4.21931078624104,
          12.4758634125578,
          9.0729523180891,
          9.9670138294611,
          1.73671410848148,
          1.97707512477008,
          1.17747989736134,
          6.56404689399081,
          -18.9397682884878,
          -1.53072334267705,
          8.29954956810283,
          8.96577920400539,
          5.465446323772,
          4.65042295989875,
          -8.34366978250691,
          4.10490593449131,
          7.60184394147559,
          10.9265577292522,
          11.6364890525735,
          5.20026240426419,
          10.7518279376217,
          30.3129275267532,
          24.3860000684212,
          18.2303312888924,
          10.6716026252248,
          -0.845066193481159,
          1.57520901384594,
          11.9528412822547,
          18.0983867892657,
          20.3917115037623,
          16.464704001526,
          9.06710623892484,
          2.1405332252905,
          9.16912184044799,
          0.148479901403761,
          -4.25408261763214,
          15.1844092813231,
          29.7649962422369,
          22.5361390251879,
          10.304770878256,
          8.75292552409066,
          10.5962750834985,
          3.64495344626035,
          10.7168869592504,
          6.97468520500367,
          10.1763139988261,
          1.55857631264951,
          -4.87221118226262,
          -4.79086681494154,
          -18.7476696161873,
          -19.4661745840455,
          -6.48172800965921,
          4.2437986767461,
          -2.53256008598048,
          -21.3781218551976,
          -17.396097587058,
          -12.1915711284994,
          -6.03692221298451,
          5.26338476879232,
          3.54958334261407,
          -0.76709268121359,
          14.9180037843504,
          22.6709607231586,
          4.57369595301027,
          3.42633067325303,
          4.67383837360458,
          -0.0169329933218592,
          11.2878156835588,
          18.5743686001921,
          14.4725837376078,
          11.2882217342141,
          7.66558645338168,
          2.60521179667046,
          -2.0521081156048,
          21.4891458711782,
          20.5649763970689,
          14.8271371585718,
          3.02943283409051,
          4.00658634103479,
          2.6291821370817,
          1.6545810204473,
          -19.4479451198458,
          -0.38110259140975,
          9.941793591779,
          11.9626176520213,
          3.15731905047029,
          -10.1236299967019,
          4.55959947312778,
          9.29335443752919,
          8.9155040620424,
          0.0656988003090646,
          -2.32543995091946,
          4.13152608279985,
          8.10459649719861,
          22.5549304977354,
          24.1864326178553,
          22.6201053093355,
          15.5398585241777,
          14.5786411880714,
          7.33818240444987,
          -29.656106212292,
          -13.7659262829354,
          -1.22096562242857,
          14.2377934841958,
          -26.6488171726266,
          -18.4149827603101,
          9.57621290733179,
          15.4462143536594,
          12.4813826456354,
          10.3166230571412,
          5.96995349908984,
          19.7888017919728,
          12.870047558803,
          11.0008408945163,
          10.1031430328566,
          8.74794414970567,
          1.16068008111779,
          4.25793599819481,
          -4.72495491245618,
          0.443823249955628,
          2.93925319267171,
          -1.5740867735031,
          16.5110239800846,
          20.6468509000078,
          13.5112783274408,
          8.62661952119647,
          12.8072195333336,
          -1.88096194561533,
          0.722455053642172,
          9.61426485412885,
          2.38929788015159,
          4.70448673186806,
          4.43463193164249,
          3.98267195493798,
          7.5274212335021,
          -12.9405903393656,
          7.86926844488235,
          6.28790754234095,
          -2.49455943154007,
          -0.539528016127164,
          -2.46915826825783,
          -0.926061363280596,
          -24.1072905068698,
          -5.04942162381861,
          5.35708919941866,
          0.159163288339542,
          -1.78842467332619,
          -0.439017224876693,
          -10.7434453848377,
          -8.28293054279822,
          3.19441106620155,
          2.48235320058394,
          6.83438966175249,
          2.20191349092498,
          -3.42761844353036,
          -11.3936893583283,
          -40.7197513455468,
          -31.991189298155,
          -19.9692798257841,
          -11.2575673898003,
          4.2739988027373,
          17.4174946361133,
          15.8462010787585,
          13.3163202108984,
          -1.78070685665161,
          -2.1319826428718,
          -14.4605740510975,
          -10.8956772954051,
          -17.7866721783734,
          -13.9258442802744,
          -12.0396560641655,
          -15.1902776147271,
          -1.17447252534292,
          -15.1706610329499,
          -34.8428328151487,
          -21.2650305603799,
          -18.1125581428021,
          -26.4858219403681,
          -34.630426019802,
          -21.9082255621409,
          -19.6117206412615,
          -3.9085142077594,
          -2.50116704656246,
          7.11965936653508,
          -5.92947916892101,
          -8.82829828629027,
          1.18096661802923,
          5.59423574499512,
          21.2926929689726,
          20.046418047237,
          8.56831013649713,
          4.57752400378708,
          -0.782697516880873,
          -9.45671122497149,
          -5.01011539751142,
          -23.6061092873368,
          -8.74506846356258,
          13.2956990795712,
          -4.98864981117329,
          -1.55976206549181,
          -27.8536582304137,
          -24.5740631124324,
          -23.1212665201408,
          -27.4091395766156,
          -17.6146737557227,
          -6.03030120477034,
          11.607965215197,
          14.6751298862185,
          10.1966693764274,
          -2.10301407356723,
          -6.59345868737869,
          -4.9310742844892,
          -0.0811655970045422,
          -8.8128516490981,
          -9.04344718888041,
          -5.77837088122157,
          -4.9261732010742,
          -4.49684032989073,
          -2.9543505251568,
          -5.95866523102585,
          -23.8910331938577,
          -3.87402255927951,
          -0.948683953590006,
          2.76948407575387,
          -2.54886436398766,
          2.84691647036975,
          -2.3855025248488,
          -7.79590808116505,
          -6.48146099941045,
          -5.55939895747689,
          -1.64524849515438,
          -7.89420488814295,
          16.4540259595802,
          21.0594516384895,
          24.4010279916795,
          6.12670631845685,
          -2.14589522899011,
          -5.26925956548656,
          8.49824584020222,
          -37.0393350152255,
          -12.3006736357063,
          -13.1175412451369,
          -8.66882286358373,
          0.602304905413376,
          -0.406439881715158,
          -5.6521085539043,
          -41.7933159463926,
          -39.6837998242865,
          -36.464900515891,
          -26.0173712289891,
          -13.1505121738488,
          -10.9667782143345,
          -10.0220052070579,
          -3.43121093332535,
          3.71718695008594,
          4.87795210151622,
          -4.50602253175301,
          1.04318387430209,
          -4.46841439078177,
          0.739600875146934,
          9.48160364181417,
          27.4370791190307,
          19.5665843746001,
          18.5775007850176,
          5.32582772358471,
          3.32640839674724,
          -5.18234542810984,
          10.9414757441324,
          18.0314370240111,
          11.8336055402763,
          11.4787769814518,
          -2.28306255549639,
          -12.3740079658149,
          0.76720449716737,
          -4.96081265450701,
          28.1612460365749,
          12.848843363129,
          13.0703729569633,
          -10.0621204323634,
          6.08604646706968,
          -27.8010419022753,
          -50.0810177220154,
          -58.4963005424809,
          -57.9568096835101,
          -50.3861643889583,
          -35.7750862312965,
          -14.1634617891055,
          -53.276588363794,
          -43.9632797047448,
          -13.6121366500086,
          2.61285793975424,
          10.1241036117021,
          9.01860966971812,
          -4.61193632000493,
          -49.2645052789202,
          -47.9262320091531,
          -51.2139627196811,
          -38.729748336118,
          -10.3102123251417,
          -9.60259624491551,
          -6.66366775899617,
          -30.7706869455739,
          -16.0517833359013,
          26.8756715736272,
          21.644763550225
         ],
         "yaxis": "y"
        }
       ],
       "layout": {
        "legend": {
         "tracegroupgap": 0
        },
        "margin": {
         "t": 60
        },
        "template": {
         "data": {
          "bar": [
           {
            "error_x": {
             "color": "#2a3f5f"
            },
            "error_y": {
             "color": "#2a3f5f"
            },
            "marker": {
             "line": {
              "color": "#E5ECF6",
              "width": 0.5
             },
             "pattern": {
              "fillmode": "overlay",
              "size": 10,
              "solidity": 0.2
             }
            },
            "type": "bar"
           }
          ],
          "barpolar": [
           {
            "marker": {
             "line": {
              "color": "#E5ECF6",
              "width": 0.5
             },
             "pattern": {
              "fillmode": "overlay",
              "size": 10,
              "solidity": 0.2
             }
            },
            "type": "barpolar"
           }
          ],
          "carpet": [
           {
            "aaxis": {
             "endlinecolor": "#2a3f5f",
             "gridcolor": "white",
             "linecolor": "white",
             "minorgridcolor": "white",
             "startlinecolor": "#2a3f5f"
            },
            "baxis": {
             "endlinecolor": "#2a3f5f",
             "gridcolor": "white",
             "linecolor": "white",
             "minorgridcolor": "white",
             "startlinecolor": "#2a3f5f"
            },
            "type": "carpet"
           }
          ],
          "choropleth": [
           {
            "colorbar": {
             "outlinewidth": 0,
             "ticks": ""
            },
            "type": "choropleth"
           }
          ],
          "contour": [
           {
            "colorbar": {
             "outlinewidth": 0,
             "ticks": ""
            },
            "colorscale": [
             [
              0,
              "#0d0887"
             ],
             [
              0.1111111111111111,
              "#46039f"
             ],
             [
              0.2222222222222222,
              "#7201a8"
             ],
             [
              0.3333333333333333,
              "#9c179e"
             ],
             [
              0.4444444444444444,
              "#bd3786"
             ],
             [
              0.5555555555555556,
              "#d8576b"
             ],
             [
              0.6666666666666666,
              "#ed7953"
             ],
             [
              0.7777777777777778,
              "#fb9f3a"
             ],
             [
              0.8888888888888888,
              "#fdca26"
             ],
             [
              1,
              "#f0f921"
             ]
            ],
            "type": "contour"
           }
          ],
          "contourcarpet": [
           {
            "colorbar": {
             "outlinewidth": 0,
             "ticks": ""
            },
            "type": "contourcarpet"
           }
          ],
          "heatmap": [
           {
            "colorbar": {
             "outlinewidth": 0,
             "ticks": ""
            },
            "colorscale": [
             [
              0,
              "#0d0887"
             ],
             [
              0.1111111111111111,
              "#46039f"
             ],
             [
              0.2222222222222222,
              "#7201a8"
             ],
             [
              0.3333333333333333,
              "#9c179e"
             ],
             [
              0.4444444444444444,
              "#bd3786"
             ],
             [
              0.5555555555555556,
              "#d8576b"
             ],
             [
              0.6666666666666666,
              "#ed7953"
             ],
             [
              0.7777777777777778,
              "#fb9f3a"
             ],
             [
              0.8888888888888888,
              "#fdca26"
             ],
             [
              1,
              "#f0f921"
             ]
            ],
            "type": "heatmap"
           }
          ],
          "heatmapgl": [
           {
            "colorbar": {
             "outlinewidth": 0,
             "ticks": ""
            },
            "colorscale": [
             [
              0,
              "#0d0887"
             ],
             [
              0.1111111111111111,
              "#46039f"
             ],
             [
              0.2222222222222222,
              "#7201a8"
             ],
             [
              0.3333333333333333,
              "#9c179e"
             ],
             [
              0.4444444444444444,
              "#bd3786"
             ],
             [
              0.5555555555555556,
              "#d8576b"
             ],
             [
              0.6666666666666666,
              "#ed7953"
             ],
             [
              0.7777777777777778,
              "#fb9f3a"
             ],
             [
              0.8888888888888888,
              "#fdca26"
             ],
             [
              1,
              "#f0f921"
             ]
            ],
            "type": "heatmapgl"
           }
          ],
          "histogram": [
           {
            "marker": {
             "pattern": {
              "fillmode": "overlay",
              "size": 10,
              "solidity": 0.2
             }
            },
            "type": "histogram"
           }
          ],
          "histogram2d": [
           {
            "colorbar": {
             "outlinewidth": 0,
             "ticks": ""
            },
            "colorscale": [
             [
              0,
              "#0d0887"
             ],
             [
              0.1111111111111111,
              "#46039f"
             ],
             [
              0.2222222222222222,
              "#7201a8"
             ],
             [
              0.3333333333333333,
              "#9c179e"
             ],
             [
              0.4444444444444444,
              "#bd3786"
             ],
             [
              0.5555555555555556,
              "#d8576b"
             ],
             [
              0.6666666666666666,
              "#ed7953"
             ],
             [
              0.7777777777777778,
              "#fb9f3a"
             ],
             [
              0.8888888888888888,
              "#fdca26"
             ],
             [
              1,
              "#f0f921"
             ]
            ],
            "type": "histogram2d"
           }
          ],
          "histogram2dcontour": [
           {
            "colorbar": {
             "outlinewidth": 0,
             "ticks": ""
            },
            "colorscale": [
             [
              0,
              "#0d0887"
             ],
             [
              0.1111111111111111,
              "#46039f"
             ],
             [
              0.2222222222222222,
              "#7201a8"
             ],
             [
              0.3333333333333333,
              "#9c179e"
             ],
             [
              0.4444444444444444,
              "#bd3786"
             ],
             [
              0.5555555555555556,
              "#d8576b"
             ],
             [
              0.6666666666666666,
              "#ed7953"
             ],
             [
              0.7777777777777778,
              "#fb9f3a"
             ],
             [
              0.8888888888888888,
              "#fdca26"
             ],
             [
              1,
              "#f0f921"
             ]
            ],
            "type": "histogram2dcontour"
           }
          ],
          "mesh3d": [
           {
            "colorbar": {
             "outlinewidth": 0,
             "ticks": ""
            },
            "type": "mesh3d"
           }
          ],
          "parcoords": [
           {
            "line": {
             "colorbar": {
              "outlinewidth": 0,
              "ticks": ""
             }
            },
            "type": "parcoords"
           }
          ],
          "pie": [
           {
            "automargin": true,
            "type": "pie"
           }
          ],
          "scatter": [
           {
            "fillpattern": {
             "fillmode": "overlay",
             "size": 10,
             "solidity": 0.2
            },
            "type": "scatter"
           }
          ],
          "scatter3d": [
           {
            "line": {
             "colorbar": {
              "outlinewidth": 0,
              "ticks": ""
             }
            },
            "marker": {
             "colorbar": {
              "outlinewidth": 0,
              "ticks": ""
             }
            },
            "type": "scatter3d"
           }
          ],
          "scattercarpet": [
           {
            "marker": {
             "colorbar": {
              "outlinewidth": 0,
              "ticks": ""
             }
            },
            "type": "scattercarpet"
           }
          ],
          "scattergeo": [
           {
            "marker": {
             "colorbar": {
              "outlinewidth": 0,
              "ticks": ""
             }
            },
            "type": "scattergeo"
           }
          ],
          "scattergl": [
           {
            "marker": {
             "colorbar": {
              "outlinewidth": 0,
              "ticks": ""
             }
            },
            "type": "scattergl"
           }
          ],
          "scattermapbox": [
           {
            "marker": {
             "colorbar": {
              "outlinewidth": 0,
              "ticks": ""
             }
            },
            "type": "scattermapbox"
           }
          ],
          "scatterpolar": [
           {
            "marker": {
             "colorbar": {
              "outlinewidth": 0,
              "ticks": ""
             }
            },
            "type": "scatterpolar"
           }
          ],
          "scatterpolargl": [
           {
            "marker": {
             "colorbar": {
              "outlinewidth": 0,
              "ticks": ""
             }
            },
            "type": "scatterpolargl"
           }
          ],
          "scatterternary": [
           {
            "marker": {
             "colorbar": {
              "outlinewidth": 0,
              "ticks": ""
             }
            },
            "type": "scatterternary"
           }
          ],
          "surface": [
           {
            "colorbar": {
             "outlinewidth": 0,
             "ticks": ""
            },
            "colorscale": [
             [
              0,
              "#0d0887"
             ],
             [
              0.1111111111111111,
              "#46039f"
             ],
             [
              0.2222222222222222,
              "#7201a8"
             ],
             [
              0.3333333333333333,
              "#9c179e"
             ],
             [
              0.4444444444444444,
              "#bd3786"
             ],
             [
              0.5555555555555556,
              "#d8576b"
             ],
             [
              0.6666666666666666,
              "#ed7953"
             ],
             [
              0.7777777777777778,
              "#fb9f3a"
             ],
             [
              0.8888888888888888,
              "#fdca26"
             ],
             [
              1,
              "#f0f921"
             ]
            ],
            "type": "surface"
           }
          ],
          "table": [
           {
            "cells": {
             "fill": {
              "color": "#EBF0F8"
             },
             "line": {
              "color": "white"
             }
            },
            "header": {
             "fill": {
              "color": "#C8D4E3"
             },
             "line": {
              "color": "white"
             }
            },
            "type": "table"
           }
          ]
         },
         "layout": {
          "annotationdefaults": {
           "arrowcolor": "#2a3f5f",
           "arrowhead": 0,
           "arrowwidth": 1
          },
          "autotypenumbers": "strict",
          "coloraxis": {
           "colorbar": {
            "outlinewidth": 0,
            "ticks": ""
           }
          },
          "colorscale": {
           "diverging": [
            [
             0,
             "#8e0152"
            ],
            [
             0.1,
             "#c51b7d"
            ],
            [
             0.2,
             "#de77ae"
            ],
            [
             0.3,
             "#f1b6da"
            ],
            [
             0.4,
             "#fde0ef"
            ],
            [
             0.5,
             "#f7f7f7"
            ],
            [
             0.6,
             "#e6f5d0"
            ],
            [
             0.7,
             "#b8e186"
            ],
            [
             0.8,
             "#7fbc41"
            ],
            [
             0.9,
             "#4d9221"
            ],
            [
             1,
             "#276419"
            ]
           ],
           "sequential": [
            [
             0,
             "#0d0887"
            ],
            [
             0.1111111111111111,
             "#46039f"
            ],
            [
             0.2222222222222222,
             "#7201a8"
            ],
            [
             0.3333333333333333,
             "#9c179e"
            ],
            [
             0.4444444444444444,
             "#bd3786"
            ],
            [
             0.5555555555555556,
             "#d8576b"
            ],
            [
             0.6666666666666666,
             "#ed7953"
            ],
            [
             0.7777777777777778,
             "#fb9f3a"
            ],
            [
             0.8888888888888888,
             "#fdca26"
            ],
            [
             1,
             "#f0f921"
            ]
           ],
           "sequentialminus": [
            [
             0,
             "#0d0887"
            ],
            [
             0.1111111111111111,
             "#46039f"
            ],
            [
             0.2222222222222222,
             "#7201a8"
            ],
            [
             0.3333333333333333,
             "#9c179e"
            ],
            [
             0.4444444444444444,
             "#bd3786"
            ],
            [
             0.5555555555555556,
             "#d8576b"
            ],
            [
             0.6666666666666666,
             "#ed7953"
            ],
            [
             0.7777777777777778,
             "#fb9f3a"
            ],
            [
             0.8888888888888888,
             "#fdca26"
            ],
            [
             1,
             "#f0f921"
            ]
           ]
          },
          "colorway": [
           "#636efa",
           "#EF553B",
           "#00cc96",
           "#ab63fa",
           "#FFA15A",
           "#19d3f3",
           "#FF6692",
           "#B6E880",
           "#FF97FF",
           "#FECB52"
          ],
          "font": {
           "color": "#2a3f5f"
          },
          "geo": {
           "bgcolor": "white",
           "lakecolor": "white",
           "landcolor": "#E5ECF6",
           "showlakes": true,
           "showland": true,
           "subunitcolor": "white"
          },
          "hoverlabel": {
           "align": "left"
          },
          "hovermode": "closest",
          "mapbox": {
           "style": "light"
          },
          "paper_bgcolor": "white",
          "plot_bgcolor": "#E5ECF6",
          "polar": {
           "angularaxis": {
            "gridcolor": "white",
            "linecolor": "white",
            "ticks": ""
           },
           "bgcolor": "#E5ECF6",
           "radialaxis": {
            "gridcolor": "white",
            "linecolor": "white",
            "ticks": ""
           }
          },
          "scene": {
           "xaxis": {
            "backgroundcolor": "#E5ECF6",
            "gridcolor": "white",
            "gridwidth": 2,
            "linecolor": "white",
            "showbackground": true,
            "ticks": "",
            "zerolinecolor": "white"
           },
           "yaxis": {
            "backgroundcolor": "#E5ECF6",
            "gridcolor": "white",
            "gridwidth": 2,
            "linecolor": "white",
            "showbackground": true,
            "ticks": "",
            "zerolinecolor": "white"
           },
           "zaxis": {
            "backgroundcolor": "#E5ECF6",
            "gridcolor": "white",
            "gridwidth": 2,
            "linecolor": "white",
            "showbackground": true,
            "ticks": "",
            "zerolinecolor": "white"
           }
          },
          "shapedefaults": {
           "line": {
            "color": "#2a3f5f"
           }
          },
          "ternary": {
           "aaxis": {
            "gridcolor": "white",
            "linecolor": "white",
            "ticks": ""
           },
           "baxis": {
            "gridcolor": "white",
            "linecolor": "white",
            "ticks": ""
           },
           "bgcolor": "#E5ECF6",
           "caxis": {
            "gridcolor": "white",
            "linecolor": "white",
            "ticks": ""
           }
          },
          "title": {
           "x": 0.05
          },
          "xaxis": {
           "automargin": true,
           "gridcolor": "white",
           "linecolor": "white",
           "ticks": "",
           "title": {
            "standoff": 15
           },
           "zerolinecolor": "white",
           "zerolinewidth": 2
          },
          "yaxis": {
           "automargin": true,
           "gridcolor": "white",
           "linecolor": "white",
           "ticks": "",
           "title": {
            "standoff": 15
           },
           "zerolinecolor": "white",
           "zerolinewidth": 2
          }
         }
        },
        "xaxis": {
         "anchor": "y",
         "domain": [
          0,
          1
         ],
         "title": {
          "text": "x"
         }
        },
        "yaxis": {
         "anchor": "x",
         "domain": [
          0,
          1
         ],
         "title": {
          "text": "y"
         }
        }
       }
      },
      "text/html": [
       "<div>                            <div id=\"edd9c827-6af7-4d56-888d-b46c2e2a3d53\" class=\"plotly-graph-div\" style=\"height:525px; width:100%;\"></div>            <script type=\"text/javascript\">                require([\"plotly\"], function(Plotly) {                    window.PLOTLYENV=window.PLOTLYENV || {};                                    if (document.getElementById(\"edd9c827-6af7-4d56-888d-b46c2e2a3d53\")) {                    Plotly.newPlot(                        \"edd9c827-6af7-4d56-888d-b46c2e2a3d53\",                        [{\"hovertemplate\":\"x=%{x}\\u003cbr\\u003ey=%{y}\\u003cextra\\u003e\\u003c\\u002fextra\\u003e\",\"legendgroup\":\"\",\"marker\":{\"color\":\"#636efa\",\"symbol\":\"circle\"},\"mode\":\"markers\",\"name\":\"\",\"orientation\":\"v\",\"showlegend\":false,\"x\":[-29.6519007263013,-10.6394174079773,10.5217192728905,7.0905963789351,9.11024940853355,-16.3398673490506,-7.21745869036639,-9.34925130242794,0.259678504538996,9.65438643093141,6.39110902300939,9.87692962707074,11.3616725110819,5.97837652893622,11.7005083572399,8.24707606276873,-15.1088909769907,-7.59610506770308,3.02302516808669,5.62888157944128,8.97060058385387,8.90495924239099,-26.6901027938245,-4.00948841690754,-7.24733415045382,1.0814550976626,4.38251677547302,4.71868898493042,8.06061396743171,22.1868458877053,24.687989525773,18.4578581361758,10.5589264937639,9.51338113688216,3.18825880048796,-34.4701579189023,-16.9408624782267,3.65343293712447,3.17966383157953,-2.31671374540518,9.11356869029231,-4.14438843978037,-0.911414207312696,7.18088785652953,5.04530093876846,0.231902148792983,4.21931078624104,12.4758634125578,9.0729523180891,9.9670138294611,1.73671410848148,1.97707512477008,1.17747989736134,6.56404689399081,-18.9397682884878,-1.53072334267705,8.29954956810283,8.96577920400539,5.465446323772,4.65042295989875,-8.34366978250691,4.10490593449131,7.60184394147559,10.9265577292522,11.6364890525735,5.20026240426419,10.7518279376217,30.3129275267532,24.3860000684212,18.2303312888924,10.6716026252248,-0.845066193481159,1.57520901384594,11.9528412822547,18.0983867892657,20.3917115037623,16.464704001526,9.06710623892484,2.1405332252905,9.16912184044799,0.148479901403761,-4.25408261763214,15.1844092813231,29.7649962422369,22.5361390251879,10.304770878256,8.75292552409066,10.5962750834985,3.64495344626035,10.7168869592504,6.97468520500367,10.1763139988261,1.55857631264951,-4.87221118226262,-4.79086681494154,-18.7476696161873,-19.4661745840455,-6.48172800965921,4.2437986767461,-2.53256008598048,-21.3781218551976,-17.396097587058,-12.1915711284994,-6.03692221298451,5.26338476879232,3.54958334261407,-0.76709268121359,14.9180037843504,22.6709607231586,4.57369595301027,3.42633067325303,4.67383837360458,-0.0169329933218592,11.2878156835588,18.5743686001921,14.4725837376078,11.2882217342141,7.66558645338168,2.60521179667046,-2.0521081156048,21.4891458711782,20.5649763970689,14.8271371585718,3.02943283409051,4.00658634103479,2.6291821370817,1.6545810204473,-19.4479451198458,-0.38110259140975,9.941793591779,11.9626176520213,3.15731905047029,-10.1236299967019,4.55959947312778,9.29335443752919,8.9155040620424,0.0656988003090646,-2.32543995091946,4.13152608279985,8.10459649719861,22.5549304977354,24.1864326178553,22.6201053093355,15.5398585241777,14.5786411880714,7.33818240444987,-29.656106212292,-13.7659262829354,-1.22096562242857,14.2377934841958,-26.6488171726266,-18.4149827603101,9.57621290733179,15.4462143536594,12.4813826456354,10.3166230571412,5.96995349908984,19.7888017919728,12.870047558803,11.0008408945163,10.1031430328566,8.74794414970567,1.16068008111779,4.25793599819481,-4.72495491245618,0.443823249955628,2.93925319267171,-1.5740867735031,16.5110239800846,20.6468509000078,13.5112783274408,8.62661952119647,12.8072195333336,-1.88096194561533,0.722455053642172,9.61426485412885,2.38929788015159,4.70448673186806,4.43463193164249,3.98267195493798,7.5274212335021,-12.9405903393656,7.86926844488235,6.28790754234095,-2.49455943154007,-0.539528016127164,-2.46915826825783,-0.926061363280596,-24.1072905068698,-5.04942162381861,5.35708919941866,0.159163288339542,-1.78842467332619,-0.439017224876693,-10.7434453848377,-8.28293054279822,3.19441106620155,2.48235320058394,6.83438966175249,2.20191349092498,-3.42761844353036,-11.3936893583283,-40.7197513455468,-31.991189298155,-19.9692798257841,-11.2575673898003,4.2739988027373,17.4174946361133,15.8462010787585,13.3163202108984,-1.78070685665161,-2.1319826428718,-14.4605740510975,-10.8956772954051,-17.7866721783734,-13.9258442802744,-12.0396560641655,-15.1902776147271,-1.17447252534292,-15.1706610329499,-34.8428328151487,-21.2650305603799,-18.1125581428021,-26.4858219403681,-34.630426019802,-21.9082255621409,-19.6117206412615,-3.9085142077594,-2.50116704656246,7.11965936653508,-5.92947916892101,-8.82829828629027,1.18096661802923,5.59423574499512,21.2926929689726,20.046418047237,8.56831013649713,4.57752400378708,-0.782697516880873,-9.45671122497149,-5.01011539751142,-23.6061092873368,-8.74506846356258,13.2956990795712,-4.98864981117329,-1.55976206549181,-27.8536582304137,-24.5740631124324,-23.1212665201408,-27.4091395766156,-17.6146737557227,-6.03030120477034,11.607965215197,14.6751298862185,10.1966693764274,-2.10301407356723,-6.59345868737869,-4.9310742844892,-0.0811655970045422,-8.8128516490981,-9.04344718888041,-5.77837088122157,-4.9261732010742,-4.49684032989073,-2.9543505251568,-5.95866523102585,-23.8910331938577,-3.87402255927951,-0.948683953590006,2.76948407575387,-2.54886436398766,2.84691647036975,-2.3855025248488,-7.79590808116505,-6.48146099941045,-5.55939895747689,-1.64524849515438,-7.89420488814295,16.4540259595802,21.0594516384895,24.4010279916795,6.12670631845685,-2.14589522899011,-5.26925956548656,8.49824584020222,-37.0393350152255,-12.3006736357063,-13.1175412451369,-8.66882286358373,0.602304905413376,-0.406439881715158,-5.6521085539043,-41.7933159463926,-39.6837998242865,-36.464900515891,-26.0173712289891,-13.1505121738488,-10.9667782143345,-10.0220052070579,-3.43121093332535,3.71718695008594,4.87795210151622,-4.50602253175301,1.04318387430209,-4.46841439078177,0.739600875146934,9.48160364181417,27.4370791190307,19.5665843746001,18.5775007850176,5.32582772358471,3.32640839674724,-5.18234542810984,10.9414757441324,18.0314370240111,11.8336055402763,11.4787769814518,-2.28306255549639,-12.3740079658149,0.76720449716737,-4.96081265450701,28.1612460365749,12.848843363129,13.0703729569633,-10.0621204323634,6.08604646706968,-27.8010419022753,-50.0810177220154,-58.4963005424809,-57.9568096835101,-50.3861643889583,-35.7750862312965,-14.1634617891055,-53.276588363794,-43.9632797047448,-13.6121366500086,2.61285793975424,10.1241036117021,9.01860966971812,-4.61193632000493,-49.2645052789202,-47.9262320091531,-51.2139627196811,-38.729748336118,-10.3102123251417,-9.60259624491551,-6.66366775899617,-30.7706869455739,-16.0517833359013,26.8756715736272,21.644763550225],\"xaxis\":\"x\",\"y\":[-29.6519007263013,-10.6394174079773,10.5217192728905,7.0905963789351,9.11024940853355,-16.3398673490506,-7.21745869036639,-9.34925130242794,0.259678504538996,9.65438643093141,6.39110902300939,9.87692962707074,11.3616725110819,5.97837652893622,11.7005083572399,8.24707606276873,-15.1088909769907,-7.59610506770308,3.02302516808669,5.62888157944128,8.97060058385387,8.90495924239099,-26.6901027938245,-4.00948841690754,-7.24733415045382,1.0814550976626,4.38251677547302,4.71868898493042,8.06061396743171,22.1868458877053,24.687989525773,18.4578581361758,10.5589264937639,9.51338113688216,3.18825880048796,-34.4701579189023,-16.9408624782267,3.65343293712447,3.17966383157953,-2.31671374540518,9.11356869029231,-4.14438843978037,-0.911414207312696,7.18088785652953,5.04530093876846,0.231902148792983,4.21931078624104,12.4758634125578,9.0729523180891,9.9670138294611,1.73671410848148,1.97707512477008,1.17747989736134,6.56404689399081,-18.9397682884878,-1.53072334267705,8.29954956810283,8.96577920400539,5.465446323772,4.65042295989875,-8.34366978250691,4.10490593449131,7.60184394147559,10.9265577292522,11.6364890525735,5.20026240426419,10.7518279376217,30.3129275267532,24.3860000684212,18.2303312888924,10.6716026252248,-0.845066193481159,1.57520901384594,11.9528412822547,18.0983867892657,20.3917115037623,16.464704001526,9.06710623892484,2.1405332252905,9.16912184044799,0.148479901403761,-4.25408261763214,15.1844092813231,29.7649962422369,22.5361390251879,10.304770878256,8.75292552409066,10.5962750834985,3.64495344626035,10.7168869592504,6.97468520500367,10.1763139988261,1.55857631264951,-4.87221118226262,-4.79086681494154,-18.7476696161873,-19.4661745840455,-6.48172800965921,4.2437986767461,-2.53256008598048,-21.3781218551976,-17.396097587058,-12.1915711284994,-6.03692221298451,5.26338476879232,3.54958334261407,-0.76709268121359,14.9180037843504,22.6709607231586,4.57369595301027,3.42633067325303,4.67383837360458,-0.0169329933218592,11.2878156835588,18.5743686001921,14.4725837376078,11.2882217342141,7.66558645338168,2.60521179667046,-2.0521081156048,21.4891458711782,20.5649763970689,14.8271371585718,3.02943283409051,4.00658634103479,2.6291821370817,1.6545810204473,-19.4479451198458,-0.38110259140975,9.941793591779,11.9626176520213,3.15731905047029,-10.1236299967019,4.55959947312778,9.29335443752919,8.9155040620424,0.0656988003090646,-2.32543995091946,4.13152608279985,8.10459649719861,22.5549304977354,24.1864326178553,22.6201053093355,15.5398585241777,14.5786411880714,7.33818240444987,-29.656106212292,-13.7659262829354,-1.22096562242857,14.2377934841958,-26.6488171726266,-18.4149827603101,9.57621290733179,15.4462143536594,12.4813826456354,10.3166230571412,5.96995349908984,19.7888017919728,12.870047558803,11.0008408945163,10.1031430328566,8.74794414970567,1.16068008111779,4.25793599819481,-4.72495491245618,0.443823249955628,2.93925319267171,-1.5740867735031,16.5110239800846,20.6468509000078,13.5112783274408,8.62661952119647,12.8072195333336,-1.88096194561533,0.722455053642172,9.61426485412885,2.38929788015159,4.70448673186806,4.43463193164249,3.98267195493798,7.5274212335021,-12.9405903393656,7.86926844488235,6.28790754234095,-2.49455943154007,-0.539528016127164,-2.46915826825783,-0.926061363280596,-24.1072905068698,-5.04942162381861,5.35708919941866,0.159163288339542,-1.78842467332619,-0.439017224876693,-10.7434453848377,-8.28293054279822,3.19441106620155,2.48235320058394,6.83438966175249,2.20191349092498,-3.42761844353036,-11.3936893583283,-40.7197513455468,-31.991189298155,-19.9692798257841,-11.2575673898003,4.2739988027373,17.4174946361133,15.8462010787585,13.3163202108984,-1.78070685665161,-2.1319826428718,-14.4605740510975,-10.8956772954051,-17.7866721783734,-13.9258442802744,-12.0396560641655,-15.1902776147271,-1.17447252534292,-15.1706610329499,-34.8428328151487,-21.2650305603799,-18.1125581428021,-26.4858219403681,-34.630426019802,-21.9082255621409,-19.6117206412615,-3.9085142077594,-2.50116704656246,7.11965936653508,-5.92947916892101,-8.82829828629027,1.18096661802923,5.59423574499512,21.2926929689726,20.046418047237,8.56831013649713,4.57752400378708,-0.782697516880873,-9.45671122497149,-5.01011539751142,-23.6061092873368,-8.74506846356258,13.2956990795712,-4.98864981117329,-1.55976206549181,-27.8536582304137,-24.5740631124324,-23.1212665201408,-27.4091395766156,-17.6146737557227,-6.03030120477034,11.607965215197,14.6751298862185,10.1966693764274,-2.10301407356723,-6.59345868737869,-4.9310742844892,-0.0811655970045422,-8.8128516490981,-9.04344718888041,-5.77837088122157,-4.9261732010742,-4.49684032989073,-2.9543505251568,-5.95866523102585,-23.8910331938577,-3.87402255927951,-0.948683953590006,2.76948407575387,-2.54886436398766,2.84691647036975,-2.3855025248488,-7.79590808116505,-6.48146099941045,-5.55939895747689,-1.64524849515438,-7.89420488814295,16.4540259595802,21.0594516384895,24.4010279916795,6.12670631845685,-2.14589522899011,-5.26925956548656,8.49824584020222,-37.0393350152255,-12.3006736357063,-13.1175412451369,-8.66882286358373,0.602304905413376,-0.406439881715158,-5.6521085539043,-41.7933159463926,-39.6837998242865,-36.464900515891,-26.0173712289891,-13.1505121738488,-10.9667782143345,-10.0220052070579,-3.43121093332535,3.71718695008594,4.87795210151622,-4.50602253175301,1.04318387430209,-4.46841439078177,0.739600875146934,9.48160364181417,27.4370791190307,19.5665843746001,18.5775007850176,5.32582772358471,3.32640839674724,-5.18234542810984,10.9414757441324,18.0314370240111,11.8336055402763,11.4787769814518,-2.28306255549639,-12.3740079658149,0.76720449716737,-4.96081265450701,28.1612460365749,12.848843363129,13.0703729569633,-10.0621204323634,6.08604646706968,-27.8010419022753,-50.0810177220154,-58.4963005424809,-57.9568096835101,-50.3861643889583,-35.7750862312965,-14.1634617891055,-53.276588363794,-43.9632797047448,-13.6121366500086,2.61285793975424,10.1241036117021,9.01860966971812,-4.61193632000493,-49.2645052789202,-47.9262320091531,-51.2139627196811,-38.729748336118,-10.3102123251417,-9.60259624491551,-6.66366775899617,-30.7706869455739,-16.0517833359013,26.8756715736272,21.644763550225],\"yaxis\":\"y\",\"type\":\"scatter\"}],                        {\"template\":{\"data\":{\"histogram2dcontour\":[{\"type\":\"histogram2dcontour\",\"colorbar\":{\"outlinewidth\":0,\"ticks\":\"\"},\"colorscale\":[[0.0,\"#0d0887\"],[0.1111111111111111,\"#46039f\"],[0.2222222222222222,\"#7201a8\"],[0.3333333333333333,\"#9c179e\"],[0.4444444444444444,\"#bd3786\"],[0.5555555555555556,\"#d8576b\"],[0.6666666666666666,\"#ed7953\"],[0.7777777777777778,\"#fb9f3a\"],[0.8888888888888888,\"#fdca26\"],[1.0,\"#f0f921\"]]}],\"choropleth\":[{\"type\":\"choropleth\",\"colorbar\":{\"outlinewidth\":0,\"ticks\":\"\"}}],\"histogram2d\":[{\"type\":\"histogram2d\",\"colorbar\":{\"outlinewidth\":0,\"ticks\":\"\"},\"colorscale\":[[0.0,\"#0d0887\"],[0.1111111111111111,\"#46039f\"],[0.2222222222222222,\"#7201a8\"],[0.3333333333333333,\"#9c179e\"],[0.4444444444444444,\"#bd3786\"],[0.5555555555555556,\"#d8576b\"],[0.6666666666666666,\"#ed7953\"],[0.7777777777777778,\"#fb9f3a\"],[0.8888888888888888,\"#fdca26\"],[1.0,\"#f0f921\"]]}],\"heatmap\":[{\"type\":\"heatmap\",\"colorbar\":{\"outlinewidth\":0,\"ticks\":\"\"},\"colorscale\":[[0.0,\"#0d0887\"],[0.1111111111111111,\"#46039f\"],[0.2222222222222222,\"#7201a8\"],[0.3333333333333333,\"#9c179e\"],[0.4444444444444444,\"#bd3786\"],[0.5555555555555556,\"#d8576b\"],[0.6666666666666666,\"#ed7953\"],[0.7777777777777778,\"#fb9f3a\"],[0.8888888888888888,\"#fdca26\"],[1.0,\"#f0f921\"]]}],\"heatmapgl\":[{\"type\":\"heatmapgl\",\"colorbar\":{\"outlinewidth\":0,\"ticks\":\"\"},\"colorscale\":[[0.0,\"#0d0887\"],[0.1111111111111111,\"#46039f\"],[0.2222222222222222,\"#7201a8\"],[0.3333333333333333,\"#9c179e\"],[0.4444444444444444,\"#bd3786\"],[0.5555555555555556,\"#d8576b\"],[0.6666666666666666,\"#ed7953\"],[0.7777777777777778,\"#fb9f3a\"],[0.8888888888888888,\"#fdca26\"],[1.0,\"#f0f921\"]]}],\"contourcarpet\":[{\"type\":\"contourcarpet\",\"colorbar\":{\"outlinewidth\":0,\"ticks\":\"\"}}],\"contour\":[{\"type\":\"contour\",\"colorbar\":{\"outlinewidth\":0,\"ticks\":\"\"},\"colorscale\":[[0.0,\"#0d0887\"],[0.1111111111111111,\"#46039f\"],[0.2222222222222222,\"#7201a8\"],[0.3333333333333333,\"#9c179e\"],[0.4444444444444444,\"#bd3786\"],[0.5555555555555556,\"#d8576b\"],[0.6666666666666666,\"#ed7953\"],[0.7777777777777778,\"#fb9f3a\"],[0.8888888888888888,\"#fdca26\"],[1.0,\"#f0f921\"]]}],\"surface\":[{\"type\":\"surface\",\"colorbar\":{\"outlinewidth\":0,\"ticks\":\"\"},\"colorscale\":[[0.0,\"#0d0887\"],[0.1111111111111111,\"#46039f\"],[0.2222222222222222,\"#7201a8\"],[0.3333333333333333,\"#9c179e\"],[0.4444444444444444,\"#bd3786\"],[0.5555555555555556,\"#d8576b\"],[0.6666666666666666,\"#ed7953\"],[0.7777777777777778,\"#fb9f3a\"],[0.8888888888888888,\"#fdca26\"],[1.0,\"#f0f921\"]]}],\"mesh3d\":[{\"type\":\"mesh3d\",\"colorbar\":{\"outlinewidth\":0,\"ticks\":\"\"}}],\"scatter\":[{\"fillpattern\":{\"fillmode\":\"overlay\",\"size\":10,\"solidity\":0.2},\"type\":\"scatter\"}],\"parcoords\":[{\"type\":\"parcoords\",\"line\":{\"colorbar\":{\"outlinewidth\":0,\"ticks\":\"\"}}}],\"scatterpolargl\":[{\"type\":\"scatterpolargl\",\"marker\":{\"colorbar\":{\"outlinewidth\":0,\"ticks\":\"\"}}}],\"bar\":[{\"error_x\":{\"color\":\"#2a3f5f\"},\"error_y\":{\"color\":\"#2a3f5f\"},\"marker\":{\"line\":{\"color\":\"#E5ECF6\",\"width\":0.5},\"pattern\":{\"fillmode\":\"overlay\",\"size\":10,\"solidity\":0.2}},\"type\":\"bar\"}],\"scattergeo\":[{\"type\":\"scattergeo\",\"marker\":{\"colorbar\":{\"outlinewidth\":0,\"ticks\":\"\"}}}],\"scatterpolar\":[{\"type\":\"scatterpolar\",\"marker\":{\"colorbar\":{\"outlinewidth\":0,\"ticks\":\"\"}}}],\"histogram\":[{\"marker\":{\"pattern\":{\"fillmode\":\"overlay\",\"size\":10,\"solidity\":0.2}},\"type\":\"histogram\"}],\"scattergl\":[{\"type\":\"scattergl\",\"marker\":{\"colorbar\":{\"outlinewidth\":0,\"ticks\":\"\"}}}],\"scatter3d\":[{\"type\":\"scatter3d\",\"line\":{\"colorbar\":{\"outlinewidth\":0,\"ticks\":\"\"}},\"marker\":{\"colorbar\":{\"outlinewidth\":0,\"ticks\":\"\"}}}],\"scattermapbox\":[{\"type\":\"scattermapbox\",\"marker\":{\"colorbar\":{\"outlinewidth\":0,\"ticks\":\"\"}}}],\"scatterternary\":[{\"type\":\"scatterternary\",\"marker\":{\"colorbar\":{\"outlinewidth\":0,\"ticks\":\"\"}}}],\"scattercarpet\":[{\"type\":\"scattercarpet\",\"marker\":{\"colorbar\":{\"outlinewidth\":0,\"ticks\":\"\"}}}],\"carpet\":[{\"aaxis\":{\"endlinecolor\":\"#2a3f5f\",\"gridcolor\":\"white\",\"linecolor\":\"white\",\"minorgridcolor\":\"white\",\"startlinecolor\":\"#2a3f5f\"},\"baxis\":{\"endlinecolor\":\"#2a3f5f\",\"gridcolor\":\"white\",\"linecolor\":\"white\",\"minorgridcolor\":\"white\",\"startlinecolor\":\"#2a3f5f\"},\"type\":\"carpet\"}],\"table\":[{\"cells\":{\"fill\":{\"color\":\"#EBF0F8\"},\"line\":{\"color\":\"white\"}},\"header\":{\"fill\":{\"color\":\"#C8D4E3\"},\"line\":{\"color\":\"white\"}},\"type\":\"table\"}],\"barpolar\":[{\"marker\":{\"line\":{\"color\":\"#E5ECF6\",\"width\":0.5},\"pattern\":{\"fillmode\":\"overlay\",\"size\":10,\"solidity\":0.2}},\"type\":\"barpolar\"}],\"pie\":[{\"automargin\":true,\"type\":\"pie\"}]},\"layout\":{\"autotypenumbers\":\"strict\",\"colorway\":[\"#636efa\",\"#EF553B\",\"#00cc96\",\"#ab63fa\",\"#FFA15A\",\"#19d3f3\",\"#FF6692\",\"#B6E880\",\"#FF97FF\",\"#FECB52\"],\"font\":{\"color\":\"#2a3f5f\"},\"hovermode\":\"closest\",\"hoverlabel\":{\"align\":\"left\"},\"paper_bgcolor\":\"white\",\"plot_bgcolor\":\"#E5ECF6\",\"polar\":{\"bgcolor\":\"#E5ECF6\",\"angularaxis\":{\"gridcolor\":\"white\",\"linecolor\":\"white\",\"ticks\":\"\"},\"radialaxis\":{\"gridcolor\":\"white\",\"linecolor\":\"white\",\"ticks\":\"\"}},\"ternary\":{\"bgcolor\":\"#E5ECF6\",\"aaxis\":{\"gridcolor\":\"white\",\"linecolor\":\"white\",\"ticks\":\"\"},\"baxis\":{\"gridcolor\":\"white\",\"linecolor\":\"white\",\"ticks\":\"\"},\"caxis\":{\"gridcolor\":\"white\",\"linecolor\":\"white\",\"ticks\":\"\"}},\"coloraxis\":{\"colorbar\":{\"outlinewidth\":0,\"ticks\":\"\"}},\"colorscale\":{\"sequential\":[[0.0,\"#0d0887\"],[0.1111111111111111,\"#46039f\"],[0.2222222222222222,\"#7201a8\"],[0.3333333333333333,\"#9c179e\"],[0.4444444444444444,\"#bd3786\"],[0.5555555555555556,\"#d8576b\"],[0.6666666666666666,\"#ed7953\"],[0.7777777777777778,\"#fb9f3a\"],[0.8888888888888888,\"#fdca26\"],[1.0,\"#f0f921\"]],\"sequentialminus\":[[0.0,\"#0d0887\"],[0.1111111111111111,\"#46039f\"],[0.2222222222222222,\"#7201a8\"],[0.3333333333333333,\"#9c179e\"],[0.4444444444444444,\"#bd3786\"],[0.5555555555555556,\"#d8576b\"],[0.6666666666666666,\"#ed7953\"],[0.7777777777777778,\"#fb9f3a\"],[0.8888888888888888,\"#fdca26\"],[1.0,\"#f0f921\"]],\"diverging\":[[0,\"#8e0152\"],[0.1,\"#c51b7d\"],[0.2,\"#de77ae\"],[0.3,\"#f1b6da\"],[0.4,\"#fde0ef\"],[0.5,\"#f7f7f7\"],[0.6,\"#e6f5d0\"],[0.7,\"#b8e186\"],[0.8,\"#7fbc41\"],[0.9,\"#4d9221\"],[1,\"#276419\"]]},\"xaxis\":{\"gridcolor\":\"white\",\"linecolor\":\"white\",\"ticks\":\"\",\"title\":{\"standoff\":15},\"zerolinecolor\":\"white\",\"automargin\":true,\"zerolinewidth\":2},\"yaxis\":{\"gridcolor\":\"white\",\"linecolor\":\"white\",\"ticks\":\"\",\"title\":{\"standoff\":15},\"zerolinecolor\":\"white\",\"automargin\":true,\"zerolinewidth\":2},\"scene\":{\"xaxis\":{\"backgroundcolor\":\"#E5ECF6\",\"gridcolor\":\"white\",\"linecolor\":\"white\",\"showbackground\":true,\"ticks\":\"\",\"zerolinecolor\":\"white\",\"gridwidth\":2},\"yaxis\":{\"backgroundcolor\":\"#E5ECF6\",\"gridcolor\":\"white\",\"linecolor\":\"white\",\"showbackground\":true,\"ticks\":\"\",\"zerolinecolor\":\"white\",\"gridwidth\":2},\"zaxis\":{\"backgroundcolor\":\"#E5ECF6\",\"gridcolor\":\"white\",\"linecolor\":\"white\",\"showbackground\":true,\"ticks\":\"\",\"zerolinecolor\":\"white\",\"gridwidth\":2}},\"shapedefaults\":{\"line\":{\"color\":\"#2a3f5f\"}},\"annotationdefaults\":{\"arrowcolor\":\"#2a3f5f\",\"arrowhead\":0,\"arrowwidth\":1},\"geo\":{\"bgcolor\":\"white\",\"landcolor\":\"#E5ECF6\",\"subunitcolor\":\"white\",\"showland\":true,\"showlakes\":true,\"lakecolor\":\"white\"},\"title\":{\"x\":0.05},\"mapbox\":{\"style\":\"light\"}}},\"xaxis\":{\"anchor\":\"y\",\"domain\":[0.0,1.0],\"title\":{\"text\":\"x\"}},\"yaxis\":{\"anchor\":\"x\",\"domain\":[0.0,1.0],\"title\":{\"text\":\"y\"}},\"legend\":{\"tracegroupgap\":0},\"margin\":{\"t\":60}},                        {\"responsive\": true}                    ).then(function(){\n",
       "                            \n",
       "var gd = document.getElementById('edd9c827-6af7-4d56-888d-b46c2e2a3d53');\n",
       "var x = new MutationObserver(function (mutations, observer) {{\n",
       "        var display = window.getComputedStyle(gd).display;\n",
       "        if (!display || display === 'none') {{\n",
       "            console.log([gd, 'removed!']);\n",
       "            Plotly.purge(gd);\n",
       "            observer.disconnect();\n",
       "        }}\n",
       "}});\n",
       "\n",
       "// Listen for the removal of the full notebook cells\n",
       "var notebookContainer = gd.closest('#notebook-container');\n",
       "if (notebookContainer) {{\n",
       "    x.observe(notebookContainer, {childList: true});\n",
       "}}\n",
       "\n",
       "// Listen for the clearing of the current output cell\n",
       "var outputEl = gd.closest('.output');\n",
       "if (outputEl) {{\n",
       "    x.observe(outputEl, {childList: true});\n",
       "}}\n",
       "\n",
       "                        })                };                });            </script>        </div>"
      ]
     },
     "metadata": {},
     "output_type": "display_data"
    }
   ],
   "source": []
  },
  {
   "cell_type": "code",
   "execution_count": 26,
   "id": "d4d806c3",
   "metadata": {},
   "outputs": [
    {
     "data": {
      "application/vnd.plotly.v1+json": {
       "config": {
        "plotlyServerURL": "https://plot.ly"
       },
       "data": [
        {
         "hovertemplate": "x=%{x}<br>y=%{y}<extra></extra>",
         "legendgroup": "",
         "marker": {
          "color": "#636efa",
          "symbol": "circle"
         },
         "mode": "markers",
         "name": "",
         "orientation": "v",
         "showlegend": false,
         "type": "scatter",
         "x": [
          -31.044750212543,
          -3.61559850646544,
          29.187369406781,
          22.968038016404,
          -12.7695315484629,
          -49.2680673081812,
          -40.2550055116868,
          -19.1870841356843,
          -3.08750320468906,
          -16.9062977007146,
          -33.4889167714665,
          -16.4342177108076,
          -19.7710571837546,
          -69.7798761936027,
          -217.167568442465,
          -55.9180529394051,
          5.99245291137804,
          -7.42287950326836,
          14.8375717254032,
          -17.5398120947291,
          -186.601038236347,
          -350.643497326468,
          -14.4088020936071,
          -0.482355238970854,
          -14.1181730933179,
          -57.9865852450815,
          -136.075979847862,
          -136.139684840601,
          -4.47804217739959,
          10.7160081946286,
          71.3621498241403,
          103.706321944994,
          105.438372052035,
          80.7405495060133,
          59.2214154511462,
          -27.8174662342012,
          -55.6343213855649,
          -53.5989057119252,
          -33.8122883408104,
          -16.8601380717252,
          -18.4005919213155,
          -18.0680789194114,
          8.7575236372799,
          -31.0059931240108,
          -73.4397308244394,
          -112.101417048848,
          -137.129248462823,
          -28.7964510704774,
          -6.34357914039259,
          -57.7395229692026,
          -49.0452294637718,
          -18.1486274354545,
          26.8767187969667,
          38.2379002695915,
          6.95541303019656,
          -10.0664606422904,
          -23.5509716027916,
          -29.0755010530077,
          -48.2241103583943,
          -84.2763928786633,
          -38.5393849993544,
          -20.1848177501308,
          7.18757648718252,
          12.767815927475,
          33.3312823793499,
          47.3111497742127,
          103.216674717199,
          24.9596959687292,
          41.6808162770303,
          48.7940784547648,
          48.3156829299682,
          22.5723002622845,
          -7.97326500803232,
          -17.648205479644,
          2.97275235158205,
          -11.6893149705165,
          -9.42643121573517,
          -7.01679509076638,
          -8.24397332859321,
          -4.78390202026914,
          5.43190753498076,
          -37.5612599159831,
          -26.8131003310826,
          3.04322777627681,
          7.84992907884332,
          21.8875369871477,
          37.5868002571681,
          37.5460203464315,
          1.25862646258641,
          -3.76178389125711,
          2.56058665556015,
          -3.36140096314563,
          -10.0715520421001,
          -18.1134077263574,
          -16.5678034596158,
          -23.3818376316374,
          -53.0891628610966,
          -43.392354390415,
          -3.6197440375041,
          22.4698309322735,
          -1.67258351759897,
          -32.5217772589594,
          -41.1921580138771,
          -57.4193138946459,
          -53.5505747608339,
          -15.4396426348265,
          -18.9023700061237,
          -26.6173755528096,
          -10.8570878502026,
          -17.7511767123862,
          -28.25128863905,
          -42.1176315341062,
          -11.5691101852246,
          0.848958039521358,
          11.0715365659691,
          -11.27333845239,
          -26.1033899926074,
          -16.9596760731475,
          -9.03888300567224,
          4.96271452589234,
          21.5862383304243,
          17.2250348338712,
          13.3478885907473,
          1.96725598563481,
          -0.282700909412811,
          -22.6250393499417,
          -37.8901171771227,
          -16.788355819675,
          -46.7519939086903,
          -9.03700154386821,
          57.6869427460495,
          109.68075625368,
          1.57128137515223,
          4.06807581782718,
          -14.2363396459444,
          -34.4278453659298,
          -12.3290794944038,
          26.0802744150872,
          48.6443697218943,
          -8.05233362948122,
          -2.5967766265224,
          22.6496124058322,
          22.1521794456002,
          1.00080271092005,
          -37.6148082280623,
          -73.0933499714197,
          -48.6501362978602,
          6.82481772770894,
          214.916105251359,
          420.454054919529,
          -9.44687238365509,
          21.7693981000101,
          13.5127376204195,
          2.77610828151918,
          11.0405831117609,
          7.29013508280617,
          2.0972919894369,
          -46.5737199673253,
          -39.7987048676102,
          -105.033700774627,
          -57.7514735038226,
          -131.089374053505,
          -116.957104403999,
          -142.52018559957,
          42.9461389086072,
          95.7333874328336,
          137.204558849016,
          -91.0873849041836,
          -5.27602305962692,
          -33.3400135304965,
          -23.5022061684638,
          -5.01877411549601,
          33.956321530835,
          34.2356953024868,
          -22.0748981183019,
          22.5465707450632,
          28.4992729990453,
          0.111282759781398,
          -18.2048348649362,
          -32.3946883374124,
          -26.4319718542242,
          -34.9200402205538,
          -15.800643863889,
          -13.3333668272294,
          -7.69673033315665,
          -5.46477651512628,
          -10.8468812651687,
          -0.836139869826859,
          22.9608111856947,
          14.0392488286237,
          23.3579470095489,
          3.47167800249363,
          4.6061913008666,
          58.2019930627088,
          58.2527065725265,
          -9.31687210189394,
          -21.6034513030479,
          -49.868528178663,
          -20.7699120930337,
          -34.3547782637951,
          -50.8932365666763,
          -49.397021719326,
          -44.9446525497378,
          -28.6345740486887,
          9.50426063323892,
          1.70413524455114,
          22.0611902773514,
          11.8237443449335,
          10.8243876283607,
          6.78765849363151,
          -5.61405271329325,
          -1.88398208488054,
          8.40510426320409,
          13.3336003104621,
          38.6517962987742,
          -23.7505663985151,
          40.2367128085931,
          -6.72568790741865,
          -43.4781213540304,
          -2.20516848049812,
          -1.0735585761074,
          -27.7539989016986,
          -16.5594503156267,
          -11.4912976927129,
          6.60914680055989,
          0.891395720401356,
          -33.3708481479049,
          22.0490204311236,
          30.3286772673043,
          27.1724955013064,
          18.3167091182712,
          0.90951406998595,
          -11.8543913845165,
          -18.0832187091767,
          9.27344081616644,
          10.4428575155542,
          9.39163626857236,
          -0.684176915924397,
          -7.21761612818866,
          -4.28775293733587,
          3.2700445512159,
          -51.2206151554068,
          -46.449766459605,
          -15.7245030114095,
          11.3847698265093,
          0.813625221259605,
          -9.3437644476777,
          32.4346245366205,
          42.3214858184547,
          16.7513962646684,
          -4.081628538741,
          -3.52711933315073,
          9.08982905175478,
          4.67019180789694,
          -0.128455633955258,
          -13.8503828210408,
          -16.5209267487751,
          -8.79553745861429,
          -8.65415187906511,
          6.58780201228955,
          19.9191392040032,
          17.6137255012702,
          -0.40163435852527,
          23.9651115071911,
          65.0377369448298,
          60.0710379850767,
          11.3517351244295,
          27.7465747897289,
          29.9779146137301,
          -2.73952171917619,
          -41.953050420014,
          -53.852769972447,
          -15.6708324627802,
          4.36242844715262,
          21.1763592268684,
          26.6917130420463,
          18.3664027954599,
          12.2876708132694,
          14.4065189659643,
          20.6973015025313,
          21.6447969751084,
          25.9394845356098,
          37.3706283730889,
          45.3701807939226,
          23.0137448721804,
          8.68260255013359,
          41.6983553804561,
          76.7335598415079,
          78.6074543027084,
          6.35242276115751,
          -99.4167427843329,
          -140.166101153313,
          -3.60278668305938,
          -3.43486387735124,
          -3.93776210624902,
          -8.89153958480805,
          -22.041810625081,
          -22.703355790888,
          -12.0663907972633,
          -4.78077439266461,
          3.34568819986363,
          12.9140695196865,
          6.87593122004122,
          1.33904394343326,
          5.61983618805986,
          16.48720622947,
          9.00361567479404,
          13.4559841114031,
          11.0736187343596,
          9.13719775713426,
          3.81570991937798,
          -0.771245094505196,
          0.085235231145917,
          16.7964589579391,
          18.3376467519702,
          19.2350544131576,
          12.7795639596803,
          -7.66587748395945,
          -25.9159144619384,
          -23.9935286189439,
          -0.748984505419421,
          -9.65472595530042,
          -12.398691686894,
          -0.992141150560103,
          -3.79360396187655,
          -14.4322756463336,
          -20.0496194189426,
          5.12487078985075,
          -10.7755688003078,
          -14.3964356279508,
          -4.28796116998824,
          3.58007774926288,
          1.68067066832406,
          -1.87837997376678,
          -2.60558623545028,
          -8.4195674691248,
          -1.03423547802477,
          -4.70246196147022,
          -1.22930433930932,
          20.3547091187778,
          -26.3508793100379,
          -22.1996384418327,
          16.9637685041109,
          36.4938267818049,
          31.904035768076,
          35.9549231084513,
          27.4567609549762,
          4.47412951996939,
          11.0207359054418,
          -92.3874208662287,
          -61.614701977243
         ],
         "xaxis": "x",
         "y": [
          -31.044750212543,
          -3.61559850646544,
          29.187369406781,
          22.968038016404,
          -12.7695315484629,
          -49.2680673081812,
          -40.2550055116868,
          -19.1870841356843,
          -3.08750320468906,
          -16.9062977007146,
          -33.4889167714665,
          -16.4342177108076,
          -19.7710571837546,
          -69.7798761936027,
          -217.167568442465,
          -55.9180529394051,
          5.99245291137804,
          -7.42287950326836,
          14.8375717254032,
          -17.5398120947291,
          -186.601038236347,
          -350.643497326468,
          -14.4088020936071,
          -0.482355238970854,
          -14.1181730933179,
          -57.9865852450815,
          -136.075979847862,
          -136.139684840601,
          -4.47804217739959,
          10.7160081946286,
          71.3621498241403,
          103.706321944994,
          105.438372052035,
          80.7405495060133,
          59.2214154511462,
          -27.8174662342012,
          -55.6343213855649,
          -53.5989057119252,
          -33.8122883408104,
          -16.8601380717252,
          -18.4005919213155,
          -18.0680789194114,
          8.7575236372799,
          -31.0059931240108,
          -73.4397308244394,
          -112.101417048848,
          -137.129248462823,
          -28.7964510704774,
          -6.34357914039259,
          -57.7395229692026,
          -49.0452294637718,
          -18.1486274354545,
          26.8767187969667,
          38.2379002695915,
          6.95541303019656,
          -10.0664606422904,
          -23.5509716027916,
          -29.0755010530077,
          -48.2241103583943,
          -84.2763928786633,
          -38.5393849993544,
          -20.1848177501308,
          7.18757648718252,
          12.767815927475,
          33.3312823793499,
          47.3111497742127,
          103.216674717199,
          24.9596959687292,
          41.6808162770303,
          48.7940784547648,
          48.3156829299682,
          22.5723002622845,
          -7.97326500803232,
          -17.648205479644,
          2.97275235158205,
          -11.6893149705165,
          -9.42643121573517,
          -7.01679509076638,
          -8.24397332859321,
          -4.78390202026914,
          5.43190753498076,
          -37.5612599159831,
          -26.8131003310826,
          3.04322777627681,
          7.84992907884332,
          21.8875369871477,
          37.5868002571681,
          37.5460203464315,
          1.25862646258641,
          -3.76178389125711,
          2.56058665556015,
          -3.36140096314563,
          -10.0715520421001,
          -18.1134077263574,
          -16.5678034596158,
          -23.3818376316374,
          -53.0891628610966,
          -43.392354390415,
          -3.6197440375041,
          22.4698309322735,
          -1.67258351759897,
          -32.5217772589594,
          -41.1921580138771,
          -57.4193138946459,
          -53.5505747608339,
          -15.4396426348265,
          -18.9023700061237,
          -26.6173755528096,
          -10.8570878502026,
          -17.7511767123862,
          -28.25128863905,
          -42.1176315341062,
          -11.5691101852246,
          0.848958039521358,
          11.0715365659691,
          -11.27333845239,
          -26.1033899926074,
          -16.9596760731475,
          -9.03888300567224,
          4.96271452589234,
          21.5862383304243,
          17.2250348338712,
          13.3478885907473,
          1.96725598563481,
          -0.282700909412811,
          -22.6250393499417,
          -37.8901171771227,
          -16.788355819675,
          -46.7519939086903,
          -9.03700154386821,
          57.6869427460495,
          109.68075625368,
          1.57128137515223,
          4.06807581782718,
          -14.2363396459444,
          -34.4278453659298,
          -12.3290794944038,
          26.0802744150872,
          48.6443697218943,
          -8.05233362948122,
          -2.5967766265224,
          22.6496124058322,
          22.1521794456002,
          1.00080271092005,
          -37.6148082280623,
          -73.0933499714197,
          -48.6501362978602,
          6.82481772770894,
          214.916105251359,
          420.454054919529,
          -9.44687238365509,
          21.7693981000101,
          13.5127376204195,
          2.77610828151918,
          11.0405831117609,
          7.29013508280617,
          2.0972919894369,
          -46.5737199673253,
          -39.7987048676102,
          -105.033700774627,
          -57.7514735038226,
          -131.089374053505,
          -116.957104403999,
          -142.52018559957,
          42.9461389086072,
          95.7333874328336,
          137.204558849016,
          -91.0873849041836,
          -5.27602305962692,
          -33.3400135304965,
          -23.5022061684638,
          -5.01877411549601,
          33.956321530835,
          34.2356953024868,
          -22.0748981183019,
          22.5465707450632,
          28.4992729990453,
          0.111282759781398,
          -18.2048348649362,
          -32.3946883374124,
          -26.4319718542242,
          -34.9200402205538,
          -15.800643863889,
          -13.3333668272294,
          -7.69673033315665,
          -5.46477651512628,
          -10.8468812651687,
          -0.836139869826859,
          22.9608111856947,
          14.0392488286237,
          23.3579470095489,
          3.47167800249363,
          4.6061913008666,
          58.2019930627088,
          58.2527065725265,
          -9.31687210189394,
          -21.6034513030479,
          -49.868528178663,
          -20.7699120930337,
          -34.3547782637951,
          -50.8932365666763,
          -49.397021719326,
          -44.9446525497378,
          -28.6345740486887,
          9.50426063323892,
          1.70413524455114,
          22.0611902773514,
          11.8237443449335,
          10.8243876283607,
          6.78765849363151,
          -5.61405271329325,
          -1.88398208488054,
          8.40510426320409,
          13.3336003104621,
          38.6517962987742,
          -23.7505663985151,
          40.2367128085931,
          -6.72568790741865,
          -43.4781213540304,
          -2.20516848049812,
          -1.0735585761074,
          -27.7539989016986,
          -16.5594503156267,
          -11.4912976927129,
          6.60914680055989,
          0.891395720401356,
          -33.3708481479049,
          22.0490204311236,
          30.3286772673043,
          27.1724955013064,
          18.3167091182712,
          0.90951406998595,
          -11.8543913845165,
          -18.0832187091767,
          9.27344081616644,
          10.4428575155542,
          9.39163626857236,
          -0.684176915924397,
          -7.21761612818866,
          -4.28775293733587,
          3.2700445512159,
          -51.2206151554068,
          -46.449766459605,
          -15.7245030114095,
          11.3847698265093,
          0.813625221259605,
          -9.3437644476777,
          32.4346245366205,
          42.3214858184547,
          16.7513962646684,
          -4.081628538741,
          -3.52711933315073,
          9.08982905175478,
          4.67019180789694,
          -0.128455633955258,
          -13.8503828210408,
          -16.5209267487751,
          -8.79553745861429,
          -8.65415187906511,
          6.58780201228955,
          19.9191392040032,
          17.6137255012702,
          -0.40163435852527,
          23.9651115071911,
          65.0377369448298,
          60.0710379850767,
          11.3517351244295,
          27.7465747897289,
          29.9779146137301,
          -2.73952171917619,
          -41.953050420014,
          -53.852769972447,
          -15.6708324627802,
          4.36242844715262,
          21.1763592268684,
          26.6917130420463,
          18.3664027954599,
          12.2876708132694,
          14.4065189659643,
          20.6973015025313,
          21.6447969751084,
          25.9394845356098,
          37.3706283730889,
          45.3701807939226,
          23.0137448721804,
          8.68260255013359,
          41.6983553804561,
          76.7335598415079,
          78.6074543027084,
          6.35242276115751,
          -99.4167427843329,
          -140.166101153313,
          -3.60278668305938,
          -3.43486387735124,
          -3.93776210624902,
          -8.89153958480805,
          -22.041810625081,
          -22.703355790888,
          -12.0663907972633,
          -4.78077439266461,
          3.34568819986363,
          12.9140695196865,
          6.87593122004122,
          1.33904394343326,
          5.61983618805986,
          16.48720622947,
          9.00361567479404,
          13.4559841114031,
          11.0736187343596,
          9.13719775713426,
          3.81570991937798,
          -0.771245094505196,
          0.085235231145917,
          16.7964589579391,
          18.3376467519702,
          19.2350544131576,
          12.7795639596803,
          -7.66587748395945,
          -25.9159144619384,
          -23.9935286189439,
          -0.748984505419421,
          -9.65472595530042,
          -12.398691686894,
          -0.992141150560103,
          -3.79360396187655,
          -14.4322756463336,
          -20.0496194189426,
          5.12487078985075,
          -10.7755688003078,
          -14.3964356279508,
          -4.28796116998824,
          3.58007774926288,
          1.68067066832406,
          -1.87837997376678,
          -2.60558623545028,
          -8.4195674691248,
          -1.03423547802477,
          -4.70246196147022,
          -1.22930433930932,
          20.3547091187778,
          -26.3508793100379,
          -22.1996384418327,
          16.9637685041109,
          36.4938267818049,
          31.904035768076,
          35.9549231084513,
          27.4567609549762,
          4.47412951996939,
          11.0207359054418,
          -92.3874208662287,
          -61.614701977243
         ],
         "yaxis": "y"
        }
       ],
       "layout": {
        "legend": {
         "tracegroupgap": 0
        },
        "margin": {
         "t": 60
        },
        "template": {
         "data": {
          "bar": [
           {
            "error_x": {
             "color": "#2a3f5f"
            },
            "error_y": {
             "color": "#2a3f5f"
            },
            "marker": {
             "line": {
              "color": "#E5ECF6",
              "width": 0.5
             },
             "pattern": {
              "fillmode": "overlay",
              "size": 10,
              "solidity": 0.2
             }
            },
            "type": "bar"
           }
          ],
          "barpolar": [
           {
            "marker": {
             "line": {
              "color": "#E5ECF6",
              "width": 0.5
             },
             "pattern": {
              "fillmode": "overlay",
              "size": 10,
              "solidity": 0.2
             }
            },
            "type": "barpolar"
           }
          ],
          "carpet": [
           {
            "aaxis": {
             "endlinecolor": "#2a3f5f",
             "gridcolor": "white",
             "linecolor": "white",
             "minorgridcolor": "white",
             "startlinecolor": "#2a3f5f"
            },
            "baxis": {
             "endlinecolor": "#2a3f5f",
             "gridcolor": "white",
             "linecolor": "white",
             "minorgridcolor": "white",
             "startlinecolor": "#2a3f5f"
            },
            "type": "carpet"
           }
          ],
          "choropleth": [
           {
            "colorbar": {
             "outlinewidth": 0,
             "ticks": ""
            },
            "type": "choropleth"
           }
          ],
          "contour": [
           {
            "colorbar": {
             "outlinewidth": 0,
             "ticks": ""
            },
            "colorscale": [
             [
              0,
              "#0d0887"
             ],
             [
              0.1111111111111111,
              "#46039f"
             ],
             [
              0.2222222222222222,
              "#7201a8"
             ],
             [
              0.3333333333333333,
              "#9c179e"
             ],
             [
              0.4444444444444444,
              "#bd3786"
             ],
             [
              0.5555555555555556,
              "#d8576b"
             ],
             [
              0.6666666666666666,
              "#ed7953"
             ],
             [
              0.7777777777777778,
              "#fb9f3a"
             ],
             [
              0.8888888888888888,
              "#fdca26"
             ],
             [
              1,
              "#f0f921"
             ]
            ],
            "type": "contour"
           }
          ],
          "contourcarpet": [
           {
            "colorbar": {
             "outlinewidth": 0,
             "ticks": ""
            },
            "type": "contourcarpet"
           }
          ],
          "heatmap": [
           {
            "colorbar": {
             "outlinewidth": 0,
             "ticks": ""
            },
            "colorscale": [
             [
              0,
              "#0d0887"
             ],
             [
              0.1111111111111111,
              "#46039f"
             ],
             [
              0.2222222222222222,
              "#7201a8"
             ],
             [
              0.3333333333333333,
              "#9c179e"
             ],
             [
              0.4444444444444444,
              "#bd3786"
             ],
             [
              0.5555555555555556,
              "#d8576b"
             ],
             [
              0.6666666666666666,
              "#ed7953"
             ],
             [
              0.7777777777777778,
              "#fb9f3a"
             ],
             [
              0.8888888888888888,
              "#fdca26"
             ],
             [
              1,
              "#f0f921"
             ]
            ],
            "type": "heatmap"
           }
          ],
          "heatmapgl": [
           {
            "colorbar": {
             "outlinewidth": 0,
             "ticks": ""
            },
            "colorscale": [
             [
              0,
              "#0d0887"
             ],
             [
              0.1111111111111111,
              "#46039f"
             ],
             [
              0.2222222222222222,
              "#7201a8"
             ],
             [
              0.3333333333333333,
              "#9c179e"
             ],
             [
              0.4444444444444444,
              "#bd3786"
             ],
             [
              0.5555555555555556,
              "#d8576b"
             ],
             [
              0.6666666666666666,
              "#ed7953"
             ],
             [
              0.7777777777777778,
              "#fb9f3a"
             ],
             [
              0.8888888888888888,
              "#fdca26"
             ],
             [
              1,
              "#f0f921"
             ]
            ],
            "type": "heatmapgl"
           }
          ],
          "histogram": [
           {
            "marker": {
             "pattern": {
              "fillmode": "overlay",
              "size": 10,
              "solidity": 0.2
             }
            },
            "type": "histogram"
           }
          ],
          "histogram2d": [
           {
            "colorbar": {
             "outlinewidth": 0,
             "ticks": ""
            },
            "colorscale": [
             [
              0,
              "#0d0887"
             ],
             [
              0.1111111111111111,
              "#46039f"
             ],
             [
              0.2222222222222222,
              "#7201a8"
             ],
             [
              0.3333333333333333,
              "#9c179e"
             ],
             [
              0.4444444444444444,
              "#bd3786"
             ],
             [
              0.5555555555555556,
              "#d8576b"
             ],
             [
              0.6666666666666666,
              "#ed7953"
             ],
             [
              0.7777777777777778,
              "#fb9f3a"
             ],
             [
              0.8888888888888888,
              "#fdca26"
             ],
             [
              1,
              "#f0f921"
             ]
            ],
            "type": "histogram2d"
           }
          ],
          "histogram2dcontour": [
           {
            "colorbar": {
             "outlinewidth": 0,
             "ticks": ""
            },
            "colorscale": [
             [
              0,
              "#0d0887"
             ],
             [
              0.1111111111111111,
              "#46039f"
             ],
             [
              0.2222222222222222,
              "#7201a8"
             ],
             [
              0.3333333333333333,
              "#9c179e"
             ],
             [
              0.4444444444444444,
              "#bd3786"
             ],
             [
              0.5555555555555556,
              "#d8576b"
             ],
             [
              0.6666666666666666,
              "#ed7953"
             ],
             [
              0.7777777777777778,
              "#fb9f3a"
             ],
             [
              0.8888888888888888,
              "#fdca26"
             ],
             [
              1,
              "#f0f921"
             ]
            ],
            "type": "histogram2dcontour"
           }
          ],
          "mesh3d": [
           {
            "colorbar": {
             "outlinewidth": 0,
             "ticks": ""
            },
            "type": "mesh3d"
           }
          ],
          "parcoords": [
           {
            "line": {
             "colorbar": {
              "outlinewidth": 0,
              "ticks": ""
             }
            },
            "type": "parcoords"
           }
          ],
          "pie": [
           {
            "automargin": true,
            "type": "pie"
           }
          ],
          "scatter": [
           {
            "fillpattern": {
             "fillmode": "overlay",
             "size": 10,
             "solidity": 0.2
            },
            "type": "scatter"
           }
          ],
          "scatter3d": [
           {
            "line": {
             "colorbar": {
              "outlinewidth": 0,
              "ticks": ""
             }
            },
            "marker": {
             "colorbar": {
              "outlinewidth": 0,
              "ticks": ""
             }
            },
            "type": "scatter3d"
           }
          ],
          "scattercarpet": [
           {
            "marker": {
             "colorbar": {
              "outlinewidth": 0,
              "ticks": ""
             }
            },
            "type": "scattercarpet"
           }
          ],
          "scattergeo": [
           {
            "marker": {
             "colorbar": {
              "outlinewidth": 0,
              "ticks": ""
             }
            },
            "type": "scattergeo"
           }
          ],
          "scattergl": [
           {
            "marker": {
             "colorbar": {
              "outlinewidth": 0,
              "ticks": ""
             }
            },
            "type": "scattergl"
           }
          ],
          "scattermapbox": [
           {
            "marker": {
             "colorbar": {
              "outlinewidth": 0,
              "ticks": ""
             }
            },
            "type": "scattermapbox"
           }
          ],
          "scatterpolar": [
           {
            "marker": {
             "colorbar": {
              "outlinewidth": 0,
              "ticks": ""
             }
            },
            "type": "scatterpolar"
           }
          ],
          "scatterpolargl": [
           {
            "marker": {
             "colorbar": {
              "outlinewidth": 0,
              "ticks": ""
             }
            },
            "type": "scatterpolargl"
           }
          ],
          "scatterternary": [
           {
            "marker": {
             "colorbar": {
              "outlinewidth": 0,
              "ticks": ""
             }
            },
            "type": "scatterternary"
           }
          ],
          "surface": [
           {
            "colorbar": {
             "outlinewidth": 0,
             "ticks": ""
            },
            "colorscale": [
             [
              0,
              "#0d0887"
             ],
             [
              0.1111111111111111,
              "#46039f"
             ],
             [
              0.2222222222222222,
              "#7201a8"
             ],
             [
              0.3333333333333333,
              "#9c179e"
             ],
             [
              0.4444444444444444,
              "#bd3786"
             ],
             [
              0.5555555555555556,
              "#d8576b"
             ],
             [
              0.6666666666666666,
              "#ed7953"
             ],
             [
              0.7777777777777778,
              "#fb9f3a"
             ],
             [
              0.8888888888888888,
              "#fdca26"
             ],
             [
              1,
              "#f0f921"
             ]
            ],
            "type": "surface"
           }
          ],
          "table": [
           {
            "cells": {
             "fill": {
              "color": "#EBF0F8"
             },
             "line": {
              "color": "white"
             }
            },
            "header": {
             "fill": {
              "color": "#C8D4E3"
             },
             "line": {
              "color": "white"
             }
            },
            "type": "table"
           }
          ]
         },
         "layout": {
          "annotationdefaults": {
           "arrowcolor": "#2a3f5f",
           "arrowhead": 0,
           "arrowwidth": 1
          },
          "autotypenumbers": "strict",
          "coloraxis": {
           "colorbar": {
            "outlinewidth": 0,
            "ticks": ""
           }
          },
          "colorscale": {
           "diverging": [
            [
             0,
             "#8e0152"
            ],
            [
             0.1,
             "#c51b7d"
            ],
            [
             0.2,
             "#de77ae"
            ],
            [
             0.3,
             "#f1b6da"
            ],
            [
             0.4,
             "#fde0ef"
            ],
            [
             0.5,
             "#f7f7f7"
            ],
            [
             0.6,
             "#e6f5d0"
            ],
            [
             0.7,
             "#b8e186"
            ],
            [
             0.8,
             "#7fbc41"
            ],
            [
             0.9,
             "#4d9221"
            ],
            [
             1,
             "#276419"
            ]
           ],
           "sequential": [
            [
             0,
             "#0d0887"
            ],
            [
             0.1111111111111111,
             "#46039f"
            ],
            [
             0.2222222222222222,
             "#7201a8"
            ],
            [
             0.3333333333333333,
             "#9c179e"
            ],
            [
             0.4444444444444444,
             "#bd3786"
            ],
            [
             0.5555555555555556,
             "#d8576b"
            ],
            [
             0.6666666666666666,
             "#ed7953"
            ],
            [
             0.7777777777777778,
             "#fb9f3a"
            ],
            [
             0.8888888888888888,
             "#fdca26"
            ],
            [
             1,
             "#f0f921"
            ]
           ],
           "sequentialminus": [
            [
             0,
             "#0d0887"
            ],
            [
             0.1111111111111111,
             "#46039f"
            ],
            [
             0.2222222222222222,
             "#7201a8"
            ],
            [
             0.3333333333333333,
             "#9c179e"
            ],
            [
             0.4444444444444444,
             "#bd3786"
            ],
            [
             0.5555555555555556,
             "#d8576b"
            ],
            [
             0.6666666666666666,
             "#ed7953"
            ],
            [
             0.7777777777777778,
             "#fb9f3a"
            ],
            [
             0.8888888888888888,
             "#fdca26"
            ],
            [
             1,
             "#f0f921"
            ]
           ]
          },
          "colorway": [
           "#636efa",
           "#EF553B",
           "#00cc96",
           "#ab63fa",
           "#FFA15A",
           "#19d3f3",
           "#FF6692",
           "#B6E880",
           "#FF97FF",
           "#FECB52"
          ],
          "font": {
           "color": "#2a3f5f"
          },
          "geo": {
           "bgcolor": "white",
           "lakecolor": "white",
           "landcolor": "#E5ECF6",
           "showlakes": true,
           "showland": true,
           "subunitcolor": "white"
          },
          "hoverlabel": {
           "align": "left"
          },
          "hovermode": "closest",
          "mapbox": {
           "style": "light"
          },
          "paper_bgcolor": "white",
          "plot_bgcolor": "#E5ECF6",
          "polar": {
           "angularaxis": {
            "gridcolor": "white",
            "linecolor": "white",
            "ticks": ""
           },
           "bgcolor": "#E5ECF6",
           "radialaxis": {
            "gridcolor": "white",
            "linecolor": "white",
            "ticks": ""
           }
          },
          "scene": {
           "xaxis": {
            "backgroundcolor": "#E5ECF6",
            "gridcolor": "white",
            "gridwidth": 2,
            "linecolor": "white",
            "showbackground": true,
            "ticks": "",
            "zerolinecolor": "white"
           },
           "yaxis": {
            "backgroundcolor": "#E5ECF6",
            "gridcolor": "white",
            "gridwidth": 2,
            "linecolor": "white",
            "showbackground": true,
            "ticks": "",
            "zerolinecolor": "white"
           },
           "zaxis": {
            "backgroundcolor": "#E5ECF6",
            "gridcolor": "white",
            "gridwidth": 2,
            "linecolor": "white",
            "showbackground": true,
            "ticks": "",
            "zerolinecolor": "white"
           }
          },
          "shapedefaults": {
           "line": {
            "color": "#2a3f5f"
           }
          },
          "ternary": {
           "aaxis": {
            "gridcolor": "white",
            "linecolor": "white",
            "ticks": ""
           },
           "baxis": {
            "gridcolor": "white",
            "linecolor": "white",
            "ticks": ""
           },
           "bgcolor": "#E5ECF6",
           "caxis": {
            "gridcolor": "white",
            "linecolor": "white",
            "ticks": ""
           }
          },
          "title": {
           "x": 0.05
          },
          "xaxis": {
           "automargin": true,
           "gridcolor": "white",
           "linecolor": "white",
           "ticks": "",
           "title": {
            "standoff": 15
           },
           "zerolinecolor": "white",
           "zerolinewidth": 2
          },
          "yaxis": {
           "automargin": true,
           "gridcolor": "white",
           "linecolor": "white",
           "ticks": "",
           "title": {
            "standoff": 15
           },
           "zerolinecolor": "white",
           "zerolinewidth": 2
          }
         }
        },
        "xaxis": {
         "anchor": "y",
         "domain": [
          0,
          1
         ],
         "title": {
          "text": "x"
         }
        },
        "yaxis": {
         "anchor": "x",
         "domain": [
          0,
          1
         ],
         "title": {
          "text": "y"
         }
        }
       }
      },
      "text/html": [
       "<div>                            <div id=\"71147431-f9d1-4a08-aaea-559ebcedcf00\" class=\"plotly-graph-div\" style=\"height:525px; width:100%;\"></div>            <script type=\"text/javascript\">                require([\"plotly\"], function(Plotly) {                    window.PLOTLYENV=window.PLOTLYENV || {};                                    if (document.getElementById(\"71147431-f9d1-4a08-aaea-559ebcedcf00\")) {                    Plotly.newPlot(                        \"71147431-f9d1-4a08-aaea-559ebcedcf00\",                        [{\"hovertemplate\":\"x=%{x}\\u003cbr\\u003ey=%{y}\\u003cextra\\u003e\\u003c\\u002fextra\\u003e\",\"legendgroup\":\"\",\"marker\":{\"color\":\"#636efa\",\"symbol\":\"circle\"},\"mode\":\"markers\",\"name\":\"\",\"orientation\":\"v\",\"showlegend\":false,\"x\":[-31.044750212543,-3.61559850646544,29.187369406781,22.968038016404,-12.7695315484629,-49.2680673081812,-40.2550055116868,-19.1870841356843,-3.08750320468906,-16.9062977007146,-33.4889167714665,-16.4342177108076,-19.7710571837546,-69.7798761936027,-217.167568442465,-55.9180529394051,5.99245291137804,-7.42287950326836,14.8375717254032,-17.5398120947291,-186.601038236347,-350.643497326468,-14.4088020936071,-0.482355238970854,-14.1181730933179,-57.9865852450815,-136.075979847862,-136.139684840601,-4.47804217739959,10.7160081946286,71.3621498241403,103.706321944994,105.438372052035,80.7405495060133,59.2214154511462,-27.8174662342012,-55.6343213855649,-53.5989057119252,-33.8122883408104,-16.8601380717252,-18.4005919213155,-18.0680789194114,8.7575236372799,-31.0059931240108,-73.4397308244394,-112.101417048848,-137.129248462823,-28.7964510704774,-6.34357914039259,-57.7395229692026,-49.0452294637718,-18.1486274354545,26.8767187969667,38.2379002695915,6.95541303019656,-10.0664606422904,-23.5509716027916,-29.0755010530077,-48.2241103583943,-84.2763928786633,-38.5393849993544,-20.1848177501308,7.18757648718252,12.767815927475,33.3312823793499,47.3111497742127,103.216674717199,24.9596959687292,41.6808162770303,48.7940784547648,48.3156829299682,22.5723002622845,-7.97326500803232,-17.648205479644,2.97275235158205,-11.6893149705165,-9.42643121573517,-7.01679509076638,-8.24397332859321,-4.78390202026914,5.43190753498076,-37.5612599159831,-26.8131003310826,3.04322777627681,7.84992907884332,21.8875369871477,37.5868002571681,37.5460203464315,1.25862646258641,-3.76178389125711,2.56058665556015,-3.36140096314563,-10.0715520421001,-18.1134077263574,-16.5678034596158,-23.3818376316374,-53.0891628610966,-43.392354390415,-3.6197440375041,22.4698309322735,-1.67258351759897,-32.5217772589594,-41.1921580138771,-57.4193138946459,-53.5505747608339,-15.4396426348265,-18.9023700061237,-26.6173755528096,-10.8570878502026,-17.7511767123862,-28.25128863905,-42.1176315341062,-11.5691101852246,0.848958039521358,11.0715365659691,-11.27333845239,-26.1033899926074,-16.9596760731475,-9.03888300567224,4.96271452589234,21.5862383304243,17.2250348338712,13.3478885907473,1.96725598563481,-0.282700909412811,-22.6250393499417,-37.8901171771227,-16.788355819675,-46.7519939086903,-9.03700154386821,57.6869427460495,109.68075625368,1.57128137515223,4.06807581782718,-14.2363396459444,-34.4278453659298,-12.3290794944038,26.0802744150872,48.6443697218943,-8.05233362948122,-2.5967766265224,22.6496124058322,22.1521794456002,1.00080271092005,-37.6148082280623,-73.0933499714197,-48.6501362978602,6.82481772770894,214.916105251359,420.454054919529,-9.44687238365509,21.7693981000101,13.5127376204195,2.77610828151918,11.0405831117609,7.29013508280617,2.0972919894369,-46.5737199673253,-39.7987048676102,-105.033700774627,-57.7514735038226,-131.089374053505,-116.957104403999,-142.52018559957,42.9461389086072,95.7333874328336,137.204558849016,-91.0873849041836,-5.27602305962692,-33.3400135304965,-23.5022061684638,-5.01877411549601,33.956321530835,34.2356953024868,-22.0748981183019,22.5465707450632,28.4992729990453,0.111282759781398,-18.2048348649362,-32.3946883374124,-26.4319718542242,-34.9200402205538,-15.800643863889,-13.3333668272294,-7.69673033315665,-5.46477651512628,-10.8468812651687,-0.836139869826859,22.9608111856947,14.0392488286237,23.3579470095489,3.47167800249363,4.6061913008666,58.2019930627088,58.2527065725265,-9.31687210189394,-21.6034513030479,-49.868528178663,-20.7699120930337,-34.3547782637951,-50.8932365666763,-49.397021719326,-44.9446525497378,-28.6345740486887,9.50426063323892,1.70413524455114,22.0611902773514,11.8237443449335,10.8243876283607,6.78765849363151,-5.61405271329325,-1.88398208488054,8.40510426320409,13.3336003104621,38.6517962987742,-23.7505663985151,40.2367128085931,-6.72568790741865,-43.4781213540304,-2.20516848049812,-1.0735585761074,-27.7539989016986,-16.5594503156267,-11.4912976927129,6.60914680055989,0.891395720401356,-33.3708481479049,22.0490204311236,30.3286772673043,27.1724955013064,18.3167091182712,0.90951406998595,-11.8543913845165,-18.0832187091767,9.27344081616644,10.4428575155542,9.39163626857236,-0.684176915924397,-7.21761612818866,-4.28775293733587,3.2700445512159,-51.2206151554068,-46.449766459605,-15.7245030114095,11.3847698265093,0.813625221259605,-9.3437644476777,32.4346245366205,42.3214858184547,16.7513962646684,-4.081628538741,-3.52711933315073,9.08982905175478,4.67019180789694,-0.128455633955258,-13.8503828210408,-16.5209267487751,-8.79553745861429,-8.65415187906511,6.58780201228955,19.9191392040032,17.6137255012702,-0.40163435852527,23.9651115071911,65.0377369448298,60.0710379850767,11.3517351244295,27.7465747897289,29.9779146137301,-2.73952171917619,-41.953050420014,-53.852769972447,-15.6708324627802,4.36242844715262,21.1763592268684,26.6917130420463,18.3664027954599,12.2876708132694,14.4065189659643,20.6973015025313,21.6447969751084,25.9394845356098,37.3706283730889,45.3701807939226,23.0137448721804,8.68260255013359,41.6983553804561,76.7335598415079,78.6074543027084,6.35242276115751,-99.4167427843329,-140.166101153313,-3.60278668305938,-3.43486387735124,-3.93776210624902,-8.89153958480805,-22.041810625081,-22.703355790888,-12.0663907972633,-4.78077439266461,3.34568819986363,12.9140695196865,6.87593122004122,1.33904394343326,5.61983618805986,16.48720622947,9.00361567479404,13.4559841114031,11.0736187343596,9.13719775713426,3.81570991937798,-0.771245094505196,0.085235231145917,16.7964589579391,18.3376467519702,19.2350544131576,12.7795639596803,-7.66587748395945,-25.9159144619384,-23.9935286189439,-0.748984505419421,-9.65472595530042,-12.398691686894,-0.992141150560103,-3.79360396187655,-14.4322756463336,-20.0496194189426,5.12487078985075,-10.7755688003078,-14.3964356279508,-4.28796116998824,3.58007774926288,1.68067066832406,-1.87837997376678,-2.60558623545028,-8.4195674691248,-1.03423547802477,-4.70246196147022,-1.22930433930932,20.3547091187778,-26.3508793100379,-22.1996384418327,16.9637685041109,36.4938267818049,31.904035768076,35.9549231084513,27.4567609549762,4.47412951996939,11.0207359054418,-92.3874208662287,-61.614701977243],\"xaxis\":\"x\",\"y\":[-31.044750212543,-3.61559850646544,29.187369406781,22.968038016404,-12.7695315484629,-49.2680673081812,-40.2550055116868,-19.1870841356843,-3.08750320468906,-16.9062977007146,-33.4889167714665,-16.4342177108076,-19.7710571837546,-69.7798761936027,-217.167568442465,-55.9180529394051,5.99245291137804,-7.42287950326836,14.8375717254032,-17.5398120947291,-186.601038236347,-350.643497326468,-14.4088020936071,-0.482355238970854,-14.1181730933179,-57.9865852450815,-136.075979847862,-136.139684840601,-4.47804217739959,10.7160081946286,71.3621498241403,103.706321944994,105.438372052035,80.7405495060133,59.2214154511462,-27.8174662342012,-55.6343213855649,-53.5989057119252,-33.8122883408104,-16.8601380717252,-18.4005919213155,-18.0680789194114,8.7575236372799,-31.0059931240108,-73.4397308244394,-112.101417048848,-137.129248462823,-28.7964510704774,-6.34357914039259,-57.7395229692026,-49.0452294637718,-18.1486274354545,26.8767187969667,38.2379002695915,6.95541303019656,-10.0664606422904,-23.5509716027916,-29.0755010530077,-48.2241103583943,-84.2763928786633,-38.5393849993544,-20.1848177501308,7.18757648718252,12.767815927475,33.3312823793499,47.3111497742127,103.216674717199,24.9596959687292,41.6808162770303,48.7940784547648,48.3156829299682,22.5723002622845,-7.97326500803232,-17.648205479644,2.97275235158205,-11.6893149705165,-9.42643121573517,-7.01679509076638,-8.24397332859321,-4.78390202026914,5.43190753498076,-37.5612599159831,-26.8131003310826,3.04322777627681,7.84992907884332,21.8875369871477,37.5868002571681,37.5460203464315,1.25862646258641,-3.76178389125711,2.56058665556015,-3.36140096314563,-10.0715520421001,-18.1134077263574,-16.5678034596158,-23.3818376316374,-53.0891628610966,-43.392354390415,-3.6197440375041,22.4698309322735,-1.67258351759897,-32.5217772589594,-41.1921580138771,-57.4193138946459,-53.5505747608339,-15.4396426348265,-18.9023700061237,-26.6173755528096,-10.8570878502026,-17.7511767123862,-28.25128863905,-42.1176315341062,-11.5691101852246,0.848958039521358,11.0715365659691,-11.27333845239,-26.1033899926074,-16.9596760731475,-9.03888300567224,4.96271452589234,21.5862383304243,17.2250348338712,13.3478885907473,1.96725598563481,-0.282700909412811,-22.6250393499417,-37.8901171771227,-16.788355819675,-46.7519939086903,-9.03700154386821,57.6869427460495,109.68075625368,1.57128137515223,4.06807581782718,-14.2363396459444,-34.4278453659298,-12.3290794944038,26.0802744150872,48.6443697218943,-8.05233362948122,-2.5967766265224,22.6496124058322,22.1521794456002,1.00080271092005,-37.6148082280623,-73.0933499714197,-48.6501362978602,6.82481772770894,214.916105251359,420.454054919529,-9.44687238365509,21.7693981000101,13.5127376204195,2.77610828151918,11.0405831117609,7.29013508280617,2.0972919894369,-46.5737199673253,-39.7987048676102,-105.033700774627,-57.7514735038226,-131.089374053505,-116.957104403999,-142.52018559957,42.9461389086072,95.7333874328336,137.204558849016,-91.0873849041836,-5.27602305962692,-33.3400135304965,-23.5022061684638,-5.01877411549601,33.956321530835,34.2356953024868,-22.0748981183019,22.5465707450632,28.4992729990453,0.111282759781398,-18.2048348649362,-32.3946883374124,-26.4319718542242,-34.9200402205538,-15.800643863889,-13.3333668272294,-7.69673033315665,-5.46477651512628,-10.8468812651687,-0.836139869826859,22.9608111856947,14.0392488286237,23.3579470095489,3.47167800249363,4.6061913008666,58.2019930627088,58.2527065725265,-9.31687210189394,-21.6034513030479,-49.868528178663,-20.7699120930337,-34.3547782637951,-50.8932365666763,-49.397021719326,-44.9446525497378,-28.6345740486887,9.50426063323892,1.70413524455114,22.0611902773514,11.8237443449335,10.8243876283607,6.78765849363151,-5.61405271329325,-1.88398208488054,8.40510426320409,13.3336003104621,38.6517962987742,-23.7505663985151,40.2367128085931,-6.72568790741865,-43.4781213540304,-2.20516848049812,-1.0735585761074,-27.7539989016986,-16.5594503156267,-11.4912976927129,6.60914680055989,0.891395720401356,-33.3708481479049,22.0490204311236,30.3286772673043,27.1724955013064,18.3167091182712,0.90951406998595,-11.8543913845165,-18.0832187091767,9.27344081616644,10.4428575155542,9.39163626857236,-0.684176915924397,-7.21761612818866,-4.28775293733587,3.2700445512159,-51.2206151554068,-46.449766459605,-15.7245030114095,11.3847698265093,0.813625221259605,-9.3437644476777,32.4346245366205,42.3214858184547,16.7513962646684,-4.081628538741,-3.52711933315073,9.08982905175478,4.67019180789694,-0.128455633955258,-13.8503828210408,-16.5209267487751,-8.79553745861429,-8.65415187906511,6.58780201228955,19.9191392040032,17.6137255012702,-0.40163435852527,23.9651115071911,65.0377369448298,60.0710379850767,11.3517351244295,27.7465747897289,29.9779146137301,-2.73952171917619,-41.953050420014,-53.852769972447,-15.6708324627802,4.36242844715262,21.1763592268684,26.6917130420463,18.3664027954599,12.2876708132694,14.4065189659643,20.6973015025313,21.6447969751084,25.9394845356098,37.3706283730889,45.3701807939226,23.0137448721804,8.68260255013359,41.6983553804561,76.7335598415079,78.6074543027084,6.35242276115751,-99.4167427843329,-140.166101153313,-3.60278668305938,-3.43486387735124,-3.93776210624902,-8.89153958480805,-22.041810625081,-22.703355790888,-12.0663907972633,-4.78077439266461,3.34568819986363,12.9140695196865,6.87593122004122,1.33904394343326,5.61983618805986,16.48720622947,9.00361567479404,13.4559841114031,11.0736187343596,9.13719775713426,3.81570991937798,-0.771245094505196,0.085235231145917,16.7964589579391,18.3376467519702,19.2350544131576,12.7795639596803,-7.66587748395945,-25.9159144619384,-23.9935286189439,-0.748984505419421,-9.65472595530042,-12.398691686894,-0.992141150560103,-3.79360396187655,-14.4322756463336,-20.0496194189426,5.12487078985075,-10.7755688003078,-14.3964356279508,-4.28796116998824,3.58007774926288,1.68067066832406,-1.87837997376678,-2.60558623545028,-8.4195674691248,-1.03423547802477,-4.70246196147022,-1.22930433930932,20.3547091187778,-26.3508793100379,-22.1996384418327,16.9637685041109,36.4938267818049,31.904035768076,35.9549231084513,27.4567609549762,4.47412951996939,11.0207359054418,-92.3874208662287,-61.614701977243],\"yaxis\":\"y\",\"type\":\"scatter\"}],                        {\"template\":{\"data\":{\"histogram2dcontour\":[{\"type\":\"histogram2dcontour\",\"colorbar\":{\"outlinewidth\":0,\"ticks\":\"\"},\"colorscale\":[[0.0,\"#0d0887\"],[0.1111111111111111,\"#46039f\"],[0.2222222222222222,\"#7201a8\"],[0.3333333333333333,\"#9c179e\"],[0.4444444444444444,\"#bd3786\"],[0.5555555555555556,\"#d8576b\"],[0.6666666666666666,\"#ed7953\"],[0.7777777777777778,\"#fb9f3a\"],[0.8888888888888888,\"#fdca26\"],[1.0,\"#f0f921\"]]}],\"choropleth\":[{\"type\":\"choropleth\",\"colorbar\":{\"outlinewidth\":0,\"ticks\":\"\"}}],\"histogram2d\":[{\"type\":\"histogram2d\",\"colorbar\":{\"outlinewidth\":0,\"ticks\":\"\"},\"colorscale\":[[0.0,\"#0d0887\"],[0.1111111111111111,\"#46039f\"],[0.2222222222222222,\"#7201a8\"],[0.3333333333333333,\"#9c179e\"],[0.4444444444444444,\"#bd3786\"],[0.5555555555555556,\"#d8576b\"],[0.6666666666666666,\"#ed7953\"],[0.7777777777777778,\"#fb9f3a\"],[0.8888888888888888,\"#fdca26\"],[1.0,\"#f0f921\"]]}],\"heatmap\":[{\"type\":\"heatmap\",\"colorbar\":{\"outlinewidth\":0,\"ticks\":\"\"},\"colorscale\":[[0.0,\"#0d0887\"],[0.1111111111111111,\"#46039f\"],[0.2222222222222222,\"#7201a8\"],[0.3333333333333333,\"#9c179e\"],[0.4444444444444444,\"#bd3786\"],[0.5555555555555556,\"#d8576b\"],[0.6666666666666666,\"#ed7953\"],[0.7777777777777778,\"#fb9f3a\"],[0.8888888888888888,\"#fdca26\"],[1.0,\"#f0f921\"]]}],\"heatmapgl\":[{\"type\":\"heatmapgl\",\"colorbar\":{\"outlinewidth\":0,\"ticks\":\"\"},\"colorscale\":[[0.0,\"#0d0887\"],[0.1111111111111111,\"#46039f\"],[0.2222222222222222,\"#7201a8\"],[0.3333333333333333,\"#9c179e\"],[0.4444444444444444,\"#bd3786\"],[0.5555555555555556,\"#d8576b\"],[0.6666666666666666,\"#ed7953\"],[0.7777777777777778,\"#fb9f3a\"],[0.8888888888888888,\"#fdca26\"],[1.0,\"#f0f921\"]]}],\"contourcarpet\":[{\"type\":\"contourcarpet\",\"colorbar\":{\"outlinewidth\":0,\"ticks\":\"\"}}],\"contour\":[{\"type\":\"contour\",\"colorbar\":{\"outlinewidth\":0,\"ticks\":\"\"},\"colorscale\":[[0.0,\"#0d0887\"],[0.1111111111111111,\"#46039f\"],[0.2222222222222222,\"#7201a8\"],[0.3333333333333333,\"#9c179e\"],[0.4444444444444444,\"#bd3786\"],[0.5555555555555556,\"#d8576b\"],[0.6666666666666666,\"#ed7953\"],[0.7777777777777778,\"#fb9f3a\"],[0.8888888888888888,\"#fdca26\"],[1.0,\"#f0f921\"]]}],\"surface\":[{\"type\":\"surface\",\"colorbar\":{\"outlinewidth\":0,\"ticks\":\"\"},\"colorscale\":[[0.0,\"#0d0887\"],[0.1111111111111111,\"#46039f\"],[0.2222222222222222,\"#7201a8\"],[0.3333333333333333,\"#9c179e\"],[0.4444444444444444,\"#bd3786\"],[0.5555555555555556,\"#d8576b\"],[0.6666666666666666,\"#ed7953\"],[0.7777777777777778,\"#fb9f3a\"],[0.8888888888888888,\"#fdca26\"],[1.0,\"#f0f921\"]]}],\"mesh3d\":[{\"type\":\"mesh3d\",\"colorbar\":{\"outlinewidth\":0,\"ticks\":\"\"}}],\"scatter\":[{\"fillpattern\":{\"fillmode\":\"overlay\",\"size\":10,\"solidity\":0.2},\"type\":\"scatter\"}],\"parcoords\":[{\"type\":\"parcoords\",\"line\":{\"colorbar\":{\"outlinewidth\":0,\"ticks\":\"\"}}}],\"scatterpolargl\":[{\"type\":\"scatterpolargl\",\"marker\":{\"colorbar\":{\"outlinewidth\":0,\"ticks\":\"\"}}}],\"bar\":[{\"error_x\":{\"color\":\"#2a3f5f\"},\"error_y\":{\"color\":\"#2a3f5f\"},\"marker\":{\"line\":{\"color\":\"#E5ECF6\",\"width\":0.5},\"pattern\":{\"fillmode\":\"overlay\",\"size\":10,\"solidity\":0.2}},\"type\":\"bar\"}],\"scattergeo\":[{\"type\":\"scattergeo\",\"marker\":{\"colorbar\":{\"outlinewidth\":0,\"ticks\":\"\"}}}],\"scatterpolar\":[{\"type\":\"scatterpolar\",\"marker\":{\"colorbar\":{\"outlinewidth\":0,\"ticks\":\"\"}}}],\"histogram\":[{\"marker\":{\"pattern\":{\"fillmode\":\"overlay\",\"size\":10,\"solidity\":0.2}},\"type\":\"histogram\"}],\"scattergl\":[{\"type\":\"scattergl\",\"marker\":{\"colorbar\":{\"outlinewidth\":0,\"ticks\":\"\"}}}],\"scatter3d\":[{\"type\":\"scatter3d\",\"line\":{\"colorbar\":{\"outlinewidth\":0,\"ticks\":\"\"}},\"marker\":{\"colorbar\":{\"outlinewidth\":0,\"ticks\":\"\"}}}],\"scattermapbox\":[{\"type\":\"scattermapbox\",\"marker\":{\"colorbar\":{\"outlinewidth\":0,\"ticks\":\"\"}}}],\"scatterternary\":[{\"type\":\"scatterternary\",\"marker\":{\"colorbar\":{\"outlinewidth\":0,\"ticks\":\"\"}}}],\"scattercarpet\":[{\"type\":\"scattercarpet\",\"marker\":{\"colorbar\":{\"outlinewidth\":0,\"ticks\":\"\"}}}],\"carpet\":[{\"aaxis\":{\"endlinecolor\":\"#2a3f5f\",\"gridcolor\":\"white\",\"linecolor\":\"white\",\"minorgridcolor\":\"white\",\"startlinecolor\":\"#2a3f5f\"},\"baxis\":{\"endlinecolor\":\"#2a3f5f\",\"gridcolor\":\"white\",\"linecolor\":\"white\",\"minorgridcolor\":\"white\",\"startlinecolor\":\"#2a3f5f\"},\"type\":\"carpet\"}],\"table\":[{\"cells\":{\"fill\":{\"color\":\"#EBF0F8\"},\"line\":{\"color\":\"white\"}},\"header\":{\"fill\":{\"color\":\"#C8D4E3\"},\"line\":{\"color\":\"white\"}},\"type\":\"table\"}],\"barpolar\":[{\"marker\":{\"line\":{\"color\":\"#E5ECF6\",\"width\":0.5},\"pattern\":{\"fillmode\":\"overlay\",\"size\":10,\"solidity\":0.2}},\"type\":\"barpolar\"}],\"pie\":[{\"automargin\":true,\"type\":\"pie\"}]},\"layout\":{\"autotypenumbers\":\"strict\",\"colorway\":[\"#636efa\",\"#EF553B\",\"#00cc96\",\"#ab63fa\",\"#FFA15A\",\"#19d3f3\",\"#FF6692\",\"#B6E880\",\"#FF97FF\",\"#FECB52\"],\"font\":{\"color\":\"#2a3f5f\"},\"hovermode\":\"closest\",\"hoverlabel\":{\"align\":\"left\"},\"paper_bgcolor\":\"white\",\"plot_bgcolor\":\"#E5ECF6\",\"polar\":{\"bgcolor\":\"#E5ECF6\",\"angularaxis\":{\"gridcolor\":\"white\",\"linecolor\":\"white\",\"ticks\":\"\"},\"radialaxis\":{\"gridcolor\":\"white\",\"linecolor\":\"white\",\"ticks\":\"\"}},\"ternary\":{\"bgcolor\":\"#E5ECF6\",\"aaxis\":{\"gridcolor\":\"white\",\"linecolor\":\"white\",\"ticks\":\"\"},\"baxis\":{\"gridcolor\":\"white\",\"linecolor\":\"white\",\"ticks\":\"\"},\"caxis\":{\"gridcolor\":\"white\",\"linecolor\":\"white\",\"ticks\":\"\"}},\"coloraxis\":{\"colorbar\":{\"outlinewidth\":0,\"ticks\":\"\"}},\"colorscale\":{\"sequential\":[[0.0,\"#0d0887\"],[0.1111111111111111,\"#46039f\"],[0.2222222222222222,\"#7201a8\"],[0.3333333333333333,\"#9c179e\"],[0.4444444444444444,\"#bd3786\"],[0.5555555555555556,\"#d8576b\"],[0.6666666666666666,\"#ed7953\"],[0.7777777777777778,\"#fb9f3a\"],[0.8888888888888888,\"#fdca26\"],[1.0,\"#f0f921\"]],\"sequentialminus\":[[0.0,\"#0d0887\"],[0.1111111111111111,\"#46039f\"],[0.2222222222222222,\"#7201a8\"],[0.3333333333333333,\"#9c179e\"],[0.4444444444444444,\"#bd3786\"],[0.5555555555555556,\"#d8576b\"],[0.6666666666666666,\"#ed7953\"],[0.7777777777777778,\"#fb9f3a\"],[0.8888888888888888,\"#fdca26\"],[1.0,\"#f0f921\"]],\"diverging\":[[0,\"#8e0152\"],[0.1,\"#c51b7d\"],[0.2,\"#de77ae\"],[0.3,\"#f1b6da\"],[0.4,\"#fde0ef\"],[0.5,\"#f7f7f7\"],[0.6,\"#e6f5d0\"],[0.7,\"#b8e186\"],[0.8,\"#7fbc41\"],[0.9,\"#4d9221\"],[1,\"#276419\"]]},\"xaxis\":{\"gridcolor\":\"white\",\"linecolor\":\"white\",\"ticks\":\"\",\"title\":{\"standoff\":15},\"zerolinecolor\":\"white\",\"automargin\":true,\"zerolinewidth\":2},\"yaxis\":{\"gridcolor\":\"white\",\"linecolor\":\"white\",\"ticks\":\"\",\"title\":{\"standoff\":15},\"zerolinecolor\":\"white\",\"automargin\":true,\"zerolinewidth\":2},\"scene\":{\"xaxis\":{\"backgroundcolor\":\"#E5ECF6\",\"gridcolor\":\"white\",\"linecolor\":\"white\",\"showbackground\":true,\"ticks\":\"\",\"zerolinecolor\":\"white\",\"gridwidth\":2},\"yaxis\":{\"backgroundcolor\":\"#E5ECF6\",\"gridcolor\":\"white\",\"linecolor\":\"white\",\"showbackground\":true,\"ticks\":\"\",\"zerolinecolor\":\"white\",\"gridwidth\":2},\"zaxis\":{\"backgroundcolor\":\"#E5ECF6\",\"gridcolor\":\"white\",\"linecolor\":\"white\",\"showbackground\":true,\"ticks\":\"\",\"zerolinecolor\":\"white\",\"gridwidth\":2}},\"shapedefaults\":{\"line\":{\"color\":\"#2a3f5f\"}},\"annotationdefaults\":{\"arrowcolor\":\"#2a3f5f\",\"arrowhead\":0,\"arrowwidth\":1},\"geo\":{\"bgcolor\":\"white\",\"landcolor\":\"#E5ECF6\",\"subunitcolor\":\"white\",\"showland\":true,\"showlakes\":true,\"lakecolor\":\"white\"},\"title\":{\"x\":0.05},\"mapbox\":{\"style\":\"light\"}}},\"xaxis\":{\"anchor\":\"y\",\"domain\":[0.0,1.0],\"title\":{\"text\":\"x\"}},\"yaxis\":{\"anchor\":\"x\",\"domain\":[0.0,1.0],\"title\":{\"text\":\"y\"}},\"legend\":{\"tracegroupgap\":0},\"margin\":{\"t\":60}},                        {\"responsive\": true}                    ).then(function(){\n",
       "                            \n",
       "var gd = document.getElementById('71147431-f9d1-4a08-aaea-559ebcedcf00');\n",
       "var x = new MutationObserver(function (mutations, observer) {{\n",
       "        var display = window.getComputedStyle(gd).display;\n",
       "        if (!display || display === 'none') {{\n",
       "            console.log([gd, 'removed!']);\n",
       "            Plotly.purge(gd);\n",
       "            observer.disconnect();\n",
       "        }}\n",
       "}});\n",
       "\n",
       "// Listen for the removal of the full notebook cells\n",
       "var notebookContainer = gd.closest('#notebook-container');\n",
       "if (notebookContainer) {{\n",
       "    x.observe(notebookContainer, {childList: true});\n",
       "}}\n",
       "\n",
       "// Listen for the clearing of the current output cell\n",
       "var outputEl = gd.closest('.output');\n",
       "if (outputEl) {{\n",
       "    x.observe(outputEl, {childList: true});\n",
       "}}\n",
       "\n",
       "                        })                };                });            </script>        </div>"
      ]
     },
     "metadata": {},
     "output_type": "display_data"
    }
   ],
   "source": [
    "fig = px.scatter(x=y_pred, y=y_pred)\n",
    "fig.show()"
   ]
  },
  {
   "cell_type": "code",
   "execution_count": 27,
   "id": "dee880aa",
   "metadata": {},
   "outputs": [
    {
     "data": {
      "application/vnd.plotly.v1+json": {
       "config": {
        "plotlyServerURL": "https://plot.ly"
       },
       "data": [
        {
         "hovertemplate": "x=%{x}<br>y=%{y}<extra></extra>",
         "legendgroup": "",
         "marker": {
          "color": "#636efa",
          "symbol": "circle"
         },
         "mode": "markers",
         "name": "",
         "orientation": "v",
         "showlegend": false,
         "type": "scatter",
         "x": [
          -29.6519007263013,
          -10.6394174079773,
          10.5217192728905,
          7.0905963789351,
          9.11024940853355,
          -16.3398673490506,
          -7.21745869036639,
          -9.34925130242794,
          0.259678504538996,
          9.65438643093141,
          6.39110902300939,
          9.87692962707074,
          11.3616725110819,
          5.97837652893622,
          11.7005083572399,
          8.24707606276873,
          -15.1088909769907,
          -7.59610506770308,
          3.02302516808669,
          5.62888157944128,
          8.97060058385387,
          8.90495924239099,
          -26.6901027938245,
          -4.00948841690754,
          -7.24733415045382,
          1.0814550976626,
          4.38251677547302,
          4.71868898493042,
          8.06061396743171,
          22.1868458877053,
          24.687989525773,
          18.4578581361758,
          10.5589264937639,
          9.51338113688216,
          3.18825880048796,
          -34.4701579189023,
          -16.9408624782267,
          3.65343293712447,
          3.17966383157953,
          -2.31671374540518,
          9.11356869029231,
          -4.14438843978037,
          -0.911414207312696,
          7.18088785652953,
          5.04530093876846,
          0.231902148792983,
          4.21931078624104,
          12.4758634125578,
          9.0729523180891,
          9.9670138294611,
          1.73671410848148,
          1.97707512477008,
          1.17747989736134,
          6.56404689399081,
          -18.9397682884878,
          -1.53072334267705,
          8.29954956810283,
          8.96577920400539,
          5.465446323772,
          4.65042295989875,
          -8.34366978250691,
          4.10490593449131,
          7.60184394147559,
          10.9265577292522,
          11.6364890525735,
          5.20026240426419,
          10.7518279376217,
          30.3129275267532,
          24.3860000684212,
          18.2303312888924,
          10.6716026252248,
          -0.845066193481159,
          1.57520901384594,
          11.9528412822547,
          18.0983867892657,
          20.3917115037623,
          16.464704001526,
          9.06710623892484,
          2.1405332252905,
          9.16912184044799,
          0.148479901403761,
          -4.25408261763214,
          15.1844092813231,
          29.7649962422369,
          22.5361390251879,
          10.304770878256,
          8.75292552409066,
          10.5962750834985,
          3.64495344626035,
          10.7168869592504,
          6.97468520500367,
          10.1763139988261,
          1.55857631264951,
          -4.87221118226262,
          -4.79086681494154,
          -18.7476696161873,
          -19.4661745840455,
          -6.48172800965921,
          4.2437986767461,
          -2.53256008598048,
          -21.3781218551976,
          -17.396097587058,
          -12.1915711284994,
          -6.03692221298451,
          5.26338476879232,
          3.54958334261407,
          -0.76709268121359,
          14.9180037843504,
          22.6709607231586,
          4.57369595301027,
          3.42633067325303,
          4.67383837360458,
          -0.0169329933218592,
          11.2878156835588,
          18.5743686001921,
          14.4725837376078,
          11.2882217342141,
          7.66558645338168,
          2.60521179667046,
          -2.0521081156048,
          21.4891458711782,
          20.5649763970689,
          14.8271371585718,
          3.02943283409051,
          4.00658634103479,
          2.6291821370817,
          1.6545810204473,
          -19.4479451198458,
          -0.38110259140975,
          9.941793591779,
          11.9626176520213,
          3.15731905047029,
          -10.1236299967019,
          4.55959947312778,
          9.29335443752919,
          8.9155040620424,
          0.0656988003090646,
          -2.32543995091946,
          4.13152608279985,
          8.10459649719861,
          22.5549304977354,
          24.1864326178553,
          22.6201053093355,
          15.5398585241777,
          14.5786411880714,
          7.33818240444987,
          -29.656106212292,
          -13.7659262829354,
          -1.22096562242857,
          14.2377934841958,
          -26.6488171726266,
          -18.4149827603101,
          9.57621290733179,
          15.4462143536594,
          12.4813826456354,
          10.3166230571412,
          5.96995349908984,
          19.7888017919728,
          12.870047558803,
          11.0008408945163,
          10.1031430328566,
          8.74794414970567,
          1.16068008111779,
          4.25793599819481,
          -4.72495491245618,
          0.443823249955628,
          2.93925319267171,
          -1.5740867735031,
          16.5110239800846,
          20.6468509000078,
          13.5112783274408,
          8.62661952119647,
          12.8072195333336,
          -1.88096194561533,
          0.722455053642172,
          9.61426485412885,
          2.38929788015159,
          4.70448673186806,
          4.43463193164249,
          3.98267195493798,
          7.5274212335021,
          -12.9405903393656,
          7.86926844488235,
          6.28790754234095,
          -2.49455943154007,
          -0.539528016127164,
          -2.46915826825783,
          -0.926061363280596,
          -24.1072905068698,
          -5.04942162381861,
          5.35708919941866,
          0.159163288339542,
          -1.78842467332619,
          -0.439017224876693,
          -10.7434453848377,
          -8.28293054279822,
          3.19441106620155,
          2.48235320058394,
          6.83438966175249,
          2.20191349092498,
          -3.42761844353036,
          -11.3936893583283,
          -40.7197513455468,
          -31.991189298155,
          -19.9692798257841,
          -11.2575673898003,
          4.2739988027373,
          17.4174946361133,
          15.8462010787585,
          13.3163202108984,
          -1.78070685665161,
          -2.1319826428718,
          -14.4605740510975,
          -10.8956772954051,
          -17.7866721783734,
          -13.9258442802744,
          -12.0396560641655,
          -15.1902776147271,
          -1.17447252534292,
          -15.1706610329499,
          -34.8428328151487,
          -21.2650305603799,
          -18.1125581428021,
          -26.4858219403681,
          -34.630426019802,
          -21.9082255621409,
          -19.6117206412615,
          -3.9085142077594,
          -2.50116704656246,
          7.11965936653508,
          -5.92947916892101,
          -8.82829828629027,
          1.18096661802923,
          5.59423574499512,
          21.2926929689726,
          20.046418047237,
          8.56831013649713,
          4.57752400378708,
          -0.782697516880873,
          -9.45671122497149,
          -5.01011539751142,
          -23.6061092873368,
          -8.74506846356258,
          13.2956990795712,
          -4.98864981117329,
          -1.55976206549181,
          -27.8536582304137,
          -24.5740631124324,
          -23.1212665201408,
          -27.4091395766156,
          -17.6146737557227,
          -6.03030120477034,
          11.607965215197,
          14.6751298862185,
          10.1966693764274,
          -2.10301407356723,
          -6.59345868737869,
          -4.9310742844892,
          -0.0811655970045422,
          -8.8128516490981,
          -9.04344718888041,
          -5.77837088122157,
          -4.9261732010742,
          -4.49684032989073,
          -2.9543505251568,
          -5.95866523102585,
          -23.8910331938577,
          -3.87402255927951,
          -0.948683953590006,
          2.76948407575387,
          -2.54886436398766,
          2.84691647036975,
          -2.3855025248488,
          -7.79590808116505,
          -6.48146099941045,
          -5.55939895747689,
          -1.64524849515438,
          -7.89420488814295,
          16.4540259595802,
          21.0594516384895,
          24.4010279916795,
          6.12670631845685,
          -2.14589522899011,
          -5.26925956548656,
          8.49824584020222,
          -37.0393350152255,
          -12.3006736357063,
          -13.1175412451369,
          -8.66882286358373,
          0.602304905413376,
          -0.406439881715158,
          -5.6521085539043,
          -41.7933159463926,
          -39.6837998242865,
          -36.464900515891,
          -26.0173712289891,
          -13.1505121738488,
          -10.9667782143345,
          -10.0220052070579,
          -3.43121093332535,
          3.71718695008594,
          4.87795210151622,
          -4.50602253175301,
          1.04318387430209,
          -4.46841439078177,
          0.739600875146934,
          9.48160364181417,
          27.4370791190307,
          19.5665843746001,
          18.5775007850176,
          5.32582772358471,
          3.32640839674724,
          -5.18234542810984,
          10.9414757441324,
          18.0314370240111,
          11.8336055402763,
          11.4787769814518,
          -2.28306255549639,
          -12.3740079658149,
          0.76720449716737,
          -4.96081265450701,
          28.1612460365749,
          12.848843363129,
          13.0703729569633,
          -10.0621204323634,
          6.08604646706968,
          -27.8010419022753,
          -50.0810177220154,
          -58.4963005424809,
          -57.9568096835101,
          -50.3861643889583,
          -35.7750862312965,
          -14.1634617891055,
          -53.276588363794,
          -43.9632797047448,
          -13.6121366500086,
          2.61285793975424,
          10.1241036117021,
          9.01860966971812,
          -4.61193632000493,
          -49.2645052789202,
          -47.9262320091531,
          -51.2139627196811,
          -38.729748336118,
          -10.3102123251417,
          -9.60259624491551,
          -6.66366775899617,
          -30.7706869455739,
          -16.0517833359013,
          26.8756715736272,
          21.644763550225
         ],
         "xaxis": "x",
         "y": [
          -31.044750212543,
          -3.61559850646544,
          29.187369406781,
          22.968038016404,
          -12.7695315484629,
          -49.2680673081812,
          -40.2550055116868,
          -19.1870841356843,
          -3.08750320468906,
          -16.9062977007146,
          -33.4889167714665,
          -16.4342177108076,
          -19.7710571837546,
          -69.7798761936027,
          -217.167568442465,
          -55.9180529394051,
          5.99245291137804,
          -7.42287950326836,
          14.8375717254032,
          -17.5398120947291,
          -186.601038236347,
          -350.643497326468,
          -14.4088020936071,
          -0.482355238970854,
          -14.1181730933179,
          -57.9865852450815,
          -136.075979847862,
          -136.139684840601,
          -4.47804217739959,
          10.7160081946286,
          71.3621498241403,
          103.706321944994,
          105.438372052035,
          80.7405495060133,
          59.2214154511462,
          -27.8174662342012,
          -55.6343213855649,
          -53.5989057119252,
          -33.8122883408104,
          -16.8601380717252,
          -18.4005919213155,
          -18.0680789194114,
          8.7575236372799,
          -31.0059931240108,
          -73.4397308244394,
          -112.101417048848,
          -137.129248462823,
          -28.7964510704774,
          -6.34357914039259,
          -57.7395229692026,
          -49.0452294637718,
          -18.1486274354545,
          26.8767187969667,
          38.2379002695915,
          6.95541303019656,
          -10.0664606422904,
          -23.5509716027916,
          -29.0755010530077,
          -48.2241103583943,
          -84.2763928786633,
          -38.5393849993544,
          -20.1848177501308,
          7.18757648718252,
          12.767815927475,
          33.3312823793499,
          47.3111497742127,
          103.216674717199,
          24.9596959687292,
          41.6808162770303,
          48.7940784547648,
          48.3156829299682,
          22.5723002622845,
          -7.97326500803232,
          -17.648205479644,
          2.97275235158205,
          -11.6893149705165,
          -9.42643121573517,
          -7.01679509076638,
          -8.24397332859321,
          -4.78390202026914,
          5.43190753498076,
          -37.5612599159831,
          -26.8131003310826,
          3.04322777627681,
          7.84992907884332,
          21.8875369871477,
          37.5868002571681,
          37.5460203464315,
          1.25862646258641,
          -3.76178389125711,
          2.56058665556015,
          -3.36140096314563,
          -10.0715520421001,
          -18.1134077263574,
          -16.5678034596158,
          -23.3818376316374,
          -53.0891628610966,
          -43.392354390415,
          -3.6197440375041,
          22.4698309322735,
          -1.67258351759897,
          -32.5217772589594,
          -41.1921580138771,
          -57.4193138946459,
          -53.5505747608339,
          -15.4396426348265,
          -18.9023700061237,
          -26.6173755528096,
          -10.8570878502026,
          -17.7511767123862,
          -28.25128863905,
          -42.1176315341062,
          -11.5691101852246,
          0.848958039521358,
          11.0715365659691,
          -11.27333845239,
          -26.1033899926074,
          -16.9596760731475,
          -9.03888300567224,
          4.96271452589234,
          21.5862383304243,
          17.2250348338712,
          13.3478885907473,
          1.96725598563481,
          -0.282700909412811,
          -22.6250393499417,
          -37.8901171771227,
          -16.788355819675,
          -46.7519939086903,
          -9.03700154386821,
          57.6869427460495,
          109.68075625368,
          1.57128137515223,
          4.06807581782718,
          -14.2363396459444,
          -34.4278453659298,
          -12.3290794944038,
          26.0802744150872,
          48.6443697218943,
          -8.05233362948122,
          -2.5967766265224,
          22.6496124058322,
          22.1521794456002,
          1.00080271092005,
          -37.6148082280623,
          -73.0933499714197,
          -48.6501362978602,
          6.82481772770894,
          214.916105251359,
          420.454054919529,
          -9.44687238365509,
          21.7693981000101,
          13.5127376204195,
          2.77610828151918,
          11.0405831117609,
          7.29013508280617,
          2.0972919894369,
          -46.5737199673253,
          -39.7987048676102,
          -105.033700774627,
          -57.7514735038226,
          -131.089374053505,
          -116.957104403999,
          -142.52018559957,
          42.9461389086072,
          95.7333874328336,
          137.204558849016,
          -91.0873849041836,
          -5.27602305962692,
          -33.3400135304965,
          -23.5022061684638,
          -5.01877411549601,
          33.956321530835,
          34.2356953024868,
          -22.0748981183019,
          22.5465707450632,
          28.4992729990453,
          0.111282759781398,
          -18.2048348649362,
          -32.3946883374124,
          -26.4319718542242,
          -34.9200402205538,
          -15.800643863889,
          -13.3333668272294,
          -7.69673033315665,
          -5.46477651512628,
          -10.8468812651687,
          -0.836139869826859,
          22.9608111856947,
          14.0392488286237,
          23.3579470095489,
          3.47167800249363,
          4.6061913008666,
          58.2019930627088,
          58.2527065725265,
          -9.31687210189394,
          -21.6034513030479,
          -49.868528178663,
          -20.7699120930337,
          -34.3547782637951,
          -50.8932365666763,
          -49.397021719326,
          -44.9446525497378,
          -28.6345740486887,
          9.50426063323892,
          1.70413524455114,
          22.0611902773514,
          11.8237443449335,
          10.8243876283607,
          6.78765849363151,
          -5.61405271329325,
          -1.88398208488054,
          8.40510426320409,
          13.3336003104621,
          38.6517962987742,
          -23.7505663985151,
          40.2367128085931,
          -6.72568790741865,
          -43.4781213540304,
          -2.20516848049812,
          -1.0735585761074,
          -27.7539989016986,
          -16.5594503156267,
          -11.4912976927129,
          6.60914680055989,
          0.891395720401356,
          -33.3708481479049,
          22.0490204311236,
          30.3286772673043,
          27.1724955013064,
          18.3167091182712,
          0.90951406998595,
          -11.8543913845165,
          -18.0832187091767,
          9.27344081616644,
          10.4428575155542,
          9.39163626857236,
          -0.684176915924397,
          -7.21761612818866,
          -4.28775293733587,
          3.2700445512159,
          -51.2206151554068,
          -46.449766459605,
          -15.7245030114095,
          11.3847698265093,
          0.813625221259605,
          -9.3437644476777,
          32.4346245366205,
          42.3214858184547,
          16.7513962646684,
          -4.081628538741,
          -3.52711933315073,
          9.08982905175478,
          4.67019180789694,
          -0.128455633955258,
          -13.8503828210408,
          -16.5209267487751,
          -8.79553745861429,
          -8.65415187906511,
          6.58780201228955,
          19.9191392040032,
          17.6137255012702,
          -0.40163435852527,
          23.9651115071911,
          65.0377369448298,
          60.0710379850767,
          11.3517351244295,
          27.7465747897289,
          29.9779146137301,
          -2.73952171917619,
          -41.953050420014,
          -53.852769972447,
          -15.6708324627802,
          4.36242844715262,
          21.1763592268684,
          26.6917130420463,
          18.3664027954599,
          12.2876708132694,
          14.4065189659643,
          20.6973015025313,
          21.6447969751084,
          25.9394845356098,
          37.3706283730889,
          45.3701807939226,
          23.0137448721804,
          8.68260255013359,
          41.6983553804561,
          76.7335598415079,
          78.6074543027084,
          6.35242276115751,
          -99.4167427843329,
          -140.166101153313,
          -3.60278668305938,
          -3.43486387735124,
          -3.93776210624902,
          -8.89153958480805,
          -22.041810625081,
          -22.703355790888,
          -12.0663907972633,
          -4.78077439266461,
          3.34568819986363,
          12.9140695196865,
          6.87593122004122,
          1.33904394343326,
          5.61983618805986,
          16.48720622947,
          9.00361567479404,
          13.4559841114031,
          11.0736187343596,
          9.13719775713426,
          3.81570991937798,
          -0.771245094505196,
          0.085235231145917,
          16.7964589579391,
          18.3376467519702,
          19.2350544131576,
          12.7795639596803,
          -7.66587748395945,
          -25.9159144619384,
          -23.9935286189439,
          -0.748984505419421,
          -9.65472595530042,
          -12.398691686894,
          -0.992141150560103,
          -3.79360396187655,
          -14.4322756463336,
          -20.0496194189426,
          5.12487078985075,
          -10.7755688003078,
          -14.3964356279508,
          -4.28796116998824,
          3.58007774926288,
          1.68067066832406,
          -1.87837997376678,
          -2.60558623545028,
          -8.4195674691248,
          -1.03423547802477,
          -4.70246196147022,
          -1.22930433930932,
          20.3547091187778,
          -26.3508793100379,
          -22.1996384418327,
          16.9637685041109,
          36.4938267818049,
          31.904035768076,
          35.9549231084513,
          27.4567609549762,
          4.47412951996939,
          11.0207359054418,
          -92.3874208662287,
          -61.614701977243
         ],
         "yaxis": "y"
        }
       ],
       "layout": {
        "legend": {
         "tracegroupgap": 0
        },
        "margin": {
         "t": 60
        },
        "template": {
         "data": {
          "bar": [
           {
            "error_x": {
             "color": "#2a3f5f"
            },
            "error_y": {
             "color": "#2a3f5f"
            },
            "marker": {
             "line": {
              "color": "#E5ECF6",
              "width": 0.5
             },
             "pattern": {
              "fillmode": "overlay",
              "size": 10,
              "solidity": 0.2
             }
            },
            "type": "bar"
           }
          ],
          "barpolar": [
           {
            "marker": {
             "line": {
              "color": "#E5ECF6",
              "width": 0.5
             },
             "pattern": {
              "fillmode": "overlay",
              "size": 10,
              "solidity": 0.2
             }
            },
            "type": "barpolar"
           }
          ],
          "carpet": [
           {
            "aaxis": {
             "endlinecolor": "#2a3f5f",
             "gridcolor": "white",
             "linecolor": "white",
             "minorgridcolor": "white",
             "startlinecolor": "#2a3f5f"
            },
            "baxis": {
             "endlinecolor": "#2a3f5f",
             "gridcolor": "white",
             "linecolor": "white",
             "minorgridcolor": "white",
             "startlinecolor": "#2a3f5f"
            },
            "type": "carpet"
           }
          ],
          "choropleth": [
           {
            "colorbar": {
             "outlinewidth": 0,
             "ticks": ""
            },
            "type": "choropleth"
           }
          ],
          "contour": [
           {
            "colorbar": {
             "outlinewidth": 0,
             "ticks": ""
            },
            "colorscale": [
             [
              0,
              "#0d0887"
             ],
             [
              0.1111111111111111,
              "#46039f"
             ],
             [
              0.2222222222222222,
              "#7201a8"
             ],
             [
              0.3333333333333333,
              "#9c179e"
             ],
             [
              0.4444444444444444,
              "#bd3786"
             ],
             [
              0.5555555555555556,
              "#d8576b"
             ],
             [
              0.6666666666666666,
              "#ed7953"
             ],
             [
              0.7777777777777778,
              "#fb9f3a"
             ],
             [
              0.8888888888888888,
              "#fdca26"
             ],
             [
              1,
              "#f0f921"
             ]
            ],
            "type": "contour"
           }
          ],
          "contourcarpet": [
           {
            "colorbar": {
             "outlinewidth": 0,
             "ticks": ""
            },
            "type": "contourcarpet"
           }
          ],
          "heatmap": [
           {
            "colorbar": {
             "outlinewidth": 0,
             "ticks": ""
            },
            "colorscale": [
             [
              0,
              "#0d0887"
             ],
             [
              0.1111111111111111,
              "#46039f"
             ],
             [
              0.2222222222222222,
              "#7201a8"
             ],
             [
              0.3333333333333333,
              "#9c179e"
             ],
             [
              0.4444444444444444,
              "#bd3786"
             ],
             [
              0.5555555555555556,
              "#d8576b"
             ],
             [
              0.6666666666666666,
              "#ed7953"
             ],
             [
              0.7777777777777778,
              "#fb9f3a"
             ],
             [
              0.8888888888888888,
              "#fdca26"
             ],
             [
              1,
              "#f0f921"
             ]
            ],
            "type": "heatmap"
           }
          ],
          "heatmapgl": [
           {
            "colorbar": {
             "outlinewidth": 0,
             "ticks": ""
            },
            "colorscale": [
             [
              0,
              "#0d0887"
             ],
             [
              0.1111111111111111,
              "#46039f"
             ],
             [
              0.2222222222222222,
              "#7201a8"
             ],
             [
              0.3333333333333333,
              "#9c179e"
             ],
             [
              0.4444444444444444,
              "#bd3786"
             ],
             [
              0.5555555555555556,
              "#d8576b"
             ],
             [
              0.6666666666666666,
              "#ed7953"
             ],
             [
              0.7777777777777778,
              "#fb9f3a"
             ],
             [
              0.8888888888888888,
              "#fdca26"
             ],
             [
              1,
              "#f0f921"
             ]
            ],
            "type": "heatmapgl"
           }
          ],
          "histogram": [
           {
            "marker": {
             "pattern": {
              "fillmode": "overlay",
              "size": 10,
              "solidity": 0.2
             }
            },
            "type": "histogram"
           }
          ],
          "histogram2d": [
           {
            "colorbar": {
             "outlinewidth": 0,
             "ticks": ""
            },
            "colorscale": [
             [
              0,
              "#0d0887"
             ],
             [
              0.1111111111111111,
              "#46039f"
             ],
             [
              0.2222222222222222,
              "#7201a8"
             ],
             [
              0.3333333333333333,
              "#9c179e"
             ],
             [
              0.4444444444444444,
              "#bd3786"
             ],
             [
              0.5555555555555556,
              "#d8576b"
             ],
             [
              0.6666666666666666,
              "#ed7953"
             ],
             [
              0.7777777777777778,
              "#fb9f3a"
             ],
             [
              0.8888888888888888,
              "#fdca26"
             ],
             [
              1,
              "#f0f921"
             ]
            ],
            "type": "histogram2d"
           }
          ],
          "histogram2dcontour": [
           {
            "colorbar": {
             "outlinewidth": 0,
             "ticks": ""
            },
            "colorscale": [
             [
              0,
              "#0d0887"
             ],
             [
              0.1111111111111111,
              "#46039f"
             ],
             [
              0.2222222222222222,
              "#7201a8"
             ],
             [
              0.3333333333333333,
              "#9c179e"
             ],
             [
              0.4444444444444444,
              "#bd3786"
             ],
             [
              0.5555555555555556,
              "#d8576b"
             ],
             [
              0.6666666666666666,
              "#ed7953"
             ],
             [
              0.7777777777777778,
              "#fb9f3a"
             ],
             [
              0.8888888888888888,
              "#fdca26"
             ],
             [
              1,
              "#f0f921"
             ]
            ],
            "type": "histogram2dcontour"
           }
          ],
          "mesh3d": [
           {
            "colorbar": {
             "outlinewidth": 0,
             "ticks": ""
            },
            "type": "mesh3d"
           }
          ],
          "parcoords": [
           {
            "line": {
             "colorbar": {
              "outlinewidth": 0,
              "ticks": ""
             }
            },
            "type": "parcoords"
           }
          ],
          "pie": [
           {
            "automargin": true,
            "type": "pie"
           }
          ],
          "scatter": [
           {
            "fillpattern": {
             "fillmode": "overlay",
             "size": 10,
             "solidity": 0.2
            },
            "type": "scatter"
           }
          ],
          "scatter3d": [
           {
            "line": {
             "colorbar": {
              "outlinewidth": 0,
              "ticks": ""
             }
            },
            "marker": {
             "colorbar": {
              "outlinewidth": 0,
              "ticks": ""
             }
            },
            "type": "scatter3d"
           }
          ],
          "scattercarpet": [
           {
            "marker": {
             "colorbar": {
              "outlinewidth": 0,
              "ticks": ""
             }
            },
            "type": "scattercarpet"
           }
          ],
          "scattergeo": [
           {
            "marker": {
             "colorbar": {
              "outlinewidth": 0,
              "ticks": ""
             }
            },
            "type": "scattergeo"
           }
          ],
          "scattergl": [
           {
            "marker": {
             "colorbar": {
              "outlinewidth": 0,
              "ticks": ""
             }
            },
            "type": "scattergl"
           }
          ],
          "scattermapbox": [
           {
            "marker": {
             "colorbar": {
              "outlinewidth": 0,
              "ticks": ""
             }
            },
            "type": "scattermapbox"
           }
          ],
          "scatterpolar": [
           {
            "marker": {
             "colorbar": {
              "outlinewidth": 0,
              "ticks": ""
             }
            },
            "type": "scatterpolar"
           }
          ],
          "scatterpolargl": [
           {
            "marker": {
             "colorbar": {
              "outlinewidth": 0,
              "ticks": ""
             }
            },
            "type": "scatterpolargl"
           }
          ],
          "scatterternary": [
           {
            "marker": {
             "colorbar": {
              "outlinewidth": 0,
              "ticks": ""
             }
            },
            "type": "scatterternary"
           }
          ],
          "surface": [
           {
            "colorbar": {
             "outlinewidth": 0,
             "ticks": ""
            },
            "colorscale": [
             [
              0,
              "#0d0887"
             ],
             [
              0.1111111111111111,
              "#46039f"
             ],
             [
              0.2222222222222222,
              "#7201a8"
             ],
             [
              0.3333333333333333,
              "#9c179e"
             ],
             [
              0.4444444444444444,
              "#bd3786"
             ],
             [
              0.5555555555555556,
              "#d8576b"
             ],
             [
              0.6666666666666666,
              "#ed7953"
             ],
             [
              0.7777777777777778,
              "#fb9f3a"
             ],
             [
              0.8888888888888888,
              "#fdca26"
             ],
             [
              1,
              "#f0f921"
             ]
            ],
            "type": "surface"
           }
          ],
          "table": [
           {
            "cells": {
             "fill": {
              "color": "#EBF0F8"
             },
             "line": {
              "color": "white"
             }
            },
            "header": {
             "fill": {
              "color": "#C8D4E3"
             },
             "line": {
              "color": "white"
             }
            },
            "type": "table"
           }
          ]
         },
         "layout": {
          "annotationdefaults": {
           "arrowcolor": "#2a3f5f",
           "arrowhead": 0,
           "arrowwidth": 1
          },
          "autotypenumbers": "strict",
          "coloraxis": {
           "colorbar": {
            "outlinewidth": 0,
            "ticks": ""
           }
          },
          "colorscale": {
           "diverging": [
            [
             0,
             "#8e0152"
            ],
            [
             0.1,
             "#c51b7d"
            ],
            [
             0.2,
             "#de77ae"
            ],
            [
             0.3,
             "#f1b6da"
            ],
            [
             0.4,
             "#fde0ef"
            ],
            [
             0.5,
             "#f7f7f7"
            ],
            [
             0.6,
             "#e6f5d0"
            ],
            [
             0.7,
             "#b8e186"
            ],
            [
             0.8,
             "#7fbc41"
            ],
            [
             0.9,
             "#4d9221"
            ],
            [
             1,
             "#276419"
            ]
           ],
           "sequential": [
            [
             0,
             "#0d0887"
            ],
            [
             0.1111111111111111,
             "#46039f"
            ],
            [
             0.2222222222222222,
             "#7201a8"
            ],
            [
             0.3333333333333333,
             "#9c179e"
            ],
            [
             0.4444444444444444,
             "#bd3786"
            ],
            [
             0.5555555555555556,
             "#d8576b"
            ],
            [
             0.6666666666666666,
             "#ed7953"
            ],
            [
             0.7777777777777778,
             "#fb9f3a"
            ],
            [
             0.8888888888888888,
             "#fdca26"
            ],
            [
             1,
             "#f0f921"
            ]
           ],
           "sequentialminus": [
            [
             0,
             "#0d0887"
            ],
            [
             0.1111111111111111,
             "#46039f"
            ],
            [
             0.2222222222222222,
             "#7201a8"
            ],
            [
             0.3333333333333333,
             "#9c179e"
            ],
            [
             0.4444444444444444,
             "#bd3786"
            ],
            [
             0.5555555555555556,
             "#d8576b"
            ],
            [
             0.6666666666666666,
             "#ed7953"
            ],
            [
             0.7777777777777778,
             "#fb9f3a"
            ],
            [
             0.8888888888888888,
             "#fdca26"
            ],
            [
             1,
             "#f0f921"
            ]
           ]
          },
          "colorway": [
           "#636efa",
           "#EF553B",
           "#00cc96",
           "#ab63fa",
           "#FFA15A",
           "#19d3f3",
           "#FF6692",
           "#B6E880",
           "#FF97FF",
           "#FECB52"
          ],
          "font": {
           "color": "#2a3f5f"
          },
          "geo": {
           "bgcolor": "white",
           "lakecolor": "white",
           "landcolor": "#E5ECF6",
           "showlakes": true,
           "showland": true,
           "subunitcolor": "white"
          },
          "hoverlabel": {
           "align": "left"
          },
          "hovermode": "closest",
          "mapbox": {
           "style": "light"
          },
          "paper_bgcolor": "white",
          "plot_bgcolor": "#E5ECF6",
          "polar": {
           "angularaxis": {
            "gridcolor": "white",
            "linecolor": "white",
            "ticks": ""
           },
           "bgcolor": "#E5ECF6",
           "radialaxis": {
            "gridcolor": "white",
            "linecolor": "white",
            "ticks": ""
           }
          },
          "scene": {
           "xaxis": {
            "backgroundcolor": "#E5ECF6",
            "gridcolor": "white",
            "gridwidth": 2,
            "linecolor": "white",
            "showbackground": true,
            "ticks": "",
            "zerolinecolor": "white"
           },
           "yaxis": {
            "backgroundcolor": "#E5ECF6",
            "gridcolor": "white",
            "gridwidth": 2,
            "linecolor": "white",
            "showbackground": true,
            "ticks": "",
            "zerolinecolor": "white"
           },
           "zaxis": {
            "backgroundcolor": "#E5ECF6",
            "gridcolor": "white",
            "gridwidth": 2,
            "linecolor": "white",
            "showbackground": true,
            "ticks": "",
            "zerolinecolor": "white"
           }
          },
          "shapedefaults": {
           "line": {
            "color": "#2a3f5f"
           }
          },
          "ternary": {
           "aaxis": {
            "gridcolor": "white",
            "linecolor": "white",
            "ticks": ""
           },
           "baxis": {
            "gridcolor": "white",
            "linecolor": "white",
            "ticks": ""
           },
           "bgcolor": "#E5ECF6",
           "caxis": {
            "gridcolor": "white",
            "linecolor": "white",
            "ticks": ""
           }
          },
          "title": {
           "x": 0.05
          },
          "xaxis": {
           "automargin": true,
           "gridcolor": "white",
           "linecolor": "white",
           "ticks": "",
           "title": {
            "standoff": 15
           },
           "zerolinecolor": "white",
           "zerolinewidth": 2
          },
          "yaxis": {
           "automargin": true,
           "gridcolor": "white",
           "linecolor": "white",
           "ticks": "",
           "title": {
            "standoff": 15
           },
           "zerolinecolor": "white",
           "zerolinewidth": 2
          }
         }
        },
        "xaxis": {
         "anchor": "y",
         "domain": [
          0,
          1
         ],
         "title": {
          "text": "x"
         }
        },
        "yaxis": {
         "anchor": "x",
         "domain": [
          0,
          1
         ],
         "title": {
          "text": "y"
         }
        }
       }
      },
      "text/html": [
       "<div>                            <div id=\"76180f1a-f77e-4d74-8987-b5965c403f2d\" class=\"plotly-graph-div\" style=\"height:525px; width:100%;\"></div>            <script type=\"text/javascript\">                require([\"plotly\"], function(Plotly) {                    window.PLOTLYENV=window.PLOTLYENV || {};                                    if (document.getElementById(\"76180f1a-f77e-4d74-8987-b5965c403f2d\")) {                    Plotly.newPlot(                        \"76180f1a-f77e-4d74-8987-b5965c403f2d\",                        [{\"hovertemplate\":\"x=%{x}\\u003cbr\\u003ey=%{y}\\u003cextra\\u003e\\u003c\\u002fextra\\u003e\",\"legendgroup\":\"\",\"marker\":{\"color\":\"#636efa\",\"symbol\":\"circle\"},\"mode\":\"markers\",\"name\":\"\",\"orientation\":\"v\",\"showlegend\":false,\"x\":[-29.6519007263013,-10.6394174079773,10.5217192728905,7.0905963789351,9.11024940853355,-16.3398673490506,-7.21745869036639,-9.34925130242794,0.259678504538996,9.65438643093141,6.39110902300939,9.87692962707074,11.3616725110819,5.97837652893622,11.7005083572399,8.24707606276873,-15.1088909769907,-7.59610506770308,3.02302516808669,5.62888157944128,8.97060058385387,8.90495924239099,-26.6901027938245,-4.00948841690754,-7.24733415045382,1.0814550976626,4.38251677547302,4.71868898493042,8.06061396743171,22.1868458877053,24.687989525773,18.4578581361758,10.5589264937639,9.51338113688216,3.18825880048796,-34.4701579189023,-16.9408624782267,3.65343293712447,3.17966383157953,-2.31671374540518,9.11356869029231,-4.14438843978037,-0.911414207312696,7.18088785652953,5.04530093876846,0.231902148792983,4.21931078624104,12.4758634125578,9.0729523180891,9.9670138294611,1.73671410848148,1.97707512477008,1.17747989736134,6.56404689399081,-18.9397682884878,-1.53072334267705,8.29954956810283,8.96577920400539,5.465446323772,4.65042295989875,-8.34366978250691,4.10490593449131,7.60184394147559,10.9265577292522,11.6364890525735,5.20026240426419,10.7518279376217,30.3129275267532,24.3860000684212,18.2303312888924,10.6716026252248,-0.845066193481159,1.57520901384594,11.9528412822547,18.0983867892657,20.3917115037623,16.464704001526,9.06710623892484,2.1405332252905,9.16912184044799,0.148479901403761,-4.25408261763214,15.1844092813231,29.7649962422369,22.5361390251879,10.304770878256,8.75292552409066,10.5962750834985,3.64495344626035,10.7168869592504,6.97468520500367,10.1763139988261,1.55857631264951,-4.87221118226262,-4.79086681494154,-18.7476696161873,-19.4661745840455,-6.48172800965921,4.2437986767461,-2.53256008598048,-21.3781218551976,-17.396097587058,-12.1915711284994,-6.03692221298451,5.26338476879232,3.54958334261407,-0.76709268121359,14.9180037843504,22.6709607231586,4.57369595301027,3.42633067325303,4.67383837360458,-0.0169329933218592,11.2878156835588,18.5743686001921,14.4725837376078,11.2882217342141,7.66558645338168,2.60521179667046,-2.0521081156048,21.4891458711782,20.5649763970689,14.8271371585718,3.02943283409051,4.00658634103479,2.6291821370817,1.6545810204473,-19.4479451198458,-0.38110259140975,9.941793591779,11.9626176520213,3.15731905047029,-10.1236299967019,4.55959947312778,9.29335443752919,8.9155040620424,0.0656988003090646,-2.32543995091946,4.13152608279985,8.10459649719861,22.5549304977354,24.1864326178553,22.6201053093355,15.5398585241777,14.5786411880714,7.33818240444987,-29.656106212292,-13.7659262829354,-1.22096562242857,14.2377934841958,-26.6488171726266,-18.4149827603101,9.57621290733179,15.4462143536594,12.4813826456354,10.3166230571412,5.96995349908984,19.7888017919728,12.870047558803,11.0008408945163,10.1031430328566,8.74794414970567,1.16068008111779,4.25793599819481,-4.72495491245618,0.443823249955628,2.93925319267171,-1.5740867735031,16.5110239800846,20.6468509000078,13.5112783274408,8.62661952119647,12.8072195333336,-1.88096194561533,0.722455053642172,9.61426485412885,2.38929788015159,4.70448673186806,4.43463193164249,3.98267195493798,7.5274212335021,-12.9405903393656,7.86926844488235,6.28790754234095,-2.49455943154007,-0.539528016127164,-2.46915826825783,-0.926061363280596,-24.1072905068698,-5.04942162381861,5.35708919941866,0.159163288339542,-1.78842467332619,-0.439017224876693,-10.7434453848377,-8.28293054279822,3.19441106620155,2.48235320058394,6.83438966175249,2.20191349092498,-3.42761844353036,-11.3936893583283,-40.7197513455468,-31.991189298155,-19.9692798257841,-11.2575673898003,4.2739988027373,17.4174946361133,15.8462010787585,13.3163202108984,-1.78070685665161,-2.1319826428718,-14.4605740510975,-10.8956772954051,-17.7866721783734,-13.9258442802744,-12.0396560641655,-15.1902776147271,-1.17447252534292,-15.1706610329499,-34.8428328151487,-21.2650305603799,-18.1125581428021,-26.4858219403681,-34.630426019802,-21.9082255621409,-19.6117206412615,-3.9085142077594,-2.50116704656246,7.11965936653508,-5.92947916892101,-8.82829828629027,1.18096661802923,5.59423574499512,21.2926929689726,20.046418047237,8.56831013649713,4.57752400378708,-0.782697516880873,-9.45671122497149,-5.01011539751142,-23.6061092873368,-8.74506846356258,13.2956990795712,-4.98864981117329,-1.55976206549181,-27.8536582304137,-24.5740631124324,-23.1212665201408,-27.4091395766156,-17.6146737557227,-6.03030120477034,11.607965215197,14.6751298862185,10.1966693764274,-2.10301407356723,-6.59345868737869,-4.9310742844892,-0.0811655970045422,-8.8128516490981,-9.04344718888041,-5.77837088122157,-4.9261732010742,-4.49684032989073,-2.9543505251568,-5.95866523102585,-23.8910331938577,-3.87402255927951,-0.948683953590006,2.76948407575387,-2.54886436398766,2.84691647036975,-2.3855025248488,-7.79590808116505,-6.48146099941045,-5.55939895747689,-1.64524849515438,-7.89420488814295,16.4540259595802,21.0594516384895,24.4010279916795,6.12670631845685,-2.14589522899011,-5.26925956548656,8.49824584020222,-37.0393350152255,-12.3006736357063,-13.1175412451369,-8.66882286358373,0.602304905413376,-0.406439881715158,-5.6521085539043,-41.7933159463926,-39.6837998242865,-36.464900515891,-26.0173712289891,-13.1505121738488,-10.9667782143345,-10.0220052070579,-3.43121093332535,3.71718695008594,4.87795210151622,-4.50602253175301,1.04318387430209,-4.46841439078177,0.739600875146934,9.48160364181417,27.4370791190307,19.5665843746001,18.5775007850176,5.32582772358471,3.32640839674724,-5.18234542810984,10.9414757441324,18.0314370240111,11.8336055402763,11.4787769814518,-2.28306255549639,-12.3740079658149,0.76720449716737,-4.96081265450701,28.1612460365749,12.848843363129,13.0703729569633,-10.0621204323634,6.08604646706968,-27.8010419022753,-50.0810177220154,-58.4963005424809,-57.9568096835101,-50.3861643889583,-35.7750862312965,-14.1634617891055,-53.276588363794,-43.9632797047448,-13.6121366500086,2.61285793975424,10.1241036117021,9.01860966971812,-4.61193632000493,-49.2645052789202,-47.9262320091531,-51.2139627196811,-38.729748336118,-10.3102123251417,-9.60259624491551,-6.66366775899617,-30.7706869455739,-16.0517833359013,26.8756715736272,21.644763550225],\"xaxis\":\"x\",\"y\":[-31.044750212543,-3.61559850646544,29.187369406781,22.968038016404,-12.7695315484629,-49.2680673081812,-40.2550055116868,-19.1870841356843,-3.08750320468906,-16.9062977007146,-33.4889167714665,-16.4342177108076,-19.7710571837546,-69.7798761936027,-217.167568442465,-55.9180529394051,5.99245291137804,-7.42287950326836,14.8375717254032,-17.5398120947291,-186.601038236347,-350.643497326468,-14.4088020936071,-0.482355238970854,-14.1181730933179,-57.9865852450815,-136.075979847862,-136.139684840601,-4.47804217739959,10.7160081946286,71.3621498241403,103.706321944994,105.438372052035,80.7405495060133,59.2214154511462,-27.8174662342012,-55.6343213855649,-53.5989057119252,-33.8122883408104,-16.8601380717252,-18.4005919213155,-18.0680789194114,8.7575236372799,-31.0059931240108,-73.4397308244394,-112.101417048848,-137.129248462823,-28.7964510704774,-6.34357914039259,-57.7395229692026,-49.0452294637718,-18.1486274354545,26.8767187969667,38.2379002695915,6.95541303019656,-10.0664606422904,-23.5509716027916,-29.0755010530077,-48.2241103583943,-84.2763928786633,-38.5393849993544,-20.1848177501308,7.18757648718252,12.767815927475,33.3312823793499,47.3111497742127,103.216674717199,24.9596959687292,41.6808162770303,48.7940784547648,48.3156829299682,22.5723002622845,-7.97326500803232,-17.648205479644,2.97275235158205,-11.6893149705165,-9.42643121573517,-7.01679509076638,-8.24397332859321,-4.78390202026914,5.43190753498076,-37.5612599159831,-26.8131003310826,3.04322777627681,7.84992907884332,21.8875369871477,37.5868002571681,37.5460203464315,1.25862646258641,-3.76178389125711,2.56058665556015,-3.36140096314563,-10.0715520421001,-18.1134077263574,-16.5678034596158,-23.3818376316374,-53.0891628610966,-43.392354390415,-3.6197440375041,22.4698309322735,-1.67258351759897,-32.5217772589594,-41.1921580138771,-57.4193138946459,-53.5505747608339,-15.4396426348265,-18.9023700061237,-26.6173755528096,-10.8570878502026,-17.7511767123862,-28.25128863905,-42.1176315341062,-11.5691101852246,0.848958039521358,11.0715365659691,-11.27333845239,-26.1033899926074,-16.9596760731475,-9.03888300567224,4.96271452589234,21.5862383304243,17.2250348338712,13.3478885907473,1.96725598563481,-0.282700909412811,-22.6250393499417,-37.8901171771227,-16.788355819675,-46.7519939086903,-9.03700154386821,57.6869427460495,109.68075625368,1.57128137515223,4.06807581782718,-14.2363396459444,-34.4278453659298,-12.3290794944038,26.0802744150872,48.6443697218943,-8.05233362948122,-2.5967766265224,22.6496124058322,22.1521794456002,1.00080271092005,-37.6148082280623,-73.0933499714197,-48.6501362978602,6.82481772770894,214.916105251359,420.454054919529,-9.44687238365509,21.7693981000101,13.5127376204195,2.77610828151918,11.0405831117609,7.29013508280617,2.0972919894369,-46.5737199673253,-39.7987048676102,-105.033700774627,-57.7514735038226,-131.089374053505,-116.957104403999,-142.52018559957,42.9461389086072,95.7333874328336,137.204558849016,-91.0873849041836,-5.27602305962692,-33.3400135304965,-23.5022061684638,-5.01877411549601,33.956321530835,34.2356953024868,-22.0748981183019,22.5465707450632,28.4992729990453,0.111282759781398,-18.2048348649362,-32.3946883374124,-26.4319718542242,-34.9200402205538,-15.800643863889,-13.3333668272294,-7.69673033315665,-5.46477651512628,-10.8468812651687,-0.836139869826859,22.9608111856947,14.0392488286237,23.3579470095489,3.47167800249363,4.6061913008666,58.2019930627088,58.2527065725265,-9.31687210189394,-21.6034513030479,-49.868528178663,-20.7699120930337,-34.3547782637951,-50.8932365666763,-49.397021719326,-44.9446525497378,-28.6345740486887,9.50426063323892,1.70413524455114,22.0611902773514,11.8237443449335,10.8243876283607,6.78765849363151,-5.61405271329325,-1.88398208488054,8.40510426320409,13.3336003104621,38.6517962987742,-23.7505663985151,40.2367128085931,-6.72568790741865,-43.4781213540304,-2.20516848049812,-1.0735585761074,-27.7539989016986,-16.5594503156267,-11.4912976927129,6.60914680055989,0.891395720401356,-33.3708481479049,22.0490204311236,30.3286772673043,27.1724955013064,18.3167091182712,0.90951406998595,-11.8543913845165,-18.0832187091767,9.27344081616644,10.4428575155542,9.39163626857236,-0.684176915924397,-7.21761612818866,-4.28775293733587,3.2700445512159,-51.2206151554068,-46.449766459605,-15.7245030114095,11.3847698265093,0.813625221259605,-9.3437644476777,32.4346245366205,42.3214858184547,16.7513962646684,-4.081628538741,-3.52711933315073,9.08982905175478,4.67019180789694,-0.128455633955258,-13.8503828210408,-16.5209267487751,-8.79553745861429,-8.65415187906511,6.58780201228955,19.9191392040032,17.6137255012702,-0.40163435852527,23.9651115071911,65.0377369448298,60.0710379850767,11.3517351244295,27.7465747897289,29.9779146137301,-2.73952171917619,-41.953050420014,-53.852769972447,-15.6708324627802,4.36242844715262,21.1763592268684,26.6917130420463,18.3664027954599,12.2876708132694,14.4065189659643,20.6973015025313,21.6447969751084,25.9394845356098,37.3706283730889,45.3701807939226,23.0137448721804,8.68260255013359,41.6983553804561,76.7335598415079,78.6074543027084,6.35242276115751,-99.4167427843329,-140.166101153313,-3.60278668305938,-3.43486387735124,-3.93776210624902,-8.89153958480805,-22.041810625081,-22.703355790888,-12.0663907972633,-4.78077439266461,3.34568819986363,12.9140695196865,6.87593122004122,1.33904394343326,5.61983618805986,16.48720622947,9.00361567479404,13.4559841114031,11.0736187343596,9.13719775713426,3.81570991937798,-0.771245094505196,0.085235231145917,16.7964589579391,18.3376467519702,19.2350544131576,12.7795639596803,-7.66587748395945,-25.9159144619384,-23.9935286189439,-0.748984505419421,-9.65472595530042,-12.398691686894,-0.992141150560103,-3.79360396187655,-14.4322756463336,-20.0496194189426,5.12487078985075,-10.7755688003078,-14.3964356279508,-4.28796116998824,3.58007774926288,1.68067066832406,-1.87837997376678,-2.60558623545028,-8.4195674691248,-1.03423547802477,-4.70246196147022,-1.22930433930932,20.3547091187778,-26.3508793100379,-22.1996384418327,16.9637685041109,36.4938267818049,31.904035768076,35.9549231084513,27.4567609549762,4.47412951996939,11.0207359054418,-92.3874208662287,-61.614701977243],\"yaxis\":\"y\",\"type\":\"scatter\"}],                        {\"template\":{\"data\":{\"histogram2dcontour\":[{\"type\":\"histogram2dcontour\",\"colorbar\":{\"outlinewidth\":0,\"ticks\":\"\"},\"colorscale\":[[0.0,\"#0d0887\"],[0.1111111111111111,\"#46039f\"],[0.2222222222222222,\"#7201a8\"],[0.3333333333333333,\"#9c179e\"],[0.4444444444444444,\"#bd3786\"],[0.5555555555555556,\"#d8576b\"],[0.6666666666666666,\"#ed7953\"],[0.7777777777777778,\"#fb9f3a\"],[0.8888888888888888,\"#fdca26\"],[1.0,\"#f0f921\"]]}],\"choropleth\":[{\"type\":\"choropleth\",\"colorbar\":{\"outlinewidth\":0,\"ticks\":\"\"}}],\"histogram2d\":[{\"type\":\"histogram2d\",\"colorbar\":{\"outlinewidth\":0,\"ticks\":\"\"},\"colorscale\":[[0.0,\"#0d0887\"],[0.1111111111111111,\"#46039f\"],[0.2222222222222222,\"#7201a8\"],[0.3333333333333333,\"#9c179e\"],[0.4444444444444444,\"#bd3786\"],[0.5555555555555556,\"#d8576b\"],[0.6666666666666666,\"#ed7953\"],[0.7777777777777778,\"#fb9f3a\"],[0.8888888888888888,\"#fdca26\"],[1.0,\"#f0f921\"]]}],\"heatmap\":[{\"type\":\"heatmap\",\"colorbar\":{\"outlinewidth\":0,\"ticks\":\"\"},\"colorscale\":[[0.0,\"#0d0887\"],[0.1111111111111111,\"#46039f\"],[0.2222222222222222,\"#7201a8\"],[0.3333333333333333,\"#9c179e\"],[0.4444444444444444,\"#bd3786\"],[0.5555555555555556,\"#d8576b\"],[0.6666666666666666,\"#ed7953\"],[0.7777777777777778,\"#fb9f3a\"],[0.8888888888888888,\"#fdca26\"],[1.0,\"#f0f921\"]]}],\"heatmapgl\":[{\"type\":\"heatmapgl\",\"colorbar\":{\"outlinewidth\":0,\"ticks\":\"\"},\"colorscale\":[[0.0,\"#0d0887\"],[0.1111111111111111,\"#46039f\"],[0.2222222222222222,\"#7201a8\"],[0.3333333333333333,\"#9c179e\"],[0.4444444444444444,\"#bd3786\"],[0.5555555555555556,\"#d8576b\"],[0.6666666666666666,\"#ed7953\"],[0.7777777777777778,\"#fb9f3a\"],[0.8888888888888888,\"#fdca26\"],[1.0,\"#f0f921\"]]}],\"contourcarpet\":[{\"type\":\"contourcarpet\",\"colorbar\":{\"outlinewidth\":0,\"ticks\":\"\"}}],\"contour\":[{\"type\":\"contour\",\"colorbar\":{\"outlinewidth\":0,\"ticks\":\"\"},\"colorscale\":[[0.0,\"#0d0887\"],[0.1111111111111111,\"#46039f\"],[0.2222222222222222,\"#7201a8\"],[0.3333333333333333,\"#9c179e\"],[0.4444444444444444,\"#bd3786\"],[0.5555555555555556,\"#d8576b\"],[0.6666666666666666,\"#ed7953\"],[0.7777777777777778,\"#fb9f3a\"],[0.8888888888888888,\"#fdca26\"],[1.0,\"#f0f921\"]]}],\"surface\":[{\"type\":\"surface\",\"colorbar\":{\"outlinewidth\":0,\"ticks\":\"\"},\"colorscale\":[[0.0,\"#0d0887\"],[0.1111111111111111,\"#46039f\"],[0.2222222222222222,\"#7201a8\"],[0.3333333333333333,\"#9c179e\"],[0.4444444444444444,\"#bd3786\"],[0.5555555555555556,\"#d8576b\"],[0.6666666666666666,\"#ed7953\"],[0.7777777777777778,\"#fb9f3a\"],[0.8888888888888888,\"#fdca26\"],[1.0,\"#f0f921\"]]}],\"mesh3d\":[{\"type\":\"mesh3d\",\"colorbar\":{\"outlinewidth\":0,\"ticks\":\"\"}}],\"scatter\":[{\"fillpattern\":{\"fillmode\":\"overlay\",\"size\":10,\"solidity\":0.2},\"type\":\"scatter\"}],\"parcoords\":[{\"type\":\"parcoords\",\"line\":{\"colorbar\":{\"outlinewidth\":0,\"ticks\":\"\"}}}],\"scatterpolargl\":[{\"type\":\"scatterpolargl\",\"marker\":{\"colorbar\":{\"outlinewidth\":0,\"ticks\":\"\"}}}],\"bar\":[{\"error_x\":{\"color\":\"#2a3f5f\"},\"error_y\":{\"color\":\"#2a3f5f\"},\"marker\":{\"line\":{\"color\":\"#E5ECF6\",\"width\":0.5},\"pattern\":{\"fillmode\":\"overlay\",\"size\":10,\"solidity\":0.2}},\"type\":\"bar\"}],\"scattergeo\":[{\"type\":\"scattergeo\",\"marker\":{\"colorbar\":{\"outlinewidth\":0,\"ticks\":\"\"}}}],\"scatterpolar\":[{\"type\":\"scatterpolar\",\"marker\":{\"colorbar\":{\"outlinewidth\":0,\"ticks\":\"\"}}}],\"histogram\":[{\"marker\":{\"pattern\":{\"fillmode\":\"overlay\",\"size\":10,\"solidity\":0.2}},\"type\":\"histogram\"}],\"scattergl\":[{\"type\":\"scattergl\",\"marker\":{\"colorbar\":{\"outlinewidth\":0,\"ticks\":\"\"}}}],\"scatter3d\":[{\"type\":\"scatter3d\",\"line\":{\"colorbar\":{\"outlinewidth\":0,\"ticks\":\"\"}},\"marker\":{\"colorbar\":{\"outlinewidth\":0,\"ticks\":\"\"}}}],\"scattermapbox\":[{\"type\":\"scattermapbox\",\"marker\":{\"colorbar\":{\"outlinewidth\":0,\"ticks\":\"\"}}}],\"scatterternary\":[{\"type\":\"scatterternary\",\"marker\":{\"colorbar\":{\"outlinewidth\":0,\"ticks\":\"\"}}}],\"scattercarpet\":[{\"type\":\"scattercarpet\",\"marker\":{\"colorbar\":{\"outlinewidth\":0,\"ticks\":\"\"}}}],\"carpet\":[{\"aaxis\":{\"endlinecolor\":\"#2a3f5f\",\"gridcolor\":\"white\",\"linecolor\":\"white\",\"minorgridcolor\":\"white\",\"startlinecolor\":\"#2a3f5f\"},\"baxis\":{\"endlinecolor\":\"#2a3f5f\",\"gridcolor\":\"white\",\"linecolor\":\"white\",\"minorgridcolor\":\"white\",\"startlinecolor\":\"#2a3f5f\"},\"type\":\"carpet\"}],\"table\":[{\"cells\":{\"fill\":{\"color\":\"#EBF0F8\"},\"line\":{\"color\":\"white\"}},\"header\":{\"fill\":{\"color\":\"#C8D4E3\"},\"line\":{\"color\":\"white\"}},\"type\":\"table\"}],\"barpolar\":[{\"marker\":{\"line\":{\"color\":\"#E5ECF6\",\"width\":0.5},\"pattern\":{\"fillmode\":\"overlay\",\"size\":10,\"solidity\":0.2}},\"type\":\"barpolar\"}],\"pie\":[{\"automargin\":true,\"type\":\"pie\"}]},\"layout\":{\"autotypenumbers\":\"strict\",\"colorway\":[\"#636efa\",\"#EF553B\",\"#00cc96\",\"#ab63fa\",\"#FFA15A\",\"#19d3f3\",\"#FF6692\",\"#B6E880\",\"#FF97FF\",\"#FECB52\"],\"font\":{\"color\":\"#2a3f5f\"},\"hovermode\":\"closest\",\"hoverlabel\":{\"align\":\"left\"},\"paper_bgcolor\":\"white\",\"plot_bgcolor\":\"#E5ECF6\",\"polar\":{\"bgcolor\":\"#E5ECF6\",\"angularaxis\":{\"gridcolor\":\"white\",\"linecolor\":\"white\",\"ticks\":\"\"},\"radialaxis\":{\"gridcolor\":\"white\",\"linecolor\":\"white\",\"ticks\":\"\"}},\"ternary\":{\"bgcolor\":\"#E5ECF6\",\"aaxis\":{\"gridcolor\":\"white\",\"linecolor\":\"white\",\"ticks\":\"\"},\"baxis\":{\"gridcolor\":\"white\",\"linecolor\":\"white\",\"ticks\":\"\"},\"caxis\":{\"gridcolor\":\"white\",\"linecolor\":\"white\",\"ticks\":\"\"}},\"coloraxis\":{\"colorbar\":{\"outlinewidth\":0,\"ticks\":\"\"}},\"colorscale\":{\"sequential\":[[0.0,\"#0d0887\"],[0.1111111111111111,\"#46039f\"],[0.2222222222222222,\"#7201a8\"],[0.3333333333333333,\"#9c179e\"],[0.4444444444444444,\"#bd3786\"],[0.5555555555555556,\"#d8576b\"],[0.6666666666666666,\"#ed7953\"],[0.7777777777777778,\"#fb9f3a\"],[0.8888888888888888,\"#fdca26\"],[1.0,\"#f0f921\"]],\"sequentialminus\":[[0.0,\"#0d0887\"],[0.1111111111111111,\"#46039f\"],[0.2222222222222222,\"#7201a8\"],[0.3333333333333333,\"#9c179e\"],[0.4444444444444444,\"#bd3786\"],[0.5555555555555556,\"#d8576b\"],[0.6666666666666666,\"#ed7953\"],[0.7777777777777778,\"#fb9f3a\"],[0.8888888888888888,\"#fdca26\"],[1.0,\"#f0f921\"]],\"diverging\":[[0,\"#8e0152\"],[0.1,\"#c51b7d\"],[0.2,\"#de77ae\"],[0.3,\"#f1b6da\"],[0.4,\"#fde0ef\"],[0.5,\"#f7f7f7\"],[0.6,\"#e6f5d0\"],[0.7,\"#b8e186\"],[0.8,\"#7fbc41\"],[0.9,\"#4d9221\"],[1,\"#276419\"]]},\"xaxis\":{\"gridcolor\":\"white\",\"linecolor\":\"white\",\"ticks\":\"\",\"title\":{\"standoff\":15},\"zerolinecolor\":\"white\",\"automargin\":true,\"zerolinewidth\":2},\"yaxis\":{\"gridcolor\":\"white\",\"linecolor\":\"white\",\"ticks\":\"\",\"title\":{\"standoff\":15},\"zerolinecolor\":\"white\",\"automargin\":true,\"zerolinewidth\":2},\"scene\":{\"xaxis\":{\"backgroundcolor\":\"#E5ECF6\",\"gridcolor\":\"white\",\"linecolor\":\"white\",\"showbackground\":true,\"ticks\":\"\",\"zerolinecolor\":\"white\",\"gridwidth\":2},\"yaxis\":{\"backgroundcolor\":\"#E5ECF6\",\"gridcolor\":\"white\",\"linecolor\":\"white\",\"showbackground\":true,\"ticks\":\"\",\"zerolinecolor\":\"white\",\"gridwidth\":2},\"zaxis\":{\"backgroundcolor\":\"#E5ECF6\",\"gridcolor\":\"white\",\"linecolor\":\"white\",\"showbackground\":true,\"ticks\":\"\",\"zerolinecolor\":\"white\",\"gridwidth\":2}},\"shapedefaults\":{\"line\":{\"color\":\"#2a3f5f\"}},\"annotationdefaults\":{\"arrowcolor\":\"#2a3f5f\",\"arrowhead\":0,\"arrowwidth\":1},\"geo\":{\"bgcolor\":\"white\",\"landcolor\":\"#E5ECF6\",\"subunitcolor\":\"white\",\"showland\":true,\"showlakes\":true,\"lakecolor\":\"white\"},\"title\":{\"x\":0.05},\"mapbox\":{\"style\":\"light\"}}},\"xaxis\":{\"anchor\":\"y\",\"domain\":[0.0,1.0],\"title\":{\"text\":\"x\"}},\"yaxis\":{\"anchor\":\"x\",\"domain\":[0.0,1.0],\"title\":{\"text\":\"y\"}},\"legend\":{\"tracegroupgap\":0},\"margin\":{\"t\":60}},                        {\"responsive\": true}                    ).then(function(){\n",
       "                            \n",
       "var gd = document.getElementById('76180f1a-f77e-4d74-8987-b5965c403f2d');\n",
       "var x = new MutationObserver(function (mutations, observer) {{\n",
       "        var display = window.getComputedStyle(gd).display;\n",
       "        if (!display || display === 'none') {{\n",
       "            console.log([gd, 'removed!']);\n",
       "            Plotly.purge(gd);\n",
       "            observer.disconnect();\n",
       "        }}\n",
       "}});\n",
       "\n",
       "// Listen for the removal of the full notebook cells\n",
       "var notebookContainer = gd.closest('#notebook-container');\n",
       "if (notebookContainer) {{\n",
       "    x.observe(notebookContainer, {childList: true});\n",
       "}}\n",
       "\n",
       "// Listen for the clearing of the current output cell\n",
       "var outputEl = gd.closest('.output');\n",
       "if (outputEl) {{\n",
       "    x.observe(outputEl, {childList: true});\n",
       "}}\n",
       "\n",
       "                        })                };                });            </script>        </div>"
      ]
     },
     "metadata": {},
     "output_type": "display_data"
    }
   ],
   "source": [
    "fig = px.scatter(x=y_true, y=y_pred)\n",
    "fig.show()"
   ]
  },
  {
   "cell_type": "code",
   "execution_count": 31,
   "id": "e86b8343",
   "metadata": {},
   "outputs": [
    {
     "data": {
      "text/plain": [
       "-10.322468433942175"
      ]
     },
     "execution_count": 31,
     "metadata": {},
     "output_type": "execute_result"
    }
   ],
   "source": [
    "r2_score(y_true, y_pred)"
   ]
  },
  {
   "cell_type": "code",
   "execution_count": null,
   "id": "e6da340b",
   "metadata": {},
   "outputs": [],
   "source": []
  }
 ],
 "metadata": {
  "kernelspec": {
   "display_name": "kir",
   "language": "python",
   "name": "kir"
  },
  "language_info": {
   "codemirror_mode": {
    "name": "ipython",
    "version": 3
   },
   "file_extension": ".py",
   "mimetype": "text/x-python",
   "name": "python",
   "nbconvert_exporter": "python",
   "pygments_lexer": "ipython3",
   "version": "3.10.13"
  }
 },
 "nbformat": 4,
 "nbformat_minor": 5
}
