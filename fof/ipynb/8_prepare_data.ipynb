{
 "cells": [
  {
   "cell_type": "code",
   "execution_count": 82,
   "id": "8d389a7d",
   "metadata": {},
   "outputs": [
    {
     "name": "stdout",
     "output_type": "stream",
     "text": [
      "The autoreload extension is already loaded. To reload it, use:\n",
      "  %reload_ext autoreload\n"
     ]
    }
   ],
   "source": [
    "%load_ext autoreload\n",
    "%autoreload 2"
   ]
  },
  {
   "cell_type": "code",
   "execution_count": 83,
   "id": "ac0c5fc9",
   "metadata": {},
   "outputs": [],
   "source": [
    "import os\n",
    "os.chdir('/Users/zhenyamordan/PyCharmProjects/Kinome-Regularization/')"
   ]
  },
  {
   "cell_type": "code",
   "execution_count": 84,
   "id": "99f2ad4e",
   "metadata": {},
   "outputs": [],
   "source": [
    "import pandas as pd\n",
    "import numpy as np\n",
    "import plotly.express as px\n",
    "from scipy.optimize import curve_fit\n",
    "import plotly.graph_objects as go\n",
    "import subprocess"
   ]
  },
  {
   "cell_type": "markdown",
   "id": "34584f47",
   "metadata": {},
   "source": [
    "## Load data"
   ]
  },
  {
   "cell_type": "code",
   "execution_count": 85,
   "id": "3e12b98c",
   "metadata": {},
   "outputs": [],
   "source": [
    "# data_folder = './fof/data/data_03_12_23'\n",
    "data_folder = './fof/data/data_06_10_23'"
   ]
  },
  {
   "cell_type": "code",
   "execution_count": 86,
   "id": "97abe40d",
   "metadata": {},
   "outputs": [
    {
     "name": "stdout",
     "output_type": "stream",
     "text": [
      "KIR3KinaseCategories.xlsx         good_doses_mask.csv\r\n",
      "drug_phenotype_data.csv           kinase_data.csv\r\n",
      "final_mask_1_point_on_plateau.csv y_plateau_preprocessed.csv\r\n"
     ]
    }
   ],
   "source": [
    "!ls {data_folder}"
   ]
  },
  {
   "cell_type": "code",
   "execution_count": 87,
   "id": "2822b1a2",
   "metadata": {},
   "outputs": [
    {
     "name": "stdout",
     "output_type": "stream",
     "text": [
      "KIR3KinaseCategories.xlsx         good_doses_mask.csv\r\n",
      "drug_phenotype_data.csv           kinase_data.csv\r\n",
      "final_mask_1_point_on_plateau.csv y_plateau_preprocessed.csv\r\n"
     ]
    }
   ],
   "source": [
    "!ls ./fof/data/data_03_12_23"
   ]
  },
  {
   "cell_type": "code",
   "execution_count": 88,
   "id": "5165c0a1",
   "metadata": {},
   "outputs": [],
   "source": [
    "y = pd.read_csv(os.path.join(data_folder, 'drug_phenotype_data.csv'))"
   ]
  },
  {
   "cell_type": "code",
   "execution_count": 89,
   "id": "77ea48e3",
   "metadata": {},
   "outputs": [],
   "source": [
    "X = pd.read_csv(os.path.join(data_folder, 'kinase_data.csv'))"
   ]
  },
  {
   "cell_type": "code",
   "execution_count": 90,
   "id": "469837a5",
   "metadata": {},
   "outputs": [],
   "source": [
    "y_plateau = pd.read_csv(os.path.join(data_folder, 'y_plateau_preprocessed.csv'))"
   ]
  },
  {
   "cell_type": "markdown",
   "id": "87818c8f",
   "metadata": {},
   "source": [
    "## Process"
   ]
  },
  {
   "cell_type": "markdown",
   "id": "4ab3e7f5",
   "metadata": {},
   "source": [
    "### Merge"
   ]
  },
  {
   "cell_type": "code",
   "execution_count": 91,
   "id": "f87edc9c",
   "metadata": {},
   "outputs": [],
   "source": [
    "def merge_data(X, y, y_plateau):\n",
    "    data = pd.merge(y, X, left_index=True, right_index=True)\n",
    "    data = pd.merge(data, y_plateau, left_index=True, right_index=True)\n",
    "    return data"
   ]
  },
  {
   "cell_type": "code",
   "execution_count": 92,
   "id": "32a0d047",
   "metadata": {},
   "outputs": [],
   "source": [
    "data = merge_data(X, y, y_plateau)"
   ]
  },
  {
   "cell_type": "code",
   "execution_count": 93,
   "id": "d7560943",
   "metadata": {},
   "outputs": [],
   "source": [
    "mask = pd.read_csv('./fof/data/good_doses_mask.csv')"
   ]
  },
  {
   "cell_type": "code",
   "execution_count": 94,
   "id": "b0665c0d",
   "metadata": {},
   "outputs": [],
   "source": [
    "data = data[mask['if_used_in_final']].reset_index(drop=True)"
   ]
  },
  {
   "cell_type": "code",
   "execution_count": 95,
   "id": "92ecc337",
   "metadata": {},
   "outputs": [
    {
     "data": {
      "text/plain": [
       "(347, 377)"
      ]
     },
     "execution_count": 95,
     "metadata": {},
     "output_type": "execute_result"
    }
   ],
   "source": [
    "data.shape"
   ]
  },
  {
   "cell_type": "markdown",
   "id": "75584bc2",
   "metadata": {},
   "source": [
    "### Drop control"
   ]
  },
  {
   "cell_type": "code",
   "execution_count": 99,
   "id": "e8c139dc",
   "metadata": {},
   "outputs": [],
   "source": [
    "data = data[data['dose (uM)'] != 0.]"
   ]
  },
  {
   "cell_type": "markdown",
   "id": "80d03ce5",
   "metadata": {},
   "source": [
    "### Prepare for R"
   ]
  },
  {
   "cell_type": "code",
   "execution_count": 104,
   "id": "f92edabe",
   "metadata": {},
   "outputs": [
    {
     "name": "stdout",
     "output_type": "stream",
     "text": [
      "['AKT1' 'AKT2' 'AKT3' 'ALK1_ACVRL1' 'ALK2_ACVR1']\n",
      "['NCGC00344999_A1' 'NCGC00241102_E1' 'NCGC00249389_H1' 'NCGC00345784_C2'\n",
      " 'NCGC00346673_G2']\n"
     ]
    }
   ],
   "source": [
    "kinases = data.columns[7:].to_numpy()\n",
    "print(kinases[:5])\n",
    "drugs = data['drugNames'].unique()\n",
    "print(drugs[:5])"
   ]
  },
  {
   "cell_type": "code",
   "execution_count": 105,
   "id": "6dbfdd5e",
   "metadata": {},
   "outputs": [],
   "source": [
    "number_drug_dict = dict(zip(range(len(data)), data['drugNames'].unique()))\n",
    "drug_number_dict = {v: k for k, v in number_drug_dict.items()}"
   ]
  },
  {
   "cell_type": "code",
   "execution_count": 106,
   "id": "0325e037",
   "metadata": {},
   "outputs": [],
   "source": [
    "number_kinase_dict = dict(zip(range(1, len(kinases)+1), kinases))\n",
    "kinase_number_dict = {v: k for k, v in number_kinase_dict.items()}"
   ]
  },
  {
   "cell_type": "code",
   "execution_count": 111,
   "id": "619ee4e4",
   "metadata": {},
   "outputs": [],
   "source": [
    "dose_column = 'dose (uM)'\n",
    "response_column = 'Y'"
   ]
  },
  {
   "cell_type": "code",
   "execution_count": 112,
   "id": "fd43f9c7",
   "metadata": {},
   "outputs": [],
   "source": [
    "y = data[response_column].to_numpy().reshape(-1,1)\n",
    "X = data[kinases].values\n",
    "t = data[dose_column].to_numpy().reshape(-1,1)\n",
    "drug = data['drugNames'].apply(lambda x: drug_number_dict[x]).to_numpy().reshape(-1,1)"
   ]
  },
  {
   "cell_type": "markdown",
   "id": "ea166fe7",
   "metadata": {},
   "source": [
    "### Save"
   ]
  },
  {
   "cell_type": "code",
   "execution_count": 113,
   "id": "59e8ba04",
   "metadata": {},
   "outputs": [],
   "source": [
    "r_data = np.concatenate([drug, y, t, X], axis=1)\n",
    "r_columns = ['subj', 'Y', 'time'] + [f'Cov_{i+1}' for i in range(X.shape[1])]"
   ]
  },
  {
   "cell_type": "code",
   "execution_count": 114,
   "id": "afd100be",
   "metadata": {},
   "outputs": [
    {
     "data": {
      "text/html": [
       "<div>\n",
       "<style scoped>\n",
       "    .dataframe tbody tr th:only-of-type {\n",
       "        vertical-align: middle;\n",
       "    }\n",
       "\n",
       "    .dataframe tbody tr th {\n",
       "        vertical-align: top;\n",
       "    }\n",
       "\n",
       "    .dataframe thead th {\n",
       "        text-align: right;\n",
       "    }\n",
       "</style>\n",
       "<table border=\"1\" class=\"dataframe\">\n",
       "  <thead>\n",
       "    <tr style=\"text-align: right;\">\n",
       "      <th></th>\n",
       "      <th>subj</th>\n",
       "      <th>Y</th>\n",
       "      <th>time</th>\n",
       "      <th>Cov_1</th>\n",
       "      <th>Cov_2</th>\n",
       "      <th>Cov_3</th>\n",
       "      <th>Cov_4</th>\n",
       "      <th>Cov_5</th>\n",
       "      <th>Cov_6</th>\n",
       "      <th>Cov_7</th>\n",
       "      <th>...</th>\n",
       "      <th>Cov_361</th>\n",
       "      <th>Cov_362</th>\n",
       "      <th>Cov_363</th>\n",
       "      <th>Cov_364</th>\n",
       "      <th>Cov_365</th>\n",
       "      <th>Cov_366</th>\n",
       "      <th>Cov_367</th>\n",
       "      <th>Cov_368</th>\n",
       "      <th>Cov_369</th>\n",
       "      <th>Cov_370</th>\n",
       "    </tr>\n",
       "  </thead>\n",
       "  <tbody>\n",
       "    <tr>\n",
       "      <th>0</th>\n",
       "      <td>0.0</td>\n",
       "      <td>0.276545</td>\n",
       "      <td>1.11</td>\n",
       "      <td>0.825562</td>\n",
       "      <td>0.958012</td>\n",
       "      <td>0.929195</td>\n",
       "      <td>0.873394</td>\n",
       "      <td>0.999992</td>\n",
       "      <td>0.978198</td>\n",
       "      <td>1.000000</td>\n",
       "      <td>...</td>\n",
       "      <td>0.027721</td>\n",
       "      <td>0.302221</td>\n",
       "      <td>0.000411</td>\n",
       "      <td>0.000200</td>\n",
       "      <td>0.025107</td>\n",
       "      <td>0.343913</td>\n",
       "      <td>0.228633</td>\n",
       "      <td>0.273383</td>\n",
       "      <td>0.001528</td>\n",
       "      <td>0.276545</td>\n",
       "    </tr>\n",
       "    <tr>\n",
       "      <th>1</th>\n",
       "      <td>0.0</td>\n",
       "      <td>0.526242</td>\n",
       "      <td>0.37</td>\n",
       "      <td>0.877345</td>\n",
       "      <td>0.984761</td>\n",
       "      <td>0.979264</td>\n",
       "      <td>0.959281</td>\n",
       "      <td>1.000000</td>\n",
       "      <td>0.991725</td>\n",
       "      <td>1.000000</td>\n",
       "      <td>...</td>\n",
       "      <td>0.068760</td>\n",
       "      <td>0.577477</td>\n",
       "      <td>0.000973</td>\n",
       "      <td>0.000201</td>\n",
       "      <td>0.064854</td>\n",
       "      <td>0.566269</td>\n",
       "      <td>0.428022</td>\n",
       "      <td>0.534281</td>\n",
       "      <td>0.004563</td>\n",
       "      <td>0.526242</td>\n",
       "    </tr>\n",
       "    <tr>\n",
       "      <th>2</th>\n",
       "      <td>0.0</td>\n",
       "      <td>0.700000</td>\n",
       "      <td>0.12</td>\n",
       "      <td>0.915214</td>\n",
       "      <td>0.994564</td>\n",
       "      <td>0.994147</td>\n",
       "      <td>0.987177</td>\n",
       "      <td>1.000000</td>\n",
       "      <td>0.996885</td>\n",
       "      <td>1.000000</td>\n",
       "      <td>...</td>\n",
       "      <td>0.160831</td>\n",
       "      <td>0.811382</td>\n",
       "      <td>0.003018</td>\n",
       "      <td>0.000210</td>\n",
       "      <td>0.157508</td>\n",
       "      <td>0.764517</td>\n",
       "      <td>0.653849</td>\n",
       "      <td>0.777644</td>\n",
       "      <td>0.014427</td>\n",
       "      <td>0.700000</td>\n",
       "    </tr>\n",
       "    <tr>\n",
       "      <th>3</th>\n",
       "      <td>0.0</td>\n",
       "      <td>0.700000</td>\n",
       "      <td>0.04</td>\n",
       "      <td>0.942042</td>\n",
       "      <td>0.998072</td>\n",
       "      <td>0.998365</td>\n",
       "      <td>0.995500</td>\n",
       "      <td>1.000000</td>\n",
       "      <td>0.998830</td>\n",
       "      <td>1.000000</td>\n",
       "      <td>...</td>\n",
       "      <td>0.332354</td>\n",
       "      <td>0.930753</td>\n",
       "      <td>0.010412</td>\n",
       "      <td>0.000296</td>\n",
       "      <td>0.335096</td>\n",
       "      <td>0.889445</td>\n",
       "      <td>0.826574</td>\n",
       "      <td>0.914221</td>\n",
       "      <td>0.045557</td>\n",
       "      <td>0.700000</td>\n",
       "    </tr>\n",
       "    <tr>\n",
       "      <th>4</th>\n",
       "      <td>0.0</td>\n",
       "      <td>0.700000</td>\n",
       "      <td>0.01</td>\n",
       "      <td>0.960575</td>\n",
       "      <td>0.999315</td>\n",
       "      <td>0.999543</td>\n",
       "      <td>0.997916</td>\n",
       "      <td>1.000000</td>\n",
       "      <td>0.999560</td>\n",
       "      <td>1.000000</td>\n",
       "      <td>...</td>\n",
       "      <td>0.563155</td>\n",
       "      <td>0.976166</td>\n",
       "      <td>0.036337</td>\n",
       "      <td>0.001109</td>\n",
       "      <td>0.575069</td>\n",
       "      <td>0.951738</td>\n",
       "      <td>0.922977</td>\n",
       "      <td>0.970018</td>\n",
       "      <td>0.134958</td>\n",
       "      <td>0.700000</td>\n",
       "    </tr>\n",
       "    <tr>\n",
       "      <th>...</th>\n",
       "      <td>...</td>\n",
       "      <td>...</td>\n",
       "      <td>...</td>\n",
       "      <td>...</td>\n",
       "      <td>...</td>\n",
       "      <td>...</td>\n",
       "      <td>...</td>\n",
       "      <td>...</td>\n",
       "      <td>...</td>\n",
       "      <td>...</td>\n",
       "      <td>...</td>\n",
       "      <td>...</td>\n",
       "      <td>...</td>\n",
       "      <td>...</td>\n",
       "      <td>...</td>\n",
       "      <td>...</td>\n",
       "      <td>...</td>\n",
       "      <td>...</td>\n",
       "      <td>...</td>\n",
       "      <td>...</td>\n",
       "      <td>...</td>\n",
       "    </tr>\n",
       "    <tr>\n",
       "      <th>295</th>\n",
       "      <td>46.0</td>\n",
       "      <td>0.074273</td>\n",
       "      <td>1.11</td>\n",
       "      <td>0.960433</td>\n",
       "      <td>0.996855</td>\n",
       "      <td>0.928235</td>\n",
       "      <td>0.915098</td>\n",
       "      <td>1.000000</td>\n",
       "      <td>0.998901</td>\n",
       "      <td>0.998901</td>\n",
       "      <td>...</td>\n",
       "      <td>0.002261</td>\n",
       "      <td>0.020236</td>\n",
       "      <td>0.348805</td>\n",
       "      <td>0.300735</td>\n",
       "      <td>0.001050</td>\n",
       "      <td>0.165440</td>\n",
       "      <td>0.479133</td>\n",
       "      <td>1.000000</td>\n",
       "      <td>0.001413</td>\n",
       "      <td>0.074273</td>\n",
       "    </tr>\n",
       "    <tr>\n",
       "      <th>296</th>\n",
       "      <td>46.0</td>\n",
       "      <td>0.251452</td>\n",
       "      <td>0.37</td>\n",
       "      <td>0.975974</td>\n",
       "      <td>0.999325</td>\n",
       "      <td>0.951123</td>\n",
       "      <td>0.958103</td>\n",
       "      <td>1.000000</td>\n",
       "      <td>0.998901</td>\n",
       "      <td>0.998901</td>\n",
       "      <td>...</td>\n",
       "      <td>0.007330</td>\n",
       "      <td>0.066630</td>\n",
       "      <td>0.618058</td>\n",
       "      <td>0.529689</td>\n",
       "      <td>0.006249</td>\n",
       "      <td>0.368352</td>\n",
       "      <td>0.722819</td>\n",
       "      <td>1.000000</td>\n",
       "      <td>0.005303</td>\n",
       "      <td>0.251452</td>\n",
       "    </tr>\n",
       "    <tr>\n",
       "      <th>297</th>\n",
       "      <td>46.0</td>\n",
       "      <td>0.700000</td>\n",
       "      <td>0.12</td>\n",
       "      <td>0.985499</td>\n",
       "      <td>0.999855</td>\n",
       "      <td>0.966849</td>\n",
       "      <td>0.979502</td>\n",
       "      <td>1.000000</td>\n",
       "      <td>0.998901</td>\n",
       "      <td>0.998901</td>\n",
       "      <td>...</td>\n",
       "      <td>0.024551</td>\n",
       "      <td>0.198193</td>\n",
       "      <td>0.830142</td>\n",
       "      <td>0.746503</td>\n",
       "      <td>0.038751</td>\n",
       "      <td>0.631744</td>\n",
       "      <td>0.880451</td>\n",
       "      <td>1.000000</td>\n",
       "      <td>0.020475</td>\n",
       "      <td>0.700000</td>\n",
       "    </tr>\n",
       "    <tr>\n",
       "      <th>298</th>\n",
       "      <td>46.0</td>\n",
       "      <td>0.700000</td>\n",
       "      <td>0.04</td>\n",
       "      <td>0.991281</td>\n",
       "      <td>0.999969</td>\n",
       "      <td>0.977512</td>\n",
       "      <td>0.989781</td>\n",
       "      <td>1.000000</td>\n",
       "      <td>0.998901</td>\n",
       "      <td>0.998901</td>\n",
       "      <td>...</td>\n",
       "      <td>0.079986</td>\n",
       "      <td>0.461122</td>\n",
       "      <td>0.936530</td>\n",
       "      <td>0.884694</td>\n",
       "      <td>0.207089</td>\n",
       "      <td>0.834582</td>\n",
       "      <td>0.953693</td>\n",
       "      <td>1.000000</td>\n",
       "      <td>0.076450</td>\n",
       "      <td>0.700000</td>\n",
       "    </tr>\n",
       "    <tr>\n",
       "      <th>299</th>\n",
       "      <td>46.0</td>\n",
       "      <td>0.700000</td>\n",
       "      <td>0.01</td>\n",
       "      <td>0.994760</td>\n",
       "      <td>0.999993</td>\n",
       "      <td>0.984659</td>\n",
       "      <td>0.994626</td>\n",
       "      <td>1.000000</td>\n",
       "      <td>0.998901</td>\n",
       "      <td>0.998901</td>\n",
       "      <td>...</td>\n",
       "      <td>0.230895</td>\n",
       "      <td>0.746526</td>\n",
       "      <td>0.977962</td>\n",
       "      <td>0.951828</td>\n",
       "      <td>0.627103</td>\n",
       "      <td>0.936640</td>\n",
       "      <td>0.982432</td>\n",
       "      <td>1.000000</td>\n",
       "      <td>0.246470</td>\n",
       "      <td>0.700000</td>\n",
       "    </tr>\n",
       "  </tbody>\n",
       "</table>\n",
       "<p>300 rows × 373 columns</p>\n",
       "</div>"
      ],
      "text/plain": [
       "     subj         Y  time     Cov_1     Cov_2     Cov_3     Cov_4     Cov_5  \\\n",
       "0     0.0  0.276545  1.11  0.825562  0.958012  0.929195  0.873394  0.999992   \n",
       "1     0.0  0.526242  0.37  0.877345  0.984761  0.979264  0.959281  1.000000   \n",
       "2     0.0  0.700000  0.12  0.915214  0.994564  0.994147  0.987177  1.000000   \n",
       "3     0.0  0.700000  0.04  0.942042  0.998072  0.998365  0.995500  1.000000   \n",
       "4     0.0  0.700000  0.01  0.960575  0.999315  0.999543  0.997916  1.000000   \n",
       "..    ...       ...   ...       ...       ...       ...       ...       ...   \n",
       "295  46.0  0.074273  1.11  0.960433  0.996855  0.928235  0.915098  1.000000   \n",
       "296  46.0  0.251452  0.37  0.975974  0.999325  0.951123  0.958103  1.000000   \n",
       "297  46.0  0.700000  0.12  0.985499  0.999855  0.966849  0.979502  1.000000   \n",
       "298  46.0  0.700000  0.04  0.991281  0.999969  0.977512  0.989781  1.000000   \n",
       "299  46.0  0.700000  0.01  0.994760  0.999993  0.984659  0.994626  1.000000   \n",
       "\n",
       "        Cov_6     Cov_7  ...   Cov_361   Cov_362   Cov_363   Cov_364  \\\n",
       "0    0.978198  1.000000  ...  0.027721  0.302221  0.000411  0.000200   \n",
       "1    0.991725  1.000000  ...  0.068760  0.577477  0.000973  0.000201   \n",
       "2    0.996885  1.000000  ...  0.160831  0.811382  0.003018  0.000210   \n",
       "3    0.998830  1.000000  ...  0.332354  0.930753  0.010412  0.000296   \n",
       "4    0.999560  1.000000  ...  0.563155  0.976166  0.036337  0.001109   \n",
       "..        ...       ...  ...       ...       ...       ...       ...   \n",
       "295  0.998901  0.998901  ...  0.002261  0.020236  0.348805  0.300735   \n",
       "296  0.998901  0.998901  ...  0.007330  0.066630  0.618058  0.529689   \n",
       "297  0.998901  0.998901  ...  0.024551  0.198193  0.830142  0.746503   \n",
       "298  0.998901  0.998901  ...  0.079986  0.461122  0.936530  0.884694   \n",
       "299  0.998901  0.998901  ...  0.230895  0.746526  0.977962  0.951828   \n",
       "\n",
       "      Cov_365   Cov_366   Cov_367   Cov_368   Cov_369   Cov_370  \n",
       "0    0.025107  0.343913  0.228633  0.273383  0.001528  0.276545  \n",
       "1    0.064854  0.566269  0.428022  0.534281  0.004563  0.526242  \n",
       "2    0.157508  0.764517  0.653849  0.777644  0.014427  0.700000  \n",
       "3    0.335096  0.889445  0.826574  0.914221  0.045557  0.700000  \n",
       "4    0.575069  0.951738  0.922977  0.970018  0.134958  0.700000  \n",
       "..        ...       ...       ...       ...       ...       ...  \n",
       "295  0.001050  0.165440  0.479133  1.000000  0.001413  0.074273  \n",
       "296  0.006249  0.368352  0.722819  1.000000  0.005303  0.251452  \n",
       "297  0.038751  0.631744  0.880451  1.000000  0.020475  0.700000  \n",
       "298  0.207089  0.834582  0.953693  1.000000  0.076450  0.700000  \n",
       "299  0.627103  0.936640  0.982432  1.000000  0.246470  0.700000  \n",
       "\n",
       "[300 rows x 373 columns]"
      ]
     },
     "execution_count": 114,
     "metadata": {},
     "output_type": "execute_result"
    }
   ],
   "source": [
    "r_df = pd.DataFrame(data=r_data, columns=r_columns)\n",
    "r_df"
   ]
  },
  {
   "cell_type": "code",
   "execution_count": 115,
   "id": "60e7ab48",
   "metadata": {},
   "outputs": [],
   "source": [
    "r_df.to_csv('./fof/data/r/prepared_data.csv', index=False)"
   ]
  },
  {
   "cell_type": "markdown",
   "id": "6b144662",
   "metadata": {},
   "source": [
    "## Best kinase"
   ]
  },
  {
   "cell_type": "code",
   "execution_count": 118,
   "id": "9bb966b0",
   "metadata": {},
   "outputs": [
    {
     "data": {
      "text/plain": [
       "252"
      ]
     },
     "execution_count": 118,
     "metadata": {},
     "output_type": "execute_result"
    }
   ],
   "source": [
    "kinase_number_dict['EPHB2']"
   ]
  },
  {
   "cell_type": "code",
   "execution_count": 122,
   "id": "7229f3f8",
   "metadata": {},
   "outputs": [
    {
     "data": {
      "text/plain": [
       "264"
      ]
     },
     "execution_count": 122,
     "metadata": {},
     "output_type": "execute_result"
    }
   ],
   "source": [
    "kinase_number_dict['FYN']"
   ]
  },
  {
   "cell_type": "code",
   "execution_count": 123,
   "id": "ad0492a7",
   "metadata": {},
   "outputs": [
    {
     "data": {
      "text/plain": [
       "281"
      ]
     },
     "execution_count": 123,
     "metadata": {},
     "output_type": "execute_result"
    }
   ],
   "source": [
    "kinase_number_dict['LATS2']"
   ]
  },
  {
   "cell_type": "code",
   "execution_count": 124,
   "id": "17132622",
   "metadata": {},
   "outputs": [
    {
     "data": {
      "text/plain": [
       "285"
      ]
     },
     "execution_count": 124,
     "metadata": {},
     "output_type": "execute_result"
    }
   ],
   "source": [
    "kinase_number_dict['LYN']"
   ]
  },
  {
   "cell_type": "code",
   "execution_count": 128,
   "id": "21831c0d",
   "metadata": {},
   "outputs": [
    {
     "data": {
      "text/plain": [
       "294"
      ]
     },
     "execution_count": 128,
     "metadata": {},
     "output_type": "execute_result"
    }
   ],
   "source": [
    "kinase_number_dict['MINK_MINK1']"
   ]
  },
  {
   "cell_type": "code",
   "execution_count": 129,
   "id": "756c2ce7",
   "metadata": {},
   "outputs": [
    {
     "data": {
      "text/plain": [
       "369"
      ]
     },
     "execution_count": 129,
     "metadata": {},
     "output_type": "execute_result"
    }
   ],
   "source": [
    "kinase_number_dict['YES_YES1']"
   ]
  },
  {
   "cell_type": "code",
   "execution_count": null,
   "id": "e06fff7d",
   "metadata": {},
   "outputs": [],
   "source": []
  }
 ],
 "metadata": {
  "kernelspec": {
   "display_name": "kir",
   "language": "python",
   "name": "kir"
  },
  "language_info": {
   "codemirror_mode": {
    "name": "ipython",
    "version": 3
   },
   "file_extension": ".py",
   "mimetype": "text/x-python",
   "name": "python",
   "nbconvert_exporter": "python",
   "pygments_lexer": "ipython3",
   "version": "3.10.13"
  }
 },
 "nbformat": 4,
 "nbformat_minor": 5
}
