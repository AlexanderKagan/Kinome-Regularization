{
 "cells": [
  {
   "cell_type": "code",
   "execution_count": 15,
   "id": "e444db7d",
   "metadata": {},
   "outputs": [],
   "source": [
    "import numpy as np\n",
    "import seaborn as sns\n",
    "import matplotlib.pyplot as plt\n",
    "\n",
    "from RegressionModels import ClusterElasticNet\n",
    "from sklearn.linear_model import ElasticNet"
   ]
  },
  {
   "cell_type": "markdown",
   "id": "e0f3cd7e",
   "metadata": {},
   "source": [
    "## Cluster Elastic Net"
   ]
  },
  {
   "cell_type": "code",
   "execution_count": 16,
   "id": "4cff680a",
   "metadata": {},
   "outputs": [
    {
     "data": {
      "image/png": "[encoded data removed]",
      "text/plain": [
       "<Figure size 432x288 with 2 Axes>"
      ]
     },
     "metadata": {
      "needs_background": "light"
     },
     "output_type": "display_data"
    }
   ],
   "source": [
    "### sanity check\n",
    "n = 100\n",
    "p = 30\n",
    "\n",
    "r = 0.8\n",
    "block = r * np.ones((p//3, p//3))\n",
    "np.fill_diagonal(block, 1)\n",
    "\n",
    "zero_block = np.zeros((p//3, p//3))\n",
    "\n",
    "cov_mat = np.block([[block, zero_block, zero_block], \n",
    "                    [zero_block, block, zero_block],\n",
    "                    [zero_block, zero_block, block]])\n",
    "\n",
    "sns.heatmap(cov_mat)\n",
    "\n",
    "X_tmp = np.random.multivariate_normal(mean=np.zeros(p), cov=cov_mat, size=n)\n",
    "beta_tmp = np.hstack([np.ones(p//3), np.zeros(p//3), -np.ones(p//3)])\n",
    "y_tmp =  X_tmp @ beta_tmp +  0.1 * np.random.randn(n)"
   ]
  },
  {
   "cell_type": "code",
   "execution_count": 17,
   "id": "99ebe1d5",
   "metadata": {},
   "outputs": [
    {
     "name": "stdout",
     "output_type": "stream",
     "text": [
      "Iteration 0, beta_change: 0.0031\n",
      "Iteration 1, beta_change: 0.0025\n",
      "Iteration 2, beta_change: 0.0004\n",
      "[ 0.9527  1.0334  0.9976  1.0242  0.9367  0.9976  1.0153  1.0122  0.9699\n",
      "  1.0455 -0.0597  0.     -0.0145  0.0175 -0.      0.0043 -0.0174  0.0407\n",
      "  0.0205 -0.0035 -1.0153 -0.9925 -1.0006 -0.9921 -0.9692 -0.9953 -1.0232\n",
      " -1.001  -0.9977 -1.012 ] [0.0031]\n"
     ]
    }
   ],
   "source": [
    "CEN = ClusterElasticNet(3, 1e-3, 1e-3, tol=1e-3, max_iter=100, weight_update='random')\n",
    "CEN.fit(X_tmp, y_tmp, verbose=True)\n",
    "print(np.round(CEN.coef_, 4), np.round(CEN.intercept_, 4))"
   ]
  },
  {
   "cell_type": "code",
   "execution_count": 18,
   "id": "68083d9a",
   "metadata": {},
   "outputs": [
    {
     "name": "stdout",
     "output_type": "stream",
     "text": [
      "[ 0.9532  1.0335  0.9973  1.024   0.9385  0.9966  1.0111  1.0119  0.9694\n",
      "  1.045  -0.0588  0.     -0.0156  0.0175  0.      0.0044 -0.019   0.0418\n",
      "  0.0206 -0.0031 -1.0164 -0.9937 -1.0004 -0.99   -0.9684 -0.9948 -1.0224\n",
      " -0.9996 -0.9973 -1.0118] 0.0027\n"
     ]
    }
   ],
   "source": [
    "net = ElasticNet(alpha=2 * 1e-3, l1_ratio=0.5)\n",
    "net.fit(X_tmp, y_tmp)\n",
    "print(np.round(net.coef_, 4), np.round(net.intercept_, 4))"
   ]
  },
  {
   "cell_type": "code",
   "execution_count": 19,
   "id": "8cc305e8",
   "metadata": {},
   "outputs": [
    {
     "data": {
      "image/png": "[encoded data removed]",
      "text/plain": [
       "<Figure size 432x288 with 1 Axes>"
      ]
     },
     "metadata": {
      "needs_background": "light"
     },
     "output_type": "display_data"
    }
   ],
   "source": [
    "plt.plot(beta_tmp, label=\"true\", c='b')\n",
    "plt.plot(net.coef_, label=\"Elastic Net\")\n",
    "plt.plot(CEN.coef_, label=\"CEN\")\n",
    "plt.legend()\n",
    "plt.show()"
   ]
  },
  {
   "cell_type": "code",
   "execution_count": null,
   "id": "25e6fa4f",
   "metadata": {},
   "outputs": [],
   "source": []
  }
 ],
 "metadata": {
  "kernelspec": {
   "display_name": "brew_env",
   "language": "python",
   "name": "brew_env"
  },
  "language_info": {
   "codemirror_mode": {
    "name": "ipython",
    "version": 3
   },
   "file_extension": ".py",
   "mimetype": "text/x-python",
   "name": "python",
   "nbconvert_exporter": "python",
   "pygments_lexer": "ipython3",
   "version": "3.9.13"
  }
 },
 "nbformat": 4,
 "nbformat_minor": 5
}
